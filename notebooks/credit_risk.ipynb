{
 "cells": [
  {
   "cell_type": "code",
   "execution_count": 95,
   "id": "8f871ca6",
   "metadata": {},
   "outputs": [],
   "source": [
    "import pandas as pd\n",
    "import numpy as np\n",
    "import polars as pl\n",
    "\n",
    "import seaborn as sns\n",
    "import matplotlib.pyplot as plt\n",
    "\n",
    "import sys, os\n",
    "\n",
    "# pega o diretório pai (projeto) e adiciona ao path\n",
    "import sys, os\n",
    "proj_root = os.path.abspath(os.path.join(os.getcwd(), os.pardir))\n",
    "if proj_root not in sys.path:\n",
    "    sys.path.insert(0, proj_root)\n",
    "\n",
    "\n",
    "import importlib\n",
    "import funcs.aux_utils\n",
    "importlib.reload(funcs.aux_utils)\n",
    "from funcs.aux_utils import ChartMaker\n",
    "\n",
    "import os\n",
    "\n",
    "from warnings import filterwarnings\n",
    "\n",
    "filterwarnings('ignore')\n",
    "\n",
    "TRAIN_DIR = '../data/parquet_files/train/'\n",
    "TEST_DIR = '../data/parquet_files/test/'\n",
    "\n",
    "pd.set_option('display.max_columns', None)\n",
    "pd.set_option('display.max_rows', 50)\n"
   ]
  },
  {
   "cell_type": "markdown",
   "id": "c79de7ef",
   "metadata": {},
   "source": [
    "# Sobre os dados\n",
    "\n",
    "Em decorrência da quantidade de tabelas e de colunas, será necessário a construção de um Pipeline e de uma classe auxiliar para lidar com esta quantidade massiva de dados.\n",
    "\n",
    "O primeiro ponto da análise dos dados é verificar a distribuição da variável alvo e quantidade de missings das tabelas de treino(target). \n",
    "\n",
    "Por isso, primeiro verificarei a distribuição do target. Após isso realizar a separação do conjunto de validação e de teste estratificado com base na distribuição do variável alvo."
   ]
  },
  {
   "cell_type": "code",
   "execution_count": 96,
   "id": "07734eeb",
   "metadata": {},
   "outputs": [
    {
     "name": "stdout",
     "output_type": "stream",
     "text": [
      "1526659\n"
     ]
    },
    {
     "data": {
      "text/html": [
       "<div><style>\n",
       ".dataframe > thead > tr,\n",
       ".dataframe > tbody > tr {\n",
       "  text-align: right;\n",
       "  white-space: pre-wrap;\n",
       "}\n",
       "</style>\n",
       "<small>shape: (5, 5)</small><table border=\"1\" class=\"dataframe\"><thead><tr><th>case_id</th><th>date_decision</th><th>MONTH</th><th>WEEK_NUM</th><th>target</th></tr><tr><td>i64</td><td>str</td><td>i64</td><td>i64</td><td>i64</td></tr></thead><tbody><tr><td>0</td><td>&quot;2019-01-03&quot;</td><td>201901</td><td>0</td><td>0</td></tr><tr><td>1</td><td>&quot;2019-01-03&quot;</td><td>201901</td><td>0</td><td>0</td></tr><tr><td>2</td><td>&quot;2019-01-04&quot;</td><td>201901</td><td>0</td><td>0</td></tr><tr><td>3</td><td>&quot;2019-01-03&quot;</td><td>201901</td><td>0</td><td>0</td></tr><tr><td>4</td><td>&quot;2019-01-04&quot;</td><td>201901</td><td>0</td><td>1</td></tr></tbody></table></div>"
      ],
      "text/plain": [
       "shape: (5, 5)\n",
       "┌─────────┬───────────────┬────────┬──────────┬────────┐\n",
       "│ case_id ┆ date_decision ┆ MONTH  ┆ WEEK_NUM ┆ target │\n",
       "│ ---     ┆ ---           ┆ ---    ┆ ---      ┆ ---    │\n",
       "│ i64     ┆ str           ┆ i64    ┆ i64      ┆ i64    │\n",
       "╞═════════╪═══════════════╪════════╪══════════╪════════╡\n",
       "│ 0       ┆ 2019-01-03    ┆ 201901 ┆ 0        ┆ 0      │\n",
       "│ 1       ┆ 2019-01-03    ┆ 201901 ┆ 0        ┆ 0      │\n",
       "│ 2       ┆ 2019-01-04    ┆ 201901 ┆ 0        ┆ 0      │\n",
       "│ 3       ┆ 2019-01-03    ┆ 201901 ┆ 0        ┆ 0      │\n",
       "│ 4       ┆ 2019-01-04    ┆ 201901 ┆ 0        ┆ 1      │\n",
       "└─────────┴───────────────┴────────┴──────────┴────────┘"
      ]
     },
     "execution_count": 96,
     "metadata": {},
     "output_type": "execute_result"
    }
   ],
   "source": [
    "data = pl.read_parquet(f'{TRAIN_DIR}/train_base.parquet')\n",
    "\n",
    "\n",
    "print(data.n_unique())\n",
    "data.head()"
   ]
  },
  {
   "cell_type": "code",
   "execution_count": 97,
   "id": "26bbb378",
   "metadata": {},
   "outputs": [
    {
     "data": {
      "image/png": "[encoded data removed]",
      "text/plain": [
       "<Figure size 600x600 with 1 Axes>"
      ]
     },
     "metadata": {},
     "output_type": "display_data"
    },
    {
     "name": "stdout",
     "output_type": "stream",
     "text": [
      "Proporção do target\n",
      "Clientes não inadimplentes (em %): 3.14\n",
      "Clientes não inadimplentes (em %): 96.86\n"
     ]
    }
   ],
   "source": [
    "chart_maker = ChartMaker(figure_size=(6, 6))\n",
    "\n",
    "count_target = data['target'].value_counts(normalize=True)\n",
    "count_target = count_target.with_columns([\n",
    "    (pl.col('proportion') * 100).round(2).alias('proportion')\n",
    "])\n",
    "\n",
    "chart_maker.plot_bar_chart(X=count_target['target'], y=count_target['proportion'])\n",
    "\n",
    "print('Proporção do target')\n",
    "print(f'Clientes não inadimplentes (em %): {count_target['proportion'][0]}')\n",
    "print(f'Clientes não inadimplentes (em %): {count_target['proportion'][1]}')\n",
    "\n",
    "del chart_maker"
   ]
  },
  {
   "cell_type": "markdown",
   "id": "9e7041f6",
   "metadata": {},
   "source": [
    "Podemos ver que a classe alvo é bastante desbalanceada, tendo cerca de apenas 3,1% dos clientes inadimplementes. Denota-se então a necessidade da aplicação e cuidado de técnicas de modo a não enviesar o modelo e causar um overfit a respeito do conjunto de treinamento. Dessa forma, para garantir que o processo de EDA e de criação do modelo esteja seguro de vazamento de dados, separaremos o conjunto de dados em: \n",
    "\n",
    "    1. Treino\n",
    "    2. Validação\n",
    "    3. Teste\n",
    "\n",
    "Utilizaremos a função train_test_split do scikit-learn com o parâmetro \"stratify\" aplicado em virtude do desbalanceamento do target."
   ]
  },
  {
   "cell_type": "code",
   "execution_count": 103,
   "id": "5668f338",
   "metadata": {},
   "outputs": [
    {
     "name": "stdout",
     "output_type": "stream",
     "text": [
      "Shape do conjunto de variáveis preditoras de treinamento: (915995, 4) | proporção: 60.00\n",
      "Shape do conjunto de variáveis preditoras de validação: (305332, 4) | proporção: 20.00 \n",
      "Shape do conjunto de variáveis preditoras de teste: (305332, 4) | proporção: 20.00 \n",
      "Shape da variável alvo de treinamento: (915995,) | proporção: 60.00 \n",
      "Shape da variável alvo de validação: (305332,) | proporção: 20.00 \n",
      "Shape da variável alvo de test: (305332,) | proporção: 20.00 \n"
     ]
    },
    {
     "data": {
      "text/html": [
       "<div><style>\n",
       ".dataframe > thead > tr,\n",
       ".dataframe > tbody > tr {\n",
       "  text-align: right;\n",
       "  white-space: pre-wrap;\n",
       "}\n",
       "</style>\n",
       "<small>shape: (5, 5)</small><table border=\"1\" class=\"dataframe\"><thead><tr><th>case_id</th><th>date_decision</th><th>MONTH</th><th>WEEK_NUM</th><th>target</th></tr><tr><td>i64</td><td>str</td><td>i64</td><td>i64</td><td>i64</td></tr></thead><tbody><tr><td>827467</td><td>&quot;2019-10-11&quot;</td><td>201910</td><td>40</td><td>0</td></tr><tr><td>1540584</td><td>&quot;2019-09-16&quot;</td><td>201909</td><td>36</td><td>0</td></tr><tr><td>1728905</td><td>&quot;2020-01-02&quot;</td><td>202001</td><td>52</td><td>0</td></tr><tr><td>16534</td><td>&quot;2019-05-28&quot;</td><td>201905</td><td>21</td><td>0</td></tr><tr><td>749013</td><td>&quot;2019-07-22&quot;</td><td>201907</td><td>28</td><td>0</td></tr></tbody></table></div>"
      ],
      "text/plain": [
       "shape: (5, 5)\n",
       "┌─────────┬───────────────┬────────┬──────────┬────────┐\n",
       "│ case_id ┆ date_decision ┆ MONTH  ┆ WEEK_NUM ┆ target │\n",
       "│ ---     ┆ ---           ┆ ---    ┆ ---      ┆ ---    │\n",
       "│ i64     ┆ str           ┆ i64    ┆ i64      ┆ i64    │\n",
       "╞═════════╪═══════════════╪════════╪══════════╪════════╡\n",
       "│ 827467  ┆ 2019-10-11    ┆ 201910 ┆ 40       ┆ 0      │\n",
       "│ 1540584 ┆ 2019-09-16    ┆ 201909 ┆ 36       ┆ 0      │\n",
       "│ 1728905 ┆ 2020-01-02    ┆ 202001 ┆ 52       ┆ 0      │\n",
       "│ 16534   ┆ 2019-05-28    ┆ 201905 ┆ 21       ┆ 0      │\n",
       "│ 749013  ┆ 2019-07-22    ┆ 201907 ┆ 28       ┆ 0      │\n",
       "└─────────┴───────────────┴────────┴──────────┴────────┘"
      ]
     },
     "execution_count": 103,
     "metadata": {},
     "output_type": "execute_result"
    }
   ],
   "source": [
    "from sklearn.model_selection import train_test_split\n",
    "\n",
    "X = data.drop('target')\n",
    "y = data['target']\n",
    "\n",
    "X_temp, X_test, y_temp, y_test = train_test_split(X, y, stratify=y, test_size=0.2, random_state=42)\n",
    "\n",
    "X_train, X_val, y_train, y_val = train_test_split(X_temp, y_temp, stratify=y_temp, test_size=0.25, random_state=42)\n",
    "\n",
    "print(f'Shape do conjunto de variáveis preditoras de treinamento: {X_train.shape} | proporção: {X_train.shape[0] / data.shape[0] * 100:.2f}')\n",
    "print(f'Shape do conjunto de variáveis preditoras de validação: {X_val.shape} | proporção: {X_val.shape[0] / data.shape[0] * 100:.2f} ')\n",
    "print(f'Shape do conjunto de variáveis preditoras de teste: {X_test.shape} | proporção: {X_test.shape[0] / data.shape[0] * 100:.2f} ')\n",
    "print(f'Shape da variável alvo de treinamento: {y_train.shape} | proporção: {y_train.shape[0] / data.shape[0] * 100:.2f} ')\n",
    "print(f'Shape da variável alvo de validação: {y_val.shape} | proporção: {y_val.shape[0] / data.shape[0] * 100:.2f} ')\n",
    "print(f'Shape da variável alvo de test: {y_test.shape} | proporção: {y_test.shape[0] / data.shape[0] * 100:.2f} ')\n",
    "\n",
    "train = X_train.with_columns(y_train)\n",
    "val = X_val.with_columns(y_val)\n",
    "test = X_test.with_columns(y_test)"
   ]
  },
  {
   "cell_type": "markdown",
   "id": "19ead8c1",
   "metadata": {},
   "source": [
    "Separados em seus respectivos conjuntos, vamos avaliar quantos valores missing o conjunto de treino possui."
   ]
  },
  {
   "cell_type": "code",
   "execution_count": null,
   "id": "108ecc9f",
   "metadata": {},
   "outputs": [
    {
     "data": {
      "text/html": [
       "<div><style>\n",
       ".dataframe > thead > tr,\n",
       ".dataframe > tbody > tr {\n",
       "  text-align: right;\n",
       "  white-space: pre-wrap;\n",
       "}\n",
       "</style>\n",
       "<small>shape: (1, 5)</small><table border=\"1\" class=\"dataframe\"><thead><tr><th>case_id</th><th>date_decision</th><th>MONTH</th><th>WEEK_NUM</th><th>target</th></tr><tr><td>u32</td><td>u32</td><td>u32</td><td>u32</td><td>u32</td></tr></thead><tbody><tr><td>0</td><td>0</td><td>0</td><td>0</td><td>0</td></tr></tbody></table></div>"
      ],
      "text/plain": [
       "shape: (1, 5)\n",
       "┌─────────┬───────────────┬───────┬──────────┬────────┐\n",
       "│ case_id ┆ date_decision ┆ MONTH ┆ WEEK_NUM ┆ target │\n",
       "│ ---     ┆ ---           ┆ ---   ┆ ---      ┆ ---    │\n",
       "│ u32     ┆ u32           ┆ u32   ┆ u32      ┆ u32    │\n",
       "╞═════════╪═══════════════╪═══════╪══════════╪════════╡\n",
       "│ 0       ┆ 0             ┆ 0     ┆ 0        ┆ 0      │\n",
       "└─────────┴───────────────┴───────┴──────────┴────────┘"
      ]
     },
     "execution_count": 110,
     "metadata": {},
     "output_type": "execute_result"
    }
   ],
   "source": [
    "missings = train.null_count()\n",
    "\n",
    "missings"
   ]
  },
  {
   "cell_type": "markdown",
   "id": "4aa2387d",
   "metadata": {},
   "source": [
    "Mesmo que o dataset não possua valores faltantes, é crucial que durante a fase de pré-procesamento algum tipo de estratégia de imputing seja realizada, dessa forma, ao fazer a Pipeline de pré-processamento, incluiremos funções responsáveis por lidar com tais valores.\n",
    "\n",
    "A seguida, vamos definir como trataremos as demais tabelas do dataset. Portanto, para que o processo de leitura e EDA da tabela seja bem sucedido e de maneira eficaz, iremos aplicar algumas transformações nos dados. Para isso, seguiremos algumas premissas:\n",
    "\n",
    "- Tabelas com depth > 1 (que representam medidas retiradas dos dados estáticos) serão agregadas (utilizando \"case_id\") a partir de alguns critérios, são eles:\n",
    "\n",
    "    - Disclaimer: As colunas das tabelas com profundidade possuem identificadores em seus nomes, indicando qual tipo de transformações foram aplicadas nestas tabelas, são elas:\n",
    "        1. **P** (Days over due - Dias em atraso): Medidas que envolvem datas de atrasos, proporções de datas e etc.\n",
    "        2. **M** (Masking categorias - Categorias com máscaras): Categorias como genêro, status e outros dados categóricos\n",
    "        3. **A** (Tranform Ammount - Transformações de quantidade): Quantidades numéricas que foram transformadas ou processadas seguindo alguma lógica\n",
    "        4. **D** (Transform Date - Transformações de datas): Colunas que dizem a respeito sobre datas que foram adicionadas como informações relevantes \n",
    "        5. **T** e **L** (Unespecified Transform - Transformações não inespecificadas): Valores que não se encaixam em nenhuma das outras categorias e não possuem \"tracking\" de informações, entretanto, podem sinalizar informações relevantes ao modelo.\n",
    "\n",
    "    - **Para colunas terminadas em P e A (dados numéricos)**: Será aplicado um casting de tipo e agregações por -> Valor máximo, último valor e média\n",
    "    - **Para colunas terminadas em D**: Será aplicado casting para date e agregações por -> Valor máximo, última data e média\n",
    "    - **Para colunas terminadas em M (Strings)**: Será aplicado um casting para \"category\" e posteriormente agregadas por -> Valor máximo (lexicograficamente o último) e o último valor\n",
    "    - **Para outras colunas**: Definiremos agregações por -> Máximo e último valor \n",
    "\n",
    "Portanto para estes processos ocorrerem de forma harmoniosa e automatizada utilizaremos as classes definidas no pacote funcs.aux_utils.py com o intuito de aplicar tais transformações e ao final juntar todas as tabelas baseado no \"case_id\"."
   ]
  },
  {
   "cell_type": "markdown",
   "id": "ab928a0a",
   "metadata": {},
   "source": []
  }
 ],
 "metadata": {
  "kernelspec": {
   "display_name": "venv",
   "language": "python",
   "name": "python3"
  },
  "language_info": {
   "codemirror_mode": {
    "name": "ipython",
    "version": 3
   },
   "file_extension": ".py",
   "mimetype": "text/x-python",
   "name": "python",
   "nbconvert_exporter": "python",
   "pygments_lexer": "ipython3",
   "version": "3.13.1"
  }
 },
 "nbformat": 4,
 "nbformat_minor": 5
}
