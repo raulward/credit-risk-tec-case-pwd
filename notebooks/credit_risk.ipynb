{
 "cells": [
  {
   "cell_type": "markdown",
   "id": "a9a73972",
   "metadata": {},
   "source": [
    "O primeiro passo é importar os dados que foram disponibilizados no Kaggle (Home Credit Stability Model Competition), por isso, utilizando a API do Kaggle, importaremos apenas os dados parquet (pois são mais leves)."
   ]
  },
  {
   "cell_type": "code",
   "execution_count": null,
   "id": "28e836b3",
   "metadata": {},
   "outputs": [
    {
     "name": "stderr",
     "output_type": "stream",
     "text": [
      "\n",
      "  0%|          | 0.00/3.14G [00:00<?, ?B/s]\n",
      "  0%|          | 1.00M/3.14G [00:00<07:46, 7.23MB/s]\n",
      "  2%|▏         | 51.0M/3.14G [00:00<00:12, 263MB/s] \n",
      "  3%|▎         | 95.0M/3.14G [00:00<00:09, 343MB/s]\n",
      "  4%|▍         | 131M/3.14G [00:00<00:09, 337MB/s] \n",
      "  5%|▌         | 177M/3.14G [00:00<00:08, 385MB/s]\n",
      "  7%|▋         | 218M/3.14G [00:00<00:07, 399MB/s]\n",
      "  8%|▊         | 264M/3.14G [00:00<00:07, 425MB/s]\n",
      " 10%|▉         | 307M/3.14G [00:00<00:07, 430MB/s]\n",
      " 11%|█         | 349M/3.14G [00:00<00:07, 426MB/s]\n",
      " 12%|█▏        | 390M/3.14G [00:01<00:07, 393MB/s]\n",
      " 13%|█▎        | 429M/3.14G [00:01<00:08, 338MB/s]\n",
      " 15%|█▍        | 470M/3.14G [00:01<00:07, 361MB/s]\n",
      " 16%|█▌        | 520M/3.14G [00:01<00:07, 403MB/s]\n",
      " 18%|█▊        | 566M/3.14G [00:01<00:06, 423MB/s]\n",
      " 19%|█▉        | 608M/3.14G [00:01<00:06, 408MB/s]\n",
      " 20%|██        | 648M/3.14G [00:01<00:07, 375MB/s]\n",
      " 21%|██▏       | 685M/3.14G [00:01<00:07, 365MB/s]\n",
      " 22%|██▏       | 721M/3.14G [00:02<00:08, 298MB/s]\n",
      " 24%|██▎       | 758M/3.14G [00:02<00:08, 319MB/s]\n",
      " 25%|██▌       | 812M/3.14G [00:02<00:06, 376MB/s]\n",
      " 27%|██▋       | 871M/3.14G [00:02<00:05, 426MB/s]\n",
      " 29%|██▉       | 934M/3.14G [00:02<00:04, 487MB/s]\n",
      " 31%|███       | 983M/3.14G [00:02<00:04, 493MB/s]\n",
      " 32%|███▏      | 1.01G/3.14G [00:02<00:04, 503MB/s]\n",
      " 34%|███▎      | 1.06G/3.14G [00:02<00:04, 508MB/s]\n",
      " 35%|███▌      | 1.11G/3.14G [00:02<00:04, 524MB/s]\n",
      " 37%|███▋      | 1.17G/3.14G [00:03<00:03, 540MB/s]\n",
      " 39%|███▉      | 1.22G/3.14G [00:03<00:03, 556MB/s]\n",
      " 41%|████      | 1.28G/3.14G [00:03<00:03, 540MB/s]\n",
      " 42%|████▏     | 1.33G/3.14G [00:03<00:03, 565MB/s]\n",
      " 44%|████▍     | 1.39G/3.14G [00:03<00:03, 561MB/s]\n",
      " 46%|████▌     | 1.44G/3.14G [00:03<00:03, 545MB/s]\n",
      " 47%|████▋     | 1.49G/3.14G [00:03<00:03, 530MB/s]\n",
      " 49%|████▉     | 1.55G/3.14G [00:03<00:03, 546MB/s]\n",
      " 51%|█████▏    | 1.62G/3.14G [00:03<00:02, 593MB/s]\n",
      " 53%|█████▎    | 1.68G/3.14G [00:03<00:02, 605MB/s]\n",
      " 55%|█████▌    | 1.74G/3.14G [00:04<00:02, 626MB/s]\n",
      " 57%|█████▋    | 1.80G/3.14G [00:04<00:02, 617MB/s]\n",
      " 59%|█████▉    | 1.86G/3.14G [00:04<00:02, 628MB/s]\n",
      " 61%|██████▏   | 1.93G/3.14G [00:04<00:02, 653MB/s]\n",
      " 63%|██████▎   | 1.99G/3.14G [00:04<00:01, 625MB/s]\n",
      " 65%|██████▌   | 2.05G/3.14G [00:04<00:01, 617MB/s]\n",
      " 67%|██████▋   | 2.10G/3.14G [00:04<00:02, 514MB/s]\n",
      " 69%|██████▊   | 2.16G/3.14G [00:04<00:02, 499MB/s]\n",
      " 70%|███████   | 2.20G/3.14G [00:05<00:02, 493MB/s]\n",
      " 72%|███████▏  | 2.25G/3.14G [00:05<00:01, 498MB/s]\n",
      " 73%|███████▎  | 2.30G/3.14G [00:05<00:01, 472MB/s]\n",
      " 75%|███████▌  | 2.36G/3.14G [00:05<00:01, 530MB/s]\n",
      " 77%|███████▋  | 2.42G/3.14G [00:05<00:01, 527MB/s]\n",
      " 79%|███████▉  | 2.49G/3.14G [00:05<00:01, 580MB/s]\n",
      " 81%|████████  | 2.54G/3.14G [00:05<00:01, 579MB/s]\n",
      " 83%|████████▎ | 2.61G/3.14G [00:05<00:00, 611MB/s]\n",
      " 85%|████████▍ | 2.67G/3.14G [00:05<00:00, 594MB/s]\n",
      " 87%|████████▋ | 2.72G/3.14G [00:06<00:00, 539MB/s]\n",
      " 88%|████████▊ | 2.78G/3.14G [00:06<00:00, 528MB/s]\n",
      " 90%|████████▉ | 2.83G/3.14G [00:06<00:00, 461MB/s]\n",
      " 92%|█████████▏| 2.90G/3.14G [00:06<00:00, 531MB/s]\n",
      " 94%|█████████▍| 2.97G/3.14G [00:06<00:00, 544MB/s]\n",
      " 97%|█████████▋| 3.04G/3.14G [00:06<00:00, 606MB/s]\n",
      " 99%|█████████▉| 3.11G/3.14G [00:06<00:00, 639MB/s]\n",
      "100%|██████████| 3.14G/3.14G [00:06<00:00, 497MB/s]\n"
     ]
    },
    {
     "name": "stdout",
     "output_type": "stream",
     "text": [
      "Downloading home-credit-credit-risk-model-stability.zip to ../data\n",
      "\n",
      "Extraídos 68 arquivos '.parquet' em 'C:\\Users\\raulw\\Documents\\projetos\\entregas\\credit-risk-tec-case-pwd\\data\\parquet_files'\n"
     ]
    }
   ],
   "source": [
    "!kaggle competitions download -c home-credit-credit-risk-model-stability -p ../data/"
   ]
  },
  {
   "cell_type": "code",
   "execution_count": 1,
   "id": "2db147c9",
   "metadata": {},
   "outputs": [],
   "source": [
    "# pega o diretório pai (projeto) e adiciona ao path\n",
    "import sys, os\n",
    "proj_root = os.path.abspath(os.path.join(os.getcwd(), os.pardir))\n",
    "if proj_root not in sys.path:\n",
    "    sys.path.insert(0, proj_root)\n",
    "\n",
    "import importlib\n",
    "import funcs.aux_utils as f_aux\n",
    "importlib.reload(f_aux)\n",
    "from pathlib import Path\n",
    "\n",
    "ZIP_PATH = Path(\"../data/home-credit-credit-risk-model-stability.zip\")\n",
    "DEST_DIR = Path(\"../data/parquet_files\")\n",
    "EXTENSION = \".parquet\""
   ]
  },
  {
   "cell_type": "code",
   "execution_count": 2,
   "id": "128ce59d",
   "metadata": {},
   "outputs": [
    {
     "name": "stdout",
     "output_type": "stream",
     "text": [
      "Extraídos 68 arquivos '.parquet' em 'C:\\Users\\raulw\\Documents\\projetos\\entregas\\credit-risk-tec-case-pwd\\data\\parquet_files'\n"
     ]
    }
   ],
   "source": [
    "handler = f_aux.HandleData()\n",
    "handler.unzip_files(\n",
    "    zip_path = ZIP_PATH,\n",
    "    extension = EXTENSION,\n",
    "    dest_dir  =  DEST_DIR# opcional\n",
    ")"
   ]
  },
  {
   "cell_type": "code",
   "execution_count": 26,
   "id": "8f871ca6",
   "metadata": {},
   "outputs": [
    {
     "data": {
      "text/plain": [
       "<polars.config.Config at 0x20b525a3890>"
      ]
     },
     "execution_count": 26,
     "metadata": {},
     "output_type": "execute_result"
    }
   ],
   "source": [
    "import pandas as pd\n",
    "import numpy as np\n",
    "import polars as pl\n",
    "\n",
    "import seaborn as sns\n",
    "import matplotlib.pyplot as plt\n",
    "\n",
    "from warnings import filterwarnings\n",
    "\n",
    "filterwarnings('ignore')\n",
    "\n",
    "pd.set_option('display.max_columns', None)\n",
    "pd.set_option('display.max_rows', 50)\n",
    "\n",
    "\n",
    "pl.Config(\n",
    "    **dict(\n",
    "        tbl_formatting=\"ASCII_FULL_CONDENSED\",\n",
    "        tbl_hide_column_data_types=True,\n",
    "        tbl_hide_dataframe_shape=True,\n",
    "        fmt_float=\"mixed\",\n",
    "        tbl_cell_alignment=\"CENTER\",\n",
    "        tbl_hide_dtype_separator=True,\n",
    "        tbl_cols=100,\n",
    "        tbl_rows=None,\n",
    "        fmt_str_lengths=100,\n",
    "    )\n",
    ")\n"
   ]
  },
  {
   "cell_type": "markdown",
   "id": "c79de7ef",
   "metadata": {},
   "source": [
    "# Sobre os dados\n",
    "\n",
    "Em decorrência da quantidade de tabelas e de colunas, será necessário a construção de um Pipeline e de uma classe auxiliar para lidar com esta quantidade massiva de dados.\n",
    "\n",
    "O primeiro ponto da análise dos dados é verificar a distribuição da variável alvo e quantidade de missings das tabelas de treino(target). \n",
    "\n",
    "Por isso, primeiro verificarei a distribuição do target. Após isso realizar a separação do conjunto de validação e de teste estratificado com base na distribuição do variável alvo."
   ]
  },
  {
   "cell_type": "code",
   "execution_count": 4,
   "id": "07734eeb",
   "metadata": {},
   "outputs": [
    {
     "name": "stdout",
     "output_type": "stream",
     "text": [
      "1526659\n"
     ]
    },
    {
     "data": {
      "text/html": [
       "<div><style>\n",
       ".dataframe > thead > tr,\n",
       ".dataframe > tbody > tr {\n",
       "  text-align: right;\n",
       "  white-space: pre-wrap;\n",
       "}\n",
       "</style>\n",
       "<table border=\"1\" class=\"dataframe\"><thead><tr><th>case_id</th><th>date_decision</th><th>MONTH</th><th>WEEK_NUM</th><th>target</th></tr></thead><tbody><tr><td>0</td><td>&quot;2019-01-03&quot;</td><td>201901</td><td>0</td><td>0</td></tr><tr><td>1</td><td>&quot;2019-01-03&quot;</td><td>201901</td><td>0</td><td>0</td></tr><tr><td>2</td><td>&quot;2019-01-04&quot;</td><td>201901</td><td>0</td><td>0</td></tr><tr><td>3</td><td>&quot;2019-01-03&quot;</td><td>201901</td><td>0</td><td>0</td></tr><tr><td>4</td><td>&quot;2019-01-04&quot;</td><td>201901</td><td>0</td><td>1</td></tr></tbody></table></div>"
      ],
      "text/plain": [
       "+---------+---------------+--------+----------+--------+\n",
       "| case_id | date_decision |  MONTH | WEEK_NUM | target |\n",
       "+======================================================+\n",
       "|    0    |   2019-01-03  | 201901 |     0    |    0   |\n",
       "|    1    |   2019-01-03  | 201901 |     0    |    0   |\n",
       "|    2    |   2019-01-04  | 201901 |     0    |    0   |\n",
       "|    3    |   2019-01-03  | 201901 |     0    |    0   |\n",
       "|    4    |   2019-01-04  | 201901 |     0    |    1   |\n",
       "+---------+---------------+--------+----------+--------+"
      ]
     },
     "execution_count": 4,
     "metadata": {},
     "output_type": "execute_result"
    }
   ],
   "source": [
    "data = pl.read_parquet(f'{DEST_DIR}/train_base.parquet')\n",
    "\n",
    "\n",
    "print(data.n_unique())\n",
    "data.head()"
   ]
  },
  {
   "cell_type": "code",
   "execution_count": 5,
   "id": "26bbb378",
   "metadata": {},
   "outputs": [
    {
     "data": {
      "image/png": "[encoded data removed]",
      "text/plain": [
       "<Figure size 600x600 with 1 Axes>"
      ]
     },
     "metadata": {},
     "output_type": "display_data"
    },
    {
     "name": "stdout",
     "output_type": "stream",
     "text": [
      "Proporção do target\n",
      "Clientes não inadimplentes (em %): 96.86\n",
      "Clientes não inadimplentes (em %): 3.14\n"
     ]
    }
   ],
   "source": [
    "chart_maker = f_aux.ChartMaker(figure_size=(6, 6))\n",
    "\n",
    "count_target = data['target'].value_counts(normalize=True)\n",
    "count_target = count_target.with_columns([\n",
    "    (pl.col('proportion') * 100).round(2).alias('proportion')\n",
    "])\n",
    "\n",
    "chart_maker.plot_bar_chart(X=count_target['target'], y=count_target['proportion'])\n",
    "\n",
    "print('Proporção do target')\n",
    "print(f'Clientes não inadimplentes (em %): {count_target['proportion'][0]}')\n",
    "print(f'Clientes não inadimplentes (em %): {count_target['proportion'][1]}')\n",
    "\n",
    "del chart_maker"
   ]
  },
  {
   "cell_type": "markdown",
   "id": "9e7041f6",
   "metadata": {},
   "source": [
    "Podemos ver que a classe alvo é bastante desbalanceada, tendo cerca de apenas 3,1% dos clientes inadimplementes. Denota-se então a necessidade da aplicação e cuidado de técnicas de modo a não enviesar o modelo e causar um overfit a respeito do conjunto de treinamento. Dessa forma, para garantir que o processo de EDA e de criação do modelo esteja seguro de vazamento de dados, separaremos o conjunto de dados em: \n",
    "\n",
    "    1. Treino\n",
    "    2. Validação\n",
    "    3. Teste\n",
    "\n",
    "Utilizaremos a função train_test_split do scikit-learn com o parâmetro \"stratify\" aplicado em virtude do desbalanceamento do target."
   ]
  },
  {
   "cell_type": "code",
   "execution_count": 6,
   "id": "5668f338",
   "metadata": {},
   "outputs": [
    {
     "name": "stdout",
     "output_type": "stream",
     "text": [
      "Shape do conjunto de variáveis preditoras de treinamento: (915995, 2) | proporção: 60.00\n",
      "Shape do conjunto de variáveis preditoras de validação: (305332, 2) | proporção: 20.00 \n",
      "Shape do conjunto de variáveis preditoras de teste: (305332, 2) | proporção: 20.00 \n",
      "Shape da variável alvo de treinamento: (915995,) | proporção: 60.00 \n",
      "Shape da variável alvo de validação: (305332,) | proporção: 20.00 \n",
      "Shape da variável alvo de test: (305332,) | proporção: 20.00 \n"
     ]
    }
   ],
   "source": [
    "from sklearn.model_selection import train_test_split\n",
    "\n",
    "X = data.drop(['target', 'WEEK_NUM', 'MONTH'])\n",
    "y = data['target']\n",
    "\n",
    "X_temp, X_test, y_temp, y_test = train_test_split(X, y, stratify=y, test_size=0.2, random_state=42)\n",
    "\n",
    "X_train, X_val, y_train, y_val = train_test_split(X_temp, y_temp, stratify=y_temp, test_size=0.25, random_state=42)\n",
    "\n",
    "print(f'Shape do conjunto de variáveis preditoras de treinamento: {X_train.shape} | proporção: {X_train.shape[0] / data.shape[0] * 100:.2f}')\n",
    "print(f'Shape do conjunto de variáveis preditoras de validação: {X_val.shape} | proporção: {X_val.shape[0] / data.shape[0] * 100:.2f} ')\n",
    "print(f'Shape do conjunto de variáveis preditoras de teste: {X_test.shape} | proporção: {X_test.shape[0] / data.shape[0] * 100:.2f} ')\n",
    "print(f'Shape da variável alvo de treinamento: {y_train.shape} | proporção: {y_train.shape[0] / data.shape[0] * 100:.2f} ')\n",
    "print(f'Shape da variável alvo de validação: {y_val.shape} | proporção: {y_val.shape[0] / data.shape[0] * 100:.2f} ')\n",
    "print(f'Shape da variável alvo de test: {y_test.shape} | proporção: {y_test.shape[0] / data.shape[0] * 100:.2f} ')\n",
    "\n",
    "train = X_train.with_columns(y_train)\n",
    "val = X_val.with_columns(y_val)\n",
    "test = X_test.with_columns(y_test)"
   ]
  },
  {
   "cell_type": "markdown",
   "id": "19ead8c1",
   "metadata": {},
   "source": [
    "Separados em seus respectivos conjuntos, vamos avaliar quantos valores missing o conjunto de treino possui. Além disso, vamos verificar as tabelas que temos e quais seus respectivos shapes e quantidade de missings também."
   ]
  },
  {
   "cell_type": "code",
   "execution_count": 7,
   "id": "108ecc9f",
   "metadata": {},
   "outputs": [
    {
     "data": {
      "text/html": [
       "<div><style>\n",
       ".dataframe > thead > tr,\n",
       ".dataframe > tbody > tr {\n",
       "  text-align: right;\n",
       "  white-space: pre-wrap;\n",
       "}\n",
       "</style>\n",
       "<table border=\"1\" class=\"dataframe\"><thead><tr><th>case_id</th><th>date_decision</th><th>target</th></tr></thead><tbody><tr><td>0</td><td>0</td><td>0</td></tr></tbody></table></div>"
      ],
      "text/plain": [
       "+---------+---------------+--------+\n",
       "| case_id | date_decision | target |\n",
       "+==================================+\n",
       "|    0    |       0       |    0   |\n",
       "+---------+---------------+--------+"
      ]
     },
     "execution_count": 7,
     "metadata": {},
     "output_type": "execute_result"
    }
   ],
   "source": [
    "missings = train.null_count()\n",
    "\n",
    "missings"
   ]
  },
  {
   "cell_type": "code",
   "execution_count": null,
   "id": "1c2e8c0d",
   "metadata": {},
   "outputs": [
    {
     "name": "stdout",
     "output_type": "stream",
     "text": [
      "Arquivos disponíveis: ['test_applprev_1_0.parquet', 'test_applprev_1_1.parquet', 'test_applprev_1_2.parquet', 'test_applprev_2.parquet', 'test_base.parquet', 'test_credit_bureau_a_1_0.parquet', 'test_credit_bureau_a_1_1.parquet', 'test_credit_bureau_a_1_2.parquet', 'test_credit_bureau_a_1_3.parquet', 'test_credit_bureau_a_1_4.parquet', 'test_credit_bureau_a_2_0.parquet', 'test_credit_bureau_a_2_1.parquet', 'test_credit_bureau_a_2_10.parquet', 'test_credit_bureau_a_2_11.parquet', 'test_credit_bureau_a_2_2.parquet', 'test_credit_bureau_a_2_3.parquet', 'test_credit_bureau_a_2_4.parquet', 'test_credit_bureau_a_2_5.parquet', 'test_credit_bureau_a_2_6.parquet', 'test_credit_bureau_a_2_7.parquet', 'test_credit_bureau_a_2_8.parquet', 'test_credit_bureau_a_2_9.parquet', 'test_credit_bureau_b_1.parquet', 'test_credit_bureau_b_2.parquet', 'test_debitcard_1.parquet', 'test_deposit_1.parquet', 'test_other_1.parquet', 'test_person_1.parquet', 'test_person_2.parquet', 'test_static_0_0.parquet', 'test_static_0_1.parquet', 'test_static_0_2.parquet', 'test_static_cb_0.parquet', 'test_tax_registry_a_1.parquet', 'test_tax_registry_b_1.parquet', 'test_tax_registry_c_1.parquet', 'train_applprev_1_0.parquet', 'train_applprev_1_1.parquet', 'train_applprev_2.parquet', 'train_base.parquet', 'train_credit_bureau_a_1_0.parquet', 'train_credit_bureau_a_1_1.parquet', 'train_credit_bureau_a_1_2.parquet', 'train_credit_bureau_a_1_3.parquet', 'train_credit_bureau_a_2_0.parquet', 'train_credit_bureau_a_2_1.parquet', 'train_credit_bureau_a_2_10.parquet', 'train_credit_bureau_a_2_2.parquet', 'train_credit_bureau_a_2_3.parquet', 'train_credit_bureau_a_2_4.parquet', 'train_credit_bureau_a_2_5.parquet', 'train_credit_bureau_a_2_6.parquet', 'train_credit_bureau_a_2_7.parquet', 'train_credit_bureau_a_2_8.parquet', 'train_credit_bureau_a_2_9.parquet', 'train_credit_bureau_b_1.parquet', 'train_credit_bureau_b_2.parquet', 'train_debitcard_1.parquet', 'train_deposit_1.parquet', 'train_other_1.parquet', 'train_person_1.parquet', 'train_person_2.parquet', 'train_static_0_0.parquet', 'train_static_0_1.parquet', 'train_static_cb_0.parquet', 'train_tax_registry_a_1.parquet', 'train_tax_registry_b_1.parquet', 'train_tax_registry_c_1.parquet']\n"
     ]
    },
    {
     "data": {
      "text/html": [
       "<div><style>\n",
       ".dataframe > thead > tr,\n",
       ".dataframe > tbody > tr {\n",
       "  text-align: right;\n",
       "  white-space: pre-wrap;\n",
       "}\n",
       "</style>\n",
       "<table border=\"1\" class=\"dataframe\"><thead><tr><th>case_id</th><th>actualdpd_943P</th><th>annuity_853A</th><th>approvaldate_319D</th><th>byoccupationinc_3656910L</th><th>cancelreason_3545846M</th><th>childnum_21L</th><th>creationdate_885D</th><th>credacc_actualbalance_314A</th><th>credacc_credlmt_575A</th><th>credacc_maxhisbal_375A</th><th>credacc_minhisbal_90A</th><th>credacc_status_367L</th><th>credacc_transactions_402L</th><th>credamount_590A</th><th>credtype_587L</th><th>currdebt_94A</th><th>dateactivated_425D</th><th>district_544M</th><th>downpmt_134A</th><th>dtlastpmt_581D</th><th>dtlastpmtallstes_3545839D</th><th>education_1138M</th><th>employedfrom_700D</th><th>familystate_726L</th><th>firstnonzeroinstldate_307D</th><th>inittransactioncode_279L</th><th>isbidproduct_390L</th><th>isdebitcard_527L</th><th>mainoccupationinc_437A</th><th>maxdpdtolerance_577P</th><th>num_group1</th><th>outstandingdebt_522A</th><th>pmtnum_8L</th><th>postype_4733339M</th><th>profession_152M</th><th>rejectreason_755M</th><th>rejectreasonclient_4145042M</th><th>revolvingaccount_394A</th><th>status_219L</th><th>tenor_203L</th></tr></thead><tbody><tr><td>57543</td><td>0.0</td><td>935.2</td><td>&quot;2018-10-24&quot;</td><td>null</td><td>&quot;a55475b1&quot;</td><td>null</td><td>&quot;2018-10-24&quot;</td><td>null</td><td>0.0</td><td>null</td><td>null</td><td>null</td><td>null</td><td>8398.0</td><td>&quot;COL&quot;</td><td>0.0</td><td>&quot;2018-11-06&quot;</td><td>&quot;P98_137_111&quot;</td><td>0.0</td><td>&quot;2019-07-24&quot;</td><td>&quot;2019-07-24&quot;</td><td>&quot;P33_146_175&quot;</td><td>&quot;2011-01-01&quot;</td><td>&quot;SINGLE&quot;</td><td>&quot;2018-11-24&quot;</td><td>&quot;POS&quot;</td><td>false</td><td>null</td><td>30000.0</td><td>0.0</td><td>3</td><td>0.0</td><td>11.0</td><td>&quot;P177_117_192&quot;</td><td>&quot;a55475b1&quot;</td><td>&quot;a55475b1&quot;</td><td>&quot;a55475b1&quot;</td><td>null</td><td>&quot;K&quot;</td><td>11.0</td></tr><tr><td>57543</td><td>0.0</td><td>1218.2001</td><td>&quot;2021-01-13&quot;</td><td>null</td><td>&quot;a55475b1&quot;</td><td>null</td><td>&quot;2021-01-13&quot;</td><td>null</td><td>0.0</td><td>null</td><td>null</td><td>null</td><td>null</td><td>14960.0</td><td>&quot;COL&quot;</td><td>12154.4</td><td>&quot;2021-01-14&quot;</td><td>&quot;P59_55_87&quot;</td><td>0.0</td><td>null</td><td>&quot;2021-05-15&quot;</td><td>&quot;P106_81_188&quot;</td><td>null</td><td>&quot;SINGLE&quot;</td><td>&quot;2021-02-13&quot;</td><td>&quot;POS&quot;</td><td>false</td><td>null</td><td>34000.0</td><td>1.0</td><td>1</td><td>12154.4</td><td>14.0</td><td>&quot;P60_146_156&quot;</td><td>&quot;a55475b1&quot;</td><td>&quot;a55475b1&quot;</td><td>&quot;a55475b1&quot;</td><td>null</td><td>&quot;A&quot;</td><td>14.0</td></tr><tr><td>57543</td><td>0.0</td><td>1892.0</td><td>&quot;2014-10-13&quot;</td><td>1.0</td><td>&quot;a55475b1&quot;</td><td>1.0</td><td>&quot;2014-10-13&quot;</td><td>null</td><td>0.0</td><td>null</td><td>null</td><td>null</td><td>null</td><td>20000.0</td><td>&quot;CAL&quot;</td><td>0.0</td><td>&quot;2014-10-13&quot;</td><td>&quot;P98_137_111&quot;</td><td>0.0</td><td>&quot;2016-04-13&quot;</td><td>&quot;2016-04-13&quot;</td><td>&quot;P33_146_175&quot;</td><td>&quot;2011-07-01&quot;</td><td>&quot;MARRIED&quot;</td><td>&quot;2014-11-13&quot;</td><td>&quot;CASH&quot;</td><td>false</td><td>null</td><td>30000.0</td><td>1.0</td><td>8</td><td>0.0</td><td>18.0</td><td>&quot;P46_145_78&quot;</td><td>&quot;a55475b1&quot;</td><td>&quot;a55475b1&quot;</td><td>&quot;a55475b1&quot;</td><td>null</td><td>&quot;K&quot;</td><td>18.0</td></tr></tbody></table></div>"
      ],
      "text/plain": [
       "+-----+-----+-----+-----+-----+-----+-----+-----+-----+-----+-----+-----+-----+-----+-----+-----+-----+-----+-----+-----+-----+-----+-----+-----+-----+-----+-----+-----+-----+-----+-----+-----+-----+-----+-----+-----+-----+-----+-----+-----+-----+\n",
       "| cas | act | ann | app | byo | can | chi | cre | cre | cre | cre | cre | cre | cre | cre | cre | cur | dat | dis | dow | dtl | dtl | edu | emp | fam | fir | ini | isb | isd | mai | max | num | out | pmt | pos | pro | rej | rej | rev | sta | ten |\n",
       "| e_i | ual | uit | rov | ccu | cel | ldn | ati | dac | dac | dac | dac | dac | dac | dam | dty | rde | eac | tri | npm | ast | ast | cat | loy | ily | stn | ttr | idp | ebi | noc | dpd | _gr | sta | num | typ | fes | ect | ect | olv | tus | or_ |\n",
       "|  d  | dpd | y_8 | ald | pat | rea | um_ | ond | c_a | c_c | c_m | c_m | c_s | c_t | oun | pe_ | bt_ | tiv | ct_ | t_1 | pmt | pmt | ion | edf | sta | onz | ans | rod | tca | cup | tol | oup | ndi | _8L | e_4 | sio | rea | rea | ing | _21 | 203 |\n",
       "|     | _94 | 53A | ate | ion | son | 21L | ate | ctu | red | axh | inh | tat | ran | t_5 | 587 | 94A | ate | 544 | 34A | _58 | all | _11 | rom | te_ | ero | act | uct | rd_ | ati | era |  1  | ngd |     | 733 | n_1 | son | son | acc |  9L |  L  |\n",
       "|     |  3P |     | _31 | inc | _35 |     | _88 | alb | lmt | isb | isb | us_ | sac | 90A |  L  |     | d_4 |  M  |     |  1D | ste | 38M | _70 | 726 | ins | ion | _39 | 527 | oni | nce |     | ebt |     | 339 | 52M | _75 | cli | oun |     |     |\n",
       "|     |     |     |  9D | _36 | 458 |     |  5D | ala | _57 | al_ | al_ | 367 | tio |     |     |     | 25D |     |     |     | s_3 |     |  0D |  L  | tld | cod |  0L |  L  | nc_ | _57 |     | _52 |     |  M  |     |  5M | ent | t_3 |     |     |\n",
       "|     |     |     |     | 569 | 46M |     |     | nce |  5A | 375 | 90A |  L  | ns_ |     |     |     |     |     |     |     | 545 |     |     |     | ate | e_2 |     |     | 437 |  7P |     |  2A |     |     |     |     | _41 | 94A |     |     |\n",
       "|     |     |     |     | 10L |     |     |     | _31 |     |  A  |     |     | 402 |     |     |     |     |     |     |     | 839 |     |     |     | _30 | 79L |     |     |  A  |     |     |     |     |     |     |     | 450 |     |     |     |\n",
       "|     |     |     |     |     |     |     |     |  4A |     |     |     |     |  L  |     |     |     |     |     |     |     |  D  |     |     |     |  7D |     |     |     |     |     |     |     |     |     |     |     | 42M |     |     |     |\n",
       "+=====================================================================================================================================================================================================================================================+\n",
       "| 575 | 0.0 | 935 | 201 | nul | a55 | nul | 201 | nul | 0.0 | nul | nul | nul | nul | 839 | COL | 0.0 | 201 | P98 | 0.0 | 201 | 201 | P33 | 201 | SIN | 201 | POS | fal | nul | 300 | 0.0 |  3  | 0.0 | 11. | P17 | a55 | a55 | a55 | nul |  K  | 11. |\n",
       "|  43 |     |  .2 | 8-1 |  l  | 475 |  l  | 8-1 |  l  |     |  l  |  l  |  l  |  l  | 8.0 |     |     | 8-1 | _13 |     | 9-0 | 9-0 | _14 | 1-0 | GLE | 8-1 |     |  se |  l  | 00. |     |     |     |  0  | 7_1 | 475 | 475 | 475 |  l  |     |  0  |\n",
       "|     |     |     | 0-2 |     |  b1 |     | 0-2 |     |     |     |     |     |     |     |     |     | 1-0 | 7_1 |     | 7-2 | 7-2 | 6_1 | 1-0 |     | 1-2 |     |     |     |  0  |     |     |     |     | 17_ |  b1 |  b1 |  b1 |     |     |     |\n",
       "|     |     |     |  4  |     |     |     |  4  |     |     |     |     |     |     |     |     |     |  6  |  11 |     |  4  |  4  |  75 |  1  |     |  4  |     |     |     |     |     |     |     |     | 192 |     |     |     |     |     |     |\n",
       "| 575 | 0.0 | 121 | 202 | nul | a55 | nul | 202 | nul | 0.0 | nul | nul | nul | nul | 149 | COL | 121 | 202 | P59 | 0.0 | nul | 202 | P10 | nul | SIN | 202 | POS | fal | nul | 340 | 1.0 |  1  | 121 | 14. | P60 | a55 | a55 | a55 | nul |  A  | 14. |\n",
       "|  43 |     | 8.2 | 1-0 |  l  | 475 |  l  | 1-0 |  l  |     |  l  |  l  |  l  |  l  | 60. |     | 54. | 1-0 | _55 |     |  l  | 1-0 | 6_8 |  l  | GLE | 1-0 |     |  se |  l  | 00. |     |     | 54. |  0  | _14 | 475 | 475 | 475 |  l  |     |  0  |\n",
       "|     |     | 001 | 1-1 |     |  b1 |     | 1-1 |     |     |     |     |     |     |  0  |     |  4  | 1-1 | _87 |     |     | 5-1 | 1_1 |     |     | 2-1 |     |     |     |  0  |     |     |  4  |     | 6_1 |  b1 |  b1 |  b1 |     |     |     |\n",
       "|     |     |     |  3  |     |     |     |  3  |     |     |     |     |     |     |     |     |     |  4  |     |     |     |  5  |  88 |     |     |  3  |     |     |     |     |     |     |     |     |  56 |     |     |     |     |     |     |\n",
       "| 575 | 0.0 | 189 | 201 | 1.0 | a55 | 1.0 | 201 | nul | 0.0 | nul | nul | nul | nul | 200 | CAL | 0.0 | 201 | P98 | 0.0 | 201 | 201 | P33 | 201 | MAR | 201 | CAS | fal | nul | 300 | 1.0 |  8  | 0.0 | 18. | P46 | a55 | a55 | a55 | nul |  K  | 18. |\n",
       "|  43 |     | 2.0 | 4-1 |     | 475 |     | 4-1 |  l  |     |  l  |  l  |  l  |  l  | 00. |     |     | 4-1 | _13 |     | 6-0 | 6-0 | _14 | 1-0 | RIE | 4-1 |  H  |  se |  l  | 00. |     |     |     |  0  | _14 | 475 | 475 | 475 |  l  |     |  0  |\n",
       "|     |     |     | 0-1 |     |  b1 |     | 0-1 |     |     |     |     |     |     |  0  |     |     | 0-1 | 7_1 |     | 4-1 | 4-1 | 6_1 | 7-0 |  D  | 1-1 |     |     |     |  0  |     |     |     |     | 5_7 |  b1 |  b1 |  b1 |     |     |     |\n",
       "|     |     |     |  3  |     |     |     |  3  |     |     |     |     |     |     |     |     |     |  3  |  11 |     |  3  |  3  |  75 |  1  |     |  3  |     |     |     |     |     |     |     |     |  8  |     |     |     |     |     |     |\n",
       "+-----+-----+-----+-----+-----+-----+-----+-----+-----+-----+-----+-----+-----+-----+-----+-----+-----+-----+-----+-----+-----+-----+-----+-----+-----+-----+-----+-----+-----+-----+-----+-----+-----+-----+-----+-----+-----+-----+-----+-----+-----+"
      ]
     },
     "metadata": {},
     "output_type": "display_data"
    },
    {
     "data": {
      "text/html": [
       "<div><style>\n",
       ".dataframe > thead > tr,\n",
       ".dataframe > tbody > tr {\n",
       "  text-align: right;\n",
       "  white-space: pre-wrap;\n",
       "}\n",
       "</style>\n",
       "<table border=\"1\" class=\"dataframe\"><thead><tr><th>case_id</th><th>actualdpd_943P</th><th>annuity_853A</th><th>approvaldate_319D</th><th>byoccupationinc_3656910L</th><th>cancelreason_3545846M</th><th>childnum_21L</th><th>creationdate_885D</th><th>credacc_actualbalance_314A</th><th>credacc_credlmt_575A</th><th>credacc_maxhisbal_375A</th><th>credacc_minhisbal_90A</th><th>credacc_status_367L</th><th>credacc_transactions_402L</th><th>credamount_590A</th><th>credtype_587L</th><th>currdebt_94A</th><th>dateactivated_425D</th><th>district_544M</th><th>downpmt_134A</th><th>dtlastpmt_581D</th><th>dtlastpmtallstes_3545839D</th><th>education_1138M</th><th>employedfrom_700D</th><th>familystate_726L</th><th>firstnonzeroinstldate_307D</th><th>inittransactioncode_279L</th><th>isbidproduct_390L</th><th>isdebitcard_527L</th><th>mainoccupationinc_437A</th><th>maxdpdtolerance_577P</th><th>num_group1</th><th>outstandingdebt_522A</th><th>pmtnum_8L</th><th>postype_4733339M</th><th>profession_152M</th><th>rejectreason_755M</th><th>rejectreasonclient_4145042M</th><th>revolvingaccount_394A</th><th>status_219L</th><th>tenor_203L</th></tr></thead><tbody><tr><td>57549</td><td>0.0</td><td>0.0</td><td>null</td><td>null</td><td>&quot;P94_109_143&quot;</td><td>null</td><td>&quot;2018-05-05&quot;</td><td>34066.0</td><td>34066.0</td><td>0.0</td><td>0.0</td><td>&quot;CL&quot;</td><td>0.0</td><td>7178.0</td><td>&quot;REL&quot;</td><td>null</td><td>null</td><td>&quot;P158_150_171&quot;</td><td>0.0</td><td>null</td><td>null</td><td>&quot;a55475b1&quot;</td><td>null</td><td>null</td><td>null</td><td>&quot;POS&quot;</td><td>false</td><td>false</td><td>20000.0</td><td>null</td><td>7</td><td>null</td><td>24.0</td><td>&quot;P177_117_192&quot;</td><td>&quot;a55475b1&quot;</td><td>&quot;P94_109_143&quot;</td><td>&quot;P94_109_143&quot;</td><td>null</td><td>&quot;D&quot;</td><td>24.0</td></tr><tr><td>57549</td><td>0.0</td><td>0.0</td><td>&quot;2021-10-12&quot;</td><td>null</td><td>&quot;a55475b1&quot;</td><td>null</td><td>&quot;2021-10-12&quot;</td><td>null</td><td>0.0</td><td>null</td><td>null</td><td>null</td><td>null</td><td>0.0</td><td>&quot;REL&quot;</td><td>0.0</td><td>null</td><td>&quot;P158_150_171&quot;</td><td>0.0</td><td>null</td><td>&quot;2022-01-13&quot;</td><td>&quot;a55475b1&quot;</td><td>null</td><td>null</td><td>null</td><td>&quot;NDF&quot;</td><td>false</td><td>true</td><td>null</td><td>0.0</td><td>2</td><td>0.0</td><td>null</td><td>&quot;P46_145_78&quot;</td><td>&quot;a55475b1&quot;</td><td>&quot;a55475b1&quot;</td><td>&quot;a55475b1&quot;</td><td>8.400498e8</td><td>&quot;N&quot;</td><td>null</td></tr><tr><td>57549</td><td>0.0</td><td>0.0</td><td>&quot;2021-08-18&quot;</td><td>null</td><td>&quot;a55475b1&quot;</td><td>null</td><td>&quot;2021-08-18&quot;</td><td>null</td><td>17800.0</td><td>null</td><td>null</td><td>null</td><td>null</td><td>17800.0</td><td>&quot;REL&quot;</td><td>0.0</td><td>null</td><td>&quot;P121_131_159&quot;</td><td>0.0</td><td>&quot;2021-10-13&quot;</td><td>&quot;2021-10-13&quot;</td><td>&quot;P106_81_188&quot;</td><td>null</td><td>&quot;SINGLE&quot;</td><td>null</td><td>&quot;NDF&quot;</td><td>false</td><td>false</td><td>60000.0</td><td>0.0</td><td>4</td><td>0.0</td><td>null</td><td>&quot;P46_145_78&quot;</td><td>&quot;a55475b1&quot;</td><td>&quot;a55475b1&quot;</td><td>&quot;a55475b1&quot;</td><td>8.207819e8</td><td>&quot;K&quot;</td><td>null</td></tr></tbody></table></div>"
      ],
      "text/plain": [
       "+-----+-----+-----+-----+-----+-----+-----+-----+-----+-----+-----+-----+-----+-----+-----+-----+-----+-----+-----+-----+-----+-----+-----+-----+-----+-----+-----+-----+-----+-----+-----+-----+-----+-----+-----+-----+-----+-----+-----+-----+-----+\n",
       "| cas | act | ann | app | byo | can | chi | cre | cre | cre | cre | cre | cre | cre | cre | cre | cur | dat | dis | dow | dtl | dtl | edu | emp | fam | fir | ini | isb | isd | mai | max | num | out | pmt | pos | pro | rej | rej | rev | sta | ten |\n",
       "| e_i | ual | uit | rov | ccu | cel | ldn | ati | dac | dac | dac | dac | dac | dac | dam | dty | rde | eac | tri | npm | ast | ast | cat | loy | ily | stn | ttr | idp | ebi | noc | dpd | _gr | sta | num | typ | fes | ect | ect | olv | tus | or_ |\n",
       "|  d  | dpd | y_8 | ald | pat | rea | um_ | ond | c_a | c_c | c_m | c_m | c_s | c_t | oun | pe_ | bt_ | tiv | ct_ | t_1 | pmt | pmt | ion | edf | sta | onz | ans | rod | tca | cup | tol | oup | ndi | _8L | e_4 | sio | rea | rea | ing | _21 | 203 |\n",
       "|     | _94 | 53A | ate | ion | son | 21L | ate | ctu | red | axh | inh | tat | ran | t_5 | 587 | 94A | ate | 544 | 34A | _58 | all | _11 | rom | te_ | ero | act | uct | rd_ | ati | era |  1  | ngd |     | 733 | n_1 | son | son | acc |  9L |  L  |\n",
       "|     |  3P |     | _31 | inc | _35 |     | _88 | alb | lmt | isb | isb | us_ | sac | 90A |  L  |     | d_4 |  M  |     |  1D | ste | 38M | _70 | 726 | ins | ion | _39 | 527 | oni | nce |     | ebt |     | 339 | 52M | _75 | cli | oun |     |     |\n",
       "|     |     |     |  9D | _36 | 458 |     |  5D | ala | _57 | al_ | al_ | 367 | tio |     |     |     | 25D |     |     |     | s_3 |     |  0D |  L  | tld | cod |  0L |  L  | nc_ | _57 |     | _52 |     |  M  |     |  5M | ent | t_3 |     |     |\n",
       "|     |     |     |     | 569 | 46M |     |     | nce |  5A | 375 | 90A |  L  | ns_ |     |     |     |     |     |     |     | 545 |     |     |     | ate | e_2 |     |     | 437 |  7P |     |  2A |     |     |     |     | _41 | 94A |     |     |\n",
       "|     |     |     |     | 10L |     |     |     | _31 |     |  A  |     |     | 402 |     |     |     |     |     |     |     | 839 |     |     |     | _30 | 79L |     |     |  A  |     |     |     |     |     |     |     | 450 |     |     |     |\n",
       "|     |     |     |     |     |     |     |     |  4A |     |     |     |     |  L  |     |     |     |     |     |     |     |  D  |     |     |     |  7D |     |     |     |     |     |     |     |     |     |     |     | 42M |     |     |     |\n",
       "+=====================================================================================================================================================================================================================================================+\n",
       "| 575 | 0.0 | 0.0 | nul | nul | P94 | nul | 201 | 340 | 340 | 0.0 | 0.0 |  CL | 0.0 | 717 | REL | nul | nul | P15 | 0.0 | nul | nul | a55 | nul | nul | nul | POS | fal | fal | 200 | nul |  7  | nul | 24. | P17 | a55 | P94 | P94 | nul |  D  | 24. |\n",
       "|  49 |     |     |  l  |  l  | _10 |  l  | 8-0 | 66. | 66. |     |     |     |     | 8.0 |     |  l  |  l  | 8_1 |     |  l  |  l  | 475 |  l  |  l  |  l  |     |  se |  se | 00. |  l  |     |  l  |  0  | 7_1 | 475 | _10 | _10 |  l  |     |  0  |\n",
       "|     |     |     |     |     | 9_1 |     | 5-0 |  0  |  0  |     |     |     |     |     |     |     |     | 50_ |     |     |     |  b1 |     |     |     |     |     |     |  0  |     |     |     |     | 17_ |  b1 | 9_1 | 9_1 |     |     |     |\n",
       "|     |     |     |     |     |  43 |     |  5  |     |     |     |     |     |     |     |     |     |     | 171 |     |     |     |     |     |     |     |     |     |     |     |     |     |     |     | 192 |     |  43 |  43 |     |     |     |\n",
       "| 575 | 0.0 | 0.0 | 202 | nul | a55 | nul | 202 | nul | 0.0 | nul | nul | nul | nul | 0.0 | REL | 0.0 | nul | P15 | 0.0 | nul | 202 | a55 | nul | nul | nul | NDF | fal | tru | nul | 0.0 |  2  | 0.0 | nul | P46 | a55 | a55 | a55 | 8.4 |  N  | nul |\n",
       "|  49 |     |     | 1-1 |  l  | 475 |  l  | 1-1 |  l  |     |  l  |  l  |  l  |  l  |     |     |     |  l  | 8_1 |     |  l  | 2-0 | 475 |  l  |  l  |  l  |     |  se |  e  |  l  |     |     |     |  l  | _14 | 475 | 475 | 475 | 004 |     |  l  |\n",
       "|     |     |     | 0-1 |     |  b1 |     | 0-1 |     |     |     |     |     |     |     |     |     |     | 50_ |     |     | 1-1 |  b1 |     |     |     |     |     |     |     |     |     |     |     | 5_7 |  b1 |  b1 |  b1 | 98e |     |     |\n",
       "|     |     |     |  2  |     |     |     |  2  |     |     |     |     |     |     |     |     |     |     | 171 |     |     |  3  |     |     |     |     |     |     |     |     |     |     |     |     |  8  |     |     |     |  8  |     |     |\n",
       "| 575 | 0.0 | 0.0 | 202 | nul | a55 | nul | 202 | nul | 178 | nul | nul | nul | nul | 178 | REL | 0.0 | nul | P12 | 0.0 | 202 | 202 | P10 | nul | SIN | nul | NDF | fal | fal | 600 | 0.0 |  4  | 0.0 | nul | P46 | a55 | a55 | a55 | 8.2 |  K  | nul |\n",
       "|  49 |     |     | 1-0 |  l  | 475 |  l  | 1-0 |  l  | 00. |  l  |  l  |  l  |  l  | 00. |     |     |  l  | 1_1 |     | 1-1 | 1-1 | 6_8 |  l  | GLE |  l  |     |  se |  se | 00. |     |     |     |  l  | _14 | 475 | 475 | 475 | 078 |     |  l  |\n",
       "|     |     |     | 8-1 |     |  b1 |     | 8-1 |     |  0  |     |     |     |     |  0  |     |     |     | 31_ |     | 0-1 | 0-1 | 1_1 |     |     |     |     |     |     |  0  |     |     |     |     | 5_7 |  b1 |  b1 |  b1 | 19e |     |     |\n",
       "|     |     |     |  8  |     |     |     |  8  |     |     |     |     |     |     |     |     |     |     | 159 |     |  3  |  3  |  88 |     |     |     |     |     |     |     |     |     |     |     |  8  |     |     |     |  8  |     |     |\n",
       "+-----+-----+-----+-----+-----+-----+-----+-----+-----+-----+-----+-----+-----+-----+-----+-----+-----+-----+-----+-----+-----+-----+-----+-----+-----+-----+-----+-----+-----+-----+-----+-----+-----+-----+-----+-----+-----+-----+-----+-----+-----+"
      ]
     },
     "metadata": {},
     "output_type": "display_data"
    },
    {
     "data": {
      "text/html": [
       "<div><style>\n",
       ".dataframe > thead > tr,\n",
       ".dataframe > tbody > tr {\n",
       "  text-align: right;\n",
       "  white-space: pre-wrap;\n",
       "}\n",
       "</style>\n",
       "<table border=\"1\" class=\"dataframe\"><thead><tr><th>case_id</th><th>actualdpd_943P</th><th>annuity_853A</th><th>approvaldate_319D</th><th>byoccupationinc_3656910L</th><th>cancelreason_3545846M</th><th>childnum_21L</th><th>creationdate_885D</th><th>credacc_actualbalance_314A</th><th>credacc_credlmt_575A</th><th>credacc_maxhisbal_375A</th><th>credacc_minhisbal_90A</th><th>credacc_status_367L</th><th>credacc_transactions_402L</th><th>credamount_590A</th><th>credtype_587L</th><th>currdebt_94A</th><th>dateactivated_425D</th><th>district_544M</th><th>downpmt_134A</th><th>dtlastpmt_581D</th><th>dtlastpmtallstes_3545839D</th><th>education_1138M</th><th>employedfrom_700D</th><th>familystate_726L</th><th>firstnonzeroinstldate_307D</th><th>inittransactioncode_279L</th><th>isbidproduct_390L</th><th>isdebitcard_527L</th><th>mainoccupationinc_437A</th><th>maxdpdtolerance_577P</th><th>num_group1</th><th>outstandingdebt_522A</th><th>pmtnum_8L</th><th>postype_4733339M</th><th>profession_152M</th><th>rejectreason_755M</th><th>rejectreasonclient_4145042M</th><th>revolvingaccount_394A</th><th>status_219L</th><th>tenor_203L</th></tr></thead><tbody><tr><td>57760</td><td>0.0</td><td>0.0</td><td>&quot;2016-09-05&quot;</td><td>null</td><td>&quot;a55475b1&quot;</td><td>1.0</td><td>&quot;2016-09-05&quot;</td><td>0.0</td><td>0.0</td><td>0.0</td><td>0.0</td><td>&quot;AC&quot;</td><td>0.0</td><td>100000.0</td><td>&quot;REL&quot;</td><td>0.0</td><td>&quot;2016-09-22&quot;</td><td>&quot;P117_87_136&quot;</td><td>0.0</td><td>&quot;2018-07-14&quot;</td><td>&quot;2018-07-14&quot;</td><td>&quot;P33_146_175&quot;</td><td>&quot;2009-08-02&quot;</td><td>&quot;MARRIED&quot;</td><td>null</td><td>&quot;NDF&quot;</td><td>true</td><td>false</td><td>32000.0</td><td>18.0</td><td>6</td><td>0.0</td><td>null</td><td>&quot;P46_145_78&quot;</td><td>&quot;a55475b1&quot;</td><td>&quot;a55475b1&quot;</td><td>&quot;a55475b1&quot;</td><td>7.4259565e8</td><td>&quot;K&quot;</td><td>null</td></tr><tr><td>57760</td><td>0.0</td><td>0.0</td><td>&quot;2020-06-15&quot;</td><td>null</td><td>&quot;a55475b1&quot;</td><td>null</td><td>&quot;2020-06-15&quot;</td><td>null</td><td>0.0</td><td>null</td><td>null</td><td>null</td><td>null</td><td>0.0</td><td>&quot;REL&quot;</td><td>0.0</td><td>&quot;2020-08-07&quot;</td><td>&quot;P117_87_136&quot;</td><td>0.0</td><td>null</td><td>&quot;2020-06-15&quot;</td><td>&quot;a55475b1&quot;</td><td>null</td><td>null</td><td>null</td><td>&quot;NDF&quot;</td><td>false</td><td>true</td><td>null</td><td>0.0</td><td>0</td><td>0.0</td><td>null</td><td>&quot;P46_145_78&quot;</td><td>&quot;a55475b1&quot;</td><td>&quot;a55475b1&quot;</td><td>&quot;a55475b1&quot;</td><td>8.2037786e8</td><td>&quot;A&quot;</td><td>null</td></tr><tr><td>57760</td><td>0.0</td><td>0.0</td><td>&quot;2020-06-15&quot;</td><td>null</td><td>&quot;a55475b1&quot;</td><td>null</td><td>&quot;2020-06-15&quot;</td><td>null</td><td>0.0</td><td>null</td><td>null</td><td>null</td><td>null</td><td>0.0</td><td>&quot;REL&quot;</td><td>0.0</td><td>&quot;2020-08-07&quot;</td><td>&quot;P117_87_136&quot;</td><td>0.0</td><td>null</td><td>&quot;2020-06-15&quot;</td><td>&quot;a55475b1&quot;</td><td>null</td><td>null</td><td>null</td><td>&quot;NDF&quot;</td><td>false</td><td>true</td><td>null</td><td>0.0</td><td>1</td><td>0.0</td><td>null</td><td>&quot;P46_145_78&quot;</td><td>&quot;a55475b1&quot;</td><td>&quot;a55475b1&quot;</td><td>&quot;a55475b1&quot;</td><td>8.203778e8</td><td>&quot;A&quot;</td><td>null</td></tr></tbody></table></div>"
      ],
      "text/plain": [
       "+-----+-----+-----+-----+-----+-----+-----+-----+-----+-----+-----+-----+-----+-----+-----+-----+-----+-----+-----+-----+-----+-----+-----+-----+-----+-----+-----+-----+-----+-----+-----+-----+-----+-----+-----+-----+-----+-----+-----+-----+-----+\n",
       "| cas | act | ann | app | byo | can | chi | cre | cre | cre | cre | cre | cre | cre | cre | cre | cur | dat | dis | dow | dtl | dtl | edu | emp | fam | fir | ini | isb | isd | mai | max | num | out | pmt | pos | pro | rej | rej | rev | sta | ten |\n",
       "| e_i | ual | uit | rov | ccu | cel | ldn | ati | dac | dac | dac | dac | dac | dac | dam | dty | rde | eac | tri | npm | ast | ast | cat | loy | ily | stn | ttr | idp | ebi | noc | dpd | _gr | sta | num | typ | fes | ect | ect | olv | tus | or_ |\n",
       "|  d  | dpd | y_8 | ald | pat | rea | um_ | ond | c_a | c_c | c_m | c_m | c_s | c_t | oun | pe_ | bt_ | tiv | ct_ | t_1 | pmt | pmt | ion | edf | sta | onz | ans | rod | tca | cup | tol | oup | ndi | _8L | e_4 | sio | rea | rea | ing | _21 | 203 |\n",
       "|     | _94 | 53A | ate | ion | son | 21L | ate | ctu | red | axh | inh | tat | ran | t_5 | 587 | 94A | ate | 544 | 34A | _58 | all | _11 | rom | te_ | ero | act | uct | rd_ | ati | era |  1  | ngd |     | 733 | n_1 | son | son | acc |  9L |  L  |\n",
       "|     |  3P |     | _31 | inc | _35 |     | _88 | alb | lmt | isb | isb | us_ | sac | 90A |  L  |     | d_4 |  M  |     |  1D | ste | 38M | _70 | 726 | ins | ion | _39 | 527 | oni | nce |     | ebt |     | 339 | 52M | _75 | cli | oun |     |     |\n",
       "|     |     |     |  9D | _36 | 458 |     |  5D | ala | _57 | al_ | al_ | 367 | tio |     |     |     | 25D |     |     |     | s_3 |     |  0D |  L  | tld | cod |  0L |  L  | nc_ | _57 |     | _52 |     |  M  |     |  5M | ent | t_3 |     |     |\n",
       "|     |     |     |     | 569 | 46M |     |     | nce |  5A | 375 | 90A |  L  | ns_ |     |     |     |     |     |     |     | 545 |     |     |     | ate | e_2 |     |     | 437 |  7P |     |  2A |     |     |     |     | _41 | 94A |     |     |\n",
       "|     |     |     |     | 10L |     |     |     | _31 |     |  A  |     |     | 402 |     |     |     |     |     |     |     | 839 |     |     |     | _30 | 79L |     |     |  A  |     |     |     |     |     |     |     | 450 |     |     |     |\n",
       "|     |     |     |     |     |     |     |     |  4A |     |     |     |     |  L  |     |     |     |     |     |     |     |  D  |     |     |     |  7D |     |     |     |     |     |     |     |     |     |     |     | 42M |     |     |     |\n",
       "+=====================================================================================================================================================================================================================================================+\n",
       "| 577 | 0.0 | 0.0 | 201 | nul | a55 | 1.0 | 201 | 0.0 | 0.0 | 0.0 | 0.0 |  AC | 0.0 | 100 | REL | 0.0 | 201 | P11 | 0.0 | 201 | 201 | P33 | 200 | MAR | nul | NDF | tru | fal | 320 | 18. |  6  | 0.0 | nul | P46 | a55 | a55 | a55 | 7.4 |  K  | nul |\n",
       "|  60 |     |     | 6-0 |  l  | 475 |     | 6-0 |     |     |     |     |     |     | 000 |     |     | 6-0 | 7_8 |     | 8-0 | 8-0 | _14 | 9-0 | RIE |  l  |     |  e  |  se | 00. |  0  |     |     |  l  | _14 | 475 | 475 | 475 | 259 |     |  l  |\n",
       "|     |     |     | 9-0 |     |  b1 |     | 9-0 |     |     |     |     |     |     |  .0 |     |     | 9-2 | 7_1 |     | 7-1 | 7-1 | 6_1 | 8-0 |  D  |     |     |     |     |  0  |     |     |     |     | 5_7 |  b1 |  b1 |  b1 | 565 |     |     |\n",
       "|     |     |     |  5  |     |     |     |  5  |     |     |     |     |     |     |     |     |     |  2  |  36 |     |  4  |  4  |  75 |  2  |     |     |     |     |     |     |     |     |     |     |  8  |     |     |     |  e8 |     |     |\n",
       "| 577 | 0.0 | 0.0 | 202 | nul | a55 | nul | 202 | nul | 0.0 | nul | nul | nul | nul | 0.0 | REL | 0.0 | 202 | P11 | 0.0 | nul | 202 | a55 | nul | nul | nul | NDF | fal | tru | nul | 0.0 |  0  | 0.0 | nul | P46 | a55 | a55 | a55 | 8.2 |  A  | nul |\n",
       "|  60 |     |     | 0-0 |  l  | 475 |  l  | 0-0 |  l  |     |  l  |  l  |  l  |  l  |     |     |     | 0-0 | 7_8 |     |  l  | 0-0 | 475 |  l  |  l  |  l  |     |  se |  e  |  l  |     |     |     |  l  | _14 | 475 | 475 | 475 | 037 |     |  l  |\n",
       "|     |     |     | 6-1 |     |  b1 |     | 6-1 |     |     |     |     |     |     |     |     |     | 8-0 | 7_1 |     |     | 6-1 |  b1 |     |     |     |     |     |     |     |     |     |     |     | 5_7 |  b1 |  b1 |  b1 | 786 |     |     |\n",
       "|     |     |     |  5  |     |     |     |  5  |     |     |     |     |     |     |     |     |     |  7  |  36 |     |     |  5  |     |     |     |     |     |     |     |     |     |     |     |     |  8  |     |     |     |  e8 |     |     |\n",
       "| 577 | 0.0 | 0.0 | 202 | nul | a55 | nul | 202 | nul | 0.0 | nul | nul | nul | nul | 0.0 | REL | 0.0 | 202 | P11 | 0.0 | nul | 202 | a55 | nul | nul | nul | NDF | fal | tru | nul | 0.0 |  1  | 0.0 | nul | P46 | a55 | a55 | a55 | 8.2 |  A  | nul |\n",
       "|  60 |     |     | 0-0 |  l  | 475 |  l  | 0-0 |  l  |     |  l  |  l  |  l  |  l  |     |     |     | 0-0 | 7_8 |     |  l  | 0-0 | 475 |  l  |  l  |  l  |     |  se |  e  |  l  |     |     |     |  l  | _14 | 475 | 475 | 475 | 037 |     |  l  |\n",
       "|     |     |     | 6-1 |     |  b1 |     | 6-1 |     |     |     |     |     |     |     |     |     | 8-0 | 7_1 |     |     | 6-1 |  b1 |     |     |     |     |     |     |     |     |     |     |     | 5_7 |  b1 |  b1 |  b1 | 78e |     |     |\n",
       "|     |     |     |  5  |     |     |     |  5  |     |     |     |     |     |     |     |     |     |  7  |  36 |     |     |  5  |     |     |     |     |     |     |     |     |     |     |     |     |  8  |     |     |     |  8  |     |     |\n",
       "+-----+-----+-----+-----+-----+-----+-----+-----+-----+-----+-----+-----+-----+-----+-----+-----+-----+-----+-----+-----+-----+-----+-----+-----+-----+-----+-----+-----+-----+-----+-----+-----+-----+-----+-----+-----+-----+-----+-----+-----+-----+"
      ]
     },
     "metadata": {},
     "output_type": "display_data"
    },
    {
     "data": {
      "text/html": [
       "<div><style>\n",
       ".dataframe > thead > tr,\n",
       ".dataframe > tbody > tr {\n",
       "  text-align: right;\n",
       "  white-space: pre-wrap;\n",
       "}\n",
       "</style>\n",
       "<table border=\"1\" class=\"dataframe\"><thead><tr><th>case_id</th><th>cacccardblochreas_147M</th><th>conts_type_509L</th><th>credacc_cards_status_52L</th><th>num_group1</th><th>num_group2</th></tr></thead><tbody><tr><td>57543</td><td>&quot;a55475b1&quot;</td><td>&quot;PRIMARY_MOBILE&quot;</td><td>null</td><td>0</td><td>0</td></tr><tr><td>57543</td><td>&quot;a55475b1&quot;</td><td>null</td><td>null</td><td>0</td><td>1</td></tr><tr><td>57543</td><td>&quot;a55475b1&quot;</td><td>&quot;PRIMARY_MOBILE&quot;</td><td>null</td><td>1</td><td>0</td></tr></tbody></table></div>"
      ],
      "text/plain": [
       "+---------+----------------------+-----------------+---------------------+------------+------------+\n",
       "| case_id | cacccardblochreas_14 | conts_type_509L | credacc_cards_statu | num_group1 | num_group2 |\n",
       "|         |          7M          |                 |        s_52L        |            |            |\n",
       "+==================================================================================================+\n",
       "|  57543  |       a55475b1       |  PRIMARY_MOBILE |         null        |      0     |      0     |\n",
       "|  57543  |       a55475b1       |       null      |         null        |      0     |      1     |\n",
       "|  57543  |       a55475b1       |  PRIMARY_MOBILE |         null        |      1     |      0     |\n",
       "+---------+----------------------+-----------------+---------------------+------------+------------+"
      ]
     },
     "metadata": {},
     "output_type": "display_data"
    },
    {
     "data": {
      "text/html": [
       "<div><style>\n",
       ".dataframe > thead > tr,\n",
       ".dataframe > tbody > tr {\n",
       "  text-align: right;\n",
       "  white-space: pre-wrap;\n",
       "}\n",
       "</style>\n",
       "<table border=\"1\" class=\"dataframe\"><thead><tr><th>case_id</th><th>date_decision</th><th>MONTH</th><th>WEEK_NUM</th></tr></thead><tbody><tr><td>57543</td><td>&quot;2021-05-14&quot;</td><td>202201</td><td>100</td></tr><tr><td>57549</td><td>&quot;2022-01-17&quot;</td><td>202201</td><td>100</td></tr><tr><td>57551</td><td>&quot;2020-11-27&quot;</td><td>202201</td><td>100</td></tr></tbody></table></div>"
      ],
      "text/plain": [
       "+---------+---------------+--------+----------+\n",
       "| case_id | date_decision |  MONTH | WEEK_NUM |\n",
       "+=============================================+\n",
       "|  57543  |   2021-05-14  | 202201 |    100   |\n",
       "|  57549  |   2022-01-17  | 202201 |    100   |\n",
       "|  57551  |   2020-11-27  | 202201 |    100   |\n",
       "+---------+---------------+--------+----------+"
      ]
     },
     "metadata": {},
     "output_type": "display_data"
    },
    {
     "data": {
      "text/html": [
       "<div><style>\n",
       ".dataframe > thead > tr,\n",
       ".dataframe > tbody > tr {\n",
       "  text-align: right;\n",
       "  white-space: pre-wrap;\n",
       "}\n",
       "</style>\n",
       "<table border=\"1\" class=\"dataframe\"><thead><tr><th>case_id</th><th>annualeffectiverate_199L</th><th>annualeffectiverate_63L</th><th>classificationofcontr_13M</th><th>classificationofcontr_400M</th><th>contractst_545M</th><th>contractst_964M</th><th>contractsum_5085717L</th><th>credlmt_230A</th><th>credlmt_935A</th><th>dateofcredend_289D</th><th>dateofcredend_353D</th><th>dateofcredstart_181D</th><th>dateofcredstart_739D</th><th>dateofrealrepmt_138D</th><th>debtoutstand_525A</th><th>debtoverdue_47A</th><th>description_351M</th><th>dpdmax_139P</th><th>dpdmax_757P</th><th>dpdmaxdatemonth_442T</th><th>dpdmaxdatemonth_89T</th><th>dpdmaxdateyear_596T</th><th>dpdmaxdateyear_896T</th><th>financialinstitution_382M</th><th>financialinstitution_591M</th><th>instlamount_768A</th><th>instlamount_852A</th><th>interestrate_508L</th><th>lastupdate_1112D</th><th>lastupdate_388D</th><th>monthlyinstlamount_332A</th><th>monthlyinstlamount_674A</th><th>nominalrate_281L</th><th>nominalrate_498L</th><th>num_group1</th><th>numberofcontrsvalue_258L</th><th>numberofcontrsvalue_358L</th><th>numberofinstls_229L</th><th>numberofinstls_320L</th><th>numberofoutstandinstls_520L</th><th>numberofoutstandinstls_59L</th><th>numberofoverdueinstlmax_1039L</th><th>numberofoverdueinstlmax_1151L</th><th>numberofoverdueinstlmaxdat_148D</th><th>numberofoverdueinstlmaxdat_641D</th><th>numberofoverdueinstls_725L</th><th>numberofoverdueinstls_834L</th><th>outstandingamount_354A</th><th>outstandingamount_362A</th><th>overdueamount_31A</th><th>overdueamount_659A</th><th>overdueamountmax2_14A</th><th>overdueamountmax2_398A</th><th>overdueamountmax2date_1002D</th><th>overdueamountmax2date_1142D</th><th>overdueamountmax_155A</th><th>overdueamountmax_35A</th><th>overdueamountmaxdatemonth_284T</th><th>overdueamountmaxdatemonth_365T</th><th>overdueamountmaxdateyear_2T</th><th>overdueamountmaxdateyear_994T</th><th>periodicityofpmts_1102L</th><th>periodicityofpmts_837L</th><th>prolongationcount_1120L</th><th>prolongationcount_599L</th><th>purposeofcred_426M</th><th>purposeofcred_874M</th><th>refreshdate_3813885D</th><th>residualamount_488A</th><th>residualamount_856A</th><th>subjectrole_182M</th><th>subjectrole_93M</th><th>totalamount_6A</th><th>totalamount_996A</th><th>totaldebtoverduevalue_178A</th><th>totaldebtoverduevalue_718A</th><th>totaloutstanddebtvalue_39A</th><th>totaloutstanddebtvalue_668A</th></tr></thead><tbody><tr><td>57551</td><td>8.28</td><td>null</td><td>&quot;a55475b1&quot;</td><td>&quot;ea6782cc&quot;</td><td>&quot;a55475b1&quot;</td><td>&quot;7241344e&quot;</td><td>null</td><td>null</td><td>null</td><td>null</td><td>&quot;2023-07-02&quot;</td><td>&quot;2018-09-10&quot;</td><td>null</td><td>&quot;2020-06-20&quot;</td><td>null</td><td>null</td><td>&quot;a55475b1&quot;</td><td>null</td><td>3.0</td><td>11.0</td><td>null</td><td>null</td><td>2018.0</td><td>&quot;P133_127_114&quot;</td><td>&quot;a55475b1&quot;</td><td>null</td><td>null</td><td>null</td><td>null</td><td>&quot;2020-06-24&quot;</td><td>null</td><td>18292.4</td><td>null</td><td>31.0</td><td>13</td><td>null</td><td>null</td><td>18.0</td><td>null</td><td>0.0</td><td>null</td><td>null</td><td>3.0</td><td>&quot;2018-11-04&quot;</td><td>null</td><td>null</td><td>0.0</td><td>0.0</td><td>null</td><td>0.0</td><td>null</td><td>null</td><td>10429.616</td><td>&quot;2020-01-01&quot;</td><td>null</td><td>null</td><td>10429.616</td><td>1.0</td><td>null</td><td>null</td><td>2020.0</td><td>30.0</td><td>null</td><td>null</td><td>null</td><td>&quot;a55475b1&quot;</td><td>&quot;96a8fdfe&quot;</td><td>null</td><td>null</td><td>null</td><td>&quot;a55475b1&quot;</td><td>&quot;a55475b1&quot;</td><td>398551.03</td><td>null</td><td>null</td><td>null</td><td>null</td><td>null</td></tr><tr><td>57551</td><td>null</td><td>null</td><td>&quot;ea6782cc&quot;</td><td>&quot;d7416962&quot;</td><td>&quot;7241344e&quot;</td><td>&quot;7241344e&quot;</td><td>88957.0</td><td>null</td><td>53375.0</td><td>&quot;2021-06-24&quot;</td><td>&quot;2010-03-21&quot;</td><td>&quot;2007-03-21&quot;</td><td>&quot;2019-06-24&quot;</td><td>&quot;2008-12-08&quot;</td><td>585239.06</td><td>0.0</td><td>&quot;a55475b1&quot;</td><td>0.0</td><td>1.0</td><td>11.0</td><td>7.0</td><td>2019.0</td><td>2008.0</td><td>&quot;P40_52_135&quot;</td><td>&quot;b619fa46&quot;</td><td>17791.4</td><td>null</td><td>null</td><td>&quot;2020-11-24&quot;</td><td>&quot;2008-12-20&quot;</td><td>17791.4</td><td>0.0</td><td>null</td><td>null</td><td>0</td><td>2.0</td><td>16.0</td><td>36.0</td><td>null</td><td>0.0</td><td>null</td><td>0.0</td><td>1.0</td><td>&quot;2008-10-12&quot;</td><td>null</td><td>0.0</td><td>0.0</td><td>0.0</td><td>null</td><td>0.0</td><td>0.0</td><td>0.0</td><td>0.0</td><td>null</td><td>null</td><td>0.0</td><td>0.0</td><td>6.0</td><td>7.0</td><td>2019.0</td><td>2007.0</td><td>30.0</td><td>null</td><td>null</td><td>null</td><td>&quot;60c73645&quot;</td><td>&quot;5065c2b8&quot;</td><td>&quot;2020-12-11&quot;</td><td>null</td><td>17791.4</td><td>&quot;ab3c25cf&quot;</td><td>&quot;ab3c25cf&quot;</td><td>58000.0</td><td>null</td><td>0.0</td><td>0.0</td><td>585239.06</td><td>0.0</td></tr><tr><td>57551</td><td>null</td><td>null</td><td>&quot;ea6782cc&quot;</td><td>&quot;42a42e75&quot;</td><td>&quot;7241344e&quot;</td><td>&quot;7241344e&quot;</td><td>2837238.3</td><td>null</td><td>600000.0</td><td>&quot;2025-06-18&quot;</td><td>&quot;2007-11-10&quot;</td><td>&quot;2007-08-13&quot;</td><td>&quot;2020-06-18&quot;</td><td>&quot;2007-11-09&quot;</td><td>null</td><td>null</td><td>&quot;a55475b1&quot;</td><td>0.0</td><td>0.0</td><td>9.0</td><td>7.0</td><td>2020.0</td><td>2007.0</td><td>&quot;b619fa46&quot;</td><td>&quot;P150_136_157&quot;</td><td>15073.328</td><td>null</td><td>null</td><td>&quot;2020-12-03&quot;</td><td>&quot;2007-12-07&quot;</td><td>15073.328</td><td>null</td><td>null</td><td>null</td><td>1</td><td>null</td><td>null</td><td>6.0</td><td>null</td><td>0.0</td><td>null</td><td>0.0</td><td>0.0</td><td>null</td><td>null</td><td>0.0</td><td>0.0</td><td>0.0</td><td>null</td><td>0.0</td><td>0.0</td><td>0.0</td><td>0.0</td><td>null</td><td>null</td><td>0.0</td><td>0.0</td><td>9.0</td><td>7.0</td><td>2020.0</td><td>2007.0</td><td>30.0</td><td>null</td><td>null</td><td>null</td><td>&quot;96a8fdfe&quot;</td><td>&quot;5065c2b8&quot;</td><td>&quot;2020-12-11&quot;</td><td>null</td><td>567447.7</td><td>&quot;a55475b1&quot;</td><td>&quot;a55475b1&quot;</td><td>11348.0</td><td>null</td><td>null</td><td>null</td><td>null</td><td>null</td></tr></tbody></table></div>"
      ],
      "text/plain": [
       "+-----+-----+-----+-----+-----+-----+-----+-----+-----+-----+-----+-----+-----+-----+-----+-----+-----+-----+-----+-----+-----+-----+-----+-----+-----+-----+-----+-----+-----+-----+-----+-----+-----+-----+-----+-----+-----+-----+-----+-----+-----+-----+-----+-----+-----+-----+-----+-----+-----+-----+-----+-----+-----+-----+-----+-----+-----+-----+-----+-----+-----+-----+-----+-----+-----+-----+-----+-----+-----+-----+-----+-----+-----+-----+-----+-----+-----+-----+-----+\n",
       "| cas | ann | ann | cla | cla | con | con | con | cre | cre | dat | dat | dat | dat | dat | deb | deb | des | dpd | dpd | dpd | dpd | dpd | dpd | fin | fin | ins | ins | int | las | las | mon | mon | nom | nom | num | num | num | num | num | num | num | num | num | num | num | num | num | out | out | ove | ove | ove | ove | ove | ove | ove | ove | ove | ove | ove | ove | per | per | pro | pro | pur | pur | ref | res | res | sub | sub | tot | tot | tot | tot | tot | tot |\n",
       "| e_i | ual | ual | ssi | ssi | tra | tra | tra | dlm | dlm | eof | eof | eof | eof | eof | tou | tov | cri | max | max | max | max | max | max | anc | anc | tla | tla | ere | tup | tup | thl | thl | ina | ina | _gr | ber | ber | ber | ber | ber | ber | ber | ber | ber | ber | ber | ber | sta | sta | rdu | rdu | rdu | rdu | rdu | rdu | rdu | rdu | rdu | rdu | rdu | rdu | iod | iod | lon | lon | pos | pos | res | idu | idu | jec | jec | ala | ala | ald | ald | alo | alo |\n",
       "|  d  | eff | eff | fic | fic | cts | cts | cts | t_2 | t_9 | cre | cre | cre | cre | rea | tst | erd | pti | _13 | _75 | dat | dat | dat | dat | ial | ial | mou | mou | str | dat | dat | yin | yin | lra | lra | oup | ofc | ofc | ofi | ofi | ofo | ofo | ofo | ofo | ofo | ofo | ofo | ofo | ndi | ndi | eam | eam | eam | eam | eam | eam | eam | eam | eam | eam | eam | eam | ici | ici | gat | gat | eof | eof | hda | ala | ala | tro | tro | mou | mou | ebt | ebt | uts | uts |\n",
       "|     | ect | ect | ati | ati | t_5 | t_9 | um_ | 30A | 35A | den | den | dst | dst | lre | and | ue_ | on_ |  9P |  7P | emo | emo | eye | eye | ins | ins | nt_ | nt_ | ate | e_1 | e_3 | stl | stl | te_ | te_ |  1  | ont | ont | nst | nst | uts | uts | ver | ver | ver | ver | ver | ver | nga | nga | oun | oun | oun | oun | oun | oun | oun | oun | oun | oun | oun | oun | tyo | tyo | ion | ion | cre | cre | te_ | mou | mou | le_ | le_ | nt_ | nt_ | ove | ove | tan | tan |\n",
       "|     | ive | ive | ono | ono | 45M | 64M | 508 |     |     | d_2 | d_3 | art | art | pmt | _52 | 47A | 351 |     |     | nth | nth | ar_ | ar_ | tit | tit | 768 | 852 | _50 | 112 | 88D | amo | amo | 281 | 498 |     | rsv | rsv | ls_ | ls_ | tan | tan | due | due | due | due | due | due | mou | mou | t_3 | t_6 | tma | tma | tma | tma | tma | tma | tma | tma | tma | tma | fpm | fpm | cou | cou | d_4 | d_8 | 381 | nt_ | nt_ | 182 | 93M |  6A | 996 | rdu | rdu | dde | dde |\n",
       "|     | rat | rat | fco | fco |     |     | 571 |     |     | 89D | 53D | _18 | _73 | _13 |  5A |     |  M  |     |     | _44 | _89 | 596 | 896 | uti | uti |  A  |  A  |  8L |  D  |     | unt | unt |  L  |  L  |     | alu | alu | 229 | 320 | din | din | ins | ins | ins | ins | ins | ins | nt_ | nt_ |  1A | 59A | x2_ | x2_ | x2d | x2d | x_1 | x_3 | xda | xda | xda | xda | ts_ | ts_ | nt_ | nt_ | 26M | 74M | 388 | 488 | 856 |  M  |     |     |  A  | eva | eva | btv | btv |\n",
       "|     | e_1 | e_6 | ntr | ntr |     |     |  7L |     |     |     |     |  1D |  9D |  8D |     |     |     |     |     |  2T |  T  |  T  |  T  | on_ | on_ |     |     |     |     |     | _33 | _67 |     |     |     | e_2 | e_3 |  L  |  L  | stl | stl | tlm | tlm | tlm | tlm | tls | tls | 354 | 362 |     |     | 14A | 398 | ate | ate | 55A |  5A | tem | tem | tey | tey | 110 | 837 | 112 | 599 |     |     |  5D |  A  |  A  |     |     |     |     | lue | lue | alu | alu |\n",
       "|     | 99L |  3L | _13 | _40 |     |     |     |     |     |     |     |     |     |     |     |     |     |     |     |     |     |     |     | 382 | 591 |     |     |     |     |     |  2A |  4A |     |     |     | 58L | 58L |     |     | s_5 | s_5 | ax_ | ax_ | axd | axd | _72 | _83 |  A  |  A  |     |     |     |  A  | _10 | _11 |     |     | ont | ont | ear | ear |  2L |  L  |  0L |  L  |     |     |     |     |     |     |     |     |     | _17 | _71 | e_3 | e_6 |\n",
       "|     |     |     |  M  |  0M |     |     |     |     |     |     |     |     |     |     |     |     |     |     |     |     |     |     |     |  M  |  M  |     |     |     |     |     |     |     |     |     |     |     |     |     |     | 20L |  9L | 103 | 115 | at_ | at_ |  5L |  4L |     |     |     |     |     |     | 02D | 42D |     |     | h_2 | h_3 | _2T | _99 |     |     |     |     |     |     |     |     |     |     |     |     |     |  8A |  8A |  9A | 68A |\n",
       "|     |     |     |     |     |     |     |     |     |     |     |     |     |     |     |     |     |     |     |     |     |     |     |     |     |     |     |     |     |     |     |     |     |     |     |     |     |     |     |     |     |     |  9L |  1L | 148 | 641 |     |     |     |     |     |     |     |     |     |     |     |     | 84T | 65T |     |  4T |     |     |     |     |     |     |     |     |     |     |     |     |     |     |     |     |     |\n",
       "|     |     |     |     |     |     |     |     |     |     |     |     |     |     |     |     |     |     |     |     |     |     |     |     |     |     |     |     |     |     |     |     |     |     |     |     |     |     |     |     |     |     |     |     |  D  |  D  |     |     |     |     |     |     |     |     |     |     |     |     |     |     |     |     |     |     |     |     |     |     |     |     |     |     |     |     |     |     |     |     |     |\n",
       "+=========================================================================================================================================================================================================================================================================================================================================================================================================================================================================================+\n",
       "| 575 | 8.2 | nul | a55 | ea6 | a55 | 724 | nul | nul | nul | nul | 202 | 201 | nul | 202 | nul | nul | a55 | nul | 3.0 | 11. | nul | nul | 201 | P13 | a55 | nul | nul | nul | nul | 202 | nul | 182 | nul | 31. |  13 | nul | nul | 18. | nul | 0.0 | nul | nul | 3.0 | 201 | nul | nul | 0.0 | 0.0 | nul | 0.0 | nul | nul | 104 | 202 | nul | nul | 104 | 1.0 | nul | nul | 202 | 30. | nul | nul | nul | a55 | 96a | nul | nul | nul | a55 | a55 | 398 | nul | nul | nul | nul | nul |\n",
       "|  51 |  8  |  l  | 475 | 782 | 475 | 134 |  l  |  l  |  l  |  l  | 3-0 | 8-0 |  l  | 0-0 |  l  |  l  | 475 |  l  |     |  0  |  l  |  l  | 8.0 | 3_1 | 475 |  l  |  l  |  l  |  l  | 0-0 |  l  | 92. |  l  |  0  |     |  l  |  l  |  0  |  l  |     |  l  |  l  |     | 8-1 |  l  |  l  |     |     |  l  |     |  l  |  l  | 29. | 0-0 |  l  |  l  | 29. |     |  l  |  l  | 0.0 |  0  |  l  |  l  |  l  | 475 | 8fd |  l  |  l  |  l  | 475 | 475 | 551 |  l  |  l  |  l  |  l  |  l  |\n",
       "|     |     |     |  b1 |  cc |  b1 |  4e |     |     |     |     | 7-0 | 9-1 |     | 6-2 |     |     |  b1 |     |     |     |     |     |     | 27_ |  b1 |     |     |     |     | 6-2 |     |  4  |     |     |     |     |     |     |     |     |     |     |     | 1-0 |     |     |     |     |     |     |     |     | 616 | 1-0 |     |     | 616 |     |     |     |     |     |     |     |     |  b1 |  fe |     |     |     |  b1 |  b1 | .03 |     |     |     |     |     |\n",
       "|     |     |     |     |     |     |     |     |     |     |     |  2  |  0  |     |  0  |     |     |     |     |     |     |     |     |     | 114 |     |     |     |     |     |  4  |     |     |     |     |     |     |     |     |     |     |     |     |     |  4  |     |     |     |     |     |     |     |     |     |  1  |     |     |     |     |     |     |     |     |     |     |     |     |     |     |     |     |     |     |     |     |     |     |     |     |\n",
       "| 575 | nul | nul | ea6 | d74 | 724 | 724 | 889 | nul | 533 | 202 | 201 | 200 | 201 | 200 | 585 | 0.0 | a55 | 0.0 | 1.0 | 11. | 7.0 | 201 | 200 | P40 | b61 | 177 | nul | nul | 202 | 200 | 177 | 0.0 | nul | nul |  0  | 2.0 | 16. | 36. | nul | 0.0 | nul | 0.0 | 1.0 | 200 | nul | 0.0 | 0.0 | 0.0 | nul | 0.0 | 0.0 | 0.0 | 0.0 | nul | nul | 0.0 | 0.0 | 6.0 | 7.0 | 201 | 200 | 30. | nul | nul | nul | 60c | 506 | 202 | nul | 177 | ab3 | ab3 | 580 | nul | 0.0 | 0.0 | 585 | 0.0 |\n",
       "|  51 |  l  |  l  | 782 | 169 | 134 | 134 | 57. |  l  | 75. | 1-0 | 0-0 | 7-0 | 9-0 | 8-1 | 239 |     | 475 |     |     |  0  |     | 9.0 | 8.0 | _52 | 9fa | 91. |  l  |  l  | 0-1 | 8-1 | 91. |     |  l  |  l  |     |     |  0  |  0  |  l  |     |  l  |     |     | 8-1 |  l  |     |     |     |  l  |     |     |     |     |  l  |  l  |     |     |     |     | 9.0 | 7.0 |  0  |  l  |  l  |  l  | 736 | 5c2 | 0-1 |  l  | 91. | c25 | c25 | 00. |  l  |     |     | 239 |     |\n",
       "|     |     |     |  cc |  62 |  4e |  4e |  0  |     |  0  | 6-2 | 3-2 | 3-2 | 6-2 | 2-0 | .06 |     |  b1 |     |     |     |     |     |     | _13 |  46 |  4  |     |     | 1-2 | 2-2 |  4  |     |     |     |     |     |     |     |     |     |     |     |     | 0-1 |     |     |     |     |     |     |     |     |     |     |     |     |     |     |     |     |     |     |     |     |     |  45 |  b8 | 2-1 |     |  4  |  cf |  cf |  0  |     |     |     | .06 |     |\n",
       "|     |     |     |     |     |     |     |     |     |     |  4  |  1  |  1  |  4  |  8  |     |     |     |     |     |     |     |     |     |  5  |     |     |     |     |  4  |  0  |     |     |     |     |     |     |     |     |     |     |     |     |     |  2  |     |     |     |     |     |     |     |     |     |     |     |     |     |     |     |     |     |     |     |     |     |     |     |  1  |     |     |     |     |     |     |     |     |     |     |\n",
       "| 575 | nul | nul | ea6 | 42a | 724 | 724 | 283 | nul | 600 | 202 | 200 | 200 | 202 | 200 | nul | nul | a55 | 0.0 | 0.0 | 9.0 | 7.0 | 202 | 200 | b61 | P15 | 150 | nul | nul | 202 | 200 | 150 | nul | nul | nul |  1  | nul | nul | 6.0 | nul | 0.0 | nul | 0.0 | 0.0 | nul | nul | 0.0 | 0.0 | 0.0 | nul | 0.0 | 0.0 | 0.0 | 0.0 | nul | nul | 0.0 | 0.0 | 9.0 | 7.0 | 202 | 200 | 30. | nul | nul | nul | 96a | 506 | 202 | nul | 567 | a55 | a55 | 113 | nul | nul | nul | nul | nul |\n",
       "|  51 |  l  |  l  | 782 | 42e | 134 | 134 | 723 |  l  | 000 | 5-0 | 7-1 | 7-0 | 0-0 | 7-1 |  l  |  l  | 475 |     |     |     |     | 0.0 | 7.0 | 9fa | 0_1 | 73. |  l  |  l  | 0-1 | 7-1 | 73. |  l  |  l  |  l  |     |  l  |  l  |     |  l  |     |  l  |     |     |  l  |  l  |     |     |     |  l  |     |     |     |     |  l  |  l  |     |     |     |     | 0.0 | 7.0 |  0  |  l  |  l  |  l  | 8fd | 5c2 | 0-1 |  l  | 447 | 475 | 475 | 48. |  l  |  l  |  l  |  l  |  l  |\n",
       "|     |     |     |  cc |  75 |  4e |  4e | 8.3 |     |  .0 | 6-1 | 1-1 | 8-1 | 6-1 | 1-0 |     |     |  b1 |     |     |     |     |     |     |  46 | 36_ | 328 |     |     | 2-0 | 2-0 | 328 |     |     |     |     |     |     |     |     |     |     |     |     |     |     |     |     |     |     |     |     |     |     |     |     |     |     |     |     |     |     |     |     |     |     |  fe |  b8 | 2-1 |     |  .7 |  b1 |  b1 |  0  |     |     |     |     |     |\n",
       "|     |     |     |     |     |     |     |     |     |     |  8  |  0  |  3  |  8  |  9  |     |     |     |     |     |     |     |     |     |     | 157 |     |     |     |  3  |  7  |     |     |     |     |     |     |     |     |     |     |     |     |     |     |     |     |     |     |     |     |     |     |     |     |     |     |     |     |     |     |     |     |     |     |     |     |     |  1  |     |     |     |     |     |     |     |     |     |     |\n",
       "+-----+-----+-----+-----+-----+-----+-----+-----+-----+-----+-----+-----+-----+-----+-----+-----+-----+-----+-----+-----+-----+-----+-----+-----+-----+-----+-----+-----+-----+-----+-----+-----+-----+-----+-----+-----+-----+-----+-----+-----+-----+-----+-----+-----+-----+-----+-----+-----+-----+-----+-----+-----+-----+-----+-----+-----+-----+-----+-----+-----+-----+-----+-----+-----+-----+-----+-----+-----+-----+-----+-----+-----+-----+-----+-----+-----+-----+-----+-----+"
      ]
     },
     "metadata": {},
     "output_type": "display_data"
    },
    {
     "data": {
      "text/html": [
       "<div><style>\n",
       ".dataframe > thead > tr,\n",
       ".dataframe > tbody > tr {\n",
       "  text-align: right;\n",
       "  white-space: pre-wrap;\n",
       "}\n",
       "</style>\n",
       "<table border=\"1\" class=\"dataframe\"><thead><tr><th>case_id</th><th>annualeffectiverate_199L</th><th>annualeffectiverate_63L</th><th>classificationofcontr_13M</th><th>classificationofcontr_400M</th><th>contractst_545M</th><th>contractst_964M</th><th>contractsum_5085717L</th><th>credlmt_230A</th><th>credlmt_935A</th><th>dateofcredend_289D</th><th>dateofcredend_353D</th><th>dateofcredstart_181D</th><th>dateofcredstart_739D</th><th>dateofrealrepmt_138D</th><th>debtoutstand_525A</th><th>debtoverdue_47A</th><th>description_351M</th><th>dpdmax_139P</th><th>dpdmax_757P</th><th>dpdmaxdatemonth_442T</th><th>dpdmaxdatemonth_89T</th><th>dpdmaxdateyear_596T</th><th>dpdmaxdateyear_896T</th><th>financialinstitution_382M</th><th>financialinstitution_591M</th><th>instlamount_768A</th><th>instlamount_852A</th><th>interestrate_508L</th><th>lastupdate_1112D</th><th>lastupdate_388D</th><th>monthlyinstlamount_332A</th><th>monthlyinstlamount_674A</th><th>nominalrate_281L</th><th>nominalrate_498L</th><th>num_group1</th><th>numberofcontrsvalue_258L</th><th>numberofcontrsvalue_358L</th><th>numberofinstls_229L</th><th>numberofinstls_320L</th><th>numberofoutstandinstls_520L</th><th>numberofoutstandinstls_59L</th><th>numberofoverdueinstlmax_1039L</th><th>numberofoverdueinstlmax_1151L</th><th>numberofoverdueinstlmaxdat_148D</th><th>numberofoverdueinstlmaxdat_641D</th><th>numberofoverdueinstls_725L</th><th>numberofoverdueinstls_834L</th><th>outstandingamount_354A</th><th>outstandingamount_362A</th><th>overdueamount_31A</th><th>overdueamount_659A</th><th>overdueamountmax2_14A</th><th>overdueamountmax2_398A</th><th>overdueamountmax2date_1002D</th><th>overdueamountmax2date_1142D</th><th>overdueamountmax_155A</th><th>overdueamountmax_35A</th><th>overdueamountmaxdatemonth_284T</th><th>overdueamountmaxdatemonth_365T</th><th>overdueamountmaxdateyear_2T</th><th>overdueamountmaxdateyear_994T</th><th>periodicityofpmts_1102L</th><th>periodicityofpmts_837L</th><th>prolongationcount_1120L</th><th>prolongationcount_599L</th><th>purposeofcred_426M</th><th>purposeofcred_874M</th><th>refreshdate_3813885D</th><th>residualamount_488A</th><th>residualamount_856A</th><th>subjectrole_182M</th><th>subjectrole_93M</th><th>totalamount_6A</th><th>totalamount_996A</th><th>totaldebtoverduevalue_178A</th><th>totaldebtoverduevalue_718A</th><th>totaloutstanddebtvalue_39A</th><th>totaloutstanddebtvalue_668A</th></tr></thead><tbody><tr><td>57543</td><td>0.69</td><td>null</td><td>&quot;a55475b1&quot;</td><td>&quot;01f63ac8&quot;</td><td>&quot;a55475b1&quot;</td><td>&quot;7241344e&quot;</td><td>null</td><td>null</td><td>null</td><td>null</td><td>&quot;2019-12-24&quot;</td><td>&quot;2019-12-06&quot;</td><td>null</td><td>&quot;2019-12-24&quot;</td><td>null</td><td>null</td><td>&quot;a55475b1&quot;</td><td>null</td><td>0.0</td><td>1.0</td><td>null</td><td>null</td><td>2020.0</td><td>&quot;e9bfdb5c&quot;</td><td>&quot;a55475b1&quot;</td><td>null</td><td>null</td><td>null</td><td>null</td><td>&quot;2019-12-24&quot;</td><td>null</td><td>8000.0</td><td>null</td><td>null</td><td>11</td><td>null</td><td>null</td><td>1.0</td><td>null</td><td>0.0</td><td>null</td><td>null</td><td>0.0</td><td>null</td><td>null</td><td>null</td><td>0.0</td><td>0.0</td><td>null</td><td>0.0</td><td>null</td><td>null</td><td>0.0</td><td>null</td><td>null</td><td>null</td><td>0.0</td><td>1.0</td><td>null</td><td>null</td><td>2020.0</td><td>30.0</td><td>null</td><td>0.0</td><td>null</td><td>&quot;a55475b1&quot;</td><td>&quot;96a8fdfe&quot;</td><td>null</td><td>null</td><td>null</td><td>&quot;a55475b1&quot;</td><td>&quot;a55475b1&quot;</td><td>8000.0</td><td>null</td><td>null</td><td>null</td><td>null</td><td>null</td></tr><tr><td>57543</td><td>null</td><td>null</td><td>&quot;ea6782cc&quot;</td><td>&quot;01f63ac8&quot;</td><td>&quot;7241344e&quot;</td><td>&quot;7241344e&quot;</td><td>66999.0</td><td>null</td><td>null</td><td>&quot;2022-03-13&quot;</td><td>&quot;2017-12-12&quot;</td><td>&quot;2013-12-12&quot;</td><td>&quot;2021-01-13&quot;</td><td>&quot;2017-07-19&quot;</td><td>null</td><td>null</td><td>&quot;a55475b1&quot;</td><td>0.0</td><td>20.0</td><td>4.0</td><td>2.0</td><td>2021.0</td><td>2016.0</td><td>&quot;P102_97_118&quot;</td><td>&quot;Home Credit&quot;</td><td>null</td><td>null</td><td>null</td><td>&quot;2021-05-05&quot;</td><td>&quot;2017-10-02&quot;</td><td>1218.2001</td><td>0.0</td><td>0.0</td><td>null</td><td>1</td><td>null</td><td>null</td><td>49.0</td><td>14.0</td><td>0.0</td><td>11.0</td><td>0.0</td><td>22.0</td><td>&quot;2016-03-14&quot;</td><td>null</td><td>0.0</td><td>0.0</td><td>0.0</td><td>13399.8</td><td>0.0</td><td>0.0</td><td>0.0</td><td>820.94006</td><td>&quot;2015-11-23&quot;</td><td>null</td><td>0.0</td><td>820.94006</td><td>12.0</td><td>2.0</td><td>2021.0</td><td>2015.0</td><td>30.0</td><td>30.0</td><td>null</td><td>null</td><td>&quot;60c73645&quot;</td><td>&quot;60c73645&quot;</td><td>&quot;2021-05-28&quot;</td><td>null</td><td>null</td><td>&quot;a55475b1&quot;</td><td>&quot;a55475b1&quot;</td><td>46000.0</td><td>17054.4</td><td>null</td><td>null</td><td>null</td><td>null</td></tr><tr><td>57543</td><td>null</td><td>null</td><td>&quot;ea6782cc&quot;</td><td>&quot;ea6782cc&quot;</td><td>&quot;7241344e&quot;</td><td>&quot;7241344e&quot;</td><td>84365.0</td><td>null</td><td>20000.0</td><td>&quot;2022-09-04&quot;</td><td>&quot;2013-03-24&quot;</td><td>&quot;2011-12-24&quot;</td><td>&quot;2020-09-04&quot;</td><td>&quot;2013-02-27&quot;</td><td>30272.8</td><td>0.0</td><td>&quot;a55475b1&quot;</td><td>0.0</td><td>0.0</td><td>2.0</td><td>10.0</td><td>2020.0</td><td>2012.0</td><td>&quot;Home Credit&quot;</td><td>&quot;b619fa46&quot;</td><td>4725.4</td><td>null</td><td>null</td><td>&quot;2021-05-19&quot;</td><td>&quot;2013-03-02&quot;</td><td>4725.4</td><td>0.0</td><td>null</td><td>null</td><td>0</td><td>2.0</td><td>16.0</td><td>15.0</td><td>null</td><td>0.0</td><td>null</td><td>0.0</td><td>0.0</td><td>null</td><td>null</td><td>0.0</td><td>0.0</td><td>0.0</td><td>null</td><td>0.0</td><td>0.0</td><td>0.0</td><td>0.0</td><td>null</td><td>null</td><td>0.0</td><td>0.0</td><td>2.0</td><td>10.0</td><td>2020.0</td><td>2012.0</td><td>30.0</td><td>null</td><td>null</td><td>null</td><td>&quot;60c73645&quot;</td><td>&quot;5065c2b8&quot;</td><td>&quot;2021-05-28&quot;</td><td>null</td><td>16873.0</td><td>&quot;ab3c25cf&quot;</td><td>&quot;ab3c25cf&quot;</td><td>31031.0</td><td>null</td><td>0.0</td><td>0.0</td><td>30272.8</td><td>0.0</td></tr></tbody></table></div>"
      ],
      "text/plain": [
       "+-----+-----+-----+-----+-----+-----+-----+-----+-----+-----+-----+-----+-----+-----+-----+-----+-----+-----+-----+-----+-----+-----+-----+-----+-----+-----+-----+-----+-----+-----+-----+-----+-----+-----+-----+-----+-----+-----+-----+-----+-----+-----+-----+-----+-----+-----+-----+-----+-----+-----+-----+-----+-----+-----+-----+-----+-----+-----+-----+-----+-----+-----+-----+-----+-----+-----+-----+-----+-----+-----+-----+-----+-----+-----+-----+-----+-----+-----+-----+\n",
       "| cas | ann | ann | cla | cla | con | con | con | cre | cre | dat | dat | dat | dat | dat | deb | deb | des | dpd | dpd | dpd | dpd | dpd | dpd | fin | fin | ins | ins | int | las | las | mon | mon | nom | nom | num | num | num | num | num | num | num | num | num | num | num | num | num | out | out | ove | ove | ove | ove | ove | ove | ove | ove | ove | ove | ove | ove | per | per | pro | pro | pur | pur | ref | res | res | sub | sub | tot | tot | tot | tot | tot | tot |\n",
       "| e_i | ual | ual | ssi | ssi | tra | tra | tra | dlm | dlm | eof | eof | eof | eof | eof | tou | tov | cri | max | max | max | max | max | max | anc | anc | tla | tla | ere | tup | tup | thl | thl | ina | ina | _gr | ber | ber | ber | ber | ber | ber | ber | ber | ber | ber | ber | ber | sta | sta | rdu | rdu | rdu | rdu | rdu | rdu | rdu | rdu | rdu | rdu | rdu | rdu | iod | iod | lon | lon | pos | pos | res | idu | idu | jec | jec | ala | ala | ald | ald | alo | alo |\n",
       "|  d  | eff | eff | fic | fic | cts | cts | cts | t_2 | t_9 | cre | cre | cre | cre | rea | tst | erd | pti | _13 | _75 | dat | dat | dat | dat | ial | ial | mou | mou | str | dat | dat | yin | yin | lra | lra | oup | ofc | ofc | ofi | ofi | ofo | ofo | ofo | ofo | ofo | ofo | ofo | ofo | ndi | ndi | eam | eam | eam | eam | eam | eam | eam | eam | eam | eam | eam | eam | ici | ici | gat | gat | eof | eof | hda | ala | ala | tro | tro | mou | mou | ebt | ebt | uts | uts |\n",
       "|     | ect | ect | ati | ati | t_5 | t_9 | um_ | 30A | 35A | den | den | dst | dst | lre | and | ue_ | on_ |  9P |  7P | emo | emo | eye | eye | ins | ins | nt_ | nt_ | ate | e_1 | e_3 | stl | stl | te_ | te_ |  1  | ont | ont | nst | nst | uts | uts | ver | ver | ver | ver | ver | ver | nga | nga | oun | oun | oun | oun | oun | oun | oun | oun | oun | oun | oun | oun | tyo | tyo | ion | ion | cre | cre | te_ | mou | mou | le_ | le_ | nt_ | nt_ | ove | ove | tan | tan |\n",
       "|     | ive | ive | ono | ono | 45M | 64M | 508 |     |     | d_2 | d_3 | art | art | pmt | _52 | 47A | 351 |     |     | nth | nth | ar_ | ar_ | tit | tit | 768 | 852 | _50 | 112 | 88D | amo | amo | 281 | 498 |     | rsv | rsv | ls_ | ls_ | tan | tan | due | due | due | due | due | due | mou | mou | t_3 | t_6 | tma | tma | tma | tma | tma | tma | tma | tma | tma | tma | fpm | fpm | cou | cou | d_4 | d_8 | 381 | nt_ | nt_ | 182 | 93M |  6A | 996 | rdu | rdu | dde | dde |\n",
       "|     | rat | rat | fco | fco |     |     | 571 |     |     | 89D | 53D | _18 | _73 | _13 |  5A |     |  M  |     |     | _44 | _89 | 596 | 896 | uti | uti |  A  |  A  |  8L |  D  |     | unt | unt |  L  |  L  |     | alu | alu | 229 | 320 | din | din | ins | ins | ins | ins | ins | ins | nt_ | nt_ |  1A | 59A | x2_ | x2_ | x2d | x2d | x_1 | x_3 | xda | xda | xda | xda | ts_ | ts_ | nt_ | nt_ | 26M | 74M | 388 | 488 | 856 |  M  |     |     |  A  | eva | eva | btv | btv |\n",
       "|     | e_1 | e_6 | ntr | ntr |     |     |  7L |     |     |     |     |  1D |  9D |  8D |     |     |     |     |     |  2T |  T  |  T  |  T  | on_ | on_ |     |     |     |     |     | _33 | _67 |     |     |     | e_2 | e_3 |  L  |  L  | stl | stl | tlm | tlm | tlm | tlm | tls | tls | 354 | 362 |     |     | 14A | 398 | ate | ate | 55A |  5A | tem | tem | tey | tey | 110 | 837 | 112 | 599 |     |     |  5D |  A  |  A  |     |     |     |     | lue | lue | alu | alu |\n",
       "|     | 99L |  3L | _13 | _40 |     |     |     |     |     |     |     |     |     |     |     |     |     |     |     |     |     |     |     | 382 | 591 |     |     |     |     |     |  2A |  4A |     |     |     | 58L | 58L |     |     | s_5 | s_5 | ax_ | ax_ | axd | axd | _72 | _83 |  A  |  A  |     |     |     |  A  | _10 | _11 |     |     | ont | ont | ear | ear |  2L |  L  |  0L |  L  |     |     |     |     |     |     |     |     |     | _17 | _71 | e_3 | e_6 |\n",
       "|     |     |     |  M  |  0M |     |     |     |     |     |     |     |     |     |     |     |     |     |     |     |     |     |     |     |  M  |  M  |     |     |     |     |     |     |     |     |     |     |     |     |     |     | 20L |  9L | 103 | 115 | at_ | at_ |  5L |  4L |     |     |     |     |     |     | 02D | 42D |     |     | h_2 | h_3 | _2T | _99 |     |     |     |     |     |     |     |     |     |     |     |     |     |  8A |  8A |  9A | 68A |\n",
       "|     |     |     |     |     |     |     |     |     |     |     |     |     |     |     |     |     |     |     |     |     |     |     |     |     |     |     |     |     |     |     |     |     |     |     |     |     |     |     |     |     |     |  9L |  1L | 148 | 641 |     |     |     |     |     |     |     |     |     |     |     |     | 84T | 65T |     |  4T |     |     |     |     |     |     |     |     |     |     |     |     |     |     |     |     |     |\n",
       "|     |     |     |     |     |     |     |     |     |     |     |     |     |     |     |     |     |     |     |     |     |     |     |     |     |     |     |     |     |     |     |     |     |     |     |     |     |     |     |     |     |     |     |     |  D  |  D  |     |     |     |     |     |     |     |     |     |     |     |     |     |     |     |     |     |     |     |     |     |     |     |     |     |     |     |     |     |     |     |     |     |\n",
       "+=========================================================================================================================================================================================================================================================================================================================================================================================================================================================================================+\n",
       "| 575 | 0.6 | nul | a55 | 01f | a55 | 724 | nul | nul | nul | nul | 201 | 201 | nul | 201 | nul | nul | a55 | nul | 0.0 | 1.0 | nul | nul | 202 | e9b | a55 | nul | nul | nul | nul | 201 | nul | 800 | nul | nul |  11 | nul | nul | 1.0 | nul | 0.0 | nul | nul | 0.0 | nul | nul | nul | 0.0 | 0.0 | nul | 0.0 | nul | nul | 0.0 | nul | nul | nul | 0.0 | 1.0 | nul | nul | 202 | 30. | nul | 0.0 | nul | a55 | 96a | nul | nul | nul | a55 | a55 | 800 | nul | nul | nul | nul | nul |\n",
       "|  43 |  9  |  l  | 475 | 63a | 475 | 134 |  l  |  l  |  l  |  l  | 9-1 | 9-1 |  l  | 9-1 |  l  |  l  | 475 |  l  |     |     |  l  |  l  | 0.0 | fdb | 475 |  l  |  l  |  l  |  l  | 9-1 |  l  | 0.0 |  l  |  l  |     |  l  |  l  |     |  l  |     |  l  |  l  |     |  l  |  l  |  l  |     |     |  l  |     |  l  |  l  |     |  l  |  l  |  l  |     |     |  l  |  l  | 0.0 |  0  |  l  |     |  l  | 475 | 8fd |  l  |  l  |  l  | 475 | 475 | 0.0 |  l  |  l  |  l  |  l  |  l  |\n",
       "|     |     |     |  b1 |  c8 |  b1 |  4e |     |     |     |     | 2-2 | 2-0 |     | 2-2 |     |     |  b1 |     |     |     |     |     |     |  5c |  b1 |     |     |     |     | 2-2 |     |     |     |     |     |     |     |     |     |     |     |     |     |     |     |     |     |     |     |     |     |     |     |     |     |     |     |     |     |     |     |     |     |     |     |  b1 |  fe |     |     |     |  b1 |  b1 |     |     |     |     |     |     |\n",
       "|     |     |     |     |     |     |     |     |     |     |     |  4  |  6  |     |  4  |     |     |     |     |     |     |     |     |     |     |     |     |     |     |     |  4  |     |     |     |     |     |     |     |     |     |     |     |     |     |     |     |     |     |     |     |     |     |     |     |     |     |     |     |     |     |     |     |     |     |     |     |     |     |     |     |     |     |     |     |     |     |     |     |     |\n",
       "| 575 | nul | nul | ea6 | 01f | 724 | 724 | 669 | nul | nul | 202 | 201 | 201 | 202 | 201 | nul | nul | a55 | 0.0 | 20. | 4.0 | 2.0 | 202 | 201 | P10 | Hom | nul | nul | nul | 202 | 201 | 121 | 0.0 | 0.0 | nul |  1  | nul | nul | 49. | 14. | 0.0 | 11. | 0.0 | 22. | 201 | nul | 0.0 | 0.0 | 0.0 | 133 | 0.0 | 0.0 | 0.0 | 820 | 201 | nul | 0.0 | 820 | 12. | 2.0 | 202 | 201 | 30. | 30. | nul | nul | 60c | 60c | 202 | nul | nul | a55 | a55 | 460 | 170 | nul | nul | nul | nul |\n",
       "|  43 |  l  |  l  | 782 | 63a | 134 | 134 | 99. |  l  |  l  | 2-0 | 7-1 | 3-1 | 1-0 | 7-0 |  l  |  l  | 475 |     |  0  |     |     | 1.0 | 6.0 | 2_9 |  e  |  l  |  l  |  l  | 1-0 | 7-1 | 8.2 |     |     |  l  |     |  l  |  l  |  0  |  0  |     |  0  |     |  0  | 6-0 |  l  |     |     |     | 99. |     |     |     | .94 | 5-1 |  l  |     | .94 |  0  |     | 1.0 | 5.0 |  0  |  0  |  l  |  l  | 736 | 736 | 1-0 |  l  |  l  | 475 | 475 | 00. | 54. |  l  |  l  |  l  |  l  |\n",
       "|     |     |     |  cc |  c8 |  4e |  4e |  0  |     |     | 3-1 | 2-1 | 2-1 | 1-1 | 7-1 |     |     |  b1 |     |     |     |     |     |     | 7_1 | Cre |     |     |     | 5-0 | 0-0 | 001 |     |     |     |     |     |     |     |     |     |     |     |     | 3-1 |     |     |     |     |  8  |     |     |     | 006 | 1-2 |     |     | 006 |     |     |     |     |     |     |     |     |  45 |  45 | 5-2 |     |     |  b1 |  b1 |  0  |  4  |     |     |     |     |\n",
       "|     |     |     |     |     |     |     |     |     |     |  3  |  2  |  2  |  3  |  9  |     |     |     |     |     |     |     |     |     |  18 | dit |     |     |     |  5  |  2  |     |     |     |     |     |     |     |     |     |     |     |     |     |  4  |     |     |     |     |     |     |     |     |     |  3  |     |     |     |     |     |     |     |     |     |     |     |     |     |  8  |     |     |     |     |     |     |     |     |     |     |\n",
       "| 575 | nul | nul | ea6 | ea6 | 724 | 724 | 843 | nul | 200 | 202 | 201 | 201 | 202 | 201 | 302 | 0.0 | a55 | 0.0 | 0.0 | 2.0 | 10. | 202 | 201 | Hom | b61 | 472 | nul | nul | 202 | 201 | 472 | 0.0 | nul | nul |  0  | 2.0 | 16. | 15. | nul | 0.0 | nul | 0.0 | 0.0 | nul | nul | 0.0 | 0.0 | 0.0 | nul | 0.0 | 0.0 | 0.0 | 0.0 | nul | nul | 0.0 | 0.0 | 2.0 | 10. | 202 | 201 | 30. | nul | nul | nul | 60c | 506 | 202 | nul | 168 | ab3 | ab3 | 310 | nul | 0.0 | 0.0 | 302 | 0.0 |\n",
       "|  43 |  l  |  l  | 782 | 782 | 134 | 134 | 65. |  l  | 00. | 2-0 | 3-0 | 1-1 | 0-0 | 3-0 | 72. |     | 475 |     |     |     |  0  | 0.0 | 2.0 |  e  | 9fa | 5.4 |  l  |  l  | 1-0 | 3-0 | 5.4 |     |  l  |  l  |     |     |  0  |  0  |  l  |     |  l  |     |     |  l  |  l  |     |     |     |  l  |     |     |     |     |  l  |  l  |     |     |     |  0  | 0.0 | 2.0 |  0  |  l  |  l  |  l  | 736 | 5c2 | 1-0 |  l  | 73. | c25 | c25 | 31. |  l  |     |     | 72. |     |\n",
       "|     |     |     |  cc |  cc |  4e |  4e |  0  |     |  0  | 9-0 | 3-2 | 2-2 | 9-0 | 2-2 |  8  |     |  b1 |     |     |     |     |     |     | Cre |  46 |     |     |     | 5-1 | 3-0 |     |     |     |     |     |     |     |     |     |     |     |     |     |     |     |     |     |     |     |     |     |     |     |     |     |     |     |     |     |     |     |     |     |     |     |  45 |  b8 | 5-2 |     |  0  |  cf |  cf |  0  |     |     |     |  8  |     |\n",
       "|     |     |     |     |     |     |     |     |     |     |  4  |  4  |  4  |  4  |  7  |     |     |     |     |     |     |     |     |     | dit |     |     |     |     |  9  |  2  |     |     |     |     |     |     |     |     |     |     |     |     |     |     |     |     |     |     |     |     |     |     |     |     |     |     |     |     |     |     |     |     |     |     |     |     |     |  8  |     |     |     |     |     |     |     |     |     |     |\n",
       "+-----+-----+-----+-----+-----+-----+-----+-----+-----+-----+-----+-----+-----+-----+-----+-----+-----+-----+-----+-----+-----+-----+-----+-----+-----+-----+-----+-----+-----+-----+-----+-----+-----+-----+-----+-----+-----+-----+-----+-----+-----+-----+-----+-----+-----+-----+-----+-----+-----+-----+-----+-----+-----+-----+-----+-----+-----+-----+-----+-----+-----+-----+-----+-----+-----+-----+-----+-----+-----+-----+-----+-----+-----+-----+-----+-----+-----+-----+-----+"
      ]
     },
     "metadata": {},
     "output_type": "display_data"
    },
    {
     "data": {
      "text/html": [
       "<div><style>\n",
       ".dataframe > thead > tr,\n",
       ".dataframe > tbody > tr {\n",
       "  text-align: right;\n",
       "  white-space: pre-wrap;\n",
       "}\n",
       "</style>\n",
       "<table border=\"1\" class=\"dataframe\"><thead><tr><th>case_id</th><th>annualeffectiverate_199L</th><th>annualeffectiverate_63L</th><th>classificationofcontr_13M</th><th>classificationofcontr_400M</th><th>contractst_545M</th><th>contractst_964M</th><th>contractsum_5085717L</th><th>credlmt_230A</th><th>credlmt_935A</th><th>dateofcredend_289D</th><th>dateofcredend_353D</th><th>dateofcredstart_181D</th><th>dateofcredstart_739D</th><th>dateofrealrepmt_138D</th><th>debtoutstand_525A</th><th>debtoverdue_47A</th><th>description_351M</th><th>dpdmax_139P</th><th>dpdmax_757P</th><th>dpdmaxdatemonth_442T</th><th>dpdmaxdatemonth_89T</th><th>dpdmaxdateyear_596T</th><th>dpdmaxdateyear_896T</th><th>financialinstitution_382M</th><th>financialinstitution_591M</th><th>instlamount_768A</th><th>instlamount_852A</th><th>interestrate_508L</th><th>lastupdate_1112D</th><th>lastupdate_388D</th><th>monthlyinstlamount_332A</th><th>monthlyinstlamount_674A</th><th>nominalrate_281L</th><th>nominalrate_498L</th><th>num_group1</th><th>numberofcontrsvalue_258L</th><th>numberofcontrsvalue_358L</th><th>numberofinstls_229L</th><th>numberofinstls_320L</th><th>numberofoutstandinstls_520L</th><th>numberofoutstandinstls_59L</th><th>numberofoverdueinstlmax_1039L</th><th>numberofoverdueinstlmax_1151L</th><th>numberofoverdueinstlmaxdat_148D</th><th>numberofoverdueinstlmaxdat_641D</th><th>numberofoverdueinstls_725L</th><th>numberofoverdueinstls_834L</th><th>outstandingamount_354A</th><th>outstandingamount_362A</th><th>overdueamount_31A</th><th>overdueamount_659A</th><th>overdueamountmax2_14A</th><th>overdueamountmax2_398A</th><th>overdueamountmax2date_1002D</th><th>overdueamountmax2date_1142D</th><th>overdueamountmax_155A</th><th>overdueamountmax_35A</th><th>overdueamountmaxdatemonth_284T</th><th>overdueamountmaxdatemonth_365T</th><th>overdueamountmaxdateyear_2T</th><th>overdueamountmaxdateyear_994T</th><th>periodicityofpmts_1102L</th><th>periodicityofpmts_837L</th><th>prolongationcount_1120L</th><th>prolongationcount_599L</th><th>purposeofcred_426M</th><th>purposeofcred_874M</th><th>refreshdate_3813885D</th><th>residualamount_488A</th><th>residualamount_856A</th><th>subjectrole_182M</th><th>subjectrole_93M</th><th>totalamount_6A</th><th>totalamount_996A</th><th>totaldebtoverduevalue_178A</th><th>totaldebtoverduevalue_718A</th><th>totaloutstanddebtvalue_39A</th><th>totaloutstanddebtvalue_668A</th></tr></thead><tbody><tr><td>57633</td><td>34.5</td><td>34.5</td><td>&quot;ea6782cc&quot;</td><td>&quot;ea6782cc&quot;</td><td>&quot;7241344e&quot;</td><td>&quot;7241344e&quot;</td><td>null</td><td>null</td><td>null</td><td>&quot;2022-12-06&quot;</td><td>&quot;2022-08-06&quot;</td><td>&quot;2021-08-06&quot;</td><td>&quot;2021-12-06&quot;</td><td>&quot;2021-10-25&quot;</td><td>null</td><td>null</td><td>&quot;a55475b1&quot;</td><td>0.0</td><td>0.0</td><td>9.0</td><td>1.0</td><td>2022.0</td><td>2021.0</td><td>&quot;b619fa46&quot;</td><td>&quot;b619fa46&quot;</td><td>null</td><td>null</td><td>null</td><td>&quot;2022-01-28&quot;</td><td>&quot;2021-11-04&quot;</td><td>50662.6</td><td>11691.4</td><td>29.88</td><td>29.88</td><td>3</td><td>null</td><td>null</td><td>5.0</td><td>10.0</td><td>0.0</td><td>9.0</td><td>0.0</td><td>0.0</td><td>null</td><td>null</td><td>0.0</td><td>0.0</td><td>0.0</td><td>305015.34</td><td>0.0</td><td>0.0</td><td>0.0</td><td>0.0</td><td>null</td><td>null</td><td>0.0</td><td>0.0</td><td>9.0</td><td>1.0</td><td>2022.0</td><td>2021.0</td><td>30.0</td><td>30.0</td><td>null</td><td>null</td><td>&quot;5d1b0cdd&quot;</td><td>&quot;5d1b0cdd&quot;</td><td>&quot;2022-02-08&quot;</td><td>null</td><td>null</td><td>&quot;a55475b1&quot;</td><td>&quot;a55475b1&quot;</td><td>120000.0</td><td>520000.0</td><td>null</td><td>null</td><td>null</td><td>null</td></tr><tr><td>57633</td><td>34.5</td><td>34.5</td><td>&quot;ea6782cc&quot;</td><td>&quot;ea6782cc&quot;</td><td>&quot;7241344e&quot;</td><td>&quot;7241344e&quot;</td><td>null</td><td>null</td><td>null</td><td>&quot;2022-12-29&quot;</td><td>&quot;2022-09-10&quot;</td><td>&quot;2021-09-10&quot;</td><td>&quot;2021-12-29&quot;</td><td>&quot;2021-11-22&quot;</td><td>null</td><td>null</td><td>&quot;a55475b1&quot;</td><td>0.0</td><td>0.0</td><td>10.0</td><td>1.0</td><td>2022.0</td><td>2021.0</td><td>&quot;b619fa46&quot;</td><td>&quot;b619fa46&quot;</td><td>null</td><td>null</td><td>null</td><td>&quot;2022-01-28&quot;</td><td>&quot;2021-11-30&quot;</td><td>56508.402</td><td>56508.402</td><td>29.88</td><td>29.88</td><td>4</td><td>null</td><td>null</td><td>5.0</td><td>12.0</td><td>0.0</td><td>12.0</td><td>0.0</td><td>0.0</td><td>null</td><td>null</td><td>0.0</td><td>0.0</td><td>0.0</td><td>491193.5</td><td>0.0</td><td>0.0</td><td>0.0</td><td>0.0</td><td>null</td><td>null</td><td>0.0</td><td>0.0</td><td>10.0</td><td>1.0</td><td>2022.0</td><td>2021.0</td><td>30.0</td><td>30.0</td><td>null</td><td>null</td><td>&quot;5d1b0cdd&quot;</td><td>&quot;5d1b0cdd&quot;</td><td>&quot;2022-02-08&quot;</td><td>null</td><td>null</td><td>&quot;a55475b1&quot;</td><td>&quot;a55475b1&quot;</td><td>580000.0</td><td>580000.0</td><td>null</td><td>null</td><td>null</td><td>null</td></tr><tr><td>57633</td><td>34.5</td><td>34.5</td><td>&quot;ea6782cc&quot;</td><td>&quot;ea6782cc&quot;</td><td>&quot;7241344e&quot;</td><td>&quot;7241344e&quot;</td><td>null</td><td>null</td><td>null</td><td>&quot;2023-01-06&quot;</td><td>&quot;2022-10-27&quot;</td><td>&quot;2021-10-27&quot;</td><td>&quot;2022-01-06&quot;</td><td>&quot;2021-11-22&quot;</td><td>null</td><td>null</td><td>&quot;a55475b1&quot;</td><td>0.0</td><td>0.0</td><td>11.0</td><td>2.0</td><td>2022.0</td><td>2021.0</td><td>&quot;b619fa46&quot;</td><td>&quot;b619fa46&quot;</td><td>null</td><td>null</td><td>null</td><td>&quot;2022-01-28&quot;</td><td>&quot;2021-11-30&quot;</td><td>17537.0</td><td>11691.4</td><td>29.88</td><td>29.88</td><td>6</td><td>null</td><td>null</td><td>12.0</td><td>12.0</td><td>0.0</td><td>12.0</td><td>0.0</td><td>0.0</td><td>null</td><td>null</td><td>0.0</td><td>0.0</td><td>0.0</td><td>163956.98</td><td>0.0</td><td>0.0</td><td>0.0</td><td>0.0</td><td>null</td><td>null</td><td>0.0</td><td>0.0</td><td>11.0</td><td>2.0</td><td>2022.0</td><td>2021.0</td><td>30.0</td><td>30.0</td><td>null</td><td>null</td><td>&quot;5d1b0cdd&quot;</td><td>&quot;5d1b0cdd&quot;</td><td>&quot;2022-01-27&quot;</td><td>null</td><td>null</td><td>&quot;a55475b1&quot;</td><td>&quot;a55475b1&quot;</td><td>120000.0</td><td>180000.0</td><td>null</td><td>null</td><td>null</td><td>null</td></tr></tbody></table></div>"
      ],
      "text/plain": [
       "+-----+-----+-----+-----+-----+-----+-----+-----+-----+-----+-----+-----+-----+-----+-----+-----+-----+-----+-----+-----+-----+-----+-----+-----+-----+-----+-----+-----+-----+-----+-----+-----+-----+-----+-----+-----+-----+-----+-----+-----+-----+-----+-----+-----+-----+-----+-----+-----+-----+-----+-----+-----+-----+-----+-----+-----+-----+-----+-----+-----+-----+-----+-----+-----+-----+-----+-----+-----+-----+-----+-----+-----+-----+-----+-----+-----+-----+-----+-----+\n",
       "| cas | ann | ann | cla | cla | con | con | con | cre | cre | dat | dat | dat | dat | dat | deb | deb | des | dpd | dpd | dpd | dpd | dpd | dpd | fin | fin | ins | ins | int | las | las | mon | mon | nom | nom | num | num | num | num | num | num | num | num | num | num | num | num | num | out | out | ove | ove | ove | ove | ove | ove | ove | ove | ove | ove | ove | ove | per | per | pro | pro | pur | pur | ref | res | res | sub | sub | tot | tot | tot | tot | tot | tot |\n",
       "| e_i | ual | ual | ssi | ssi | tra | tra | tra | dlm | dlm | eof | eof | eof | eof | eof | tou | tov | cri | max | max | max | max | max | max | anc | anc | tla | tla | ere | tup | tup | thl | thl | ina | ina | _gr | ber | ber | ber | ber | ber | ber | ber | ber | ber | ber | ber | ber | sta | sta | rdu | rdu | rdu | rdu | rdu | rdu | rdu | rdu | rdu | rdu | rdu | rdu | iod | iod | lon | lon | pos | pos | res | idu | idu | jec | jec | ala | ala | ald | ald | alo | alo |\n",
       "|  d  | eff | eff | fic | fic | cts | cts | cts | t_2 | t_9 | cre | cre | cre | cre | rea | tst | erd | pti | _13 | _75 | dat | dat | dat | dat | ial | ial | mou | mou | str | dat | dat | yin | yin | lra | lra | oup | ofc | ofc | ofi | ofi | ofo | ofo | ofo | ofo | ofo | ofo | ofo | ofo | ndi | ndi | eam | eam | eam | eam | eam | eam | eam | eam | eam | eam | eam | eam | ici | ici | gat | gat | eof | eof | hda | ala | ala | tro | tro | mou | mou | ebt | ebt | uts | uts |\n",
       "|     | ect | ect | ati | ati | t_5 | t_9 | um_ | 30A | 35A | den | den | dst | dst | lre | and | ue_ | on_ |  9P |  7P | emo | emo | eye | eye | ins | ins | nt_ | nt_ | ate | e_1 | e_3 | stl | stl | te_ | te_ |  1  | ont | ont | nst | nst | uts | uts | ver | ver | ver | ver | ver | ver | nga | nga | oun | oun | oun | oun | oun | oun | oun | oun | oun | oun | oun | oun | tyo | tyo | ion | ion | cre | cre | te_ | mou | mou | le_ | le_ | nt_ | nt_ | ove | ove | tan | tan |\n",
       "|     | ive | ive | ono | ono | 45M | 64M | 508 |     |     | d_2 | d_3 | art | art | pmt | _52 | 47A | 351 |     |     | nth | nth | ar_ | ar_ | tit | tit | 768 | 852 | _50 | 112 | 88D | amo | amo | 281 | 498 |     | rsv | rsv | ls_ | ls_ | tan | tan | due | due | due | due | due | due | mou | mou | t_3 | t_6 | tma | tma | tma | tma | tma | tma | tma | tma | tma | tma | fpm | fpm | cou | cou | d_4 | d_8 | 381 | nt_ | nt_ | 182 | 93M |  6A | 996 | rdu | rdu | dde | dde |\n",
       "|     | rat | rat | fco | fco |     |     | 571 |     |     | 89D | 53D | _18 | _73 | _13 |  5A |     |  M  |     |     | _44 | _89 | 596 | 896 | uti | uti |  A  |  A  |  8L |  D  |     | unt | unt |  L  |  L  |     | alu | alu | 229 | 320 | din | din | ins | ins | ins | ins | ins | ins | nt_ | nt_ |  1A | 59A | x2_ | x2_ | x2d | x2d | x_1 | x_3 | xda | xda | xda | xda | ts_ | ts_ | nt_ | nt_ | 26M | 74M | 388 | 488 | 856 |  M  |     |     |  A  | eva | eva | btv | btv |\n",
       "|     | e_1 | e_6 | ntr | ntr |     |     |  7L |     |     |     |     |  1D |  9D |  8D |     |     |     |     |     |  2T |  T  |  T  |  T  | on_ | on_ |     |     |     |     |     | _33 | _67 |     |     |     | e_2 | e_3 |  L  |  L  | stl | stl | tlm | tlm | tlm | tlm | tls | tls | 354 | 362 |     |     | 14A | 398 | ate | ate | 55A |  5A | tem | tem | tey | tey | 110 | 837 | 112 | 599 |     |     |  5D |  A  |  A  |     |     |     |     | lue | lue | alu | alu |\n",
       "|     | 99L |  3L | _13 | _40 |     |     |     |     |     |     |     |     |     |     |     |     |     |     |     |     |     |     |     | 382 | 591 |     |     |     |     |     |  2A |  4A |     |     |     | 58L | 58L |     |     | s_5 | s_5 | ax_ | ax_ | axd | axd | _72 | _83 |  A  |  A  |     |     |     |  A  | _10 | _11 |     |     | ont | ont | ear | ear |  2L |  L  |  0L |  L  |     |     |     |     |     |     |     |     |     | _17 | _71 | e_3 | e_6 |\n",
       "|     |     |     |  M  |  0M |     |     |     |     |     |     |     |     |     |     |     |     |     |     |     |     |     |     |     |  M  |  M  |     |     |     |     |     |     |     |     |     |     |     |     |     |     | 20L |  9L | 103 | 115 | at_ | at_ |  5L |  4L |     |     |     |     |     |     | 02D | 42D |     |     | h_2 | h_3 | _2T | _99 |     |     |     |     |     |     |     |     |     |     |     |     |     |  8A |  8A |  9A | 68A |\n",
       "|     |     |     |     |     |     |     |     |     |     |     |     |     |     |     |     |     |     |     |     |     |     |     |     |     |     |     |     |     |     |     |     |     |     |     |     |     |     |     |     |     |     |  9L |  1L | 148 | 641 |     |     |     |     |     |     |     |     |     |     |     |     | 84T | 65T |     |  4T |     |     |     |     |     |     |     |     |     |     |     |     |     |     |     |     |     |\n",
       "|     |     |     |     |     |     |     |     |     |     |     |     |     |     |     |     |     |     |     |     |     |     |     |     |     |     |     |     |     |     |     |     |     |     |     |     |     |     |     |     |     |     |     |     |  D  |  D  |     |     |     |     |     |     |     |     |     |     |     |     |     |     |     |     |     |     |     |     |     |     |     |     |     |     |     |     |     |     |     |     |     |\n",
       "+=========================================================================================================================================================================================================================================================================================================================================================================================================================================================================================+\n",
       "| 576 | 34. | 34. | ea6 | ea6 | 724 | 724 | nul | nul | nul | 202 | 202 | 202 | 202 | 202 | nul | nul | a55 | 0.0 | 0.0 | 9.0 | 1.0 | 202 | 202 | b61 | b61 | nul | nul | nul | 202 | 202 | 506 | 116 | 29. | 29. |  3  | nul | nul | 5.0 | 10. | 0.0 | 9.0 | 0.0 | 0.0 | nul | nul | 0.0 | 0.0 | 0.0 | 305 | 0.0 | 0.0 | 0.0 | 0.0 | nul | nul | 0.0 | 0.0 | 9.0 | 1.0 | 202 | 202 | 30. | 30. | nul | nul | 5d1 | 5d1 | 202 | nul | nul | a55 | a55 | 120 | 520 | nul | nul | nul | nul |\n",
       "|  33 |  5  |  5  | 782 | 782 | 134 | 134 |  l  |  l  |  l  | 2-1 | 2-0 | 1-0 | 1-1 | 1-1 |  l  |  l  | 475 |     |     |     |     | 2.0 | 1.0 | 9fa | 9fa |  l  |  l  |  l  | 2-0 | 1-1 | 62. | 91. |  88 |  88 |     |  l  |  l  |     |  0  |     |     |     |     |  l  |  l  |     |     |     | 015 |     |     |     |     |  l  |  l  |     |     |     |     | 2.0 | 1.0 |  0  |  0  |  l  |  l  | b0c | b0c | 2-0 |  l  |  l  | 475 | 475 | 000 | 000 |  l  |  l  |  l  |  l  |\n",
       "|     |     |     |  cc |  cc |  4e |  4e |     |     |     | 2-0 | 8-0 | 8-0 | 2-0 | 0-2 |     |     |  b1 |     |     |     |     |     |     |  46 |  46 |     |     |     | 1-2 | 1-0 |  6  |  4  |     |     |     |     |     |     |     |     |     |     |     |     |     |     |     |     | .34 |     |     |     |     |     |     |     |     |     |     |     |     |     |     |     |     |  dd |  dd | 2-0 |     |     |  b1 |  b1 |  .0 |  .0 |     |     |     |     |\n",
       "|     |     |     |     |     |     |     |     |     |     |  6  |  6  |  6  |  6  |  5  |     |     |     |     |     |     |     |     |     |     |     |     |     |     |  8  |  4  |     |     |     |     |     |     |     |     |     |     |     |     |     |     |     |     |     |     |     |     |     |     |     |     |     |     |     |     |     |     |     |     |     |     |     |     |     |  8  |     |     |     |     |     |     |     |     |     |     |\n",
       "| 576 | 34. | 34. | ea6 | ea6 | 724 | 724 | nul | nul | nul | 202 | 202 | 202 | 202 | 202 | nul | nul | a55 | 0.0 | 0.0 | 10. | 1.0 | 202 | 202 | b61 | b61 | nul | nul | nul | 202 | 202 | 565 | 565 | 29. | 29. |  4  | nul | nul | 5.0 | 12. | 0.0 | 12. | 0.0 | 0.0 | nul | nul | 0.0 | 0.0 | 0.0 | 491 | 0.0 | 0.0 | 0.0 | 0.0 | nul | nul | 0.0 | 0.0 | 10. | 1.0 | 202 | 202 | 30. | 30. | nul | nul | 5d1 | 5d1 | 202 | nul | nul | a55 | a55 | 580 | 580 | nul | nul | nul | nul |\n",
       "|  33 |  5  |  5  | 782 | 782 | 134 | 134 |  l  |  l  |  l  | 2-1 | 2-0 | 1-0 | 1-1 | 1-1 |  l  |  l  | 475 |     |     |  0  |     | 2.0 | 1.0 | 9fa | 9fa |  l  |  l  |  l  | 2-0 | 1-1 | 08. | 08. |  88 |  88 |     |  l  |  l  |     |  0  |     |  0  |     |     |  l  |  l  |     |     |     | 193 |     |     |     |     |  l  |  l  |     |     |  0  |     | 2.0 | 1.0 |  0  |  0  |  l  |  l  | b0c | b0c | 2-0 |  l  |  l  | 475 | 475 | 000 | 000 |  l  |  l  |  l  |  l  |\n",
       "|     |     |     |  cc |  cc |  4e |  4e |     |     |     | 2-2 | 9-1 | 9-1 | 2-2 | 1-2 |     |     |  b1 |     |     |     |     |     |     |  46 |  46 |     |     |     | 1-2 | 1-3 | 402 | 402 |     |     |     |     |     |     |     |     |     |     |     |     |     |     |     |     |  .5 |     |     |     |     |     |     |     |     |     |     |     |     |     |     |     |     |  dd |  dd | 2-0 |     |     |  b1 |  b1 |  .0 |  .0 |     |     |     |     |\n",
       "|     |     |     |     |     |     |     |     |     |     |  9  |  0  |  0  |  9  |  2  |     |     |     |     |     |     |     |     |     |     |     |     |     |     |  8  |  0  |     |     |     |     |     |     |     |     |     |     |     |     |     |     |     |     |     |     |     |     |     |     |     |     |     |     |     |     |     |     |     |     |     |     |     |     |     |  8  |     |     |     |     |     |     |     |     |     |     |\n",
       "| 576 | 34. | 34. | ea6 | ea6 | 724 | 724 | nul | nul | nul | 202 | 202 | 202 | 202 | 202 | nul | nul | a55 | 0.0 | 0.0 | 11. | 2.0 | 202 | 202 | b61 | b61 | nul | nul | nul | 202 | 202 | 175 | 116 | 29. | 29. |  6  | nul | nul | 12. | 12. | 0.0 | 12. | 0.0 | 0.0 | nul | nul | 0.0 | 0.0 | 0.0 | 163 | 0.0 | 0.0 | 0.0 | 0.0 | nul | nul | 0.0 | 0.0 | 11. | 2.0 | 202 | 202 | 30. | 30. | nul | nul | 5d1 | 5d1 | 202 | nul | nul | a55 | a55 | 120 | 180 | nul | nul | nul | nul |\n",
       "|  33 |  5  |  5  | 782 | 782 | 134 | 134 |  l  |  l  |  l  | 3-0 | 2-1 | 1-1 | 2-0 | 1-1 |  l  |  l  | 475 |     |     |  0  |     | 2.0 | 1.0 | 9fa | 9fa |  l  |  l  |  l  | 2-0 | 1-1 | 37. | 91. |  88 |  88 |     |  l  |  l  |  0  |  0  |     |  0  |     |     |  l  |  l  |     |     |     | 956 |     |     |     |     |  l  |  l  |     |     |  0  |     | 2.0 | 1.0 |  0  |  0  |  l  |  l  | b0c | b0c | 2-0 |  l  |  l  | 475 | 475 | 000 | 000 |  l  |  l  |  l  |  l  |\n",
       "|     |     |     |  cc |  cc |  4e |  4e |     |     |     | 1-0 | 0-2 | 0-2 | 1-0 | 1-2 |     |     |  b1 |     |     |     |     |     |     |  46 |  46 |     |     |     | 1-2 | 1-3 |  0  |  4  |     |     |     |     |     |     |     |     |     |     |     |     |     |     |     |     | .98 |     |     |     |     |     |     |     |     |     |     |     |     |     |     |     |     |  dd |  dd | 1-2 |     |     |  b1 |  b1 |  .0 |  .0 |     |     |     |     |\n",
       "|     |     |     |     |     |     |     |     |     |     |  6  |  7  |  7  |  6  |  2  |     |     |     |     |     |     |     |     |     |     |     |     |     |     |  8  |  0  |     |     |     |     |     |     |     |     |     |     |     |     |     |     |     |     |     |     |     |     |     |     |     |     |     |     |     |     |     |     |     |     |     |     |     |     |     |  7  |     |     |     |     |     |     |     |     |     |     |\n",
       "+-----+-----+-----+-----+-----+-----+-----+-----+-----+-----+-----+-----+-----+-----+-----+-----+-----+-----+-----+-----+-----+-----+-----+-----+-----+-----+-----+-----+-----+-----+-----+-----+-----+-----+-----+-----+-----+-----+-----+-----+-----+-----+-----+-----+-----+-----+-----+-----+-----+-----+-----+-----+-----+-----+-----+-----+-----+-----+-----+-----+-----+-----+-----+-----+-----+-----+-----+-----+-----+-----+-----+-----+-----+-----+-----+-----+-----+-----+-----+"
      ]
     },
     "metadata": {},
     "output_type": "display_data"
    },
    {
     "data": {
      "text/html": [
       "<div><style>\n",
       ".dataframe > thead > tr,\n",
       ".dataframe > tbody > tr {\n",
       "  text-align: right;\n",
       "  white-space: pre-wrap;\n",
       "}\n",
       "</style>\n",
       "<table border=\"1\" class=\"dataframe\"><thead><tr><th>case_id</th><th>annualeffectiverate_199L</th><th>annualeffectiverate_63L</th><th>classificationofcontr_13M</th><th>classificationofcontr_400M</th><th>contractst_545M</th><th>contractst_964M</th><th>contractsum_5085717L</th><th>credlmt_230A</th><th>credlmt_935A</th><th>dateofcredend_289D</th><th>dateofcredend_353D</th><th>dateofcredstart_181D</th><th>dateofcredstart_739D</th><th>dateofrealrepmt_138D</th><th>debtoutstand_525A</th><th>debtoverdue_47A</th><th>description_351M</th><th>dpdmax_139P</th><th>dpdmax_757P</th><th>dpdmaxdatemonth_442T</th><th>dpdmaxdatemonth_89T</th><th>dpdmaxdateyear_596T</th><th>dpdmaxdateyear_896T</th><th>financialinstitution_382M</th><th>financialinstitution_591M</th><th>instlamount_768A</th><th>instlamount_852A</th><th>interestrate_508L</th><th>lastupdate_1112D</th><th>lastupdate_388D</th><th>monthlyinstlamount_332A</th><th>monthlyinstlamount_674A</th><th>nominalrate_281L</th><th>nominalrate_498L</th><th>num_group1</th><th>numberofcontrsvalue_258L</th><th>numberofcontrsvalue_358L</th><th>numberofinstls_229L</th><th>numberofinstls_320L</th><th>numberofoutstandinstls_520L</th><th>numberofoutstandinstls_59L</th><th>numberofoverdueinstlmax_1039L</th><th>numberofoverdueinstlmax_1151L</th><th>numberofoverdueinstlmaxdat_148D</th><th>numberofoverdueinstlmaxdat_641D</th><th>numberofoverdueinstls_725L</th><th>numberofoverdueinstls_834L</th><th>outstandingamount_354A</th><th>outstandingamount_362A</th><th>overdueamount_31A</th><th>overdueamount_659A</th><th>overdueamountmax2_14A</th><th>overdueamountmax2_398A</th><th>overdueamountmax2date_1002D</th><th>overdueamountmax2date_1142D</th><th>overdueamountmax_155A</th><th>overdueamountmax_35A</th><th>overdueamountmaxdatemonth_284T</th><th>overdueamountmaxdatemonth_365T</th><th>overdueamountmaxdateyear_2T</th><th>overdueamountmaxdateyear_994T</th><th>periodicityofpmts_1102L</th><th>periodicityofpmts_837L</th><th>prolongationcount_1120L</th><th>prolongationcount_599L</th><th>purposeofcred_426M</th><th>purposeofcred_874M</th><th>refreshdate_3813885D</th><th>residualamount_488A</th><th>residualamount_856A</th><th>subjectrole_182M</th><th>subjectrole_93M</th><th>totalamount_6A</th><th>totalamount_996A</th><th>totaldebtoverduevalue_178A</th><th>totaldebtoverduevalue_718A</th><th>totaloutstanddebtvalue_39A</th><th>totaloutstanddebtvalue_668A</th></tr></thead><tbody><tr><td>57549</td><td>46.79</td><td>null</td><td>&quot;a55475b1&quot;</td><td>&quot;ea6782cc&quot;</td><td>&quot;a55475b1&quot;</td><td>&quot;7241344e&quot;</td><td>null</td><td>17800.0</td><td>null</td><td>null</td><td>&quot;2024-08-10&quot;</td><td>&quot;2021-08-18&quot;</td><td>null</td><td>&quot;2021-10-16&quot;</td><td>null</td><td>null</td><td>&quot;a55475b1&quot;</td><td>null</td><td>0.0</td><td>1.0</td><td>null</td><td>null</td><td>2022.0</td><td>&quot;Home Credit&quot;</td><td>&quot;a55475b1&quot;</td><td>null</td><td>99.8</td><td>null</td><td>null</td><td>&quot;2021-10-16&quot;</td><td>null</td><td>99.8</td><td>null</td><td>45.0</td><td>10.0</td><td>null</td><td>null</td><td>null</td><td>null</td><td>null</td><td>null</td><td>null</td><td>0.0</td><td>null</td><td>null</td><td>null</td><td>0.0</td><td>null</td><td>null</td><td>0.0</td><td>null</td><td>null</td><td>0.0</td><td>null</td><td>null</td><td>null</td><td>0.0</td><td>1.0</td><td>null</td><td>null</td><td>2022.0</td><td>null</td><td>null</td><td>null</td><td>null</td><td>&quot;a55475b1&quot;</td><td>&quot;60c73645&quot;</td><td>null</td><td>0.0</td><td>null</td><td>&quot;a55475b1&quot;</td><td>&quot;a55475b1&quot;</td><td>null</td><td>null</td><td>null</td><td>null</td><td>null</td><td>null</td></tr><tr><td>57549</td><td>657.0</td><td>null</td><td>&quot;a55475b1&quot;</td><td>&quot;01f63ac8&quot;</td><td>&quot;a55475b1&quot;</td><td>&quot;7241344e&quot;</td><td>null</td><td>null</td><td>null</td><td>null</td><td>&quot;2017-05-08&quot;</td><td>&quot;2017-04-08&quot;</td><td>null</td><td>&quot;2020-09-19&quot;</td><td>null</td><td>null</td><td>&quot;a55475b1&quot;</td><td>null</td><td>0.0</td><td>2.0</td><td>null</td><td>null</td><td>2021.0</td><td>&quot;9a93e20f&quot;</td><td>&quot;a55475b1&quot;</td><td>null</td><td>null</td><td>null</td><td>null</td><td>&quot;2020-09-19&quot;</td><td>null</td><td>0.0</td><td>null</td><td>657.0</td><td>9.0</td><td>null</td><td>null</td><td>1.0</td><td>null</td><td>0.0</td><td>null</td><td>null</td><td>0.0</td><td>null</td><td>null</td><td>null</td><td>0.0</td><td>0.0</td><td>null</td><td>0.0</td><td>null</td><td>null</td><td>0.0</td><td>null</td><td>null</td><td>null</td><td>0.0</td><td>2.0</td><td>null</td><td>null</td><td>2021.0</td><td>null</td><td>null</td><td>0.0</td><td>null</td><td>&quot;a55475b1&quot;</td><td>&quot;96a8fdfe&quot;</td><td>null</td><td>null</td><td>null</td><td>&quot;a55475b1&quot;</td><td>&quot;a55475b1&quot;</td><td>7000.0</td><td>null</td><td>null</td><td>null</td><td>null</td><td>null</td></tr><tr><td>57549</td><td>null</td><td>24.37</td><td>&quot;ea6782cc&quot;</td><td>&quot;ea6782cc&quot;</td><td>&quot;7241344e&quot;</td><td>&quot;7241344e&quot;</td><td>51777.73</td><td>null</td><td>null</td><td>&quot;2022-04-11&quot;</td><td>&quot;2020-12-06&quot;</td><td>&quot;2016-12-06&quot;</td><td>&quot;2021-10-12&quot;</td><td>&quot;2020-12-07&quot;</td><td>null</td><td>null</td><td>&quot;a55475b1&quot;</td><td>0.0</td><td>3.0</td><td>12.0</td><td>3.0</td><td>2022.0</td><td>2019.0</td><td>&quot;P150_136_157&quot;</td><td>&quot;Home Credit&quot;</td><td>null</td><td>null</td><td>null</td><td>&quot;2022-01-25&quot;</td><td>&quot;2020-12-10&quot;</td><td>3546.6</td><td>0.0</td><td>22.0</td><td>null</td><td>1.0</td><td>null</td><td>null</td><td>0.0</td><td>6.0</td><td>0.0</td><td>3.0</td><td>0.0</td><td>21.0</td><td>&quot;2017-02-02&quot;</td><td>null</td><td>0.0</td><td>0.0</td><td>0.0</td><td>10355.546</td><td>0.0</td><td>0.0</td><td>0.0</td><td>1744.942</td><td>&quot;2017-01-19&quot;</td><td>null</td><td>0.0</td><td>1611.2361</td><td>12.0</td><td>3.0</td><td>2022.0</td><td>2019.0</td><td>30.0</td><td>30.0</td><td>null</td><td>null</td><td>&quot;60c73645&quot;</td><td>&quot;96a8fdfe&quot;</td><td>&quot;2022-01-31&quot;</td><td>null</td><td>null</td><td>&quot;a55475b1&quot;</td><td>&quot;a55475b1&quot;</td><td>56000.0</td><td>20000.0</td><td>null</td><td>null</td><td>null</td><td>null</td></tr></tbody></table></div>"
      ],
      "text/plain": [
       "+-----+-----+-----+-----+-----+-----+-----+-----+-----+-----+-----+-----+-----+-----+-----+-----+-----+-----+-----+-----+-----+-----+-----+-----+-----+-----+-----+-----+-----+-----+-----+-----+-----+-----+-----+-----+-----+-----+-----+-----+-----+-----+-----+-----+-----+-----+-----+-----+-----+-----+-----+-----+-----+-----+-----+-----+-----+-----+-----+-----+-----+-----+-----+-----+-----+-----+-----+-----+-----+-----+-----+-----+-----+-----+-----+-----+-----+-----+-----+\n",
       "| cas | ann | ann | cla | cla | con | con | con | cre | cre | dat | dat | dat | dat | dat | deb | deb | des | dpd | dpd | dpd | dpd | dpd | dpd | fin | fin | ins | ins | int | las | las | mon | mon | nom | nom | num | num | num | num | num | num | num | num | num | num | num | num | num | out | out | ove | ove | ove | ove | ove | ove | ove | ove | ove | ove | ove | ove | per | per | pro | pro | pur | pur | ref | res | res | sub | sub | tot | tot | tot | tot | tot | tot |\n",
       "| e_i | ual | ual | ssi | ssi | tra | tra | tra | dlm | dlm | eof | eof | eof | eof | eof | tou | tov | cri | max | max | max | max | max | max | anc | anc | tla | tla | ere | tup | tup | thl | thl | ina | ina | _gr | ber | ber | ber | ber | ber | ber | ber | ber | ber | ber | ber | ber | sta | sta | rdu | rdu | rdu | rdu | rdu | rdu | rdu | rdu | rdu | rdu | rdu | rdu | iod | iod | lon | lon | pos | pos | res | idu | idu | jec | jec | ala | ala | ald | ald | alo | alo |\n",
       "|  d  | eff | eff | fic | fic | cts | cts | cts | t_2 | t_9 | cre | cre | cre | cre | rea | tst | erd | pti | _13 | _75 | dat | dat | dat | dat | ial | ial | mou | mou | str | dat | dat | yin | yin | lra | lra | oup | ofc | ofc | ofi | ofi | ofo | ofo | ofo | ofo | ofo | ofo | ofo | ofo | ndi | ndi | eam | eam | eam | eam | eam | eam | eam | eam | eam | eam | eam | eam | ici | ici | gat | gat | eof | eof | hda | ala | ala | tro | tro | mou | mou | ebt | ebt | uts | uts |\n",
       "|     | ect | ect | ati | ati | t_5 | t_9 | um_ | 30A | 35A | den | den | dst | dst | lre | and | ue_ | on_ |  9P |  7P | emo | emo | eye | eye | ins | ins | nt_ | nt_ | ate | e_1 | e_3 | stl | stl | te_ | te_ |  1  | ont | ont | nst | nst | uts | uts | ver | ver | ver | ver | ver | ver | nga | nga | oun | oun | oun | oun | oun | oun | oun | oun | oun | oun | oun | oun | tyo | tyo | ion | ion | cre | cre | te_ | mou | mou | le_ | le_ | nt_ | nt_ | ove | ove | tan | tan |\n",
       "|     | ive | ive | ono | ono | 45M | 64M | 508 |     |     | d_2 | d_3 | art | art | pmt | _52 | 47A | 351 |     |     | nth | nth | ar_ | ar_ | tit | tit | 768 | 852 | _50 | 112 | 88D | amo | amo | 281 | 498 |     | rsv | rsv | ls_ | ls_ | tan | tan | due | due | due | due | due | due | mou | mou | t_3 | t_6 | tma | tma | tma | tma | tma | tma | tma | tma | tma | tma | fpm | fpm | cou | cou | d_4 | d_8 | 381 | nt_ | nt_ | 182 | 93M |  6A | 996 | rdu | rdu | dde | dde |\n",
       "|     | rat | rat | fco | fco |     |     | 571 |     |     | 89D | 53D | _18 | _73 | _13 |  5A |     |  M  |     |     | _44 | _89 | 596 | 896 | uti | uti |  A  |  A  |  8L |  D  |     | unt | unt |  L  |  L  |     | alu | alu | 229 | 320 | din | din | ins | ins | ins | ins | ins | ins | nt_ | nt_ |  1A | 59A | x2_ | x2_ | x2d | x2d | x_1 | x_3 | xda | xda | xda | xda | ts_ | ts_ | nt_ | nt_ | 26M | 74M | 388 | 488 | 856 |  M  |     |     |  A  | eva | eva | btv | btv |\n",
       "|     | e_1 | e_6 | ntr | ntr |     |     |  7L |     |     |     |     |  1D |  9D |  8D |     |     |     |     |     |  2T |  T  |  T  |  T  | on_ | on_ |     |     |     |     |     | _33 | _67 |     |     |     | e_2 | e_3 |  L  |  L  | stl | stl | tlm | tlm | tlm | tlm | tls | tls | 354 | 362 |     |     | 14A | 398 | ate | ate | 55A |  5A | tem | tem | tey | tey | 110 | 837 | 112 | 599 |     |     |  5D |  A  |  A  |     |     |     |     | lue | lue | alu | alu |\n",
       "|     | 99L |  3L | _13 | _40 |     |     |     |     |     |     |     |     |     |     |     |     |     |     |     |     |     |     |     | 382 | 591 |     |     |     |     |     |  2A |  4A |     |     |     | 58L | 58L |     |     | s_5 | s_5 | ax_ | ax_ | axd | axd | _72 | _83 |  A  |  A  |     |     |     |  A  | _10 | _11 |     |     | ont | ont | ear | ear |  2L |  L  |  0L |  L  |     |     |     |     |     |     |     |     |     | _17 | _71 | e_3 | e_6 |\n",
       "|     |     |     |  M  |  0M |     |     |     |     |     |     |     |     |     |     |     |     |     |     |     |     |     |     |     |  M  |  M  |     |     |     |     |     |     |     |     |     |     |     |     |     |     | 20L |  9L | 103 | 115 | at_ | at_ |  5L |  4L |     |     |     |     |     |     | 02D | 42D |     |     | h_2 | h_3 | _2T | _99 |     |     |     |     |     |     |     |     |     |     |     |     |     |  8A |  8A |  9A | 68A |\n",
       "|     |     |     |     |     |     |     |     |     |     |     |     |     |     |     |     |     |     |     |     |     |     |     |     |     |     |     |     |     |     |     |     |     |     |     |     |     |     |     |     |     |     |  9L |  1L | 148 | 641 |     |     |     |     |     |     |     |     |     |     |     |     | 84T | 65T |     |  4T |     |     |     |     |     |     |     |     |     |     |     |     |     |     |     |     |     |\n",
       "|     |     |     |     |     |     |     |     |     |     |     |     |     |     |     |     |     |     |     |     |     |     |     |     |     |     |     |     |     |     |     |     |     |     |     |     |     |     |     |     |     |     |     |     |  D  |  D  |     |     |     |     |     |     |     |     |     |     |     |     |     |     |     |     |     |     |     |     |     |     |     |     |     |     |     |     |     |     |     |     |     |\n",
       "+=========================================================================================================================================================================================================================================================================================================================================================================================================================================================================================+\n",
       "| 575 | 46. | nul | a55 | ea6 | a55 | 724 | nul | 178 | nul | nul | 202 | 202 | nul | 202 | nul | nul | a55 | nul | 0.0 | 1.0 | nul | nul | 202 | Hom | a55 | nul | 99. | nul | nul | 202 | nul | 99. | nul | 45. | 10. | nul | nul | nul | nul | nul | nul | nul | 0.0 | nul | nul | nul | 0.0 | nul | nul | 0.0 | nul | nul | 0.0 | nul | nul | nul | 0.0 | 1.0 | nul | nul | 202 | nul | nul | nul | nul | a55 | 60c | nul | 0.0 | nul | a55 | a55 | nul | nul | nul | nul | nul | nul |\n",
       "|  49 |  79 |  l  | 475 | 782 | 475 | 134 |  l  | 00. |  l  |  l  | 4-0 | 1-0 |  l  | 1-1 |  l  |  l  | 475 |  l  |     |     |  l  |  l  | 2.0 |  e  | 475 |  l  |  8  |  l  |  l  | 1-1 |  l  |  8  |  l  |  0  |  0  |  l  |  l  |  l  |  l  |  l  |  l  |  l  |     |  l  |  l  |  l  |     |  l  |  l  |     |  l  |  l  |     |  l  |  l  |  l  |     |     |  l  |  l  | 2.0 |  l  |  l  |  l  |  l  | 475 | 736 |  l  |     |  l  | 475 | 475 |  l  |  l  |  l  |  l  |  l  |  l  |\n",
       "|     |     |     |  b1 |  cc |  b1 |  4e |     |  0  |     |     | 8-1 | 8-1 |     | 0-1 |     |     |  b1 |     |     |     |     |     |     | Cre |  b1 |     |     |     |     | 0-1 |     |     |     |     |     |     |     |     |     |     |     |     |     |     |     |     |     |     |     |     |     |     |     |     |     |     |     |     |     |     |     |     |     |     |     |  b1 |  45 |     |     |     |  b1 |  b1 |     |     |     |     |     |     |\n",
       "|     |     |     |     |     |     |     |     |     |     |     |  0  |  8  |     |  6  |     |     |     |     |     |     |     |     |     | dit |     |     |     |     |     |  6  |     |     |     |     |     |     |     |     |     |     |     |     |     |     |     |     |     |     |     |     |     |     |     |     |     |     |     |     |     |     |     |     |     |     |     |     |     |     |     |     |     |     |     |     |     |     |     |     |\n",
       "| 575 | 657 | nul | a55 | 01f | a55 | 724 | nul | nul | nul | nul | 201 | 201 | nul | 202 | nul | nul | a55 | nul | 0.0 | 2.0 | nul | nul | 202 | 9a9 | a55 | nul | nul | nul | nul | 202 | nul | 0.0 | nul | 657 | 9.0 | nul | nul | 1.0 | nul | 0.0 | nul | nul | 0.0 | nul | nul | nul | 0.0 | 0.0 | nul | 0.0 | nul | nul | 0.0 | nul | nul | nul | 0.0 | 2.0 | nul | nul | 202 | nul | nul | 0.0 | nul | a55 | 96a | nul | nul | nul | a55 | a55 | 700 | nul | nul | nul | nul | nul |\n",
       "|  49 |  .0 |  l  | 475 | 63a | 475 | 134 |  l  |  l  |  l  |  l  | 7-0 | 7-0 |  l  | 0-0 |  l  |  l  | 475 |  l  |     |     |  l  |  l  | 1.0 | 3e2 | 475 |  l  |  l  |  l  |  l  | 0-0 |  l  |     |  l  |  .0 |     |  l  |  l  |     |  l  |     |  l  |  l  |     |  l  |  l  |  l  |     |     |  l  |     |  l  |  l  |     |  l  |  l  |  l  |     |     |  l  |  l  | 1.0 |  l  |  l  |     |  l  | 475 | 8fd |  l  |  l  |  l  | 475 | 475 | 0.0 |  l  |  l  |  l  |  l  |  l  |\n",
       "|     |     |     |  b1 |  c8 |  b1 |  4e |     |     |     |     | 5-0 | 4-0 |     | 9-1 |     |     |  b1 |     |     |     |     |     |     |  0f |  b1 |     |     |     |     | 9-1 |     |     |     |     |     |     |     |     |     |     |     |     |     |     |     |     |     |     |     |     |     |     |     |     |     |     |     |     |     |     |     |     |     |     |     |  b1 |  fe |     |     |     |  b1 |  b1 |     |     |     |     |     |     |\n",
       "|     |     |     |     |     |     |     |     |     |     |     |  8  |  8  |     |  9  |     |     |     |     |     |     |     |     |     |     |     |     |     |     |     |  9  |     |     |     |     |     |     |     |     |     |     |     |     |     |     |     |     |     |     |     |     |     |     |     |     |     |     |     |     |     |     |     |     |     |     |     |     |     |     |     |     |     |     |     |     |     |     |     |     |\n",
       "| 575 | nul | 24. | ea6 | ea6 | 724 | 724 | 517 | nul | nul | 202 | 202 | 201 | 202 | 202 | nul | nul | a55 | 0.0 | 3.0 | 12. | 3.0 | 202 | 201 | P15 | Hom | nul | nul | nul | 202 | 202 | 354 | 0.0 | 22. | nul | 1.0 | nul | nul | 0.0 | 6.0 | 0.0 | 3.0 | 0.0 | 21. | 201 | nul | 0.0 | 0.0 | 0.0 | 103 | 0.0 | 0.0 | 0.0 | 174 | 201 | nul | 0.0 | 161 | 12. | 3.0 | 202 | 201 | 30. | 30. | nul | nul | 60c | 96a | 202 | nul | nul | a55 | a55 | 560 | 200 | nul | nul | nul | nul |\n",
       "|  49 |  l  |  37 | 782 | 782 | 134 | 134 | 77. |  l  |  l  | 2-0 | 0-1 | 6-1 | 1-1 | 0-1 |  l  |  l  | 475 |     |     |  0  |     | 2.0 | 9.0 | 0_1 |  e  |  l  |  l  |  l  | 2-0 | 0-1 | 6.6 |     |  0  |  l  |     |  l  |  l  |     |     |     |     |     |  0  | 7-0 |  l  |     |     |     | 55. |     |     |     | 4.9 | 7-0 |  l  |     | 1.2 |  0  |     | 2.0 | 9.0 |  0  |  0  |  l  |  l  | 736 | 8fd | 2-0 |  l  |  l  | 475 | 475 | 00. | 00. |  l  |  l  |  l  |  l  |\n",
       "|     |     |     |  cc |  cc |  4e |  4e |  73 |     |     | 4-1 | 2-0 | 2-0 | 0-1 | 2-0 |     |     |  b1 |     |     |     |     |     |     | 36_ | Cre |     |     |     | 1-2 | 2-1 |     |     |     |     |     |     |     |     |     |     |     |     |     | 2-0 |     |     |     |     | 546 |     |     |     |  42 | 1-1 |     |     | 361 |     |     |     |     |     |     |     |     |  45 |  fe | 1-3 |     |     |  b1 |  b1 |  0  |  0  |     |     |     |     |\n",
       "|     |     |     |     |     |     |     |     |     |     |  1  |  6  |  6  |  2  |  7  |     |     |     |     |     |     |     |     |     | 157 | dit |     |     |     |  5  |  0  |     |     |     |     |     |     |     |     |     |     |     |     |     |  2  |     |     |     |     |     |     |     |     |     |  9  |     |     |     |     |     |     |     |     |     |     |     |     |     |  1  |     |     |     |     |     |     |     |     |     |     |\n",
       "+-----+-----+-----+-----+-----+-----+-----+-----+-----+-----+-----+-----+-----+-----+-----+-----+-----+-----+-----+-----+-----+-----+-----+-----+-----+-----+-----+-----+-----+-----+-----+-----+-----+-----+-----+-----+-----+-----+-----+-----+-----+-----+-----+-----+-----+-----+-----+-----+-----+-----+-----+-----+-----+-----+-----+-----+-----+-----+-----+-----+-----+-----+-----+-----+-----+-----+-----+-----+-----+-----+-----+-----+-----+-----+-----+-----+-----+-----+-----+"
      ]
     },
     "metadata": {},
     "output_type": "display_data"
    },
    {
     "data": {
      "text/html": [
       "<div><style>\n",
       ".dataframe > thead > tr,\n",
       ".dataframe > tbody > tr {\n",
       "  text-align: right;\n",
       "  white-space: pre-wrap;\n",
       "}\n",
       "</style>\n",
       "<table border=\"1\" class=\"dataframe\"><thead><tr><th>case_id</th><th>annualeffectiverate_199L</th><th>annualeffectiverate_63L</th><th>classificationofcontr_13M</th><th>classificationofcontr_400M</th><th>contractst_545M</th><th>contractst_964M</th><th>contractsum_5085717L</th><th>credlmt_230A</th><th>credlmt_935A</th><th>dateofcredend_289D</th><th>dateofcredend_353D</th><th>dateofcredstart_181D</th><th>dateofcredstart_739D</th><th>dateofrealrepmt_138D</th><th>debtoutstand_525A</th><th>debtoverdue_47A</th><th>description_351M</th><th>dpdmax_139P</th><th>dpdmax_757P</th><th>dpdmaxdatemonth_442T</th><th>dpdmaxdatemonth_89T</th><th>dpdmaxdateyear_596T</th><th>dpdmaxdateyear_896T</th><th>financialinstitution_382M</th><th>financialinstitution_591M</th><th>instlamount_768A</th><th>instlamount_852A</th><th>interestrate_508L</th><th>lastupdate_1112D</th><th>lastupdate_388D</th><th>monthlyinstlamount_332A</th><th>monthlyinstlamount_674A</th><th>nominalrate_281L</th><th>nominalrate_498L</th><th>num_group1</th><th>numberofcontrsvalue_258L</th><th>numberofcontrsvalue_358L</th><th>numberofinstls_229L</th><th>numberofinstls_320L</th><th>numberofoutstandinstls_520L</th><th>numberofoutstandinstls_59L</th><th>numberofoverdueinstlmax_1039L</th><th>numberofoverdueinstlmax_1151L</th><th>numberofoverdueinstlmaxdat_148D</th><th>numberofoverdueinstlmaxdat_641D</th><th>numberofoverdueinstls_725L</th><th>numberofoverdueinstls_834L</th><th>outstandingamount_354A</th><th>outstandingamount_362A</th><th>overdueamount_31A</th><th>overdueamount_659A</th><th>overdueamountmax2_14A</th><th>overdueamountmax2_398A</th><th>overdueamountmax2date_1002D</th><th>overdueamountmax2date_1142D</th><th>overdueamountmax_155A</th><th>overdueamountmax_35A</th><th>overdueamountmaxdatemonth_284T</th><th>overdueamountmaxdatemonth_365T</th><th>overdueamountmaxdateyear_2T</th><th>overdueamountmaxdateyear_994T</th><th>periodicityofpmts_1102L</th><th>periodicityofpmts_837L</th><th>prolongationcount_1120L</th><th>prolongationcount_599L</th><th>purposeofcred_426M</th><th>purposeofcred_874M</th><th>refreshdate_3813885D</th><th>residualamount_488A</th><th>residualamount_856A</th><th>subjectrole_182M</th><th>subjectrole_93M</th><th>totalamount_6A</th><th>totalamount_996A</th><th>totaldebtoverduevalue_178A</th><th>totaldebtoverduevalue_718A</th><th>totaloutstanddebtvalue_39A</th><th>totaloutstanddebtvalue_668A</th></tr></thead><tbody><tr><td>57760</td><td>37.0</td><td>null</td><td>&quot;a55475b1&quot;</td><td>&quot;ea6782cc&quot;</td><td>&quot;a55475b1&quot;</td><td>&quot;7241344e&quot;</td><td>null</td><td>null</td><td>null</td><td>null</td><td>&quot;2020-11-13&quot;</td><td>&quot;2020-06-15&quot;</td><td>null</td><td>&quot;2020-11-13&quot;</td><td>null</td><td>null</td><td>&quot;a55475b1&quot;</td><td>null</td><td>0.0</td><td>7.0</td><td>null</td><td>null</td><td>2021.0</td><td>&quot;Home Credit&quot;</td><td>&quot;a55475b1&quot;</td><td>null</td><td>null</td><td>null</td><td>null</td><td>&quot;2020-11-13&quot;</td><td>null</td><td>14092.601</td><td>null</td><td>31.9</td><td>4</td><td>null</td><td>null</td><td>5.0</td><td>null</td><td>0.0</td><td>null</td><td>null</td><td>0.0</td><td>null</td><td>null</td><td>null</td><td>0.0</td><td>0.0</td><td>null</td><td>0.0</td><td>null</td><td>null</td><td>0.0</td><td>null</td><td>null</td><td>null</td><td>0.0</td><td>7.0</td><td>null</td><td>null</td><td>2021.0</td><td>30.0</td><td>null</td><td>null</td><td>null</td><td>&quot;a55475b1&quot;</td><td>&quot;60c73645&quot;</td><td>&quot;2021-09-13&quot;</td><td>null</td><td>null</td><td>&quot;a55475b1&quot;</td><td>&quot;a55475b1&quot;</td><td>247625.61</td><td>null</td><td>null</td><td>null</td><td>null</td><td>null</td></tr><tr><td>57760</td><td>42.58</td><td>null</td><td>&quot;a55475b1&quot;</td><td>&quot;01f63ac8&quot;</td><td>&quot;a55475b1&quot;</td><td>&quot;7241344e&quot;</td><td>null</td><td>null</td><td>null</td><td>null</td><td>&quot;2020-11-09&quot;</td><td>&quot;2017-11-09&quot;</td><td>null</td><td>&quot;2020-04-01&quot;</td><td>null</td><td>null</td><td>&quot;a55475b1&quot;</td><td>null</td><td>281.0</td><td>4.0</td><td>null</td><td>null</td><td>2021.0</td><td>&quot;7df02535&quot;</td><td>&quot;a55475b1&quot;</td><td>null</td><td>null</td><td>null</td><td>null</td><td>&quot;2020-04-01&quot;</td><td>null</td><td>0.0</td><td>null</td><td>null</td><td>2</td><td>null</td><td>null</td><td>0.0</td><td>null</td><td>0.0</td><td>null</td><td>null</td><td>313.0</td><td>&quot;2020-03-16&quot;</td><td>null</td><td>null</td><td>0.0</td><td>0.0</td><td>null</td><td>0.0</td><td>null</td><td>null</td><td>3998.0</td><td>&quot;2020-03-16&quot;</td><td>null</td><td>null</td><td>3998.0</td><td>4.0</td><td>null</td><td>null</td><td>2021.0</td><td>30.0</td><td>null</td><td>null</td><td>null</td><td>&quot;a55475b1&quot;</td><td>&quot;96a8fdfe&quot;</td><td>&quot;2021-03-01&quot;</td><td>null</td><td>null</td><td>&quot;a55475b1&quot;</td><td>&quot;a55475b1&quot;</td><td>100000.0</td><td>null</td><td>null</td><td>null</td><td>null</td><td>null</td></tr><tr><td>57760</td><td>null</td><td>56.0</td><td>&quot;ea6782cc&quot;</td><td>&quot;ea6782cc&quot;</td><td>&quot;7241344e&quot;</td><td>&quot;7241344e&quot;</td><td>1.4215e6</td><td>100000.0</td><td>320000.0</td><td>&quot;2022-09-08&quot;</td><td>&quot;2019-09-02&quot;</td><td>&quot;2016-09-05&quot;</td><td>&quot;2016-09-08&quot;</td><td>&quot;2018-07-26&quot;</td><td>284305.88</td><td>0.0</td><td>&quot;a55475b1&quot;</td><td>0.0</td><td>10.0</td><td>2.0</td><td>11.0</td><td>2020.0</td><td>2019.0</td><td>&quot;Home Credit&quot;</td><td>&quot;b619fa46&quot;</td><td>14448.601</td><td>867.00995</td><td>null</td><td>&quot;2021-09-08&quot;</td><td>&quot;2018-07-26&quot;</td><td>14448.601</td><td>867.00995</td><td>20.95</td><td>45.0</td><td>0</td><td>1.0</td><td>5.0</td><td>null</td><td>null</td><td>null</td><td>null</td><td>1.0</td><td>11.0</td><td>&quot;2018-01-25&quot;</td><td>&quot;2017-09-09&quot;</td><td>0.0</td><td>0.0</td><td>null</td><td>null</td><td>0.0</td><td>0.0</td><td>950.618</td><td>780.0</td><td>&quot;2018-01-25&quot;</td><td>&quot;2017-09-09&quot;</td><td>0.0</td><td>780.0</td><td>2.0</td><td>11.0</td><td>2020.0</td><td>2019.0</td><td>null</td><td>null</td><td>null</td><td>null</td><td>&quot;60c73645&quot;</td><td>&quot;60c73645&quot;</td><td>&quot;2021-09-13&quot;</td><td>0.0</td><td>284305.88</td><td>&quot;ab3c25cf&quot;</td><td>&quot;ab3c25cf&quot;</td><td>null</td><td>null</td><td>0.0</td><td>0.0</td><td>284305.88</td><td>0.0</td></tr></tbody></table></div>"
      ],
      "text/plain": [
       "+-----+-----+-----+-----+-----+-----+-----+-----+-----+-----+-----+-----+-----+-----+-----+-----+-----+-----+-----+-----+-----+-----+-----+-----+-----+-----+-----+-----+-----+-----+-----+-----+-----+-----+-----+-----+-----+-----+-----+-----+-----+-----+-----+-----+-----+-----+-----+-----+-----+-----+-----+-----+-----+-----+-----+-----+-----+-----+-----+-----+-----+-----+-----+-----+-----+-----+-----+-----+-----+-----+-----+-----+-----+-----+-----+-----+-----+-----+-----+\n",
       "| cas | ann | ann | cla | cla | con | con | con | cre | cre | dat | dat | dat | dat | dat | deb | deb | des | dpd | dpd | dpd | dpd | dpd | dpd | fin | fin | ins | ins | int | las | las | mon | mon | nom | nom | num | num | num | num | num | num | num | num | num | num | num | num | num | out | out | ove | ove | ove | ove | ove | ove | ove | ove | ove | ove | ove | ove | per | per | pro | pro | pur | pur | ref | res | res | sub | sub | tot | tot | tot | tot | tot | tot |\n",
       "| e_i | ual | ual | ssi | ssi | tra | tra | tra | dlm | dlm | eof | eof | eof | eof | eof | tou | tov | cri | max | max | max | max | max | max | anc | anc | tla | tla | ere | tup | tup | thl | thl | ina | ina | _gr | ber | ber | ber | ber | ber | ber | ber | ber | ber | ber | ber | ber | sta | sta | rdu | rdu | rdu | rdu | rdu | rdu | rdu | rdu | rdu | rdu | rdu | rdu | iod | iod | lon | lon | pos | pos | res | idu | idu | jec | jec | ala | ala | ald | ald | alo | alo |\n",
       "|  d  | eff | eff | fic | fic | cts | cts | cts | t_2 | t_9 | cre | cre | cre | cre | rea | tst | erd | pti | _13 | _75 | dat | dat | dat | dat | ial | ial | mou | mou | str | dat | dat | yin | yin | lra | lra | oup | ofc | ofc | ofi | ofi | ofo | ofo | ofo | ofo | ofo | ofo | ofo | ofo | ndi | ndi | eam | eam | eam | eam | eam | eam | eam | eam | eam | eam | eam | eam | ici | ici | gat | gat | eof | eof | hda | ala | ala | tro | tro | mou | mou | ebt | ebt | uts | uts |\n",
       "|     | ect | ect | ati | ati | t_5 | t_9 | um_ | 30A | 35A | den | den | dst | dst | lre | and | ue_ | on_ |  9P |  7P | emo | emo | eye | eye | ins | ins | nt_ | nt_ | ate | e_1 | e_3 | stl | stl | te_ | te_ |  1  | ont | ont | nst | nst | uts | uts | ver | ver | ver | ver | ver | ver | nga | nga | oun | oun | oun | oun | oun | oun | oun | oun | oun | oun | oun | oun | tyo | tyo | ion | ion | cre | cre | te_ | mou | mou | le_ | le_ | nt_ | nt_ | ove | ove | tan | tan |\n",
       "|     | ive | ive | ono | ono | 45M | 64M | 508 |     |     | d_2 | d_3 | art | art | pmt | _52 | 47A | 351 |     |     | nth | nth | ar_ | ar_ | tit | tit | 768 | 852 | _50 | 112 | 88D | amo | amo | 281 | 498 |     | rsv | rsv | ls_ | ls_ | tan | tan | due | due | due | due | due | due | mou | mou | t_3 | t_6 | tma | tma | tma | tma | tma | tma | tma | tma | tma | tma | fpm | fpm | cou | cou | d_4 | d_8 | 381 | nt_ | nt_ | 182 | 93M |  6A | 996 | rdu | rdu | dde | dde |\n",
       "|     | rat | rat | fco | fco |     |     | 571 |     |     | 89D | 53D | _18 | _73 | _13 |  5A |     |  M  |     |     | _44 | _89 | 596 | 896 | uti | uti |  A  |  A  |  8L |  D  |     | unt | unt |  L  |  L  |     | alu | alu | 229 | 320 | din | din | ins | ins | ins | ins | ins | ins | nt_ | nt_ |  1A | 59A | x2_ | x2_ | x2d | x2d | x_1 | x_3 | xda | xda | xda | xda | ts_ | ts_ | nt_ | nt_ | 26M | 74M | 388 | 488 | 856 |  M  |     |     |  A  | eva | eva | btv | btv |\n",
       "|     | e_1 | e_6 | ntr | ntr |     |     |  7L |     |     |     |     |  1D |  9D |  8D |     |     |     |     |     |  2T |  T  |  T  |  T  | on_ | on_ |     |     |     |     |     | _33 | _67 |     |     |     | e_2 | e_3 |  L  |  L  | stl | stl | tlm | tlm | tlm | tlm | tls | tls | 354 | 362 |     |     | 14A | 398 | ate | ate | 55A |  5A | tem | tem | tey | tey | 110 | 837 | 112 | 599 |     |     |  5D |  A  |  A  |     |     |     |     | lue | lue | alu | alu |\n",
       "|     | 99L |  3L | _13 | _40 |     |     |     |     |     |     |     |     |     |     |     |     |     |     |     |     |     |     |     | 382 | 591 |     |     |     |     |     |  2A |  4A |     |     |     | 58L | 58L |     |     | s_5 | s_5 | ax_ | ax_ | axd | axd | _72 | _83 |  A  |  A  |     |     |     |  A  | _10 | _11 |     |     | ont | ont | ear | ear |  2L |  L  |  0L |  L  |     |     |     |     |     |     |     |     |     | _17 | _71 | e_3 | e_6 |\n",
       "|     |     |     |  M  |  0M |     |     |     |     |     |     |     |     |     |     |     |     |     |     |     |     |     |     |     |  M  |  M  |     |     |     |     |     |     |     |     |     |     |     |     |     |     | 20L |  9L | 103 | 115 | at_ | at_ |  5L |  4L |     |     |     |     |     |     | 02D | 42D |     |     | h_2 | h_3 | _2T | _99 |     |     |     |     |     |     |     |     |     |     |     |     |     |  8A |  8A |  9A | 68A |\n",
       "|     |     |     |     |     |     |     |     |     |     |     |     |     |     |     |     |     |     |     |     |     |     |     |     |     |     |     |     |     |     |     |     |     |     |     |     |     |     |     |     |     |     |  9L |  1L | 148 | 641 |     |     |     |     |     |     |     |     |     |     |     |     | 84T | 65T |     |  4T |     |     |     |     |     |     |     |     |     |     |     |     |     |     |     |     |     |\n",
       "|     |     |     |     |     |     |     |     |     |     |     |     |     |     |     |     |     |     |     |     |     |     |     |     |     |     |     |     |     |     |     |     |     |     |     |     |     |     |     |     |     |     |     |     |  D  |  D  |     |     |     |     |     |     |     |     |     |     |     |     |     |     |     |     |     |     |     |     |     |     |     |     |     |     |     |     |     |     |     |     |     |\n",
       "+=========================================================================================================================================================================================================================================================================================================================================================================================================================================================================================+\n",
       "| 577 | 37. | nul | a55 | ea6 | a55 | 724 | nul | nul | nul | nul | 202 | 202 | nul | 202 | nul | nul | a55 | nul | 0.0 | 7.0 | nul | nul | 202 | Hom | a55 | nul | nul | nul | nul | 202 | nul | 140 | nul | 31. |  4  | nul | nul | 5.0 | nul | 0.0 | nul | nul | 0.0 | nul | nul | nul | 0.0 | 0.0 | nul | 0.0 | nul | nul | 0.0 | nul | nul | nul | 0.0 | 7.0 | nul | nul | 202 | 30. | nul | nul | nul | a55 | 60c | 202 | nul | nul | a55 | a55 | 247 | nul | nul | nul | nul | nul |\n",
       "|  60 |  0  |  l  | 475 | 782 | 475 | 134 |  l  |  l  |  l  |  l  | 0-1 | 0-0 |  l  | 0-1 |  l  |  l  | 475 |  l  |     |     |  l  |  l  | 1.0 |  e  | 475 |  l  |  l  |  l  |  l  | 0-1 |  l  | 92. |  l  |  9  |     |  l  |  l  |     |  l  |     |  l  |  l  |     |  l  |  l  |  l  |     |     |  l  |     |  l  |  l  |     |  l  |  l  |  l  |     |     |  l  |  l  | 1.0 |  0  |  l  |  l  |  l  | 475 | 736 | 1-0 |  l  |  l  | 475 | 475 | 625 |  l  |  l  |  l  |  l  |  l  |\n",
       "|     |     |     |  b1 |  cc |  b1 |  4e |     |     |     |     | 1-1 | 6-1 |     | 1-1 |     |     |  b1 |     |     |     |     |     |     | Cre |  b1 |     |     |     |     | 1-1 |     | 601 |     |     |     |     |     |     |     |     |     |     |     |     |     |     |     |     |     |     |     |     |     |     |     |     |     |     |     |     |     |     |     |     |     |  b1 |  45 | 9-1 |     |     |  b1 |  b1 | .61 |     |     |     |     |     |\n",
       "|     |     |     |     |     |     |     |     |     |     |     |  3  |  5  |     |  3  |     |     |     |     |     |     |     |     |     | dit |     |     |     |     |     |  3  |     |     |     |     |     |     |     |     |     |     |     |     |     |     |     |     |     |     |     |     |     |     |     |     |     |     |     |     |     |     |     |     |     |     |     |     |     |  3  |     |     |     |     |     |     |     |     |     |     |\n",
       "| 577 | 42. | nul | a55 | 01f | a55 | 724 | nul | nul | nul | nul | 202 | 201 | nul | 202 | nul | nul | a55 | nul | 281 | 4.0 | nul | nul | 202 | 7df | a55 | nul | nul | nul | nul | 202 | nul | 0.0 | nul | nul |  2  | nul | nul | 0.0 | nul | 0.0 | nul | nul | 313 | 202 | nul | nul | 0.0 | 0.0 | nul | 0.0 | nul | nul | 399 | 202 | nul | nul | 399 | 4.0 | nul | nul | 202 | 30. | nul | nul | nul | a55 | 96a | 202 | nul | nul | a55 | a55 | 100 | nul | nul | nul | nul | nul |\n",
       "|  60 |  58 |  l  | 475 | 63a | 475 | 134 |  l  |  l  |  l  |  l  | 0-1 | 7-1 |  l  | 0-0 |  l  |  l  | 475 |  l  |  .0 |     |  l  |  l  | 1.0 | 025 | 475 |  l  |  l  |  l  |  l  | 0-0 |  l  |     |  l  |  l  |     |  l  |  l  |     |  l  |     |  l  |  l  |  .0 | 0-0 |  l  |  l  |     |     |  l  |     |  l  |  l  | 8.0 | 0-0 |  l  |  l  | 8.0 |     |  l  |  l  | 1.0 |  0  |  l  |  l  |  l  | 475 | 8fd | 1-0 |  l  |  l  | 475 | 475 | 000 |  l  |  l  |  l  |  l  |  l  |\n",
       "|     |     |     |  b1 |  c8 |  b1 |  4e |     |     |     |     | 1-0 | 1-0 |     | 4-0 |     |     |  b1 |     |     |     |     |     |     |  35 |  b1 |     |     |     |     | 4-0 |     |     |     |     |     |     |     |     |     |     |     |     |     | 3-1 |     |     |     |     |     |     |     |     |     | 3-1 |     |     |     |     |     |     |     |     |     |     |     |  b1 |  fe | 3-0 |     |     |  b1 |  b1 |  .0 |     |     |     |     |     |\n",
       "|     |     |     |     |     |     |     |     |     |     |     |  9  |  9  |     |  1  |     |     |     |     |     |     |     |     |     |     |     |     |     |     |     |  1  |     |     |     |     |     |     |     |     |     |     |     |     |     |  6  |     |     |     |     |     |     |     |     |     |  6  |     |     |     |     |     |     |     |     |     |     |     |     |     |  1  |     |     |     |     |     |     |     |     |     |     |\n",
       "| 577 | nul | 56. | ea6 | ea6 | 724 | 724 | 1.4 | 100 | 320 | 202 | 201 | 201 | 201 | 201 | 284 | 0.0 | a55 | 0.0 | 10. | 2.0 | 11. | 202 | 201 | Hom | b61 | 144 | 867 | nul | 202 | 201 | 144 | 867 | 20. | 45. |  0  | 1.0 | 5.0 | nul | nul | nul | nul | 1.0 | 11. | 201 | 201 | 0.0 | 0.0 | nul | nul | 0.0 | 0.0 | 950 | 780 | 201 | 201 | 0.0 | 780 | 2.0 | 11. | 202 | 201 | nul | nul | nul | nul | 60c | 60c | 202 | 0.0 | 284 | ab3 | ab3 | nul | nul | 0.0 | 0.0 | 284 | 0.0 |\n",
       "|  60 |  l  |  0  | 782 | 782 | 134 | 134 | 215 | 000 | 000 | 2-0 | 9-0 | 6-0 | 6-0 | 8-0 | 305 |     | 475 |     |  0  |     |  0  | 0.0 | 9.0 |  e  | 9fa | 48. | .00 |  l  | 1-0 | 8-0 | 48. | .00 |  95 |  0  |     |     |     |  l  |  l  |  l  |  l  |     |  0  | 8-0 | 7-0 |     |     |  l  |  l  |     |     | .61 |  .0 | 8-0 | 7-0 |     |  .0 |     |  0  | 0.0 | 9.0 |  l  |  l  |  l  |  l  | 736 | 736 | 1-0 |     | 305 | c25 | c25 |  l  |  l  |     |     | 305 |     |\n",
       "|     |     |     |  cc |  cc |  4e |  4e |  e6 |  .0 |  .0 | 9-0 | 9-0 | 9-0 | 9-0 | 7-2 | .88 |     |  b1 |     |     |     |     |     |     | Cre |  46 | 601 | 995 |     | 9-0 | 7-2 | 601 | 995 |     |     |     |     |     |     |     |     |     |     |     | 1-2 | 9-0 |     |     |     |     |     |     |  8  |     | 1-2 | 9-0 |     |     |     |     |     |     |     |     |     |     |  45 |  45 | 9-1 |     | .88 |  cf |  cf |     |     |     |     | .88 |     |\n",
       "|     |     |     |     |     |     |     |     |     |     |  8  |  2  |  5  |  8  |  6  |     |     |     |     |     |     |     |     |     | dit |     |     |     |     |  8  |  6  |     |     |     |     |     |     |     |     |     |     |     |     |     |  5  |  9  |     |     |     |     |     |     |     |     |  5  |  9  |     |     |     |     |     |     |     |     |     |     |     |     |  3  |     |     |     |     |     |     |     |     |     |     |\n",
       "+-----+-----+-----+-----+-----+-----+-----+-----+-----+-----+-----+-----+-----+-----+-----+-----+-----+-----+-----+-----+-----+-----+-----+-----+-----+-----+-----+-----+-----+-----+-----+-----+-----+-----+-----+-----+-----+-----+-----+-----+-----+-----+-----+-----+-----+-----+-----+-----+-----+-----+-----+-----+-----+-----+-----+-----+-----+-----+-----+-----+-----+-----+-----+-----+-----+-----+-----+-----+-----+-----+-----+-----+-----+-----+-----+-----+-----+-----+-----+"
      ]
     },
     "metadata": {},
     "output_type": "display_data"
    },
    {
     "data": {
      "text/html": [
       "<div><style>\n",
       ".dataframe > thead > tr,\n",
       ".dataframe > tbody > tr {\n",
       "  text-align: right;\n",
       "  white-space: pre-wrap;\n",
       "}\n",
       "</style>\n",
       "<table border=\"1\" class=\"dataframe\"><thead><tr><th>case_id</th><th>collater_typofvalofguarant_298M</th><th>collater_typofvalofguarant_407M</th><th>collater_valueofguarantee_1124L</th><th>collater_valueofguarantee_876L</th><th>collaterals_typeofguarante_359M</th><th>collaterals_typeofguarante_669M</th><th>num_group1</th><th>num_group2</th><th>pmts_dpd_1073P</th><th>pmts_dpd_303P</th><th>pmts_month_158T</th><th>pmts_month_706T</th><th>pmts_overdue_1140A</th><th>pmts_overdue_1152A</th><th>pmts_year_1139T</th><th>pmts_year_507T</th><th>subjectroles_name_541M</th><th>subjectroles_name_838M</th></tr></thead><tbody><tr><td>57551</td><td>&quot;9a0c095e&quot;</td><td>&quot;9a0c095e&quot;</td><td>0.0</td><td>0.0</td><td>&quot;c7a5ad39&quot;</td><td>&quot;c7a5ad39&quot;</td><td>0</td><td>0</td><td>null</td><td>null</td><td>2.0</td><td>2.0</td><td>null</td><td>null</td><td>2019.0</td><td>2007.0</td><td>&quot;ab3c25cf&quot;</td><td>&quot;ab3c25cf&quot;</td></tr><tr><td>57551</td><td>&quot;8fd95e4b&quot;</td><td>&quot;9a0c095e&quot;</td><td>0.0</td><td>75200.0</td><td>&quot;3cbe86ba&quot;</td><td>&quot;c7a5ad39&quot;</td><td>1</td><td>0</td><td>null</td><td>null</td><td>2.0</td><td>2.0</td><td>null</td><td>null</td><td>2020.0</td><td>2007.0</td><td>&quot;ab3c25cf&quot;</td><td>&quot;ab3c25cf&quot;</td></tr><tr><td>57551</td><td>&quot;a55475b1&quot;</td><td>&quot;8fd95e4b&quot;</td><td>null</td><td>0.0</td><td>&quot;3cbe86ba&quot;</td><td>&quot;a55475b1&quot;</td><td>5</td><td>0</td><td>null</td><td>null</td><td>null</td><td>2.0</td><td>null</td><td>null</td><td>null</td><td>2012.0</td><td>&quot;ab3c25cf&quot;</td><td>&quot;a55475b1&quot;</td></tr></tbody></table></div>"
      ],
      "text/plain": [
       "+-----+-----+-----+-----+-----+-----+-----+-----+-----+-----+-----+-----+-----+-----+-----+-----+-----+-----+-----+\n",
       "| cas | col | col | col | col | col | col | num | num | pmt | pmt | pmt | pmt | pmt | pmt | pmt | pmt | sub | sub |\n",
       "| e_i | lat | lat | lat | lat | lat | lat | _gr | _gr | s_d | s_d | s_m | s_m | s_o | s_o | s_y | s_y | jec | jec |\n",
       "|  d  | er_ | er_ | er_ | er_ | era | era | oup | oup | pd_ | pd_ | ont | ont | ver | ver | ear | ear | tro | tro |\n",
       "|     | typ | typ | val | val | ls_ | ls_ |  1  |  2  | 107 | 303 | h_1 | h_7 | due | due | _11 | _50 | les | les |\n",
       "|     | ofv | ofv | ueo | ueo | typ | typ |     |     |  3P |  P  | 58T | 06T | _11 | _11 | 39T |  7T | _na | _na |\n",
       "|     | alo | alo | fgu | fgu | eof | eof |     |     |     |     |     |     | 40A | 52A |     |     | me_ | me_ |\n",
       "|     | fgu | fgu | ara | ara | gua | gua |     |     |     |     |     |     |     |     |     |     | 541 | 838 |\n",
       "|     | ara | ara | nte | nte | ran | ran |     |     |     |     |     |     |     |     |     |     |  M  |  M  |\n",
       "|     | nt_ | nt_ | e_1 | e_8 | te_ | te_ |     |     |     |     |     |     |     |     |     |     |     |     |\n",
       "|     | 298 | 407 | 124 | 76L | 359 | 669 |     |     |     |     |     |     |     |     |     |     |     |     |\n",
       "|     |  M  |  M  |  L  |     |  M  |  M  |     |     |     |     |     |     |     |     |     |     |     |     |\n",
       "+=================================================================================================================+\n",
       "| 575 | 9a0 | 9a0 | 0.0 | 0.0 | c7a | c7a |  0  |  0  | nul | nul | 2.0 | 2.0 | nul | nul | 201 | 200 | ab3 | ab3 |\n",
       "|  51 | c09 | c09 |     |     | 5ad | 5ad |     |     |  l  |  l  |     |     |  l  |  l  | 9.0 | 7.0 | c25 | c25 |\n",
       "|     |  5e |  5e |     |     |  39 |  39 |     |     |     |     |     |     |     |     |     |     |  cf |  cf |\n",
       "| 575 | 8fd | 9a0 | 0.0 | 752 | 3cb | c7a |  1  |  0  | nul | nul | 2.0 | 2.0 | nul | nul | 202 | 200 | ab3 | ab3 |\n",
       "|  51 | 95e | c09 |     | 00. | e86 | 5ad |     |     |  l  |  l  |     |     |  l  |  l  | 0.0 | 7.0 | c25 | c25 |\n",
       "|     |  4b |  5e |     |  0  |  ba |  39 |     |     |     |     |     |     |     |     |     |     |  cf |  cf |\n",
       "| 575 | a55 | 8fd | nul | 0.0 | 3cb | a55 |  5  |  0  | nul | nul | nul | 2.0 | nul | nul | nul | 201 | ab3 | a55 |\n",
       "|  51 | 475 | 95e |  l  |     | e86 | 475 |     |     |  l  |  l  |  l  |     |  l  |  l  |  l  | 2.0 | c25 | 475 |\n",
       "|     |  b1 |  4b |     |     |  ba |  b1 |     |     |     |     |     |     |     |     |     |     |  cf |  b1 |\n",
       "+-----+-----+-----+-----+-----+-----+-----+-----+-----+-----+-----+-----+-----+-----+-----+-----+-----+-----+-----+"
      ]
     },
     "metadata": {},
     "output_type": "display_data"
    },
    {
     "data": {
      "text/html": [
       "<div><style>\n",
       ".dataframe > thead > tr,\n",
       ".dataframe > tbody > tr {\n",
       "  text-align: right;\n",
       "  white-space: pre-wrap;\n",
       "}\n",
       "</style>\n",
       "<table border=\"1\" class=\"dataframe\"><thead><tr><th>case_id</th><th>collater_typofvalofguarant_298M</th><th>collater_typofvalofguarant_407M</th><th>collater_valueofguarantee_1124L</th><th>collater_valueofguarantee_876L</th><th>collaterals_typeofguarante_359M</th><th>collaterals_typeofguarante_669M</th><th>num_group1</th><th>num_group2</th><th>pmts_dpd_1073P</th><th>pmts_dpd_303P</th><th>pmts_month_158T</th><th>pmts_month_706T</th><th>pmts_overdue_1140A</th><th>pmts_overdue_1152A</th><th>pmts_year_1139T</th><th>pmts_year_507T</th><th>subjectroles_name_541M</th><th>subjectroles_name_838M</th></tr></thead><tbody><tr><td>57631</td><td>&quot;9a0c095e&quot;</td><td>&quot;9a0c095e&quot;</td><td>0.0</td><td>0.0</td><td>&quot;c7a5ad39&quot;</td><td>&quot;c7a5ad39&quot;</td><td>0</td><td>0</td><td>0.0</td><td>null</td><td>2.0</td><td>2.0</td><td>0.0</td><td>null</td><td>2019.0</td><td>2018.0</td><td>&quot;ab3c25cf&quot;</td><td>&quot;ab3c25cf&quot;</td></tr><tr><td>57631</td><td>&quot;a55475b1&quot;</td><td>&quot;9a0c095e&quot;</td><td>null</td><td>0.0</td><td>&quot;c7a5ad39&quot;</td><td>&quot;a55475b1&quot;</td><td>1</td><td>0</td><td>null</td><td>null</td><td>null</td><td>2.0</td><td>null</td><td>null</td><td>null</td><td>2018.0</td><td>&quot;ab3c25cf&quot;</td><td>&quot;a55475b1&quot;</td></tr><tr><td>57631</td><td>&quot;a55475b1&quot;</td><td>&quot;a55475b1&quot;</td><td>null</td><td>null</td><td>&quot;a55475b1&quot;</td><td>&quot;a55475b1&quot;</td><td>0</td><td>1</td><td>0.0</td><td>null</td><td>3.0</td><td>3.0</td><td>0.0</td><td>null</td><td>2019.0</td><td>2018.0</td><td>&quot;a55475b1&quot;</td><td>&quot;a55475b1&quot;</td></tr></tbody></table></div>"
      ],
      "text/plain": [
       "+-----+-----+-----+-----+-----+-----+-----+-----+-----+-----+-----+-----+-----+-----+-----+-----+-----+-----+-----+\n",
       "| cas | col | col | col | col | col | col | num | num | pmt | pmt | pmt | pmt | pmt | pmt | pmt | pmt | sub | sub |\n",
       "| e_i | lat | lat | lat | lat | lat | lat | _gr | _gr | s_d | s_d | s_m | s_m | s_o | s_o | s_y | s_y | jec | jec |\n",
       "|  d  | er_ | er_ | er_ | er_ | era | era | oup | oup | pd_ | pd_ | ont | ont | ver | ver | ear | ear | tro | tro |\n",
       "|     | typ | typ | val | val | ls_ | ls_ |  1  |  2  | 107 | 303 | h_1 | h_7 | due | due | _11 | _50 | les | les |\n",
       "|     | ofv | ofv | ueo | ueo | typ | typ |     |     |  3P |  P  | 58T | 06T | _11 | _11 | 39T |  7T | _na | _na |\n",
       "|     | alo | alo | fgu | fgu | eof | eof |     |     |     |     |     |     | 40A | 52A |     |     | me_ | me_ |\n",
       "|     | fgu | fgu | ara | ara | gua | gua |     |     |     |     |     |     |     |     |     |     | 541 | 838 |\n",
       "|     | ara | ara | nte | nte | ran | ran |     |     |     |     |     |     |     |     |     |     |  M  |  M  |\n",
       "|     | nt_ | nt_ | e_1 | e_8 | te_ | te_ |     |     |     |     |     |     |     |     |     |     |     |     |\n",
       "|     | 298 | 407 | 124 | 76L | 359 | 669 |     |     |     |     |     |     |     |     |     |     |     |     |\n",
       "|     |  M  |  M  |  L  |     |  M  |  M  |     |     |     |     |     |     |     |     |     |     |     |     |\n",
       "+=================================================================================================================+\n",
       "| 576 | 9a0 | 9a0 | 0.0 | 0.0 | c7a | c7a |  0  |  0  | 0.0 | nul | 2.0 | 2.0 | 0.0 | nul | 201 | 201 | ab3 | ab3 |\n",
       "|  31 | c09 | c09 |     |     | 5ad | 5ad |     |     |     |  l  |     |     |     |  l  | 9.0 | 8.0 | c25 | c25 |\n",
       "|     |  5e |  5e |     |     |  39 |  39 |     |     |     |     |     |     |     |     |     |     |  cf |  cf |\n",
       "| 576 | a55 | 9a0 | nul | 0.0 | c7a | a55 |  1  |  0  | nul | nul | nul | 2.0 | nul | nul | nul | 201 | ab3 | a55 |\n",
       "|  31 | 475 | c09 |  l  |     | 5ad | 475 |     |     |  l  |  l  |  l  |     |  l  |  l  |  l  | 8.0 | c25 | 475 |\n",
       "|     |  b1 |  5e |     |     |  39 |  b1 |     |     |     |     |     |     |     |     |     |     |  cf |  b1 |\n",
       "| 576 | a55 | a55 | nul | nul | a55 | a55 |  0  |  1  | 0.0 | nul | 3.0 | 3.0 | 0.0 | nul | 201 | 201 | a55 | a55 |\n",
       "|  31 | 475 | 475 |  l  |  l  | 475 | 475 |     |     |     |  l  |     |     |     |  l  | 9.0 | 8.0 | 475 | 475 |\n",
       "|     |  b1 |  b1 |     |     |  b1 |  b1 |     |     |     |     |     |     |     |     |     |     |  b1 |  b1 |\n",
       "+-----+-----+-----+-----+-----+-----+-----+-----+-----+-----+-----+-----+-----+-----+-----+-----+-----+-----+-----+"
      ]
     },
     "metadata": {},
     "output_type": "display_data"
    },
    {
     "data": {
      "text/html": [
       "<div><style>\n",
       ".dataframe > thead > tr,\n",
       ".dataframe > tbody > tr {\n",
       "  text-align: right;\n",
       "  white-space: pre-wrap;\n",
       "}\n",
       "</style>\n",
       "<table border=\"1\" class=\"dataframe\"><thead><tr><th>case_id</th><th>collater_typofvalofguarant_298M</th><th>collater_typofvalofguarant_407M</th><th>collater_valueofguarantee_1124L</th><th>collater_valueofguarantee_876L</th><th>collaterals_typeofguarante_359M</th><th>collaterals_typeofguarante_669M</th><th>num_group1</th><th>num_group2</th><th>pmts_dpd_1073P</th><th>pmts_dpd_303P</th><th>pmts_month_158T</th><th>pmts_month_706T</th><th>pmts_overdue_1140A</th><th>pmts_overdue_1152A</th><th>pmts_year_1139T</th><th>pmts_year_507T</th><th>subjectroles_name_541M</th><th>subjectroles_name_838M</th></tr></thead><tbody><tr><td>57681</td><td>&quot;9a0c095e&quot;</td><td>&quot;9a0c095e&quot;</td><td>0.0</td><td>0.0</td><td>&quot;c7a5ad39&quot;</td><td>&quot;c7a5ad39&quot;</td><td>0</td><td>0</td><td>0.0</td><td>null</td><td>2.0</td><td>2.0</td><td>0.0</td><td>null</td><td>2022.0</td><td>2017.0</td><td>&quot;ab3c25cf&quot;</td><td>&quot;ab3c25cf&quot;</td></tr><tr><td>57681</td><td>&quot;8fd95e4b&quot;</td><td>&quot;8fd95e4b&quot;</td><td>0.0</td><td>0.0</td><td>&quot;c7a5ad39&quot;</td><td>&quot;c7a5ad39&quot;</td><td>1</td><td>0</td><td>null</td><td>null</td><td>2.0</td><td>2.0</td><td>null</td><td>null</td><td>2022.0</td><td>2018.0</td><td>&quot;ab3c25cf&quot;</td><td>&quot;ab3c25cf&quot;</td></tr><tr><td>57681</td><td>&quot;8fd95e4b&quot;</td><td>&quot;9a0c095e&quot;</td><td>0.0</td><td>0.0</td><td>&quot;c7a5ad39&quot;</td><td>&quot;c7a5ad39&quot;</td><td>2</td><td>0</td><td>null</td><td>null</td><td>2.0</td><td>2.0</td><td>null</td><td>null</td><td>2022.0</td><td>2019.0</td><td>&quot;ab3c25cf&quot;</td><td>&quot;ab3c25cf&quot;</td></tr></tbody></table></div>"
      ],
      "text/plain": [
       "+-----+-----+-----+-----+-----+-----+-----+-----+-----+-----+-----+-----+-----+-----+-----+-----+-----+-----+-----+\n",
       "| cas | col | col | col | col | col | col | num | num | pmt | pmt | pmt | pmt | pmt | pmt | pmt | pmt | sub | sub |\n",
       "| e_i | lat | lat | lat | lat | lat | lat | _gr | _gr | s_d | s_d | s_m | s_m | s_o | s_o | s_y | s_y | jec | jec |\n",
       "|  d  | er_ | er_ | er_ | er_ | era | era | oup | oup | pd_ | pd_ | ont | ont | ver | ver | ear | ear | tro | tro |\n",
       "|     | typ | typ | val | val | ls_ | ls_ |  1  |  2  | 107 | 303 | h_1 | h_7 | due | due | _11 | _50 | les | les |\n",
       "|     | ofv | ofv | ueo | ueo | typ | typ |     |     |  3P |  P  | 58T | 06T | _11 | _11 | 39T |  7T | _na | _na |\n",
       "|     | alo | alo | fgu | fgu | eof | eof |     |     |     |     |     |     | 40A | 52A |     |     | me_ | me_ |\n",
       "|     | fgu | fgu | ara | ara | gua | gua |     |     |     |     |     |     |     |     |     |     | 541 | 838 |\n",
       "|     | ara | ara | nte | nte | ran | ran |     |     |     |     |     |     |     |     |     |     |  M  |  M  |\n",
       "|     | nt_ | nt_ | e_1 | e_8 | te_ | te_ |     |     |     |     |     |     |     |     |     |     |     |     |\n",
       "|     | 298 | 407 | 124 | 76L | 359 | 669 |     |     |     |     |     |     |     |     |     |     |     |     |\n",
       "|     |  M  |  M  |  L  |     |  M  |  M  |     |     |     |     |     |     |     |     |     |     |     |     |\n",
       "+=================================================================================================================+\n",
       "| 576 | 9a0 | 9a0 | 0.0 | 0.0 | c7a | c7a |  0  |  0  | 0.0 | nul | 2.0 | 2.0 | 0.0 | nul | 202 | 201 | ab3 | ab3 |\n",
       "|  81 | c09 | c09 |     |     | 5ad | 5ad |     |     |     |  l  |     |     |     |  l  | 2.0 | 7.0 | c25 | c25 |\n",
       "|     |  5e |  5e |     |     |  39 |  39 |     |     |     |     |     |     |     |     |     |     |  cf |  cf |\n",
       "| 576 | 8fd | 8fd | 0.0 | 0.0 | c7a | c7a |  1  |  0  | nul | nul | 2.0 | 2.0 | nul | nul | 202 | 201 | ab3 | ab3 |\n",
       "|  81 | 95e | 95e |     |     | 5ad | 5ad |     |     |  l  |  l  |     |     |  l  |  l  | 2.0 | 8.0 | c25 | c25 |\n",
       "|     |  4b |  4b |     |     |  39 |  39 |     |     |     |     |     |     |     |     |     |     |  cf |  cf |\n",
       "| 576 | 8fd | 9a0 | 0.0 | 0.0 | c7a | c7a |  2  |  0  | nul | nul | 2.0 | 2.0 | nul | nul | 202 | 201 | ab3 | ab3 |\n",
       "|  81 | 95e | c09 |     |     | 5ad | 5ad |     |     |  l  |  l  |     |     |  l  |  l  | 2.0 | 9.0 | c25 | c25 |\n",
       "|     |  4b |  5e |     |     |  39 |  39 |     |     |     |     |     |     |     |     |     |     |  cf |  cf |\n",
       "+-----+-----+-----+-----+-----+-----+-----+-----+-----+-----+-----+-----+-----+-----+-----+-----+-----+-----+-----+"
      ]
     },
     "metadata": {},
     "output_type": "display_data"
    },
    {
     "data": {
      "text/html": [
       "<div><style>\n",
       ".dataframe > thead > tr,\n",
       ".dataframe > tbody > tr {\n",
       "  text-align: right;\n",
       "  white-space: pre-wrap;\n",
       "}\n",
       "</style>\n",
       "<table border=\"1\" class=\"dataframe\"><thead><tr><th>case_id</th><th>collater_typofvalofguarant_298M</th><th>collater_typofvalofguarant_407M</th><th>collater_valueofguarantee_1124L</th><th>collater_valueofguarantee_876L</th><th>collaterals_typeofguarante_359M</th><th>collaterals_typeofguarante_669M</th><th>num_group1</th><th>num_group2</th><th>pmts_dpd_1073P</th><th>pmts_dpd_303P</th><th>pmts_month_158T</th><th>pmts_month_706T</th><th>pmts_overdue_1140A</th><th>pmts_overdue_1152A</th><th>pmts_year_1139T</th><th>pmts_year_507T</th><th>subjectroles_name_541M</th><th>subjectroles_name_838M</th></tr></thead><tbody><tr><td>57696</td><td>&quot;9a0c095e&quot;</td><td>&quot;9a0c095e&quot;</td><td>0.0</td><td>0.0</td><td>&quot;c7a5ad39&quot;</td><td>&quot;c7a5ad39&quot;</td><td>0</td><td>0</td><td>null</td><td>null</td><td>2.0</td><td>2.0</td><td>null</td><td>null</td><td>2021.0</td><td>2021.0</td><td>&quot;ab3c25cf&quot;</td><td>&quot;ab3c25cf&quot;</td></tr><tr><td>57696</td><td>&quot;8fd95e4b&quot;</td><td>&quot;a55475b1&quot;</td><td>0.0</td><td>null</td><td>&quot;a55475b1&quot;</td><td>&quot;c7a5ad39&quot;</td><td>1</td><td>0</td><td>null</td><td>null</td><td>2.0</td><td>null</td><td>null</td><td>null</td><td>2021.0</td><td>null</td><td>&quot;a55475b1&quot;</td><td>&quot;ab3c25cf&quot;</td></tr><tr><td>57696</td><td>&quot;8fd95e4b&quot;</td><td>&quot;a55475b1&quot;</td><td>0.0</td><td>null</td><td>&quot;a55475b1&quot;</td><td>&quot;c7a5ad39&quot;</td><td>2</td><td>0</td><td>null</td><td>null</td><td>2.0</td><td>null</td><td>null</td><td>null</td><td>2021.0</td><td>null</td><td>&quot;a55475b1&quot;</td><td>&quot;ab3c25cf&quot;</td></tr></tbody></table></div>"
      ],
      "text/plain": [
       "+-----+-----+-----+-----+-----+-----+-----+-----+-----+-----+-----+-----+-----+-----+-----+-----+-----+-----+-----+\n",
       "| cas | col | col | col | col | col | col | num | num | pmt | pmt | pmt | pmt | pmt | pmt | pmt | pmt | sub | sub |\n",
       "| e_i | lat | lat | lat | lat | lat | lat | _gr | _gr | s_d | s_d | s_m | s_m | s_o | s_o | s_y | s_y | jec | jec |\n",
       "|  d  | er_ | er_ | er_ | er_ | era | era | oup | oup | pd_ | pd_ | ont | ont | ver | ver | ear | ear | tro | tro |\n",
       "|     | typ | typ | val | val | ls_ | ls_ |  1  |  2  | 107 | 303 | h_1 | h_7 | due | due | _11 | _50 | les | les |\n",
       "|     | ofv | ofv | ueo | ueo | typ | typ |     |     |  3P |  P  | 58T | 06T | _11 | _11 | 39T |  7T | _na | _na |\n",
       "|     | alo | alo | fgu | fgu | eof | eof |     |     |     |     |     |     | 40A | 52A |     |     | me_ | me_ |\n",
       "|     | fgu | fgu | ara | ara | gua | gua |     |     |     |     |     |     |     |     |     |     | 541 | 838 |\n",
       "|     | ara | ara | nte | nte | ran | ran |     |     |     |     |     |     |     |     |     |     |  M  |  M  |\n",
       "|     | nt_ | nt_ | e_1 | e_8 | te_ | te_ |     |     |     |     |     |     |     |     |     |     |     |     |\n",
       "|     | 298 | 407 | 124 | 76L | 359 | 669 |     |     |     |     |     |     |     |     |     |     |     |     |\n",
       "|     |  M  |  M  |  L  |     |  M  |  M  |     |     |     |     |     |     |     |     |     |     |     |     |\n",
       "+=================================================================================================================+\n",
       "| 576 | 9a0 | 9a0 | 0.0 | 0.0 | c7a | c7a |  0  |  0  | nul | nul | 2.0 | 2.0 | nul | nul | 202 | 202 | ab3 | ab3 |\n",
       "|  96 | c09 | c09 |     |     | 5ad | 5ad |     |     |  l  |  l  |     |     |  l  |  l  | 1.0 | 1.0 | c25 | c25 |\n",
       "|     |  5e |  5e |     |     |  39 |  39 |     |     |     |     |     |     |     |     |     |     |  cf |  cf |\n",
       "| 576 | 8fd | a55 | 0.0 | nul | a55 | c7a |  1  |  0  | nul | nul | 2.0 | nul | nul | nul | 202 | nul | a55 | ab3 |\n",
       "|  96 | 95e | 475 |     |  l  | 475 | 5ad |     |     |  l  |  l  |     |  l  |  l  |  l  | 1.0 |  l  | 475 | c25 |\n",
       "|     |  4b |  b1 |     |     |  b1 |  39 |     |     |     |     |     |     |     |     |     |     |  b1 |  cf |\n",
       "| 576 | 8fd | a55 | 0.0 | nul | a55 | c7a |  2  |  0  | nul | nul | 2.0 | nul | nul | nul | 202 | nul | a55 | ab3 |\n",
       "|  96 | 95e | 475 |     |  l  | 475 | 5ad |     |     |  l  |  l  |     |  l  |  l  |  l  | 1.0 |  l  | 475 | c25 |\n",
       "|     |  4b |  b1 |     |     |  b1 |  39 |     |     |     |     |     |     |     |     |     |     |  b1 |  cf |\n",
       "+-----+-----+-----+-----+-----+-----+-----+-----+-----+-----+-----+-----+-----+-----+-----+-----+-----+-----+-----+"
      ]
     },
     "metadata": {},
     "output_type": "display_data"
    },
    {
     "data": {
      "text/html": [
       "<div><style>\n",
       ".dataframe > thead > tr,\n",
       ".dataframe > tbody > tr {\n",
       "  text-align: right;\n",
       "  white-space: pre-wrap;\n",
       "}\n",
       "</style>\n",
       "<table border=\"1\" class=\"dataframe\"><thead><tr><th>case_id</th><th>collater_typofvalofguarant_298M</th><th>collater_typofvalofguarant_407M</th><th>collater_valueofguarantee_1124L</th><th>collater_valueofguarantee_876L</th><th>collaterals_typeofguarante_359M</th><th>collaterals_typeofguarante_669M</th><th>num_group1</th><th>num_group2</th><th>pmts_dpd_1073P</th><th>pmts_dpd_303P</th><th>pmts_month_158T</th><th>pmts_month_706T</th><th>pmts_overdue_1140A</th><th>pmts_overdue_1152A</th><th>pmts_year_1139T</th><th>pmts_year_507T</th><th>subjectroles_name_541M</th><th>subjectroles_name_838M</th></tr></thead><tbody><tr><td>57632</td><td>&quot;9a0c095e&quot;</td><td>&quot;a55475b1&quot;</td><td>0.0</td><td>null</td><td>&quot;a55475b1&quot;</td><td>&quot;c7a5ad39&quot;</td><td>0</td><td>0</td><td>null</td><td>null</td><td>2.0</td><td>null</td><td>null</td><td>null</td><td>2019.0</td><td>null</td><td>&quot;a55475b1&quot;</td><td>&quot;ab3c25cf&quot;</td></tr><tr><td>57632</td><td>&quot;a55475b1&quot;</td><td>&quot;a55475b1&quot;</td><td>null</td><td>null</td><td>&quot;a55475b1&quot;</td><td>&quot;a55475b1&quot;</td><td>0</td><td>1</td><td>null</td><td>null</td><td>3.0</td><td>null</td><td>null</td><td>null</td><td>2019.0</td><td>null</td><td>&quot;a55475b1&quot;</td><td>&quot;a55475b1&quot;</td></tr><tr><td>57632</td><td>&quot;a55475b1&quot;</td><td>&quot;a55475b1&quot;</td><td>null</td><td>null</td><td>&quot;a55475b1&quot;</td><td>&quot;a55475b1&quot;</td><td>0</td><td>2</td><td>null</td><td>null</td><td>4.0</td><td>null</td><td>null</td><td>null</td><td>2019.0</td><td>null</td><td>&quot;a55475b1&quot;</td><td>&quot;a55475b1&quot;</td></tr></tbody></table></div>"
      ],
      "text/plain": [
       "+-----+-----+-----+-----+-----+-----+-----+-----+-----+-----+-----+-----+-----+-----+-----+-----+-----+-----+-----+\n",
       "| cas | col | col | col | col | col | col | num | num | pmt | pmt | pmt | pmt | pmt | pmt | pmt | pmt | sub | sub |\n",
       "| e_i | lat | lat | lat | lat | lat | lat | _gr | _gr | s_d | s_d | s_m | s_m | s_o | s_o | s_y | s_y | jec | jec |\n",
       "|  d  | er_ | er_ | er_ | er_ | era | era | oup | oup | pd_ | pd_ | ont | ont | ver | ver | ear | ear | tro | tro |\n",
       "|     | typ | typ | val | val | ls_ | ls_ |  1  |  2  | 107 | 303 | h_1 | h_7 | due | due | _11 | _50 | les | les |\n",
       "|     | ofv | ofv | ueo | ueo | typ | typ |     |     |  3P |  P  | 58T | 06T | _11 | _11 | 39T |  7T | _na | _na |\n",
       "|     | alo | alo | fgu | fgu | eof | eof |     |     |     |     |     |     | 40A | 52A |     |     | me_ | me_ |\n",
       "|     | fgu | fgu | ara | ara | gua | gua |     |     |     |     |     |     |     |     |     |     | 541 | 838 |\n",
       "|     | ara | ara | nte | nte | ran | ran |     |     |     |     |     |     |     |     |     |     |  M  |  M  |\n",
       "|     | nt_ | nt_ | e_1 | e_8 | te_ | te_ |     |     |     |     |     |     |     |     |     |     |     |     |\n",
       "|     | 298 | 407 | 124 | 76L | 359 | 669 |     |     |     |     |     |     |     |     |     |     |     |     |\n",
       "|     |  M  |  M  |  L  |     |  M  |  M  |     |     |     |     |     |     |     |     |     |     |     |     |\n",
       "+=================================================================================================================+\n",
       "| 576 | 9a0 | a55 | 0.0 | nul | a55 | c7a |  0  |  0  | nul | nul | 2.0 | nul | nul | nul | 201 | nul | a55 | ab3 |\n",
       "|  32 | c09 | 475 |     |  l  | 475 | 5ad |     |     |  l  |  l  |     |  l  |  l  |  l  | 9.0 |  l  | 475 | c25 |\n",
       "|     |  5e |  b1 |     |     |  b1 |  39 |     |     |     |     |     |     |     |     |     |     |  b1 |  cf |\n",
       "| 576 | a55 | a55 | nul | nul | a55 | a55 |  0  |  1  | nul | nul | 3.0 | nul | nul | nul | 201 | nul | a55 | a55 |\n",
       "|  32 | 475 | 475 |  l  |  l  | 475 | 475 |     |     |  l  |  l  |     |  l  |  l  |  l  | 9.0 |  l  | 475 | 475 |\n",
       "|     |  b1 |  b1 |     |     |  b1 |  b1 |     |     |     |     |     |     |     |     |     |     |  b1 |  b1 |\n",
       "| 576 | a55 | a55 | nul | nul | a55 | a55 |  0  |  2  | nul | nul | 4.0 | nul | nul | nul | 201 | nul | a55 | a55 |\n",
       "|  32 | 475 | 475 |  l  |  l  | 475 | 475 |     |     |  l  |  l  |     |  l  |  l  |  l  | 9.0 |  l  | 475 | 475 |\n",
       "|     |  b1 |  b1 |     |     |  b1 |  b1 |     |     |     |     |     |     |     |     |     |     |  b1 |  b1 |\n",
       "+-----+-----+-----+-----+-----+-----+-----+-----+-----+-----+-----+-----+-----+-----+-----+-----+-----+-----+-----+"
      ]
     },
     "metadata": {},
     "output_type": "display_data"
    },
    {
     "data": {
      "text/html": [
       "<div><style>\n",
       ".dataframe > thead > tr,\n",
       ".dataframe > tbody > tr {\n",
       "  text-align: right;\n",
       "  white-space: pre-wrap;\n",
       "}\n",
       "</style>\n",
       "<table border=\"1\" class=\"dataframe\"><thead><tr><th>case_id</th><th>collater_typofvalofguarant_298M</th><th>collater_typofvalofguarant_407M</th><th>collater_valueofguarantee_1124L</th><th>collater_valueofguarantee_876L</th><th>collaterals_typeofguarante_359M</th><th>collaterals_typeofguarante_669M</th><th>num_group1</th><th>num_group2</th><th>pmts_dpd_1073P</th><th>pmts_dpd_303P</th><th>pmts_month_158T</th><th>pmts_month_706T</th><th>pmts_overdue_1140A</th><th>pmts_overdue_1152A</th><th>pmts_year_1139T</th><th>pmts_year_507T</th><th>subjectroles_name_541M</th><th>subjectroles_name_838M</th></tr></thead><tbody><tr><td>57543</td><td>&quot;9a0c095e&quot;</td><td>&quot;9a0c095e&quot;</td><td>0.0</td><td>0.0</td><td>&quot;c7a5ad39&quot;</td><td>&quot;c7a5ad39&quot;</td><td>0</td><td>0</td><td>null</td><td>null</td><td>2.0</td><td>2.0</td><td>null</td><td>null</td><td>2020.0</td><td>2011.0</td><td>&quot;ab3c25cf&quot;</td><td>&quot;ab3c25cf&quot;</td></tr><tr><td>57543</td><td>&quot;9a0c095e&quot;</td><td>&quot;8fd95e4b&quot;</td><td>0.0</td><td>0.0</td><td>&quot;c7a5ad39&quot;</td><td>&quot;c7a5ad39&quot;</td><td>1</td><td>0</td><td>0.0</td><td>null</td><td>2.0</td><td>2.0</td><td>0.0</td><td>null</td><td>2021.0</td><td>2015.0</td><td>&quot;ab3c25cf&quot;</td><td>&quot;ab3c25cf&quot;</td></tr><tr><td>57543</td><td>&quot;a55475b1&quot;</td><td>&quot;9a0c095e&quot;</td><td>null</td><td>0.0</td><td>&quot;c7a5ad39&quot;</td><td>&quot;a55475b1&quot;</td><td>2</td><td>0</td><td>null</td><td>null</td><td>null</td><td>2.0</td><td>null</td><td>null</td><td>null</td><td>2015.0</td><td>&quot;ab3c25cf&quot;</td><td>&quot;a55475b1&quot;</td></tr></tbody></table></div>"
      ],
      "text/plain": [
       "+-----+-----+-----+-----+-----+-----+-----+-----+-----+-----+-----+-----+-----+-----+-----+-----+-----+-----+-----+\n",
       "| cas | col | col | col | col | col | col | num | num | pmt | pmt | pmt | pmt | pmt | pmt | pmt | pmt | sub | sub |\n",
       "| e_i | lat | lat | lat | lat | lat | lat | _gr | _gr | s_d | s_d | s_m | s_m | s_o | s_o | s_y | s_y | jec | jec |\n",
       "|  d  | er_ | er_ | er_ | er_ | era | era | oup | oup | pd_ | pd_ | ont | ont | ver | ver | ear | ear | tro | tro |\n",
       "|     | typ | typ | val | val | ls_ | ls_ |  1  |  2  | 107 | 303 | h_1 | h_7 | due | due | _11 | _50 | les | les |\n",
       "|     | ofv | ofv | ueo | ueo | typ | typ |     |     |  3P |  P  | 58T | 06T | _11 | _11 | 39T |  7T | _na | _na |\n",
       "|     | alo | alo | fgu | fgu | eof | eof |     |     |     |     |     |     | 40A | 52A |     |     | me_ | me_ |\n",
       "|     | fgu | fgu | ara | ara | gua | gua |     |     |     |     |     |     |     |     |     |     | 541 | 838 |\n",
       "|     | ara | ara | nte | nte | ran | ran |     |     |     |     |     |     |     |     |     |     |  M  |  M  |\n",
       "|     | nt_ | nt_ | e_1 | e_8 | te_ | te_ |     |     |     |     |     |     |     |     |     |     |     |     |\n",
       "|     | 298 | 407 | 124 | 76L | 359 | 669 |     |     |     |     |     |     |     |     |     |     |     |     |\n",
       "|     |  M  |  M  |  L  |     |  M  |  M  |     |     |     |     |     |     |     |     |     |     |     |     |\n",
       "+=================================================================================================================+\n",
       "| 575 | 9a0 | 9a0 | 0.0 | 0.0 | c7a | c7a |  0  |  0  | nul | nul | 2.0 | 2.0 | nul | nul | 202 | 201 | ab3 | ab3 |\n",
       "|  43 | c09 | c09 |     |     | 5ad | 5ad |     |     |  l  |  l  |     |     |  l  |  l  | 0.0 | 1.0 | c25 | c25 |\n",
       "|     |  5e |  5e |     |     |  39 |  39 |     |     |     |     |     |     |     |     |     |     |  cf |  cf |\n",
       "| 575 | 9a0 | 8fd | 0.0 | 0.0 | c7a | c7a |  1  |  0  | 0.0 | nul | 2.0 | 2.0 | 0.0 | nul | 202 | 201 | ab3 | ab3 |\n",
       "|  43 | c09 | 95e |     |     | 5ad | 5ad |     |     |     |  l  |     |     |     |  l  | 1.0 | 5.0 | c25 | c25 |\n",
       "|     |  5e |  4b |     |     |  39 |  39 |     |     |     |     |     |     |     |     |     |     |  cf |  cf |\n",
       "| 575 | a55 | 9a0 | nul | 0.0 | c7a | a55 |  2  |  0  | nul | nul | nul | 2.0 | nul | nul | nul | 201 | ab3 | a55 |\n",
       "|  43 | 475 | c09 |  l  |     | 5ad | 475 |     |     |  l  |  l  |  l  |     |  l  |  l  |  l  | 5.0 | c25 | 475 |\n",
       "|     |  b1 |  5e |     |     |  39 |  b1 |     |     |     |     |     |     |     |     |     |     |  cf |  b1 |\n",
       "+-----+-----+-----+-----+-----+-----+-----+-----+-----+-----+-----+-----+-----+-----+-----+-----+-----+-----+-----+"
      ]
     },
     "metadata": {},
     "output_type": "display_data"
    },
    {
     "data": {
      "text/html": [
       "<div><style>\n",
       ".dataframe > thead > tr,\n",
       ".dataframe > tbody > tr {\n",
       "  text-align: right;\n",
       "  white-space: pre-wrap;\n",
       "}\n",
       "</style>\n",
       "<table border=\"1\" class=\"dataframe\"><thead><tr><th>case_id</th><th>collater_typofvalofguarant_298M</th><th>collater_typofvalofguarant_407M</th><th>collater_valueofguarantee_1124L</th><th>collater_valueofguarantee_876L</th><th>collaterals_typeofguarante_359M</th><th>collaterals_typeofguarante_669M</th><th>num_group1</th><th>num_group2</th><th>pmts_dpd_1073P</th><th>pmts_dpd_303P</th><th>pmts_month_158T</th><th>pmts_month_706T</th><th>pmts_overdue_1140A</th><th>pmts_overdue_1152A</th><th>pmts_year_1139T</th><th>pmts_year_507T</th><th>subjectroles_name_541M</th><th>subjectroles_name_838M</th></tr></thead><tbody><tr><td>57630</td><td>&quot;8fd95e4b&quot;</td><td>&quot;8fd95e4b&quot;</td><td>0.0</td><td>0.0</td><td>&quot;c7a5ad39&quot;</td><td>&quot;c7a5ad39&quot;</td><td>0</td><td>0</td><td>null</td><td>null</td><td>2.0</td><td>2.0</td><td>null</td><td>null</td><td>2021.0</td><td>2014.0</td><td>&quot;ab3c25cf&quot;</td><td>&quot;ab3c25cf&quot;</td></tr><tr><td>57630</td><td>&quot;a55475b1&quot;</td><td>&quot;9a0c095e&quot;</td><td>null</td><td>0.0</td><td>&quot;c7a5ad39&quot;</td><td>&quot;a55475b1&quot;</td><td>1</td><td>0</td><td>null</td><td>0.0</td><td>null</td><td>2.0</td><td>null</td><td>0.0</td><td>null</td><td>2015.0</td><td>&quot;ab3c25cf&quot;</td><td>&quot;a55475b1&quot;</td></tr><tr><td>57630</td><td>&quot;a55475b1&quot;</td><td>&quot;a55475b1&quot;</td><td>null</td><td>null</td><td>&quot;a55475b1&quot;</td><td>&quot;a55475b1&quot;</td><td>0</td><td>1</td><td>null</td><td>null</td><td>3.0</td><td>3.0</td><td>null</td><td>null</td><td>2021.0</td><td>2014.0</td><td>&quot;a55475b1&quot;</td><td>&quot;a55475b1&quot;</td></tr></tbody></table></div>"
      ],
      "text/plain": [
       "+-----+-----+-----+-----+-----+-----+-----+-----+-----+-----+-----+-----+-----+-----+-----+-----+-----+-----+-----+\n",
       "| cas | col | col | col | col | col | col | num | num | pmt | pmt | pmt | pmt | pmt | pmt | pmt | pmt | sub | sub |\n",
       "| e_i | lat | lat | lat | lat | lat | lat | _gr | _gr | s_d | s_d | s_m | s_m | s_o | s_o | s_y | s_y | jec | jec |\n",
       "|  d  | er_ | er_ | er_ | er_ | era | era | oup | oup | pd_ | pd_ | ont | ont | ver | ver | ear | ear | tro | tro |\n",
       "|     | typ | typ | val | val | ls_ | ls_ |  1  |  2  | 107 | 303 | h_1 | h_7 | due | due | _11 | _50 | les | les |\n",
       "|     | ofv | ofv | ueo | ueo | typ | typ |     |     |  3P |  P  | 58T | 06T | _11 | _11 | 39T |  7T | _na | _na |\n",
       "|     | alo | alo | fgu | fgu | eof | eof |     |     |     |     |     |     | 40A | 52A |     |     | me_ | me_ |\n",
       "|     | fgu | fgu | ara | ara | gua | gua |     |     |     |     |     |     |     |     |     |     | 541 | 838 |\n",
       "|     | ara | ara | nte | nte | ran | ran |     |     |     |     |     |     |     |     |     |     |  M  |  M  |\n",
       "|     | nt_ | nt_ | e_1 | e_8 | te_ | te_ |     |     |     |     |     |     |     |     |     |     |     |     |\n",
       "|     | 298 | 407 | 124 | 76L | 359 | 669 |     |     |     |     |     |     |     |     |     |     |     |     |\n",
       "|     |  M  |  M  |  L  |     |  M  |  M  |     |     |     |     |     |     |     |     |     |     |     |     |\n",
       "+=================================================================================================================+\n",
       "| 576 | 8fd | 8fd | 0.0 | 0.0 | c7a | c7a |  0  |  0  | nul | nul | 2.0 | 2.0 | nul | nul | 202 | 201 | ab3 | ab3 |\n",
       "|  30 | 95e | 95e |     |     | 5ad | 5ad |     |     |  l  |  l  |     |     |  l  |  l  | 1.0 | 4.0 | c25 | c25 |\n",
       "|     |  4b |  4b |     |     |  39 |  39 |     |     |     |     |     |     |     |     |     |     |  cf |  cf |\n",
       "| 576 | a55 | 9a0 | nul | 0.0 | c7a | a55 |  1  |  0  | nul | 0.0 | nul | 2.0 | nul | 0.0 | nul | 201 | ab3 | a55 |\n",
       "|  30 | 475 | c09 |  l  |     | 5ad | 475 |     |     |  l  |     |  l  |     |  l  |     |  l  | 5.0 | c25 | 475 |\n",
       "|     |  b1 |  5e |     |     |  39 |  b1 |     |     |     |     |     |     |     |     |     |     |  cf |  b1 |\n",
       "| 576 | a55 | a55 | nul | nul | a55 | a55 |  0  |  1  | nul | nul | 3.0 | 3.0 | nul | nul | 202 | 201 | a55 | a55 |\n",
       "|  30 | 475 | 475 |  l  |  l  | 475 | 475 |     |     |  l  |  l  |     |     |  l  |  l  | 1.0 | 4.0 | 475 | 475 |\n",
       "|     |  b1 |  b1 |     |     |  b1 |  b1 |     |     |     |     |     |     |     |     |     |     |  b1 |  b1 |\n",
       "+-----+-----+-----+-----+-----+-----+-----+-----+-----+-----+-----+-----+-----+-----+-----+-----+-----+-----+-----+"
      ]
     },
     "metadata": {},
     "output_type": "display_data"
    },
    {
     "data": {
      "text/html": [
       "<div><style>\n",
       ".dataframe > thead > tr,\n",
       ".dataframe > tbody > tr {\n",
       "  text-align: right;\n",
       "  white-space: pre-wrap;\n",
       "}\n",
       "</style>\n",
       "<table border=\"1\" class=\"dataframe\"><thead><tr><th>case_id</th><th>collater_typofvalofguarant_298M</th><th>collater_typofvalofguarant_407M</th><th>collater_valueofguarantee_1124L</th><th>collater_valueofguarantee_876L</th><th>collaterals_typeofguarante_359M</th><th>collaterals_typeofguarante_669M</th><th>num_group1</th><th>num_group2</th><th>pmts_dpd_1073P</th><th>pmts_dpd_303P</th><th>pmts_month_158T</th><th>pmts_month_706T</th><th>pmts_overdue_1140A</th><th>pmts_overdue_1152A</th><th>pmts_year_1139T</th><th>pmts_year_507T</th><th>subjectroles_name_541M</th><th>subjectroles_name_838M</th></tr></thead><tbody><tr><td>57569</td><td>&quot;a55475b1&quot;</td><td>&quot;9a0c095e&quot;</td><td>null</td><td>0.0</td><td>&quot;c7a5ad39&quot;</td><td>&quot;a55475b1&quot;</td><td>0</td><td>0</td><td>null</td><td>null</td><td>null</td><td>2.0</td><td>null</td><td>null</td><td>null</td><td>2019.0</td><td>&quot;ab3c25cf&quot;</td><td>&quot;a55475b1&quot;</td></tr><tr><td>57569</td><td>&quot;a55475b1&quot;</td><td>&quot;9a0c095e&quot;</td><td>null</td><td>0.0</td><td>&quot;c7a5ad39&quot;</td><td>&quot;a55475b1&quot;</td><td>1</td><td>0</td><td>null</td><td>null</td><td>null</td><td>2.0</td><td>null</td><td>null</td><td>null</td><td>2017.0</td><td>&quot;ab3c25cf&quot;</td><td>&quot;a55475b1&quot;</td></tr><tr><td>57569</td><td>&quot;a55475b1&quot;</td><td>&quot;a55475b1&quot;</td><td>null</td><td>null</td><td>&quot;a55475b1&quot;</td><td>&quot;a55475b1&quot;</td><td>0</td><td>1</td><td>null</td><td>null</td><td>null</td><td>3.0</td><td>null</td><td>null</td><td>null</td><td>2019.0</td><td>&quot;a55475b1&quot;</td><td>&quot;a55475b1&quot;</td></tr></tbody></table></div>"
      ],
      "text/plain": [
       "+-----+-----+-----+-----+-----+-----+-----+-----+-----+-----+-----+-----+-----+-----+-----+-----+-----+-----+-----+\n",
       "| cas | col | col | col | col | col | col | num | num | pmt | pmt | pmt | pmt | pmt | pmt | pmt | pmt | sub | sub |\n",
       "| e_i | lat | lat | lat | lat | lat | lat | _gr | _gr | s_d | s_d | s_m | s_m | s_o | s_o | s_y | s_y | jec | jec |\n",
       "|  d  | er_ | er_ | er_ | er_ | era | era | oup | oup | pd_ | pd_ | ont | ont | ver | ver | ear | ear | tro | tro |\n",
       "|     | typ | typ | val | val | ls_ | ls_ |  1  |  2  | 107 | 303 | h_1 | h_7 | due | due | _11 | _50 | les | les |\n",
       "|     | ofv | ofv | ueo | ueo | typ | typ |     |     |  3P |  P  | 58T | 06T | _11 | _11 | 39T |  7T | _na | _na |\n",
       "|     | alo | alo | fgu | fgu | eof | eof |     |     |     |     |     |     | 40A | 52A |     |     | me_ | me_ |\n",
       "|     | fgu | fgu | ara | ara | gua | gua |     |     |     |     |     |     |     |     |     |     | 541 | 838 |\n",
       "|     | ara | ara | nte | nte | ran | ran |     |     |     |     |     |     |     |     |     |     |  M  |  M  |\n",
       "|     | nt_ | nt_ | e_1 | e_8 | te_ | te_ |     |     |     |     |     |     |     |     |     |     |     |     |\n",
       "|     | 298 | 407 | 124 | 76L | 359 | 669 |     |     |     |     |     |     |     |     |     |     |     |     |\n",
       "|     |  M  |  M  |  L  |     |  M  |  M  |     |     |     |     |     |     |     |     |     |     |     |     |\n",
       "+=================================================================================================================+\n",
       "| 575 | a55 | 9a0 | nul | 0.0 | c7a | a55 |  0  |  0  | nul | nul | nul | 2.0 | nul | nul | nul | 201 | ab3 | a55 |\n",
       "|  69 | 475 | c09 |  l  |     | 5ad | 475 |     |     |  l  |  l  |  l  |     |  l  |  l  |  l  | 9.0 | c25 | 475 |\n",
       "|     |  b1 |  5e |     |     |  39 |  b1 |     |     |     |     |     |     |     |     |     |     |  cf |  b1 |\n",
       "| 575 | a55 | 9a0 | nul | 0.0 | c7a | a55 |  1  |  0  | nul | nul | nul | 2.0 | nul | nul | nul | 201 | ab3 | a55 |\n",
       "|  69 | 475 | c09 |  l  |     | 5ad | 475 |     |     |  l  |  l  |  l  |     |  l  |  l  |  l  | 7.0 | c25 | 475 |\n",
       "|     |  b1 |  5e |     |     |  39 |  b1 |     |     |     |     |     |     |     |     |     |     |  cf |  b1 |\n",
       "| 575 | a55 | a55 | nul | nul | a55 | a55 |  0  |  1  | nul | nul | nul | 3.0 | nul | nul | nul | 201 | a55 | a55 |\n",
       "|  69 | 475 | 475 |  l  |  l  | 475 | 475 |     |     |  l  |  l  |  l  |     |  l  |  l  |  l  | 9.0 | 475 | 475 |\n",
       "|     |  b1 |  b1 |     |     |  b1 |  b1 |     |     |     |     |     |     |     |     |     |     |  b1 |  b1 |\n",
       "+-----+-----+-----+-----+-----+-----+-----+-----+-----+-----+-----+-----+-----+-----+-----+-----+-----+-----+-----+"
      ]
     },
     "metadata": {},
     "output_type": "display_data"
    },
    {
     "data": {
      "text/html": [
       "<div><style>\n",
       ".dataframe > thead > tr,\n",
       ".dataframe > tbody > tr {\n",
       "  text-align: right;\n",
       "  white-space: pre-wrap;\n",
       "}\n",
       "</style>\n",
       "<table border=\"1\" class=\"dataframe\"><thead><tr><th>case_id</th><th>collater_typofvalofguarant_298M</th><th>collater_typofvalofguarant_407M</th><th>collater_valueofguarantee_1124L</th><th>collater_valueofguarantee_876L</th><th>collaterals_typeofguarante_359M</th><th>collaterals_typeofguarante_669M</th><th>num_group1</th><th>num_group2</th><th>pmts_dpd_1073P</th><th>pmts_dpd_303P</th><th>pmts_month_158T</th><th>pmts_month_706T</th><th>pmts_overdue_1140A</th><th>pmts_overdue_1152A</th><th>pmts_year_1139T</th><th>pmts_year_507T</th><th>subjectroles_name_541M</th><th>subjectroles_name_838M</th></tr></thead><tbody><tr><td>57636</td><td>&quot;8fd95e4b&quot;</td><td>&quot;8fd95e4b&quot;</td><td>0.0</td><td>0.0</td><td>&quot;c7a5ad39&quot;</td><td>&quot;c7a5ad39&quot;</td><td>0</td><td>0</td><td>null</td><td>null</td><td>2.0</td><td>2.0</td><td>null</td><td>null</td><td>2021.0</td><td>2018.0</td><td>&quot;ab3c25cf&quot;</td><td>&quot;ab3c25cf&quot;</td></tr><tr><td>57636</td><td>&quot;a55475b1&quot;</td><td>&quot;9a0c095e&quot;</td><td>null</td><td>0.0</td><td>&quot;c7a5ad39&quot;</td><td>&quot;a55475b1&quot;</td><td>1</td><td>0</td><td>null</td><td>null</td><td>null</td><td>2.0</td><td>null</td><td>null</td><td>null</td><td>2018.0</td><td>&quot;ab3c25cf&quot;</td><td>&quot;a55475b1&quot;</td></tr><tr><td>57636</td><td>&quot;a55475b1&quot;</td><td>&quot;8fd95e4b&quot;</td><td>null</td><td>0.0</td><td>&quot;c7a5ad39&quot;</td><td>&quot;a55475b1&quot;</td><td>2</td><td>0</td><td>null</td><td>null</td><td>null</td><td>2.0</td><td>null</td><td>null</td><td>null</td><td>2018.0</td><td>&quot;ab3c25cf&quot;</td><td>&quot;a55475b1&quot;</td></tr></tbody></table></div>"
      ],
      "text/plain": [
       "+-----+-----+-----+-----+-----+-----+-----+-----+-----+-----+-----+-----+-----+-----+-----+-----+-----+-----+-----+\n",
       "| cas | col | col | col | col | col | col | num | num | pmt | pmt | pmt | pmt | pmt | pmt | pmt | pmt | sub | sub |\n",
       "| e_i | lat | lat | lat | lat | lat | lat | _gr | _gr | s_d | s_d | s_m | s_m | s_o | s_o | s_y | s_y | jec | jec |\n",
       "|  d  | er_ | er_ | er_ | er_ | era | era | oup | oup | pd_ | pd_ | ont | ont | ver | ver | ear | ear | tro | tro |\n",
       "|     | typ | typ | val | val | ls_ | ls_ |  1  |  2  | 107 | 303 | h_1 | h_7 | due | due | _11 | _50 | les | les |\n",
       "|     | ofv | ofv | ueo | ueo | typ | typ |     |     |  3P |  P  | 58T | 06T | _11 | _11 | 39T |  7T | _na | _na |\n",
       "|     | alo | alo | fgu | fgu | eof | eof |     |     |     |     |     |     | 40A | 52A |     |     | me_ | me_ |\n",
       "|     | fgu | fgu | ara | ara | gua | gua |     |     |     |     |     |     |     |     |     |     | 541 | 838 |\n",
       "|     | ara | ara | nte | nte | ran | ran |     |     |     |     |     |     |     |     |     |     |  M  |  M  |\n",
       "|     | nt_ | nt_ | e_1 | e_8 | te_ | te_ |     |     |     |     |     |     |     |     |     |     |     |     |\n",
       "|     | 298 | 407 | 124 | 76L | 359 | 669 |     |     |     |     |     |     |     |     |     |     |     |     |\n",
       "|     |  M  |  M  |  L  |     |  M  |  M  |     |     |     |     |     |     |     |     |     |     |     |     |\n",
       "+=================================================================================================================+\n",
       "| 576 | 8fd | 8fd | 0.0 | 0.0 | c7a | c7a |  0  |  0  | nul | nul | 2.0 | 2.0 | nul | nul | 202 | 201 | ab3 | ab3 |\n",
       "|  36 | 95e | 95e |     |     | 5ad | 5ad |     |     |  l  |  l  |     |     |  l  |  l  | 1.0 | 8.0 | c25 | c25 |\n",
       "|     |  4b |  4b |     |     |  39 |  39 |     |     |     |     |     |     |     |     |     |     |  cf |  cf |\n",
       "| 576 | a55 | 9a0 | nul | 0.0 | c7a | a55 |  1  |  0  | nul | nul | nul | 2.0 | nul | nul | nul | 201 | ab3 | a55 |\n",
       "|  36 | 475 | c09 |  l  |     | 5ad | 475 |     |     |  l  |  l  |  l  |     |  l  |  l  |  l  | 8.0 | c25 | 475 |\n",
       "|     |  b1 |  5e |     |     |  39 |  b1 |     |     |     |     |     |     |     |     |     |     |  cf |  b1 |\n",
       "| 576 | a55 | 8fd | nul | 0.0 | c7a | a55 |  2  |  0  | nul | nul | nul | 2.0 | nul | nul | nul | 201 | ab3 | a55 |\n",
       "|  36 | 475 | 95e |  l  |     | 5ad | 475 |     |     |  l  |  l  |  l  |     |  l  |  l  |  l  | 8.0 | c25 | 475 |\n",
       "|     |  b1 |  4b |     |     |  39 |  b1 |     |     |     |     |     |     |     |     |     |     |  cf |  b1 |\n",
       "+-----+-----+-----+-----+-----+-----+-----+-----+-----+-----+-----+-----+-----+-----+-----+-----+-----+-----+-----+"
      ]
     },
     "metadata": {},
     "output_type": "display_data"
    },
    {
     "data": {
      "text/html": [
       "<div><style>\n",
       ".dataframe > thead > tr,\n",
       ".dataframe > tbody > tr {\n",
       "  text-align: right;\n",
       "  white-space: pre-wrap;\n",
       "}\n",
       "</style>\n",
       "<table border=\"1\" class=\"dataframe\"><thead><tr><th>case_id</th><th>collater_typofvalofguarant_298M</th><th>collater_typofvalofguarant_407M</th><th>collater_valueofguarantee_1124L</th><th>collater_valueofguarantee_876L</th><th>collaterals_typeofguarante_359M</th><th>collaterals_typeofguarante_669M</th><th>num_group1</th><th>num_group2</th><th>pmts_dpd_1073P</th><th>pmts_dpd_303P</th><th>pmts_month_158T</th><th>pmts_month_706T</th><th>pmts_overdue_1140A</th><th>pmts_overdue_1152A</th><th>pmts_year_1139T</th><th>pmts_year_507T</th><th>subjectroles_name_541M</th><th>subjectroles_name_838M</th></tr></thead><tbody><tr><td>57633</td><td>&quot;9a0c095e&quot;</td><td>&quot;9a0c095e&quot;</td><td>0.0</td><td>0.0</td><td>&quot;c7a5ad39&quot;</td><td>&quot;c7a5ad39&quot;</td><td>0</td><td>0</td><td>null</td><td>0.0</td><td>2.0</td><td>2.0</td><td>null</td><td>0.0</td><td>2020.0</td><td>2021.0</td><td>&quot;ab3c25cf&quot;</td><td>&quot;ab3c25cf&quot;</td></tr><tr><td>57633</td><td>&quot;9a0c095e&quot;</td><td>&quot;9a0c095e&quot;</td><td>0.0</td><td>0.0</td><td>&quot;c7a5ad39&quot;</td><td>&quot;c7a5ad39&quot;</td><td>1</td><td>0</td><td>null</td><td>null</td><td>2.0</td><td>2.0</td><td>0.0</td><td>null</td><td>2021.0</td><td>2021.0</td><td>&quot;ab3c25cf&quot;</td><td>&quot;ab3c25cf&quot;</td></tr><tr><td>57633</td><td>&quot;9a0c095e&quot;</td><td>&quot;9a0c095e&quot;</td><td>0.0</td><td>0.0</td><td>&quot;c7a5ad39&quot;</td><td>&quot;c7a5ad39&quot;</td><td>2</td><td>0</td><td>null</td><td>null</td><td>2.0</td><td>2.0</td><td>null</td><td>null</td><td>2021.0</td><td>2021.0</td><td>&quot;ab3c25cf&quot;</td><td>&quot;ab3c25cf&quot;</td></tr></tbody></table></div>"
      ],
      "text/plain": [
       "+-----+-----+-----+-----+-----+-----+-----+-----+-----+-----+-----+-----+-----+-----+-----+-----+-----+-----+-----+\n",
       "| cas | col | col | col | col | col | col | num | num | pmt | pmt | pmt | pmt | pmt | pmt | pmt | pmt | sub | sub |\n",
       "| e_i | lat | lat | lat | lat | lat | lat | _gr | _gr | s_d | s_d | s_m | s_m | s_o | s_o | s_y | s_y | jec | jec |\n",
       "|  d  | er_ | er_ | er_ | er_ | era | era | oup | oup | pd_ | pd_ | ont | ont | ver | ver | ear | ear | tro | tro |\n",
       "|     | typ | typ | val | val | ls_ | ls_ |  1  |  2  | 107 | 303 | h_1 | h_7 | due | due | _11 | _50 | les | les |\n",
       "|     | ofv | ofv | ueo | ueo | typ | typ |     |     |  3P |  P  | 58T | 06T | _11 | _11 | 39T |  7T | _na | _na |\n",
       "|     | alo | alo | fgu | fgu | eof | eof |     |     |     |     |     |     | 40A | 52A |     |     | me_ | me_ |\n",
       "|     | fgu | fgu | ara | ara | gua | gua |     |     |     |     |     |     |     |     |     |     | 541 | 838 |\n",
       "|     | ara | ara | nte | nte | ran | ran |     |     |     |     |     |     |     |     |     |     |  M  |  M  |\n",
       "|     | nt_ | nt_ | e_1 | e_8 | te_ | te_ |     |     |     |     |     |     |     |     |     |     |     |     |\n",
       "|     | 298 | 407 | 124 | 76L | 359 | 669 |     |     |     |     |     |     |     |     |     |     |     |     |\n",
       "|     |  M  |  M  |  L  |     |  M  |  M  |     |     |     |     |     |     |     |     |     |     |     |     |\n",
       "+=================================================================================================================+\n",
       "| 576 | 9a0 | 9a0 | 0.0 | 0.0 | c7a | c7a |  0  |  0  | nul | 0.0 | 2.0 | 2.0 | nul | 0.0 | 202 | 202 | ab3 | ab3 |\n",
       "|  33 | c09 | c09 |     |     | 5ad | 5ad |     |     |  l  |     |     |     |  l  |     | 0.0 | 1.0 | c25 | c25 |\n",
       "|     |  5e |  5e |     |     |  39 |  39 |     |     |     |     |     |     |     |     |     |     |  cf |  cf |\n",
       "| 576 | 9a0 | 9a0 | 0.0 | 0.0 | c7a | c7a |  1  |  0  | nul | nul | 2.0 | 2.0 | 0.0 | nul | 202 | 202 | ab3 | ab3 |\n",
       "|  33 | c09 | c09 |     |     | 5ad | 5ad |     |     |  l  |  l  |     |     |     |  l  | 1.0 | 1.0 | c25 | c25 |\n",
       "|     |  5e |  5e |     |     |  39 |  39 |     |     |     |     |     |     |     |     |     |     |  cf |  cf |\n",
       "| 576 | 9a0 | 9a0 | 0.0 | 0.0 | c7a | c7a |  2  |  0  | nul | nul | 2.0 | 2.0 | nul | nul | 202 | 202 | ab3 | ab3 |\n",
       "|  33 | c09 | c09 |     |     | 5ad | 5ad |     |     |  l  |  l  |     |     |  l  |  l  | 1.0 | 1.0 | c25 | c25 |\n",
       "|     |  5e |  5e |     |     |  39 |  39 |     |     |     |     |     |     |     |     |     |     |  cf |  cf |\n",
       "+-----+-----+-----+-----+-----+-----+-----+-----+-----+-----+-----+-----+-----+-----+-----+-----+-----+-----+-----+"
      ]
     },
     "metadata": {},
     "output_type": "display_data"
    },
    {
     "data": {
      "text/html": [
       "<div><style>\n",
       ".dataframe > thead > tr,\n",
       ".dataframe > tbody > tr {\n",
       "  text-align: right;\n",
       "  white-space: pre-wrap;\n",
       "}\n",
       "</style>\n",
       "<table border=\"1\" class=\"dataframe\"><thead><tr><th>case_id</th><th>collater_typofvalofguarant_298M</th><th>collater_typofvalofguarant_407M</th><th>collater_valueofguarantee_1124L</th><th>collater_valueofguarantee_876L</th><th>collaterals_typeofguarante_359M</th><th>collaterals_typeofguarante_669M</th><th>num_group1</th><th>num_group2</th><th>pmts_dpd_1073P</th><th>pmts_dpd_303P</th><th>pmts_month_158T</th><th>pmts_month_706T</th><th>pmts_overdue_1140A</th><th>pmts_overdue_1152A</th><th>pmts_year_1139T</th><th>pmts_year_507T</th><th>subjectroles_name_541M</th><th>subjectroles_name_838M</th></tr></thead><tbody><tr><td>57645</td><td>&quot;9a0c095e&quot;</td><td>&quot;8fd95e4b&quot;</td><td>0.0</td><td>0.0</td><td>&quot;c7a5ad39&quot;</td><td>&quot;c7a5ad39&quot;</td><td>0</td><td>0</td><td>null</td><td>null</td><td>2.0</td><td>2.0</td><td>null</td><td>null</td><td>2020.0</td><td>2018.0</td><td>&quot;ab3c25cf&quot;</td><td>&quot;ab3c25cf&quot;</td></tr><tr><td>57645</td><td>&quot;8fd95e4b&quot;</td><td>&quot;8fd95e4b&quot;</td><td>0.0</td><td>0.0</td><td>&quot;c7a5ad39&quot;</td><td>&quot;c7a5ad39&quot;</td><td>1</td><td>0</td><td>null</td><td>null</td><td>2.0</td><td>2.0</td><td>null</td><td>null</td><td>2021.0</td><td>2018.0</td><td>&quot;ab3c25cf&quot;</td><td>&quot;ab3c25cf&quot;</td></tr><tr><td>57645</td><td>&quot;a55475b1&quot;</td><td>&quot;9a0c095e&quot;</td><td>null</td><td>0.0</td><td>&quot;c7a5ad39&quot;</td><td>&quot;a55475b1&quot;</td><td>2</td><td>0</td><td>null</td><td>null</td><td>null</td><td>2.0</td><td>null</td><td>null</td><td>null</td><td>2019.0</td><td>&quot;ab3c25cf&quot;</td><td>&quot;a55475b1&quot;</td></tr></tbody></table></div>"
      ],
      "text/plain": [
       "+-----+-----+-----+-----+-----+-----+-----+-----+-----+-----+-----+-----+-----+-----+-----+-----+-----+-----+-----+\n",
       "| cas | col | col | col | col | col | col | num | num | pmt | pmt | pmt | pmt | pmt | pmt | pmt | pmt | sub | sub |\n",
       "| e_i | lat | lat | lat | lat | lat | lat | _gr | _gr | s_d | s_d | s_m | s_m | s_o | s_o | s_y | s_y | jec | jec |\n",
       "|  d  | er_ | er_ | er_ | er_ | era | era | oup | oup | pd_ | pd_ | ont | ont | ver | ver | ear | ear | tro | tro |\n",
       "|     | typ | typ | val | val | ls_ | ls_ |  1  |  2  | 107 | 303 | h_1 | h_7 | due | due | _11 | _50 | les | les |\n",
       "|     | ofv | ofv | ueo | ueo | typ | typ |     |     |  3P |  P  | 58T | 06T | _11 | _11 | 39T |  7T | _na | _na |\n",
       "|     | alo | alo | fgu | fgu | eof | eof |     |     |     |     |     |     | 40A | 52A |     |     | me_ | me_ |\n",
       "|     | fgu | fgu | ara | ara | gua | gua |     |     |     |     |     |     |     |     |     |     | 541 | 838 |\n",
       "|     | ara | ara | nte | nte | ran | ran |     |     |     |     |     |     |     |     |     |     |  M  |  M  |\n",
       "|     | nt_ | nt_ | e_1 | e_8 | te_ | te_ |     |     |     |     |     |     |     |     |     |     |     |     |\n",
       "|     | 298 | 407 | 124 | 76L | 359 | 669 |     |     |     |     |     |     |     |     |     |     |     |     |\n",
       "|     |  M  |  M  |  L  |     |  M  |  M  |     |     |     |     |     |     |     |     |     |     |     |     |\n",
       "+=================================================================================================================+\n",
       "| 576 | 9a0 | 8fd | 0.0 | 0.0 | c7a | c7a |  0  |  0  | nul | nul | 2.0 | 2.0 | nul | nul | 202 | 201 | ab3 | ab3 |\n",
       "|  45 | c09 | 95e |     |     | 5ad | 5ad |     |     |  l  |  l  |     |     |  l  |  l  | 0.0 | 8.0 | c25 | c25 |\n",
       "|     |  5e |  4b |     |     |  39 |  39 |     |     |     |     |     |     |     |     |     |     |  cf |  cf |\n",
       "| 576 | 8fd | 8fd | 0.0 | 0.0 | c7a | c7a |  1  |  0  | nul | nul | 2.0 | 2.0 | nul | nul | 202 | 201 | ab3 | ab3 |\n",
       "|  45 | 95e | 95e |     |     | 5ad | 5ad |     |     |  l  |  l  |     |     |  l  |  l  | 1.0 | 8.0 | c25 | c25 |\n",
       "|     |  4b |  4b |     |     |  39 |  39 |     |     |     |     |     |     |     |     |     |     |  cf |  cf |\n",
       "| 576 | a55 | 9a0 | nul | 0.0 | c7a | a55 |  2  |  0  | nul | nul | nul | 2.0 | nul | nul | nul | 201 | ab3 | a55 |\n",
       "|  45 | 475 | c09 |  l  |     | 5ad | 475 |     |     |  l  |  l  |  l  |     |  l  |  l  |  l  | 9.0 | c25 | 475 |\n",
       "|     |  b1 |  5e |     |     |  39 |  b1 |     |     |     |     |     |     |     |     |     |     |  cf |  b1 |\n",
       "+-----+-----+-----+-----+-----+-----+-----+-----+-----+-----+-----+-----+-----+-----+-----+-----+-----+-----+-----+"
      ]
     },
     "metadata": {},
     "output_type": "display_data"
    },
    {
     "data": {
      "text/html": [
       "<div><style>\n",
       ".dataframe > thead > tr,\n",
       ".dataframe > tbody > tr {\n",
       "  text-align: right;\n",
       "  white-space: pre-wrap;\n",
       "}\n",
       "</style>\n",
       "<table border=\"1\" class=\"dataframe\"><thead><tr><th>case_id</th><th>collater_typofvalofguarant_298M</th><th>collater_typofvalofguarant_407M</th><th>collater_valueofguarantee_1124L</th><th>collater_valueofguarantee_876L</th><th>collaterals_typeofguarante_359M</th><th>collaterals_typeofguarante_669M</th><th>num_group1</th><th>num_group2</th><th>pmts_dpd_1073P</th><th>pmts_dpd_303P</th><th>pmts_month_158T</th><th>pmts_month_706T</th><th>pmts_overdue_1140A</th><th>pmts_overdue_1152A</th><th>pmts_year_1139T</th><th>pmts_year_507T</th><th>subjectroles_name_541M</th><th>subjectroles_name_838M</th></tr></thead><tbody><tr><td>57549</td><td>&quot;9a0c095e&quot;</td><td>&quot;8fd95e4b&quot;</td><td>0.0</td><td>0.0</td><td>&quot;c7a5ad39&quot;</td><td>&quot;c7a5ad39&quot;</td><td>0</td><td>0</td><td>null</td><td>null</td><td>2.0</td><td>2.0</td><td>null</td><td>null</td><td>2020.0</td><td>2018.0</td><td>&quot;ab3c25cf&quot;</td><td>&quot;ab3c25cf&quot;</td></tr><tr><td>57549</td><td>&quot;9a0c095e&quot;</td><td>&quot;8fd95e4b&quot;</td><td>0.0</td><td>0.0</td><td>&quot;c7a5ad39&quot;</td><td>&quot;c7a5ad39&quot;</td><td>1</td><td>0</td><td>null</td><td>null</td><td>2.0</td><td>2.0</td><td>null</td><td>null</td><td>2022.0</td><td>2019.0</td><td>&quot;ab3c25cf&quot;</td><td>&quot;ab3c25cf&quot;</td></tr><tr><td>57549</td><td>&quot;9a0c095e&quot;</td><td>&quot;9a0c095e&quot;</td><td>0.0</td><td>0.0</td><td>&quot;c7a5ad39&quot;</td><td>&quot;c7a5ad39&quot;</td><td>2</td><td>0</td><td>null</td><td>null</td><td>2.0</td><td>2.0</td><td>null</td><td>null</td><td>2022.0</td><td>2017.0</td><td>&quot;ab3c25cf&quot;</td><td>&quot;ab3c25cf&quot;</td></tr></tbody></table></div>"
      ],
      "text/plain": [
       "+-----+-----+-----+-----+-----+-----+-----+-----+-----+-----+-----+-----+-----+-----+-----+-----+-----+-----+-----+\n",
       "| cas | col | col | col | col | col | col | num | num | pmt | pmt | pmt | pmt | pmt | pmt | pmt | pmt | sub | sub |\n",
       "| e_i | lat | lat | lat | lat | lat | lat | _gr | _gr | s_d | s_d | s_m | s_m | s_o | s_o | s_y | s_y | jec | jec |\n",
       "|  d  | er_ | er_ | er_ | er_ | era | era | oup | oup | pd_ | pd_ | ont | ont | ver | ver | ear | ear | tro | tro |\n",
       "|     | typ | typ | val | val | ls_ | ls_ |  1  |  2  | 107 | 303 | h_1 | h_7 | due | due | _11 | _50 | les | les |\n",
       "|     | ofv | ofv | ueo | ueo | typ | typ |     |     |  3P |  P  | 58T | 06T | _11 | _11 | 39T |  7T | _na | _na |\n",
       "|     | alo | alo | fgu | fgu | eof | eof |     |     |     |     |     |     | 40A | 52A |     |     | me_ | me_ |\n",
       "|     | fgu | fgu | ara | ara | gua | gua |     |     |     |     |     |     |     |     |     |     | 541 | 838 |\n",
       "|     | ara | ara | nte | nte | ran | ran |     |     |     |     |     |     |     |     |     |     |  M  |  M  |\n",
       "|     | nt_ | nt_ | e_1 | e_8 | te_ | te_ |     |     |     |     |     |     |     |     |     |     |     |     |\n",
       "|     | 298 | 407 | 124 | 76L | 359 | 669 |     |     |     |     |     |     |     |     |     |     |     |     |\n",
       "|     |  M  |  M  |  L  |     |  M  |  M  |     |     |     |     |     |     |     |     |     |     |     |     |\n",
       "+=================================================================================================================+\n",
       "| 575 | 9a0 | 8fd | 0.0 | 0.0 | c7a | c7a |  0  |  0  | nul | nul | 2.0 | 2.0 | nul | nul | 202 | 201 | ab3 | ab3 |\n",
       "|  49 | c09 | 95e |     |     | 5ad | 5ad |     |     |  l  |  l  |     |     |  l  |  l  | 0.0 | 8.0 | c25 | c25 |\n",
       "|     |  5e |  4b |     |     |  39 |  39 |     |     |     |     |     |     |     |     |     |     |  cf |  cf |\n",
       "| 575 | 9a0 | 8fd | 0.0 | 0.0 | c7a | c7a |  1  |  0  | nul | nul | 2.0 | 2.0 | nul | nul | 202 | 201 | ab3 | ab3 |\n",
       "|  49 | c09 | 95e |     |     | 5ad | 5ad |     |     |  l  |  l  |     |     |  l  |  l  | 2.0 | 9.0 | c25 | c25 |\n",
       "|     |  5e |  4b |     |     |  39 |  39 |     |     |     |     |     |     |     |     |     |     |  cf |  cf |\n",
       "| 575 | 9a0 | 9a0 | 0.0 | 0.0 | c7a | c7a |  2  |  0  | nul | nul | 2.0 | 2.0 | nul | nul | 202 | 201 | ab3 | ab3 |\n",
       "|  49 | c09 | c09 |     |     | 5ad | 5ad |     |     |  l  |  l  |     |     |  l  |  l  | 2.0 | 7.0 | c25 | c25 |\n",
       "|     |  5e |  5e |     |     |  39 |  39 |     |     |     |     |     |     |     |     |     |     |  cf |  cf |\n",
       "+-----+-----+-----+-----+-----+-----+-----+-----+-----+-----+-----+-----+-----+-----+-----+-----+-----+-----+-----+"
      ]
     },
     "metadata": {},
     "output_type": "display_data"
    },
    {
     "data": {
      "text/html": [
       "<div><style>\n",
       ".dataframe > thead > tr,\n",
       ".dataframe > tbody > tr {\n",
       "  text-align: right;\n",
       "  white-space: pre-wrap;\n",
       "}\n",
       "</style>\n",
       "<table border=\"1\" class=\"dataframe\"><thead><tr><th>case_id</th><th>amount_1115A</th><th>classificationofcontr_1114M</th><th>contractdate_551D</th><th>contractmaturitydate_151D</th><th>contractst_516M</th><th>contracttype_653M</th><th>credlmt_1052A</th><th>credlmt_228A</th><th>credlmt_3940954A</th><th>credor_3940957M</th><th>credquantity_1099L</th><th>credquantity_984L</th><th>debtpastduevalue_732A</th><th>debtvalue_227A</th><th>dpd_550P</th><th>dpd_733P</th><th>dpdmax_851P</th><th>dpdmaxdatemonth_804T</th><th>dpdmaxdateyear_742T</th><th>installmentamount_644A</th><th>installmentamount_833A</th><th>instlamount_892A</th><th>interesteffectiverate_369L</th><th>interestrateyearly_538L</th><th>lastupdate_260D</th><th>maxdebtpduevalodued_3940955A</th><th>num_group1</th><th>numberofinstls_810L</th><th>overdueamountmax_950A</th><th>overdueamountmaxdatemonth_494T</th><th>overdueamountmaxdateyear_432T</th><th>periodicityofpmts_997L</th><th>periodicityofpmts_997M</th><th>pmtdaysoverdue_1135P</th><th>pmtmethod_731M</th><th>pmtnumpending_403L</th><th>purposeofcred_722M</th><th>residualamount_1093A</th><th>residualamount_127A</th><th>residualamount_3940956A</th><th>subjectrole_326M</th><th>subjectrole_43M</th><th>totalamount_503A</th><th>totalamount_881A</th></tr></thead><tbody><tr><td>57675</td><td>1.488e6</td><td>&quot;01f63ac8&quot;</td><td>&quot;2020-04-22&quot;</td><td>&quot;2035-04-23&quot;</td><td>&quot;04bf6e27&quot;</td><td>&quot;60e784d6&quot;</td><td>null</td><td>null</td><td>null</td><td>&quot;74bd67a8&quot;</td><td>null</td><td>null</td><td>0.0</td><td>1.433179e6</td><td>null</td><td>null</td><td>0.0</td><td>11.0</td><td>2019.0</td><td>null</td><td>null</td><td>17030.264</td><td>null</td><td>null</td><td>&quot;2022-01-02&quot;</td><td>0.0</td><td>2</td><td>181.0</td><td>0.0</td><td>11.0</td><td>2019.0</td><td>null</td><td>&quot;a0b598e4&quot;</td><td>0.0</td><td>&quot;e914c86c&quot;</td><td>160.0</td><td>&quot;60c73645&quot;</td><td>null</td><td>null</td><td>null</td><td>&quot;a55475b1&quot;</td><td>&quot;a55475b1&quot;</td><td>null</td><td>null</td></tr><tr><td>57675</td><td>null</td><td>&quot;ea6782cc&quot;</td><td>&quot;2020-06-01&quot;</td><td>&quot;2022-06-02&quot;</td><td>&quot;7241344e&quot;</td><td>&quot;1c9c5356&quot;</td><td>220598.0</td><td>10000.0</td><td>20000.0</td><td>&quot;b619fa46&quot;</td><td>2.0</td><td>1.0</td><td>0.0</td><td>null</td><td>0.0</td><td>0.0</td><td>0.0</td><td>12.0</td><td>2019.0</td><td>0.0</td><td>182816.69</td><td>null</td><td>null</td><td>null</td><td>&quot;2021-12-27&quot;</td><td>0.0</td><td>0</td><td>null</td><td>0.0</td><td>12.0</td><td>2019.0</td><td>null</td><td>&quot;a55475b1&quot;</td><td>0.0</td><td>&quot;a55475b1&quot;</td><td>null</td><td>&quot;60c73645&quot;</td><td>0.0</td><td>182816.69</td><td>17720.8</td><td>&quot;ab3c25cf&quot;</td><td>&quot;ab3c25cf&quot;</td><td>220598.0</td><td>10000.0</td></tr><tr><td>57675</td><td>null</td><td>&quot;ea6782cc&quot;</td><td>&quot;2012-09-29&quot;</td><td>&quot;2022-09-29&quot;</td><td>&quot;7241344e&quot;</td><td>&quot;1c9c5356&quot;</td><td>null</td><td>null</td><td>200598.0</td><td>&quot;b619fa46&quot;</td><td>1.0</td><td>19.0</td><td>0.0</td><td>null</td><td>0.0</td><td>0.0</td><td>37403.0</td><td>8.0</td><td>2013.0</td><td>0.0</td><td>1.433179e6</td><td>null</td><td>null</td><td>null</td><td>&quot;2021-12-24&quot;</td><td>0.0</td><td>1</td><td>null</td><td>10.6</td><td>4.0</td><td>2015.0</td><td>null</td><td>&quot;a55475b1&quot;</td><td>0.0</td><td>&quot;a55475b1&quot;</td><td>null</td><td>&quot;60c73645&quot;</td><td>null</td><td>null</td><td>165095.89</td><td>&quot;ab3c25cf&quot;</td><td>&quot;ab3c25cf&quot;</td><td>1.488e6</td><td>480262.6</td></tr></tbody></table></div>"
      ],
      "text/plain": [
       "+-----+-----+-----+-----+-----+-----+-----+-----+-----+-----+-----+-----+-----+-----+-----+-----+-----+-----+-----+-----+-----+-----+-----+-----+-----+-----+-----+-----+-----+-----+-----+-----+-----+-----+-----+-----+-----+-----+-----+-----+-----+-----+-----+-----+-----+\n",
       "| cas | amo | cla | con | con | con | con | cre | cre | cre | cre | cre | cre | deb | deb | dpd | dpd | dpd | dpd | dpd | ins | ins | ins | int | int | las | max | num | num | ove | ove | ove | per | per | pmt | pmt | pmt | pur | res | res | res | sub | sub | tot | tot |\n",
       "| e_i | unt | ssi | tra | tra | tra | tra | dlm | dlm | dlm | dor | dqu | dqu | tpa | tva | _55 | _73 | max | max | max | tal | tal | tla | ere | ere | tup | deb | _gr | ber | rdu | rdu | rdu | iod | iod | day | met | num | pos | idu | idu | idu | jec | jec | ala | ala |\n",
       "|  d  | _11 | fic | ctd | ctm | cts | ctt | t_1 | t_2 | t_3 | _39 | ant | ant | std | lue |  0P |  3P | _85 | dat | dat | lme | lme | mou | ste | str | dat | tpd | oup | ofi | eam | eam | eam | ici | ici | sov | hod | pen | eof | ala | ala | ala | tro | tro | mou | mou |\n",
       "|     | 15A | ati | ate | atu | t_5 | ype | 052 | 28A | 940 | 409 | ity | ity | uev | _22 |     |     |  1P | emo | eye | nta | nta | nt_ | ffe | ate | e_2 | uev |  1  | nst | oun | oun | oun | tyo | tyo | erd | _73 | din | cre | mou | mou | mou | le_ | le_ | nt_ | nt_ |\n",
       "|     |     | ono | _55 | rit | 16M | _65 |  A  |     | 954 | 57M | _10 | _98 | alu |  7A |     |     |     | nth | ar_ | mou | mou | 892 | cti | yea | 60D | alo |     | ls_ | tma | tma | tma | fpm | fpm | ue_ |  1M | g_4 | d_7 | nt_ | nt_ | nt_ | 326 | 43M | 503 | 881 |\n",
       "|     |     | fco |  1D | yda |     |  3M |     |     |  A  |     | 99L |  4L | e_7 |     |     |     |     | _80 | 742 | nt_ | nt_ |  A  | ver | rly |     | due |     | 810 | x_9 | xda | xda | ts_ | ts_ | 113 |     | 03L | 22M | 109 | 127 | 394 |  M  |     |  A  |  A  |\n",
       "|     |     | ntr |     | te_ |     |     |     |     |     |     |     |     | 32A |     |     |     |     |  4T |  T  | 644 | 833 |     | ate | _53 |     | d_3 |     |  L  | 50A | tem | tey | 997 | 997 |  5P |     |     |     |  3A |  A  | 095 |     |     |     |     |\n",
       "|     |     | _11 |     | 151 |     |     |     |     |     |     |     |     |     |     |     |     |     |     |     |  A  |  A  |     | _36 |  8L |     | 940 |     |     |     | ont | ear |  L  |  M  |     |     |     |     |     |     |  6A |     |     |     |     |\n",
       "|     |     | 14M |     |  D  |     |     |     |     |     |     |     |     |     |     |     |     |     |     |     |     |     |     |  9L |     |     | 955 |     |     |     | h_4 | _43 |     |     |     |     |     |     |     |     |     |     |     |     |     |\n",
       "|     |     |     |     |     |     |     |     |     |     |     |     |     |     |     |     |     |     |     |     |     |     |     |     |     |     |  A  |     |     |     | 94T |  2T |     |     |     |     |     |     |     |     |     |     |     |     |     |\n",
       "+=============================================================================================================================================================================================================================================================================+\n",
       "| 576 | 1.4 | 01f | 202 | 203 | 04b | 60e | nul | nul | nul | 74b | nul | nul | 0.0 | 1.4 | nul | nul | 0.0 | 11. | 201 | nul | nul | 170 | nul | nul | 202 | 0.0 |  2  | 181 | 0.0 | 11. | 201 | nul | a0b | 0.0 | e91 | 160 | 60c | nul | nul | nul | a55 | a55 | nul | nul |\n",
       "|  75 | 88e | 63a | 0-0 | 5-0 | f6e | 784 |  l  |  l  |  l  | d67 |  l  |  l  |     | 331 |  l  |  l  |     |  0  | 9.0 |  l  |  l  | 30. |  l  |  l  | 2-0 |     |     |  .0 |     |  0  | 9.0 |  l  | 598 |     | 4c8 |  .0 | 736 |  l  |  l  |  l  | 475 | 475 |  l  |  l  |\n",
       "|     |  6  |  c8 | 4-2 | 4-2 |  27 |  d6 |     |     |     |  a8 |     |     |     | 79e |     |     |     |     |     |     |     | 264 |     |     | 1-0 |     |     |     |     |     |     |     |  e4 |     |  6c |     |  45 |     |     |     |  b1 |  b1 |     |     |\n",
       "|     |     |     |  2  |  3  |     |     |     |     |     |     |     |     |     |  6  |     |     |     |     |     |     |     |     |     |     |  2  |     |     |     |     |     |     |     |     |     |     |     |     |     |     |     |     |     |     |     |\n",
       "| 576 | nul | ea6 | 202 | 202 | 724 | 1c9 | 220 | 100 | 200 | b61 | 2.0 | 1.0 | 0.0 | nul | 0.0 | 0.0 | 0.0 | 12. | 201 | 0.0 | 182 | nul | nul | nul | 202 | 0.0 |  0  | nul | 0.0 | 12. | 201 | nul | a55 | 0.0 | a55 | nul | 60c | 0.0 | 182 | 177 | ab3 | ab3 | 220 | 100 |\n",
       "|  75 |  l  | 782 | 0-0 | 2-0 | 134 | c53 | 598 | 00. | 00. | 9fa |     |     |     |  l  |     |     |     |  0  | 9.0 |     | 816 |  l  |  l  |  l  | 1-1 |     |     |  l  |     |  0  | 9.0 |  l  | 475 |     | 475 |  l  | 736 |     | 816 | 20. | c25 | c25 | 598 | 00. |\n",
       "|     |     |  cc | 6-0 | 6-0 |  4e |  56 |  .0 |  0  |  0  |  46 |     |     |     |     |     |     |     |     |     |     | .69 |     |     |     | 2-2 |     |     |     |     |     |     |     |  b1 |     |  b1 |     |  45 |     | .69 |  8  |  cf |  cf |  .0 |  0  |\n",
       "|     |     |     |  1  |  2  |     |     |     |     |     |     |     |     |     |     |     |     |     |     |     |     |     |     |     |     |  7  |     |     |     |     |     |     |     |     |     |     |     |     |     |     |     |     |     |     |     |\n",
       "| 576 | nul | ea6 | 201 | 202 | 724 | 1c9 | nul | nul | 200 | b61 | 1.0 | 19. | 0.0 | nul | 0.0 | 0.0 | 374 | 8.0 | 201 | 0.0 | 1.4 | nul | nul | nul | 202 | 0.0 |  1  | nul | 10. | 4.0 | 201 | nul | a55 | 0.0 | a55 | nul | 60c | nul | nul | 165 | ab3 | ab3 | 1.4 | 480 |\n",
       "|  75 |  l  | 782 | 2-0 | 2-0 | 134 | c53 |  l  |  l  | 598 | 9fa |     |  0  |     |  l  |     |     | 03. |     | 3.0 |     | 331 |  l  |  l  |  l  | 1-1 |     |     |  l  |  6  |     | 5.0 |  l  | 475 |     | 475 |  l  | 736 |  l  |  l  | 095 | c25 | c25 | 88e | 262 |\n",
       "|     |     |  cc | 9-2 | 9-2 |  4e |  56 |     |     |  .0 |  46 |     |     |     |     |     |     |  0  |     |     |     | 79e |     |     |     | 2-2 |     |     |     |     |     |     |     |  b1 |     |  b1 |     |  45 |     |     | .89 |  cf |  cf |  6  |  .6 |\n",
       "|     |     |     |  9  |  9  |     |     |     |     |     |     |     |     |     |     |     |     |     |     |     |     |  6  |     |     |     |  4  |     |     |     |     |     |     |     |     |     |     |     |     |     |     |     |     |     |     |     |\n",
       "+-----+-----+-----+-----+-----+-----+-----+-----+-----+-----+-----+-----+-----+-----+-----+-----+-----+-----+-----+-----+-----+-----+-----+-----+-----+-----+-----+-----+-----+-----+-----+-----+-----+-----+-----+-----+-----+-----+-----+-----+-----+-----+-----+-----+-----+"
      ]
     },
     "metadata": {},
     "output_type": "display_data"
    },
    {
     "data": {
      "text/html": [
       "<div><style>\n",
       ".dataframe > thead > tr,\n",
       ".dataframe > tbody > tr {\n",
       "  text-align: right;\n",
       "  white-space: pre-wrap;\n",
       "}\n",
       "</style>\n",
       "<table border=\"1\" class=\"dataframe\"><thead><tr><th>case_id</th><th>num_group1</th><th>num_group2</th><th>pmts_date_1107D</th><th>pmts_dpdvalue_108P</th><th>pmts_pmtsoverdue_635A</th></tr></thead><tbody><tr><td>57675</td><td>0</td><td>0</td><td>&quot;2020-05-15&quot;</td><td>0.0</td><td>0.0</td></tr><tr><td>57675</td><td>0</td><td>1</td><td>&quot;2020-06-14&quot;</td><td>0.0</td><td>0.0</td></tr><tr><td>57675</td><td>0</td><td>2</td><td>&quot;2020-07-15&quot;</td><td>0.0</td><td>0.0</td></tr></tbody></table></div>"
      ],
      "text/plain": [
       "+---------+------------+------------+-----------------+--------------------+-----------------------+\n",
       "| case_id | num_group1 | num_group2 | pmts_date_1107D | pmts_dpdvalue_108P | pmts_pmtsoverdue_635A |\n",
       "+==================================================================================================+\n",
       "|  57675  |      0     |      0     |    2020-05-15   |         0.0        |          0.0          |\n",
       "|  57675  |      0     |      1     |    2020-06-14   |         0.0        |          0.0          |\n",
       "|  57675  |      0     |      2     |    2020-07-15   |         0.0        |          0.0          |\n",
       "+---------+------------+------------+-----------------+--------------------+-----------------------+"
      ]
     },
     "metadata": {},
     "output_type": "display_data"
    },
    {
     "data": {
      "text/html": [
       "<div><style>\n",
       ".dataframe > thead > tr,\n",
       ".dataframe > tbody > tr {\n",
       "  text-align: right;\n",
       "  white-space: pre-wrap;\n",
       "}\n",
       "</style>\n",
       "<table border=\"1\" class=\"dataframe\"><thead><tr><th>case_id</th><th>last180dayaveragebalance_704A</th><th>last180dayturnover_1134A</th><th>last30dayturnover_651A</th><th>num_group1</th><th>openingdate_857D</th></tr></thead><tbody><tr><td>57644</td><td>null</td><td>null</td><td>null</td><td>0</td><td>&quot;2013-11-29&quot;</td></tr><tr><td>57644</td><td>null</td><td>null</td><td>null</td><td>1</td><td>&quot;2012-08-01&quot;</td></tr><tr><td>57644</td><td>null</td><td>null</td><td>null</td><td>2</td><td>&quot;2013-08-08&quot;</td></tr></tbody></table></div>"
      ],
      "text/plain": [
       "+---------+------------------+------------------+------------------+------------+------------------+\n",
       "| case_id | last180dayaverag | last180dayturnov | last30dayturnove | num_group1 | openingdate_857D |\n",
       "|         |   ebalance_704A  |     er_1134A     |      r_651A      |            |                  |\n",
       "+==================================================================================================+\n",
       "|  57644  |       null       |       null       |       null       |      0     |    2013-11-29    |\n",
       "|  57644  |       null       |       null       |       null       |      1     |    2012-08-01    |\n",
       "|  57644  |       null       |       null       |       null       |      2     |    2013-08-08    |\n",
       "+---------+------------------+------------------+------------------+------------+------------------+"
      ]
     },
     "metadata": {},
     "output_type": "display_data"
    },
    {
     "data": {
      "text/html": [
       "<div><style>\n",
       ".dataframe > thead > tr,\n",
       ".dataframe > tbody > tr {\n",
       "  text-align: right;\n",
       "  white-space: pre-wrap;\n",
       "}\n",
       "</style>\n",
       "<table border=\"1\" class=\"dataframe\"><thead><tr><th>case_id</th><th>amount_416A</th><th>contractenddate_991D</th><th>num_group1</th><th>openingdate_313D</th></tr></thead><tbody><tr><td>57644</td><td>0.0</td><td>&quot;2016-11-29&quot;</td><td>0</td><td>&quot;2013-11-29&quot;</td></tr><tr><td>57644</td><td>0.0</td><td>null</td><td>1</td><td>&quot;2012-08-01&quot;</td></tr><tr><td>57644</td><td>0.0</td><td>null</td><td>2</td><td>&quot;2013-08-08&quot;</td></tr></tbody></table></div>"
      ],
      "text/plain": [
       "+---------+-------------+----------------------+------------+------------------+\n",
       "| case_id | amount_416A | contractenddate_991D | num_group1 | openingdate_313D |\n",
       "+==============================================================================+\n",
       "|  57644  |     0.0     |      2016-11-29      |      0     |    2013-11-29    |\n",
       "|  57644  |     0.0     |         null         |      1     |    2012-08-01    |\n",
       "|  57644  |     0.0     |         null         |      2     |    2013-08-08    |\n",
       "+---------+-------------+----------------------+------------+------------------+"
      ]
     },
     "metadata": {},
     "output_type": "display_data"
    },
    {
     "data": {
      "text/html": [
       "<div><style>\n",
       ".dataframe > thead > tr,\n",
       ".dataframe > tbody > tr {\n",
       "  text-align: right;\n",
       "  white-space: pre-wrap;\n",
       "}\n",
       "</style>\n",
       "<table border=\"1\" class=\"dataframe\"><thead><tr><th>case_id</th><th>amtdebitincoming_4809443A</th><th>amtdebitoutgoing_4809440A</th><th>amtdepositbalance_4809441A</th><th>amtdepositincoming_4809444A</th><th>amtdepositoutgoing_4809442A</th><th>num_group1</th></tr></thead><tbody><tr><td>57543</td><td>0.0</td><td>0.0</td><td>1579.6</td><td>6900.0</td><td>33.4</td><td>0</td></tr><tr><td>57549</td><td>34933.402</td><td>34820.0</td><td>0.0</td><td>0.0</td><td>0.0</td><td>0</td></tr><tr><td>57644</td><td>0.0</td><td>51.8</td><td>0.0</td><td>0.0</td><td>0.0</td><td>1</td></tr></tbody></table></div>"
      ],
      "text/plain": [
       "+---------+---------------+--------------+--------------+--------------+--------------+------------+\n",
       "| case_id | amtdebitincom | amtdebitoutg | amtdepositba | amtdepositin | amtdepositou | num_group1 |\n",
       "|         |  ing_4809443A | oing_4809440 | lance_480944 | coming_48094 | tgoing_48094 |            |\n",
       "|         |               |       A      |      1A      |      44A     |      42A     |            |\n",
       "+==================================================================================================+\n",
       "|  57543  |      0.0      |      0.0     |    1579.6    |    6900.0    |     33.4     |      0     |\n",
       "|  57549  |   34933.402   |    34820.0   |      0.0     |      0.0     |      0.0     |      0     |\n",
       "|  57644  |      0.0      |     51.8     |      0.0     |      0.0     |      0.0     |      1     |\n",
       "+---------+---------------+--------------+--------------+--------------+--------------+------------+"
      ]
     },
     "metadata": {},
     "output_type": "display_data"
    },
    {
     "data": {
      "text/html": [
       "<div><style>\n",
       ".dataframe > thead > tr,\n",
       ".dataframe > tbody > tr {\n",
       "  text-align: right;\n",
       "  white-space: pre-wrap;\n",
       "}\n",
       "</style>\n",
       "<table border=\"1\" class=\"dataframe\"><thead><tr><th>case_id</th><th>birth_259D</th><th>birthdate_87D</th><th>childnum_185L</th><th>contaddr_district_15M</th><th>contaddr_matchlist_1032L</th><th>contaddr_smempladdr_334L</th><th>contaddr_zipcode_807M</th><th>education_927M</th><th>empl_employedfrom_271D</th><th>empl_employedtotal_800L</th><th>empl_industry_691L</th><th>empladdr_district_926M</th><th>empladdr_zipcode_114M</th><th>familystate_447L</th><th>gender_992L</th><th>housetype_905L</th><th>housingtype_772L</th><th>incometype_1044T</th><th>isreference_387L</th><th>language1_981M</th><th>mainoccupationinc_384A</th><th>maritalst_703L</th><th>num_group1</th><th>personindex_1023L</th><th>persontype_1072L</th><th>persontype_792L</th><th>registaddr_district_1083M</th><th>registaddr_zipcode_184M</th><th>relationshiptoclient_415T</th><th>relationshiptoclient_642T</th><th>remitter_829L</th><th>role_1084L</th><th>role_993L</th><th>safeguarantyflag_411L</th><th>sex_738L</th><th>type_25L</th></tr></thead><tbody><tr><td>57543</td><td>&quot;1980-11-01&quot;</td><td>null</td><td>null</td><td>&quot;P107_155_111&quot;</td><td>false</td><td>false</td><td>&quot;P91_47_168&quot;</td><td>&quot;P33_146_175&quot;</td><td>null</td><td>null</td><td>null</td><td>&quot;a55475b1&quot;</td><td>&quot;a55475b1&quot;</td><td>&quot;SINGLE&quot;</td><td>null</td><td>null</td><td>null</td><td>&quot;SALARIED_GOVT&quot;</td><td>null</td><td>&quot;a55475b1&quot;</td><td>34000.0</td><td>null</td><td>0</td><td>0.0</td><td>1.0</td><td>1.0</td><td>&quot;P107_155_111&quot;</td><td>&quot;P91_47_168&quot;</td><td>null</td><td>null</td><td>null</td><td>&quot;CL&quot;</td><td>null</td><td>false</td><td>&quot;F&quot;</td><td>&quot;PRIMARY_MOBILE&quot;</td></tr><tr><td>57543</td><td>null</td><td>null</td><td>null</td><td>&quot;a55475b1&quot;</td><td>null</td><td>null</td><td>&quot;a55475b1&quot;</td><td>&quot;a55475b1&quot;</td><td>null</td><td>null</td><td>null</td><td>&quot;a55475b1&quot;</td><td>&quot;a55475b1&quot;</td><td>null</td><td>null</td><td>null</td><td>null</td><td>null</td><td>null</td><td>&quot;a55475b1&quot;</td><td>null</td><td>null</td><td>1</td><td>1.0</td><td>5.0</td><td>5.0</td><td>&quot;a55475b1&quot;</td><td>&quot;a55475b1&quot;</td><td>&quot;SIBLING&quot;</td><td>&quot;SIBLING&quot;</td><td>false</td><td>&quot;PE&quot;</td><td>null</td><td>null</td><td>null</td><td>&quot;PHONE&quot;</td></tr><tr><td>57549</td><td>&quot;1959-11-01&quot;</td><td>null</td><td>null</td><td>&quot;a55475b1&quot;</td><td>null</td><td>null</td><td>&quot;a55475b1&quot;</td><td>&quot;P106_81_188&quot;</td><td>null</td><td>null</td><td>null</td><td>&quot;a55475b1&quot;</td><td>&quot;a55475b1&quot;</td><td>&quot;SINGLE&quot;</td><td>null</td><td>null</td><td>null</td><td>&quot;RETIRED_PENSIONER&quot;</td><td>null</td><td>&quot;a55475b1&quot;</td><td>49800.0</td><td>null</td><td>0</td><td>0.0</td><td>1.0</td><td>1.0</td><td>&quot;P121_131_159&quot;</td><td>&quot;P111_112_180&quot;</td><td>null</td><td>null</td><td>null</td><td>&quot;CL&quot;</td><td>null</td><td>true</td><td>&quot;F&quot;</td><td>&quot;PRIMARY_MOBILE&quot;</td></tr></tbody></table></div>"
      ],
      "text/plain": [
       "+-----+-----+-----+-----+-----+-----+-----+-----+-----+-----+-----+-----+-----+-----+-----+-----+-----+-----+-----+-----+-----+-----+-----+-----+-----+-----+-----+-----+-----+-----+-----+-----+-----+-----+-----+-----+-----+\n",
       "| cas | bir | bir | chi | con | con | con | con | edu | emp | emp | emp | emp | emp | fam | gen | hou | hou | inc | isr | lan | mai | mar | num | per | per | per | reg | reg | rel | rel | rem | rol | rol | saf | sex | typ |\n",
       "| e_i | th_ | thd | ldn | tad | tad | tad | tad | cat | l_e | l_e | l_i | lad | lad | ily | der | set | sin | ome | efe | gua | noc | ita | _gr | son | son | son | ist | ist | ati | ati | itt | e_1 | e_9 | egu | _73 | e_2 |\n",
       "|  d  | 259 | ate | um_ | dr_ | dr_ | dr_ | dr_ | ion | mpl | mpl | ndu | dr_ | dr_ | sta | _99 | ype | gty | typ | ren | ge1 | cup | lst | oup | ind | typ | typ | add | add | ons | ons | er_ | 084 | 93L | ara |  8L |  5L |\n",
       "|     |  D  | _87 | 185 | dis | mat | sme | zip | _92 | oye | oye | str | dis | zip | te_ |  2L | _90 | pe_ | e_1 | ce_ | _98 | ati | _70 |  1  | ex_ | e_1 | e_7 | r_d | r_z | hip | hip | 829 |  L  |     | nty |     |     |\n",
       "|     |     |  D  |  L  | tri | chl | mpl | cod |  7M | dfr | dto | y_6 | tri | cod | 447 |     |  5L | 772 | 044 | 387 |  1M | oni |  3L |     | 102 | 072 | 92L | ist | ipc | toc | toc |  L  |     |     | fla |     |     |\n",
       "|     |     |     |     | ct_ | ist | add | e_8 |     | om_ | tal | 91L | ct_ | e_1 |  L  |     |     |  L  |  T  |  L  |     | nc_ |     |     |  3L |  L  |     | ric | ode | lie | lie |     |     |     | g_4 |     |     |\n",
       "|     |     |     |     | 15M | _10 | r_3 | 07M |     | 271 | _80 |     | 926 | 14M |     |     |     |     |     |     |     | 384 |     |     |     |     |     | t_1 | _18 | nt_ | nt_ |     |     |     | 11L |     |     |\n",
       "|     |     |     |     |     | 32L | 34L |     |     |  D  |  0L |     |  M  |     |     |     |     |     |     |     |     |  A  |     |     |     |     |     | 083 |  4M | 415 | 642 |     |     |     |     |     |     |\n",
       "|     |     |     |     |     |     |     |     |     |     |     |     |     |     |     |     |     |     |     |     |     |     |     |     |     |     |     |  M  |     |  T  |  T  |     |     |     |     |     |     |\n",
       "+=============================================================================================================================================================================================================================+\n",
       "| 575 | 198 | nul | nul | P10 | fal | fal | P91 | P33 | nul | nul | nul | a55 | a55 | SIN | nul | nul | nul | SAL | nul | a55 | 340 | nul |  0  | 0.0 | 1.0 | 1.0 | P10 | P91 | nul | nul | nul |  CL | nul | fal |  F  | PRI |\n",
       "|  43 | 0-1 |  l  |  l  | 7_1 |  se |  se | _47 | _14 |  l  |  l  |  l  | 475 | 475 | GLE |  l  |  l  |  l  | ARI |  l  | 475 | 00. |  l  |     |     |     |     | 7_1 | _47 |  l  |  l  |  l  |     |  l  |  se |     | MAR |\n",
       "|     | 1-0 |     |     | 55_ |     |     | _16 | 6_1 |     |     |     |  b1 |  b1 |     |     |     |     | ED_ |     |  b1 |  0  |     |     |     |     |     | 55_ | _16 |     |     |     |     |     |     |     | Y_M |\n",
       "|     |  1  |     |     | 111 |     |     |  8  |  75 |     |     |     |     |     |     |     |     |     | GOV |     |     |     |     |     |     |     |     | 111 |  8  |     |     |     |     |     |     |     | OBI |\n",
       "|     |     |     |     |     |     |     |     |     |     |     |     |     |     |     |     |     |     |  T  |     |     |     |     |     |     |     |     |     |     |     |     |     |     |     |     |     |  LE |\n",
       "| 575 | nul | nul | nul | a55 | nul | nul | a55 | a55 | nul | nul | nul | a55 | a55 | nul | nul | nul | nul | nul | nul | a55 | nul | nul |  1  | 1.0 | 5.0 | 5.0 | a55 | a55 | SIB | SIB | fal |  PE | nul | nul | nul | PHO |\n",
       "|  43 |  l  |  l  |  l  | 475 |  l  |  l  | 475 | 475 |  l  |  l  |  l  | 475 | 475 |  l  |  l  |  l  |  l  |  l  |  l  | 475 |  l  |  l  |     |     |     |     | 475 | 475 | LIN | LIN |  se |     |  l  |  l  |  l  |  NE |\n",
       "|     |     |     |     |  b1 |     |     |  b1 |  b1 |     |     |     |  b1 |  b1 |     |     |     |     |     |     |  b1 |     |     |     |     |     |     |  b1 |  b1 |  G  |  G  |     |     |     |     |     |     |\n",
       "| 575 | 195 | nul | nul | a55 | nul | nul | a55 | P10 | nul | nul | nul | a55 | a55 | SIN | nul | nul | nul | RET | nul | a55 | 498 | nul |  0  | 0.0 | 1.0 | 1.0 | P12 | P11 | nul | nul | nul |  CL | nul | tru |  F  | PRI |\n",
       "|  49 | 9-1 |  l  |  l  | 475 |  l  |  l  | 475 | 6_8 |  l  |  l  |  l  | 475 | 475 | GLE |  l  |  l  |  l  | IRE |  l  | 475 | 00. |  l  |     |     |     |     | 1_1 | 1_1 |  l  |  l  |  l  |     |  l  |  e  |     | MAR |\n",
       "|     | 1-0 |     |     |  b1 |     |     |  b1 | 1_1 |     |     |     |  b1 |  b1 |     |     |     |     | D_P |     |  b1 |  0  |     |     |     |     |     | 31_ | 12_ |     |     |     |     |     |     |     | Y_M |\n",
       "|     |  1  |     |     |     |     |     |     |  88 |     |     |     |     |     |     |     |     |     | ENS |     |     |     |     |     |     |     |     | 159 | 180 |     |     |     |     |     |     |     | OBI |\n",
       "|     |     |     |     |     |     |     |     |     |     |     |     |     |     |     |     |     |     | ION |     |     |     |     |     |     |     |     |     |     |     |     |     |     |     |     |     |  LE |\n",
       "|     |     |     |     |     |     |     |     |     |     |     |     |     |     |     |     |     |     |  ER |     |     |     |     |     |     |     |     |     |     |     |     |     |     |     |     |     |     |\n",
       "+-----+-----+-----+-----+-----+-----+-----+-----+-----+-----+-----+-----+-----+-----+-----+-----+-----+-----+-----+-----+-----+-----+-----+-----+-----+-----+-----+-----+-----+-----+-----+-----+-----+-----+-----+-----+-----+"
      ]
     },
     "metadata": {},
     "output_type": "display_data"
    },
    {
     "data": {
      "text/html": [
       "<div><style>\n",
       ".dataframe > thead > tr,\n",
       ".dataframe > tbody > tr {\n",
       "  text-align: right;\n",
       "  white-space: pre-wrap;\n",
       "}\n",
       "</style>\n",
       "<table border=\"1\" class=\"dataframe\"><thead><tr><th>case_id</th><th>addres_district_368M</th><th>addres_role_871L</th><th>addres_zip_823M</th><th>conts_role_79M</th><th>empls_economicalst_849M</th><th>empls_employedfrom_796D</th><th>empls_employer_name_740M</th><th>num_group1</th><th>num_group2</th><th>relatedpersons_role_762T</th></tr></thead><tbody><tr><td>57551</td><td>&quot;a55475b1&quot;</td><td>null</td><td>&quot;a55475b1&quot;</td><td>&quot;a55475b1&quot;</td><td>&quot;a55475b1&quot;</td><td>null</td><td>&quot;a55475b1&quot;</td><td>0</td><td>0</td><td>null</td></tr><tr><td>57552</td><td>&quot;a55475b1&quot;</td><td>null</td><td>&quot;a55475b1&quot;</td><td>&quot;a55475b1&quot;</td><td>&quot;a55475b1&quot;</td><td>null</td><td>&quot;a55475b1&quot;</td><td>0</td><td>0</td><td>null</td></tr><tr><td>57569</td><td>&quot;P121_131_159&quot;</td><td>&quot;CONTACT&quot;</td><td>&quot;P96_113_139&quot;</td><td>&quot;P38_92_157&quot;</td><td>&quot;P148_57_109&quot;</td><td>null</td><td>&quot;a55475b1&quot;</td><td>0</td><td>0</td><td>null</td></tr></tbody></table></div>"
      ],
      "text/plain": [
       "+--------+--------+--------+--------+--------+--------+--------+--------+--------+--------+--------+\n",
       "| case_i | addres | addres | addres | conts_ | empls_ | empls_ | empls_ | num_gr | num_gr | relate |\n",
       "|    d   | _distr | _role_ | _zip_8 | role_7 | econom | employ | employ |  oup1  |  oup2  | dperso |\n",
       "|        | ict_36 |  871L  |   23M  |   9M   | icalst | edfrom | er_nam |        |        | ns_rol |\n",
       "|        |   8M   |        |        |        |  _849M |  _796D | e_740M |        |        | e_762T |\n",
       "+==================================================================================================+\n",
       "|  57551 | a55475 |  null  | a55475 | a55475 | a55475 |  null  | a55475 |    0   |    0   |  null  |\n",
       "|        |   b1   |        |   b1   |   b1   |   b1   |        |   b1   |        |        |        |\n",
       "|  57552 | a55475 |  null  | a55475 | a55475 | a55475 |  null  | a55475 |    0   |    0   |  null  |\n",
       "|        |   b1   |        |   b1   |   b1   |   b1   |        |   b1   |        |        |        |\n",
       "|  57569 | P121_1 | CONTAC | P96_11 | P38_92 | P148_5 |  null  | a55475 |    0   |    0   |  null  |\n",
       "|        | 31_159 |    T   |  3_139 |  _157  |  7_109 |        |   b1   |        |        |        |\n",
       "+--------+--------+--------+--------+--------+--------+--------+--------+--------+--------+--------+"
      ]
     },
     "metadata": {},
     "output_type": "display_data"
    },
    {
     "data": {
      "text/html": [
       "<div><style>\n",
       ".dataframe > thead > tr,\n",
       ".dataframe > tbody > tr {\n",
       "  text-align: right;\n",
       "  white-space: pre-wrap;\n",
       "}\n",
       "</style>\n",
       "<table border=\"1\" class=\"dataframe\"><thead><tr><th>case_id</th><th>actualdpdtolerance_344P</th><th>amtinstpaidbefduel24m_4187115A</th><th>annuity_780A</th><th>annuitynextmonth_57A</th><th>applicationcnt_361L</th><th>applications30d_658L</th><th>applicationscnt_1086L</th><th>applicationscnt_464L</th><th>applicationscnt_629L</th><th>applicationscnt_867L</th><th>avgdbddpdlast24m_3658932P</th><th>avgdbddpdlast3m_4187120P</th><th>avgdbdtollast24m_4525197P</th><th>avgdpdtolclosure24_3658938P</th><th>avginstallast24m_3658937A</th><th>avglnamtstart24m_4525187A</th><th>avgmaxdpdlast9m_3716943P</th><th>avgoutstandbalancel6m_4187114A</th><th>avgpmtlast12m_4525200A</th><th>bankacctype_710L</th><th>cardtype_51L</th><th>clientscnt12m_3712952L</th><th>clientscnt3m_3712950L</th><th>clientscnt6m_3712949L</th><th>clientscnt_100L</th><th>clientscnt_1022L</th><th>clientscnt_1071L</th><th>clientscnt_1130L</th><th>clientscnt_136L</th><th>clientscnt_157L</th><th>clientscnt_257L</th><th>clientscnt_304L</th><th>clientscnt_360L</th><th>clientscnt_493L</th><th>clientscnt_533L</th><th>clientscnt_887L</th><th>clientscnt_946L</th><th>cntincpaycont9m_3716944L</th><th>cntpmts24_3658933L</th><th>commnoinclast6m_3546845L</th><th>credamount_770A</th><th>credtype_322L</th><th>currdebt_22A</th><th>currdebtcredtyperange_828A</th><th>datefirstoffer_1144D</th><th>datelastinstal40dpd_247D</th><th>datelastunpaid_3546854D</th><th>daysoverduetolerancedd_3976961L</th><th>deferredmnthsnum_166L</th><th>&hellip;</th><th>numinstls_657L</th><th>numinstlsallpaid_934L</th><th>numinstlswithdpd10_728L</th><th>numinstlswithdpd5_4187116L</th><th>numinstlswithoutdpd_562L</th><th>numinstmatpaidtearly2d_4499204L</th><th>numinstpaid_4499208L</th><th>numinstpaidearly3d_3546850L</th><th>numinstpaidearly3dest_4493216L</th><th>numinstpaidearly5d_1087L</th><th>numinstpaidearly5dest_4493211L</th><th>numinstpaidearly5dobd_4499205L</th><th>numinstpaidearly_338L</th><th>numinstpaidearlyest_4493214L</th><th>numinstpaidlastcontr_4325080L</th><th>numinstpaidlate1d_3546852L</th><th>numinstregularpaid_973L</th><th>numinstregularpaidest_4493210L</th><th>numinsttopaygr_769L</th><th>numinsttopaygrest_4493213L</th><th>numinstunpaidmax_3546851L</th><th>numinstunpaidmaxest_4493212L</th><th>numnotactivated_1143L</th><th>numpmtchanneldd_318L</th><th>numrejects9m_859L</th><th>opencred_647L</th><th>paytype1st_925L</th><th>paytype_783L</th><th>payvacationpostpone_4187118D</th><th>pctinstlsallpaidearl3d_427L</th><th>pctinstlsallpaidlat10d_839L</th><th>pctinstlsallpaidlate1d_3546856L</th><th>pctinstlsallpaidlate4d_3546849L</th><th>pctinstlsallpaidlate6d_3546844L</th><th>pmtnum_254L</th><th>posfpd10lastmonth_333P</th><th>posfpd30lastmonth_3976960P</th><th>posfstqpd30lastmonth_3976962P</th><th>previouscontdistrict_112M</th><th>price_1097A</th><th>sellerplacecnt_915L</th><th>sellerplacescnt_216L</th><th>sumoutstandtotal_3546847A</th><th>sumoutstandtotalest_4493215A</th><th>totaldebt_9A</th><th>totalsettled_863A</th><th>totinstallast1m_4525188A</th><th>twobodfilling_608L</th><th>typesuite_864L</th><th>validfrom_1069D</th></tr></thead><tbody><tr><td>57543</td><td>0.0</td><td>191767.36</td><td>3674.6</td><td>1218.2001</td><td>0.0</td><td>0.0</td><td>0.0</td><td>0.0</td><td>0.0</td><td>9.0</td><td>1.0</td><td>2.0</td><td>1.0</td><td>1.0</td><td>16049.4</td><td>17054.4</td><td>2.0</td><td>14554.4</td><td>24482.0</td><td>&quot;CA&quot;</td><td>null</td><td>0.0</td><td>0.0</td><td>0.0</td><td>0.0</td><td>0.0</td><td>0.0</td><td>0.0</td><td>null</td><td>0.0</td><td>0.0</td><td>0.0</td><td>0.0</td><td>0.0</td><td>0.0</td><td>0.0</td><td>0.0</td><td>5.0</td><td>20.0</td><td>0.0</td><td>20000.0</td><td>&quot;CAL&quot;</td><td>12154.4</td><td>0.0</td><td>&quot;2008-03-20&quot;</td><td>&quot;2020-05-28&quot;</td><td>&quot;2021-05-13&quot;</td><td>8.0</td><td>null</td><td>&hellip;</td><td>14.0</td><td>66.0</td><td>0.0</td><td>6.0</td><td>79.0</td><td>37.0</td><td>96.0</td><td>34.0</td><td>34.0</td><td>0.0</td><td>0.0</td><td>25.0</td><td>25.0</td><td>25.0</td><td>1.0</td><td>31.0</td><td>96.0</td><td>96.0</td><td>10.0</td><td>10.0</td><td>10.0</td><td>10.0</td><td>0.0</td><td>0.0</td><td>0.0</td><td>false</td><td>null</td><td>null</td><td>&quot;2020-05-23&quot;</td><td>0.35417</td><td>0.0</td><td>0.32292</td><td>0.07292</td><td>0.05208</td><td>6.0</td><td>0.0</td><td>0.0</td><td>0.0</td><td>&quot;a55475b1&quot;</td><td>0.0</td><td>0.0</td><td>5.0</td><td>12154.4</td><td>12154.4</td><td>12154.4</td><td>456031.1</td><td>17859.6</td><td>&quot;FO&quot;</td><td>&quot;AL&quot;</td><td>null</td></tr><tr><td>57551</td><td>0.0</td><td>71036.4</td><td>2844.6</td><td>0.0</td><td>0.0</td><td>1.0</td><td>0.0</td><td>0.0</td><td>0.0</td><td>2.0</td><td>-1.0</td><td>null</td><td>-1.0</td><td>1.0</td><td>8357.2</td><td>null</td><td>1.0</td><td>0.0</td><td>9551.0</td><td>null</td><td>null</td><td>0.0</td><td>0.0</td><td>0.0</td><td>0.0</td><td>0.0</td><td>0.0</td><td>0.0</td><td>null</td><td>0.0</td><td>0.0</td><td>0.0</td><td>0.0</td><td>0.0</td><td>0.0</td><td>0.0</td><td>0.0</td><td>4.0</td><td>9.0</td><td>0.0</td><td>27095.201</td><td>&quot;COL&quot;</td><td>0.0</td><td>0.0</td><td>null</td><td>null</td><td>&quot;2020-04-30&quot;</td><td>4.0</td><td>0.0</td><td>&hellip;</td><td>0.0</td><td>8.0</td><td>0.0</td><td>0.0</td><td>9.0</td><td>5.0</td><td>9.0</td><td>3.0</td><td>3.0</td><td>0.0</td><td>0.0</td><td>0.0</td><td>0.0</td><td>0.0</td><td>9.0</td><td>1.0</td><td>9.0</td><td>9.0</td><td>0.0</td><td>0.0</td><td>0.0</td><td>0.0</td><td>0.0</td><td>0.0</td><td>0.0</td><td>false</td><td>&quot;OTHER&quot;</td><td>&quot;OTHER&quot;</td><td>null</td><td>0.33333</td><td>0.0</td><td>0.11111</td><td>0.11111</td><td>0.0</td><td>12.0</td><td>null</td><td>null</td><td>null</td><td>&quot;P11_36_178&quot;</td><td>27095.201</td><td>1.0</td><td>2.0</td><td>0.0</td><td>0.0</td><td>0.0</td><td>75219.0</td><td>null</td><td>&quot;FO&quot;</td><td>null</td><td>null</td></tr><tr><td>57552</td><td>0.0</td><td>183992.0</td><td>6298.8003</td><td>12155.4</td><td>0.0</td><td>0.0</td><td>0.0</td><td>0.0</td><td>0.0</td><td>9.0</td><td>-9.0</td><td>-7.0</td><td>-9.0</td><td>0.0</td><td>7440.4</td><td>null</td><td>0.0</td><td>199322.4</td><td>9148.4</td><td>&quot;CA&quot;</td><td>null</td><td>0.0</td><td>0.0</td><td>0.0</td><td>0.0</td><td>0.0</td><td>0.0</td><td>0.0</td><td>null</td><td>0.0</td><td>0.0</td><td>0.0</td><td>0.0</td><td>0.0</td><td>0.0</td><td>0.0</td><td>0.0</td><td>18.0</td><td>24.0</td><td>0.0</td><td>100000.0</td><td>&quot;CAL&quot;</td><td>191269.61</td><td>191269.61</td><td>null</td><td>null</td><td>null</td><td>1.0</td><td>null</td><td>&hellip;</td><td>62.0</td><td>31.0</td><td>0.0</td><td>0.0</td><td>33.0</td><td>27.0</td><td>32.0</td><td>26.0</td><td>26.0</td><td>0.0</td><td>0.0</td><td>24.0</td><td>24.0</td><td>24.0</td><td>0.0</td><td>0.0</td><td>32.0</td><td>32.0</td><td>30.0</td><td>30.0</td><td>22.0</td><td>22.0</td><td>1.0</td><td>0.0</td><td>1.0</td><td>false</td><td>&quot;OTHER&quot;</td><td>&quot;OTHER&quot;</td><td>null</td><td>0.83871</td><td>0.0</td><td>0.0</td><td>0.0</td><td>0.0</td><td>24.0</td><td>0.0</td><td>0.0</td><td>0.0</td><td>&quot;P21_87_50&quot;</td><td>null</td><td>0.0</td><td>6.0</td><td>191269.61</td><td>191269.61</td><td>191269.61</td><td>284213.0</td><td>18889.0</td><td>&quot;BO&quot;</td><td>null</td><td>null</td></tr></tbody></table></div>"
      ],
      "text/plain": [
       "+-----+-----+-----+-----+-----+-----+-----+-----+-----+-----+-----+-----+-----+-----+-----+-----+-----+-----+-----+-----+-----+-----+-----+-----+-----+-----+-----+-----+-----+-----+-----+-----+-----+-----+-----+-----+-----+-----+-----+-----+-----+-----+-----+-----+-----+-----+-----+-----+-----+-----+-----+-----+-----+-----+-----+-----+-----+-----+-----+-----+-----+-----+-----+-----+-----+-----+-----+-----+-----+-----+-----+-----+-----+-----+-----+-----+-----+-----+-----+-----+-----+-----+-----+-----+-----+-----+-----+-----+-----+-----+-----+-----+-----+-----+-----+-----+-----+-----+-----+-----+-----+\n",
       "| cas | act | amt | ann | ann | app | app | app | app | app | app | avg | avg | avg | avg | avg | avg | avg | avg | avg | ban | car | cli | cli | cli | cli | cli | cli | cli | cli | cli | cli | cli | cli | cli | cli | cli | cli | cnt | cnt | com | cre | cre | cur | cur | dat | dat | dat | day | def | ... | num | num | num | num | num | num | num | num | num | num | num | num | num | num | num | num | num | num | num | num | num | num | num | num | num | ope | pay | pay | pay | pct | pct | pct | pct | pct | pmt | pos | pos | pos | pre | pri | sel | sel | sum | sum | tot | tot | tot | two | typ | val |\n",
       "| e_i | ual | ins | uit | uit | lic | lic | lic | lic | lic | lic | dbd | dbd | dbd | dpd | ins | lna | max | out | pmt | kac | dty | ent | ent | ent | ent | ent | ent | ent | ent | ent | ent | ent | ent | ent | ent | ent | ent | inc | pmt | mno | dam | dty | rde | rde | efi | ela | ela | sov | err |     | ins | ins | ins | ins | ins | ins | ins | ins | ins | ins | ins | ins | ins | ins | ins | ins | ins | ins | ins | ins | ins | ins | not | pmt | rej | ncr | typ | typ | vac | ins | ins | ins | ins | ins | num | fpd | fpd | fst | vio | ce_ | ler | ler | out | out | ald | als | ins | bod | esu | idf |\n",
       "|  d  | dpd | tpa | y_7 | yne | ati | ati | ati | ati | ati | ati | dpd | dpd | tol | tol | tal | mts | dpd | sta | las | cty | pe_ | scn | scn | scn | scn | scn | scn | scn | scn | scn | scn | scn | scn | scn | scn | scn | scn | pay | s24 | inc | oun | pe_ | bt_ | btc | rst | sti | stu | erd | edm |     | tls | tls | tls | tls | tls | tma | tpa | tpa | tpa | tpa | tpa | tpa | tpa | tpa | tpa | tpa | tre | tre | tto | tto | tun | tun | act | cha | ect | ed_ | e1s | e_7 | ati | tls | tls | tls | tls | tls | _25 | 10l | 30l | qpd | usc | 109 | pla | pla | sta | sta | ebt | ett | tal | fil | ite | rom |\n",
       "|     | tol | idb | 80A | xtm | onc | ons | ons | ons | ons | ons | las | las | las | clo | las | tar | las | ndb | t12 | pe_ | 51L | t12 | t3m | t6m | t_1 | t_1 | t_1 | t_1 | t_1 | t_1 | t_2 | t_3 | t_3 | t_4 | t_5 | t_8 | t_9 | con | _36 | las | t_7 | 322 | 22A | red | off | nst | npa | uet | nth |     | _65 | all | wit | wit | wit | tpa | id_ | ide | ide | ide | ide | ide | ide | ide | idl | idl | gul | gul | pay | pay | pai | pai | iva | nne | s9m | 647 | t_9 | 83L | onp | all | all | all | all | all |  4L | ast | ast | 30l | ont |  7A | cec | ces | ndt | ndt | _9A | led | las | lin | _86 | _10 |\n",
       "|     | era | efd |     | ont | nt_ | 30d | cnt | cnt | cnt | cnt | t24 | t3m | t24 | sur | t24 | t24 | t9m | ala | m_4 | 710 |     | m_3 | _37 | _37 | 00L | 022 | 071 | 130 | 36L | 57L | 57L | 04L | 60L | 93L | 33L | 87L | 46L | t9m | 589 | t6m | 70A |  L  |     | typ | er_ | al4 | id_ | ole | snu |     |  7L | pai | hdp | hdp | hou | idt | 449 | arl | arl | arl | arl | arl | arl | arl | ast | ate | arp | arp | gr_ | gre | dma | dma | ted | ldd | _85 |  L  | 25L |     | ost | pai | pai | pai | pai | pai |     | mon | mon | ast | dis |     | nt_ | cnt | ota | ota |     | _86 | t1m | g_6 |  4L | 69D |\n",
       "|     | nce | uel |     | h_5 | 361 | _65 | _10 | _46 | _62 | _86 | m_3 | _41 | m_4 | e24 | m_3 | m_4 | _37 | nce | 525 |  L  |     | 712 | 129 | 129 |     |  L  |  L  |  L  |     |     |     |     |     |     |     |     |     | _37 | 33L | _35 |     |     |     | era | 114 | 0dp | 354 | ran | m_1 |     |     | d_9 | d10 | d5_ | tdp | ear | 920 | y3d | y3d | y5d | y5d | y5d | y_3 | yes | con | 1d_ | aid | aid | 769 | st_ | x_3 | xes | _11 | _31 |  9L |     |     |     | pon | dea | dla | dla | dla | dla |     | th_ | th_ | mon | tri |     | 915 | _21 | l_3 | les |     |  3A | _45 | 08L |     |     |\n",
       "|     | _34 | 24m |     |  7A |  L  |  8L | 86L |  4L |  9L |  7L | 658 | 871 | 525 | _36 | 658 | 525 | 169 | l6m | 200 |     |     | 952 | 50L | 49L |     |     |     |     |     |     |     |     |     |     |     |     |     | 169 |     | 468 |     |     |     | nge |  4D | d_2 | 685 | ced | 66L |     |     | 34L | _72 | 418 | d_5 | ly2 |  8L | _35 | est | _10 | est | obd | 38L | t_4 | tr_ | 354 | _97 | est |  L  | 449 | 546 | t_4 | 43L |  8L |     |     |     |     | e_4 | rl3 | t10 | te1 | te4 | te6 |     | 333 | 397 | th_ | ct_ |     |  L  |  6L | 546 | t_4 |     |     | 251 |     |     |     |\n",
       "|     |  4P | _41 |     |     |     |     |     |     |     |     | 932 | 20P | 197 | 589 | 937 | 187 | 43P | _41 |  A  |     |     |  L  |     |     |     |     |     |     |     |     |     |     |     |     |     |     |     | 44L |     | 45L |     |     |     | _82 |     | 47D |  4D | d_3 |     |     |     |     |  8L | 711 | 62L | d_4 |     | 468 | _44 | 87L | _44 | _44 |     | 493 | 432 | 685 |  3L | _44 |     | 321 | 851 | 493 |     |     |     |     |     |     | 187 | d_4 | d_8 | d_3 | d_3 | d_3 |     |  P  | 696 | 397 | 112 |     |     |     | 847 | 493 |     |     | 88A |     |     |     |\n",
       "|     |     | 871 |     |     |     |     |     |     |     |     |  P  |     |  P  | 38P |  A  |  A  |     | 871 |     |     |     |     |     |     |     |     |     |     |     |     |     |     |     |     |     |     |     |     |     |     |     |     |     |  8A |     |     |     | 976 |     |     |     |     |     |  6L |     | 499 |     | 50L | 932 |     | 932 | 992 |     | 214 | 508 |  2L |     | 932 |     |  3L |  L  | 212 |     |     |     |     |     |     | 118 | 27L | 39L | 546 | 546 | 546 |     |     |  0P | 696 |  M  |     |     |     |  A  | 215 |     |     |     |     |     |     |\n",
       "|     |     | 15A |     |     |     |     |     |     |     |     |     |     |     |     |     |     |     | 14A |     |     |     |     |     |     |     |     |     |     |     |     |     |     |     |     |     |     |     |     |     |     |     |     |     |     |     |     |     | 961 |     |     |     |     |     |     |     | 204 |     |     | 16L |     | 11L | 05L |     |  L  |  0L |     |     | 10L |     |     |     |  L  |     |     |     |     |     |     |  D  |     |     | 856 | 849 | 844 |     |     |     |  2P |     |     |     |     |     |  A  |     |     |     |     |     |     |\n",
       "|     |     |     |     |     |     |     |     |     |     |     |     |     |     |     |     |     |     |     |     |     |     |     |     |     |     |     |     |     |     |     |     |     |     |     |     |     |     |     |     |     |     |     |     |     |     |     |     |  L  |     |     |     |     |     |     |     |  L  |     |     |     |     |     |     |     |     |     |     |     |     |     |     |     |     |     |     |     |     |     |     |     |     |     |  L  |  L  |  L  |     |     |     |     |     |     |     |     |     |     |     |     |     |     |     |     |\n",
       "+=============================================================================================================================================================================================================================================================================================================================================================================================================================================================================================================================================================================================================================+\n",
       "| 575 | 0.0 | 191 | 367 | 121 | 0.0 | 0.0 | 0.0 | 0.0 | 0.0 | 9.0 | 1.0 | 2.0 | 1.0 | 1.0 | 160 | 170 | 2.0 | 145 | 244 |  CA | nul | 0.0 | 0.0 | 0.0 | 0.0 | 0.0 | 0.0 | 0.0 | nul | 0.0 | 0.0 | 0.0 | 0.0 | 0.0 | 0.0 | 0.0 | 0.0 | 5.0 | 20. | 0.0 | 200 | CAL | 121 | 0.0 | 200 | 202 | 202 | 8.0 | nul | ... | 14. | 66. | 0.0 | 6.0 | 79. | 37. | 96. | 34. | 34. | 0.0 | 0.0 | 25. | 25. | 25. | 1.0 | 31. | 96. | 96. | 10. | 10. | 10. | 10. | 0.0 | 0.0 | 0.0 | fal | nul | nul | 202 | 0.3 | 0.0 | 0.3 | 0.0 | 0.0 | 6.0 | 0.0 | 0.0 | 0.0 | a55 | 0.0 | 0.0 | 5.0 | 121 | 121 | 121 | 456 | 178 |  FO |  AL | nul |\n",
       "|  43 |     | 767 | 4.6 | 8.2 |     |     |     |     |     |     |     |     |     |     | 49. | 54. |     | 54. | 82. |     |  l  |     |     |     |     |     |     |     |  l  |     |     |     |     |     |     |     |     |     |  0  |     | 00. |     | 54. |     | 8-0 | 0-0 | 1-0 |     |  l  |     |  0  |  0  |     |     |  0  |  0  |  0  |  0  |  0  |     |     |  0  |  0  |  0  |     |  0  |  0  |  0  |  0  |  0  |  0  |  0  |     |     |     |  se |  l  |  l  | 0-0 | 541 |     | 229 | 729 | 520 |     |     |     |     | 475 |     |     |     | 54. | 54. | 54. | 031 | 59. |     |     |  l  |\n",
       "|     |     | .36 |     | 001 |     |     |     |     |     |     |     |     |     |     |  4  |  4  |     |  4  |  0  |     |     |     |     |     |     |     |     |     |     |     |     |     |     |     |     |     |     |     |     |     |  0  |     |  4  |     | 3-2 | 5-2 | 5-1 |     |     |     |     |     |     |     |     |     |     |     |     |     |     |     |     |     |     |     |     |     |     |     |     |     |     |     |     |     |     |     | 5-2 |  7  |     |  2  |  2  |  8  |     |     |     |     |  b1 |     |     |     |  4  |  4  |  4  |  .1 |  6  |     |     |     |\n",
       "|     |     |     |     |     |     |     |     |     |     |     |     |     |     |     |     |     |     |     |     |     |     |     |     |     |     |     |     |     |     |     |     |     |     |     |     |     |     |     |     |     |     |     |     |     |  0  |  8  |  3  |     |     |     |     |     |     |     |     |     |     |     |     |     |     |     |     |     |     |     |     |     |     |     |     |     |     |     |     |     |     |     |  3  |     |     |     |     |     |     |     |     |     |     |     |     |     |     |     |     |     |     |     |     |     |\n",
       "| 575 | 0.0 | 710 | 284 | 0.0 | 0.0 | 1.0 | 0.0 | 0.0 | 0.0 | 2.0 | -1. | nul | -1. | 1.0 | 835 | nul | 1.0 | 0.0 | 955 | nul | nul | 0.0 | 0.0 | 0.0 | 0.0 | 0.0 | 0.0 | 0.0 | nul | 0.0 | 0.0 | 0.0 | 0.0 | 0.0 | 0.0 | 0.0 | 0.0 | 4.0 | 9.0 | 0.0 | 270 | COL | 0.0 | 0.0 | nul | nul | 202 | 4.0 | 0.0 | ... | 0.0 | 8.0 | 0.0 | 0.0 | 9.0 | 5.0 | 9.0 | 3.0 | 3.0 | 0.0 | 0.0 | 0.0 | 0.0 | 0.0 | 9.0 | 1.0 | 9.0 | 9.0 | 0.0 | 0.0 | 0.0 | 0.0 | 0.0 | 0.0 | 0.0 | fal | OTH | OTH | nul | 0.3 | 0.0 | 0.1 | 0.1 | 0.0 | 12. | nul | nul | nul | P11 | 270 | 1.0 | 2.0 | 0.0 | 0.0 | 0.0 | 752 | nul |  FO | nul | nul |\n",
       "|  51 |     | 36. | 4.6 |     |     |     |     |     |     |     |  0  |  l  |  0  |     | 7.2 |  l  |     |     | 1.0 |  l  |  l  |     |     |     |     |     |     |     |  l  |     |     |     |     |     |     |     |     |     |     |     | 95. |     |     |     |  l  |  l  | 0-0 |     |     |     |     |     |     |     |     |     |     |     |     |     |     |     |     |     |     |     |     |     |     |     |     |     |     |     |     |  se |  ER |  ER |  l  | 333 |     | 111 | 111 |     |  0  |  l  |  l  |  l  | _36 | 95. |     |     |     |     |     | 19. |  l  |     |  l  |  l  |\n",
       "|     |     |  4  |     |     |     |     |     |     |     |     |     |     |     |     |     |     |     |     |     |     |     |     |     |     |     |     |     |     |     |     |     |     |     |     |     |     |     |     |     |     | 201 |     |     |     |     |     | 4-3 |     |     |     |     |     |     |     |     |     |     |     |     |     |     |     |     |     |     |     |     |     |     |     |     |     |     |     |     |     |     |     |     |  3  |     |  1  |  1  |     |     |     |     |     | _17 | 201 |     |     |     |     |     |  0  |     |     |     |     |\n",
       "|     |     |     |     |     |     |     |     |     |     |     |     |     |     |     |     |     |     |     |     |     |     |     |     |     |     |     |     |     |     |     |     |     |     |     |     |     |     |     |     |     |     |     |     |     |     |     |  0  |     |     |     |     |     |     |     |     |     |     |     |     |     |     |     |     |     |     |     |     |     |     |     |     |     |     |     |     |     |     |     |     |     |     |     |     |     |     |     |     |     |  8  |     |     |     |     |     |     |     |     |     |     |     |\n",
       "| 575 | 0.0 | 183 | 629 | 121 | 0.0 | 0.0 | 0.0 | 0.0 | 0.0 | 9.0 | -9. | -7. | -9. | 0.0 | 744 | nul | 0.0 | 199 | 914 |  CA | nul | 0.0 | 0.0 | 0.0 | 0.0 | 0.0 | 0.0 | 0.0 | nul | 0.0 | 0.0 | 0.0 | 0.0 | 0.0 | 0.0 | 0.0 | 0.0 | 18. | 24. | 0.0 | 100 | CAL | 191 | 191 | nul | nul | nul | 1.0 | nul | ... | 62. | 31. | 0.0 | 0.0 | 33. | 27. | 32. | 26. | 26. | 0.0 | 0.0 | 24. | 24. | 24. | 0.0 | 0.0 | 32. | 32. | 30. | 30. | 22. | 22. | 1.0 | 0.0 | 1.0 | fal | OTH | OTH | nul | 0.8 | 0.0 | 0.0 | 0.0 | 0.0 | 24. | 0.0 | 0.0 | 0.0 | P21 | nul | 0.0 | 6.0 | 191 | 191 | 191 | 284 | 188 |  BO | nul | nul |\n",
       "|  52 |     | 992 | 8.8 | 55. |     |     |     |     |     |     |  0  |  0  |  0  |     | 0.4 |  l  |     | 322 | 8.4 |     |  l  |     |     |     |     |     |     |     |  l  |     |     |     |     |     |     |     |     |  0  |  0  |     | 000 |     | 269 | 269 |  l  |  l  |  l  |     |  l  |     |  0  |  0  |     |     |  0  |  0  |  0  |  0  |  0  |     |     |  0  |  0  |  0  |     |     |  0  |  0  |  0  |  0  |  0  |  0  |     |     |     |  se |  ER |  ER |  l  | 387 |     |     |     |     |  0  |     |     |     | _87 |  l  |     |     | 269 | 269 | 269 | 213 | 89. |     |  l  |  l  |\n",
       "|     |     |  .0 | 003 |  4  |     |     |     |     |     |     |     |     |     |     |     |     |     |  .4 |     |     |     |     |     |     |     |     |     |     |     |     |     |     |     |     |     |     |     |     |     |     |  .0 |     | .61 | .61 |     |     |     |     |     |     |     |     |     |     |     |     |     |     |     |     |     |     |     |     |     |     |     |     |     |     |     |     |     |     |     |     |     |     |     |  1  |     |     |     |     |     |     |     |     | _50 |     |     |     | .61 | .61 | .61 |  .0 |  0  |     |     |     |\n",
       "+-----+-----+-----+-----+-----+-----+-----+-----+-----+-----+-----+-----+-----+-----+-----+-----+-----+-----+-----+-----+-----+-----+-----+-----+-----+-----+-----+-----+-----+-----+-----+-----+-----+-----+-----+-----+-----+-----+-----+-----+-----+-----+-----+-----+-----+-----+-----+-----+-----+-----+-----+-----+-----+-----+-----+-----+-----+-----+-----+-----+-----+-----+-----+-----+-----+-----+-----+-----+-----+-----+-----+-----+-----+-----+-----+-----+-----+-----+-----+-----+-----+-----+-----+-----+-----+-----+-----+-----+-----+-----+-----+-----+-----+-----+-----+-----+-----+-----+-----+-----+-----+"
      ]
     },
     "metadata": {},
     "output_type": "display_data"
    },
    {
     "data": {
      "text/html": [
       "<div><style>\n",
       ".dataframe > thead > tr,\n",
       ".dataframe > tbody > tr {\n",
       "  text-align: right;\n",
       "  white-space: pre-wrap;\n",
       "}\n",
       "</style>\n",
       "<table border=\"1\" class=\"dataframe\"><thead><tr><th>case_id</th><th>actualdpdtolerance_344P</th><th>amtinstpaidbefduel24m_4187115A</th><th>annuity_780A</th><th>annuitynextmonth_57A</th><th>applicationcnt_361L</th><th>applications30d_658L</th><th>applicationscnt_1086L</th><th>applicationscnt_464L</th><th>applicationscnt_629L</th><th>applicationscnt_867L</th><th>avgdbddpdlast24m_3658932P</th><th>avgdbddpdlast3m_4187120P</th><th>avgdbdtollast24m_4525197P</th><th>avgdpdtolclosure24_3658938P</th><th>avginstallast24m_3658937A</th><th>avglnamtstart24m_4525187A</th><th>avgmaxdpdlast9m_3716943P</th><th>avgoutstandbalancel6m_4187114A</th><th>avgpmtlast12m_4525200A</th><th>bankacctype_710L</th><th>cardtype_51L</th><th>clientscnt12m_3712952L</th><th>clientscnt3m_3712950L</th><th>clientscnt6m_3712949L</th><th>clientscnt_100L</th><th>clientscnt_1022L</th><th>clientscnt_1071L</th><th>clientscnt_1130L</th><th>clientscnt_136L</th><th>clientscnt_157L</th><th>clientscnt_257L</th><th>clientscnt_304L</th><th>clientscnt_360L</th><th>clientscnt_493L</th><th>clientscnt_533L</th><th>clientscnt_887L</th><th>clientscnt_946L</th><th>cntincpaycont9m_3716944L</th><th>cntpmts24_3658933L</th><th>commnoinclast6m_3546845L</th><th>credamount_770A</th><th>credtype_322L</th><th>currdebt_22A</th><th>currdebtcredtyperange_828A</th><th>datefirstoffer_1144D</th><th>datelastinstal40dpd_247D</th><th>datelastunpaid_3546854D</th><th>daysoverduetolerancedd_3976961L</th><th>deferredmnthsnum_166L</th><th>&hellip;</th><th>numinstls_657L</th><th>numinstlsallpaid_934L</th><th>numinstlswithdpd10_728L</th><th>numinstlswithdpd5_4187116L</th><th>numinstlswithoutdpd_562L</th><th>numinstmatpaidtearly2d_4499204L</th><th>numinstpaid_4499208L</th><th>numinstpaidearly3d_3546850L</th><th>numinstpaidearly3dest_4493216L</th><th>numinstpaidearly5d_1087L</th><th>numinstpaidearly5dest_4493211L</th><th>numinstpaidearly5dobd_4499205L</th><th>numinstpaidearly_338L</th><th>numinstpaidearlyest_4493214L</th><th>numinstpaidlastcontr_4325080L</th><th>numinstpaidlate1d_3546852L</th><th>numinstregularpaid_973L</th><th>numinstregularpaidest_4493210L</th><th>numinsttopaygr_769L</th><th>numinsttopaygrest_4493213L</th><th>numinstunpaidmax_3546851L</th><th>numinstunpaidmaxest_4493212L</th><th>numnotactivated_1143L</th><th>numpmtchanneldd_318L</th><th>numrejects9m_859L</th><th>opencred_647L</th><th>paytype1st_925L</th><th>paytype_783L</th><th>payvacationpostpone_4187118D</th><th>pctinstlsallpaidearl3d_427L</th><th>pctinstlsallpaidlat10d_839L</th><th>pctinstlsallpaidlate1d_3546856L</th><th>pctinstlsallpaidlate4d_3546849L</th><th>pctinstlsallpaidlate6d_3546844L</th><th>pmtnum_254L</th><th>posfpd10lastmonth_333P</th><th>posfpd30lastmonth_3976960P</th><th>posfstqpd30lastmonth_3976962P</th><th>previouscontdistrict_112M</th><th>price_1097A</th><th>sellerplacecnt_915L</th><th>sellerplacescnt_216L</th><th>sumoutstandtotal_3546847A</th><th>sumoutstandtotalest_4493215A</th><th>totaldebt_9A</th><th>totalsettled_863A</th><th>totinstallast1m_4525188A</th><th>twobodfilling_608L</th><th>typesuite_864L</th><th>validfrom_1069D</th></tr></thead><tbody><tr><td>57549</td><td>0.0</td><td>129704.4</td><td>5742.6</td><td>3546.6</td><td>0.0</td><td>2.0</td><td>0.0</td><td>0.0</td><td>0.0</td><td>10.0</td><td>0.0</td><td>0.0</td><td>-1.0</td><td>0.0</td><td>32426.201</td><td>118964.805</td><td>0.0</td><td>13681.714</td><td>32426.201</td><td>&quot;CA&quot;</td><td>null</td><td>0.0</td><td>0.0</td><td>0.0</td><td>0.0</td><td>0.0</td><td>0.0</td><td>0.0</td><td>null</td><td>0.0</td><td>0.0</td><td>0.0</td><td>0.0</td><td>0.0</td><td>0.0</td><td>0.0</td><td>0.0</td><td>3.0</td><td>3.0</td><td>0.0</td><td>75000.0</td><td>&quot;CAL&quot;</td><td>10638.2</td><td>10638.2</td><td>&quot;2007-11-29&quot;</td><td>null</td><td>&quot;2016-12-05&quot;</td><td>61.0</td><td>null</td><td>&hellip;</td><td>6.0</td><td>31.0</td><td>15.0</td><td>7.0</td><td>60.0</td><td>15.0</td><td>44.0</td><td>15.0</td><td>15.0</td><td>0.0</td><td>0.0</td><td>15.0</td><td>15.0</td><td>15.0</td><td>1.0</td><td>13.0</td><td>44.0</td><td>44.0</td><td>3.0</td><td>3.0</td><td>3.0</td><td>3.0</td><td>2.0</td><td>0.0</td><td>1.0</td><td>false</td><td>null</td><td>null</td><td>null</td><td>0.34091</td><td>0.11628</td><td>0.29545</td><td>0.18605</td><td>0.13953</td><td>18.0</td><td>0.0</td><td>0.0</td><td>0.0</td><td>&quot;a55475b1&quot;</td><td>null</td><td>2.0</td><td>7.0</td><td>10638.2</td><td>10638.2</td><td>10638.2</td><td>373720.84</td><td>126058.0</td><td>&quot;FO&quot;</td><td>null</td><td>null</td></tr><tr><td>57633</td><td>0.0</td><td>null</td><td>8273.0</td><td>0.0</td><td>0.0</td><td>0.0</td><td>0.0</td><td>0.0</td><td>0.0</td><td>3.0</td><td>null</td><td>null</td><td>null</td><td>null</td><td>null</td><td>null</td><td>null</td><td>null</td><td>null</td><td>&quot;CA&quot;</td><td>null</td><td>0.0</td><td>0.0</td><td>0.0</td><td>0.0</td><td>0.0</td><td>0.0</td><td>0.0</td><td>null</td><td>0.0</td><td>0.0</td><td>0.0</td><td>0.0</td><td>0.0</td><td>0.0</td><td>0.0</td><td>1.0</td><td>null</td><td>null</td><td>0.0</td><td>200000.0</td><td>&quot;CAL&quot;</td><td>0.0</td><td>0.0</td><td>null</td><td>null</td><td>null</td><td>null</td><td>null</td><td>&hellip;</td><td>0.0</td><td>null</td><td>null</td><td>null</td><td>null</td><td>null</td><td>null</td><td>null</td><td>null</td><td>null</td><td>null</td><td>null</td><td>null</td><td>null</td><td>null</td><td>null</td><td>null</td><td>null</td><td>null</td><td>null</td><td>null</td><td>null</td><td>0.0</td><td>0.0</td><td>0.0</td><td>false</td><td>null</td><td>null</td><td>null</td><td>null</td><td>null</td><td>null</td><td>null</td><td>null</td><td>48.0</td><td>0.0</td><td>0.0</td><td>0.0</td><td>&quot;a55475b1&quot;</td><td>0.0</td><td>0.0</td><td>2.0</td><td>null</td><td>null</td><td>0.0</td><td>0.0</td><td>null</td><td>&quot;FO&quot;</td><td>&quot;AL&quot;</td><td>null</td></tr><tr><td>57634</td><td>0.0</td><td>39948.8</td><td>1165.8</td><td>0.0</td><td>0.0</td><td>0.0</td><td>0.0</td><td>0.0</td><td>0.0</td><td>0.0</td><td>-4.0</td><td>null</td><td>-4.0</td><td>0.0</td><td>3994.8</td><td>null</td><td>0.0</td><td>1675.4</td><td>3358.4001</td><td>null</td><td>null</td><td>0.0</td><td>0.0</td><td>0.0</td><td>0.0</td><td>0.0</td><td>0.0</td><td>0.0</td><td>null</td><td>0.0</td><td>0.0</td><td>0.0</td><td>0.0</td><td>0.0</td><td>0.0</td><td>0.0</td><td>0.0</td><td>4.0</td><td>10.0</td><td>0.0</td><td>12108.2</td><td>&quot;COL&quot;</td><td>0.0</td><td>0.0</td><td>null</td><td>null</td><td>null</td><td>0.0</td><td>null</td><td>&hellip;</td><td>0.0</td><td>10.0</td><td>0.0</td><td>0.0</td><td>11.0</td><td>6.0</td><td>10.0</td><td>4.0</td><td>4.0</td><td>0.0</td><td>0.0</td><td>2.0</td><td>2.0</td><td>2.0</td><td>6.0</td><td>0.0</td><td>10.0</td><td>10.0</td><td>0.0</td><td>0.0</td><td>0.0</td><td>0.0</td><td>0.0</td><td>0.0</td><td>0.0</td><td>false</td><td>null</td><td>null</td><td>null</td><td>0.4</td><td>0.0</td><td>0.0</td><td>0.0</td><td>0.0</td><td>12.0</td><td>0.0</td><td>0.0</td><td>0.0</td><td>&quot;a55475b1&quot;</td><td>13998.0</td><td>0.0</td><td>0.0</td><td>0.0</td><td>0.0</td><td>0.0</td><td>39950.8</td><td>null</td><td>&quot;FO&quot;</td><td>null</td><td>null</td></tr></tbody></table></div>"
      ],
      "text/plain": [
       "+-----+-----+-----+-----+-----+-----+-----+-----+-----+-----+-----+-----+-----+-----+-----+-----+-----+-----+-----+-----+-----+-----+-----+-----+-----+-----+-----+-----+-----+-----+-----+-----+-----+-----+-----+-----+-----+-----+-----+-----+-----+-----+-----+-----+-----+-----+-----+-----+-----+-----+-----+-----+-----+-----+-----+-----+-----+-----+-----+-----+-----+-----+-----+-----+-----+-----+-----+-----+-----+-----+-----+-----+-----+-----+-----+-----+-----+-----+-----+-----+-----+-----+-----+-----+-----+-----+-----+-----+-----+-----+-----+-----+-----+-----+-----+-----+-----+-----+-----+-----+-----+\n",
       "| cas | act | amt | ann | ann | app | app | app | app | app | app | avg | avg | avg | avg | avg | avg | avg | avg | avg | ban | car | cli | cli | cli | cli | cli | cli | cli | cli | cli | cli | cli | cli | cli | cli | cli | cli | cnt | cnt | com | cre | cre | cur | cur | dat | dat | dat | day | def | ... | num | num | num | num | num | num | num | num | num | num | num | num | num | num | num | num | num | num | num | num | num | num | num | num | num | ope | pay | pay | pay | pct | pct | pct | pct | pct | pmt | pos | pos | pos | pre | pri | sel | sel | sum | sum | tot | tot | tot | two | typ | val |\n",
       "| e_i | ual | ins | uit | uit | lic | lic | lic | lic | lic | lic | dbd | dbd | dbd | dpd | ins | lna | max | out | pmt | kac | dty | ent | ent | ent | ent | ent | ent | ent | ent | ent | ent | ent | ent | ent | ent | ent | ent | inc | pmt | mno | dam | dty | rde | rde | efi | ela | ela | sov | err |     | ins | ins | ins | ins | ins | ins | ins | ins | ins | ins | ins | ins | ins | ins | ins | ins | ins | ins | ins | ins | ins | ins | not | pmt | rej | ncr | typ | typ | vac | ins | ins | ins | ins | ins | num | fpd | fpd | fst | vio | ce_ | ler | ler | out | out | ald | als | ins | bod | esu | idf |\n",
       "|  d  | dpd | tpa | y_7 | yne | ati | ati | ati | ati | ati | ati | dpd | dpd | tol | tol | tal | mts | dpd | sta | las | cty | pe_ | scn | scn | scn | scn | scn | scn | scn | scn | scn | scn | scn | scn | scn | scn | scn | scn | pay | s24 | inc | oun | pe_ | bt_ | btc | rst | sti | stu | erd | edm |     | tls | tls | tls | tls | tls | tma | tpa | tpa | tpa | tpa | tpa | tpa | tpa | tpa | tpa | tpa | tre | tre | tto | tto | tun | tun | act | cha | ect | ed_ | e1s | e_7 | ati | tls | tls | tls | tls | tls | _25 | 10l | 30l | qpd | usc | 109 | pla | pla | sta | sta | ebt | ett | tal | fil | ite | rom |\n",
       "|     | tol | idb | 80A | xtm | onc | ons | ons | ons | ons | ons | las | las | las | clo | las | tar | las | ndb | t12 | pe_ | 51L | t12 | t3m | t6m | t_1 | t_1 | t_1 | t_1 | t_1 | t_1 | t_2 | t_3 | t_3 | t_4 | t_5 | t_8 | t_9 | con | _36 | las | t_7 | 322 | 22A | red | off | nst | npa | uet | nth |     | _65 | all | wit | wit | wit | tpa | id_ | ide | ide | ide | ide | ide | ide | ide | idl | idl | gul | gul | pay | pay | pai | pai | iva | nne | s9m | 647 | t_9 | 83L | onp | all | all | all | all | all |  4L | ast | ast | 30l | ont |  7A | cec | ces | ndt | ndt | _9A | led | las | lin | _86 | _10 |\n",
       "|     | era | efd |     | ont | nt_ | 30d | cnt | cnt | cnt | cnt | t24 | t3m | t24 | sur | t24 | t24 | t9m | ala | m_4 | 710 |     | m_3 | _37 | _37 | 00L | 022 | 071 | 130 | 36L | 57L | 57L | 04L | 60L | 93L | 33L | 87L | 46L | t9m | 589 | t6m | 70A |  L  |     | typ | er_ | al4 | id_ | ole | snu |     |  7L | pai | hdp | hdp | hou | idt | 449 | arl | arl | arl | arl | arl | arl | arl | ast | ate | arp | arp | gr_ | gre | dma | dma | ted | ldd | _85 |  L  | 25L |     | ost | pai | pai | pai | pai | pai |     | mon | mon | ast | dis |     | nt_ | cnt | ota | ota |     | _86 | t1m | g_6 |  4L | 69D |\n",
       "|     | nce | uel |     | h_5 | 361 | _65 | _10 | _46 | _62 | _86 | m_3 | _41 | m_4 | e24 | m_3 | m_4 | _37 | nce | 525 |  L  |     | 712 | 129 | 129 |     |  L  |  L  |  L  |     |     |     |     |     |     |     |     |     | _37 | 33L | _35 |     |     |     | era | 114 | 0dp | 354 | ran | m_1 |     |     | d_9 | d10 | d5_ | tdp | ear | 920 | y3d | y3d | y5d | y5d | y5d | y_3 | yes | con | 1d_ | aid | aid | 769 | st_ | x_3 | xes | _11 | _31 |  9L |     |     |     | pon | dea | dla | dla | dla | dla |     | th_ | th_ | mon | tri |     | 915 | _21 | l_3 | les |     |  3A | _45 | 08L |     |     |\n",
       "|     | _34 | 24m |     |  7A |  L  |  8L | 86L |  4L |  9L |  7L | 658 | 871 | 525 | _36 | 658 | 525 | 169 | l6m | 200 |     |     | 952 | 50L | 49L |     |     |     |     |     |     |     |     |     |     |     |     |     | 169 |     | 468 |     |     |     | nge |  4D | d_2 | 685 | ced | 66L |     |     | 34L | _72 | 418 | d_5 | ly2 |  8L | _35 | est | _10 | est | obd | 38L | t_4 | tr_ | 354 | _97 | est |  L  | 449 | 546 | t_4 | 43L |  8L |     |     |     |     | e_4 | rl3 | t10 | te1 | te4 | te6 |     | 333 | 397 | th_ | ct_ |     |  L  |  6L | 546 | t_4 |     |     | 251 |     |     |     |\n",
       "|     |  4P | _41 |     |     |     |     |     |     |     |     | 932 | 20P | 197 | 589 | 937 | 187 | 43P | _41 |  A  |     |     |  L  |     |     |     |     |     |     |     |     |     |     |     |     |     |     |     | 44L |     | 45L |     |     |     | _82 |     | 47D |  4D | d_3 |     |     |     |     |  8L | 711 | 62L | d_4 |     | 468 | _44 | 87L | _44 | _44 |     | 493 | 432 | 685 |  3L | _44 |     | 321 | 851 | 493 |     |     |     |     |     |     | 187 | d_4 | d_8 | d_3 | d_3 | d_3 |     |  P  | 696 | 397 | 112 |     |     |     | 847 | 493 |     |     | 88A |     |     |     |\n",
       "|     |     | 871 |     |     |     |     |     |     |     |     |  P  |     |  P  | 38P |  A  |  A  |     | 871 |     |     |     |     |     |     |     |     |     |     |     |     |     |     |     |     |     |     |     |     |     |     |     |     |     |  8A |     |     |     | 976 |     |     |     |     |     |  6L |     | 499 |     | 50L | 932 |     | 932 | 992 |     | 214 | 508 |  2L |     | 932 |     |  3L |  L  | 212 |     |     |     |     |     |     | 118 | 27L | 39L | 546 | 546 | 546 |     |     |  0P | 696 |  M  |     |     |     |  A  | 215 |     |     |     |     |     |     |\n",
       "|     |     | 15A |     |     |     |     |     |     |     |     |     |     |     |     |     |     |     | 14A |     |     |     |     |     |     |     |     |     |     |     |     |     |     |     |     |     |     |     |     |     |     |     |     |     |     |     |     |     | 961 |     |     |     |     |     |     |     | 204 |     |     | 16L |     | 11L | 05L |     |  L  |  0L |     |     | 10L |     |     |     |  L  |     |     |     |     |     |     |  D  |     |     | 856 | 849 | 844 |     |     |     |  2P |     |     |     |     |     |  A  |     |     |     |     |     |     |\n",
       "|     |     |     |     |     |     |     |     |     |     |     |     |     |     |     |     |     |     |     |     |     |     |     |     |     |     |     |     |     |     |     |     |     |     |     |     |     |     |     |     |     |     |     |     |     |     |     |     |  L  |     |     |     |     |     |     |     |  L  |     |     |     |     |     |     |     |     |     |     |     |     |     |     |     |     |     |     |     |     |     |     |     |     |     |  L  |  L  |  L  |     |     |     |     |     |     |     |     |     |     |     |     |     |     |     |     |\n",
       "+=============================================================================================================================================================================================================================================================================================================================================================================================================================================================================================================================================================================================================================+\n",
       "| 575 | 0.0 | 129 | 574 | 354 | 0.0 | 2.0 | 0.0 | 0.0 | 0.0 | 10. | 0.0 | 0.0 | -1. | 0.0 | 324 | 118 | 0.0 | 136 | 324 |  CA | nul | 0.0 | 0.0 | 0.0 | 0.0 | 0.0 | 0.0 | 0.0 | nul | 0.0 | 0.0 | 0.0 | 0.0 | 0.0 | 0.0 | 0.0 | 0.0 | 3.0 | 3.0 | 0.0 | 750 | CAL | 106 | 106 | 200 | nul | 201 | 61. | nul | ... | 6.0 | 31. | 15. | 7.0 | 60. | 15. | 44. | 15. | 15. | 0.0 | 0.0 | 15. | 15. | 15. | 1.0 | 13. | 44. | 44. | 3.0 | 3.0 | 3.0 | 3.0 | 2.0 | 0.0 | 1.0 | fal | nul | nul | nul | 0.3 | 0.1 | 0.2 | 0.1 | 0.1 | 18. | 0.0 | 0.0 | 0.0 | a55 | nul | 2.0 | 7.0 | 106 | 106 | 106 | 373 | 126 |  FO | nul | nul |\n",
       "|  49 |     | 704 | 2.6 | 6.6 |     |     |     |     |     |  0  |     |     |  0  |     | 26. | 964 |     | 81. | 26. |     |  l  |     |     |     |     |     |     |     |  l  |     |     |     |     |     |     |     |     |     |     |     | 00. |     | 38. | 38. | 7-1 |  l  | 6-1 |  0  |  l  |     |     |  0  |  0  |     |  0  |  0  |  0  |  0  |  0  |     |     |  0  |  0  |  0  |     |  0  |  0  |  0  |     |     |     |     |     |     |     |  se |  l  |  l  |  l  | 409 | 162 | 954 | 860 | 395 |  0  |     |     |     | 475 |  l  |     |     | 38. | 38. | 38. | 720 | 058 |     |  l  |  l  |\n",
       "|     |     |  .4 |     |     |     |     |     |     |     |     |     |     |     |     | 201 | .80 |     | 714 | 201 |     |     |     |     |     |     |     |     |     |     |     |     |     |     |     |     |     |     |     |     |     |  0  |     |  2  |  2  | 1-2 |     | 2-0 |     |     |     |     |     |     |     |     |     |     |     |     |     |     |     |     |     |     |     |     |     |     |     |     |     |     |     |     |     |     |     |     |  1  |  8  |  5  |  5  |  3  |     |     |     |     |  b1 |     |     |     |  2  |  2  |  2  | .84 |  .0 |     |     |     |\n",
       "|     |     |     |     |     |     |     |     |     |     |     |     |     |     |     |     |  5  |     |     |     |     |     |     |     |     |     |     |     |     |     |     |     |     |     |     |     |     |     |     |     |     |     |     |     |     |  9  |     |  5  |     |     |     |     |     |     |     |     |     |     |     |     |     |     |     |     |     |     |     |     |     |     |     |     |     |     |     |     |     |     |     |     |     |     |     |     |     |     |     |     |     |     |     |     |     |     |     |     |     |     |     |     |     |\n",
       "| 576 | 0.0 | nul | 827 | 0.0 | 0.0 | 0.0 | 0.0 | 0.0 | 0.0 | 3.0 | nul | nul | nul | nul | nul | nul | nul | nul | nul |  CA | nul | 0.0 | 0.0 | 0.0 | 0.0 | 0.0 | 0.0 | 0.0 | nul | 0.0 | 0.0 | 0.0 | 0.0 | 0.0 | 0.0 | 0.0 | 1.0 | nul | nul | 0.0 | 200 | CAL | 0.0 | 0.0 | nul | nul | nul | nul | nul | ... | 0.0 | nul | nul | nul | nul | nul | nul | nul | nul | nul | nul | nul | nul | nul | nul | nul | nul | nul | nul | nul | nul | nul | 0.0 | 0.0 | 0.0 | fal | nul | nul | nul | nul | nul | nul | nul | nul | 48. | 0.0 | 0.0 | 0.0 | a55 | 0.0 | 0.0 | 2.0 | nul | nul | 0.0 | 0.0 | nul |  FO |  AL | nul |\n",
       "|  33 |     |  l  | 3.0 |     |     |     |     |     |     |     |  l  |  l  |  l  |  l  |  l  |  l  |  l  |  l  |  l  |     |  l  |     |     |     |     |     |     |     |  l  |     |     |     |     |     |     |     |     |  l  |  l  |     | 000 |     |     |     |  l  |  l  |  l  |  l  |  l  |     |     |  l  |  l  |  l  |  l  |  l  |  l  |  l  |  l  |  l  |  l  |  l  |  l  |  l  |  l  |  l  |  l  |  l  |  l  |  l  |  l  |  l  |     |     |     |  se |  l  |  l  |  l  |  l  |  l  |  l  |  l  |  l  |  0  |     |     |     | 475 |     |     |     |  l  |  l  |     |     |  l  |     |     |  l  |\n",
       "|     |     |     |     |     |     |     |     |     |     |     |     |     |     |     |     |     |     |     |     |     |     |     |     |     |     |     |     |     |     |     |     |     |     |     |     |     |     |     |     |     |  .0 |     |     |     |     |     |     |     |     |     |     |     |     |     |     |     |     |     |     |     |     |     |     |     |     |     |     |     |     |     |     |     |     |     |     |     |     |     |     |     |     |     |     |     |     |     |     |     |  b1 |     |     |     |     |     |     |     |     |     |     |     |\n",
       "| 576 | 0.0 | 399 | 116 | 0.0 | 0.0 | 0.0 | 0.0 | 0.0 | 0.0 | 0.0 | -4. | nul | -4. | 0.0 | 399 | nul | 0.0 | 167 | 335 | nul | nul | 0.0 | 0.0 | 0.0 | 0.0 | 0.0 | 0.0 | 0.0 | nul | 0.0 | 0.0 | 0.0 | 0.0 | 0.0 | 0.0 | 0.0 | 0.0 | 4.0 | 10. | 0.0 | 121 | COL | 0.0 | 0.0 | nul | nul | nul | 0.0 | nul | ... | 0.0 | 10. | 0.0 | 0.0 | 11. | 6.0 | 10. | 4.0 | 4.0 | 0.0 | 0.0 | 2.0 | 2.0 | 2.0 | 6.0 | 0.0 | 10. | 10. | 0.0 | 0.0 | 0.0 | 0.0 | 0.0 | 0.0 | 0.0 | fal | nul | nul | nul | 0.4 | 0.0 | 0.0 | 0.0 | 0.0 | 12. | 0.0 | 0.0 | 0.0 | a55 | 139 | 0.0 | 0.0 | 0.0 | 0.0 | 0.0 | 399 | nul |  FO | nul | nul |\n",
       "|  34 |     | 48. | 5.8 |     |     |     |     |     |     |     |  0  |  l  |  0  |     | 4.8 |  l  |     | 5.4 | 8.4 |  l  |  l  |     |     |     |     |     |     |     |  l  |     |     |     |     |     |     |     |     |     |  0  |     | 08. |     |     |     |  l  |  l  |  l  |     |  l  |     |     |  0  |     |     |  0  |     |  0  |     |     |     |     |     |     |     |     |     |  0  |  0  |     |     |     |     |     |     |     |  se |  l  |  l  |  l  |     |     |     |     |     |  0  |     |     |     | 475 | 98. |     |     |     |     |     | 50. |  l  |     |  l  |  l  |\n",
       "|     |     |  8  |     |     |     |     |     |     |     |     |     |     |     |     |     |     |     |     | 001 |     |     |     |     |     |     |     |     |     |     |     |     |     |     |     |     |     |     |     |     |     |  2  |     |     |     |     |     |     |     |     |     |     |     |     |     |     |     |     |     |     |     |     |     |     |     |     |     |     |     |     |     |     |     |     |     |     |     |     |     |     |     |     |     |     |     |     |     |     |     |  b1 |  0  |     |     |     |     |     |  8  |     |     |     |     |\n",
       "+-----+-----+-----+-----+-----+-----+-----+-----+-----+-----+-----+-----+-----+-----+-----+-----+-----+-----+-----+-----+-----+-----+-----+-----+-----+-----+-----+-----+-----+-----+-----+-----+-----+-----+-----+-----+-----+-----+-----+-----+-----+-----+-----+-----+-----+-----+-----+-----+-----+-----+-----+-----+-----+-----+-----+-----+-----+-----+-----+-----+-----+-----+-----+-----+-----+-----+-----+-----+-----+-----+-----+-----+-----+-----+-----+-----+-----+-----+-----+-----+-----+-----+-----+-----+-----+-----+-----+-----+-----+-----+-----+-----+-----+-----+-----+-----+-----+-----+-----+-----+-----+"
      ]
     },
     "metadata": {},
     "output_type": "display_data"
    },
    {
     "data": {
      "text/html": [
       "<div><style>\n",
       ".dataframe > thead > tr,\n",
       ".dataframe > tbody > tr {\n",
       "  text-align: right;\n",
       "  white-space: pre-wrap;\n",
       "}\n",
       "</style>\n",
       "<table border=\"1\" class=\"dataframe\"><thead><tr><th>case_id</th><th>actualdpdtolerance_344P</th><th>amtinstpaidbefduel24m_4187115A</th><th>annuity_780A</th><th>annuitynextmonth_57A</th><th>applicationcnt_361L</th><th>applications30d_658L</th><th>applicationscnt_1086L</th><th>applicationscnt_464L</th><th>applicationscnt_629L</th><th>applicationscnt_867L</th><th>avgdbddpdlast24m_3658932P</th><th>avgdbddpdlast3m_4187120P</th><th>avgdbdtollast24m_4525197P</th><th>avgdpdtolclosure24_3658938P</th><th>avginstallast24m_3658937A</th><th>avglnamtstart24m_4525187A</th><th>avgmaxdpdlast9m_3716943P</th><th>avgoutstandbalancel6m_4187114A</th><th>avgpmtlast12m_4525200A</th><th>bankacctype_710L</th><th>cardtype_51L</th><th>clientscnt12m_3712952L</th><th>clientscnt3m_3712950L</th><th>clientscnt6m_3712949L</th><th>clientscnt_100L</th><th>clientscnt_1022L</th><th>clientscnt_1071L</th><th>clientscnt_1130L</th><th>clientscnt_136L</th><th>clientscnt_157L</th><th>clientscnt_257L</th><th>clientscnt_304L</th><th>clientscnt_360L</th><th>clientscnt_493L</th><th>clientscnt_533L</th><th>clientscnt_887L</th><th>clientscnt_946L</th><th>cntincpaycont9m_3716944L</th><th>cntpmts24_3658933L</th><th>commnoinclast6m_3546845L</th><th>credamount_770A</th><th>credtype_322L</th><th>currdebt_22A</th><th>currdebtcredtyperange_828A</th><th>datefirstoffer_1144D</th><th>datelastinstal40dpd_247D</th><th>datelastunpaid_3546854D</th><th>daysoverduetolerancedd_3976961L</th><th>deferredmnthsnum_166L</th><th>&hellip;</th><th>numinstls_657L</th><th>numinstlsallpaid_934L</th><th>numinstlswithdpd10_728L</th><th>numinstlswithdpd5_4187116L</th><th>numinstlswithoutdpd_562L</th><th>numinstmatpaidtearly2d_4499204L</th><th>numinstpaid_4499208L</th><th>numinstpaidearly3d_3546850L</th><th>numinstpaidearly3dest_4493216L</th><th>numinstpaidearly5d_1087L</th><th>numinstpaidearly5dest_4493211L</th><th>numinstpaidearly5dobd_4499205L</th><th>numinstpaidearly_338L</th><th>numinstpaidearlyest_4493214L</th><th>numinstpaidlastcontr_4325080L</th><th>numinstpaidlate1d_3546852L</th><th>numinstregularpaid_973L</th><th>numinstregularpaidest_4493210L</th><th>numinsttopaygr_769L</th><th>numinsttopaygrest_4493213L</th><th>numinstunpaidmax_3546851L</th><th>numinstunpaidmaxest_4493212L</th><th>numnotactivated_1143L</th><th>numpmtchanneldd_318L</th><th>numrejects9m_859L</th><th>opencred_647L</th><th>paytype1st_925L</th><th>paytype_783L</th><th>payvacationpostpone_4187118D</th><th>pctinstlsallpaidearl3d_427L</th><th>pctinstlsallpaidlat10d_839L</th><th>pctinstlsallpaidlate1d_3546856L</th><th>pctinstlsallpaidlate4d_3546849L</th><th>pctinstlsallpaidlate6d_3546844L</th><th>pmtnum_254L</th><th>posfpd10lastmonth_333P</th><th>posfpd30lastmonth_3976960P</th><th>posfstqpd30lastmonth_3976962P</th><th>previouscontdistrict_112M</th><th>price_1097A</th><th>sellerplacecnt_915L</th><th>sellerplacescnt_216L</th><th>sumoutstandtotal_3546847A</th><th>sumoutstandtotalest_4493215A</th><th>totaldebt_9A</th><th>totalsettled_863A</th><th>totinstallast1m_4525188A</th><th>twobodfilling_608L</th><th>typesuite_864L</th><th>validfrom_1069D</th></tr></thead><tbody><tr><td>57760</td><td>0.0</td><td>278286.97</td><td>8008.0</td><td>0.0</td><td>0.0</td><td>0.0</td><td>0.0</td><td>0.0</td><td>0.0</td><td>8.0</td><td>-31.0</td><td>null</td><td>-31.0</td><td>0.0</td><td>55657.402</td><td>null</td><td>null</td><td>0.0</td><td>83367.2</td><td>&quot;CA&quot;</td><td>null</td><td>0.0</td><td>0.0</td><td>0.0</td><td>0.0</td><td>0.0</td><td>0.0</td><td>0.0</td><td>null</td><td>0.0</td><td>0.0</td><td>0.0</td><td>0.0</td><td>0.0</td><td>0.0</td><td>0.0</td><td>0.0</td><td>0.0</td><td>3.0</td><td>0.0</td><td>200000.0</td><td>&quot;CAL&quot;</td><td>0.0</td><td>0.0</td><td>&quot;2016-07-20&quot;</td><td>null</td><td>&quot;2018-06-14&quot;</td><td>38.0</td><td>null</td><td>&hellip;</td><td>0.0</td><td>22.0</td><td>2.0</td><td>7.0</td><td>51.0</td><td>15.0</td><td>30.0</td><td>17.0</td><td>17.0</td><td>0.0</td><td>0.0</td><td>15.0</td><td>15.0</td><td>15.0</td><td>0.0</td><td>8.0</td><td>30.0</td><td>30.0</td><td>0.0</td><td>0.0</td><td>0.0</td><td>0.0</td><td>0.0</td><td>1.0</td><td>0.0</td><td>false</td><td>&quot;OTHER&quot;</td><td>&quot;OTHER&quot;</td><td>null</td><td>0.56667</td><td>0.1</td><td>0.26667</td><td>0.26667</td><td>0.23333</td><td>60.0</td><td>0.0</td><td>0.0</td><td>0.0</td><td>&quot;P117_87_136&quot;</td><td>0.0</td><td>0.0</td><td>5.0</td><td>0.0</td><td>0.0</td><td>0.0</td><td>826920.2</td><td>null</td><td>&quot;BO&quot;</td><td>null</td><td>null</td></tr><tr><td>57970</td><td>9.0</td><td>117938.836</td><td>1965.2001</td><td>9907.2</td><td>0.0</td><td>0.0</td><td>0.0</td><td>0.0</td><td>0.0</td><td>7.0</td><td>-3.0</td><td>5.0</td><td>-2.0</td><td>2.0</td><td>7345.0</td><td>null</td><td>2.0</td><td>55877.418</td><td>8655.601</td><td>null</td><td>null</td><td>0.0</td><td>0.0</td><td>0.0</td><td>0.0</td><td>0.0</td><td>0.0</td><td>0.0</td><td>null</td><td>0.0</td><td>0.0</td><td>0.0</td><td>0.0</td><td>0.0</td><td>0.0</td><td>0.0</td><td>0.0</td><td>7.0</td><td>19.0</td><td>0.0</td><td>26000.0</td><td>&quot;COL&quot;</td><td>32485.791</td><td>32485.791</td><td>null</td><td>null</td><td>&quot;2022-01-01&quot;</td><td>20.0</td><td>null</td><td>&hellip;</td><td>12.0</td><td>44.0</td><td>4.0</td><td>6.0</td><td>51.0</td><td>34.0</td><td>54.0</td><td>32.0</td><td>32.0</td><td>3.0</td><td>3.0</td><td>20.0</td><td>20.0</td><td>20.0</td><td>8.0</td><td>10.0</td><td>54.0</td><td>54.0</td><td>4.0</td><td>4.0</td><td>10.0</td><td>10.0</td><td>0.0</td><td>0.0</td><td>0.0</td><td>false</td><td>null</td><td>null</td><td>null</td><td>0.58182</td><td>0.07407</td><td>0.2</td><td>0.12727</td><td>0.12727</td><td>18.0</td><td>0.0</td><td>0.0</td><td>0.0</td><td>&quot;a55475b1&quot;</td><td>26000.0</td><td>0.0</td><td>7.0</td><td>40105.992</td><td>40105.992</td><td>32981.793</td><td>282005.25</td><td>19814.4</td><td>&quot;FO&quot;</td><td>null</td><td>null</td></tr><tr><td>57980</td><td>0.0</td><td>null</td><td>1800.0</td><td>0.0</td><td>0.0</td><td>0.0</td><td>0.0</td><td>0.0</td><td>0.0</td><td>2.0</td><td>null</td><td>null</td><td>null</td><td>null</td><td>null</td><td>null</td><td>null</td><td>null</td><td>null</td><td>null</td><td>&quot;INSTANT&quot;</td><td>0.0</td><td>0.0</td><td>0.0</td><td>0.0</td><td>0.0</td><td>0.0</td><td>0.0</td><td>null</td><td>0.0</td><td>0.0</td><td>0.0</td><td>0.0</td><td>0.0</td><td>0.0</td><td>0.0</td><td>0.0</td><td>null</td><td>null</td><td>0.0</td><td>21600.0</td><td>&quot;REL&quot;</td><td>0.0</td><td>0.0</td><td>null</td><td>null</td><td>null</td><td>null</td><td>null</td><td>&hellip;</td><td>0.0</td><td>null</td><td>null</td><td>null</td><td>null</td><td>null</td><td>null</td><td>null</td><td>null</td><td>null</td><td>null</td><td>null</td><td>null</td><td>null</td><td>null</td><td>null</td><td>null</td><td>null</td><td>null</td><td>null</td><td>null</td><td>null</td><td>0.0</td><td>0.0</td><td>2.0</td><td>false</td><td>null</td><td>null</td><td>null</td><td>null</td><td>null</td><td>null</td><td>null</td><td>null</td><td>null</td><td>0.0</td><td>0.0</td><td>0.0</td><td>&quot;a55475b1&quot;</td><td>null</td><td>0.0</td><td>0.0</td><td>null</td><td>null</td><td>0.0</td><td>0.0</td><td>null</td><td>&quot;FO&quot;</td><td>null</td><td>null</td></tr></tbody></table></div>"
      ],
      "text/plain": [
       "+-----+-----+-----+-----+-----+-----+-----+-----+-----+-----+-----+-----+-----+-----+-----+-----+-----+-----+-----+-----+-----+-----+-----+-----+-----+-----+-----+-----+-----+-----+-----+-----+-----+-----+-----+-----+-----+-----+-----+-----+-----+-----+-----+-----+-----+-----+-----+-----+-----+-----+-----+-----+-----+-----+-----+-----+-----+-----+-----+-----+-----+-----+-----+-----+-----+-----+-----+-----+-----+-----+-----+-----+-----+-----+-----+-----+-----+-----+-----+-----+-----+-----+-----+-----+-----+-----+-----+-----+-----+-----+-----+-----+-----+-----+-----+-----+-----+-----+-----+-----+-----+\n",
       "| cas | act | amt | ann | ann | app | app | app | app | app | app | avg | avg | avg | avg | avg | avg | avg | avg | avg | ban | car | cli | cli | cli | cli | cli | cli | cli | cli | cli | cli | cli | cli | cli | cli | cli | cli | cnt | cnt | com | cre | cre | cur | cur | dat | dat | dat | day | def | ... | num | num | num | num | num | num | num | num | num | num | num | num | num | num | num | num | num | num | num | num | num | num | num | num | num | ope | pay | pay | pay | pct | pct | pct | pct | pct | pmt | pos | pos | pos | pre | pri | sel | sel | sum | sum | tot | tot | tot | two | typ | val |\n",
       "| e_i | ual | ins | uit | uit | lic | lic | lic | lic | lic | lic | dbd | dbd | dbd | dpd | ins | lna | max | out | pmt | kac | dty | ent | ent | ent | ent | ent | ent | ent | ent | ent | ent | ent | ent | ent | ent | ent | ent | inc | pmt | mno | dam | dty | rde | rde | efi | ela | ela | sov | err |     | ins | ins | ins | ins | ins | ins | ins | ins | ins | ins | ins | ins | ins | ins | ins | ins | ins | ins | ins | ins | ins | ins | not | pmt | rej | ncr | typ | typ | vac | ins | ins | ins | ins | ins | num | fpd | fpd | fst | vio | ce_ | ler | ler | out | out | ald | als | ins | bod | esu | idf |\n",
       "|  d  | dpd | tpa | y_7 | yne | ati | ati | ati | ati | ati | ati | dpd | dpd | tol | tol | tal | mts | dpd | sta | las | cty | pe_ | scn | scn | scn | scn | scn | scn | scn | scn | scn | scn | scn | scn | scn | scn | scn | scn | pay | s24 | inc | oun | pe_ | bt_ | btc | rst | sti | stu | erd | edm |     | tls | tls | tls | tls | tls | tma | tpa | tpa | tpa | tpa | tpa | tpa | tpa | tpa | tpa | tpa | tre | tre | tto | tto | tun | tun | act | cha | ect | ed_ | e1s | e_7 | ati | tls | tls | tls | tls | tls | _25 | 10l | 30l | qpd | usc | 109 | pla | pla | sta | sta | ebt | ett | tal | fil | ite | rom |\n",
       "|     | tol | idb | 80A | xtm | onc | ons | ons | ons | ons | ons | las | las | las | clo | las | tar | las | ndb | t12 | pe_ | 51L | t12 | t3m | t6m | t_1 | t_1 | t_1 | t_1 | t_1 | t_1 | t_2 | t_3 | t_3 | t_4 | t_5 | t_8 | t_9 | con | _36 | las | t_7 | 322 | 22A | red | off | nst | npa | uet | nth |     | _65 | all | wit | wit | wit | tpa | id_ | ide | ide | ide | ide | ide | ide | ide | idl | idl | gul | gul | pay | pay | pai | pai | iva | nne | s9m | 647 | t_9 | 83L | onp | all | all | all | all | all |  4L | ast | ast | 30l | ont |  7A | cec | ces | ndt | ndt | _9A | led | las | lin | _86 | _10 |\n",
       "|     | era | efd |     | ont | nt_ | 30d | cnt | cnt | cnt | cnt | t24 | t3m | t24 | sur | t24 | t24 | t9m | ala | m_4 | 710 |     | m_3 | _37 | _37 | 00L | 022 | 071 | 130 | 36L | 57L | 57L | 04L | 60L | 93L | 33L | 87L | 46L | t9m | 589 | t6m | 70A |  L  |     | typ | er_ | al4 | id_ | ole | snu |     |  7L | pai | hdp | hdp | hou | idt | 449 | arl | arl | arl | arl | arl | arl | arl | ast | ate | arp | arp | gr_ | gre | dma | dma | ted | ldd | _85 |  L  | 25L |     | ost | pai | pai | pai | pai | pai |     | mon | mon | ast | dis |     | nt_ | cnt | ota | ota |     | _86 | t1m | g_6 |  4L | 69D |\n",
       "|     | nce | uel |     | h_5 | 361 | _65 | _10 | _46 | _62 | _86 | m_3 | _41 | m_4 | e24 | m_3 | m_4 | _37 | nce | 525 |  L  |     | 712 | 129 | 129 |     |  L  |  L  |  L  |     |     |     |     |     |     |     |     |     | _37 | 33L | _35 |     |     |     | era | 114 | 0dp | 354 | ran | m_1 |     |     | d_9 | d10 | d5_ | tdp | ear | 920 | y3d | y3d | y5d | y5d | y5d | y_3 | yes | con | 1d_ | aid | aid | 769 | st_ | x_3 | xes | _11 | _31 |  9L |     |     |     | pon | dea | dla | dla | dla | dla |     | th_ | th_ | mon | tri |     | 915 | _21 | l_3 | les |     |  3A | _45 | 08L |     |     |\n",
       "|     | _34 | 24m |     |  7A |  L  |  8L | 86L |  4L |  9L |  7L | 658 | 871 | 525 | _36 | 658 | 525 | 169 | l6m | 200 |     |     | 952 | 50L | 49L |     |     |     |     |     |     |     |     |     |     |     |     |     | 169 |     | 468 |     |     |     | nge |  4D | d_2 | 685 | ced | 66L |     |     | 34L | _72 | 418 | d_5 | ly2 |  8L | _35 | est | _10 | est | obd | 38L | t_4 | tr_ | 354 | _97 | est |  L  | 449 | 546 | t_4 | 43L |  8L |     |     |     |     | e_4 | rl3 | t10 | te1 | te4 | te6 |     | 333 | 397 | th_ | ct_ |     |  L  |  6L | 546 | t_4 |     |     | 251 |     |     |     |\n",
       "|     |  4P | _41 |     |     |     |     |     |     |     |     | 932 | 20P | 197 | 589 | 937 | 187 | 43P | _41 |  A  |     |     |  L  |     |     |     |     |     |     |     |     |     |     |     |     |     |     |     | 44L |     | 45L |     |     |     | _82 |     | 47D |  4D | d_3 |     |     |     |     |  8L | 711 | 62L | d_4 |     | 468 | _44 | 87L | _44 | _44 |     | 493 | 432 | 685 |  3L | _44 |     | 321 | 851 | 493 |     |     |     |     |     |     | 187 | d_4 | d_8 | d_3 | d_3 | d_3 |     |  P  | 696 | 397 | 112 |     |     |     | 847 | 493 |     |     | 88A |     |     |     |\n",
       "|     |     | 871 |     |     |     |     |     |     |     |     |  P  |     |  P  | 38P |  A  |  A  |     | 871 |     |     |     |     |     |     |     |     |     |     |     |     |     |     |     |     |     |     |     |     |     |     |     |     |     |  8A |     |     |     | 976 |     |     |     |     |     |  6L |     | 499 |     | 50L | 932 |     | 932 | 992 |     | 214 | 508 |  2L |     | 932 |     |  3L |  L  | 212 |     |     |     |     |     |     | 118 | 27L | 39L | 546 | 546 | 546 |     |     |  0P | 696 |  M  |     |     |     |  A  | 215 |     |     |     |     |     |     |\n",
       "|     |     | 15A |     |     |     |     |     |     |     |     |     |     |     |     |     |     |     | 14A |     |     |     |     |     |     |     |     |     |     |     |     |     |     |     |     |     |     |     |     |     |     |     |     |     |     |     |     |     | 961 |     |     |     |     |     |     |     | 204 |     |     | 16L |     | 11L | 05L |     |  L  |  0L |     |     | 10L |     |     |     |  L  |     |     |     |     |     |     |  D  |     |     | 856 | 849 | 844 |     |     |     |  2P |     |     |     |     |     |  A  |     |     |     |     |     |     |\n",
       "|     |     |     |     |     |     |     |     |     |     |     |     |     |     |     |     |     |     |     |     |     |     |     |     |     |     |     |     |     |     |     |     |     |     |     |     |     |     |     |     |     |     |     |     |     |     |     |     |  L  |     |     |     |     |     |     |     |  L  |     |     |     |     |     |     |     |     |     |     |     |     |     |     |     |     |     |     |     |     |     |     |     |     |     |  L  |  L  |  L  |     |     |     |     |     |     |     |     |     |     |     |     |     |     |     |     |\n",
       "+=============================================================================================================================================================================================================================================================================================================================================================================================================================================================================================================================================================================================================================+\n",
       "| 577 | 0.0 | 278 | 800 | 0.0 | 0.0 | 0.0 | 0.0 | 0.0 | 0.0 | 8.0 | -31 | nul | -31 | 0.0 | 556 | nul | nul | 0.0 | 833 |  CA | nul | 0.0 | 0.0 | 0.0 | 0.0 | 0.0 | 0.0 | 0.0 | nul | 0.0 | 0.0 | 0.0 | 0.0 | 0.0 | 0.0 | 0.0 | 0.0 | 0.0 | 3.0 | 0.0 | 200 | CAL | 0.0 | 0.0 | 201 | nul | 201 | 38. | nul | ... | 0.0 | 22. | 2.0 | 7.0 | 51. | 15. | 30. | 17. | 17. | 0.0 | 0.0 | 15. | 15. | 15. | 0.0 | 8.0 | 30. | 30. | 0.0 | 0.0 | 0.0 | 0.0 | 0.0 | 1.0 | 0.0 | fal | OTH | OTH | nul | 0.5 | 0.1 | 0.2 | 0.2 | 0.2 | 60. | 0.0 | 0.0 | 0.0 | P11 | 0.0 | 0.0 | 5.0 | 0.0 | 0.0 | 0.0 | 826 | nul |  BO | nul | nul |\n",
       "|  60 |     | 286 | 8.0 |     |     |     |     |     |     |     |  .0 |  l  |  .0 |     | 57. |  l  |  l  |     | 67. |     |  l  |     |     |     |     |     |     |     |  l  |     |     |     |     |     |     |     |     |     |     |     | 000 |     |     |     | 6-0 |  l  | 8-0 |  0  |  l  |     |     |  0  |     |     |  0  |  0  |  0  |  0  |  0  |     |     |  0  |  0  |  0  |     |     |  0  |  0  |     |     |     |     |     |     |     |  se |  ER |  ER |  l  | 666 |     | 666 | 666 | 333 |  0  |     |     |     | 7_8 |     |     |     |     |     |     | 920 |  l  |     |  l  |  l  |\n",
       "|     |     | .97 |     |     |     |     |     |     |     |     |     |     |     |     | 402 |     |     |     |  2  |     |     |     |     |     |     |     |     |     |     |     |     |     |     |     |     |     |     |     |     |     |  .0 |     |     |     | 7-2 |     | 6-1 |     |     |     |     |     |     |     |     |     |     |     |     |     |     |     |     |     |     |     |     |     |     |     |     |     |     |     |     |     |     |     |     |  7  |     |  7  |  7  |  3  |     |     |     |     | 7_1 |     |     |     |     |     |     |  .2 |     |     |     |     |\n",
       "|     |     |     |     |     |     |     |     |     |     |     |     |     |     |     |     |     |     |     |     |     |     |     |     |     |     |     |     |     |     |     |     |     |     |     |     |     |     |     |     |     |     |     |     |     |  0  |     |  4  |     |     |     |     |     |     |     |     |     |     |     |     |     |     |     |     |     |     |     |     |     |     |     |     |     |     |     |     |     |     |     |     |     |     |     |     |     |     |     |     |     |  36 |     |     |     |     |     |     |     |     |     |     |     |\n",
       "| 579 | 9.0 | 117 | 196 | 990 | 0.0 | 0.0 | 0.0 | 0.0 | 0.0 | 7.0 | -3. | 5.0 | -2. | 2.0 | 734 | nul | 2.0 | 558 | 865 | nul | nul | 0.0 | 0.0 | 0.0 | 0.0 | 0.0 | 0.0 | 0.0 | nul | 0.0 | 0.0 | 0.0 | 0.0 | 0.0 | 0.0 | 0.0 | 0.0 | 7.0 | 19. | 0.0 | 260 | COL | 324 | 324 | nul | nul | 202 | 20. | nul | ... | 12. | 44. | 4.0 | 6.0 | 51. | 34. | 54. | 32. | 32. | 3.0 | 3.0 | 20. | 20. | 20. | 8.0 | 10. | 54. | 54. | 4.0 | 4.0 | 10. | 10. | 0.0 | 0.0 | 0.0 | fal | nul | nul | nul | 0.5 | 0.0 | 0.2 | 0.1 | 0.1 | 18. | 0.0 | 0.0 | 0.0 | a55 | 260 | 0.0 | 7.0 | 401 | 401 | 329 | 282 | 198 |  FO | nul | nul |\n",
       "|  70 |     | 938 | 5.2 | 7.2 |     |     |     |     |     |     |  0  |     |  0  |     | 5.0 |  l  |     | 77. | 5.6 |  l  |  l  |     |     |     |     |     |     |     |  l  |     |     |     |     |     |     |     |     |     |  0  |     | 00. |     | 85. | 85. |  l  |  l  | 2-0 |  0  |  l  |     |  0  |  0  |     |     |  0  |  0  |  0  |  0  |  0  |     |     |  0  |  0  |  0  |     |  0  |  0  |  0  |     |     |  0  |  0  |     |     |     |  se |  l  |  l  |  l  | 818 | 740 |     | 272 | 272 |  0  |     |     |     | 475 | 00. |     |     | 05. | 05. | 81. | 005 | 14. |     |  l  |  l  |\n",
       "|     |     | .83 | 001 |     |     |     |     |     |     |     |     |     |     |     |     |     |     | 418 |  01 |     |     |     |     |     |     |     |     |     |     |     |     |     |     |     |     |     |     |     |     |     |  0  |     | 791 | 791 |     |     | 1-0 |     |     |     |     |     |     |     |     |     |     |     |     |     |     |     |     |     |     |     |     |     |     |     |     |     |     |     |     |     |     |     |     |  2  |  7  |     |  7  |  7  |     |     |     |     |  b1 |  0  |     |     | 992 | 992 | 793 | .25 |  4  |     |     |     |\n",
       "|     |     |  6  |     |     |     |     |     |     |     |     |     |     |     |     |     |     |     |     |     |     |     |     |     |     |     |     |     |     |     |     |     |     |     |     |     |     |     |     |     |     |     |     |     |     |     |     |  1  |     |     |     |     |     |     |     |     |     |     |     |     |     |     |     |     |     |     |     |     |     |     |     |     |     |     |     |     |     |     |     |     |     |     |     |     |     |     |     |     |     |     |     |     |     |     |     |     |     |     |     |     |     |\n",
       "| 579 | 0.0 | nul | 180 | 0.0 | 0.0 | 0.0 | 0.0 | 0.0 | 0.0 | 2.0 | nul | nul | nul | nul | nul | nul | nul | nul | nul | nul | INS | 0.0 | 0.0 | 0.0 | 0.0 | 0.0 | 0.0 | 0.0 | nul | 0.0 | 0.0 | 0.0 | 0.0 | 0.0 | 0.0 | 0.0 | 0.0 | nul | nul | 0.0 | 216 | REL | 0.0 | 0.0 | nul | nul | nul | nul | nul | ... | 0.0 | nul | nul | nul | nul | nul | nul | nul | nul | nul | nul | nul | nul | nul | nul | nul | nul | nul | nul | nul | nul | nul | 0.0 | 0.0 | 2.0 | fal | nul | nul | nul | nul | nul | nul | nul | nul | nul | 0.0 | 0.0 | 0.0 | a55 | nul | 0.0 | 0.0 | nul | nul | 0.0 | 0.0 | nul |  FO | nul | nul |\n",
       "|  80 |     |  l  | 0.0 |     |     |     |     |     |     |     |  l  |  l  |  l  |  l  |  l  |  l  |  l  |  l  |  l  |  l  | TAN |     |     |     |     |     |     |     |  l  |     |     |     |     |     |     |     |     |  l  |  l  |     | 00. |     |     |     |  l  |  l  |  l  |  l  |  l  |     |     |  l  |  l  |  l  |  l  |  l  |  l  |  l  |  l  |  l  |  l  |  l  |  l  |  l  |  l  |  l  |  l  |  l  |  l  |  l  |  l  |  l  |     |     |     |  se |  l  |  l  |  l  |  l  |  l  |  l  |  l  |  l  |  l  |     |     |     | 475 |  l  |     |     |  l  |  l  |     |     |  l  |     |  l  |  l  |\n",
       "|     |     |     |     |     |     |     |     |     |     |     |     |     |     |     |     |     |     |     |     |     |  T  |     |     |     |     |     |     |     |     |     |     |     |     |     |     |     |     |     |     |     |  0  |     |     |     |     |     |     |     |     |     |     |     |     |     |     |     |     |     |     |     |     |     |     |     |     |     |     |     |     |     |     |     |     |     |     |     |     |     |     |     |     |     |     |     |     |     |     |     |  b1 |     |     |     |     |     |     |     |     |     |     |     |\n",
       "+-----+-----+-----+-----+-----+-----+-----+-----+-----+-----+-----+-----+-----+-----+-----+-----+-----+-----+-----+-----+-----+-----+-----+-----+-----+-----+-----+-----+-----+-----+-----+-----+-----+-----+-----+-----+-----+-----+-----+-----+-----+-----+-----+-----+-----+-----+-----+-----+-----+-----+-----+-----+-----+-----+-----+-----+-----+-----+-----+-----+-----+-----+-----+-----+-----+-----+-----+-----+-----+-----+-----+-----+-----+-----+-----+-----+-----+-----+-----+-----+-----+-----+-----+-----+-----+-----+-----+-----+-----+-----+-----+-----+-----+-----+-----+-----+-----+-----+-----+-----+-----+"
      ]
     },
     "metadata": {},
     "output_type": "display_data"
    },
    {
     "data": {
      "text/html": [
       "<div><style>\n",
       ".dataframe > thead > tr,\n",
       ".dataframe > tbody > tr {\n",
       "  text-align: right;\n",
       "  white-space: pre-wrap;\n",
       "}\n",
       "</style>\n",
       "<table border=\"1\" class=\"dataframe\"><thead><tr><th>case_id</th><th>assignmentdate_238D</th><th>assignmentdate_4527235D</th><th>assignmentdate_4955616D</th><th>birthdate_574D</th><th>contractssum_5085716L</th><th>dateofbirth_337D</th><th>dateofbirth_342D</th><th>days120_123L</th><th>days180_256L</th><th>days30_165L</th><th>days360_512L</th><th>days90_310L</th><th>description_5085714M</th><th>education_1103M</th><th>education_88M</th><th>firstquarter_103L</th><th>for3years_128L</th><th>for3years_504L</th><th>for3years_584L</th><th>formonth_118L</th><th>formonth_206L</th><th>formonth_535L</th><th>forquarter_1017L</th><th>forquarter_462L</th><th>forquarter_634L</th><th>fortoday_1092L</th><th>forweek_1077L</th><th>forweek_528L</th><th>forweek_601L</th><th>foryear_618L</th><th>foryear_818L</th><th>foryear_850L</th><th>fourthquarter_440L</th><th>maritalst_385M</th><th>maritalst_893M</th><th>numberofqueries_373L</th><th>pmtaverage_3A</th><th>pmtaverage_4527227A</th><th>pmtaverage_4955615A</th><th>pmtcount_4527229L</th><th>pmtcount_4955617L</th><th>pmtcount_693L</th><th>pmtscount_423L</th><th>pmtssum_45A</th><th>requesttype_4525192L</th><th>responsedate_1012D</th><th>responsedate_4527233D</th><th>responsedate_4917613D</th><th>riskassesment_302T</th><th>riskassesment_940T</th><th>secondquarter_766L</th><th>thirdquarter_1082L</th></tr></thead><tbody><tr><td>57543</td><td>null</td><td>null</td><td>null</td><td>null</td><td>151364.0</td><td>&quot;1980-11-01&quot;</td><td>null</td><td>2.0</td><td>4.0</td><td>1.0</td><td>8.0</td><td>2.0</td><td>&quot;2fc785b2&quot;</td><td>&quot;6b2ae0fa&quot;</td><td>&quot;a55475b1&quot;</td><td>4.0</td><td>null</td><td>null</td><td>null</td><td>null</td><td>null</td><td>null</td><td>null</td><td>null</td><td>null</td><td>null</td><td>null</td><td>null</td><td>null</td><td>null</td><td>null</td><td>null</td><td>9.0</td><td>&quot;38c061ee&quot;</td><td>&quot;a55475b1&quot;</td><td>8.0</td><td>null</td><td>null</td><td>null</td><td>null</td><td>null</td><td>null</td><td>null</td><td>null</td><td>null</td><td>null</td><td>null</td><td>&quot;2021-05-28&quot;</td><td>null</td><td>null</td><td>2.0</td><td>3.0</td></tr><tr><td>57549</td><td>null</td><td>null</td><td>&quot;2018-05-06&quot;</td><td>null</td><td>1.5631e6</td><td>&quot;1959-11-01&quot;</td><td>null</td><td>6.0</td><td>9.0</td><td>3.0</td><td>12.0</td><td>4.0</td><td>&quot;2fc785b2&quot;</td><td>&quot;39a0853f&quot;</td><td>&quot;a55475b1&quot;</td><td>9.0</td><td>null</td><td>null</td><td>null</td><td>null</td><td>null</td><td>null</td><td>null</td><td>null</td><td>null</td><td>null</td><td>null</td><td>null</td><td>null</td><td>null</td><td>null</td><td>null</td><td>5.0</td><td>&quot;a7fcb6e5&quot;</td><td>&quot;a55475b1&quot;</td><td>12.0</td><td>null</td><td>null</td><td>26815.6</td><td>null</td><td>14.0</td><td>null</td><td>null</td><td>null</td><td>null</td><td>null</td><td>null</td><td>&quot;2022-01-31&quot;</td><td>null</td><td>null</td><td>8.0</td><td>2.0</td></tr><tr><td>57551</td><td>null</td><td>null</td><td>null</td><td>null</td><td>2926195.3</td><td>&quot;1982-05-01&quot;</td><td>null</td><td>1.0</td><td>3.0</td><td>1.0</td><td>4.0</td><td>1.0</td><td>&quot;2fc785b2&quot;</td><td>&quot;6b2ae0fa&quot;</td><td>&quot;a55475b1&quot;</td><td>3.0</td><td>null</td><td>null</td><td>null</td><td>null</td><td>null</td><td>null</td><td>null</td><td>null</td><td>null</td><td>null</td><td>null</td><td>null</td><td>null</td><td>null</td><td>null</td><td>null</td><td>2.0</td><td>&quot;3439d993&quot;</td><td>&quot;a55475b1&quot;</td><td>4.0</td><td>null</td><td>null</td><td>null</td><td>null</td><td>null</td><td>null</td><td>null</td><td>null</td><td>null</td><td>null</td><td>null</td><td>&quot;2020-12-11&quot;</td><td>null</td><td>null</td><td>5.0</td><td>5.0</td></tr></tbody></table></div>"
      ],
      "text/plain": [
       "+-----+-----+-----+-----+-----+-----+-----+-----+-----+-----+-----+-----+-----+-----+-----+-----+-----+-----+-----+-----+-----+-----+-----+-----+-----+-----+-----+-----+-----+-----+-----+-----+-----+-----+-----+-----+-----+-----+-----+-----+-----+-----+-----+-----+-----+-----+-----+-----+-----+-----+-----+-----+-----+\n",
       "| cas | ass | ass | ass | bir | con | dat | dat | day | day | day | day | day | des | edu | edu | fir | for | for | for | for | for | for | for | for | for | for | for | for | for | for | for | for | fou | mar | mar | num | pmt | pmt | pmt | pmt | pmt | pmt | pmt | pmt | req | res | res | res | ris | ris | sec | thi |\n",
       "| e_i | ign | ign | ign | thd | tra | eof | eof | s12 | s18 | s30 | s36 | s90 | cri | cat | cat | stq | 3ye | 3ye | 3ye | mon | mon | mon | qua | qua | qua | tod | wee | wee | wee | yea | yea | yea | rth | ita | ita | ber | ave | ave | ave | cou | cou | cou | sco | ssu | ues | pon | pon | pon | kas | kas | ond | rdq |\n",
       "|  d  | men | men | men | ate | cts | bir | bir | 0_1 | 0_2 | _16 | 0_5 | _31 | pti | ion | ion | uar | ars | ars | ars | th_ | th_ | th_ | rte | rte | rte | ay_ | k_1 | k_5 | k_6 | r_6 | r_8 | r_8 | qua | lst | lst | ofq | rag | rag | rag | nt_ | nt_ | nt_ | unt | m_4 | tty | sed | sed | sed | ses | ses | qua | uar |\n",
       "|     | tda | tda | tda | _57 | sum | th_ | th_ | 23L | 56L |  5L | 12L |  0L | on_ | _11 | _88 | ter | _12 | _50 | _58 | 118 | 206 | 535 | r_1 | r_4 | r_6 | 109 | 077 | 28L | 01L | 18L | 18L | 50L | rte | _38 | _89 | uer | e_3 | e_4 | e_4 | 452 | 495 | 693 | _42 |  5A | pe_ | ate | ate | ate | men | men | rte | ter |\n",
       "|     | te_ | te_ | te_ |  4D | _50 | 337 | 342 |     |     |     |     |     | 508 | 03M |  M  | _10 |  8L |  4L |  4L |  L  |  L  |  L  | 017 | 62L | 34L |  2L |  L  |     |     |     |     |     | r_4 |  5M |  3M | ies |  A  | 527 | 955 | 722 | 561 |  L  |  3L |     | 452 | _10 | _45 | _49 | t_3 | t_9 | r_7 | _10 |\n",
       "|     | 238 | 452 | 495 |     | 857 |  D  |  D  |     |     |     |     |     | 571 |     |     |  3L |     |     |     |     |     |     |  L  |     |     |     |     |     |     |     |     |     | 40L |     |     | _37 |     | 227 | 615 |  9L |  7L |     |     |     | 519 | 12D | 272 | 176 | 02T | 40T | 66L | 82L |\n",
       "|     |  D  | 723 | 561 |     | 16L |     |     |     |     |     |     |     |  4M |     |     |     |     |     |     |     |     |     |     |     |     |     |     |     |     |     |     |     |     |     |     |  3L |     |  A  |  A  |     |     |     |     |     |  2L |     | 33D | 13D |     |     |     |     |\n",
       "|     |     |  5D |  6D |     |     |     |     |     |     |     |     |     |     |     |     |     |     |     |     |     |     |     |     |     |     |     |     |     |     |     |     |     |     |     |     |     |     |     |     |     |     |     |     |     |     |     |     |     |     |     |     |     |\n",
       "+=============================================================================================================================================================================================================================================================================================================================+\n",
       "| 575 | nul | nul | nul | nul | 151 | 198 | nul | 2.0 | 4.0 | 1.0 | 8.0 | 2.0 | 2fc | 6b2 | a55 | 4.0 | nul | nul | nul | nul | nul | nul | nul | nul | nul | nul | nul | nul | nul | nul | nul | nul | 9.0 | 38c | a55 | 8.0 | nul | nul | nul | nul | nul | nul | nul | nul | nul | nul | nul | 202 | nul | nul | 2.0 | 3.0 |\n",
       "|  43 |  l  |  l  |  l  |  l  | 364 | 0-1 |  l  |     |     |     |     |     | 785 | ae0 | 475 |     |  l  |  l  |  l  |  l  |  l  |  l  |  l  |  l  |  l  |  l  |  l  |  l  |  l  |  l  |  l  |  l  |     | 061 | 475 |     |  l  |  l  |  l  |  l  |  l  |  l  |  l  |  l  |  l  |  l  |  l  | 1-0 |  l  |  l  |     |     |\n",
       "|     |     |     |     |     |  .0 | 1-0 |     |     |     |     |     |     |  b2 |  fa |  b1 |     |     |     |     |     |     |     |     |     |     |     |     |     |     |     |     |     |     |  ee |  b1 |     |     |     |     |     |     |     |     |     |     |     |     | 5-2 |     |     |     |     |\n",
       "|     |     |     |     |     |     |  1  |     |     |     |     |     |     |     |     |     |     |     |     |     |     |     |     |     |     |     |     |     |     |     |     |     |     |     |     |     |     |     |     |     |     |     |     |     |     |     |     |     |  8  |     |     |     |     |\n",
       "| 575 | nul | nul | 201 | nul | 1.5 | 195 | nul | 6.0 | 9.0 | 3.0 | 12. | 4.0 | 2fc | 39a | a55 | 9.0 | nul | nul | nul | nul | nul | nul | nul | nul | nul | nul | nul | nul | nul | nul | nul | nul | 5.0 | a7f | a55 | 12. | nul | nul | 268 | nul | 14. | nul | nul | nul | nul | nul | nul | 202 | nul | nul | 8.0 | 2.0 |\n",
       "|  49 |  l  |  l  | 8-0 |  l  | 631 | 9-1 |  l  |     |     |     |  0  |     | 785 | 085 | 475 |     |  l  |  l  |  l  |  l  |  l  |  l  |  l  |  l  |  l  |  l  |  l  |  l  |  l  |  l  |  l  |  l  |     | cb6 | 475 |  0  |  l  |  l  | 15. |  l  |  0  |  l  |  l  |  l  |  l  |  l  |  l  | 2-0 |  l  |  l  |     |     |\n",
       "|     |     |     | 5-0 |     |  e6 | 1-0 |     |     |     |     |     |     |  b2 |  3f |  b1 |     |     |     |     |     |     |     |     |     |     |     |     |     |     |     |     |     |     |  e5 |  b1 |     |     |     |  6  |     |     |     |     |     |     |     |     | 1-3 |     |     |     |     |\n",
       "|     |     |     |  6  |     |     |  1  |     |     |     |     |     |     |     |     |     |     |     |     |     |     |     |     |     |     |     |     |     |     |     |     |     |     |     |     |     |     |     |     |     |     |     |     |     |     |     |     |     |  1  |     |     |     |     |\n",
       "| 575 | nul | nul | nul | nul | 292 | 198 | nul | 1.0 | 3.0 | 1.0 | 4.0 | 1.0 | 2fc | 6b2 | a55 | 3.0 | nul | nul | nul | nul | nul | nul | nul | nul | nul | nul | nul | nul | nul | nul | nul | nul | 2.0 | 343 | a55 | 4.0 | nul | nul | nul | nul | nul | nul | nul | nul | nul | nul | nul | 202 | nul | nul | 5.0 | 5.0 |\n",
       "|  51 |  l  |  l  |  l  |  l  | 619 | 2-0 |  l  |     |     |     |     |     | 785 | ae0 | 475 |     |  l  |  l  |  l  |  l  |  l  |  l  |  l  |  l  |  l  |  l  |  l  |  l  |  l  |  l  |  l  |  l  |     | 9d9 | 475 |     |  l  |  l  |  l  |  l  |  l  |  l  |  l  |  l  |  l  |  l  |  l  | 0-1 |  l  |  l  |     |     |\n",
       "|     |     |     |     |     | 5.3 | 5-0 |     |     |     |     |     |     |  b2 |  fa |  b1 |     |     |     |     |     |     |     |     |     |     |     |     |     |     |     |     |     |     |  93 |  b1 |     |     |     |     |     |     |     |     |     |     |     |     | 2-1 |     |     |     |     |\n",
       "|     |     |     |     |     |     |  1  |     |     |     |     |     |     |     |     |     |     |     |     |     |     |     |     |     |     |     |     |     |     |     |     |     |     |     |     |     |     |     |     |     |     |     |     |     |     |     |     |     |  1  |     |     |     |     |\n",
       "+-----+-----+-----+-----+-----+-----+-----+-----+-----+-----+-----+-----+-----+-----+-----+-----+-----+-----+-----+-----+-----+-----+-----+-----+-----+-----+-----+-----+-----+-----+-----+-----+-----+-----+-----+-----+-----+-----+-----+-----+-----+-----+-----+-----+-----+-----+-----+-----+-----+-----+-----+-----+-----+"
      ]
     },
     "metadata": {},
     "output_type": "display_data"
    },
    {
     "data": {
      "text/html": [
       "<div><style>\n",
       ".dataframe > thead > tr,\n",
       ".dataframe > tbody > tr {\n",
       "  text-align: right;\n",
       "  white-space: pre-wrap;\n",
       "}\n",
       "</style>\n",
       "<table border=\"1\" class=\"dataframe\"><thead><tr><th>case_id</th><th>amount_4527230A</th><th>name_4527232M</th><th>num_group1</th><th>recorddate_4527225D</th></tr></thead><tbody><tr><td>57675</td><td>2372.2</td><td>&quot;d7cce9e8&quot;</td><td>1</td><td>&quot;2022-01-07&quot;</td></tr><tr><td>57675</td><td>2958.2</td><td>&quot;ff9eb829&quot;</td><td>2</td><td>&quot;2022-01-07&quot;</td></tr><tr><td>57675</td><td>3055.8</td><td>&quot;ff9eb829&quot;</td><td>4</td><td>&quot;2022-01-07&quot;</td></tr></tbody></table></div>"
      ],
      "text/plain": [
       "+---------+-----------------+---------------+------------+---------------------+\n",
       "| case_id | amount_4527230A | name_4527232M | num_group1 | recorddate_4527225D |\n",
       "+==============================================================================+\n",
       "|  57675  |      2372.2     |    d7cce9e8   |      1     |      2022-01-07     |\n",
       "|  57675  |      2958.2     |    ff9eb829   |      2     |      2022-01-07     |\n",
       "|  57675  |      3055.8     |    ff9eb829   |      4     |      2022-01-07     |\n",
       "+---------+-----------------+---------------+------------+---------------------+"
      ]
     },
     "metadata": {},
     "output_type": "display_data"
    },
    {
     "data": {
      "text/html": [
       "<div><style>\n",
       ".dataframe > thead > tr,\n",
       ".dataframe > tbody > tr {\n",
       "  text-align: right;\n",
       "  white-space: pre-wrap;\n",
       "}\n",
       "</style>\n",
       "<table border=\"1\" class=\"dataframe\"><thead><tr><th>case_id</th><th>amount_4917619A</th><th>deductiondate_4917603D</th><th>name_4917606M</th><th>num_group1</th></tr></thead><tbody><tr><td>57543</td><td>24867.0</td><td>&quot;2020-12-15&quot;</td><td>&quot;787c689d&quot;</td><td>0</td></tr><tr><td>57543</td><td>24867.0</td><td>&quot;2021-02-03&quot;</td><td>&quot;787c689d&quot;</td><td>1</td></tr><tr><td>57543</td><td>24867.0</td><td>&quot;2021-02-26&quot;</td><td>&quot;787c689d&quot;</td><td>2</td></tr></tbody></table></div>"
      ],
      "text/plain": [
       "+---------+-----------------+------------------------+---------------+------------+\n",
       "| case_id | amount_4917619A | deductiondate_4917603D | name_4917606M | num_group1 |\n",
       "+=================================================================================+\n",
       "|  57543  |     24867.0     |       2020-12-15       |    787c689d   |      0     |\n",
       "|  57543  |     24867.0     |       2021-02-03       |    787c689d   |      1     |\n",
       "|  57543  |     24867.0     |       2021-02-26       |    787c689d   |      2     |\n",
       "+---------+-----------------+------------------------+---------------+------------+"
      ]
     },
     "metadata": {},
     "output_type": "display_data"
    },
    {
     "data": {
      "text/html": [
       "<div><style>\n",
       ".dataframe > thead > tr,\n",
       ".dataframe > tbody > tr {\n",
       "  text-align: right;\n",
       "  white-space: pre-wrap;\n",
       "}\n",
       "</style>\n",
       "<table border=\"1\" class=\"dataframe\"><thead><tr><th>case_id</th><th>employername_160M</th><th>num_group1</th><th>pmtamount_36A</th><th>processingdate_168D</th></tr></thead><tbody></tbody></table></div>"
      ],
      "text/plain": [
       "+---------+-------------------+------------+---------------+---------------------+\n",
       "| case_id | employername_160M | num_group1 | pmtamount_36A | processingdate_168D |\n",
       "+================================================================================+\n",
       "+---------+-------------------+------------+---------------+---------------------+"
      ]
     },
     "metadata": {},
     "output_type": "display_data"
    },
    {
     "data": {
      "text/html": [
       "<div><style>\n",
       ".dataframe > thead > tr,\n",
       ".dataframe > tbody > tr {\n",
       "  text-align: right;\n",
       "  white-space: pre-wrap;\n",
       "}\n",
       "</style>\n",
       "<table border=\"1\" class=\"dataframe\"><thead><tr><th>case_id</th><th>actualdpd_943P</th><th>annuity_853A</th><th>approvaldate_319D</th><th>byoccupationinc_3656910L</th><th>cancelreason_3545846M</th><th>childnum_21L</th><th>creationdate_885D</th><th>credacc_actualbalance_314A</th><th>credacc_credlmt_575A</th><th>credacc_maxhisbal_375A</th><th>credacc_minhisbal_90A</th><th>credacc_status_367L</th><th>credacc_transactions_402L</th><th>credamount_590A</th><th>credtype_587L</th><th>currdebt_94A</th><th>dateactivated_425D</th><th>district_544M</th><th>downpmt_134A</th><th>dtlastpmt_581D</th><th>dtlastpmtallstes_3545839D</th><th>education_1138M</th><th>employedfrom_700D</th><th>familystate_726L</th><th>firstnonzeroinstldate_307D</th><th>inittransactioncode_279L</th><th>isbidproduct_390L</th><th>isdebitcard_527L</th><th>mainoccupationinc_437A</th><th>maxdpdtolerance_577P</th><th>num_group1</th><th>outstandingdebt_522A</th><th>pmtnum_8L</th><th>postype_4733339M</th><th>profession_152M</th><th>rejectreason_755M</th><th>rejectreasonclient_4145042M</th><th>revolvingaccount_394A</th><th>status_219L</th><th>tenor_203L</th></tr></thead><tbody><tr><td>2</td><td>0.0</td><td>640.2</td><td>null</td><td>null</td><td>&quot;a55475b1&quot;</td><td>0.0</td><td>&quot;2013-04-03&quot;</td><td>null</td><td>0.0</td><td>null</td><td>null</td><td>null</td><td>null</td><td>10000.0</td><td>&quot;CAL&quot;</td><td>null</td><td>null</td><td>&quot;P136_108_173&quot;</td><td>0.0</td><td>null</td><td>null</td><td>&quot;P97_36_170&quot;</td><td>&quot;2010-02-15&quot;</td><td>&quot;SINGLE&quot;</td><td>&quot;2013-05-04&quot;</td><td>&quot;CASH&quot;</td><td>false</td><td>null</td><td>8200.0</td><td>null</td><td>0</td><td>null</td><td>24.0</td><td>&quot;a55475b1&quot;</td><td>&quot;a55475b1&quot;</td><td>&quot;a55475b1&quot;</td><td>&quot;a55475b1&quot;</td><td>null</td><td>&quot;D&quot;</td><td>24.0</td></tr><tr><td>2</td><td>0.0</td><td>1682.4</td><td>null</td><td>null</td><td>&quot;a55475b1&quot;</td><td>0.0</td><td>&quot;2013-04-03&quot;</td><td>null</td><td>0.0</td><td>null</td><td>null</td><td>null</td><td>null</td><td>16000.0</td><td>&quot;CAL&quot;</td><td>null</td><td>null</td><td>&quot;P136_108_173&quot;</td><td>0.0</td><td>null</td><td>null</td><td>&quot;P97_36_170&quot;</td><td>&quot;2010-02-15&quot;</td><td>&quot;SINGLE&quot;</td><td>&quot;2013-05-04&quot;</td><td>&quot;CASH&quot;</td><td>false</td><td>null</td><td>8200.0</td><td>null</td><td>1</td><td>null</td><td>12.0</td><td>&quot;a55475b1&quot;</td><td>&quot;a55475b1&quot;</td><td>&quot;a55475b1&quot;</td><td>&quot;a55475b1&quot;</td><td>null</td><td>&quot;D&quot;</td><td>12.0</td></tr><tr><td>3</td><td>0.0</td><td>6140.0</td><td>null</td><td>null</td><td>&quot;P94_109_143&quot;</td><td>null</td><td>&quot;2019-01-07&quot;</td><td>null</td><td>0.0</td><td>null</td><td>null</td><td>null</td><td>null</td><td>59999.8</td><td>&quot;CAL&quot;</td><td>null</td><td>null</td><td>&quot;P131_33_167&quot;</td><td>0.0</td><td>null</td><td>null</td><td>&quot;P97_36_170&quot;</td><td>&quot;2018-05-15&quot;</td><td>&quot;MARRIED&quot;</td><td>&quot;2019-02-07&quot;</td><td>&quot;CASH&quot;</td><td>false</td><td>null</td><td>11000.0</td><td>null</td><td>0</td><td>null</td><td>12.0</td><td>&quot;a55475b1&quot;</td><td>&quot;a55475b1&quot;</td><td>&quot;P94_109_143&quot;</td><td>&quot;a55475b1&quot;</td><td>null</td><td>&quot;D&quot;</td><td>12.0</td></tr></tbody></table></div>"
      ],
      "text/plain": [
       "+-----+-----+-----+-----+-----+-----+-----+-----+-----+-----+-----+-----+-----+-----+-----+-----+-----+-----+-----+-----+-----+-----+-----+-----+-----+-----+-----+-----+-----+-----+-----+-----+-----+-----+-----+-----+-----+-----+-----+-----+-----+\n",
       "| cas | act | ann | app | byo | can | chi | cre | cre | cre | cre | cre | cre | cre | cre | cre | cur | dat | dis | dow | dtl | dtl | edu | emp | fam | fir | ini | isb | isd | mai | max | num | out | pmt | pos | pro | rej | rej | rev | sta | ten |\n",
       "| e_i | ual | uit | rov | ccu | cel | ldn | ati | dac | dac | dac | dac | dac | dac | dam | dty | rde | eac | tri | npm | ast | ast | cat | loy | ily | stn | ttr | idp | ebi | noc | dpd | _gr | sta | num | typ | fes | ect | ect | olv | tus | or_ |\n",
       "|  d  | dpd | y_8 | ald | pat | rea | um_ | ond | c_a | c_c | c_m | c_m | c_s | c_t | oun | pe_ | bt_ | tiv | ct_ | t_1 | pmt | pmt | ion | edf | sta | onz | ans | rod | tca | cup | tol | oup | ndi | _8L | e_4 | sio | rea | rea | ing | _21 | 203 |\n",
       "|     | _94 | 53A | ate | ion | son | 21L | ate | ctu | red | axh | inh | tat | ran | t_5 | 587 | 94A | ate | 544 | 34A | _58 | all | _11 | rom | te_ | ero | act | uct | rd_ | ati | era |  1  | ngd |     | 733 | n_1 | son | son | acc |  9L |  L  |\n",
       "|     |  3P |     | _31 | inc | _35 |     | _88 | alb | lmt | isb | isb | us_ | sac | 90A |  L  |     | d_4 |  M  |     |  1D | ste | 38M | _70 | 726 | ins | ion | _39 | 527 | oni | nce |     | ebt |     | 339 | 52M | _75 | cli | oun |     |     |\n",
       "|     |     |     |  9D | _36 | 458 |     |  5D | ala | _57 | al_ | al_ | 367 | tio |     |     |     | 25D |     |     |     | s_3 |     |  0D |  L  | tld | cod |  0L |  L  | nc_ | _57 |     | _52 |     |  M  |     |  5M | ent | t_3 |     |     |\n",
       "|     |     |     |     | 569 | 46M |     |     | nce |  5A | 375 | 90A |  L  | ns_ |     |     |     |     |     |     |     | 545 |     |     |     | ate | e_2 |     |     | 437 |  7P |     |  2A |     |     |     |     | _41 | 94A |     |     |\n",
       "|     |     |     |     | 10L |     |     |     | _31 |     |  A  |     |     | 402 |     |     |     |     |     |     |     | 839 |     |     |     | _30 | 79L |     |     |  A  |     |     |     |     |     |     |     | 450 |     |     |     |\n",
       "|     |     |     |     |     |     |     |     |  4A |     |     |     |     |  L  |     |     |     |     |     |     |     |  D  |     |     |     |  7D |     |     |     |     |     |     |     |     |     |     |     | 42M |     |     |     |\n",
       "+=====================================================================================================================================================================================================================================================+\n",
       "|  2  | 0.0 | 640 | nul | nul | a55 | 0.0 | 201 | nul | 0.0 | nul | nul | nul | nul | 100 | CAL | nul | nul | P13 | 0.0 | nul | nul | P97 | 201 | SIN | 201 | CAS | fal | nul | 820 | nul |  0  | nul | 24. | a55 | a55 | a55 | a55 | nul |  D  | 24. |\n",
       "|     |     |  .2 |  l  |  l  | 475 |     | 3-0 |  l  |     |  l  |  l  |  l  |  l  | 00. |     |  l  |  l  | 6_1 |     |  l  |  l  | _36 | 0-0 | GLE | 3-0 |  H  |  se |  l  | 0.0 |  l  |     |  l  |  0  | 475 | 475 | 475 | 475 |  l  |     |  0  |\n",
       "|     |     |     |     |     |  b1 |     | 4-0 |     |     |     |     |     |     |  0  |     |     |     | 08_ |     |     |     | _17 | 2-1 |     | 5-0 |     |     |     |     |     |     |     |     |  b1 |  b1 |  b1 |  b1 |     |     |     |\n",
       "|     |     |     |     |     |     |     |  3  |     |     |     |     |     |     |     |     |     |     | 173 |     |     |     |  0  |  5  |     |  4  |     |     |     |     |     |     |     |     |     |     |     |     |     |     |     |\n",
       "|  2  | 0.0 | 168 | nul | nul | a55 | 0.0 | 201 | nul | 0.0 | nul | nul | nul | nul | 160 | CAL | nul | nul | P13 | 0.0 | nul | nul | P97 | 201 | SIN | 201 | CAS | fal | nul | 820 | nul |  1  | nul | 12. | a55 | a55 | a55 | a55 | nul |  D  | 12. |\n",
       "|     |     | 2.4 |  l  |  l  | 475 |     | 3-0 |  l  |     |  l  |  l  |  l  |  l  | 00. |     |  l  |  l  | 6_1 |     |  l  |  l  | _36 | 0-0 | GLE | 3-0 |  H  |  se |  l  | 0.0 |  l  |     |  l  |  0  | 475 | 475 | 475 | 475 |  l  |     |  0  |\n",
       "|     |     |     |     |     |  b1 |     | 4-0 |     |     |     |     |     |     |  0  |     |     |     | 08_ |     |     |     | _17 | 2-1 |     | 5-0 |     |     |     |     |     |     |     |     |  b1 |  b1 |  b1 |  b1 |     |     |     |\n",
       "|     |     |     |     |     |     |     |  3  |     |     |     |     |     |     |     |     |     |     | 173 |     |     |     |  0  |  5  |     |  4  |     |     |     |     |     |     |     |     |     |     |     |     |     |     |     |\n",
       "|  3  | 0.0 | 614 | nul | nul | P94 | nul | 201 | nul | 0.0 | nul | nul | nul | nul | 599 | CAL | nul | nul | P13 | 0.0 | nul | nul | P97 | 201 | MAR | 201 | CAS | fal | nul | 110 | nul |  0  | nul | 12. | a55 | a55 | P94 | a55 | nul |  D  | 12. |\n",
       "|     |     | 0.0 |  l  |  l  | _10 |  l  | 9-0 |  l  |     |  l  |  l  |  l  |  l  | 99. |     |  l  |  l  | 1_3 |     |  l  |  l  | _36 | 8-0 | RIE | 9-0 |  H  |  se |  l  | 00. |  l  |     |  l  |  0  | 475 | 475 | _10 | 475 |  l  |     |  0  |\n",
       "|     |     |     |     |     | 9_1 |     | 1-0 |     |     |     |     |     |     |  8  |     |     |     | 3_1 |     |     |     | _17 | 5-1 |  D  | 2-0 |     |     |     |  0  |     |     |     |     |  b1 |  b1 | 9_1 |  b1 |     |     |     |\n",
       "|     |     |     |     |     |  43 |     |  7  |     |     |     |     |     |     |     |     |     |     |  67 |     |     |     |  0  |  5  |     |  7  |     |     |     |     |     |     |     |     |     |     |  43 |     |     |     |     |\n",
       "+-----+-----+-----+-----+-----+-----+-----+-----+-----+-----+-----+-----+-----+-----+-----+-----+-----+-----+-----+-----+-----+-----+-----+-----+-----+-----+-----+-----+-----+-----+-----+-----+-----+-----+-----+-----+-----+-----+-----+-----+-----+"
      ]
     },
     "metadata": {},
     "output_type": "display_data"
    },
    {
     "data": {
      "text/html": [
       "<div><style>\n",
       ".dataframe > thead > tr,\n",
       ".dataframe > tbody > tr {\n",
       "  text-align: right;\n",
       "  white-space: pre-wrap;\n",
       "}\n",
       "</style>\n",
       "<table border=\"1\" class=\"dataframe\"><thead><tr><th>case_id</th><th>actualdpd_943P</th><th>annuity_853A</th><th>approvaldate_319D</th><th>byoccupationinc_3656910L</th><th>cancelreason_3545846M</th><th>childnum_21L</th><th>creationdate_885D</th><th>credacc_actualbalance_314A</th><th>credacc_credlmt_575A</th><th>credacc_maxhisbal_375A</th><th>credacc_minhisbal_90A</th><th>credacc_status_367L</th><th>credacc_transactions_402L</th><th>credamount_590A</th><th>credtype_587L</th><th>currdebt_94A</th><th>dateactivated_425D</th><th>district_544M</th><th>downpmt_134A</th><th>dtlastpmt_581D</th><th>dtlastpmtallstes_3545839D</th><th>education_1138M</th><th>employedfrom_700D</th><th>familystate_726L</th><th>firstnonzeroinstldate_307D</th><th>inittransactioncode_279L</th><th>isbidproduct_390L</th><th>isdebitcard_527L</th><th>mainoccupationinc_437A</th><th>maxdpdtolerance_577P</th><th>num_group1</th><th>outstandingdebt_522A</th><th>pmtnum_8L</th><th>postype_4733339M</th><th>profession_152M</th><th>rejectreason_755M</th><th>rejectreasonclient_4145042M</th><th>revolvingaccount_394A</th><th>status_219L</th><th>tenor_203L</th></tr></thead><tbody><tr><td>40704</td><td>0.0</td><td>7204.6</td><td>null</td><td>null</td><td>&quot;P94_109_143&quot;</td><td>null</td><td>&quot;2018-11-20&quot;</td><td>null</td><td>0.0</td><td>null</td><td>null</td><td>null</td><td>null</td><td>54000.0</td><td>&quot;CAL&quot;</td><td>null</td><td>null</td><td>&quot;P147_6_101&quot;</td><td>0.0</td><td>null</td><td>null</td><td>&quot;a55475b1&quot;</td><td>null</td><td>null</td><td>&quot;2018-12-20&quot;</td><td>&quot;CASH&quot;</td><td>false</td><td>null</td><td>40000.0</td><td>null</td><td>0</td><td>null</td><td>12.0</td><td>&quot;P46_145_78&quot;</td><td>&quot;a55475b1&quot;</td><td>&quot;P198_131_9&quot;</td><td>&quot;P94_109_143&quot;</td><td>null</td><td>&quot;D&quot;</td><td>12.0</td></tr><tr><td>40734</td><td>0.0</td><td>3870.2</td><td>null</td><td>null</td><td>&quot;P94_109_143&quot;</td><td>null</td><td>&quot;2019-12-26&quot;</td><td>null</td><td>0.0</td><td>null</td><td>null</td><td>null</td><td>null</td><td>50000.0</td><td>&quot;CAL&quot;</td><td>null</td><td>null</td><td>&quot;P111_148_100&quot;</td><td>0.0</td><td>null</td><td>null</td><td>&quot;a55475b1&quot;</td><td>null</td><td>null</td><td>&quot;2020-01-26&quot;</td><td>&quot;CASH&quot;</td><td>false</td><td>null</td><td>50000.0</td><td>null</td><td>0</td><td>null</td><td>18.0</td><td>&quot;P149_40_170&quot;</td><td>&quot;a55475b1&quot;</td><td>&quot;P45_84_106&quot;</td><td>&quot;P94_109_143&quot;</td><td>null</td><td>&quot;D&quot;</td><td>18.0</td></tr><tr><td>40737</td><td>0.0</td><td>2324.4001</td><td>null</td><td>1.0</td><td>&quot;a55475b1&quot;</td><td>0.0</td><td>&quot;2014-07-17&quot;</td><td>null</td><td>0.0</td><td>null</td><td>null</td><td>null</td><td>null</td><td>30000.0</td><td>&quot;CAL&quot;</td><td>0.0</td><td>null</td><td>&quot;a55475b1&quot;</td><td>0.0</td><td>null</td><td>null</td><td>&quot;P97_36_170&quot;</td><td>&quot;2014-01-15&quot;</td><td>&quot;MARRIED&quot;</td><td>&quot;2014-08-17&quot;</td><td>&quot;CASH&quot;</td><td>false</td><td>null</td><td>16000.0</td><td>null</td><td>0</td><td>0.0</td><td>18.0</td><td>&quot;P46_145_78&quot;</td><td>&quot;a55475b1&quot;</td><td>&quot;a55475b1&quot;</td><td>&quot;a55475b1&quot;</td><td>null</td><td>&quot;D&quot;</td><td>18.0</td></tr></tbody></table></div>"
      ],
      "text/plain": [
       "+-----+-----+-----+-----+-----+-----+-----+-----+-----+-----+-----+-----+-----+-----+-----+-----+-----+-----+-----+-----+-----+-----+-----+-----+-----+-----+-----+-----+-----+-----+-----+-----+-----+-----+-----+-----+-----+-----+-----+-----+-----+\n",
       "| cas | act | ann | app | byo | can | chi | cre | cre | cre | cre | cre | cre | cre | cre | cre | cur | dat | dis | dow | dtl | dtl | edu | emp | fam | fir | ini | isb | isd | mai | max | num | out | pmt | pos | pro | rej | rej | rev | sta | ten |\n",
       "| e_i | ual | uit | rov | ccu | cel | ldn | ati | dac | dac | dac | dac | dac | dac | dam | dty | rde | eac | tri | npm | ast | ast | cat | loy | ily | stn | ttr | idp | ebi | noc | dpd | _gr | sta | num | typ | fes | ect | ect | olv | tus | or_ |\n",
       "|  d  | dpd | y_8 | ald | pat | rea | um_ | ond | c_a | c_c | c_m | c_m | c_s | c_t | oun | pe_ | bt_ | tiv | ct_ | t_1 | pmt | pmt | ion | edf | sta | onz | ans | rod | tca | cup | tol | oup | ndi | _8L | e_4 | sio | rea | rea | ing | _21 | 203 |\n",
       "|     | _94 | 53A | ate | ion | son | 21L | ate | ctu | red | axh | inh | tat | ran | t_5 | 587 | 94A | ate | 544 | 34A | _58 | all | _11 | rom | te_ | ero | act | uct | rd_ | ati | era |  1  | ngd |     | 733 | n_1 | son | son | acc |  9L |  L  |\n",
       "|     |  3P |     | _31 | inc | _35 |     | _88 | alb | lmt | isb | isb | us_ | sac | 90A |  L  |     | d_4 |  M  |     |  1D | ste | 38M | _70 | 726 | ins | ion | _39 | 527 | oni | nce |     | ebt |     | 339 | 52M | _75 | cli | oun |     |     |\n",
       "|     |     |     |  9D | _36 | 458 |     |  5D | ala | _57 | al_ | al_ | 367 | tio |     |     |     | 25D |     |     |     | s_3 |     |  0D |  L  | tld | cod |  0L |  L  | nc_ | _57 |     | _52 |     |  M  |     |  5M | ent | t_3 |     |     |\n",
       "|     |     |     |     | 569 | 46M |     |     | nce |  5A | 375 | 90A |  L  | ns_ |     |     |     |     |     |     |     | 545 |     |     |     | ate | e_2 |     |     | 437 |  7P |     |  2A |     |     |     |     | _41 | 94A |     |     |\n",
       "|     |     |     |     | 10L |     |     |     | _31 |     |  A  |     |     | 402 |     |     |     |     |     |     |     | 839 |     |     |     | _30 | 79L |     |     |  A  |     |     |     |     |     |     |     | 450 |     |     |     |\n",
       "|     |     |     |     |     |     |     |     |  4A |     |     |     |     |  L  |     |     |     |     |     |     |     |  D  |     |     |     |  7D |     |     |     |     |     |     |     |     |     |     |     | 42M |     |     |     |\n",
       "+=====================================================================================================================================================================================================================================================+\n",
       "| 407 | 0.0 | 720 | nul | nul | P94 | nul | 201 | nul | 0.0 | nul | nul | nul | nul | 540 | CAL | nul | nul | P14 | 0.0 | nul | nul | a55 | nul | nul | 201 | CAS | fal | nul | 400 | nul |  0  | nul | 12. | P46 | a55 | P19 | P94 | nul |  D  | 12. |\n",
       "|  04 |     | 4.6 |  l  |  l  | _10 |  l  | 8-1 |  l  |     |  l  |  l  |  l  |  l  | 00. |     |  l  |  l  | 7_6 |     |  l  |  l  | 475 |  l  |  l  | 8-1 |  H  |  se |  l  | 00. |  l  |     |  l  |  0  | _14 | 475 | 8_1 | _10 |  l  |     |  0  |\n",
       "|     |     |     |     |     | 9_1 |     | 1-2 |     |     |     |     |     |     |  0  |     |     |     | _10 |     |     |     |  b1 |     |     | 2-2 |     |     |     |  0  |     |     |     |     | 5_7 |  b1 | 31_ | 9_1 |     |     |     |\n",
       "|     |     |     |     |     |  43 |     |  0  |     |     |     |     |     |     |     |     |     |     |  1  |     |     |     |     |     |     |  0  |     |     |     |     |     |     |     |     |  8  |     |  9  |  43 |     |     |     |\n",
       "| 407 | 0.0 | 387 | nul | nul | P94 | nul | 201 | nul | 0.0 | nul | nul | nul | nul | 500 | CAL | nul | nul | P11 | 0.0 | nul | nul | a55 | nul | nul | 202 | CAS | fal | nul | 500 | nul |  0  | nul | 18. | P14 | a55 | P45 | P94 | nul |  D  | 18. |\n",
       "|  34 |     | 0.2 |  l  |  l  | _10 |  l  | 9-1 |  l  |     |  l  |  l  |  l  |  l  | 00. |     |  l  |  l  | 1_1 |     |  l  |  l  | 475 |  l  |  l  | 0-0 |  H  |  se |  l  | 00. |  l  |     |  l  |  0  | 9_4 | 475 | _84 | _10 |  l  |     |  0  |\n",
       "|     |     |     |     |     | 9_1 |     | 2-2 |     |     |     |     |     |     |  0  |     |     |     | 48_ |     |     |     |  b1 |     |     | 1-2 |     |     |     |  0  |     |     |     |     | 0_1 |  b1 | _10 | 9_1 |     |     |     |\n",
       "|     |     |     |     |     |  43 |     |  6  |     |     |     |     |     |     |     |     |     |     | 100 |     |     |     |     |     |     |  6  |     |     |     |     |     |     |     |     |  70 |     |  6  |  43 |     |     |     |\n",
       "| 407 | 0.0 | 232 | nul | 1.0 | a55 | 0.0 | 201 | nul | 0.0 | nul | nul | nul | nul | 300 | CAL | 0.0 | nul | a55 | 0.0 | nul | nul | P97 | 201 | MAR | 201 | CAS | fal | nul | 160 | nul |  0  | 0.0 | 18. | P46 | a55 | a55 | a55 | nul |  D  | 18. |\n",
       "|  37 |     | 4.4 |  l  |     | 475 |     | 4-0 |  l  |     |  l  |  l  |  l  |  l  | 00. |     |     |  l  | 475 |     |  l  |  l  | _36 | 4-0 | RIE | 4-0 |  H  |  se |  l  | 00. |  l  |     |     |  0  | _14 | 475 | 475 | 475 |  l  |     |  0  |\n",
       "|     |     | 001 |     |     |  b1 |     | 7-1 |     |     |     |     |     |     |  0  |     |     |     |  b1 |     |     |     | _17 | 1-1 |  D  | 8-1 |     |     |     |  0  |     |     |     |     | 5_7 |  b1 |  b1 |  b1 |     |     |     |\n",
       "|     |     |     |     |     |     |     |  7  |     |     |     |     |     |     |     |     |     |     |     |     |     |     |  0  |  5  |     |  7  |     |     |     |     |     |     |     |     |  8  |     |     |     |     |     |     |\n",
       "+-----+-----+-----+-----+-----+-----+-----+-----+-----+-----+-----+-----+-----+-----+-----+-----+-----+-----+-----+-----+-----+-----+-----+-----+-----+-----+-----+-----+-----+-----+-----+-----+-----+-----+-----+-----+-----+-----+-----+-----+-----+"
      ]
     },
     "metadata": {},
     "output_type": "display_data"
    },
    {
     "data": {
      "text/html": [
       "<div><style>\n",
       ".dataframe > thead > tr,\n",
       ".dataframe > tbody > tr {\n",
       "  text-align: right;\n",
       "  white-space: pre-wrap;\n",
       "}\n",
       "</style>\n",
       "<table border=\"1\" class=\"dataframe\"><thead><tr><th>case_id</th><th>cacccardblochreas_147M</th><th>conts_type_509L</th><th>credacc_cards_status_52L</th><th>num_group1</th><th>num_group2</th></tr></thead><tbody><tr><td>2</td><td>null</td><td>&quot;PRIMARY_MOBILE&quot;</td><td>null</td><td>0</td><td>0</td></tr><tr><td>2</td><td>null</td><td>&quot;EMPLOYMENT_PHONE&quot;</td><td>null</td><td>0</td><td>1</td></tr><tr><td>2</td><td>null</td><td>&quot;PRIMARY_MOBILE&quot;</td><td>null</td><td>1</td><td>0</td></tr></tbody></table></div>"
      ],
      "text/plain": [
       "+---------+---------------------+------------------+---------------------+------------+------------+\n",
       "| case_id | cacccardblochreas_1 |  conts_type_509L | credacc_cards_statu | num_group1 | num_group2 |\n",
       "|         |         47M         |                  |        s_52L        |            |            |\n",
       "+==================================================================================================+\n",
       "|    2    |         null        |  PRIMARY_MOBILE  |         null        |      0     |      0     |\n",
       "|    2    |         null        | EMPLOYMENT_PHONE |         null        |      0     |      1     |\n",
       "|    2    |         null        |  PRIMARY_MOBILE  |         null        |      1     |      0     |\n",
       "+---------+---------------------+------------------+---------------------+------------+------------+"
      ]
     },
     "metadata": {},
     "output_type": "display_data"
    },
    {
     "data": {
      "text/html": [
       "<div><style>\n",
       ".dataframe > thead > tr,\n",
       ".dataframe > tbody > tr {\n",
       "  text-align: right;\n",
       "  white-space: pre-wrap;\n",
       "}\n",
       "</style>\n",
       "<table border=\"1\" class=\"dataframe\"><thead><tr><th>case_id</th><th>date_decision</th><th>MONTH</th><th>WEEK_NUM</th><th>target</th></tr></thead><tbody><tr><td>0</td><td>&quot;2019-01-03&quot;</td><td>201901</td><td>0</td><td>0</td></tr><tr><td>1</td><td>&quot;2019-01-03&quot;</td><td>201901</td><td>0</td><td>0</td></tr><tr><td>2</td><td>&quot;2019-01-04&quot;</td><td>201901</td><td>0</td><td>0</td></tr></tbody></table></div>"
      ],
      "text/plain": [
       "+---------+---------------+--------+----------+--------+\n",
       "| case_id | date_decision |  MONTH | WEEK_NUM | target |\n",
       "+======================================================+\n",
       "|    0    |   2019-01-03  | 201901 |     0    |    0   |\n",
       "|    1    |   2019-01-03  | 201901 |     0    |    0   |\n",
       "|    2    |   2019-01-04  | 201901 |     0    |    0   |\n",
       "+---------+---------------+--------+----------+--------+"
      ]
     },
     "metadata": {},
     "output_type": "display_data"
    },
    {
     "data": {
      "text/html": [
       "<div><style>\n",
       ".dataframe > thead > tr,\n",
       ".dataframe > tbody > tr {\n",
       "  text-align: right;\n",
       "  white-space: pre-wrap;\n",
       "}\n",
       "</style>\n",
       "<table border=\"1\" class=\"dataframe\"><thead><tr><th>case_id</th><th>annualeffectiverate_199L</th><th>annualeffectiverate_63L</th><th>classificationofcontr_13M</th><th>classificationofcontr_400M</th><th>contractst_545M</th><th>contractst_964M</th><th>contractsum_5085717L</th><th>credlmt_230A</th><th>credlmt_935A</th><th>dateofcredend_289D</th><th>dateofcredend_353D</th><th>dateofcredstart_181D</th><th>dateofcredstart_739D</th><th>dateofrealrepmt_138D</th><th>debtoutstand_525A</th><th>debtoverdue_47A</th><th>description_351M</th><th>dpdmax_139P</th><th>dpdmax_757P</th><th>dpdmaxdatemonth_442T</th><th>dpdmaxdatemonth_89T</th><th>dpdmaxdateyear_596T</th><th>dpdmaxdateyear_896T</th><th>financialinstitution_382M</th><th>financialinstitution_591M</th><th>instlamount_768A</th><th>instlamount_852A</th><th>interestrate_508L</th><th>lastupdate_1112D</th><th>lastupdate_388D</th><th>monthlyinstlamount_332A</th><th>monthlyinstlamount_674A</th><th>nominalrate_281L</th><th>nominalrate_498L</th><th>num_group1</th><th>numberofcontrsvalue_258L</th><th>numberofcontrsvalue_358L</th><th>numberofinstls_229L</th><th>numberofinstls_320L</th><th>numberofoutstandinstls_520L</th><th>numberofoutstandinstls_59L</th><th>numberofoverdueinstlmax_1039L</th><th>numberofoverdueinstlmax_1151L</th><th>numberofoverdueinstlmaxdat_148D</th><th>numberofoverdueinstlmaxdat_641D</th><th>numberofoverdueinstls_725L</th><th>numberofoverdueinstls_834L</th><th>outstandingamount_354A</th><th>outstandingamount_362A</th><th>overdueamount_31A</th><th>overdueamount_659A</th><th>overdueamountmax2_14A</th><th>overdueamountmax2_398A</th><th>overdueamountmax2date_1002D</th><th>overdueamountmax2date_1142D</th><th>overdueamountmax_155A</th><th>overdueamountmax_35A</th><th>overdueamountmaxdatemonth_284T</th><th>overdueamountmaxdatemonth_365T</th><th>overdueamountmaxdateyear_2T</th><th>overdueamountmaxdateyear_994T</th><th>periodicityofpmts_1102L</th><th>periodicityofpmts_837L</th><th>prolongationcount_1120L</th><th>prolongationcount_599L</th><th>purposeofcred_426M</th><th>purposeofcred_874M</th><th>refreshdate_3813885D</th><th>residualamount_488A</th><th>residualamount_856A</th><th>subjectrole_182M</th><th>subjectrole_93M</th><th>totalamount_6A</th><th>totalamount_996A</th><th>totaldebtoverduevalue_178A</th><th>totaldebtoverduevalue_718A</th><th>totaloutstanddebtvalue_39A</th><th>totaloutstanddebtvalue_668A</th></tr></thead><tbody><tr><td>388</td><td>null</td><td>null</td><td>&quot;ea6782cc&quot;</td><td>&quot;a55475b1&quot;</td><td>&quot;7241344e&quot;</td><td>&quot;a55475b1&quot;</td><td>null</td><td>null</td><td>135806.0</td><td>&quot;2020-08-06&quot;</td><td>null</td><td>null</td><td>&quot;2018-08-06&quot;</td><td>null</td><td>null</td><td>null</td><td>&quot;a55475b1&quot;</td><td>0.0</td><td>null</td><td>null</td><td>8.0</td><td>2018.0</td><td>null</td><td>&quot;a55475b1&quot;</td><td>&quot;P204_66_73&quot;</td><td>8742.8</td><td>null</td><td>null</td><td>&quot;2019-01-11&quot;</td><td>null</td><td>8742.8</td><td>null</td><td>null</td><td>null</td><td>1</td><td>null</td><td>null</td><td>null</td><td>null</td><td>null</td><td>null</td><td>0.0</td><td>null</td><td>null</td><td>null</td><td>0.0</td><td>null</td><td>null</td><td>null</td><td>null</td><td>0.0</td><td>0.0</td><td>null</td><td>null</td><td>null</td><td>0.0</td><td>null</td><td>null</td><td>8.0</td><td>2018.0</td><td>null</td><td>null</td><td>null</td><td>null</td><td>null</td><td>&quot;60c73645&quot;</td><td>&quot;a55475b1&quot;</td><td>null</td><td>null</td><td>114325.805</td><td>&quot;a55475b1&quot;</td><td>&quot;a55475b1&quot;</td><td>null</td><td>null</td><td>null</td><td>null</td><td>null</td><td>null</td></tr><tr><td>388</td><td>null</td><td>null</td><td>&quot;4408ff0f&quot;</td><td>&quot;a55475b1&quot;</td><td>&quot;7241344e&quot;</td><td>&quot;a55475b1&quot;</td><td>null</td><td>null</td><td>null</td><td>&quot;2023-06-20&quot;</td><td>null</td><td>null</td><td>&quot;2018-06-20&quot;</td><td>null</td><td>374419.5</td><td>0.0</td><td>&quot;a55475b1&quot;</td><td>0.0</td><td>null</td><td>null</td><td>7.0</td><td>2018.0</td><td>null</td><td>&quot;a55475b1&quot;</td><td>&quot;55b002a9&quot;</td><td>null</td><td>null</td><td>null</td><td>&quot;2019-01-24&quot;</td><td>null</td><td>7811.4463</td><td>null</td><td>null</td><td>null</td><td>0</td><td>2.0</td><td>1.0</td><td>null</td><td>60.0</td><td>null</td><td>54.0</td><td>0.0</td><td>null</td><td>null</td><td>null</td><td>0.0</td><td>null</td><td>null</td><td>260093.7</td><td>null</td><td>0.0</td><td>0.0</td><td>null</td><td>null</td><td>null</td><td>0.0</td><td>null</td><td>null</td><td>7.0</td><td>2018.0</td><td>null</td><td>null</td><td>30.0</td><td>null</td><td>null</td><td>&quot;96a8fdfe&quot;</td><td>&quot;a55475b1&quot;</td><td>null</td><td>null</td><td>null</td><td>&quot;ab3c25cf&quot;</td><td>&quot;ab3c25cf&quot;</td><td>null</td><td>268897.62</td><td>0.0</td><td>0.0</td><td>374419.5</td><td>0.0</td></tr><tr><td>388</td><td>null</td><td>null</td><td>&quot;a55475b1&quot;</td><td>&quot;a55475b1&quot;</td><td>&quot;a55475b1&quot;</td><td>&quot;a55475b1&quot;</td><td>null</td><td>null</td><td>null</td><td>null</td><td>null</td><td>null</td><td>null</td><td>null</td><td>null</td><td>null</td><td>&quot;a55475b1&quot;</td><td>null</td><td>null</td><td>null</td><td>null</td><td>null</td><td>null</td><td>&quot;a55475b1&quot;</td><td>&quot;a55475b1&quot;</td><td>null</td><td>null</td><td>null</td><td>null</td><td>null</td><td>null</td><td>null</td><td>null</td><td>null</td><td>2</td><td>null</td><td>null</td><td>null</td><td>null</td><td>null</td><td>null</td><td>null</td><td>null</td><td>null</td><td>null</td><td>null</td><td>null</td><td>null</td><td>null</td><td>null</td><td>null</td><td>null</td><td>null</td><td>null</td><td>null</td><td>null</td><td>null</td><td>null</td><td>null</td><td>null</td><td>null</td><td>null</td><td>null</td><td>null</td><td>null</td><td>&quot;a55475b1&quot;</td><td>&quot;a55475b1&quot;</td><td>&quot;2019-01-28&quot;</td><td>null</td><td>null</td><td>&quot;a55475b1&quot;</td><td>&quot;a55475b1&quot;</td><td>null</td><td>null</td><td>null</td><td>null</td><td>null</td><td>null</td></tr></tbody></table></div>"
      ],
      "text/plain": [
       "+-----+-----+-----+-----+-----+-----+-----+-----+-----+-----+-----+-----+-----+-----+-----+-----+-----+-----+-----+-----+-----+-----+-----+-----+-----+-----+-----+-----+-----+-----+-----+-----+-----+-----+-----+-----+-----+-----+-----+-----+-----+-----+-----+-----+-----+-----+-----+-----+-----+-----+-----+-----+-----+-----+-----+-----+-----+-----+-----+-----+-----+-----+-----+-----+-----+-----+-----+-----+-----+-----+-----+-----+-----+-----+-----+-----+-----+-----+-----+\n",
       "| cas | ann | ann | cla | cla | con | con | con | cre | cre | dat | dat | dat | dat | dat | deb | deb | des | dpd | dpd | dpd | dpd | dpd | dpd | fin | fin | ins | ins | int | las | las | mon | mon | nom | nom | num | num | num | num | num | num | num | num | num | num | num | num | num | out | out | ove | ove | ove | ove | ove | ove | ove | ove | ove | ove | ove | ove | per | per | pro | pro | pur | pur | ref | res | res | sub | sub | tot | tot | tot | tot | tot | tot |\n",
       "| e_i | ual | ual | ssi | ssi | tra | tra | tra | dlm | dlm | eof | eof | eof | eof | eof | tou | tov | cri | max | max | max | max | max | max | anc | anc | tla | tla | ere | tup | tup | thl | thl | ina | ina | _gr | ber | ber | ber | ber | ber | ber | ber | ber | ber | ber | ber | ber | sta | sta | rdu | rdu | rdu | rdu | rdu | rdu | rdu | rdu | rdu | rdu | rdu | rdu | iod | iod | lon | lon | pos | pos | res | idu | idu | jec | jec | ala | ala | ald | ald | alo | alo |\n",
       "|  d  | eff | eff | fic | fic | cts | cts | cts | t_2 | t_9 | cre | cre | cre | cre | rea | tst | erd | pti | _13 | _75 | dat | dat | dat | dat | ial | ial | mou | mou | str | dat | dat | yin | yin | lra | lra | oup | ofc | ofc | ofi | ofi | ofo | ofo | ofo | ofo | ofo | ofo | ofo | ofo | ndi | ndi | eam | eam | eam | eam | eam | eam | eam | eam | eam | eam | eam | eam | ici | ici | gat | gat | eof | eof | hda | ala | ala | tro | tro | mou | mou | ebt | ebt | uts | uts |\n",
       "|     | ect | ect | ati | ati | t_5 | t_9 | um_ | 30A | 35A | den | den | dst | dst | lre | and | ue_ | on_ |  9P |  7P | emo | emo | eye | eye | ins | ins | nt_ | nt_ | ate | e_1 | e_3 | stl | stl | te_ | te_ |  1  | ont | ont | nst | nst | uts | uts | ver | ver | ver | ver | ver | ver | nga | nga | oun | oun | oun | oun | oun | oun | oun | oun | oun | oun | oun | oun | tyo | tyo | ion | ion | cre | cre | te_ | mou | mou | le_ | le_ | nt_ | nt_ | ove | ove | tan | tan |\n",
       "|     | ive | ive | ono | ono | 45M | 64M | 508 |     |     | d_2 | d_3 | art | art | pmt | _52 | 47A | 351 |     |     | nth | nth | ar_ | ar_ | tit | tit | 768 | 852 | _50 | 112 | 88D | amo | amo | 281 | 498 |     | rsv | rsv | ls_ | ls_ | tan | tan | due | due | due | due | due | due | mou | mou | t_3 | t_6 | tma | tma | tma | tma | tma | tma | tma | tma | tma | tma | fpm | fpm | cou | cou | d_4 | d_8 | 381 | nt_ | nt_ | 182 | 93M |  6A | 996 | rdu | rdu | dde | dde |\n",
       "|     | rat | rat | fco | fco |     |     | 571 |     |     | 89D | 53D | _18 | _73 | _13 |  5A |     |  M  |     |     | _44 | _89 | 596 | 896 | uti | uti |  A  |  A  |  8L |  D  |     | unt | unt |  L  |  L  |     | alu | alu | 229 | 320 | din | din | ins | ins | ins | ins | ins | ins | nt_ | nt_ |  1A | 59A | x2_ | x2_ | x2d | x2d | x_1 | x_3 | xda | xda | xda | xda | ts_ | ts_ | nt_ | nt_ | 26M | 74M | 388 | 488 | 856 |  M  |     |     |  A  | eva | eva | btv | btv |\n",
       "|     | e_1 | e_6 | ntr | ntr |     |     |  7L |     |     |     |     |  1D |  9D |  8D |     |     |     |     |     |  2T |  T  |  T  |  T  | on_ | on_ |     |     |     |     |     | _33 | _67 |     |     |     | e_2 | e_3 |  L  |  L  | stl | stl | tlm | tlm | tlm | tlm | tls | tls | 354 | 362 |     |     | 14A | 398 | ate | ate | 55A |  5A | tem | tem | tey | tey | 110 | 837 | 112 | 599 |     |     |  5D |  A  |  A  |     |     |     |     | lue | lue | alu | alu |\n",
       "|     | 99L |  3L | _13 | _40 |     |     |     |     |     |     |     |     |     |     |     |     |     |     |     |     |     |     |     | 382 | 591 |     |     |     |     |     |  2A |  4A |     |     |     | 58L | 58L |     |     | s_5 | s_5 | ax_ | ax_ | axd | axd | _72 | _83 |  A  |  A  |     |     |     |  A  | _10 | _11 |     |     | ont | ont | ear | ear |  2L |  L  |  0L |  L  |     |     |     |     |     |     |     |     |     | _17 | _71 | e_3 | e_6 |\n",
       "|     |     |     |  M  |  0M |     |     |     |     |     |     |     |     |     |     |     |     |     |     |     |     |     |     |     |  M  |  M  |     |     |     |     |     |     |     |     |     |     |     |     |     |     | 20L |  9L | 103 | 115 | at_ | at_ |  5L |  4L |     |     |     |     |     |     | 02D | 42D |     |     | h_2 | h_3 | _2T | _99 |     |     |     |     |     |     |     |     |     |     |     |     |     |  8A |  8A |  9A | 68A |\n",
       "|     |     |     |     |     |     |     |     |     |     |     |     |     |     |     |     |     |     |     |     |     |     |     |     |     |     |     |     |     |     |     |     |     |     |     |     |     |     |     |     |     |     |  9L |  1L | 148 | 641 |     |     |     |     |     |     |     |     |     |     |     |     | 84T | 65T |     |  4T |     |     |     |     |     |     |     |     |     |     |     |     |     |     |     |     |     |\n",
       "|     |     |     |     |     |     |     |     |     |     |     |     |     |     |     |     |     |     |     |     |     |     |     |     |     |     |     |     |     |     |     |     |     |     |     |     |     |     |     |     |     |     |     |     |  D  |  D  |     |     |     |     |     |     |     |     |     |     |     |     |     |     |     |     |     |     |     |     |     |     |     |     |     |     |     |     |     |     |     |     |     |\n",
       "+=========================================================================================================================================================================================================================================================================================================================================================================================================================================================================================+\n",
       "| 388 | nul | nul | ea6 | a55 | 724 | a55 | nul | nul | 135 | 202 | nul | nul | 201 | nul | nul | nul | a55 | 0.0 | nul | nul | 8.0 | 201 | nul | a55 | P20 | 874 | nul | nul | 201 | nul | 874 | nul | nul | nul |  1  | nul | nul | nul | nul | nul | nul | 0.0 | nul | nul | nul | 0.0 | nul | nul | nul | nul | 0.0 | 0.0 | nul | nul | nul | 0.0 | nul | nul | 8.0 | 201 | nul | nul | nul | nul | nul | 60c | a55 | nul | nul | 114 | a55 | a55 | nul | nul | nul | nul | nul | nul |\n",
       "|     |  l  |  l  | 782 | 475 | 134 | 475 |  l  |  l  | 806 | 0-0 |  l  |  l  | 8-0 |  l  |  l  |  l  | 475 |     |  l  |  l  |     | 8.0 |  l  | 475 | 4_6 | 2.8 |  l  |  l  | 9-0 |  l  | 2.8 |  l  |  l  |  l  |     |  l  |  l  |  l  |  l  |  l  |  l  |     |  l  |  l  |  l  |     |  l  |  l  |  l  |  l  |     |     |  l  |  l  |  l  |     |  l  |  l  |     | 8.0 |  l  |  l  |  l  |  l  |  l  | 736 | 475 |  l  |  l  | 325 | 475 | 475 |  l  |  l  |  l  |  l  |  l  |  l  |\n",
       "|     |     |     |  cc |  b1 |  4e |  b1 |     |     |  .0 | 8-0 |     |     | 8-0 |     |     |     |  b1 |     |     |     |     |     |     |  b1 | 6_7 |     |     |     | 1-1 |     |     |     |     |     |     |     |     |     |     |     |     |     |     |     |     |     |     |     |     |     |     |     |     |     |     |     |     |     |     |     |     |     |     |     |     |  45 |  b1 |     |     | .80 |  b1 |  b1 |     |     |     |     |     |     |\n",
       "|     |     |     |     |     |     |     |     |     |     |  6  |     |     |  6  |     |     |     |     |     |     |     |     |     |     |     |  3  |     |     |     |  1  |     |     |     |     |     |     |     |     |     |     |     |     |     |     |     |     |     |     |     |     |     |     |     |     |     |     |     |     |     |     |     |     |     |     |     |     |     |     |     |     |  5  |     |     |     |     |     |     |     |     |\n",
       "| 388 | nul | nul | 440 | a55 | 724 | a55 | nul | nul | nul | 202 | nul | nul | 201 | nul | 374 | 0.0 | a55 | 0.0 | nul | nul | 7.0 | 201 | nul | a55 | 55b | nul | nul | nul | 201 | nul | 781 | nul | nul | nul |  0  | 2.0 | 1.0 | nul | 60. | nul | 54. | 0.0 | nul | nul | nul | 0.0 | nul | nul | 260 | nul | 0.0 | 0.0 | nul | nul | nul | 0.0 | nul | nul | 7.0 | 201 | nul | nul | 30. | nul | nul | 96a | a55 | nul | nul | nul | ab3 | ab3 | nul | 268 | 0.0 | 0.0 | 374 | 0.0 |\n",
       "|     |  l  |  l  | 8ff | 475 | 134 | 475 |  l  |  l  |  l  | 3-0 |  l  |  l  | 8-0 |  l  | 419 |     | 475 |     |  l  |  l  |     | 8.0 |  l  | 475 | 002 |  l  |  l  |  l  | 9-0 |  l  | 1.4 |  l  |  l  |  l  |     |     |     |  l  |  0  |  l  |  0  |     |  l  |  l  |  l  |     |  l  |  l  | 093 |  l  |     |     |  l  |  l  |  l  |     |  l  |  l  |     | 8.0 |  l  |  l  |  0  |  l  |  l  | 8fd | 475 |  l  |  l  |  l  | c25 | c25 |  l  | 897 |     |     | 419 |     |\n",
       "|     |     |     |  0f |  b1 |  4e |  b1 |     |     |     | 6-2 |     |     | 6-2 |     |  .5 |     |  b1 |     |     |     |     |     |     |  b1 |  a9 |     |     |     | 1-2 |     | 463 |     |     |     |     |     |     |     |     |     |     |     |     |     |     |     |     |     |  .7 |     |     |     |     |     |     |     |     |     |     |     |     |     |     |     |     |  fe |  b1 |     |     |     |  cf |  cf |     | .62 |     |     |  .5 |     |\n",
       "|     |     |     |     |     |     |     |     |     |     |  0  |     |     |  0  |     |     |     |     |     |     |     |     |     |     |     |     |     |     |     |  4  |     |     |     |     |     |     |     |     |     |     |     |     |     |     |     |     |     |     |     |     |     |     |     |     |     |     |     |     |     |     |     |     |     |     |     |     |     |     |     |     |     |     |     |     |     |     |     |     |     |\n",
       "| 388 | nul | nul | a55 | a55 | a55 | a55 | nul | nul | nul | nul | nul | nul | nul | nul | nul | nul | a55 | nul | nul | nul | nul | nul | nul | a55 | a55 | nul | nul | nul | nul | nul | nul | nul | nul | nul |  2  | nul | nul | nul | nul | nul | nul | nul | nul | nul | nul | nul | nul | nul | nul | nul | nul | nul | nul | nul | nul | nul | nul | nul | nul | nul | nul | nul | nul | nul | nul | a55 | a55 | 201 | nul | nul | a55 | a55 | nul | nul | nul | nul | nul | nul |\n",
       "|     |  l  |  l  | 475 | 475 | 475 | 475 |  l  |  l  |  l  |  l  |  l  |  l  |  l  |  l  |  l  |  l  | 475 |  l  |  l  |  l  |  l  |  l  |  l  | 475 | 475 |  l  |  l  |  l  |  l  |  l  |  l  |  l  |  l  |  l  |     |  l  |  l  |  l  |  l  |  l  |  l  |  l  |  l  |  l  |  l  |  l  |  l  |  l  |  l  |  l  |  l  |  l  |  l  |  l  |  l  |  l  |  l  |  l  |  l  |  l  |  l  |  l  |  l  |  l  |  l  | 475 | 475 | 9-0 |  l  |  l  | 475 | 475 |  l  |  l  |  l  |  l  |  l  |  l  |\n",
       "|     |     |     |  b1 |  b1 |  b1 |  b1 |     |     |     |     |     |     |     |     |     |     |  b1 |     |     |     |     |     |     |  b1 |  b1 |     |     |     |     |     |     |     |     |     |     |     |     |     |     |     |     |     |     |     |     |     |     |     |     |     |     |     |     |     |     |     |     |     |     |     |     |     |     |     |     |  b1 |  b1 | 1-2 |     |     |  b1 |  b1 |     |     |     |     |     |     |\n",
       "|     |     |     |     |     |     |     |     |     |     |     |     |     |     |     |     |     |     |     |     |     |     |     |     |     |     |     |     |     |     |     |     |     |     |     |     |     |     |     |     |     |     |     |     |     |     |     |     |     |     |     |     |     |     |     |     |     |     |     |     |     |     |     |     |     |     |     |     |  8  |     |     |     |     |     |     |     |     |     |     |\n",
       "+-----+-----+-----+-----+-----+-----+-----+-----+-----+-----+-----+-----+-----+-----+-----+-----+-----+-----+-----+-----+-----+-----+-----+-----+-----+-----+-----+-----+-----+-----+-----+-----+-----+-----+-----+-----+-----+-----+-----+-----+-----+-----+-----+-----+-----+-----+-----+-----+-----+-----+-----+-----+-----+-----+-----+-----+-----+-----+-----+-----+-----+-----+-----+-----+-----+-----+-----+-----+-----+-----+-----+-----+-----+-----+-----+-----+-----+-----+-----+"
      ]
     },
     "metadata": {},
     "output_type": "display_data"
    },
    {
     "data": {
      "text/html": [
       "<div><style>\n",
       ".dataframe > thead > tr,\n",
       ".dataframe > tbody > tr {\n",
       "  text-align: right;\n",
       "  white-space: pre-wrap;\n",
       "}\n",
       "</style>\n",
       "<table border=\"1\" class=\"dataframe\"><thead><tr><th>case_id</th><th>annualeffectiverate_199L</th><th>annualeffectiverate_63L</th><th>classificationofcontr_13M</th><th>classificationofcontr_400M</th><th>contractst_545M</th><th>contractst_964M</th><th>contractsum_5085717L</th><th>credlmt_230A</th><th>credlmt_935A</th><th>dateofcredend_289D</th><th>dateofcredend_353D</th><th>dateofcredstart_181D</th><th>dateofcredstart_739D</th><th>dateofrealrepmt_138D</th><th>debtoutstand_525A</th><th>debtoverdue_47A</th><th>description_351M</th><th>dpdmax_139P</th><th>dpdmax_757P</th><th>dpdmaxdatemonth_442T</th><th>dpdmaxdatemonth_89T</th><th>dpdmaxdateyear_596T</th><th>dpdmaxdateyear_896T</th><th>financialinstitution_382M</th><th>financialinstitution_591M</th><th>instlamount_768A</th><th>instlamount_852A</th><th>interestrate_508L</th><th>lastupdate_1112D</th><th>lastupdate_388D</th><th>monthlyinstlamount_332A</th><th>monthlyinstlamount_674A</th><th>nominalrate_281L</th><th>nominalrate_498L</th><th>num_group1</th><th>numberofcontrsvalue_258L</th><th>numberofcontrsvalue_358L</th><th>numberofinstls_229L</th><th>numberofinstls_320L</th><th>numberofoutstandinstls_520L</th><th>numberofoutstandinstls_59L</th><th>numberofoverdueinstlmax_1039L</th><th>numberofoverdueinstlmax_1151L</th><th>numberofoverdueinstlmaxdat_148D</th><th>numberofoverdueinstlmaxdat_641D</th><th>numberofoverdueinstls_725L</th><th>numberofoverdueinstls_834L</th><th>outstandingamount_354A</th><th>outstandingamount_362A</th><th>overdueamount_31A</th><th>overdueamount_659A</th><th>overdueamountmax2_14A</th><th>overdueamountmax2_398A</th><th>overdueamountmax2date_1002D</th><th>overdueamountmax2date_1142D</th><th>overdueamountmax_155A</th><th>overdueamountmax_35A</th><th>overdueamountmaxdatemonth_284T</th><th>overdueamountmaxdatemonth_365T</th><th>overdueamountmaxdateyear_2T</th><th>overdueamountmaxdateyear_994T</th><th>periodicityofpmts_1102L</th><th>periodicityofpmts_837L</th><th>prolongationcount_1120L</th><th>prolongationcount_599L</th><th>purposeofcred_426M</th><th>purposeofcred_874M</th><th>refreshdate_3813885D</th><th>residualamount_488A</th><th>residualamount_856A</th><th>subjectrole_182M</th><th>subjectrole_93M</th><th>totalamount_6A</th><th>totalamount_996A</th><th>totaldebtoverduevalue_178A</th><th>totaldebtoverduevalue_718A</th><th>totaloutstanddebtvalue_39A</th><th>totaloutstanddebtvalue_668A</th></tr></thead><tbody><tr><td>19694</td><td>null</td><td>null</td><td>&quot;ea6782cc&quot;</td><td>&quot;a55475b1&quot;</td><td>&quot;7241344e&quot;</td><td>&quot;a55475b1&quot;</td><td>null</td><td>null</td><td>0.0</td><td>&quot;2020-09-29&quot;</td><td>null</td><td>null</td><td>&quot;2014-09-29&quot;</td><td>null</td><td>43315.26</td><td>0.0</td><td>&quot;a55475b1&quot;</td><td>20.0</td><td>null</td><td>null</td><td>12.0</td><td>2017.0</td><td>null</td><td>&quot;a55475b1&quot;</td><td>&quot;P204_66_73&quot;</td><td>0.0</td><td>null</td><td>null</td><td>&quot;2019-06-27&quot;</td><td>null</td><td>0.0</td><td>null</td><td>null</td><td>null</td><td>0</td><td>2.0</td><td>8.0</td><td>null</td><td>null</td><td>null</td><td>null</td><td>22.0</td><td>null</td><td>null</td><td>&quot;2017-11-21&quot;</td><td>0.0</td><td>null</td><td>null</td><td>null</td><td>null</td><td>0.0</td><td>2967.666</td><td>null</td><td>null</td><td>&quot;2018-03-31&quot;</td><td>2967.666</td><td>null</td><td>null</td><td>4.0</td><td>2018.0</td><td>null</td><td>null</td><td>null</td><td>null</td><td>null</td><td>&quot;60c73645&quot;</td><td>&quot;a55475b1&quot;</td><td>null</td><td>null</td><td>0.0</td><td>&quot;ab3c25cf&quot;</td><td>&quot;ab3c25cf&quot;</td><td>null</td><td>null</td><td>0.0</td><td>0.0</td><td>43315.26</td><td>0.0</td></tr><tr><td>19694</td><td>null</td><td>null</td><td>&quot;ea6782cc&quot;</td><td>&quot;a55475b1&quot;</td><td>&quot;7241344e&quot;</td><td>&quot;a55475b1&quot;</td><td>null</td><td>null</td><td>null</td><td>&quot;2020-04-14&quot;</td><td>null</td><td>null</td><td>&quot;2016-04-14&quot;</td><td>null</td><td>null</td><td>null</td><td>&quot;a55475b1&quot;</td><td>19.0</td><td>null</td><td>null</td><td>3.0</td><td>2018.0</td><td>null</td><td>&quot;a55475b1&quot;</td><td>&quot;P150_136_157&quot;</td><td>null</td><td>null</td><td>null</td><td>&quot;2019-07-03&quot;</td><td>null</td><td>5155.5425</td><td>null</td><td>null</td><td>null</td><td>1</td><td>null</td><td>null</td><td>null</td><td>47.0</td><td>null</td><td>9.0</td><td>21.0</td><td>null</td><td>null</td><td>&quot;2018-03-08&quot;</td><td>0.0</td><td>null</td><td>null</td><td>43315.26</td><td>null</td><td>0.0</td><td>5155.344</td><td>null</td><td>null</td><td>&quot;2017-01-19&quot;</td><td>5061.54</td><td>null</td><td>null</td><td>10.0</td><td>2017.0</td><td>null</td><td>null</td><td>30.0</td><td>null</td><td>null</td><td>&quot;96a8fdfe&quot;</td><td>&quot;a55475b1&quot;</td><td>null</td><td>null</td><td>null</td><td>&quot;a55475b1&quot;</td><td>&quot;a55475b1&quot;</td><td>null</td><td>170000.0</td><td>null</td><td>null</td><td>null</td><td>null</td></tr><tr><td>19694</td><td>null</td><td>null</td><td>&quot;a55475b1&quot;</td><td>&quot;a55475b1&quot;</td><td>&quot;a55475b1&quot;</td><td>&quot;a55475b1&quot;</td><td>null</td><td>null</td><td>null</td><td>null</td><td>null</td><td>null</td><td>null</td><td>null</td><td>null</td><td>null</td><td>&quot;a55475b1&quot;</td><td>null</td><td>null</td><td>null</td><td>null</td><td>null</td><td>null</td><td>&quot;a55475b1&quot;</td><td>&quot;a55475b1&quot;</td><td>null</td><td>null</td><td>null</td><td>null</td><td>null</td><td>null</td><td>null</td><td>null</td><td>null</td><td>2</td><td>null</td><td>null</td><td>null</td><td>null</td><td>null</td><td>null</td><td>null</td><td>null</td><td>null</td><td>null</td><td>null</td><td>null</td><td>null</td><td>null</td><td>null</td><td>null</td><td>null</td><td>null</td><td>null</td><td>null</td><td>null</td><td>null</td><td>null</td><td>null</td><td>null</td><td>null</td><td>null</td><td>null</td><td>null</td><td>null</td><td>&quot;a55475b1&quot;</td><td>&quot;a55475b1&quot;</td><td>&quot;2019-07-10&quot;</td><td>null</td><td>null</td><td>&quot;a55475b1&quot;</td><td>&quot;a55475b1&quot;</td><td>null</td><td>null</td><td>null</td><td>null</td><td>null</td><td>null</td></tr></tbody></table></div>"
      ],
      "text/plain": [
       "+-----+-----+-----+-----+-----+-----+-----+-----+-----+-----+-----+-----+-----+-----+-----+-----+-----+-----+-----+-----+-----+-----+-----+-----+-----+-----+-----+-----+-----+-----+-----+-----+-----+-----+-----+-----+-----+-----+-----+-----+-----+-----+-----+-----+-----+-----+-----+-----+-----+-----+-----+-----+-----+-----+-----+-----+-----+-----+-----+-----+-----+-----+-----+-----+-----+-----+-----+-----+-----+-----+-----+-----+-----+-----+-----+-----+-----+-----+-----+\n",
       "| cas | ann | ann | cla | cla | con | con | con | cre | cre | dat | dat | dat | dat | dat | deb | deb | des | dpd | dpd | dpd | dpd | dpd | dpd | fin | fin | ins | ins | int | las | las | mon | mon | nom | nom | num | num | num | num | num | num | num | num | num | num | num | num | num | out | out | ove | ove | ove | ove | ove | ove | ove | ove | ove | ove | ove | ove | per | per | pro | pro | pur | pur | ref | res | res | sub | sub | tot | tot | tot | tot | tot | tot |\n",
       "| e_i | ual | ual | ssi | ssi | tra | tra | tra | dlm | dlm | eof | eof | eof | eof | eof | tou | tov | cri | max | max | max | max | max | max | anc | anc | tla | tla | ere | tup | tup | thl | thl | ina | ina | _gr | ber | ber | ber | ber | ber | ber | ber | ber | ber | ber | ber | ber | sta | sta | rdu | rdu | rdu | rdu | rdu | rdu | rdu | rdu | rdu | rdu | rdu | rdu | iod | iod | lon | lon | pos | pos | res | idu | idu | jec | jec | ala | ala | ald | ald | alo | alo |\n",
       "|  d  | eff | eff | fic | fic | cts | cts | cts | t_2 | t_9 | cre | cre | cre | cre | rea | tst | erd | pti | _13 | _75 | dat | dat | dat | dat | ial | ial | mou | mou | str | dat | dat | yin | yin | lra | lra | oup | ofc | ofc | ofi | ofi | ofo | ofo | ofo | ofo | ofo | ofo | ofo | ofo | ndi | ndi | eam | eam | eam | eam | eam | eam | eam | eam | eam | eam | eam | eam | ici | ici | gat | gat | eof | eof | hda | ala | ala | tro | tro | mou | mou | ebt | ebt | uts | uts |\n",
       "|     | ect | ect | ati | ati | t_5 | t_9 | um_ | 30A | 35A | den | den | dst | dst | lre | and | ue_ | on_ |  9P |  7P | emo | emo | eye | eye | ins | ins | nt_ | nt_ | ate | e_1 | e_3 | stl | stl | te_ | te_ |  1  | ont | ont | nst | nst | uts | uts | ver | ver | ver | ver | ver | ver | nga | nga | oun | oun | oun | oun | oun | oun | oun | oun | oun | oun | oun | oun | tyo | tyo | ion | ion | cre | cre | te_ | mou | mou | le_ | le_ | nt_ | nt_ | ove | ove | tan | tan |\n",
       "|     | ive | ive | ono | ono | 45M | 64M | 508 |     |     | d_2 | d_3 | art | art | pmt | _52 | 47A | 351 |     |     | nth | nth | ar_ | ar_ | tit | tit | 768 | 852 | _50 | 112 | 88D | amo | amo | 281 | 498 |     | rsv | rsv | ls_ | ls_ | tan | tan | due | due | due | due | due | due | mou | mou | t_3 | t_6 | tma | tma | tma | tma | tma | tma | tma | tma | tma | tma | fpm | fpm | cou | cou | d_4 | d_8 | 381 | nt_ | nt_ | 182 | 93M |  6A | 996 | rdu | rdu | dde | dde |\n",
       "|     | rat | rat | fco | fco |     |     | 571 |     |     | 89D | 53D | _18 | _73 | _13 |  5A |     |  M  |     |     | _44 | _89 | 596 | 896 | uti | uti |  A  |  A  |  8L |  D  |     | unt | unt |  L  |  L  |     | alu | alu | 229 | 320 | din | din | ins | ins | ins | ins | ins | ins | nt_ | nt_ |  1A | 59A | x2_ | x2_ | x2d | x2d | x_1 | x_3 | xda | xda | xda | xda | ts_ | ts_ | nt_ | nt_ | 26M | 74M | 388 | 488 | 856 |  M  |     |     |  A  | eva | eva | btv | btv |\n",
       "|     | e_1 | e_6 | ntr | ntr |     |     |  7L |     |     |     |     |  1D |  9D |  8D |     |     |     |     |     |  2T |  T  |  T  |  T  | on_ | on_ |     |     |     |     |     | _33 | _67 |     |     |     | e_2 | e_3 |  L  |  L  | stl | stl | tlm | tlm | tlm | tlm | tls | tls | 354 | 362 |     |     | 14A | 398 | ate | ate | 55A |  5A | tem | tem | tey | tey | 110 | 837 | 112 | 599 |     |     |  5D |  A  |  A  |     |     |     |     | lue | lue | alu | alu |\n",
       "|     | 99L |  3L | _13 | _40 |     |     |     |     |     |     |     |     |     |     |     |     |     |     |     |     |     |     |     | 382 | 591 |     |     |     |     |     |  2A |  4A |     |     |     | 58L | 58L |     |     | s_5 | s_5 | ax_ | ax_ | axd | axd | _72 | _83 |  A  |  A  |     |     |     |  A  | _10 | _11 |     |     | ont | ont | ear | ear |  2L |  L  |  0L |  L  |     |     |     |     |     |     |     |     |     | _17 | _71 | e_3 | e_6 |\n",
       "|     |     |     |  M  |  0M |     |     |     |     |     |     |     |     |     |     |     |     |     |     |     |     |     |     |     |  M  |  M  |     |     |     |     |     |     |     |     |     |     |     |     |     |     | 20L |  9L | 103 | 115 | at_ | at_ |  5L |  4L |     |     |     |     |     |     | 02D | 42D |     |     | h_2 | h_3 | _2T | _99 |     |     |     |     |     |     |     |     |     |     |     |     |     |  8A |  8A |  9A | 68A |\n",
       "|     |     |     |     |     |     |     |     |     |     |     |     |     |     |     |     |     |     |     |     |     |     |     |     |     |     |     |     |     |     |     |     |     |     |     |     |     |     |     |     |     |     |  9L |  1L | 148 | 641 |     |     |     |     |     |     |     |     |     |     |     |     | 84T | 65T |     |  4T |     |     |     |     |     |     |     |     |     |     |     |     |     |     |     |     |     |\n",
       "|     |     |     |     |     |     |     |     |     |     |     |     |     |     |     |     |     |     |     |     |     |     |     |     |     |     |     |     |     |     |     |     |     |     |     |     |     |     |     |     |     |     |     |     |  D  |  D  |     |     |     |     |     |     |     |     |     |     |     |     |     |     |     |     |     |     |     |     |     |     |     |     |     |     |     |     |     |     |     |     |     |\n",
       "+=========================================================================================================================================================================================================================================================================================================================================================================================================================================================================================+\n",
       "| 196 | nul | nul | ea6 | a55 | 724 | a55 | nul | nul | 0.0 | 202 | nul | nul | 201 | nul | 433 | 0.0 | a55 | 20. | nul | nul | 12. | 201 | nul | a55 | P20 | 0.0 | nul | nul | 201 | nul | 0.0 | nul | nul | nul |  0  | 2.0 | 8.0 | nul | nul | nul | nul | 22. | nul | nul | 201 | 0.0 | nul | nul | nul | nul | 0.0 | 296 | nul | nul | 201 | 296 | nul | nul | 4.0 | 201 | nul | nul | nul | nul | nul | 60c | a55 | nul | nul | 0.0 | ab3 | ab3 | nul | nul | 0.0 | 0.0 | 433 | 0.0 |\n",
       "|  94 |  l  |  l  | 782 | 475 | 134 | 475 |  l  |  l  |     | 0-0 |  l  |  l  | 4-0 |  l  | 15. |     | 475 |  0  |  l  |  l  |  0  | 7.0 |  l  | 475 | 4_6 |     |  l  |  l  | 9-0 |  l  |     |  l  |  l  |  l  |     |     |     |  l  |  l  |  l  |  l  |  0  |  l  |  l  | 7-1 |     |  l  |  l  |  l  |  l  |     | 7.6 |  l  |  l  | 8-0 | 7.6 |  l  |  l  |     | 8.0 |  l  |  l  |  l  |  l  |  l  | 736 | 475 |  l  |  l  |     | c25 | c25 |  l  |  l  |     |     | 15. |     |\n",
       "|     |     |     |  cc |  b1 |  4e |  b1 |     |     |     | 9-2 |     |     | 9-2 |     |  26 |     |  b1 |     |     |     |     |     |     |  b1 | 6_7 |     |     |     | 6-2 |     |     |     |     |     |     |     |     |     |     |     |     |     |     |     | 1-2 |     |     |     |     |     |     |  66 |     |     | 3-3 |  66 |     |     |     |     |     |     |     |     |     |  45 |  b1 |     |     |     |  cf |  cf |     |     |     |     |  26 |     |\n",
       "|     |     |     |     |     |     |     |     |     |     |  9  |     |     |  9  |     |     |     |     |     |     |     |     |     |     |     |  3  |     |     |     |  7  |     |     |     |     |     |     |     |     |     |     |     |     |     |     |     |  1  |     |     |     |     |     |     |     |     |     |  1  |     |     |     |     |     |     |     |     |     |     |     |     |     |     |     |     |     |     |     |     |     |     |     |\n",
       "| 196 | nul | nul | ea6 | a55 | 724 | a55 | nul | nul | nul | 202 | nul | nul | 201 | nul | nul | nul | a55 | 19. | nul | nul | 3.0 | 201 | nul | a55 | P15 | nul | nul | nul | 201 | nul | 515 | nul | nul | nul |  1  | nul | nul | nul | 47. | nul | 9.0 | 21. | nul | nul | 201 | 0.0 | nul | nul | 433 | nul | 0.0 | 515 | nul | nul | 201 | 506 | nul | nul | 10. | 201 | nul | nul | 30. | nul | nul | 96a | a55 | nul | nul | nul | a55 | a55 | nul | 170 | nul | nul | nul | nul |\n",
       "|  94 |  l  |  l  | 782 | 475 | 134 | 475 |  l  |  l  |  l  | 0-0 |  l  |  l  | 6-0 |  l  |  l  |  l  | 475 |  0  |  l  |  l  |     | 8.0 |  l  | 475 | 0_1 |  l  |  l  |  l  | 9-0 |  l  | 5.5 |  l  |  l  |  l  |     |  l  |  l  |  l  |  0  |  l  |     |  0  |  l  |  l  | 8-0 |     |  l  |  l  | 15. |  l  |     | 5.3 |  l  |  l  | 7-0 | 1.5 |  l  |  l  |  0  | 7.0 |  l  |  l  |  0  |  l  |  l  | 8fd | 475 |  l  |  l  |  l  | 475 | 475 |  l  | 000 |  l  |  l  |  l  |  l  |\n",
       "|     |     |     |  cc |  b1 |  4e |  b1 |     |     |     | 4-1 |     |     | 4-1 |     |     |     |  b1 |     |     |     |     |     |     |  b1 | 36_ |     |     |     | 7-0 |     | 425 |     |     |     |     |     |     |     |     |     |     |     |     |     | 3-0 |     |     |     |  26 |     |     |  44 |     |     | 1-1 |  4  |     |     |     |     |     |     |     |     |     |  fe |  b1 |     |     |     |  b1 |  b1 |     |  .0 |     |     |     |     |\n",
       "|     |     |     |     |     |     |     |     |     |     |  4  |     |     |  4  |     |     |     |     |     |     |     |     |     |     |     | 157 |     |     |     |  3  |     |     |     |     |     |     |     |     |     |     |     |     |     |     |     |  8  |     |     |     |     |     |     |     |     |     |  9  |     |     |     |     |     |     |     |     |     |     |     |     |     |     |     |     |     |     |     |     |     |     |     |\n",
       "| 196 | nul | nul | a55 | a55 | a55 | a55 | nul | nul | nul | nul | nul | nul | nul | nul | nul | nul | a55 | nul | nul | nul | nul | nul | nul | a55 | a55 | nul | nul | nul | nul | nul | nul | nul | nul | nul |  2  | nul | nul | nul | nul | nul | nul | nul | nul | nul | nul | nul | nul | nul | nul | nul | nul | nul | nul | nul | nul | nul | nul | nul | nul | nul | nul | nul | nul | nul | nul | a55 | a55 | 201 | nul | nul | a55 | a55 | nul | nul | nul | nul | nul | nul |\n",
       "|  94 |  l  |  l  | 475 | 475 | 475 | 475 |  l  |  l  |  l  |  l  |  l  |  l  |  l  |  l  |  l  |  l  | 475 |  l  |  l  |  l  |  l  |  l  |  l  | 475 | 475 |  l  |  l  |  l  |  l  |  l  |  l  |  l  |  l  |  l  |     |  l  |  l  |  l  |  l  |  l  |  l  |  l  |  l  |  l  |  l  |  l  |  l  |  l  |  l  |  l  |  l  |  l  |  l  |  l  |  l  |  l  |  l  |  l  |  l  |  l  |  l  |  l  |  l  |  l  |  l  | 475 | 475 | 9-0 |  l  |  l  | 475 | 475 |  l  |  l  |  l  |  l  |  l  |  l  |\n",
       "|     |     |     |  b1 |  b1 |  b1 |  b1 |     |     |     |     |     |     |     |     |     |     |  b1 |     |     |     |     |     |     |  b1 |  b1 |     |     |     |     |     |     |     |     |     |     |     |     |     |     |     |     |     |     |     |     |     |     |     |     |     |     |     |     |     |     |     |     |     |     |     |     |     |     |     |     |  b1 |  b1 | 7-1 |     |     |  b1 |  b1 |     |     |     |     |     |     |\n",
       "|     |     |     |     |     |     |     |     |     |     |     |     |     |     |     |     |     |     |     |     |     |     |     |     |     |     |     |     |     |     |     |     |     |     |     |     |     |     |     |     |     |     |     |     |     |     |     |     |     |     |     |     |     |     |     |     |     |     |     |     |     |     |     |     |     |     |     |     |  0  |     |     |     |     |     |     |     |     |     |     |\n",
       "+-----+-----+-----+-----+-----+-----+-----+-----+-----+-----+-----+-----+-----+-----+-----+-----+-----+-----+-----+-----+-----+-----+-----+-----+-----+-----+-----+-----+-----+-----+-----+-----+-----+-----+-----+-----+-----+-----+-----+-----+-----+-----+-----+-----+-----+-----+-----+-----+-----+-----+-----+-----+-----+-----+-----+-----+-----+-----+-----+-----+-----+-----+-----+-----+-----+-----+-----+-----+-----+-----+-----+-----+-----+-----+-----+-----+-----+-----+-----+"
      ]
     },
     "metadata": {},
     "output_type": "display_data"
    },
    {
     "data": {
      "text/html": [
       "<div><style>\n",
       ".dataframe > thead > tr,\n",
       ".dataframe > tbody > tr {\n",
       "  text-align: right;\n",
       "  white-space: pre-wrap;\n",
       "}\n",
       "</style>\n",
       "<table border=\"1\" class=\"dataframe\"><thead><tr><th>case_id</th><th>annualeffectiverate_199L</th><th>annualeffectiverate_63L</th><th>classificationofcontr_13M</th><th>classificationofcontr_400M</th><th>contractst_545M</th><th>contractst_964M</th><th>contractsum_5085717L</th><th>credlmt_230A</th><th>credlmt_935A</th><th>dateofcredend_289D</th><th>dateofcredend_353D</th><th>dateofcredstart_181D</th><th>dateofcredstart_739D</th><th>dateofrealrepmt_138D</th><th>debtoutstand_525A</th><th>debtoverdue_47A</th><th>description_351M</th><th>dpdmax_139P</th><th>dpdmax_757P</th><th>dpdmaxdatemonth_442T</th><th>dpdmaxdatemonth_89T</th><th>dpdmaxdateyear_596T</th><th>dpdmaxdateyear_896T</th><th>financialinstitution_382M</th><th>financialinstitution_591M</th><th>instlamount_768A</th><th>instlamount_852A</th><th>interestrate_508L</th><th>lastupdate_1112D</th><th>lastupdate_388D</th><th>monthlyinstlamount_332A</th><th>monthlyinstlamount_674A</th><th>nominalrate_281L</th><th>nominalrate_498L</th><th>num_group1</th><th>numberofcontrsvalue_258L</th><th>numberofcontrsvalue_358L</th><th>numberofinstls_229L</th><th>numberofinstls_320L</th><th>numberofoutstandinstls_520L</th><th>numberofoutstandinstls_59L</th><th>numberofoverdueinstlmax_1039L</th><th>numberofoverdueinstlmax_1151L</th><th>numberofoverdueinstlmaxdat_148D</th><th>numberofoverdueinstlmaxdat_641D</th><th>numberofoverdueinstls_725L</th><th>numberofoverdueinstls_834L</th><th>outstandingamount_354A</th><th>outstandingamount_362A</th><th>overdueamount_31A</th><th>overdueamount_659A</th><th>overdueamountmax2_14A</th><th>overdueamountmax2_398A</th><th>overdueamountmax2date_1002D</th><th>overdueamountmax2date_1142D</th><th>overdueamountmax_155A</th><th>overdueamountmax_35A</th><th>overdueamountmaxdatemonth_284T</th><th>overdueamountmaxdatemonth_365T</th><th>overdueamountmaxdateyear_2T</th><th>overdueamountmaxdateyear_994T</th><th>periodicityofpmts_1102L</th><th>periodicityofpmts_837L</th><th>prolongationcount_1120L</th><th>prolongationcount_599L</th><th>purposeofcred_426M</th><th>purposeofcred_874M</th><th>refreshdate_3813885D</th><th>residualamount_488A</th><th>residualamount_856A</th><th>subjectrole_182M</th><th>subjectrole_93M</th><th>totalamount_6A</th><th>totalamount_996A</th><th>totaldebtoverduevalue_178A</th><th>totaldebtoverduevalue_718A</th><th>totaloutstanddebtvalue_39A</th><th>totaloutstanddebtvalue_668A</th></tr></thead><tbody><tr><td>40626</td><td>0.69</td><td>null</td><td>&quot;a55475b1&quot;</td><td>&quot;01f63ac8&quot;</td><td>&quot;a55475b1&quot;</td><td>&quot;7241344e&quot;</td><td>null</td><td>null</td><td>null</td><td>null</td><td>&quot;2019-12-05&quot;</td><td>&quot;2019-11-04&quot;</td><td>null</td><td>&quot;2019-12-04&quot;</td><td>null</td><td>null</td><td>&quot;a55475b1&quot;</td><td>null</td><td>0.0</td><td>11.0</td><td>null</td><td>null</td><td>2019.0</td><td>&quot;e9bfdb5c&quot;</td><td>&quot;a55475b1&quot;</td><td>null</td><td>null</td><td>null</td><td>null</td><td>&quot;2019-12-04&quot;</td><td>null</td><td>4000.0</td><td>null</td><td>null</td><td>4</td><td>null</td><td>null</td><td>1.0</td><td>null</td><td>0.0</td><td>null</td><td>null</td><td>0.0</td><td>null</td><td>null</td><td>null</td><td>0.0</td><td>0.0</td><td>null</td><td>0.0</td><td>null</td><td>null</td><td>0.0</td><td>null</td><td>null</td><td>null</td><td>0.0</td><td>11.0</td><td>null</td><td>null</td><td>2019.0</td><td>30.0</td><td>null</td><td>0.0</td><td>null</td><td>&quot;a55475b1&quot;</td><td>&quot;96a8fdfe&quot;</td><td>&quot;2019-01-03&quot;</td><td>null</td><td>null</td><td>&quot;a55475b1&quot;</td><td>&quot;a55475b1&quot;</td><td>4000.0</td><td>null</td><td>null</td><td>null</td><td>null</td><td>null</td></tr><tr><td>40626</td><td>0.69</td><td>null</td><td>&quot;a55475b1&quot;</td><td>&quot;01f63ac8&quot;</td><td>&quot;a55475b1&quot;</td><td>&quot;7241344e&quot;</td><td>null</td><td>null</td><td>null</td><td>null</td><td>&quot;2020-01-06&quot;</td><td>&quot;2019-12-05&quot;</td><td>null</td><td>&quot;2019-12-13&quot;</td><td>null</td><td>null</td><td>&quot;a55475b1&quot;</td><td>null</td><td>0.0</td><td>12.0</td><td>null</td><td>null</td><td>2019.0</td><td>&quot;e9bfdb5c&quot;</td><td>&quot;a55475b1&quot;</td><td>null</td><td>null</td><td>null</td><td>null</td><td>&quot;2019-12-13&quot;</td><td>null</td><td>9861.19</td><td>null</td><td>null</td><td>6</td><td>null</td><td>null</td><td>1.0</td><td>null</td><td>0.0</td><td>null</td><td>null</td><td>0.0</td><td>null</td><td>null</td><td>null</td><td>0.0</td><td>0.0</td><td>null</td><td>0.0</td><td>null</td><td>null</td><td>0.0</td><td>null</td><td>null</td><td>null</td><td>0.0</td><td>12.0</td><td>null</td><td>null</td><td>2019.0</td><td>30.0</td><td>null</td><td>0.0</td><td>null</td><td>&quot;a55475b1&quot;</td><td>&quot;96a8fdfe&quot;</td><td>&quot;2019-11-03&quot;</td><td>null</td><td>null</td><td>&quot;a55475b1&quot;</td><td>&quot;a55475b1&quot;</td><td>7100.0</td><td>null</td><td>null</td><td>null</td><td>null</td><td>null</td></tr><tr><td>40626</td><td>38.3</td><td>null</td><td>&quot;ea6782cc&quot;</td><td>&quot;01f63ac8&quot;</td><td>&quot;7241344e&quot;</td><td>&quot;7241344e&quot;</td><td>null</td><td>null</td><td>20000.0</td><td>&quot;2021-03-24&quot;</td><td>&quot;2019-10-31&quot;</td><td>&quot;2019-10-01&quot;</td><td>&quot;2019-03-24&quot;</td><td>&quot;2019-10-30&quot;</td><td>null</td><td>null</td><td>&quot;a55475b1&quot;</td><td>0.0</td><td>0.0</td><td>10.0</td><td>4.0</td><td>2019.0</td><td>2019.0</td><td>&quot;9a93e20f&quot;</td><td>&quot;P204_66_73&quot;</td><td>7952.4</td><td>null</td><td>null</td><td>&quot;2019-12-11&quot;</td><td>&quot;2019-10-30&quot;</td><td>7952.4</td><td>0.0</td><td>null</td><td>38.3</td><td>2</td><td>null</td><td>null</td><td>1.0</td><td>null</td><td>0.0</td><td>null</td><td>0.0</td><td>0.0</td><td>null</td><td>null</td><td>0.0</td><td>0.0</td><td>0.0</td><td>null</td><td>0.0</td><td>0.0</td><td>0.0</td><td>0.0</td><td>null</td><td>null</td><td>0.0</td><td>0.0</td><td>10.0</td><td>4.0</td><td>2019.0</td><td>2019.0</td><td>null</td><td>null</td><td>0.0</td><td>null</td><td>&quot;60c73645&quot;</td><td>&quot;96a8fdfe&quot;</td><td>&quot;2020-01-01&quot;</td><td>null</td><td>19070.8</td><td>&quot;a55475b1&quot;</td><td>&quot;a55475b1&quot;</td><td>6000.0</td><td>null</td><td>null</td><td>null</td><td>null</td><td>null</td></tr></tbody></table></div>"
      ],
      "text/plain": [
       "+-----+-----+-----+-----+-----+-----+-----+-----+-----+-----+-----+-----+-----+-----+-----+-----+-----+-----+-----+-----+-----+-----+-----+-----+-----+-----+-----+-----+-----+-----+-----+-----+-----+-----+-----+-----+-----+-----+-----+-----+-----+-----+-----+-----+-----+-----+-----+-----+-----+-----+-----+-----+-----+-----+-----+-----+-----+-----+-----+-----+-----+-----+-----+-----+-----+-----+-----+-----+-----+-----+-----+-----+-----+-----+-----+-----+-----+-----+-----+\n",
       "| cas | ann | ann | cla | cla | con | con | con | cre | cre | dat | dat | dat | dat | dat | deb | deb | des | dpd | dpd | dpd | dpd | dpd | dpd | fin | fin | ins | ins | int | las | las | mon | mon | nom | nom | num | num | num | num | num | num | num | num | num | num | num | num | num | out | out | ove | ove | ove | ove | ove | ove | ove | ove | ove | ove | ove | ove | per | per | pro | pro | pur | pur | ref | res | res | sub | sub | tot | tot | tot | tot | tot | tot |\n",
       "| e_i | ual | ual | ssi | ssi | tra | tra | tra | dlm | dlm | eof | eof | eof | eof | eof | tou | tov | cri | max | max | max | max | max | max | anc | anc | tla | tla | ere | tup | tup | thl | thl | ina | ina | _gr | ber | ber | ber | ber | ber | ber | ber | ber | ber | ber | ber | ber | sta | sta | rdu | rdu | rdu | rdu | rdu | rdu | rdu | rdu | rdu | rdu | rdu | rdu | iod | iod | lon | lon | pos | pos | res | idu | idu | jec | jec | ala | ala | ald | ald | alo | alo |\n",
       "|  d  | eff | eff | fic | fic | cts | cts | cts | t_2 | t_9 | cre | cre | cre | cre | rea | tst | erd | pti | _13 | _75 | dat | dat | dat | dat | ial | ial | mou | mou | str | dat | dat | yin | yin | lra | lra | oup | ofc | ofc | ofi | ofi | ofo | ofo | ofo | ofo | ofo | ofo | ofo | ofo | ndi | ndi | eam | eam | eam | eam | eam | eam | eam | eam | eam | eam | eam | eam | ici | ici | gat | gat | eof | eof | hda | ala | ala | tro | tro | mou | mou | ebt | ebt | uts | uts |\n",
       "|     | ect | ect | ati | ati | t_5 | t_9 | um_ | 30A | 35A | den | den | dst | dst | lre | and | ue_ | on_ |  9P |  7P | emo | emo | eye | eye | ins | ins | nt_ | nt_ | ate | e_1 | e_3 | stl | stl | te_ | te_ |  1  | ont | ont | nst | nst | uts | uts | ver | ver | ver | ver | ver | ver | nga | nga | oun | oun | oun | oun | oun | oun | oun | oun | oun | oun | oun | oun | tyo | tyo | ion | ion | cre | cre | te_ | mou | mou | le_ | le_ | nt_ | nt_ | ove | ove | tan | tan |\n",
       "|     | ive | ive | ono | ono | 45M | 64M | 508 |     |     | d_2 | d_3 | art | art | pmt | _52 | 47A | 351 |     |     | nth | nth | ar_ | ar_ | tit | tit | 768 | 852 | _50 | 112 | 88D | amo | amo | 281 | 498 |     | rsv | rsv | ls_ | ls_ | tan | tan | due | due | due | due | due | due | mou | mou | t_3 | t_6 | tma | tma | tma | tma | tma | tma | tma | tma | tma | tma | fpm | fpm | cou | cou | d_4 | d_8 | 381 | nt_ | nt_ | 182 | 93M |  6A | 996 | rdu | rdu | dde | dde |\n",
       "|     | rat | rat | fco | fco |     |     | 571 |     |     | 89D | 53D | _18 | _73 | _13 |  5A |     |  M  |     |     | _44 | _89 | 596 | 896 | uti | uti |  A  |  A  |  8L |  D  |     | unt | unt |  L  |  L  |     | alu | alu | 229 | 320 | din | din | ins | ins | ins | ins | ins | ins | nt_ | nt_ |  1A | 59A | x2_ | x2_ | x2d | x2d | x_1 | x_3 | xda | xda | xda | xda | ts_ | ts_ | nt_ | nt_ | 26M | 74M | 388 | 488 | 856 |  M  |     |     |  A  | eva | eva | btv | btv |\n",
       "|     | e_1 | e_6 | ntr | ntr |     |     |  7L |     |     |     |     |  1D |  9D |  8D |     |     |     |     |     |  2T |  T  |  T  |  T  | on_ | on_ |     |     |     |     |     | _33 | _67 |     |     |     | e_2 | e_3 |  L  |  L  | stl | stl | tlm | tlm | tlm | tlm | tls | tls | 354 | 362 |     |     | 14A | 398 | ate | ate | 55A |  5A | tem | tem | tey | tey | 110 | 837 | 112 | 599 |     |     |  5D |  A  |  A  |     |     |     |     | lue | lue | alu | alu |\n",
       "|     | 99L |  3L | _13 | _40 |     |     |     |     |     |     |     |     |     |     |     |     |     |     |     |     |     |     |     | 382 | 591 |     |     |     |     |     |  2A |  4A |     |     |     | 58L | 58L |     |     | s_5 | s_5 | ax_ | ax_ | axd | axd | _72 | _83 |  A  |  A  |     |     |     |  A  | _10 | _11 |     |     | ont | ont | ear | ear |  2L |  L  |  0L |  L  |     |     |     |     |     |     |     |     |     | _17 | _71 | e_3 | e_6 |\n",
       "|     |     |     |  M  |  0M |     |     |     |     |     |     |     |     |     |     |     |     |     |     |     |     |     |     |     |  M  |  M  |     |     |     |     |     |     |     |     |     |     |     |     |     |     | 20L |  9L | 103 | 115 | at_ | at_ |  5L |  4L |     |     |     |     |     |     | 02D | 42D |     |     | h_2 | h_3 | _2T | _99 |     |     |     |     |     |     |     |     |     |     |     |     |     |  8A |  8A |  9A | 68A |\n",
       "|     |     |     |     |     |     |     |     |     |     |     |     |     |     |     |     |     |     |     |     |     |     |     |     |     |     |     |     |     |     |     |     |     |     |     |     |     |     |     |     |     |     |  9L |  1L | 148 | 641 |     |     |     |     |     |     |     |     |     |     |     |     | 84T | 65T |     |  4T |     |     |     |     |     |     |     |     |     |     |     |     |     |     |     |     |     |\n",
       "|     |     |     |     |     |     |     |     |     |     |     |     |     |     |     |     |     |     |     |     |     |     |     |     |     |     |     |     |     |     |     |     |     |     |     |     |     |     |     |     |     |     |     |     |  D  |  D  |     |     |     |     |     |     |     |     |     |     |     |     |     |     |     |     |     |     |     |     |     |     |     |     |     |     |     |     |     |     |     |     |     |\n",
       "+=========================================================================================================================================================================================================================================================================================================================================================================================================================================================================================+\n",
       "| 406 | 0.6 | nul | a55 | 01f | a55 | 724 | nul | nul | nul | nul | 201 | 201 | nul | 201 | nul | nul | a55 | nul | 0.0 | 11. | nul | nul | 201 | e9b | a55 | nul | nul | nul | nul | 201 | nul | 400 | nul | nul |  4  | nul | nul | 1.0 | nul | 0.0 | nul | nul | 0.0 | nul | nul | nul | 0.0 | 0.0 | nul | 0.0 | nul | nul | 0.0 | nul | nul | nul | 0.0 | 11. | nul | nul | 201 | 30. | nul | 0.0 | nul | a55 | 96a | 201 | nul | nul | a55 | a55 | 400 | nul | nul | nul | nul | nul |\n",
       "|  26 |  9  |  l  | 475 | 63a | 475 | 134 |  l  |  l  |  l  |  l  | 9-1 | 9-1 |  l  | 9-1 |  l  |  l  | 475 |  l  |     |  0  |  l  |  l  | 9.0 | fdb | 475 |  l  |  l  |  l  |  l  | 9-1 |  l  | 0.0 |  l  |  l  |     |  l  |  l  |     |  l  |     |  l  |  l  |     |  l  |  l  |  l  |     |     |  l  |     |  l  |  l  |     |  l  |  l  |  l  |     |  0  |  l  |  l  | 9.0 |  0  |  l  |     |  l  | 475 | 8fd | 9-0 |  l  |  l  | 475 | 475 | 0.0 |  l  |  l  |  l  |  l  |  l  |\n",
       "|     |     |     |  b1 |  c8 |  b1 |  4e |     |     |     |     | 2-0 | 1-0 |     | 2-0 |     |     |  b1 |     |     |     |     |     |     |  5c |  b1 |     |     |     |     | 2-0 |     |     |     |     |     |     |     |     |     |     |     |     |     |     |     |     |     |     |     |     |     |     |     |     |     |     |     |     |     |     |     |     |     |     |     |  b1 |  fe | 1-0 |     |     |  b1 |  b1 |     |     |     |     |     |     |\n",
       "|     |     |     |     |     |     |     |     |     |     |     |  5  |  4  |     |  4  |     |     |     |     |     |     |     |     |     |     |     |     |     |     |     |  4  |     |     |     |     |     |     |     |     |     |     |     |     |     |     |     |     |     |     |     |     |     |     |     |     |     |     |     |     |     |     |     |     |     |     |     |     |     |  3  |     |     |     |     |     |     |     |     |     |     |\n",
       "| 406 | 0.6 | nul | a55 | 01f | a55 | 724 | nul | nul | nul | nul | 202 | 201 | nul | 201 | nul | nul | a55 | nul | 0.0 | 12. | nul | nul | 201 | e9b | a55 | nul | nul | nul | nul | 201 | nul | 986 | nul | nul |  6  | nul | nul | 1.0 | nul | 0.0 | nul | nul | 0.0 | nul | nul | nul | 0.0 | 0.0 | nul | 0.0 | nul | nul | 0.0 | nul | nul | nul | 0.0 | 12. | nul | nul | 201 | 30. | nul | 0.0 | nul | a55 | 96a | 201 | nul | nul | a55 | a55 | 710 | nul | nul | nul | nul | nul |\n",
       "|  26 |  9  |  l  | 475 | 63a | 475 | 134 |  l  |  l  |  l  |  l  | 0-0 | 9-1 |  l  | 9-1 |  l  |  l  | 475 |  l  |     |  0  |  l  |  l  | 9.0 | fdb | 475 |  l  |  l  |  l  |  l  | 9-1 |  l  | 1.1 |  l  |  l  |     |  l  |  l  |     |  l  |     |  l  |  l  |     |  l  |  l  |  l  |     |     |  l  |     |  l  |  l  |     |  l  |  l  |  l  |     |  0  |  l  |  l  | 9.0 |  0  |  l  |     |  l  | 475 | 8fd | 9-1 |  l  |  l  | 475 | 475 | 0.0 |  l  |  l  |  l  |  l  |  l  |\n",
       "|     |     |     |  b1 |  c8 |  b1 |  4e |     |     |     |     | 1-0 | 2-0 |     | 2-1 |     |     |  b1 |     |     |     |     |     |     |  5c |  b1 |     |     |     |     | 2-1 |     |  9  |     |     |     |     |     |     |     |     |     |     |     |     |     |     |     |     |     |     |     |     |     |     |     |     |     |     |     |     |     |     |     |     |     |  b1 |  fe | 1-0 |     |     |  b1 |  b1 |     |     |     |     |     |     |\n",
       "|     |     |     |     |     |     |     |     |     |     |     |  6  |  5  |     |  3  |     |     |     |     |     |     |     |     |     |     |     |     |     |     |     |  3  |     |     |     |     |     |     |     |     |     |     |     |     |     |     |     |     |     |     |     |     |     |     |     |     |     |     |     |     |     |     |     |     |     |     |     |     |     |  3  |     |     |     |     |     |     |     |     |     |     |\n",
       "| 406 | 38. | nul | ea6 | 01f | 724 | 724 | nul | nul | 200 | 202 | 201 | 201 | 201 | 201 | nul | nul | a55 | 0.0 | 0.0 | 10. | 4.0 | 201 | 201 | 9a9 | P20 | 795 | nul | nul | 201 | 201 | 795 | 0.0 | nul | 38. |  2  | nul | nul | 1.0 | nul | 0.0 | nul | 0.0 | 0.0 | nul | nul | 0.0 | 0.0 | 0.0 | nul | 0.0 | 0.0 | 0.0 | 0.0 | nul | nul | 0.0 | 0.0 | 10. | 4.0 | 201 | 201 | nul | nul | 0.0 | nul | 60c | 96a | 202 | nul | 190 | a55 | a55 | 600 | nul | nul | nul | nul | nul |\n",
       "|  26 |  3  |  l  | 782 | 63a | 134 | 134 |  l  |  l  | 00. | 1-0 | 9-1 | 9-1 | 9-0 | 9-1 |  l  |  l  | 475 |     |     |  0  |     | 9.0 | 9.0 | 3e2 | 4_6 | 2.4 |  l  |  l  | 9-1 | 9-1 | 2.4 |     |  l  |  3  |     |  l  |  l  |     |  l  |     |  l  |     |     |  l  |  l  |     |     |     |  l  |     |     |     |     |  l  |  l  |     |     |  0  |     | 9.0 | 9.0 |  l  |  l  |     |  l  | 736 | 8fd | 0-0 |  l  | 70. | 475 | 475 | 0.0 |  l  |  l  |  l  |  l  |  l  |\n",
       "|     |     |     |  cc |  c8 |  4e |  4e |     |     |  0  | 3-2 | 0-3 | 0-0 | 3-2 | 0-3 |     |     |  b1 |     |     |     |     |     |     |  0f | 6_7 |     |     |     | 2-1 | 0-3 |     |     |     |     |     |     |     |     |     |     |     |     |     |     |     |     |     |     |     |     |     |     |     |     |     |     |     |     |     |     |     |     |     |     |     |  45 |  fe | 1-0 |     |  8  |  b1 |  b1 |     |     |     |     |     |     |\n",
       "|     |     |     |     |     |     |     |     |     |     |  4  |  1  |  1  |  4  |  0  |     |     |     |     |     |     |     |     |     |     |  3  |     |     |     |  1  |  0  |     |     |     |     |     |     |     |     |     |     |     |     |     |     |     |     |     |     |     |     |     |     |     |     |     |     |     |     |     |     |     |     |     |     |     |     |     |  1  |     |     |     |     |     |     |     |     |     |     |\n",
       "+-----+-----+-----+-----+-----+-----+-----+-----+-----+-----+-----+-----+-----+-----+-----+-----+-----+-----+-----+-----+-----+-----+-----+-----+-----+-----+-----+-----+-----+-----+-----+-----+-----+-----+-----+-----+-----+-----+-----+-----+-----+-----+-----+-----+-----+-----+-----+-----+-----+-----+-----+-----+-----+-----+-----+-----+-----+-----+-----+-----+-----+-----+-----+-----+-----+-----+-----+-----+-----+-----+-----+-----+-----+-----+-----+-----+-----+-----+-----+"
      ]
     },
     "metadata": {},
     "output_type": "display_data"
    },
    {
     "data": {
      "text/html": [
       "<div><style>\n",
       ".dataframe > thead > tr,\n",
       ".dataframe > tbody > tr {\n",
       "  text-align: right;\n",
       "  white-space: pre-wrap;\n",
       "}\n",
       "</style>\n",
       "<table border=\"1\" class=\"dataframe\"><thead><tr><th>case_id</th><th>annualeffectiverate_199L</th><th>annualeffectiverate_63L</th><th>classificationofcontr_13M</th><th>classificationofcontr_400M</th><th>contractst_545M</th><th>contractst_964M</th><th>contractsum_5085717L</th><th>credlmt_230A</th><th>credlmt_935A</th><th>dateofcredend_289D</th><th>dateofcredend_353D</th><th>dateofcredstart_181D</th><th>dateofcredstart_739D</th><th>dateofrealrepmt_138D</th><th>debtoutstand_525A</th><th>debtoverdue_47A</th><th>description_351M</th><th>dpdmax_139P</th><th>dpdmax_757P</th><th>dpdmaxdatemonth_442T</th><th>dpdmaxdatemonth_89T</th><th>dpdmaxdateyear_596T</th><th>dpdmaxdateyear_896T</th><th>financialinstitution_382M</th><th>financialinstitution_591M</th><th>instlamount_768A</th><th>instlamount_852A</th><th>interestrate_508L</th><th>lastupdate_1112D</th><th>lastupdate_388D</th><th>monthlyinstlamount_332A</th><th>monthlyinstlamount_674A</th><th>nominalrate_281L</th><th>nominalrate_498L</th><th>num_group1</th><th>numberofcontrsvalue_258L</th><th>numberofcontrsvalue_358L</th><th>numberofinstls_229L</th><th>numberofinstls_320L</th><th>numberofoutstandinstls_520L</th><th>numberofoutstandinstls_59L</th><th>numberofoverdueinstlmax_1039L</th><th>numberofoverdueinstlmax_1151L</th><th>numberofoverdueinstlmaxdat_148D</th><th>numberofoverdueinstlmaxdat_641D</th><th>numberofoverdueinstls_725L</th><th>numberofoverdueinstls_834L</th><th>outstandingamount_354A</th><th>outstandingamount_362A</th><th>overdueamount_31A</th><th>overdueamount_659A</th><th>overdueamountmax2_14A</th><th>overdueamountmax2_398A</th><th>overdueamountmax2date_1002D</th><th>overdueamountmax2date_1142D</th><th>overdueamountmax_155A</th><th>overdueamountmax_35A</th><th>overdueamountmaxdatemonth_284T</th><th>overdueamountmaxdatemonth_365T</th><th>overdueamountmaxdateyear_2T</th><th>overdueamountmaxdateyear_994T</th><th>periodicityofpmts_1102L</th><th>periodicityofpmts_837L</th><th>prolongationcount_1120L</th><th>prolongationcount_599L</th><th>purposeofcred_426M</th><th>purposeofcred_874M</th><th>refreshdate_3813885D</th><th>residualamount_488A</th><th>residualamount_856A</th><th>subjectrole_182M</th><th>subjectrole_93M</th><th>totalamount_6A</th><th>totalamount_996A</th><th>totaldebtoverduevalue_178A</th><th>totaldebtoverduevalue_718A</th><th>totaloutstanddebtvalue_39A</th><th>totaloutstanddebtvalue_668A</th></tr></thead><tbody><tr><td>51903</td><td>null</td><td>null</td><td>&quot;ea6782cc&quot;</td><td>&quot;a55475b1&quot;</td><td>&quot;7241344e&quot;</td><td>&quot;a55475b1&quot;</td><td>13591.0</td><td>null</td><td>30000.0</td><td>&quot;2021-11-30&quot;</td><td>null</td><td>null</td><td>&quot;2019-11-30&quot;</td><td>null</td><td>10602.11</td><td>0.0</td><td>&quot;a55475b1&quot;</td><td>0.0</td><td>null</td><td>null</td><td>12.0</td><td>2019.0</td><td>null</td><td>&quot;a55475b1&quot;</td><td>&quot;b619fa46&quot;</td><td>2718.2</td><td>null</td><td>null</td><td>&quot;2020-06-13&quot;</td><td>null</td><td>2718.2</td><td>null</td><td>null</td><td>null</td><td>0</td><td>2.0</td><td>null</td><td>null</td><td>null</td><td>null</td><td>null</td><td>0.0</td><td>null</td><td>null</td><td>null</td><td>0.0</td><td>null</td><td>null</td><td>null</td><td>null</td><td>0.0</td><td>0.0</td><td>null</td><td>null</td><td>null</td><td>0.0</td><td>null</td><td>null</td><td>12.0</td><td>2019.0</td><td>null</td><td>null</td><td>null</td><td>null</td><td>null</td><td>&quot;60c73645&quot;</td><td>&quot;a55475b1&quot;</td><td>&quot;2020-06-25&quot;</td><td>null</td><td>2718.2</td><td>&quot;ab3c25cf&quot;</td><td>&quot;a55475b1&quot;</td><td>null</td><td>null</td><td>0.0</td><td>null</td><td>10602.11</td><td>null</td></tr><tr><td>51903</td><td>null</td><td>null</td><td>&quot;ea6782cc&quot;</td><td>&quot;a55475b1&quot;</td><td>&quot;7241344e&quot;</td><td>&quot;a55475b1&quot;</td><td>39419.55</td><td>null</td><td>11260.0</td><td>&quot;2022-01-26&quot;</td><td>null</td><td>null</td><td>&quot;2020-01-26&quot;</td><td>null</td><td>null</td><td>null</td><td>&quot;a55475b1&quot;</td><td>0.0</td><td>null</td><td>null</td><td>2.0</td><td>2020.0</td><td>null</td><td>&quot;a55475b1&quot;</td><td>&quot;b619fa46&quot;</td><td>1070.4</td><td>null</td><td>null</td><td>&quot;2020-06-17&quot;</td><td>null</td><td>1070.4</td><td>null</td><td>null</td><td>null</td><td>1</td><td>null</td><td>null</td><td>null</td><td>null</td><td>null</td><td>null</td><td>0.0</td><td>null</td><td>null</td><td>null</td><td>0.0</td><td>null</td><td>null</td><td>null</td><td>null</td><td>0.0</td><td>0.0</td><td>null</td><td>null</td><td>null</td><td>0.0</td><td>null</td><td>null</td><td>2.0</td><td>2020.0</td><td>null</td><td>null</td><td>null</td><td>null</td><td>null</td><td>&quot;60c73645&quot;</td><td>&quot;a55475b1&quot;</td><td>&quot;2020-06-25&quot;</td><td>null</td><td>7883.91</td><td>&quot;a55475b1&quot;</td><td>&quot;a55475b1&quot;</td><td>null</td><td>null</td><td>null</td><td>null</td><td>null</td><td>null</td></tr><tr><td>51903</td><td>null</td><td>null</td><td>&quot;a55475b1&quot;</td><td>&quot;a55475b1&quot;</td><td>&quot;a55475b1&quot;</td><td>&quot;a55475b1&quot;</td><td>null</td><td>null</td><td>null</td><td>null</td><td>null</td><td>null</td><td>null</td><td>null</td><td>null</td><td>null</td><td>&quot;a55475b1&quot;</td><td>null</td><td>null</td><td>null</td><td>null</td><td>null</td><td>null</td><td>&quot;a55475b1&quot;</td><td>&quot;a55475b1&quot;</td><td>null</td><td>null</td><td>null</td><td>null</td><td>null</td><td>null</td><td>null</td><td>null</td><td>null</td><td>2</td><td>null</td><td>null</td><td>null</td><td>null</td><td>null</td><td>null</td><td>null</td><td>null</td><td>null</td><td>null</td><td>null</td><td>null</td><td>null</td><td>null</td><td>null</td><td>null</td><td>null</td><td>null</td><td>null</td><td>null</td><td>null</td><td>null</td><td>null</td><td>null</td><td>null</td><td>null</td><td>null</td><td>null</td><td>null</td><td>null</td><td>&quot;a55475b1&quot;</td><td>&quot;a55475b1&quot;</td><td>&quot;2020-06-25&quot;</td><td>null</td><td>null</td><td>&quot;a55475b1&quot;</td><td>&quot;a55475b1&quot;</td><td>null</td><td>null</td><td>null</td><td>null</td><td>null</td><td>null</td></tr></tbody></table></div>"
      ],
      "text/plain": [
       "+-----+-----+-----+-----+-----+-----+-----+-----+-----+-----+-----+-----+-----+-----+-----+-----+-----+-----+-----+-----+-----+-----+-----+-----+-----+-----+-----+-----+-----+-----+-----+-----+-----+-----+-----+-----+-----+-----+-----+-----+-----+-----+-----+-----+-----+-----+-----+-----+-----+-----+-----+-----+-----+-----+-----+-----+-----+-----+-----+-----+-----+-----+-----+-----+-----+-----+-----+-----+-----+-----+-----+-----+-----+-----+-----+-----+-----+-----+-----+\n",
       "| cas | ann | ann | cla | cla | con | con | con | cre | cre | dat | dat | dat | dat | dat | deb | deb | des | dpd | dpd | dpd | dpd | dpd | dpd | fin | fin | ins | ins | int | las | las | mon | mon | nom | nom | num | num | num | num | num | num | num | num | num | num | num | num | num | out | out | ove | ove | ove | ove | ove | ove | ove | ove | ove | ove | ove | ove | per | per | pro | pro | pur | pur | ref | res | res | sub | sub | tot | tot | tot | tot | tot | tot |\n",
       "| e_i | ual | ual | ssi | ssi | tra | tra | tra | dlm | dlm | eof | eof | eof | eof | eof | tou | tov | cri | max | max | max | max | max | max | anc | anc | tla | tla | ere | tup | tup | thl | thl | ina | ina | _gr | ber | ber | ber | ber | ber | ber | ber | ber | ber | ber | ber | ber | sta | sta | rdu | rdu | rdu | rdu | rdu | rdu | rdu | rdu | rdu | rdu | rdu | rdu | iod | iod | lon | lon | pos | pos | res | idu | idu | jec | jec | ala | ala | ald | ald | alo | alo |\n",
       "|  d  | eff | eff | fic | fic | cts | cts | cts | t_2 | t_9 | cre | cre | cre | cre | rea | tst | erd | pti | _13 | _75 | dat | dat | dat | dat | ial | ial | mou | mou | str | dat | dat | yin | yin | lra | lra | oup | ofc | ofc | ofi | ofi | ofo | ofo | ofo | ofo | ofo | ofo | ofo | ofo | ndi | ndi | eam | eam | eam | eam | eam | eam | eam | eam | eam | eam | eam | eam | ici | ici | gat | gat | eof | eof | hda | ala | ala | tro | tro | mou | mou | ebt | ebt | uts | uts |\n",
       "|     | ect | ect | ati | ati | t_5 | t_9 | um_ | 30A | 35A | den | den | dst | dst | lre | and | ue_ | on_ |  9P |  7P | emo | emo | eye | eye | ins | ins | nt_ | nt_ | ate | e_1 | e_3 | stl | stl | te_ | te_ |  1  | ont | ont | nst | nst | uts | uts | ver | ver | ver | ver | ver | ver | nga | nga | oun | oun | oun | oun | oun | oun | oun | oun | oun | oun | oun | oun | tyo | tyo | ion | ion | cre | cre | te_ | mou | mou | le_ | le_ | nt_ | nt_ | ove | ove | tan | tan |\n",
       "|     | ive | ive | ono | ono | 45M | 64M | 508 |     |     | d_2 | d_3 | art | art | pmt | _52 | 47A | 351 |     |     | nth | nth | ar_ | ar_ | tit | tit | 768 | 852 | _50 | 112 | 88D | amo | amo | 281 | 498 |     | rsv | rsv | ls_ | ls_ | tan | tan | due | due | due | due | due | due | mou | mou | t_3 | t_6 | tma | tma | tma | tma | tma | tma | tma | tma | tma | tma | fpm | fpm | cou | cou | d_4 | d_8 | 381 | nt_ | nt_ | 182 | 93M |  6A | 996 | rdu | rdu | dde | dde |\n",
       "|     | rat | rat | fco | fco |     |     | 571 |     |     | 89D | 53D | _18 | _73 | _13 |  5A |     |  M  |     |     | _44 | _89 | 596 | 896 | uti | uti |  A  |  A  |  8L |  D  |     | unt | unt |  L  |  L  |     | alu | alu | 229 | 320 | din | din | ins | ins | ins | ins | ins | ins | nt_ | nt_ |  1A | 59A | x2_ | x2_ | x2d | x2d | x_1 | x_3 | xda | xda | xda | xda | ts_ | ts_ | nt_ | nt_ | 26M | 74M | 388 | 488 | 856 |  M  |     |     |  A  | eva | eva | btv | btv |\n",
       "|     | e_1 | e_6 | ntr | ntr |     |     |  7L |     |     |     |     |  1D |  9D |  8D |     |     |     |     |     |  2T |  T  |  T  |  T  | on_ | on_ |     |     |     |     |     | _33 | _67 |     |     |     | e_2 | e_3 |  L  |  L  | stl | stl | tlm | tlm | tlm | tlm | tls | tls | 354 | 362 |     |     | 14A | 398 | ate | ate | 55A |  5A | tem | tem | tey | tey | 110 | 837 | 112 | 599 |     |     |  5D |  A  |  A  |     |     |     |     | lue | lue | alu | alu |\n",
       "|     | 99L |  3L | _13 | _40 |     |     |     |     |     |     |     |     |     |     |     |     |     |     |     |     |     |     |     | 382 | 591 |     |     |     |     |     |  2A |  4A |     |     |     | 58L | 58L |     |     | s_5 | s_5 | ax_ | ax_ | axd | axd | _72 | _83 |  A  |  A  |     |     |     |  A  | _10 | _11 |     |     | ont | ont | ear | ear |  2L |  L  |  0L |  L  |     |     |     |     |     |     |     |     |     | _17 | _71 | e_3 | e_6 |\n",
       "|     |     |     |  M  |  0M |     |     |     |     |     |     |     |     |     |     |     |     |     |     |     |     |     |     |     |  M  |  M  |     |     |     |     |     |     |     |     |     |     |     |     |     |     | 20L |  9L | 103 | 115 | at_ | at_ |  5L |  4L |     |     |     |     |     |     | 02D | 42D |     |     | h_2 | h_3 | _2T | _99 |     |     |     |     |     |     |     |     |     |     |     |     |     |  8A |  8A |  9A | 68A |\n",
       "|     |     |     |     |     |     |     |     |     |     |     |     |     |     |     |     |     |     |     |     |     |     |     |     |     |     |     |     |     |     |     |     |     |     |     |     |     |     |     |     |     |     |  9L |  1L | 148 | 641 |     |     |     |     |     |     |     |     |     |     |     |     | 84T | 65T |     |  4T |     |     |     |     |     |     |     |     |     |     |     |     |     |     |     |     |     |\n",
       "|     |     |     |     |     |     |     |     |     |     |     |     |     |     |     |     |     |     |     |     |     |     |     |     |     |     |     |     |     |     |     |     |     |     |     |     |     |     |     |     |     |     |     |     |  D  |  D  |     |     |     |     |     |     |     |     |     |     |     |     |     |     |     |     |     |     |     |     |     |     |     |     |     |     |     |     |     |     |     |     |     |\n",
       "+=========================================================================================================================================================================================================================================================================================================================================================================================================================================================================================+\n",
       "| 519 | nul | nul | ea6 | a55 | 724 | a55 | 135 | nul | 300 | 202 | nul | nul | 201 | nul | 106 | 0.0 | a55 | 0.0 | nul | nul | 12. | 201 | nul | a55 | b61 | 271 | nul | nul | 202 | nul | 271 | nul | nul | nul |  0  | 2.0 | nul | nul | nul | nul | nul | 0.0 | nul | nul | nul | 0.0 | nul | nul | nul | nul | 0.0 | 0.0 | nul | nul | nul | 0.0 | nul | nul | 12. | 201 | nul | nul | nul | nul | nul | 60c | a55 | 202 | nul | 271 | ab3 | a55 | nul | nul | 0.0 | nul | 106 | nul |\n",
       "|  03 |  l  |  l  | 782 | 475 | 134 | 475 | 91. |  l  | 00. | 1-1 |  l  |  l  | 9-1 |  l  | 02. |     | 475 |     |  l  |  l  |  0  | 9.0 |  l  | 475 | 9fa | 8.2 |  l  |  l  | 0-0 |  l  | 8.2 |  l  |  l  |  l  |     |     |  l  |  l  |  l  |  l  |  l  |     |  l  |  l  |  l  |     |  l  |  l  |  l  |  l  |     |     |  l  |  l  |  l  |     |  l  |  l  |  0  | 9.0 |  l  |  l  |  l  |  l  |  l  | 736 | 475 | 0-0 |  l  | 8.2 | c25 | 475 |  l  |  l  |     |  l  | 02. |  l  |\n",
       "|     |     |     |  cc |  b1 |  4e |  b1 |  0  |     |  0  | 1-3 |     |     | 1-3 |     |  11 |     |  b1 |     |     |     |     |     |     |  b1 |  46 |     |     |     | 6-1 |     |     |     |     |     |     |     |     |     |     |     |     |     |     |     |     |     |     |     |     |     |     |     |     |     |     |     |     |     |     |     |     |     |     |     |     |  45 |  b1 | 6-2 |     |     |  cf |  b1 |     |     |     |     |  11 |     |\n",
       "|     |     |     |     |     |     |     |     |     |     |  0  |     |     |  0  |     |     |     |     |     |     |     |     |     |     |     |     |     |     |     |  3  |     |     |     |     |     |     |     |     |     |     |     |     |     |     |     |     |     |     |     |     |     |     |     |     |     |     |     |     |     |     |     |     |     |     |     |     |     |     |  5  |     |     |     |     |     |     |     |     |     |     |\n",
       "| 519 | nul | nul | ea6 | a55 | 724 | a55 | 394 | nul | 112 | 202 | nul | nul | 202 | nul | nul | nul | a55 | 0.0 | nul | nul | 2.0 | 202 | nul | a55 | b61 | 107 | nul | nul | 202 | nul | 107 | nul | nul | nul |  1  | nul | nul | nul | nul | nul | nul | 0.0 | nul | nul | nul | 0.0 | nul | nul | nul | nul | 0.0 | 0.0 | nul | nul | nul | 0.0 | nul | nul | 2.0 | 202 | nul | nul | nul | nul | nul | 60c | a55 | 202 | nul | 788 | a55 | a55 | nul | nul | nul | nul | nul | nul |\n",
       "|  03 |  l  |  l  | 782 | 475 | 134 | 475 | 19. |  l  | 60. | 2-0 |  l  |  l  | 0-0 |  l  |  l  |  l  | 475 |     |  l  |  l  |     | 0.0 |  l  | 475 | 9fa | 0.4 |  l  |  l  | 0-0 |  l  | 0.4 |  l  |  l  |  l  |     |  l  |  l  |  l  |  l  |  l  |  l  |     |  l  |  l  |  l  |     |  l  |  l  |  l  |  l  |     |     |  l  |  l  |  l  |     |  l  |  l  |     | 0.0 |  l  |  l  |  l  |  l  |  l  | 736 | 475 | 0-0 |  l  | 3.9 | 475 | 475 |  l  |  l  |  l  |  l  |  l  |  l  |\n",
       "|     |     |     |  cc |  b1 |  4e |  b1 |  55 |     |  0  | 1-2 |     |     | 1-2 |     |     |     |  b1 |     |     |     |     |     |     |  b1 |  46 |     |     |     | 6-1 |     |     |     |     |     |     |     |     |     |     |     |     |     |     |     |     |     |     |     |     |     |     |     |     |     |     |     |     |     |     |     |     |     |     |     |     |  45 |  b1 | 6-2 |     |  1  |  b1 |  b1 |     |     |     |     |     |     |\n",
       "|     |     |     |     |     |     |     |     |     |     |  6  |     |     |  6  |     |     |     |     |     |     |     |     |     |     |     |     |     |     |     |  7  |     |     |     |     |     |     |     |     |     |     |     |     |     |     |     |     |     |     |     |     |     |     |     |     |     |     |     |     |     |     |     |     |     |     |     |     |     |     |  5  |     |     |     |     |     |     |     |     |     |     |\n",
       "| 519 | nul | nul | a55 | a55 | a55 | a55 | nul | nul | nul | nul | nul | nul | nul | nul | nul | nul | a55 | nul | nul | nul | nul | nul | nul | a55 | a55 | nul | nul | nul | nul | nul | nul | nul | nul | nul |  2  | nul | nul | nul | nul | nul | nul | nul | nul | nul | nul | nul | nul | nul | nul | nul | nul | nul | nul | nul | nul | nul | nul | nul | nul | nul | nul | nul | nul | nul | nul | a55 | a55 | 202 | nul | nul | a55 | a55 | nul | nul | nul | nul | nul | nul |\n",
       "|  03 |  l  |  l  | 475 | 475 | 475 | 475 |  l  |  l  |  l  |  l  |  l  |  l  |  l  |  l  |  l  |  l  | 475 |  l  |  l  |  l  |  l  |  l  |  l  | 475 | 475 |  l  |  l  |  l  |  l  |  l  |  l  |  l  |  l  |  l  |     |  l  |  l  |  l  |  l  |  l  |  l  |  l  |  l  |  l  |  l  |  l  |  l  |  l  |  l  |  l  |  l  |  l  |  l  |  l  |  l  |  l  |  l  |  l  |  l  |  l  |  l  |  l  |  l  |  l  |  l  | 475 | 475 | 0-0 |  l  |  l  | 475 | 475 |  l  |  l  |  l  |  l  |  l  |  l  |\n",
       "|     |     |     |  b1 |  b1 |  b1 |  b1 |     |     |     |     |     |     |     |     |     |     |  b1 |     |     |     |     |     |     |  b1 |  b1 |     |     |     |     |     |     |     |     |     |     |     |     |     |     |     |     |     |     |     |     |     |     |     |     |     |     |     |     |     |     |     |     |     |     |     |     |     |     |     |     |  b1 |  b1 | 6-2 |     |     |  b1 |  b1 |     |     |     |     |     |     |\n",
       "|     |     |     |     |     |     |     |     |     |     |     |     |     |     |     |     |     |     |     |     |     |     |     |     |     |     |     |     |     |     |     |     |     |     |     |     |     |     |     |     |     |     |     |     |     |     |     |     |     |     |     |     |     |     |     |     |     |     |     |     |     |     |     |     |     |     |     |     |  5  |     |     |     |     |     |     |     |     |     |     |\n",
       "+-----+-----+-----+-----+-----+-----+-----+-----+-----+-----+-----+-----+-----+-----+-----+-----+-----+-----+-----+-----+-----+-----+-----+-----+-----+-----+-----+-----+-----+-----+-----+-----+-----+-----+-----+-----+-----+-----+-----+-----+-----+-----+-----+-----+-----+-----+-----+-----+-----+-----+-----+-----+-----+-----+-----+-----+-----+-----+-----+-----+-----+-----+-----+-----+-----+-----+-----+-----+-----+-----+-----+-----+-----+-----+-----+-----+-----+-----+-----+"
      ]
     },
     "metadata": {},
     "output_type": "display_data"
    },
    {
     "data": {
      "text/html": [
       "<div><style>\n",
       ".dataframe > thead > tr,\n",
       ".dataframe > tbody > tr {\n",
       "  text-align: right;\n",
       "  white-space: pre-wrap;\n",
       "}\n",
       "</style>\n",
       "<table border=\"1\" class=\"dataframe\"><thead><tr><th>case_id</th><th>collater_typofvalofguarant_298M</th><th>collater_typofvalofguarant_407M</th><th>collater_valueofguarantee_1124L</th><th>collater_valueofguarantee_876L</th><th>collaterals_typeofguarante_359M</th><th>collaterals_typeofguarante_669M</th><th>num_group1</th><th>num_group2</th><th>pmts_dpd_1073P</th><th>pmts_dpd_303P</th><th>pmts_month_158T</th><th>pmts_month_706T</th><th>pmts_overdue_1140A</th><th>pmts_overdue_1152A</th><th>pmts_year_1139T</th><th>pmts_year_507T</th><th>subjectroles_name_541M</th><th>subjectroles_name_838M</th></tr></thead><tbody><tr><td>388</td><td>&quot;8fd95e4b&quot;</td><td>&quot;a55475b1&quot;</td><td>0.0</td><td>null</td><td>&quot;a55475b1&quot;</td><td>&quot;c7a5ad39&quot;</td><td>0</td><td>0</td><td>null</td><td>null</td><td>2.0</td><td>null</td><td>null</td><td>null</td><td>2018.0</td><td>null</td><td>&quot;a55475b1&quot;</td><td>&quot;ab3c25cf&quot;</td></tr><tr><td>388</td><td>&quot;9a0c095e&quot;</td><td>&quot;a55475b1&quot;</td><td>0.0</td><td>null</td><td>&quot;a55475b1&quot;</td><td>&quot;c7a5ad39&quot;</td><td>1</td><td>0</td><td>null</td><td>null</td><td>2.0</td><td>null</td><td>null</td><td>null</td><td>2018.0</td><td>null</td><td>&quot;a55475b1&quot;</td><td>&quot;ab3c25cf&quot;</td></tr><tr><td>388</td><td>&quot;a55475b1&quot;</td><td>&quot;a55475b1&quot;</td><td>null</td><td>null</td><td>&quot;a55475b1&quot;</td><td>&quot;a55475b1&quot;</td><td>0</td><td>1</td><td>null</td><td>null</td><td>3.0</td><td>null</td><td>null</td><td>null</td><td>2018.0</td><td>null</td><td>&quot;a55475b1&quot;</td><td>&quot;a55475b1&quot;</td></tr></tbody></table></div>"
      ],
      "text/plain": [
       "+-----+-----+-----+-----+-----+-----+-----+-----+-----+-----+-----+-----+-----+-----+-----+-----+-----+-----+-----+\n",
       "| cas | col | col | col | col | col | col | num | num | pmt | pmt | pmt | pmt | pmt | pmt | pmt | pmt | sub | sub |\n",
       "| e_i | lat | lat | lat | lat | lat | lat | _gr | _gr | s_d | s_d | s_m | s_m | s_o | s_o | s_y | s_y | jec | jec |\n",
       "|  d  | er_ | er_ | er_ | er_ | era | era | oup | oup | pd_ | pd_ | ont | ont | ver | ver | ear | ear | tro | tro |\n",
       "|     | typ | typ | val | val | ls_ | ls_ |  1  |  2  | 107 | 303 | h_1 | h_7 | due | due | _11 | _50 | les | les |\n",
       "|     | ofv | ofv | ueo | ueo | typ | typ |     |     |  3P |  P  | 58T | 06T | _11 | _11 | 39T |  7T | _na | _na |\n",
       "|     | alo | alo | fgu | fgu | eof | eof |     |     |     |     |     |     | 40A | 52A |     |     | me_ | me_ |\n",
       "|     | fgu | fgu | ara | ara | gua | gua |     |     |     |     |     |     |     |     |     |     | 541 | 838 |\n",
       "|     | ara | ara | nte | nte | ran | ran |     |     |     |     |     |     |     |     |     |     |  M  |  M  |\n",
       "|     | nt_ | nt_ | e_1 | e_8 | te_ | te_ |     |     |     |     |     |     |     |     |     |     |     |     |\n",
       "|     | 298 | 407 | 124 | 76L | 359 | 669 |     |     |     |     |     |     |     |     |     |     |     |     |\n",
       "|     |  M  |  M  |  L  |     |  M  |  M  |     |     |     |     |     |     |     |     |     |     |     |     |\n",
       "+=================================================================================================================+\n",
       "| 388 | 8fd | a55 | 0.0 | nul | a55 | c7a |  0  |  0  | nul | nul | 2.0 | nul | nul | nul | 201 | nul | a55 | ab3 |\n",
       "|     | 95e | 475 |     |  l  | 475 | 5ad |     |     |  l  |  l  |     |  l  |  l  |  l  | 8.0 |  l  | 475 | c25 |\n",
       "|     |  4b |  b1 |     |     |  b1 |  39 |     |     |     |     |     |     |     |     |     |     |  b1 |  cf |\n",
       "| 388 | 9a0 | a55 | 0.0 | nul | a55 | c7a |  1  |  0  | nul | nul | 2.0 | nul | nul | nul | 201 | nul | a55 | ab3 |\n",
       "|     | c09 | 475 |     |  l  | 475 | 5ad |     |     |  l  |  l  |     |  l  |  l  |  l  | 8.0 |  l  | 475 | c25 |\n",
       "|     |  5e |  b1 |     |     |  b1 |  39 |     |     |     |     |     |     |     |     |     |     |  b1 |  cf |\n",
       "| 388 | a55 | a55 | nul | nul | a55 | a55 |  0  |  1  | nul | nul | 3.0 | nul | nul | nul | 201 | nul | a55 | a55 |\n",
       "|     | 475 | 475 |  l  |  l  | 475 | 475 |     |     |  l  |  l  |     |  l  |  l  |  l  | 8.0 |  l  | 475 | 475 |\n",
       "|     |  b1 |  b1 |     |     |  b1 |  b1 |     |     |     |     |     |     |     |     |     |     |  b1 |  b1 |\n",
       "+-----+-----+-----+-----+-----+-----+-----+-----+-----+-----+-----+-----+-----+-----+-----+-----+-----+-----+-----+"
      ]
     },
     "metadata": {},
     "output_type": "display_data"
    },
    {
     "data": {
      "text/html": [
       "<div><style>\n",
       ".dataframe > thead > tr,\n",
       ".dataframe > tbody > tr {\n",
       "  text-align: right;\n",
       "  white-space: pre-wrap;\n",
       "}\n",
       "</style>\n",
       "<table border=\"1\" class=\"dataframe\"><thead><tr><th>case_id</th><th>collater_typofvalofguarant_298M</th><th>collater_typofvalofguarant_407M</th><th>collater_valueofguarantee_1124L</th><th>collater_valueofguarantee_876L</th><th>collaterals_typeofguarante_359M</th><th>collaterals_typeofguarante_669M</th><th>num_group1</th><th>num_group2</th><th>pmts_dpd_1073P</th><th>pmts_dpd_303P</th><th>pmts_month_158T</th><th>pmts_month_706T</th><th>pmts_overdue_1140A</th><th>pmts_overdue_1152A</th><th>pmts_year_1139T</th><th>pmts_year_507T</th><th>subjectroles_name_541M</th><th>subjectroles_name_838M</th></tr></thead><tbody><tr><td>6683</td><td>&quot;9a0c095e&quot;</td><td>&quot;a55475b1&quot;</td><td>0.0</td><td>null</td><td>&quot;a55475b1&quot;</td><td>&quot;c7a5ad39&quot;</td><td>1</td><td>0</td><td>null</td><td>null</td><td>2.0</td><td>null</td><td>null</td><td>null</td><td>2017.0</td><td>null</td><td>&quot;a55475b1&quot;</td><td>&quot;ab3c25cf&quot;</td></tr><tr><td>6683</td><td>&quot;8fd95e4b&quot;</td><td>&quot;a55475b1&quot;</td><td>6.7e6</td><td>null</td><td>&quot;a55475b1&quot;</td><td>&quot;0e63c0f0&quot;</td><td>0</td><td>1</td><td>null</td><td>null</td><td>3.0</td><td>null</td><td>null</td><td>null</td><td>2017.0</td><td>null</td><td>&quot;a55475b1&quot;</td><td>&quot;a55475b1&quot;</td></tr><tr><td>6683</td><td>&quot;8fd95e4b&quot;</td><td>&quot;a55475b1&quot;</td><td>6.7428e6</td><td>null</td><td>&quot;a55475b1&quot;</td><td>&quot;9276e4bb&quot;</td><td>0</td><td>0</td><td>null</td><td>null</td><td>2.0</td><td>null</td><td>null</td><td>null</td><td>2017.0</td><td>null</td><td>&quot;a55475b1&quot;</td><td>&quot;ab3c25cf&quot;</td></tr></tbody></table></div>"
      ],
      "text/plain": [
       "+-----+-----+-----+-----+-----+-----+-----+-----+-----+-----+-----+-----+-----+-----+-----+-----+-----+-----+-----+\n",
       "| cas | col | col | col | col | col | col | num | num | pmt | pmt | pmt | pmt | pmt | pmt | pmt | pmt | sub | sub |\n",
       "| e_i | lat | lat | lat | lat | lat | lat | _gr | _gr | s_d | s_d | s_m | s_m | s_o | s_o | s_y | s_y | jec | jec |\n",
       "|  d  | er_ | er_ | er_ | er_ | era | era | oup | oup | pd_ | pd_ | ont | ont | ver | ver | ear | ear | tro | tro |\n",
       "|     | typ | typ | val | val | ls_ | ls_ |  1  |  2  | 107 | 303 | h_1 | h_7 | due | due | _11 | _50 | les | les |\n",
       "|     | ofv | ofv | ueo | ueo | typ | typ |     |     |  3P |  P  | 58T | 06T | _11 | _11 | 39T |  7T | _na | _na |\n",
       "|     | alo | alo | fgu | fgu | eof | eof |     |     |     |     |     |     | 40A | 52A |     |     | me_ | me_ |\n",
       "|     | fgu | fgu | ara | ara | gua | gua |     |     |     |     |     |     |     |     |     |     | 541 | 838 |\n",
       "|     | ara | ara | nte | nte | ran | ran |     |     |     |     |     |     |     |     |     |     |  M  |  M  |\n",
       "|     | nt_ | nt_ | e_1 | e_8 | te_ | te_ |     |     |     |     |     |     |     |     |     |     |     |     |\n",
       "|     | 298 | 407 | 124 | 76L | 359 | 669 |     |     |     |     |     |     |     |     |     |     |     |     |\n",
       "|     |  M  |  M  |  L  |     |  M  |  M  |     |     |     |     |     |     |     |     |     |     |     |     |\n",
       "+=================================================================================================================+\n",
       "| 668 | 9a0 | a55 | 0.0 | nul | a55 | c7a |  1  |  0  | nul | nul | 2.0 | nul | nul | nul | 201 | nul | a55 | ab3 |\n",
       "|  3  | c09 | 475 |     |  l  | 475 | 5ad |     |     |  l  |  l  |     |  l  |  l  |  l  | 7.0 |  l  | 475 | c25 |\n",
       "|     |  5e |  b1 |     |     |  b1 |  39 |     |     |     |     |     |     |     |     |     |     |  b1 |  cf |\n",
       "| 668 | 8fd | a55 | 6.7 | nul | a55 | 0e6 |  0  |  1  | nul | nul | 3.0 | nul | nul | nul | 201 | nul | a55 | a55 |\n",
       "|  3  | 95e | 475 |  e6 |  l  | 475 | 3c0 |     |     |  l  |  l  |     |  l  |  l  |  l  | 7.0 |  l  | 475 | 475 |\n",
       "|     |  4b |  b1 |     |     |  b1 |  f0 |     |     |     |     |     |     |     |     |     |     |  b1 |  b1 |\n",
       "| 668 | 8fd | a55 | 6.7 | nul | a55 | 927 |  0  |  0  | nul | nul | 2.0 | nul | nul | nul | 201 | nul | a55 | ab3 |\n",
       "|  3  | 95e | 475 | 428 |  l  | 475 | 6e4 |     |     |  l  |  l  |     |  l  |  l  |  l  | 7.0 |  l  | 475 | c25 |\n",
       "|     |  4b |  b1 |  e6 |     |  b1 |  bb |     |     |     |     |     |     |     |     |     |     |  b1 |  cf |\n",
       "+-----+-----+-----+-----+-----+-----+-----+-----+-----+-----+-----+-----+-----+-----+-----+-----+-----+-----+-----+"
      ]
     },
     "metadata": {},
     "output_type": "display_data"
    },
    {
     "data": {
      "text/html": [
       "<div><style>\n",
       ".dataframe > thead > tr,\n",
       ".dataframe > tbody > tr {\n",
       "  text-align: right;\n",
       "  white-space: pre-wrap;\n",
       "}\n",
       "</style>\n",
       "<table border=\"1\" class=\"dataframe\"><thead><tr><th>case_id</th><th>collater_typofvalofguarant_298M</th><th>collater_typofvalofguarant_407M</th><th>collater_valueofguarantee_1124L</th><th>collater_valueofguarantee_876L</th><th>collaterals_typeofguarante_359M</th><th>collaterals_typeofguarante_669M</th><th>num_group1</th><th>num_group2</th><th>pmts_dpd_1073P</th><th>pmts_dpd_303P</th><th>pmts_month_158T</th><th>pmts_month_706T</th><th>pmts_overdue_1140A</th><th>pmts_overdue_1152A</th><th>pmts_year_1139T</th><th>pmts_year_507T</th><th>subjectroles_name_541M</th><th>subjectroles_name_838M</th></tr></thead><tbody><tr><td>56408</td><td>&quot;a55475b1&quot;</td><td>&quot;8fd95e4b&quot;</td><td>null</td><td>0.0</td><td>&quot;3cbe86ba&quot;</td><td>&quot;a55475b1&quot;</td><td>0</td><td>0</td><td>null</td><td>null</td><td>null</td><td>2.0</td><td>null</td><td>null</td><td>null</td><td>2012.0</td><td>&quot;ab3c25cf&quot;</td><td>&quot;a55475b1&quot;</td></tr><tr><td>56408</td><td>&quot;a55475b1&quot;</td><td>&quot;8fd95e4b&quot;</td><td>null</td><td>0.0</td><td>&quot;c7a5ad39&quot;</td><td>&quot;a55475b1&quot;</td><td>1</td><td>0</td><td>null</td><td>null</td><td>null</td><td>2.0</td><td>null</td><td>null</td><td>null</td><td>2015.0</td><td>&quot;ab3c25cf&quot;</td><td>&quot;a55475b1&quot;</td></tr><tr><td>56408</td><td>&quot;a55475b1&quot;</td><td>&quot;8fd95e4b&quot;</td><td>null</td><td>0.0</td><td>&quot;c7a5ad39&quot;</td><td>&quot;a55475b1&quot;</td><td>2</td><td>0</td><td>null</td><td>null</td><td>null</td><td>2.0</td><td>null</td><td>null</td><td>null</td><td>2018.0</td><td>&quot;ab3c25cf&quot;</td><td>&quot;a55475b1&quot;</td></tr></tbody></table></div>"
      ],
      "text/plain": [
       "+-----+-----+-----+-----+-----+-----+-----+-----+-----+-----+-----+-----+-----+-----+-----+-----+-----+-----+-----+\n",
       "| cas | col | col | col | col | col | col | num | num | pmt | pmt | pmt | pmt | pmt | pmt | pmt | pmt | sub | sub |\n",
       "| e_i | lat | lat | lat | lat | lat | lat | _gr | _gr | s_d | s_d | s_m | s_m | s_o | s_o | s_y | s_y | jec | jec |\n",
       "|  d  | er_ | er_ | er_ | er_ | era | era | oup | oup | pd_ | pd_ | ont | ont | ver | ver | ear | ear | tro | tro |\n",
       "|     | typ | typ | val | val | ls_ | ls_ |  1  |  2  | 107 | 303 | h_1 | h_7 | due | due | _11 | _50 | les | les |\n",
       "|     | ofv | ofv | ueo | ueo | typ | typ |     |     |  3P |  P  | 58T | 06T | _11 | _11 | 39T |  7T | _na | _na |\n",
       "|     | alo | alo | fgu | fgu | eof | eof |     |     |     |     |     |     | 40A | 52A |     |     | me_ | me_ |\n",
       "|     | fgu | fgu | ara | ara | gua | gua |     |     |     |     |     |     |     |     |     |     | 541 | 838 |\n",
       "|     | ara | ara | nte | nte | ran | ran |     |     |     |     |     |     |     |     |     |     |  M  |  M  |\n",
       "|     | nt_ | nt_ | e_1 | e_8 | te_ | te_ |     |     |     |     |     |     |     |     |     |     |     |     |\n",
       "|     | 298 | 407 | 124 | 76L | 359 | 669 |     |     |     |     |     |     |     |     |     |     |     |     |\n",
       "|     |  M  |  M  |  L  |     |  M  |  M  |     |     |     |     |     |     |     |     |     |     |     |     |\n",
       "+=================================================================================================================+\n",
       "| 564 | a55 | 8fd | nul | 0.0 | 3cb | a55 |  0  |  0  | nul | nul | nul | 2.0 | nul | nul | nul | 201 | ab3 | a55 |\n",
       "|  08 | 475 | 95e |  l  |     | e86 | 475 |     |     |  l  |  l  |  l  |     |  l  |  l  |  l  | 2.0 | c25 | 475 |\n",
       "|     |  b1 |  4b |     |     |  ba |  b1 |     |     |     |     |     |     |     |     |     |     |  cf |  b1 |\n",
       "| 564 | a55 | 8fd | nul | 0.0 | c7a | a55 |  1  |  0  | nul | nul | nul | 2.0 | nul | nul | nul | 201 | ab3 | a55 |\n",
       "|  08 | 475 | 95e |  l  |     | 5ad | 475 |     |     |  l  |  l  |  l  |     |  l  |  l  |  l  | 5.0 | c25 | 475 |\n",
       "|     |  b1 |  4b |     |     |  39 |  b1 |     |     |     |     |     |     |     |     |     |     |  cf |  b1 |\n",
       "| 564 | a55 | 8fd | nul | 0.0 | c7a | a55 |  2  |  0  | nul | nul | nul | 2.0 | nul | nul | nul | 201 | ab3 | a55 |\n",
       "|  08 | 475 | 95e |  l  |     | 5ad | 475 |     |     |  l  |  l  |  l  |     |  l  |  l  |  l  | 8.0 | c25 | 475 |\n",
       "|     |  b1 |  4b |     |     |  39 |  b1 |     |     |     |     |     |     |     |     |     |     |  cf |  b1 |\n",
       "+-----+-----+-----+-----+-----+-----+-----+-----+-----+-----+-----+-----+-----+-----+-----+-----+-----+-----+-----+"
      ]
     },
     "metadata": {},
     "output_type": "display_data"
    },
    {
     "data": {
      "text/html": [
       "<div><style>\n",
       ".dataframe > thead > tr,\n",
       ".dataframe > tbody > tr {\n",
       "  text-align: right;\n",
       "  white-space: pre-wrap;\n",
       "}\n",
       "</style>\n",
       "<table border=\"1\" class=\"dataframe\"><thead><tr><th>case_id</th><th>collater_typofvalofguarant_298M</th><th>collater_typofvalofguarant_407M</th><th>collater_valueofguarantee_1124L</th><th>collater_valueofguarantee_876L</th><th>collaterals_typeofguarante_359M</th><th>collaterals_typeofguarante_669M</th><th>num_group1</th><th>num_group2</th><th>pmts_dpd_1073P</th><th>pmts_dpd_303P</th><th>pmts_month_158T</th><th>pmts_month_706T</th><th>pmts_overdue_1140A</th><th>pmts_overdue_1152A</th><th>pmts_year_1139T</th><th>pmts_year_507T</th><th>subjectroles_name_541M</th><th>subjectroles_name_838M</th></tr></thead><tbody><tr><td>13927</td><td>&quot;8fd95e4b&quot;</td><td>&quot;a55475b1&quot;</td><td>0.0</td><td>null</td><td>&quot;a55475b1&quot;</td><td>&quot;c7a5ad39&quot;</td><td>0</td><td>0</td><td>null</td><td>null</td><td>2.0</td><td>null</td><td>null</td><td>null</td><td>2017.0</td><td>null</td><td>&quot;a55475b1&quot;</td><td>&quot;ab3c25cf&quot;</td></tr><tr><td>13927</td><td>&quot;a55475b1&quot;</td><td>&quot;a55475b1&quot;</td><td>null</td><td>null</td><td>&quot;a55475b1&quot;</td><td>&quot;a55475b1&quot;</td><td>0</td><td>1</td><td>null</td><td>null</td><td>3.0</td><td>null</td><td>null</td><td>null</td><td>2017.0</td><td>null</td><td>&quot;a55475b1&quot;</td><td>&quot;a55475b1&quot;</td></tr><tr><td>13927</td><td>&quot;a55475b1&quot;</td><td>&quot;a55475b1&quot;</td><td>null</td><td>null</td><td>&quot;a55475b1&quot;</td><td>&quot;a55475b1&quot;</td><td>0</td><td>2</td><td>null</td><td>null</td><td>4.0</td><td>null</td><td>null</td><td>null</td><td>2017.0</td><td>null</td><td>&quot;a55475b1&quot;</td><td>&quot;a55475b1&quot;</td></tr></tbody></table></div>"
      ],
      "text/plain": [
       "+-----+-----+-----+-----+-----+-----+-----+-----+-----+-----+-----+-----+-----+-----+-----+-----+-----+-----+-----+\n",
       "| cas | col | col | col | col | col | col | num | num | pmt | pmt | pmt | pmt | pmt | pmt | pmt | pmt | sub | sub |\n",
       "| e_i | lat | lat | lat | lat | lat | lat | _gr | _gr | s_d | s_d | s_m | s_m | s_o | s_o | s_y | s_y | jec | jec |\n",
       "|  d  | er_ | er_ | er_ | er_ | era | era | oup | oup | pd_ | pd_ | ont | ont | ver | ver | ear | ear | tro | tro |\n",
       "|     | typ | typ | val | val | ls_ | ls_ |  1  |  2  | 107 | 303 | h_1 | h_7 | due | due | _11 | _50 | les | les |\n",
       "|     | ofv | ofv | ueo | ueo | typ | typ |     |     |  3P |  P  | 58T | 06T | _11 | _11 | 39T |  7T | _na | _na |\n",
       "|     | alo | alo | fgu | fgu | eof | eof |     |     |     |     |     |     | 40A | 52A |     |     | me_ | me_ |\n",
       "|     | fgu | fgu | ara | ara | gua | gua |     |     |     |     |     |     |     |     |     |     | 541 | 838 |\n",
       "|     | ara | ara | nte | nte | ran | ran |     |     |     |     |     |     |     |     |     |     |  M  |  M  |\n",
       "|     | nt_ | nt_ | e_1 | e_8 | te_ | te_ |     |     |     |     |     |     |     |     |     |     |     |     |\n",
       "|     | 298 | 407 | 124 | 76L | 359 | 669 |     |     |     |     |     |     |     |     |     |     |     |     |\n",
       "|     |  M  |  M  |  L  |     |  M  |  M  |     |     |     |     |     |     |     |     |     |     |     |     |\n",
       "+=================================================================================================================+\n",
       "| 139 | 8fd | a55 | 0.0 | nul | a55 | c7a |  0  |  0  | nul | nul | 2.0 | nul | nul | nul | 201 | nul | a55 | ab3 |\n",
       "|  27 | 95e | 475 |     |  l  | 475 | 5ad |     |     |  l  |  l  |     |  l  |  l  |  l  | 7.0 |  l  | 475 | c25 |\n",
       "|     |  4b |  b1 |     |     |  b1 |  39 |     |     |     |     |     |     |     |     |     |     |  b1 |  cf |\n",
       "| 139 | a55 | a55 | nul | nul | a55 | a55 |  0  |  1  | nul | nul | 3.0 | nul | nul | nul | 201 | nul | a55 | a55 |\n",
       "|  27 | 475 | 475 |  l  |  l  | 475 | 475 |     |     |  l  |  l  |     |  l  |  l  |  l  | 7.0 |  l  | 475 | 475 |\n",
       "|     |  b1 |  b1 |     |     |  b1 |  b1 |     |     |     |     |     |     |     |     |     |     |  b1 |  b1 |\n",
       "| 139 | a55 | a55 | nul | nul | a55 | a55 |  0  |  2  | nul | nul | 4.0 | nul | nul | nul | 201 | nul | a55 | a55 |\n",
       "|  27 | 475 | 475 |  l  |  l  | 475 | 475 |     |     |  l  |  l  |     |  l  |  l  |  l  | 7.0 |  l  | 475 | 475 |\n",
       "|     |  b1 |  b1 |     |     |  b1 |  b1 |     |     |     |     |     |     |     |     |     |     |  b1 |  b1 |\n",
       "+-----+-----+-----+-----+-----+-----+-----+-----+-----+-----+-----+-----+-----+-----+-----+-----+-----+-----+-----+"
      ]
     },
     "metadata": {},
     "output_type": "display_data"
    },
    {
     "data": {
      "text/html": [
       "<div><style>\n",
       ".dataframe > thead > tr,\n",
       ".dataframe > tbody > tr {\n",
       "  text-align: right;\n",
       "  white-space: pre-wrap;\n",
       "}\n",
       "</style>\n",
       "<table border=\"1\" class=\"dataframe\"><thead><tr><th>case_id</th><th>collater_typofvalofguarant_298M</th><th>collater_typofvalofguarant_407M</th><th>collater_valueofguarantee_1124L</th><th>collater_valueofguarantee_876L</th><th>collaterals_typeofguarante_359M</th><th>collaterals_typeofguarante_669M</th><th>num_group1</th><th>num_group2</th><th>pmts_dpd_1073P</th><th>pmts_dpd_303P</th><th>pmts_month_158T</th><th>pmts_month_706T</th><th>pmts_overdue_1140A</th><th>pmts_overdue_1152A</th><th>pmts_year_1139T</th><th>pmts_year_507T</th><th>subjectroles_name_541M</th><th>subjectroles_name_838M</th></tr></thead><tbody><tr><td>21161</td><td>&quot;9a0c095e&quot;</td><td>&quot;a55475b1&quot;</td><td>0.0</td><td>null</td><td>&quot;a55475b1&quot;</td><td>&quot;c7a5ad39&quot;</td><td>0</td><td>0</td><td>null</td><td>null</td><td>2.0</td><td>null</td><td>null</td><td>null</td><td>2017.0</td><td>null</td><td>&quot;a55475b1&quot;</td><td>&quot;ab3c25cf&quot;</td></tr><tr><td>21161</td><td>&quot;a55475b1&quot;</td><td>&quot;a55475b1&quot;</td><td>null</td><td>null</td><td>&quot;a55475b1&quot;</td><td>&quot;a55475b1&quot;</td><td>0</td><td>1</td><td>null</td><td>null</td><td>3.0</td><td>null</td><td>null</td><td>null</td><td>2017.0</td><td>null</td><td>&quot;a55475b1&quot;</td><td>&quot;a55475b1&quot;</td></tr><tr><td>21161</td><td>&quot;a55475b1&quot;</td><td>&quot;a55475b1&quot;</td><td>null</td><td>null</td><td>&quot;a55475b1&quot;</td><td>&quot;a55475b1&quot;</td><td>0</td><td>2</td><td>null</td><td>null</td><td>4.0</td><td>null</td><td>null</td><td>null</td><td>2017.0</td><td>null</td><td>&quot;a55475b1&quot;</td><td>&quot;a55475b1&quot;</td></tr></tbody></table></div>"
      ],
      "text/plain": [
       "+-----+-----+-----+-----+-----+-----+-----+-----+-----+-----+-----+-----+-----+-----+-----+-----+-----+-----+-----+\n",
       "| cas | col | col | col | col | col | col | num | num | pmt | pmt | pmt | pmt | pmt | pmt | pmt | pmt | sub | sub |\n",
       "| e_i | lat | lat | lat | lat | lat | lat | _gr | _gr | s_d | s_d | s_m | s_m | s_o | s_o | s_y | s_y | jec | jec |\n",
       "|  d  | er_ | er_ | er_ | er_ | era | era | oup | oup | pd_ | pd_ | ont | ont | ver | ver | ear | ear | tro | tro |\n",
       "|     | typ | typ | val | val | ls_ | ls_ |  1  |  2  | 107 | 303 | h_1 | h_7 | due | due | _11 | _50 | les | les |\n",
       "|     | ofv | ofv | ueo | ueo | typ | typ |     |     |  3P |  P  | 58T | 06T | _11 | _11 | 39T |  7T | _na | _na |\n",
       "|     | alo | alo | fgu | fgu | eof | eof |     |     |     |     |     |     | 40A | 52A |     |     | me_ | me_ |\n",
       "|     | fgu | fgu | ara | ara | gua | gua |     |     |     |     |     |     |     |     |     |     | 541 | 838 |\n",
       "|     | ara | ara | nte | nte | ran | ran |     |     |     |     |     |     |     |     |     |     |  M  |  M  |\n",
       "|     | nt_ | nt_ | e_1 | e_8 | te_ | te_ |     |     |     |     |     |     |     |     |     |     |     |     |\n",
       "|     | 298 | 407 | 124 | 76L | 359 | 669 |     |     |     |     |     |     |     |     |     |     |     |     |\n",
       "|     |  M  |  M  |  L  |     |  M  |  M  |     |     |     |     |     |     |     |     |     |     |     |     |\n",
       "+=================================================================================================================+\n",
       "| 211 | 9a0 | a55 | 0.0 | nul | a55 | c7a |  0  |  0  | nul | nul | 2.0 | nul | nul | nul | 201 | nul | a55 | ab3 |\n",
       "|  61 | c09 | 475 |     |  l  | 475 | 5ad |     |     |  l  |  l  |     |  l  |  l  |  l  | 7.0 |  l  | 475 | c25 |\n",
       "|     |  5e |  b1 |     |     |  b1 |  39 |     |     |     |     |     |     |     |     |     |     |  b1 |  cf |\n",
       "| 211 | a55 | a55 | nul | nul | a55 | a55 |  0  |  1  | nul | nul | 3.0 | nul | nul | nul | 201 | nul | a55 | a55 |\n",
       "|  61 | 475 | 475 |  l  |  l  | 475 | 475 |     |     |  l  |  l  |     |  l  |  l  |  l  | 7.0 |  l  | 475 | 475 |\n",
       "|     |  b1 |  b1 |     |     |  b1 |  b1 |     |     |     |     |     |     |     |     |     |     |  b1 |  b1 |\n",
       "| 211 | a55 | a55 | nul | nul | a55 | a55 |  0  |  2  | nul | nul | 4.0 | nul | nul | nul | 201 | nul | a55 | a55 |\n",
       "|  61 | 475 | 475 |  l  |  l  | 475 | 475 |     |     |  l  |  l  |     |  l  |  l  |  l  | 7.0 |  l  | 475 | 475 |\n",
       "|     |  b1 |  b1 |     |     |  b1 |  b1 |     |     |     |     |     |     |     |     |     |     |  b1 |  b1 |\n",
       "+-----+-----+-----+-----+-----+-----+-----+-----+-----+-----+-----+-----+-----+-----+-----+-----+-----+-----+-----+"
      ]
     },
     "metadata": {},
     "output_type": "display_data"
    },
    {
     "data": {
      "text/html": [
       "<div><style>\n",
       ".dataframe > thead > tr,\n",
       ".dataframe > tbody > tr {\n",
       "  text-align: right;\n",
       "  white-space: pre-wrap;\n",
       "}\n",
       "</style>\n",
       "<table border=\"1\" class=\"dataframe\"><thead><tr><th>case_id</th><th>collater_typofvalofguarant_298M</th><th>collater_typofvalofguarant_407M</th><th>collater_valueofguarantee_1124L</th><th>collater_valueofguarantee_876L</th><th>collaterals_typeofguarante_359M</th><th>collaterals_typeofguarante_669M</th><th>num_group1</th><th>num_group2</th><th>pmts_dpd_1073P</th><th>pmts_dpd_303P</th><th>pmts_month_158T</th><th>pmts_month_706T</th><th>pmts_overdue_1140A</th><th>pmts_overdue_1152A</th><th>pmts_year_1139T</th><th>pmts_year_507T</th><th>subjectroles_name_541M</th><th>subjectroles_name_838M</th></tr></thead><tbody><tr><td>29427</td><td>&quot;9a0c095e&quot;</td><td>&quot;a55475b1&quot;</td><td>0.0</td><td>null</td><td>&quot;a55475b1&quot;</td><td>&quot;c7a5ad39&quot;</td><td>0</td><td>0</td><td>null</td><td>null</td><td>2.0</td><td>null</td><td>null</td><td>null</td><td>2019.0</td><td>null</td><td>&quot;a55475b1&quot;</td><td>&quot;ab3c25cf&quot;</td></tr><tr><td>29427</td><td>&quot;a55475b1&quot;</td><td>&quot;a55475b1&quot;</td><td>null</td><td>null</td><td>&quot;a55475b1&quot;</td><td>&quot;a55475b1&quot;</td><td>0</td><td>1</td><td>null</td><td>null</td><td>3.0</td><td>null</td><td>null</td><td>null</td><td>2019.0</td><td>null</td><td>&quot;a55475b1&quot;</td><td>&quot;a55475b1&quot;</td></tr><tr><td>29427</td><td>&quot;a55475b1&quot;</td><td>&quot;a55475b1&quot;</td><td>null</td><td>null</td><td>&quot;a55475b1&quot;</td><td>&quot;a55475b1&quot;</td><td>0</td><td>2</td><td>null</td><td>null</td><td>4.0</td><td>null</td><td>null</td><td>null</td><td>2019.0</td><td>null</td><td>&quot;a55475b1&quot;</td><td>&quot;a55475b1&quot;</td></tr></tbody></table></div>"
      ],
      "text/plain": [
       "+-----+-----+-----+-----+-----+-----+-----+-----+-----+-----+-----+-----+-----+-----+-----+-----+-----+-----+-----+\n",
       "| cas | col | col | col | col | col | col | num | num | pmt | pmt | pmt | pmt | pmt | pmt | pmt | pmt | sub | sub |\n",
       "| e_i | lat | lat | lat | lat | lat | lat | _gr | _gr | s_d | s_d | s_m | s_m | s_o | s_o | s_y | s_y | jec | jec |\n",
       "|  d  | er_ | er_ | er_ | er_ | era | era | oup | oup | pd_ | pd_ | ont | ont | ver | ver | ear | ear | tro | tro |\n",
       "|     | typ | typ | val | val | ls_ | ls_ |  1  |  2  | 107 | 303 | h_1 | h_7 | due | due | _11 | _50 | les | les |\n",
       "|     | ofv | ofv | ueo | ueo | typ | typ |     |     |  3P |  P  | 58T | 06T | _11 | _11 | 39T |  7T | _na | _na |\n",
       "|     | alo | alo | fgu | fgu | eof | eof |     |     |     |     |     |     | 40A | 52A |     |     | me_ | me_ |\n",
       "|     | fgu | fgu | ara | ara | gua | gua |     |     |     |     |     |     |     |     |     |     | 541 | 838 |\n",
       "|     | ara | ara | nte | nte | ran | ran |     |     |     |     |     |     |     |     |     |     |  M  |  M  |\n",
       "|     | nt_ | nt_ | e_1 | e_8 | te_ | te_ |     |     |     |     |     |     |     |     |     |     |     |     |\n",
       "|     | 298 | 407 | 124 | 76L | 359 | 669 |     |     |     |     |     |     |     |     |     |     |     |     |\n",
       "|     |  M  |  M  |  L  |     |  M  |  M  |     |     |     |     |     |     |     |     |     |     |     |     |\n",
       "+=================================================================================================================+\n",
       "| 294 | 9a0 | a55 | 0.0 | nul | a55 | c7a |  0  |  0  | nul | nul | 2.0 | nul | nul | nul | 201 | nul | a55 | ab3 |\n",
       "|  27 | c09 | 475 |     |  l  | 475 | 5ad |     |     |  l  |  l  |     |  l  |  l  |  l  | 9.0 |  l  | 475 | c25 |\n",
       "|     |  5e |  b1 |     |     |  b1 |  39 |     |     |     |     |     |     |     |     |     |     |  b1 |  cf |\n",
       "| 294 | a55 | a55 | nul | nul | a55 | a55 |  0  |  1  | nul | nul | 3.0 | nul | nul | nul | 201 | nul | a55 | a55 |\n",
       "|  27 | 475 | 475 |  l  |  l  | 475 | 475 |     |     |  l  |  l  |     |  l  |  l  |  l  | 9.0 |  l  | 475 | 475 |\n",
       "|     |  b1 |  b1 |     |     |  b1 |  b1 |     |     |     |     |     |     |     |     |     |     |  b1 |  b1 |\n",
       "| 294 | a55 | a55 | nul | nul | a55 | a55 |  0  |  2  | nul | nul | 4.0 | nul | nul | nul | 201 | nul | a55 | a55 |\n",
       "|  27 | 475 | 475 |  l  |  l  | 475 | 475 |     |     |  l  |  l  |     |  l  |  l  |  l  | 9.0 |  l  | 475 | 475 |\n",
       "|     |  b1 |  b1 |     |     |  b1 |  b1 |     |     |     |     |     |     |     |     |     |     |  b1 |  b1 |\n",
       "+-----+-----+-----+-----+-----+-----+-----+-----+-----+-----+-----+-----+-----+-----+-----+-----+-----+-----+-----+"
      ]
     },
     "metadata": {},
     "output_type": "display_data"
    },
    {
     "data": {
      "text/html": [
       "<div><style>\n",
       ".dataframe > thead > tr,\n",
       ".dataframe > tbody > tr {\n",
       "  text-align: right;\n",
       "  white-space: pre-wrap;\n",
       "}\n",
       "</style>\n",
       "<table border=\"1\" class=\"dataframe\"><thead><tr><th>case_id</th><th>collater_typofvalofguarant_298M</th><th>collater_typofvalofguarant_407M</th><th>collater_valueofguarantee_1124L</th><th>collater_valueofguarantee_876L</th><th>collaterals_typeofguarante_359M</th><th>collaterals_typeofguarante_669M</th><th>num_group1</th><th>num_group2</th><th>pmts_dpd_1073P</th><th>pmts_dpd_303P</th><th>pmts_month_158T</th><th>pmts_month_706T</th><th>pmts_overdue_1140A</th><th>pmts_overdue_1152A</th><th>pmts_year_1139T</th><th>pmts_year_507T</th><th>subjectroles_name_541M</th><th>subjectroles_name_838M</th></tr></thead><tbody><tr><td>36830</td><td>&quot;9a0c095e&quot;</td><td>&quot;8fd95e4b&quot;</td><td>0.0</td><td>0.0</td><td>&quot;3cbe86ba&quot;</td><td>&quot;c7a5ad39&quot;</td><td>0</td><td>0</td><td>null</td><td>null</td><td>2.0</td><td>2.0</td><td>null</td><td>null</td><td>2017.0</td><td>2013.0</td><td>&quot;ab3c25cf&quot;</td><td>&quot;ab3c25cf&quot;</td></tr><tr><td>36830</td><td>&quot;8fd95e4b&quot;</td><td>&quot;8fd95e4b&quot;</td><td>0.0</td><td>0.0</td><td>&quot;c7a5ad39&quot;</td><td>&quot;c7a5ad39&quot;</td><td>1</td><td>0</td><td>null</td><td>null</td><td>2.0</td><td>2.0</td><td>null</td><td>null</td><td>2017.0</td><td>2016.0</td><td>&quot;ab3c25cf&quot;</td><td>&quot;ab3c25cf&quot;</td></tr><tr><td>36830</td><td>&quot;9a0c095e&quot;</td><td>&quot;a55475b1&quot;</td><td>0.0</td><td>null</td><td>&quot;a55475b1&quot;</td><td>&quot;c7a5ad39&quot;</td><td>2</td><td>0</td><td>null</td><td>null</td><td>2.0</td><td>null</td><td>null</td><td>null</td><td>2018.0</td><td>null</td><td>&quot;a55475b1&quot;</td><td>&quot;ab3c25cf&quot;</td></tr></tbody></table></div>"
      ],
      "text/plain": [
       "+-----+-----+-----+-----+-----+-----+-----+-----+-----+-----+-----+-----+-----+-----+-----+-----+-----+-----+-----+\n",
       "| cas | col | col | col | col | col | col | num | num | pmt | pmt | pmt | pmt | pmt | pmt | pmt | pmt | sub | sub |\n",
       "| e_i | lat | lat | lat | lat | lat | lat | _gr | _gr | s_d | s_d | s_m | s_m | s_o | s_o | s_y | s_y | jec | jec |\n",
       "|  d  | er_ | er_ | er_ | er_ | era | era | oup | oup | pd_ | pd_ | ont | ont | ver | ver | ear | ear | tro | tro |\n",
       "|     | typ | typ | val | val | ls_ | ls_ |  1  |  2  | 107 | 303 | h_1 | h_7 | due | due | _11 | _50 | les | les |\n",
       "|     | ofv | ofv | ueo | ueo | typ | typ |     |     |  3P |  P  | 58T | 06T | _11 | _11 | 39T |  7T | _na | _na |\n",
       "|     | alo | alo | fgu | fgu | eof | eof |     |     |     |     |     |     | 40A | 52A |     |     | me_ | me_ |\n",
       "|     | fgu | fgu | ara | ara | gua | gua |     |     |     |     |     |     |     |     |     |     | 541 | 838 |\n",
       "|     | ara | ara | nte | nte | ran | ran |     |     |     |     |     |     |     |     |     |     |  M  |  M  |\n",
       "|     | nt_ | nt_ | e_1 | e_8 | te_ | te_ |     |     |     |     |     |     |     |     |     |     |     |     |\n",
       "|     | 298 | 407 | 124 | 76L | 359 | 669 |     |     |     |     |     |     |     |     |     |     |     |     |\n",
       "|     |  M  |  M  |  L  |     |  M  |  M  |     |     |     |     |     |     |     |     |     |     |     |     |\n",
       "+=================================================================================================================+\n",
       "| 368 | 9a0 | 8fd | 0.0 | 0.0 | 3cb | c7a |  0  |  0  | nul | nul | 2.0 | 2.0 | nul | nul | 201 | 201 | ab3 | ab3 |\n",
       "|  30 | c09 | 95e |     |     | e86 | 5ad |     |     |  l  |  l  |     |     |  l  |  l  | 7.0 | 3.0 | c25 | c25 |\n",
       "|     |  5e |  4b |     |     |  ba |  39 |     |     |     |     |     |     |     |     |     |     |  cf |  cf |\n",
       "| 368 | 8fd | 8fd | 0.0 | 0.0 | c7a | c7a |  1  |  0  | nul | nul | 2.0 | 2.0 | nul | nul | 201 | 201 | ab3 | ab3 |\n",
       "|  30 | 95e | 95e |     |     | 5ad | 5ad |     |     |  l  |  l  |     |     |  l  |  l  | 7.0 | 6.0 | c25 | c25 |\n",
       "|     |  4b |  4b |     |     |  39 |  39 |     |     |     |     |     |     |     |     |     |     |  cf |  cf |\n",
       "| 368 | 9a0 | a55 | 0.0 | nul | a55 | c7a |  2  |  0  | nul | nul | 2.0 | nul | nul | nul | 201 | nul | a55 | ab3 |\n",
       "|  30 | c09 | 475 |     |  l  | 475 | 5ad |     |     |  l  |  l  |     |  l  |  l  |  l  | 8.0 |  l  | 475 | c25 |\n",
       "|     |  5e |  b1 |     |     |  b1 |  39 |     |     |     |     |     |     |     |     |     |     |  b1 |  cf |\n",
       "+-----+-----+-----+-----+-----+-----+-----+-----+-----+-----+-----+-----+-----+-----+-----+-----+-----+-----+-----+"
      ]
     },
     "metadata": {},
     "output_type": "display_data"
    },
    {
     "data": {
      "text/html": [
       "<div><style>\n",
       ".dataframe > thead > tr,\n",
       ".dataframe > tbody > tr {\n",
       "  text-align: right;\n",
       "  white-space: pre-wrap;\n",
       "}\n",
       "</style>\n",
       "<table border=\"1\" class=\"dataframe\"><thead><tr><th>case_id</th><th>collater_typofvalofguarant_298M</th><th>collater_typofvalofguarant_407M</th><th>collater_valueofguarantee_1124L</th><th>collater_valueofguarantee_876L</th><th>collaterals_typeofguarante_359M</th><th>collaterals_typeofguarante_669M</th><th>num_group1</th><th>num_group2</th><th>pmts_dpd_1073P</th><th>pmts_dpd_303P</th><th>pmts_month_158T</th><th>pmts_month_706T</th><th>pmts_overdue_1140A</th><th>pmts_overdue_1152A</th><th>pmts_year_1139T</th><th>pmts_year_507T</th><th>subjectroles_name_541M</th><th>subjectroles_name_838M</th></tr></thead><tbody><tr><td>42865</td><td>&quot;9a0c095e&quot;</td><td>&quot;a55475b1&quot;</td><td>0.0</td><td>null</td><td>&quot;a55475b1&quot;</td><td>&quot;c7a5ad39&quot;</td><td>0</td><td>0</td><td>null</td><td>null</td><td>2.0</td><td>null</td><td>null</td><td>null</td><td>2018.0</td><td>null</td><td>&quot;a55475b1&quot;</td><td>&quot;ab3c25cf&quot;</td></tr><tr><td>42865</td><td>&quot;a55475b1&quot;</td><td>&quot;a55475b1&quot;</td><td>null</td><td>null</td><td>&quot;a55475b1&quot;</td><td>&quot;a55475b1&quot;</td><td>0</td><td>1</td><td>null</td><td>null</td><td>3.0</td><td>null</td><td>null</td><td>null</td><td>2018.0</td><td>null</td><td>&quot;a55475b1&quot;</td><td>&quot;a55475b1&quot;</td></tr><tr><td>42865</td><td>&quot;a55475b1&quot;</td><td>&quot;a55475b1&quot;</td><td>null</td><td>null</td><td>&quot;a55475b1&quot;</td><td>&quot;a55475b1&quot;</td><td>0</td><td>2</td><td>null</td><td>null</td><td>4.0</td><td>null</td><td>null</td><td>null</td><td>2018.0</td><td>null</td><td>&quot;a55475b1&quot;</td><td>&quot;a55475b1&quot;</td></tr></tbody></table></div>"
      ],
      "text/plain": [
       "+-----+-----+-----+-----+-----+-----+-----+-----+-----+-----+-----+-----+-----+-----+-----+-----+-----+-----+-----+\n",
       "| cas | col | col | col | col | col | col | num | num | pmt | pmt | pmt | pmt | pmt | pmt | pmt | pmt | sub | sub |\n",
       "| e_i | lat | lat | lat | lat | lat | lat | _gr | _gr | s_d | s_d | s_m | s_m | s_o | s_o | s_y | s_y | jec | jec |\n",
       "|  d  | er_ | er_ | er_ | er_ | era | era | oup | oup | pd_ | pd_ | ont | ont | ver | ver | ear | ear | tro | tro |\n",
       "|     | typ | typ | val | val | ls_ | ls_ |  1  |  2  | 107 | 303 | h_1 | h_7 | due | due | _11 | _50 | les | les |\n",
       "|     | ofv | ofv | ueo | ueo | typ | typ |     |     |  3P |  P  | 58T | 06T | _11 | _11 | 39T |  7T | _na | _na |\n",
       "|     | alo | alo | fgu | fgu | eof | eof |     |     |     |     |     |     | 40A | 52A |     |     | me_ | me_ |\n",
       "|     | fgu | fgu | ara | ara | gua | gua |     |     |     |     |     |     |     |     |     |     | 541 | 838 |\n",
       "|     | ara | ara | nte | nte | ran | ran |     |     |     |     |     |     |     |     |     |     |  M  |  M  |\n",
       "|     | nt_ | nt_ | e_1 | e_8 | te_ | te_ |     |     |     |     |     |     |     |     |     |     |     |     |\n",
       "|     | 298 | 407 | 124 | 76L | 359 | 669 |     |     |     |     |     |     |     |     |     |     |     |     |\n",
       "|     |  M  |  M  |  L  |     |  M  |  M  |     |     |     |     |     |     |     |     |     |     |     |     |\n",
       "+=================================================================================================================+\n",
       "| 428 | 9a0 | a55 | 0.0 | nul | a55 | c7a |  0  |  0  | nul | nul | 2.0 | nul | nul | nul | 201 | nul | a55 | ab3 |\n",
       "|  65 | c09 | 475 |     |  l  | 475 | 5ad |     |     |  l  |  l  |     |  l  |  l  |  l  | 8.0 |  l  | 475 | c25 |\n",
       "|     |  5e |  b1 |     |     |  b1 |  39 |     |     |     |     |     |     |     |     |     |     |  b1 |  cf |\n",
       "| 428 | a55 | a55 | nul | nul | a55 | a55 |  0  |  1  | nul | nul | 3.0 | nul | nul | nul | 201 | nul | a55 | a55 |\n",
       "|  65 | 475 | 475 |  l  |  l  | 475 | 475 |     |     |  l  |  l  |     |  l  |  l  |  l  | 8.0 |  l  | 475 | 475 |\n",
       "|     |  b1 |  b1 |     |     |  b1 |  b1 |     |     |     |     |     |     |     |     |     |     |  b1 |  b1 |\n",
       "| 428 | a55 | a55 | nul | nul | a55 | a55 |  0  |  2  | nul | nul | 4.0 | nul | nul | nul | 201 | nul | a55 | a55 |\n",
       "|  65 | 475 | 475 |  l  |  l  | 475 | 475 |     |     |  l  |  l  |     |  l  |  l  |  l  | 8.0 |  l  | 475 | 475 |\n",
       "|     |  b1 |  b1 |     |     |  b1 |  b1 |     |     |     |     |     |     |     |     |     |     |  b1 |  b1 |\n",
       "+-----+-----+-----+-----+-----+-----+-----+-----+-----+-----+-----+-----+-----+-----+-----+-----+-----+-----+-----+"
      ]
     },
     "metadata": {},
     "output_type": "display_data"
    },
    {
     "data": {
      "text/html": [
       "<div><style>\n",
       ".dataframe > thead > tr,\n",
       ".dataframe > tbody > tr {\n",
       "  text-align: right;\n",
       "  white-space: pre-wrap;\n",
       "}\n",
       "</style>\n",
       "<table border=\"1\" class=\"dataframe\"><thead><tr><th>case_id</th><th>collater_typofvalofguarant_298M</th><th>collater_typofvalofguarant_407M</th><th>collater_valueofguarantee_1124L</th><th>collater_valueofguarantee_876L</th><th>collaterals_typeofguarante_359M</th><th>collaterals_typeofguarante_669M</th><th>num_group1</th><th>num_group2</th><th>pmts_dpd_1073P</th><th>pmts_dpd_303P</th><th>pmts_month_158T</th><th>pmts_month_706T</th><th>pmts_overdue_1140A</th><th>pmts_overdue_1152A</th><th>pmts_year_1139T</th><th>pmts_year_507T</th><th>subjectroles_name_541M</th><th>subjectroles_name_838M</th></tr></thead><tbody><tr><td>49417</td><td>&quot;9a0c095e&quot;</td><td>&quot;8fd95e4b&quot;</td><td>0.0</td><td>0.0</td><td>&quot;3cbe86ba&quot;</td><td>&quot;c7a5ad39&quot;</td><td>0</td><td>0</td><td>null</td><td>null</td><td>2.0</td><td>2.0</td><td>null</td><td>null</td><td>2018.0</td><td>2014.0</td><td>&quot;ab3c25cf&quot;</td><td>&quot;ab3c25cf&quot;</td></tr><tr><td>49417</td><td>&quot;8fd95e4b&quot;</td><td>&quot;8fd95e4b&quot;</td><td>0.0</td><td>0.0</td><td>&quot;c7a5ad39&quot;</td><td>&quot;c7a5ad39&quot;</td><td>1</td><td>0</td><td>null</td><td>null</td><td>2.0</td><td>2.0</td><td>null</td><td>null</td><td>2018.0</td><td>2014.0</td><td>&quot;ab3c25cf&quot;</td><td>&quot;ab3c25cf&quot;</td></tr><tr><td>49417</td><td>&quot;a55475b1&quot;</td><td>&quot;8fd95e4b&quot;</td><td>null</td><td>0.0</td><td>&quot;c7a5ad39&quot;</td><td>&quot;a55475b1&quot;</td><td>2</td><td>0</td><td>null</td><td>null</td><td>null</td><td>2.0</td><td>null</td><td>null</td><td>null</td><td>2017.0</td><td>&quot;ab3c25cf&quot;</td><td>&quot;a55475b1&quot;</td></tr></tbody></table></div>"
      ],
      "text/plain": [
       "+-----+-----+-----+-----+-----+-----+-----+-----+-----+-----+-----+-----+-----+-----+-----+-----+-----+-----+-----+\n",
       "| cas | col | col | col | col | col | col | num | num | pmt | pmt | pmt | pmt | pmt | pmt | pmt | pmt | sub | sub |\n",
       "| e_i | lat | lat | lat | lat | lat | lat | _gr | _gr | s_d | s_d | s_m | s_m | s_o | s_o | s_y | s_y | jec | jec |\n",
       "|  d  | er_ | er_ | er_ | er_ | era | era | oup | oup | pd_ | pd_ | ont | ont | ver | ver | ear | ear | tro | tro |\n",
       "|     | typ | typ | val | val | ls_ | ls_ |  1  |  2  | 107 | 303 | h_1 | h_7 | due | due | _11 | _50 | les | les |\n",
       "|     | ofv | ofv | ueo | ueo | typ | typ |     |     |  3P |  P  | 58T | 06T | _11 | _11 | 39T |  7T | _na | _na |\n",
       "|     | alo | alo | fgu | fgu | eof | eof |     |     |     |     |     |     | 40A | 52A |     |     | me_ | me_ |\n",
       "|     | fgu | fgu | ara | ara | gua | gua |     |     |     |     |     |     |     |     |     |     | 541 | 838 |\n",
       "|     | ara | ara | nte | nte | ran | ran |     |     |     |     |     |     |     |     |     |     |  M  |  M  |\n",
       "|     | nt_ | nt_ | e_1 | e_8 | te_ | te_ |     |     |     |     |     |     |     |     |     |     |     |     |\n",
       "|     | 298 | 407 | 124 | 76L | 359 | 669 |     |     |     |     |     |     |     |     |     |     |     |     |\n",
       "|     |  M  |  M  |  L  |     |  M  |  M  |     |     |     |     |     |     |     |     |     |     |     |     |\n",
       "+=================================================================================================================+\n",
       "| 494 | 9a0 | 8fd | 0.0 | 0.0 | 3cb | c7a |  0  |  0  | nul | nul | 2.0 | 2.0 | nul | nul | 201 | 201 | ab3 | ab3 |\n",
       "|  17 | c09 | 95e |     |     | e86 | 5ad |     |     |  l  |  l  |     |     |  l  |  l  | 8.0 | 4.0 | c25 | c25 |\n",
       "|     |  5e |  4b |     |     |  ba |  39 |     |     |     |     |     |     |     |     |     |     |  cf |  cf |\n",
       "| 494 | 8fd | 8fd | 0.0 | 0.0 | c7a | c7a |  1  |  0  | nul | nul | 2.0 | 2.0 | nul | nul | 201 | 201 | ab3 | ab3 |\n",
       "|  17 | 95e | 95e |     |     | 5ad | 5ad |     |     |  l  |  l  |     |     |  l  |  l  | 8.0 | 4.0 | c25 | c25 |\n",
       "|     |  4b |  4b |     |     |  39 |  39 |     |     |     |     |     |     |     |     |     |     |  cf |  cf |\n",
       "| 494 | a55 | 8fd | nul | 0.0 | c7a | a55 |  2  |  0  | nul | nul | nul | 2.0 | nul | nul | nul | 201 | ab3 | a55 |\n",
       "|  17 | 475 | 95e |  l  |     | 5ad | 475 |     |     |  l  |  l  |  l  |     |  l  |  l  |  l  | 7.0 | c25 | 475 |\n",
       "|     |  b1 |  4b |     |     |  39 |  b1 |     |     |     |     |     |     |     |     |     |     |  cf |  b1 |\n",
       "+-----+-----+-----+-----+-----+-----+-----+-----+-----+-----+-----+-----+-----+-----+-----+-----+-----+-----+-----+"
      ]
     },
     "metadata": {},
     "output_type": "display_data"
    },
    {
     "data": {
      "text/html": [
       "<div><style>\n",
       ".dataframe > thead > tr,\n",
       ".dataframe > tbody > tr {\n",
       "  text-align: right;\n",
       "  white-space: pre-wrap;\n",
       "}\n",
       "</style>\n",
       "<table border=\"1\" class=\"dataframe\"><thead><tr><th>case_id</th><th>collater_typofvalofguarant_298M</th><th>collater_typofvalofguarant_407M</th><th>collater_valueofguarantee_1124L</th><th>collater_valueofguarantee_876L</th><th>collaterals_typeofguarante_359M</th><th>collaterals_typeofguarante_669M</th><th>num_group1</th><th>num_group2</th><th>pmts_dpd_1073P</th><th>pmts_dpd_303P</th><th>pmts_month_158T</th><th>pmts_month_706T</th><th>pmts_overdue_1140A</th><th>pmts_overdue_1152A</th><th>pmts_year_1139T</th><th>pmts_year_507T</th><th>subjectroles_name_541M</th><th>subjectroles_name_838M</th></tr></thead><tbody><tr><td>51083</td><td>&quot;9a0c095e&quot;</td><td>&quot;9a0c095e&quot;</td><td>0.0</td><td>0.0</td><td>&quot;c7a5ad39&quot;</td><td>&quot;c7a5ad39&quot;</td><td>0</td><td>0</td><td>null</td><td>null</td><td>2.0</td><td>2.0</td><td>null</td><td>null</td><td>2018.0</td><td>2007.0</td><td>&quot;ab3c25cf&quot;</td><td>&quot;ab3c25cf&quot;</td></tr><tr><td>51083</td><td>&quot;8fd95e4b&quot;</td><td>&quot;8fd95e4b&quot;</td><td>0.0</td><td>0.0</td><td>&quot;3cbe86ba&quot;</td><td>&quot;c7a5ad39&quot;</td><td>1</td><td>0</td><td>null</td><td>null</td><td>2.0</td><td>2.0</td><td>null</td><td>null</td><td>2019.0</td><td>2013.0</td><td>&quot;ab3c25cf&quot;</td><td>&quot;ab3c25cf&quot;</td></tr><tr><td>51083</td><td>&quot;a55475b1&quot;</td><td>&quot;8fd95e4b&quot;</td><td>null</td><td>0.0</td><td>&quot;c7a5ad39&quot;</td><td>&quot;a55475b1&quot;</td><td>2</td><td>0</td><td>null</td><td>0.0</td><td>null</td><td>2.0</td><td>null</td><td>0.0</td><td>null</td><td>2018.0</td><td>&quot;ab3c25cf&quot;</td><td>&quot;a55475b1&quot;</td></tr></tbody></table></div>"
      ],
      "text/plain": [
       "+-----+-----+-----+-----+-----+-----+-----+-----+-----+-----+-----+-----+-----+-----+-----+-----+-----+-----+-----+\n",
       "| cas | col | col | col | col | col | col | num | num | pmt | pmt | pmt | pmt | pmt | pmt | pmt | pmt | sub | sub |\n",
       "| e_i | lat | lat | lat | lat | lat | lat | _gr | _gr | s_d | s_d | s_m | s_m | s_o | s_o | s_y | s_y | jec | jec |\n",
       "|  d  | er_ | er_ | er_ | er_ | era | era | oup | oup | pd_ | pd_ | ont | ont | ver | ver | ear | ear | tro | tro |\n",
       "|     | typ | typ | val | val | ls_ | ls_ |  1  |  2  | 107 | 303 | h_1 | h_7 | due | due | _11 | _50 | les | les |\n",
       "|     | ofv | ofv | ueo | ueo | typ | typ |     |     |  3P |  P  | 58T | 06T | _11 | _11 | 39T |  7T | _na | _na |\n",
       "|     | alo | alo | fgu | fgu | eof | eof |     |     |     |     |     |     | 40A | 52A |     |     | me_ | me_ |\n",
       "|     | fgu | fgu | ara | ara | gua | gua |     |     |     |     |     |     |     |     |     |     | 541 | 838 |\n",
       "|     | ara | ara | nte | nte | ran | ran |     |     |     |     |     |     |     |     |     |     |  M  |  M  |\n",
       "|     | nt_ | nt_ | e_1 | e_8 | te_ | te_ |     |     |     |     |     |     |     |     |     |     |     |     |\n",
       "|     | 298 | 407 | 124 | 76L | 359 | 669 |     |     |     |     |     |     |     |     |     |     |     |     |\n",
       "|     |  M  |  M  |  L  |     |  M  |  M  |     |     |     |     |     |     |     |     |     |     |     |     |\n",
       "+=================================================================================================================+\n",
       "| 510 | 9a0 | 9a0 | 0.0 | 0.0 | c7a | c7a |  0  |  0  | nul | nul | 2.0 | 2.0 | nul | nul | 201 | 200 | ab3 | ab3 |\n",
       "|  83 | c09 | c09 |     |     | 5ad | 5ad |     |     |  l  |  l  |     |     |  l  |  l  | 8.0 | 7.0 | c25 | c25 |\n",
       "|     |  5e |  5e |     |     |  39 |  39 |     |     |     |     |     |     |     |     |     |     |  cf |  cf |\n",
       "| 510 | 8fd | 8fd | 0.0 | 0.0 | 3cb | c7a |  1  |  0  | nul | nul | 2.0 | 2.0 | nul | nul | 201 | 201 | ab3 | ab3 |\n",
       "|  83 | 95e | 95e |     |     | e86 | 5ad |     |     |  l  |  l  |     |     |  l  |  l  | 9.0 | 3.0 | c25 | c25 |\n",
       "|     |  4b |  4b |     |     |  ba |  39 |     |     |     |     |     |     |     |     |     |     |  cf |  cf |\n",
       "| 510 | a55 | 8fd | nul | 0.0 | c7a | a55 |  2  |  0  | nul | 0.0 | nul | 2.0 | nul | 0.0 | nul | 201 | ab3 | a55 |\n",
       "|  83 | 475 | 95e |  l  |     | 5ad | 475 |     |     |  l  |     |  l  |     |  l  |     |  l  | 8.0 | c25 | 475 |\n",
       "|     |  b1 |  4b |     |     |  39 |  b1 |     |     |     |     |     |     |     |     |     |     |  cf |  b1 |\n",
       "+-----+-----+-----+-----+-----+-----+-----+-----+-----+-----+-----+-----+-----+-----+-----+-----+-----+-----+-----+"
      ]
     },
     "metadata": {},
     "output_type": "display_data"
    },
    {
     "data": {
      "text/html": [
       "<div><style>\n",
       ".dataframe > thead > tr,\n",
       ".dataframe > tbody > tr {\n",
       "  text-align: right;\n",
       "  white-space: pre-wrap;\n",
       "}\n",
       "</style>\n",
       "<table border=\"1\" class=\"dataframe\"><thead><tr><th>case_id</th><th>collater_typofvalofguarant_298M</th><th>collater_typofvalofguarant_407M</th><th>collater_valueofguarantee_1124L</th><th>collater_valueofguarantee_876L</th><th>collaterals_typeofguarante_359M</th><th>collaterals_typeofguarante_669M</th><th>num_group1</th><th>num_group2</th><th>pmts_dpd_1073P</th><th>pmts_dpd_303P</th><th>pmts_month_158T</th><th>pmts_month_706T</th><th>pmts_overdue_1140A</th><th>pmts_overdue_1152A</th><th>pmts_year_1139T</th><th>pmts_year_507T</th><th>subjectroles_name_541M</th><th>subjectroles_name_838M</th></tr></thead><tbody><tr><td>53716</td><td>&quot;8fd95e4b&quot;</td><td>&quot;9a0c095e&quot;</td><td>0.0</td><td>0.0</td><td>&quot;c7a5ad39&quot;</td><td>&quot;c7a5ad39&quot;</td><td>0</td><td>0</td><td>null</td><td>null</td><td>2.0</td><td>2.0</td><td>null</td><td>null</td><td>2019.0</td><td>2017.0</td><td>&quot;ab3c25cf&quot;</td><td>&quot;ab3c25cf&quot;</td></tr><tr><td>53716</td><td>&quot;a55475b1&quot;</td><td>&quot;9a0c095e&quot;</td><td>null</td><td>0.0</td><td>&quot;c7a5ad39&quot;</td><td>&quot;a55475b1&quot;</td><td>1</td><td>0</td><td>null</td><td>null</td><td>null</td><td>2.0</td><td>null</td><td>null</td><td>null</td><td>2019.0</td><td>&quot;ab3c25cf&quot;</td><td>&quot;a55475b1&quot;</td></tr><tr><td>53716</td><td>&quot;a55475b1&quot;</td><td>&quot;9a0c095e&quot;</td><td>null</td><td>0.0</td><td>&quot;c7a5ad39&quot;</td><td>&quot;a55475b1&quot;</td><td>2</td><td>0</td><td>null</td><td>null</td><td>null</td><td>2.0</td><td>null</td><td>null</td><td>null</td><td>2019.0</td><td>&quot;ab3c25cf&quot;</td><td>&quot;a55475b1&quot;</td></tr></tbody></table></div>"
      ],
      "text/plain": [
       "+-----+-----+-----+-----+-----+-----+-----+-----+-----+-----+-----+-----+-----+-----+-----+-----+-----+-----+-----+\n",
       "| cas | col | col | col | col | col | col | num | num | pmt | pmt | pmt | pmt | pmt | pmt | pmt | pmt | sub | sub |\n",
       "| e_i | lat | lat | lat | lat | lat | lat | _gr | _gr | s_d | s_d | s_m | s_m | s_o | s_o | s_y | s_y | jec | jec |\n",
       "|  d  | er_ | er_ | er_ | er_ | era | era | oup | oup | pd_ | pd_ | ont | ont | ver | ver | ear | ear | tro | tro |\n",
       "|     | typ | typ | val | val | ls_ | ls_ |  1  |  2  | 107 | 303 | h_1 | h_7 | due | due | _11 | _50 | les | les |\n",
       "|     | ofv | ofv | ueo | ueo | typ | typ |     |     |  3P |  P  | 58T | 06T | _11 | _11 | 39T |  7T | _na | _na |\n",
       "|     | alo | alo | fgu | fgu | eof | eof |     |     |     |     |     |     | 40A | 52A |     |     | me_ | me_ |\n",
       "|     | fgu | fgu | ara | ara | gua | gua |     |     |     |     |     |     |     |     |     |     | 541 | 838 |\n",
       "|     | ara | ara | nte | nte | ran | ran |     |     |     |     |     |     |     |     |     |     |  M  |  M  |\n",
       "|     | nt_ | nt_ | e_1 | e_8 | te_ | te_ |     |     |     |     |     |     |     |     |     |     |     |     |\n",
       "|     | 298 | 407 | 124 | 76L | 359 | 669 |     |     |     |     |     |     |     |     |     |     |     |     |\n",
       "|     |  M  |  M  |  L  |     |  M  |  M  |     |     |     |     |     |     |     |     |     |     |     |     |\n",
       "+=================================================================================================================+\n",
       "| 537 | 8fd | 9a0 | 0.0 | 0.0 | c7a | c7a |  0  |  0  | nul | nul | 2.0 | 2.0 | nul | nul | 201 | 201 | ab3 | ab3 |\n",
       "|  16 | 95e | c09 |     |     | 5ad | 5ad |     |     |  l  |  l  |     |     |  l  |  l  | 9.0 | 7.0 | c25 | c25 |\n",
       "|     |  4b |  5e |     |     |  39 |  39 |     |     |     |     |     |     |     |     |     |     |  cf |  cf |\n",
       "| 537 | a55 | 9a0 | nul | 0.0 | c7a | a55 |  1  |  0  | nul | nul | nul | 2.0 | nul | nul | nul | 201 | ab3 | a55 |\n",
       "|  16 | 475 | c09 |  l  |     | 5ad | 475 |     |     |  l  |  l  |  l  |     |  l  |  l  |  l  | 9.0 | c25 | 475 |\n",
       "|     |  b1 |  5e |     |     |  39 |  b1 |     |     |     |     |     |     |     |     |     |     |  cf |  b1 |\n",
       "| 537 | a55 | 9a0 | nul | 0.0 | c7a | a55 |  2  |  0  | nul | nul | nul | 2.0 | nul | nul | nul | 201 | ab3 | a55 |\n",
       "|  16 | 475 | c09 |  l  |     | 5ad | 475 |     |     |  l  |  l  |  l  |     |  l  |  l  |  l  | 9.0 | c25 | 475 |\n",
       "|     |  b1 |  5e |     |     |  39 |  b1 |     |     |     |     |     |     |     |     |     |     |  cf |  b1 |\n",
       "+-----+-----+-----+-----+-----+-----+-----+-----+-----+-----+-----+-----+-----+-----+-----+-----+-----+-----+-----+"
      ]
     },
     "metadata": {},
     "output_type": "display_data"
    },
    {
     "data": {
      "text/html": [
       "<div><style>\n",
       ".dataframe > thead > tr,\n",
       ".dataframe > tbody > tr {\n",
       "  text-align: right;\n",
       "  white-space: pre-wrap;\n",
       "}\n",
       "</style>\n",
       "<table border=\"1\" class=\"dataframe\"><thead><tr><th>case_id</th><th>amount_1115A</th><th>classificationofcontr_1114M</th><th>contractdate_551D</th><th>contractmaturitydate_151D</th><th>contractst_516M</th><th>contracttype_653M</th><th>credlmt_1052A</th><th>credlmt_228A</th><th>credlmt_3940954A</th><th>credor_3940957M</th><th>credquantity_1099L</th><th>credquantity_984L</th><th>debtpastduevalue_732A</th><th>debtvalue_227A</th><th>dpd_550P</th><th>dpd_733P</th><th>dpdmax_851P</th><th>dpdmaxdatemonth_804T</th><th>dpdmaxdateyear_742T</th><th>installmentamount_644A</th><th>installmentamount_833A</th><th>instlamount_892A</th><th>interesteffectiverate_369L</th><th>interestrateyearly_538L</th><th>lastupdate_260D</th><th>maxdebtpduevalodued_3940955A</th><th>num_group1</th><th>numberofinstls_810L</th><th>overdueamountmax_950A</th><th>overdueamountmaxdatemonth_494T</th><th>overdueamountmaxdateyear_432T</th><th>periodicityofpmts_997L</th><th>periodicityofpmts_997M</th><th>pmtdaysoverdue_1135P</th><th>pmtmethod_731M</th><th>pmtnumpending_403L</th><th>purposeofcred_722M</th><th>residualamount_1093A</th><th>residualamount_127A</th><th>residualamount_3940956A</th><th>subjectrole_326M</th><th>subjectrole_43M</th><th>totalamount_503A</th><th>totalamount_881A</th></tr></thead><tbody><tr><td>467</td><td>78000.0</td><td>&quot;ea6782cc&quot;</td><td>&quot;2016-10-25&quot;</td><td>&quot;2019-10-25&quot;</td><td>&quot;7241344e&quot;</td><td>&quot;4257cbed&quot;</td><td>null</td><td>null</td><td>null</td><td>&quot;c5a72b57&quot;</td><td>null</td><td>null</td><td>0.0</td><td>26571.969</td><td>null</td><td>null</td><td>0.0</td><td>11.0</td><td>2016.0</td><td>null</td><td>null</td><td>2898.76</td><td>null</td><td>null</td><td>&quot;2019-01-10&quot;</td><td>0.0</td><td>2</td><td>36.0</td><td>0.0</td><td>11.0</td><td>2016.0</td><td>null</td><td>&quot;a0b598e4&quot;</td><td>0.0</td><td>&quot;e914c86c&quot;</td><td>10.0</td><td>&quot;96a8fdfe&quot;</td><td>null</td><td>null</td><td>null</td><td>&quot;a55475b1&quot;</td><td>&quot;a55475b1&quot;</td><td>null</td><td>null</td></tr><tr><td>467</td><td>null</td><td>&quot;ea6782cc&quot;</td><td>&quot;2011-06-15&quot;</td><td>&quot;2031-06-13&quot;</td><td>&quot;7241344e&quot;</td><td>&quot;724be82a&quot;</td><td>3e6</td><td>10000.0</td><td>3e6</td><td>&quot;P164_34_168&quot;</td><td>2.0</td><td>1.0</td><td>null</td><td>null</td><td>0.0</td><td>0.0</td><td>null</td><td>null</td><td>null</td><td>0.0</td><td>0.0</td><td>null</td><td>null</td><td>null</td><td>&quot;2019-01-20&quot;</td><td>null</td><td>0</td><td>null</td><td>null</td><td>null</td><td>null</td><td>null</td><td>&quot;a55475b1&quot;</td><td>null</td><td>&quot;a55475b1&quot;</td><td>null</td><td>&quot;96a8fdfe&quot;</td><td>0.0</td><td>0.0</td><td>null</td><td>&quot;fa4f56f1&quot;</td><td>&quot;ab3c25cf&quot;</td><td>3e6</td><td>10000.0</td></tr><tr><td>467</td><td>null</td><td>&quot;ea6782cc&quot;</td><td>&quot;2019-01-04&quot;</td><td>&quot;2021-08-04&quot;</td><td>&quot;7241344e&quot;</td><td>&quot;724be82a&quot;</td><td>null</td><td>null</td><td>130365.0</td><td>&quot;P164_34_168&quot;</td><td>1.0</td><td>2.0</td><td>null</td><td>null</td><td>0.0</td><td>0.0</td><td>null</td><td>null</td><td>null</td><td>0.0</td><td>26571.969</td><td>null</td><td>null</td><td>null</td><td>&quot;2019-01-20&quot;</td><td>null</td><td>1</td><td>null</td><td>null</td><td>null</td><td>null</td><td>null</td><td>&quot;a55475b1&quot;</td><td>null</td><td>&quot;a55475b1&quot;</td><td>null</td><td>&quot;96a8fdfe&quot;</td><td>null</td><td>null</td><td>null</td><td>&quot;ab3c25cf&quot;</td><td>&quot;ab3c25cf&quot;</td><td>78000.0</td><td>960000.0</td></tr></tbody></table></div>"
      ],
      "text/plain": [
       "+-----+-----+-----+-----+-----+-----+-----+-----+-----+-----+-----+-----+-----+-----+-----+-----+-----+-----+-----+-----+-----+-----+-----+-----+-----+-----+-----+-----+-----+-----+-----+-----+-----+-----+-----+-----+-----+-----+-----+-----+-----+-----+-----+-----+-----+\n",
       "| cas | amo | cla | con | con | con | con | cre | cre | cre | cre | cre | cre | deb | deb | dpd | dpd | dpd | dpd | dpd | ins | ins | ins | int | int | las | max | num | num | ove | ove | ove | per | per | pmt | pmt | pmt | pur | res | res | res | sub | sub | tot | tot |\n",
       "| e_i | unt | ssi | tra | tra | tra | tra | dlm | dlm | dlm | dor | dqu | dqu | tpa | tva | _55 | _73 | max | max | max | tal | tal | tla | ere | ere | tup | deb | _gr | ber | rdu | rdu | rdu | iod | iod | day | met | num | pos | idu | idu | idu | jec | jec | ala | ala |\n",
       "|  d  | _11 | fic | ctd | ctm | cts | ctt | t_1 | t_2 | t_3 | _39 | ant | ant | std | lue |  0P |  3P | _85 | dat | dat | lme | lme | mou | ste | str | dat | tpd | oup | ofi | eam | eam | eam | ici | ici | sov | hod | pen | eof | ala | ala | ala | tro | tro | mou | mou |\n",
       "|     | 15A | ati | ate | atu | t_5 | ype | 052 | 28A | 940 | 409 | ity | ity | uev | _22 |     |     |  1P | emo | eye | nta | nta | nt_ | ffe | ate | e_2 | uev |  1  | nst | oun | oun | oun | tyo | tyo | erd | _73 | din | cre | mou | mou | mou | le_ | le_ | nt_ | nt_ |\n",
       "|     |     | ono | _55 | rit | 16M | _65 |  A  |     | 954 | 57M | _10 | _98 | alu |  7A |     |     |     | nth | ar_ | mou | mou | 892 | cti | yea | 60D | alo |     | ls_ | tma | tma | tma | fpm | fpm | ue_ |  1M | g_4 | d_7 | nt_ | nt_ | nt_ | 326 | 43M | 503 | 881 |\n",
       "|     |     | fco |  1D | yda |     |  3M |     |     |  A  |     | 99L |  4L | e_7 |     |     |     |     | _80 | 742 | nt_ | nt_ |  A  | ver | rly |     | due |     | 810 | x_9 | xda | xda | ts_ | ts_ | 113 |     | 03L | 22M | 109 | 127 | 394 |  M  |     |  A  |  A  |\n",
       "|     |     | ntr |     | te_ |     |     |     |     |     |     |     |     | 32A |     |     |     |     |  4T |  T  | 644 | 833 |     | ate | _53 |     | d_3 |     |  L  | 50A | tem | tey | 997 | 997 |  5P |     |     |     |  3A |  A  | 095 |     |     |     |     |\n",
       "|     |     | _11 |     | 151 |     |     |     |     |     |     |     |     |     |     |     |     |     |     |     |  A  |  A  |     | _36 |  8L |     | 940 |     |     |     | ont | ear |  L  |  M  |     |     |     |     |     |     |  6A |     |     |     |     |\n",
       "|     |     | 14M |     |  D  |     |     |     |     |     |     |     |     |     |     |     |     |     |     |     |     |     |     |  9L |     |     | 955 |     |     |     | h_4 | _43 |     |     |     |     |     |     |     |     |     |     |     |     |     |\n",
       "|     |     |     |     |     |     |     |     |     |     |     |     |     |     |     |     |     |     |     |     |     |     |     |     |     |     |  A  |     |     |     | 94T |  2T |     |     |     |     |     |     |     |     |     |     |     |     |     |\n",
       "+=============================================================================================================================================================================================================================================================================+\n",
       "| 467 | 780 | ea6 | 201 | 201 | 724 | 425 | nul | nul | nul | c5a | nul | nul | 0.0 | 265 | nul | nul | 0.0 | 11. | 201 | nul | nul | 289 | nul | nul | 201 | 0.0 |  2  | 36. | 0.0 | 11. | 201 | nul | a0b | 0.0 | e91 | 10. | 96a | nul | nul | nul | a55 | a55 | nul | nul |\n",
       "|     | 00. | 782 | 6-1 | 9-1 | 134 | 7cb |  l  |  l  |  l  | 72b |  l  |  l  |     | 71. |  l  |  l  |     |  0  | 6.0 |  l  |  l  | 8.7 |  l  |  l  | 9-0 |     |     |  0  |     |  0  | 6.0 |  l  | 598 |     | 4c8 |  0  | 8fd |  l  |  l  |  l  | 475 | 475 |  l  |  l  |\n",
       "|     |  0  |  cc | 0-2 | 0-2 |  4e |  ed |     |     |     |  57 |     |     |     | 969 |     |     |     |     |     |     |     |  6  |     |     | 1-1 |     |     |     |     |     |     |     |  e4 |     |  6c |     |  fe |     |     |     |  b1 |  b1 |     |     |\n",
       "|     |     |     |  5  |  5  |     |     |     |     |     |     |     |     |     |     |     |     |     |     |     |     |     |     |     |     |  0  |     |     |     |     |     |     |     |     |     |     |     |     |     |     |     |     |     |     |     |\n",
       "| 467 | nul | ea6 | 201 | 203 | 724 | 724 | 3e6 | 100 | 3e6 | P16 | 2.0 | 1.0 | nul | nul | 0.0 | 0.0 | nul | nul | nul | 0.0 | 0.0 | nul | nul | nul | 201 | nul |  0  | nul | nul | nul | nul | nul | a55 | nul | a55 | nul | 96a | 0.0 | 0.0 | nul | fa4 | ab3 | 3e6 | 100 |\n",
       "|     |  l  | 782 | 1-0 | 1-0 | 134 | be8 |     | 00. |     | 4_3 |     |     |  l  |  l  |     |     |  l  |  l  |  l  |     |     |  l  |  l  |  l  | 9-0 |  l  |     |  l  |  l  |  l  |  l  |  l  | 475 |  l  | 475 |  l  | 8fd |     |     |  l  | f56 | c25 |     | 00. |\n",
       "|     |     |  cc | 6-1 | 6-1 |  4e |  2a |     |  0  |     | 4_1 |     |     |     |     |     |     |     |     |     |     |     |     |     |     | 1-2 |     |     |     |     |     |     |     |  b1 |     |  b1 |     |  fe |     |     |     |  f1 |  cf |     |  0  |\n",
       "|     |     |     |  5  |  3  |     |     |     |     |     |  68 |     |     |     |     |     |     |     |     |     |     |     |     |     |     |  0  |     |     |     |     |     |     |     |     |     |     |     |     |     |     |     |     |     |     |     |\n",
       "| 467 | nul | ea6 | 201 | 202 | 724 | 724 | nul | nul | 130 | P16 | 1.0 | 2.0 | nul | nul | 0.0 | 0.0 | nul | nul | nul | 0.0 | 265 | nul | nul | nul | 201 | nul |  1  | nul | nul | nul | nul | nul | a55 | nul | a55 | nul | 96a | nul | nul | nul | ab3 | ab3 | 780 | 960 |\n",
       "|     |  l  | 782 | 9-0 | 1-0 | 134 | be8 |  l  |  l  | 365 | 4_3 |     |     |  l  |  l  |     |     |  l  |  l  |  l  |     | 71. |  l  |  l  |  l  | 9-0 |  l  |     |  l  |  l  |  l  |  l  |  l  | 475 |  l  | 475 |  l  | 8fd |  l  |  l  |  l  | c25 | c25 | 00. | 000 |\n",
       "|     |     |  cc | 1-0 | 8-0 |  4e |  2a |     |     |  .0 | 4_1 |     |     |     |     |     |     |     |     |     |     | 969 |     |     |     | 1-2 |     |     |     |     |     |     |     |  b1 |     |  b1 |     |  fe |     |     |     |  cf |  cf |  0  |  .0 |\n",
       "|     |     |     |  4  |  4  |     |     |     |     |     |  68 |     |     |     |     |     |     |     |     |     |     |     |     |     |     |  0  |     |     |     |     |     |     |     |     |     |     |     |     |     |     |     |     |     |     |     |\n",
       "+-----+-----+-----+-----+-----+-----+-----+-----+-----+-----+-----+-----+-----+-----+-----+-----+-----+-----+-----+-----+-----+-----+-----+-----+-----+-----+-----+-----+-----+-----+-----+-----+-----+-----+-----+-----+-----+-----+-----+-----+-----+-----+-----+-----+-----+"
      ]
     },
     "metadata": {},
     "output_type": "display_data"
    },
    {
     "data": {
      "text/html": [
       "<div><style>\n",
       ".dataframe > thead > tr,\n",
       ".dataframe > tbody > tr {\n",
       "  text-align: right;\n",
       "  white-space: pre-wrap;\n",
       "}\n",
       "</style>\n",
       "<table border=\"1\" class=\"dataframe\"><thead><tr><th>case_id</th><th>num_group1</th><th>num_group2</th><th>pmts_date_1107D</th><th>pmts_dpdvalue_108P</th><th>pmts_pmtsoverdue_635A</th></tr></thead><tbody><tr><td>467</td><td>0</td><td>0</td><td>&quot;2018-11-15&quot;</td><td>null</td><td>null</td></tr><tr><td>467</td><td>0</td><td>1</td><td>&quot;2018-12-15&quot;</td><td>null</td><td>null</td></tr><tr><td>467</td><td>1</td><td>0</td><td>&quot;2018-12-15&quot;</td><td>null</td><td>null</td></tr></tbody></table></div>"
      ],
      "text/plain": [
       "+---------+------------+------------+-----------------+--------------------+-----------------------+\n",
       "| case_id | num_group1 | num_group2 | pmts_date_1107D | pmts_dpdvalue_108P | pmts_pmtsoverdue_635A |\n",
       "+==================================================================================================+\n",
       "|   467   |      0     |      0     |    2018-11-15   |        null        |          null         |\n",
       "|   467   |      0     |      1     |    2018-12-15   |        null        |          null         |\n",
       "|   467   |      1     |      0     |    2018-12-15   |        null        |          null         |\n",
       "+---------+------------+------------+-----------------+--------------------+-----------------------+"
      ]
     },
     "metadata": {},
     "output_type": "display_data"
    },
    {
     "data": {
      "text/html": [
       "<div><style>\n",
       ".dataframe > thead > tr,\n",
       ".dataframe > tbody > tr {\n",
       "  text-align: right;\n",
       "  white-space: pre-wrap;\n",
       "}\n",
       "</style>\n",
       "<table border=\"1\" class=\"dataframe\"><thead><tr><th>case_id</th><th>last180dayaveragebalance_704A</th><th>last180dayturnover_1134A</th><th>last30dayturnover_651A</th><th>num_group1</th><th>openingdate_857D</th></tr></thead><tbody><tr><td>225</td><td>null</td><td>null</td><td>null</td><td>0</td><td>&quot;2016-08-16&quot;</td></tr><tr><td>331</td><td>null</td><td>null</td><td>null</td><td>0</td><td>&quot;2015-03-19&quot;</td></tr><tr><td>358</td><td>null</td><td>null</td><td>null</td><td>0</td><td>&quot;2014-09-02&quot;</td></tr></tbody></table></div>"
      ],
      "text/plain": [
       "+---------+------------------+------------------+------------------+------------+------------------+\n",
       "| case_id | last180dayaverag | last180dayturnov | last30dayturnove | num_group1 | openingdate_857D |\n",
       "|         |   ebalance_704A  |     er_1134A     |      r_651A      |            |                  |\n",
       "+==================================================================================================+\n",
       "|   225   |       null       |       null       |       null       |      0     |    2016-08-16    |\n",
       "|   331   |       null       |       null       |       null       |      0     |    2015-03-19    |\n",
       "|   358   |       null       |       null       |       null       |      0     |    2014-09-02    |\n",
       "+---------+------------------+------------------+------------------+------------+------------------+"
      ]
     },
     "metadata": {},
     "output_type": "display_data"
    },
    {
     "data": {
      "text/html": [
       "<div><style>\n",
       ".dataframe > thead > tr,\n",
       ".dataframe > tbody > tr {\n",
       "  text-align: right;\n",
       "  white-space: pre-wrap;\n",
       "}\n",
       "</style>\n",
       "<table border=\"1\" class=\"dataframe\"><thead><tr><th>case_id</th><th>amount_416A</th><th>contractenddate_991D</th><th>num_group1</th><th>openingdate_313D</th></tr></thead><tbody><tr><td>225</td><td>0.0</td><td>null</td><td>0</td><td>&quot;2016-08-16&quot;</td></tr><tr><td>331</td><td>260.374</td><td>&quot;2018-03-18&quot;</td><td>0</td><td>&quot;2015-03-19&quot;</td></tr><tr><td>358</td><td>0.0</td><td>null</td><td>0</td><td>&quot;2014-09-02&quot;</td></tr></tbody></table></div>"
      ],
      "text/plain": [
       "+---------+-------------+----------------------+------------+------------------+\n",
       "| case_id | amount_416A | contractenddate_991D | num_group1 | openingdate_313D |\n",
       "+==============================================================================+\n",
       "|   225   |     0.0     |         null         |      0     |    2016-08-16    |\n",
       "|   331   |   260.374   |      2018-03-18      |      0     |    2015-03-19    |\n",
       "|   358   |     0.0     |         null         |      0     |    2014-09-02    |\n",
       "+---------+-------------+----------------------+------------+------------------+"
      ]
     },
     "metadata": {},
     "output_type": "display_data"
    },
    {
     "data": {
      "text/html": [
       "<div><style>\n",
       ".dataframe > thead > tr,\n",
       ".dataframe > tbody > tr {\n",
       "  text-align: right;\n",
       "  white-space: pre-wrap;\n",
       "}\n",
       "</style>\n",
       "<table border=\"1\" class=\"dataframe\"><thead><tr><th>case_id</th><th>amtdebitincoming_4809443A</th><th>amtdebitoutgoing_4809440A</th><th>amtdepositbalance_4809441A</th><th>amtdepositincoming_4809444A</th><th>amtdepositoutgoing_4809442A</th><th>num_group1</th></tr></thead><tbody><tr><td>43801</td><td>12466.601</td><td>12291.2</td><td>914.2</td><td>0.0</td><td>304.80002</td><td>0</td></tr><tr><td>43991</td><td>3333.4001</td><td>3273.4001</td><td>0.0</td><td>0.0</td><td>0.0</td><td>0</td></tr><tr><td>44001</td><td>10000.0</td><td>10000.0</td><td>0.0</td><td>0.0</td><td>0.0</td><td>0</td></tr></tbody></table></div>"
      ],
      "text/plain": [
       "+---------+---------------+--------------+--------------+--------------+--------------+------------+\n",
       "| case_id | amtdebitincom | amtdebitoutg | amtdepositba | amtdepositin | amtdepositou | num_group1 |\n",
       "|         |  ing_4809443A | oing_4809440 | lance_480944 | coming_48094 | tgoing_48094 |            |\n",
       "|         |               |       A      |      1A      |      44A     |      42A     |            |\n",
       "+==================================================================================================+\n",
       "|  43801  |   12466.601   |    12291.2   |     914.2    |      0.0     |   304.80002  |      0     |\n",
       "|  43991  |   3333.4001   |   3273.4001  |      0.0     |      0.0     |      0.0     |      0     |\n",
       "|  44001  |    10000.0    |    10000.0   |      0.0     |      0.0     |      0.0     |      0     |\n",
       "+---------+---------------+--------------+--------------+--------------+--------------+------------+"
      ]
     },
     "metadata": {},
     "output_type": "display_data"
    },
    {
     "data": {
      "text/html": [
       "<div><style>\n",
       ".dataframe > thead > tr,\n",
       ".dataframe > tbody > tr {\n",
       "  text-align: right;\n",
       "  white-space: pre-wrap;\n",
       "}\n",
       "</style>\n",
       "<table border=\"1\" class=\"dataframe\"><thead><tr><th>case_id</th><th>birth_259D</th><th>birthdate_87D</th><th>childnum_185L</th><th>contaddr_district_15M</th><th>contaddr_matchlist_1032L</th><th>contaddr_smempladdr_334L</th><th>contaddr_zipcode_807M</th><th>education_927M</th><th>empl_employedfrom_271D</th><th>empl_employedtotal_800L</th><th>empl_industry_691L</th><th>empladdr_district_926M</th><th>empladdr_zipcode_114M</th><th>familystate_447L</th><th>gender_992L</th><th>housetype_905L</th><th>housingtype_772L</th><th>incometype_1044T</th><th>isreference_387L</th><th>language1_981M</th><th>mainoccupationinc_384A</th><th>maritalst_703L</th><th>num_group1</th><th>personindex_1023L</th><th>persontype_1072L</th><th>persontype_792L</th><th>registaddr_district_1083M</th><th>registaddr_zipcode_184M</th><th>relationshiptoclient_415T</th><th>relationshiptoclient_642T</th><th>remitter_829L</th><th>role_1084L</th><th>role_993L</th><th>safeguarantyflag_411L</th><th>sex_738L</th><th>type_25L</th></tr></thead><tbody><tr><td>0</td><td>&quot;1986-07-01&quot;</td><td>null</td><td>null</td><td>&quot;P88_18_84&quot;</td><td>false</td><td>false</td><td>&quot;P167_100_165&quot;</td><td>&quot;P97_36_170&quot;</td><td>&quot;2017-09-15&quot;</td><td>&quot;MORE_FIVE&quot;</td><td>&quot;OTHER&quot;</td><td>&quot;P142_57_166&quot;</td><td>&quot;P167_100_165&quot;</td><td>&quot;MARRIED&quot;</td><td>null</td><td>null</td><td>null</td><td>&quot;SALARIED_GOVT&quot;</td><td>null</td><td>&quot;P10_39_147&quot;</td><td>10800.0</td><td>null</td><td>0</td><td>0.0</td><td>1.0</td><td>1.0</td><td>&quot;P88_18_84&quot;</td><td>&quot;P167_100_165&quot;</td><td>null</td><td>null</td><td>null</td><td>&quot;CL&quot;</td><td>null</td><td>true</td><td>&quot;F&quot;</td><td>&quot;PRIMARY_MOBILE&quot;</td></tr><tr><td>0</td><td>null</td><td>null</td><td>null</td><td>&quot;a55475b1&quot;</td><td>null</td><td>null</td><td>&quot;a55475b1&quot;</td><td>&quot;a55475b1&quot;</td><td>null</td><td>null</td><td>null</td><td>&quot;a55475b1&quot;</td><td>&quot;a55475b1&quot;</td><td>null</td><td>null</td><td>null</td><td>null</td><td>null</td><td>null</td><td>&quot;a55475b1&quot;</td><td>null</td><td>null</td><td>1</td><td>1.0</td><td>1.0</td><td>4.0</td><td>&quot;a55475b1&quot;</td><td>&quot;a55475b1&quot;</td><td>&quot;SPOUSE&quot;</td><td>null</td><td>false</td><td>&quot;EM&quot;</td><td>null</td><td>null</td><td>null</td><td>&quot;PHONE&quot;</td></tr><tr><td>0</td><td>null</td><td>null</td><td>null</td><td>&quot;a55475b1&quot;</td><td>null</td><td>null</td><td>&quot;a55475b1&quot;</td><td>&quot;a55475b1&quot;</td><td>null</td><td>null</td><td>null</td><td>&quot;a55475b1&quot;</td><td>&quot;a55475b1&quot;</td><td>null</td><td>null</td><td>null</td><td>null</td><td>null</td><td>null</td><td>&quot;a55475b1&quot;</td><td>null</td><td>null</td><td>2</td><td>2.0</td><td>4.0</td><td>5.0</td><td>&quot;a55475b1&quot;</td><td>&quot;a55475b1&quot;</td><td>&quot;COLLEAGUE&quot;</td><td>&quot;SPOUSE&quot;</td><td>false</td><td>&quot;PE&quot;</td><td>null</td><td>null</td><td>null</td><td>&quot;PHONE&quot;</td></tr></tbody></table></div>"
      ],
      "text/plain": [
       "+-----+-----+-----+-----+-----+-----+-----+-----+-----+-----+-----+-----+-----+-----+-----+-----+-----+-----+-----+-----+-----+-----+-----+-----+-----+-----+-----+-----+-----+-----+-----+-----+-----+-----+-----+-----+-----+\n",
       "| cas | bir | bir | chi | con | con | con | con | edu | emp | emp | emp | emp | emp | fam | gen | hou | hou | inc | isr | lan | mai | mar | num | per | per | per | reg | reg | rel | rel | rem | rol | rol | saf | sex | typ |\n",
       "| e_i | th_ | thd | ldn | tad | tad | tad | tad | cat | l_e | l_e | l_i | lad | lad | ily | der | set | sin | ome | efe | gua | noc | ita | _gr | son | son | son | ist | ist | ati | ati | itt | e_1 | e_9 | egu | _73 | e_2 |\n",
       "|  d  | 259 | ate | um_ | dr_ | dr_ | dr_ | dr_ | ion | mpl | mpl | ndu | dr_ | dr_ | sta | _99 | ype | gty | typ | ren | ge1 | cup | lst | oup | ind | typ | typ | add | add | ons | ons | er_ | 084 | 93L | ara |  8L |  5L |\n",
       "|     |  D  | _87 | 185 | dis | mat | sme | zip | _92 | oye | oye | str | dis | zip | te_ |  2L | _90 | pe_ | e_1 | ce_ | _98 | ati | _70 |  1  | ex_ | e_1 | e_7 | r_d | r_z | hip | hip | 829 |  L  |     | nty |     |     |\n",
       "|     |     |  D  |  L  | tri | chl | mpl | cod |  7M | dfr | dto | y_6 | tri | cod | 447 |     |  5L | 772 | 044 | 387 |  1M | oni |  3L |     | 102 | 072 | 92L | ist | ipc | toc | toc |  L  |     |     | fla |     |     |\n",
       "|     |     |     |     | ct_ | ist | add | e_8 |     | om_ | tal | 91L | ct_ | e_1 |  L  |     |     |  L  |  T  |  L  |     | nc_ |     |     |  3L |  L  |     | ric | ode | lie | lie |     |     |     | g_4 |     |     |\n",
       "|     |     |     |     | 15M | _10 | r_3 | 07M |     | 271 | _80 |     | 926 | 14M |     |     |     |     |     |     |     | 384 |     |     |     |     |     | t_1 | _18 | nt_ | nt_ |     |     |     | 11L |     |     |\n",
       "|     |     |     |     |     | 32L | 34L |     |     |  D  |  0L |     |  M  |     |     |     |     |     |     |     |     |  A  |     |     |     |     |     | 083 |  4M | 415 | 642 |     |     |     |     |     |     |\n",
       "|     |     |     |     |     |     |     |     |     |     |     |     |     |     |     |     |     |     |     |     |     |     |     |     |     |     |     |  M  |     |  T  |  T  |     |     |     |     |     |     |\n",
       "+=============================================================================================================================================================================================================================+\n",
       "|  0  | 198 | nul | nul | P88 | fal | fal | P16 | P97 | 201 | MOR | OTH | P14 | P16 | MAR | nul | nul | nul | SAL | nul | P10 | 108 | nul |  0  | 0.0 | 1.0 | 1.0 | P88 | P16 | nul | nul | nul |  CL | nul | tru |  F  | PRI |\n",
       "|     | 6-0 |  l  |  l  | _18 |  se |  se | 7_1 | _36 | 7-0 | E_F |  ER | 2_5 | 7_1 | RIE |  l  |  l  |  l  | ARI |  l  | _39 | 00. |  l  |     |     |     |     | _18 | 7_1 |  l  |  l  |  l  |     |  l  |  e  |     | MAR |\n",
       "|     | 7-0 |     |     | _84 |     |     | 00_ | _17 | 9-1 | IVE |     | 7_1 | 00_ |  D  |     |     |     | ED_ |     | _14 |  0  |     |     |     |     |     | _84 | 00_ |     |     |     |     |     |     |     | Y_M |\n",
       "|     |  1  |     |     |     |     |     | 165 |  0  |  5  |     |     |  66 | 165 |     |     |     |     | GOV |     |  7  |     |     |     |     |     |     |     | 165 |     |     |     |     |     |     |     | OBI |\n",
       "|     |     |     |     |     |     |     |     |     |     |     |     |     |     |     |     |     |     |  T  |     |     |     |     |     |     |     |     |     |     |     |     |     |     |     |     |     |  LE |\n",
       "|  0  | nul | nul | nul | a55 | nul | nul | a55 | a55 | nul | nul | nul | a55 | a55 | nul | nul | nul | nul | nul | nul | a55 | nul | nul |  1  | 1.0 | 1.0 | 4.0 | a55 | a55 | SPO | nul | fal |  EM | nul | nul | nul | PHO |\n",
       "|     |  l  |  l  |  l  | 475 |  l  |  l  | 475 | 475 |  l  |  l  |  l  | 475 | 475 |  l  |  l  |  l  |  l  |  l  |  l  | 475 |  l  |  l  |     |     |     |     | 475 | 475 | USE |  l  |  se |     |  l  |  l  |  l  |  NE |\n",
       "|     |     |     |     |  b1 |     |     |  b1 |  b1 |     |     |     |  b1 |  b1 |     |     |     |     |     |     |  b1 |     |     |     |     |     |     |  b1 |  b1 |     |     |     |     |     |     |     |     |\n",
       "|  0  | nul | nul | nul | a55 | nul | nul | a55 | a55 | nul | nul | nul | a55 | a55 | nul | nul | nul | nul | nul | nul | a55 | nul | nul |  2  | 2.0 | 4.0 | 5.0 | a55 | a55 | COL | SPO | fal |  PE | nul | nul | nul | PHO |\n",
       "|     |  l  |  l  |  l  | 475 |  l  |  l  | 475 | 475 |  l  |  l  |  l  | 475 | 475 |  l  |  l  |  l  |  l  |  l  |  l  | 475 |  l  |  l  |     |     |     |     | 475 | 475 | LEA | USE |  se |     |  l  |  l  |  l  |  NE |\n",
       "|     |     |     |     |  b1 |     |     |  b1 |  b1 |     |     |     |  b1 |  b1 |     |     |     |     |     |     |  b1 |     |     |     |     |     |     |  b1 |  b1 | GUE |     |     |     |     |     |     |     |\n",
       "+-----+-----+-----+-----+-----+-----+-----+-----+-----+-----+-----+-----+-----+-----+-----+-----+-----+-----+-----+-----+-----+-----+-----+-----+-----+-----+-----+-----+-----+-----+-----+-----+-----+-----+-----+-----+-----+"
      ]
     },
     "metadata": {},
     "output_type": "display_data"
    },
    {
     "data": {
      "text/html": [
       "<div><style>\n",
       ".dataframe > thead > tr,\n",
       ".dataframe > tbody > tr {\n",
       "  text-align: right;\n",
       "  white-space: pre-wrap;\n",
       "}\n",
       "</style>\n",
       "<table border=\"1\" class=\"dataframe\"><thead><tr><th>case_id</th><th>addres_district_368M</th><th>addres_role_871L</th><th>addres_zip_823M</th><th>conts_role_79M</th><th>empls_economicalst_849M</th><th>empls_employedfrom_796D</th><th>empls_employer_name_740M</th><th>num_group1</th><th>num_group2</th><th>relatedpersons_role_762T</th></tr></thead><tbody><tr><td>5</td><td>&quot;a55475b1&quot;</td><td>null</td><td>&quot;a55475b1&quot;</td><td>&quot;a55475b1&quot;</td><td>&quot;a55475b1&quot;</td><td>null</td><td>&quot;a55475b1&quot;</td><td>0</td><td>0</td><td>null</td></tr><tr><td>6</td><td>&quot;P55_110_32&quot;</td><td>&quot;CONTACT&quot;</td><td>&quot;P10_68_40&quot;</td><td>&quot;P38_92_157&quot;</td><td>&quot;P164_110_33&quot;</td><td>null</td><td>&quot;a55475b1&quot;</td><td>0</td><td>0</td><td>null</td></tr><tr><td>6</td><td>&quot;P55_110_32&quot;</td><td>&quot;PERMANENT&quot;</td><td>&quot;P10_68_40&quot;</td><td>&quot;a55475b1&quot;</td><td>&quot;a55475b1&quot;</td><td>null</td><td>&quot;a55475b1&quot;</td><td>0</td><td>1</td><td>null</td></tr></tbody></table></div>"
      ],
      "text/plain": [
       "+--------+--------+--------+--------+--------+--------+--------+--------+--------+--------+--------+\n",
       "| case_i | addres | addres | addres | conts_ | empls_ | empls_ | empls_ | num_gr | num_gr | relate |\n",
       "|    d   | _distr | _role_ | _zip_8 | role_7 | econom | employ | employ |  oup1  |  oup2  | dperso |\n",
       "|        | ict_36 |  871L  |   23M  |   9M   | icalst | edfrom | er_nam |        |        | ns_rol |\n",
       "|        |   8M   |        |        |        |  _849M |  _796D | e_740M |        |        | e_762T |\n",
       "+==================================================================================================+\n",
       "|    5   | a55475 |  null  | a55475 | a55475 | a55475 |  null  | a55475 |    0   |    0   |  null  |\n",
       "|        |   b1   |        |   b1   |   b1   |   b1   |        |   b1   |        |        |        |\n",
       "|    6   | P55_11 | CONTAC | P10_68 | P38_92 | P164_1 |  null  | a55475 |    0   |    0   |  null  |\n",
       "|        |  0_32  |    T   |   _40  |  _157  |  10_33 |        |   b1   |        |        |        |\n",
       "|    6   | P55_11 | PERMAN | P10_68 | a55475 | a55475 |  null  | a55475 |    0   |    1   |  null  |\n",
       "|        |  0_32  |   ENT  |   _40  |   b1   |   b1   |        |   b1   |        |        |        |\n",
       "+--------+--------+--------+--------+--------+--------+--------+--------+--------+--------+--------+"
      ]
     },
     "metadata": {},
     "output_type": "display_data"
    },
    {
     "data": {
      "text/html": [
       "<div><style>\n",
       ".dataframe > thead > tr,\n",
       ".dataframe > tbody > tr {\n",
       "  text-align: right;\n",
       "  white-space: pre-wrap;\n",
       "}\n",
       "</style>\n",
       "<table border=\"1\" class=\"dataframe\"><thead><tr><th>case_id</th><th>actualdpdtolerance_344P</th><th>amtinstpaidbefduel24m_4187115A</th><th>annuity_780A</th><th>annuitynextmonth_57A</th><th>applicationcnt_361L</th><th>applications30d_658L</th><th>applicationscnt_1086L</th><th>applicationscnt_464L</th><th>applicationscnt_629L</th><th>applicationscnt_867L</th><th>avgdbddpdlast24m_3658932P</th><th>avgdbddpdlast3m_4187120P</th><th>avgdbdtollast24m_4525197P</th><th>avgdpdtolclosure24_3658938P</th><th>avginstallast24m_3658937A</th><th>avglnamtstart24m_4525187A</th><th>avgmaxdpdlast9m_3716943P</th><th>avgoutstandbalancel6m_4187114A</th><th>avgpmtlast12m_4525200A</th><th>bankacctype_710L</th><th>cardtype_51L</th><th>clientscnt12m_3712952L</th><th>clientscnt3m_3712950L</th><th>clientscnt6m_3712949L</th><th>clientscnt_100L</th><th>clientscnt_1022L</th><th>clientscnt_1071L</th><th>clientscnt_1130L</th><th>clientscnt_136L</th><th>clientscnt_157L</th><th>clientscnt_257L</th><th>clientscnt_304L</th><th>clientscnt_360L</th><th>clientscnt_493L</th><th>clientscnt_533L</th><th>clientscnt_887L</th><th>clientscnt_946L</th><th>cntincpaycont9m_3716944L</th><th>cntpmts24_3658933L</th><th>commnoinclast6m_3546845L</th><th>credamount_770A</th><th>credtype_322L</th><th>currdebt_22A</th><th>currdebtcredtyperange_828A</th><th>datefirstoffer_1144D</th><th>datelastinstal40dpd_247D</th><th>datelastunpaid_3546854D</th><th>daysoverduetolerancedd_3976961L</th><th>deferredmnthsnum_166L</th><th>&hellip;</th><th>numinstls_657L</th><th>numinstlsallpaid_934L</th><th>numinstlswithdpd10_728L</th><th>numinstlswithdpd5_4187116L</th><th>numinstlswithoutdpd_562L</th><th>numinstmatpaidtearly2d_4499204L</th><th>numinstpaid_4499208L</th><th>numinstpaidearly3d_3546850L</th><th>numinstpaidearly3dest_4493216L</th><th>numinstpaidearly5d_1087L</th><th>numinstpaidearly5dest_4493211L</th><th>numinstpaidearly5dobd_4499205L</th><th>numinstpaidearly_338L</th><th>numinstpaidearlyest_4493214L</th><th>numinstpaidlastcontr_4325080L</th><th>numinstpaidlate1d_3546852L</th><th>numinstregularpaid_973L</th><th>numinstregularpaidest_4493210L</th><th>numinsttopaygr_769L</th><th>numinsttopaygrest_4493213L</th><th>numinstunpaidmax_3546851L</th><th>numinstunpaidmaxest_4493212L</th><th>numnotactivated_1143L</th><th>numpmtchanneldd_318L</th><th>numrejects9m_859L</th><th>opencred_647L</th><th>paytype1st_925L</th><th>paytype_783L</th><th>payvacationpostpone_4187118D</th><th>pctinstlsallpaidearl3d_427L</th><th>pctinstlsallpaidlat10d_839L</th><th>pctinstlsallpaidlate1d_3546856L</th><th>pctinstlsallpaidlate4d_3546849L</th><th>pctinstlsallpaidlate6d_3546844L</th><th>pmtnum_254L</th><th>posfpd10lastmonth_333P</th><th>posfpd30lastmonth_3976960P</th><th>posfstqpd30lastmonth_3976962P</th><th>previouscontdistrict_112M</th><th>price_1097A</th><th>sellerplacecnt_915L</th><th>sellerplacescnt_216L</th><th>sumoutstandtotal_3546847A</th><th>sumoutstandtotalest_4493215A</th><th>totaldebt_9A</th><th>totalsettled_863A</th><th>totinstallast1m_4525188A</th><th>twobodfilling_608L</th><th>typesuite_864L</th><th>validfrom_1069D</th></tr></thead><tbody><tr><td>0</td><td>null</td><td>null</td><td>1917.6</td><td>0.0</td><td>0.0</td><td>0.0</td><td>0.0</td><td>0.0</td><td>0.0</td><td>0.0</td><td>null</td><td>null</td><td>null</td><td>null</td><td>null</td><td>null</td><td>null</td><td>null</td><td>null</td><td>null</td><td>null</td><td>0.0</td><td>0.0</td><td>0.0</td><td>0.0</td><td>0.0</td><td>0.0</td><td>0.0</td><td>null</td><td>0.0</td><td>0.0</td><td>0.0</td><td>0.0</td><td>0.0</td><td>0.0</td><td>0.0</td><td>0.0</td><td>null</td><td>null</td><td>0.0</td><td>30000.0</td><td>&quot;CAL&quot;</td><td>0.0</td><td>0.0</td><td>null</td><td>null</td><td>null</td><td>null</td><td>0.0</td><td>&hellip;</td><td>0.0</td><td>null</td><td>null</td><td>null</td><td>null</td><td>null</td><td>null</td><td>null</td><td>null</td><td>null</td><td>null</td><td>null</td><td>null</td><td>null</td><td>null</td><td>null</td><td>null</td><td>null</td><td>null</td><td>null</td><td>null</td><td>null</td><td>0.0</td><td>0.0</td><td>0.0</td><td>null</td><td>&quot;OTHER&quot;</td><td>&quot;OTHER&quot;</td><td>null</td><td>null</td><td>null</td><td>null</td><td>null</td><td>null</td><td>24.0</td><td>0.0</td><td>0.0</td><td>null</td><td>&quot;a55475b1&quot;</td><td>null</td><td>0.0</td><td>0.0</td><td>null</td><td>null</td><td>0.0</td><td>0.0</td><td>null</td><td>&quot;BO&quot;</td><td>null</td><td>null</td></tr><tr><td>1</td><td>null</td><td>null</td><td>3134.0</td><td>0.0</td><td>0.0</td><td>0.0</td><td>0.0</td><td>0.0</td><td>0.0</td><td>0.0</td><td>null</td><td>null</td><td>null</td><td>null</td><td>null</td><td>null</td><td>null</td><td>null</td><td>null</td><td>null</td><td>null</td><td>0.0</td><td>0.0</td><td>0.0</td><td>0.0</td><td>0.0</td><td>0.0</td><td>0.0</td><td>0.0</td><td>3.0</td><td>0.0</td><td>0.0</td><td>0.0</td><td>0.0</td><td>0.0</td><td>0.0</td><td>0.0</td><td>null</td><td>null</td><td>0.0</td><td>19999.8</td><td>&quot;CAL&quot;</td><td>0.0</td><td>0.0</td><td>null</td><td>null</td><td>null</td><td>null</td><td>0.0</td><td>&hellip;</td><td>0.0</td><td>null</td><td>null</td><td>null</td><td>null</td><td>null</td><td>null</td><td>null</td><td>null</td><td>null</td><td>null</td><td>null</td><td>null</td><td>null</td><td>null</td><td>null</td><td>null</td><td>null</td><td>null</td><td>null</td><td>null</td><td>null</td><td>0.0</td><td>0.0</td><td>0.0</td><td>null</td><td>&quot;OTHER&quot;</td><td>&quot;OTHER&quot;</td><td>null</td><td>null</td><td>null</td><td>null</td><td>null</td><td>null</td><td>18.0</td><td>0.0</td><td>0.0</td><td>null</td><td>&quot;a55475b1&quot;</td><td>null</td><td>0.0</td><td>0.0</td><td>null</td><td>null</td><td>0.0</td><td>0.0</td><td>null</td><td>&quot;BO&quot;</td><td>null</td><td>null</td></tr><tr><td>2</td><td>null</td><td>null</td><td>4937.0</td><td>0.0</td><td>0.0</td><td>0.0</td><td>0.0</td><td>0.0</td><td>0.0</td><td>0.0</td><td>null</td><td>null</td><td>null</td><td>null</td><td>null</td><td>null</td><td>null</td><td>null</td><td>null</td><td>null</td><td>null</td><td>0.0</td><td>0.0</td><td>0.0</td><td>0.0</td><td>0.0</td><td>0.0</td><td>0.0</td><td>null</td><td>0.0</td><td>0.0</td><td>0.0</td><td>0.0</td><td>0.0</td><td>0.0</td><td>0.0</td><td>0.0</td><td>null</td><td>null</td><td>null</td><td>78000.0</td><td>&quot;CAL&quot;</td><td>0.0</td><td>0.0</td><td>null</td><td>null</td><td>null</td><td>null</td><td>0.0</td><td>&hellip;</td><td>0.0</td><td>null</td><td>null</td><td>null</td><td>null</td><td>null</td><td>null</td><td>null</td><td>null</td><td>null</td><td>null</td><td>null</td><td>null</td><td>null</td><td>null</td><td>null</td><td>null</td><td>null</td><td>null</td><td>null</td><td>null</td><td>null</td><td>0.0</td><td>0.0</td><td>0.0</td><td>false</td><td>&quot;OTHER&quot;</td><td>&quot;OTHER&quot;</td><td>null</td><td>null</td><td>null</td><td>null</td><td>null</td><td>null</td><td>36.0</td><td>0.0</td><td>0.0</td><td>null</td><td>&quot;a55475b1&quot;</td><td>null</td><td>0.0</td><td>0.0</td><td>null</td><td>null</td><td>0.0</td><td>0.0</td><td>null</td><td>&quot;BO&quot;</td><td>&quot;AL&quot;</td><td>null</td></tr></tbody></table></div>"
      ],
      "text/plain": [
       "+-----+-----+-----+-----+-----+-----+-----+-----+-----+-----+-----+-----+-----+-----+-----+-----+-----+-----+-----+-----+-----+-----+-----+-----+-----+-----+-----+-----+-----+-----+-----+-----+-----+-----+-----+-----+-----+-----+-----+-----+-----+-----+-----+-----+-----+-----+-----+-----+-----+-----+-----+-----+-----+-----+-----+-----+-----+-----+-----+-----+-----+-----+-----+-----+-----+-----+-----+-----+-----+-----+-----+-----+-----+-----+-----+-----+-----+-----+-----+-----+-----+-----+-----+-----+-----+-----+-----+-----+-----+-----+-----+-----+-----+-----+-----+-----+-----+-----+-----+-----+-----+\n",
       "| cas | act | amt | ann | ann | app | app | app | app | app | app | avg | avg | avg | avg | avg | avg | avg | avg | avg | ban | car | cli | cli | cli | cli | cli | cli | cli | cli | cli | cli | cli | cli | cli | cli | cli | cli | cnt | cnt | com | cre | cre | cur | cur | dat | dat | dat | day | def | ... | num | num | num | num | num | num | num | num | num | num | num | num | num | num | num | num | num | num | num | num | num | num | num | num | num | ope | pay | pay | pay | pct | pct | pct | pct | pct | pmt | pos | pos | pos | pre | pri | sel | sel | sum | sum | tot | tot | tot | two | typ | val |\n",
       "| e_i | ual | ins | uit | uit | lic | lic | lic | lic | lic | lic | dbd | dbd | dbd | dpd | ins | lna | max | out | pmt | kac | dty | ent | ent | ent | ent | ent | ent | ent | ent | ent | ent | ent | ent | ent | ent | ent | ent | inc | pmt | mno | dam | dty | rde | rde | efi | ela | ela | sov | err |     | ins | ins | ins | ins | ins | ins | ins | ins | ins | ins | ins | ins | ins | ins | ins | ins | ins | ins | ins | ins | ins | ins | not | pmt | rej | ncr | typ | typ | vac | ins | ins | ins | ins | ins | num | fpd | fpd | fst | vio | ce_ | ler | ler | out | out | ald | als | ins | bod | esu | idf |\n",
       "|  d  | dpd | tpa | y_7 | yne | ati | ati | ati | ati | ati | ati | dpd | dpd | tol | tol | tal | mts | dpd | sta | las | cty | pe_ | scn | scn | scn | scn | scn | scn | scn | scn | scn | scn | scn | scn | scn | scn | scn | scn | pay | s24 | inc | oun | pe_ | bt_ | btc | rst | sti | stu | erd | edm |     | tls | tls | tls | tls | tls | tma | tpa | tpa | tpa | tpa | tpa | tpa | tpa | tpa | tpa | tpa | tre | tre | tto | tto | tun | tun | act | cha | ect | ed_ | e1s | e_7 | ati | tls | tls | tls | tls | tls | _25 | 10l | 30l | qpd | usc | 109 | pla | pla | sta | sta | ebt | ett | tal | fil | ite | rom |\n",
       "|     | tol | idb | 80A | xtm | onc | ons | ons | ons | ons | ons | las | las | las | clo | las | tar | las | ndb | t12 | pe_ | 51L | t12 | t3m | t6m | t_1 | t_1 | t_1 | t_1 | t_1 | t_1 | t_2 | t_3 | t_3 | t_4 | t_5 | t_8 | t_9 | con | _36 | las | t_7 | 322 | 22A | red | off | nst | npa | uet | nth |     | _65 | all | wit | wit | wit | tpa | id_ | ide | ide | ide | ide | ide | ide | ide | idl | idl | gul | gul | pay | pay | pai | pai | iva | nne | s9m | 647 | t_9 | 83L | onp | all | all | all | all | all |  4L | ast | ast | 30l | ont |  7A | cec | ces | ndt | ndt | _9A | led | las | lin | _86 | _10 |\n",
       "|     | era | efd |     | ont | nt_ | 30d | cnt | cnt | cnt | cnt | t24 | t3m | t24 | sur | t24 | t24 | t9m | ala | m_4 | 710 |     | m_3 | _37 | _37 | 00L | 022 | 071 | 130 | 36L | 57L | 57L | 04L | 60L | 93L | 33L | 87L | 46L | t9m | 589 | t6m | 70A |  L  |     | typ | er_ | al4 | id_ | ole | snu |     |  7L | pai | hdp | hdp | hou | idt | 449 | arl | arl | arl | arl | arl | arl | arl | ast | ate | arp | arp | gr_ | gre | dma | dma | ted | ldd | _85 |  L  | 25L |     | ost | pai | pai | pai | pai | pai |     | mon | mon | ast | dis |     | nt_ | cnt | ota | ota |     | _86 | t1m | g_6 |  4L | 69D |\n",
       "|     | nce | uel |     | h_5 | 361 | _65 | _10 | _46 | _62 | _86 | m_3 | _41 | m_4 | e24 | m_3 | m_4 | _37 | nce | 525 |  L  |     | 712 | 129 | 129 |     |  L  |  L  |  L  |     |     |     |     |     |     |     |     |     | _37 | 33L | _35 |     |     |     | era | 114 | 0dp | 354 | ran | m_1 |     |     | d_9 | d10 | d5_ | tdp | ear | 920 | y3d | y3d | y5d | y5d | y5d | y_3 | yes | con | 1d_ | aid | aid | 769 | st_ | x_3 | xes | _11 | _31 |  9L |     |     |     | pon | dea | dla | dla | dla | dla |     | th_ | th_ | mon | tri |     | 915 | _21 | l_3 | les |     |  3A | _45 | 08L |     |     |\n",
       "|     | _34 | 24m |     |  7A |  L  |  8L | 86L |  4L |  9L |  7L | 658 | 871 | 525 | _36 | 658 | 525 | 169 | l6m | 200 |     |     | 952 | 50L | 49L |     |     |     |     |     |     |     |     |     |     |     |     |     | 169 |     | 468 |     |     |     | nge |  4D | d_2 | 685 | ced | 66L |     |     | 34L | _72 | 418 | d_5 | ly2 |  8L | _35 | est | _10 | est | obd | 38L | t_4 | tr_ | 354 | _97 | est |  L  | 449 | 546 | t_4 | 43L |  8L |     |     |     |     | e_4 | rl3 | t10 | te1 | te4 | te6 |     | 333 | 397 | th_ | ct_ |     |  L  |  6L | 546 | t_4 |     |     | 251 |     |     |     |\n",
       "|     |  4P | _41 |     |     |     |     |     |     |     |     | 932 | 20P | 197 | 589 | 937 | 187 | 43P | _41 |  A  |     |     |  L  |     |     |     |     |     |     |     |     |     |     |     |     |     |     |     | 44L |     | 45L |     |     |     | _82 |     | 47D |  4D | d_3 |     |     |     |     |  8L | 711 | 62L | d_4 |     | 468 | _44 | 87L | _44 | _44 |     | 493 | 432 | 685 |  3L | _44 |     | 321 | 851 | 493 |     |     |     |     |     |     | 187 | d_4 | d_8 | d_3 | d_3 | d_3 |     |  P  | 696 | 397 | 112 |     |     |     | 847 | 493 |     |     | 88A |     |     |     |\n",
       "|     |     | 871 |     |     |     |     |     |     |     |     |  P  |     |  P  | 38P |  A  |  A  |     | 871 |     |     |     |     |     |     |     |     |     |     |     |     |     |     |     |     |     |     |     |     |     |     |     |     |     |  8A |     |     |     | 976 |     |     |     |     |     |  6L |     | 499 |     | 50L | 932 |     | 932 | 992 |     | 214 | 508 |  2L |     | 932 |     |  3L |  L  | 212 |     |     |     |     |     |     | 118 | 27L | 39L | 546 | 546 | 546 |     |     |  0P | 696 |  M  |     |     |     |  A  | 215 |     |     |     |     |     |     |\n",
       "|     |     | 15A |     |     |     |     |     |     |     |     |     |     |     |     |     |     |     | 14A |     |     |     |     |     |     |     |     |     |     |     |     |     |     |     |     |     |     |     |     |     |     |     |     |     |     |     |     |     | 961 |     |     |     |     |     |     |     | 204 |     |     | 16L |     | 11L | 05L |     |  L  |  0L |     |     | 10L |     |     |     |  L  |     |     |     |     |     |     |  D  |     |     | 856 | 849 | 844 |     |     |     |  2P |     |     |     |     |     |  A  |     |     |     |     |     |     |\n",
       "|     |     |     |     |     |     |     |     |     |     |     |     |     |     |     |     |     |     |     |     |     |     |     |     |     |     |     |     |     |     |     |     |     |     |     |     |     |     |     |     |     |     |     |     |     |     |     |     |  L  |     |     |     |     |     |     |     |  L  |     |     |     |     |     |     |     |     |     |     |     |     |     |     |     |     |     |     |     |     |     |     |     |     |     |  L  |  L  |  L  |     |     |     |     |     |     |     |     |     |     |     |     |     |     |     |     |\n",
       "+=============================================================================================================================================================================================================================================================================================================================================================================================================================================================================================================================================================================================================================+\n",
       "|  0  | nul | nul | 191 | 0.0 | 0.0 | 0.0 | 0.0 | 0.0 | 0.0 | 0.0 | nul | nul | nul | nul | nul | nul | nul | nul | nul | nul | nul | 0.0 | 0.0 | 0.0 | 0.0 | 0.0 | 0.0 | 0.0 | nul | 0.0 | 0.0 | 0.0 | 0.0 | 0.0 | 0.0 | 0.0 | 0.0 | nul | nul | 0.0 | 300 | CAL | 0.0 | 0.0 | nul | nul | nul | nul | 0.0 | ... | 0.0 | nul | nul | nul | nul | nul | nul | nul | nul | nul | nul | nul | nul | nul | nul | nul | nul | nul | nul | nul | nul | nul | 0.0 | 0.0 | 0.0 | nul | OTH | OTH | nul | nul | nul | nul | nul | nul | 24. | 0.0 | 0.0 | nul | a55 | nul | 0.0 | 0.0 | nul | nul | 0.0 | 0.0 | nul |  BO | nul | nul |\n",
       "|     |  l  |  l  | 7.6 |     |     |     |     |     |     |     |  l  |  l  |  l  |  l  |  l  |  l  |  l  |  l  |  l  |  l  |  l  |     |     |     |     |     |     |     |  l  |     |     |     |     |     |     |     |     |  l  |  l  |     | 00. |     |     |     |  l  |  l  |  l  |  l  |     |     |     |  l  |  l  |  l  |  l  |  l  |  l  |  l  |  l  |  l  |  l  |  l  |  l  |  l  |  l  |  l  |  l  |  l  |  l  |  l  |  l  |  l  |     |     |     |  l  |  ER |  ER |  l  |  l  |  l  |  l  |  l  |  l  |  0  |     |     |  l  | 475 |  l  |     |     |  l  |  l  |     |     |  l  |     |  l  |  l  |\n",
       "|     |     |     |     |     |     |     |     |     |     |     |     |     |     |     |     |     |     |     |     |     |     |     |     |     |     |     |     |     |     |     |     |     |     |     |     |     |     |     |     |     |  0  |     |     |     |     |     |     |     |     |     |     |     |     |     |     |     |     |     |     |     |     |     |     |     |     |     |     |     |     |     |     |     |     |     |     |     |     |     |     |     |     |     |     |     |     |     |     |     |  b1 |     |     |     |     |     |     |     |     |     |     |     |\n",
       "|  1  | nul | nul | 313 | 0.0 | 0.0 | 0.0 | 0.0 | 0.0 | 0.0 | 0.0 | nul | nul | nul | nul | nul | nul | nul | nul | nul | nul | nul | 0.0 | 0.0 | 0.0 | 0.0 | 0.0 | 0.0 | 0.0 | 0.0 | 3.0 | 0.0 | 0.0 | 0.0 | 0.0 | 0.0 | 0.0 | 0.0 | nul | nul | 0.0 | 199 | CAL | 0.0 | 0.0 | nul | nul | nul | nul | 0.0 | ... | 0.0 | nul | nul | nul | nul | nul | nul | nul | nul | nul | nul | nul | nul | nul | nul | nul | nul | nul | nul | nul | nul | nul | 0.0 | 0.0 | 0.0 | nul | OTH | OTH | nul | nul | nul | nul | nul | nul | 18. | 0.0 | 0.0 | nul | a55 | nul | 0.0 | 0.0 | nul | nul | 0.0 | 0.0 | nul |  BO | nul | nul |\n",
       "|     |  l  |  l  | 4.0 |     |     |     |     |     |     |     |  l  |  l  |  l  |  l  |  l  |  l  |  l  |  l  |  l  |  l  |  l  |     |     |     |     |     |     |     |     |     |     |     |     |     |     |     |     |  l  |  l  |     | 99. |     |     |     |  l  |  l  |  l  |  l  |     |     |     |  l  |  l  |  l  |  l  |  l  |  l  |  l  |  l  |  l  |  l  |  l  |  l  |  l  |  l  |  l  |  l  |  l  |  l  |  l  |  l  |  l  |     |     |     |  l  |  ER |  ER |  l  |  l  |  l  |  l  |  l  |  l  |  0  |     |     |  l  | 475 |  l  |     |     |  l  |  l  |     |     |  l  |     |  l  |  l  |\n",
       "|     |     |     |     |     |     |     |     |     |     |     |     |     |     |     |     |     |     |     |     |     |     |     |     |     |     |     |     |     |     |     |     |     |     |     |     |     |     |     |     |     |  8  |     |     |     |     |     |     |     |     |     |     |     |     |     |     |     |     |     |     |     |     |     |     |     |     |     |     |     |     |     |     |     |     |     |     |     |     |     |     |     |     |     |     |     |     |     |     |     |  b1 |     |     |     |     |     |     |     |     |     |     |     |\n",
       "|  2  | nul | nul | 493 | 0.0 | 0.0 | 0.0 | 0.0 | 0.0 | 0.0 | 0.0 | nul | nul | nul | nul | nul | nul | nul | nul | nul | nul | nul | 0.0 | 0.0 | 0.0 | 0.0 | 0.0 | 0.0 | 0.0 | nul | 0.0 | 0.0 | 0.0 | 0.0 | 0.0 | 0.0 | 0.0 | 0.0 | nul | nul | nul | 780 | CAL | 0.0 | 0.0 | nul | nul | nul | nul | 0.0 | ... | 0.0 | nul | nul | nul | nul | nul | nul | nul | nul | nul | nul | nul | nul | nul | nul | nul | nul | nul | nul | nul | nul | nul | 0.0 | 0.0 | 0.0 | fal | OTH | OTH | nul | nul | nul | nul | nul | nul | 36. | 0.0 | 0.0 | nul | a55 | nul | 0.0 | 0.0 | nul | nul | 0.0 | 0.0 | nul |  BO |  AL | nul |\n",
       "|     |  l  |  l  | 7.0 |     |     |     |     |     |     |     |  l  |  l  |  l  |  l  |  l  |  l  |  l  |  l  |  l  |  l  |  l  |     |     |     |     |     |     |     |  l  |     |     |     |     |     |     |     |     |  l  |  l  |  l  | 00. |     |     |     |  l  |  l  |  l  |  l  |     |     |     |  l  |  l  |  l  |  l  |  l  |  l  |  l  |  l  |  l  |  l  |  l  |  l  |  l  |  l  |  l  |  l  |  l  |  l  |  l  |  l  |  l  |     |     |     |  se |  ER |  ER |  l  |  l  |  l  |  l  |  l  |  l  |  0  |     |     |  l  | 475 |  l  |     |     |  l  |  l  |     |     |  l  |     |     |  l  |\n",
       "|     |     |     |     |     |     |     |     |     |     |     |     |     |     |     |     |     |     |     |     |     |     |     |     |     |     |     |     |     |     |     |     |     |     |     |     |     |     |     |     |     |  0  |     |     |     |     |     |     |     |     |     |     |     |     |     |     |     |     |     |     |     |     |     |     |     |     |     |     |     |     |     |     |     |     |     |     |     |     |     |     |     |     |     |     |     |     |     |     |     |  b1 |     |     |     |     |     |     |     |     |     |     |     |\n",
       "+-----+-----+-----+-----+-----+-----+-----+-----+-----+-----+-----+-----+-----+-----+-----+-----+-----+-----+-----+-----+-----+-----+-----+-----+-----+-----+-----+-----+-----+-----+-----+-----+-----+-----+-----+-----+-----+-----+-----+-----+-----+-----+-----+-----+-----+-----+-----+-----+-----+-----+-----+-----+-----+-----+-----+-----+-----+-----+-----+-----+-----+-----+-----+-----+-----+-----+-----+-----+-----+-----+-----+-----+-----+-----+-----+-----+-----+-----+-----+-----+-----+-----+-----+-----+-----+-----+-----+-----+-----+-----+-----+-----+-----+-----+-----+-----+-----+-----+-----+-----+-----+"
      ]
     },
     "metadata": {},
     "output_type": "display_data"
    },
    {
     "data": {
      "text/html": [
       "<div><style>\n",
       ".dataframe > thead > tr,\n",
       ".dataframe > tbody > tr {\n",
       "  text-align: right;\n",
       "  white-space: pre-wrap;\n",
       "}\n",
       "</style>\n",
       "<table border=\"1\" class=\"dataframe\"><thead><tr><th>case_id</th><th>actualdpdtolerance_344P</th><th>amtinstpaidbefduel24m_4187115A</th><th>annuity_780A</th><th>annuitynextmonth_57A</th><th>applicationcnt_361L</th><th>applications30d_658L</th><th>applicationscnt_1086L</th><th>applicationscnt_464L</th><th>applicationscnt_629L</th><th>applicationscnt_867L</th><th>avgdbddpdlast24m_3658932P</th><th>avgdbddpdlast3m_4187120P</th><th>avgdbdtollast24m_4525197P</th><th>avgdpdtolclosure24_3658938P</th><th>avginstallast24m_3658937A</th><th>avglnamtstart24m_4525187A</th><th>avgmaxdpdlast9m_3716943P</th><th>avgoutstandbalancel6m_4187114A</th><th>avgpmtlast12m_4525200A</th><th>bankacctype_710L</th><th>cardtype_51L</th><th>clientscnt12m_3712952L</th><th>clientscnt3m_3712950L</th><th>clientscnt6m_3712949L</th><th>clientscnt_100L</th><th>clientscnt_1022L</th><th>clientscnt_1071L</th><th>clientscnt_1130L</th><th>clientscnt_136L</th><th>clientscnt_157L</th><th>clientscnt_257L</th><th>clientscnt_304L</th><th>clientscnt_360L</th><th>clientscnt_493L</th><th>clientscnt_533L</th><th>clientscnt_887L</th><th>clientscnt_946L</th><th>cntincpaycont9m_3716944L</th><th>cntpmts24_3658933L</th><th>commnoinclast6m_3546845L</th><th>credamount_770A</th><th>credtype_322L</th><th>currdebt_22A</th><th>currdebtcredtyperange_828A</th><th>datefirstoffer_1144D</th><th>datelastinstal40dpd_247D</th><th>datelastunpaid_3546854D</th><th>daysoverduetolerancedd_3976961L</th><th>deferredmnthsnum_166L</th><th>&hellip;</th><th>numinstls_657L</th><th>numinstlsallpaid_934L</th><th>numinstlswithdpd10_728L</th><th>numinstlswithdpd5_4187116L</th><th>numinstlswithoutdpd_562L</th><th>numinstmatpaidtearly2d_4499204L</th><th>numinstpaid_4499208L</th><th>numinstpaidearly3d_3546850L</th><th>numinstpaidearly3dest_4493216L</th><th>numinstpaidearly5d_1087L</th><th>numinstpaidearly5dest_4493211L</th><th>numinstpaidearly5dobd_4499205L</th><th>numinstpaidearly_338L</th><th>numinstpaidearlyest_4493214L</th><th>numinstpaidlastcontr_4325080L</th><th>numinstpaidlate1d_3546852L</th><th>numinstregularpaid_973L</th><th>numinstregularpaidest_4493210L</th><th>numinsttopaygr_769L</th><th>numinsttopaygrest_4493213L</th><th>numinstunpaidmax_3546851L</th><th>numinstunpaidmaxest_4493212L</th><th>numnotactivated_1143L</th><th>numpmtchanneldd_318L</th><th>numrejects9m_859L</th><th>opencred_647L</th><th>paytype1st_925L</th><th>paytype_783L</th><th>payvacationpostpone_4187118D</th><th>pctinstlsallpaidearl3d_427L</th><th>pctinstlsallpaidlat10d_839L</th><th>pctinstlsallpaidlate1d_3546856L</th><th>pctinstlsallpaidlate4d_3546849L</th><th>pctinstlsallpaidlate6d_3546844L</th><th>pmtnum_254L</th><th>posfpd10lastmonth_333P</th><th>posfpd30lastmonth_3976960P</th><th>posfstqpd30lastmonth_3976962P</th><th>previouscontdistrict_112M</th><th>price_1097A</th><th>sellerplacecnt_915L</th><th>sellerplacescnt_216L</th><th>sumoutstandtotal_3546847A</th><th>sumoutstandtotalest_4493215A</th><th>totaldebt_9A</th><th>totalsettled_863A</th><th>totinstallast1m_4525188A</th><th>twobodfilling_608L</th><th>typesuite_864L</th><th>validfrom_1069D</th></tr></thead><tbody><tr><td>40626</td><td>null</td><td>null</td><td>1976.2001</td><td>0.0</td><td>0.0</td><td>0.0</td><td>0.0</td><td>1.0</td><td>0.0</td><td>0.0</td><td>null</td><td>null</td><td>null</td><td>null</td><td>null</td><td>null</td><td>null</td><td>null</td><td>null</td><td>null</td><td>null</td><td>0.0</td><td>0.0</td><td>0.0</td><td>0.0</td><td>0.0</td><td>0.0</td><td>0.0</td><td>null</td><td>0.0</td><td>0.0</td><td>0.0</td><td>0.0</td><td>0.0</td><td>0.0</td><td>0.0</td><td>0.0</td><td>null</td><td>null</td><td>0.0</td><td>36000.0</td><td>&quot;CAL&quot;</td><td>0.0</td><td>0.0</td><td>null</td><td>null</td><td>null</td><td>null</td><td>0.0</td><td>&hellip;</td><td>0.0</td><td>null</td><td>null</td><td>null</td><td>null</td><td>null</td><td>null</td><td>null</td><td>null</td><td>null</td><td>null</td><td>null</td><td>null</td><td>null</td><td>null</td><td>null</td><td>null</td><td>null</td><td>null</td><td>null</td><td>null</td><td>null</td><td>0.0</td><td>0.0</td><td>0.0</td><td>null</td><td>&quot;OTHER&quot;</td><td>&quot;OTHER&quot;</td><td>null</td><td>null</td><td>null</td><td>null</td><td>null</td><td>null</td><td>24.0</td><td>0.0</td><td>0.0</td><td>null</td><td>&quot;a55475b1&quot;</td><td>null</td><td>0.0</td><td>0.0</td><td>null</td><td>null</td><td>0.0</td><td>0.0</td><td>null</td><td>&quot;FO&quot;</td><td>&quot;AL&quot;</td><td>null</td></tr><tr><td>40704</td><td>null</td><td>null</td><td>3731.2</td><td>0.0</td><td>0.0</td><td>0.0</td><td>0.0</td><td>0.0</td><td>0.0</td><td>0.0</td><td>null</td><td>null</td><td>null</td><td>null</td><td>null</td><td>null</td><td>null</td><td>null</td><td>null</td><td>null</td><td>null</td><td>0.0</td><td>0.0</td><td>0.0</td><td>0.0</td><td>0.0</td><td>0.0</td><td>0.0</td><td>null</td><td>0.0</td><td>0.0</td><td>0.0</td><td>0.0</td><td>0.0</td><td>0.0</td><td>0.0</td><td>0.0</td><td>null</td><td>null</td><td>0.0</td><td>30000.0</td><td>&quot;CAL&quot;</td><td>0.0</td><td>0.0</td><td>null</td><td>null</td><td>null</td><td>null</td><td>0.0</td><td>&hellip;</td><td>0.0</td><td>null</td><td>null</td><td>null</td><td>null</td><td>null</td><td>null</td><td>null</td><td>null</td><td>null</td><td>null</td><td>null</td><td>null</td><td>null</td><td>null</td><td>null</td><td>null</td><td>null</td><td>null</td><td>null</td><td>null</td><td>null</td><td>0.0</td><td>0.0</td><td>0.0</td><td>false</td><td>&quot;OTHER&quot;</td><td>&quot;OTHER&quot;</td><td>null</td><td>null</td><td>null</td><td>null</td><td>null</td><td>null</td><td>12.0</td><td>null</td><td>null</td><td>null</td><td>&quot;a55475b1&quot;</td><td>null</td><td>0.0</td><td>0.0</td><td>null</td><td>null</td><td>0.0</td><td>0.0</td><td>null</td><td>&quot;FO&quot;</td><td>&quot;AL&quot;</td><td>null</td></tr><tr><td>40734</td><td>null</td><td>null</td><td>3731.2</td><td>0.0</td><td>0.0</td><td>1.0</td><td>0.0</td><td>0.0</td><td>0.0</td><td>1.0</td><td>null</td><td>null</td><td>null</td><td>null</td><td>null</td><td>null</td><td>null</td><td>null</td><td>null</td><td>null</td><td>null</td><td>0.0</td><td>0.0</td><td>0.0</td><td>0.0</td><td>0.0</td><td>0.0</td><td>0.0</td><td>null</td><td>0.0</td><td>0.0</td><td>0.0</td><td>0.0</td><td>0.0</td><td>1.0</td><td>0.0</td><td>0.0</td><td>null</td><td>null</td><td>0.0</td><td>30000.0</td><td>&quot;CAL&quot;</td><td>0.0</td><td>0.0</td><td>null</td><td>null</td><td>null</td><td>null</td><td>0.0</td><td>&hellip;</td><td>0.0</td><td>null</td><td>null</td><td>null</td><td>null</td><td>null</td><td>null</td><td>null</td><td>null</td><td>null</td><td>null</td><td>null</td><td>null</td><td>null</td><td>null</td><td>null</td><td>null</td><td>null</td><td>null</td><td>null</td><td>null</td><td>null</td><td>0.0</td><td>0.0</td><td>1.0</td><td>false</td><td>&quot;OTHER&quot;</td><td>&quot;OTHER&quot;</td><td>null</td><td>null</td><td>null</td><td>null</td><td>null</td><td>null</td><td>12.0</td><td>0.0</td><td>0.0</td><td>null</td><td>&quot;a55475b1&quot;</td><td>null</td><td>1.0</td><td>1.0</td><td>null</td><td>null</td><td>0.0</td><td>0.0</td><td>null</td><td>&quot;FO&quot;</td><td>&quot;AL&quot;</td><td>null</td></tr></tbody></table></div>"
      ],
      "text/plain": [
       "+-----+-----+-----+-----+-----+-----+-----+-----+-----+-----+-----+-----+-----+-----+-----+-----+-----+-----+-----+-----+-----+-----+-----+-----+-----+-----+-----+-----+-----+-----+-----+-----+-----+-----+-----+-----+-----+-----+-----+-----+-----+-----+-----+-----+-----+-----+-----+-----+-----+-----+-----+-----+-----+-----+-----+-----+-----+-----+-----+-----+-----+-----+-----+-----+-----+-----+-----+-----+-----+-----+-----+-----+-----+-----+-----+-----+-----+-----+-----+-----+-----+-----+-----+-----+-----+-----+-----+-----+-----+-----+-----+-----+-----+-----+-----+-----+-----+-----+-----+-----+-----+\n",
       "| cas | act | amt | ann | ann | app | app | app | app | app | app | avg | avg | avg | avg | avg | avg | avg | avg | avg | ban | car | cli | cli | cli | cli | cli | cli | cli | cli | cli | cli | cli | cli | cli | cli | cli | cli | cnt | cnt | com | cre | cre | cur | cur | dat | dat | dat | day | def | ... | num | num | num | num | num | num | num | num | num | num | num | num | num | num | num | num | num | num | num | num | num | num | num | num | num | ope | pay | pay | pay | pct | pct | pct | pct | pct | pmt | pos | pos | pos | pre | pri | sel | sel | sum | sum | tot | tot | tot | two | typ | val |\n",
       "| e_i | ual | ins | uit | uit | lic | lic | lic | lic | lic | lic | dbd | dbd | dbd | dpd | ins | lna | max | out | pmt | kac | dty | ent | ent | ent | ent | ent | ent | ent | ent | ent | ent | ent | ent | ent | ent | ent | ent | inc | pmt | mno | dam | dty | rde | rde | efi | ela | ela | sov | err |     | ins | ins | ins | ins | ins | ins | ins | ins | ins | ins | ins | ins | ins | ins | ins | ins | ins | ins | ins | ins | ins | ins | not | pmt | rej | ncr | typ | typ | vac | ins | ins | ins | ins | ins | num | fpd | fpd | fst | vio | ce_ | ler | ler | out | out | ald | als | ins | bod | esu | idf |\n",
       "|  d  | dpd | tpa | y_7 | yne | ati | ati | ati | ati | ati | ati | dpd | dpd | tol | tol | tal | mts | dpd | sta | las | cty | pe_ | scn | scn | scn | scn | scn | scn | scn | scn | scn | scn | scn | scn | scn | scn | scn | scn | pay | s24 | inc | oun | pe_ | bt_ | btc | rst | sti | stu | erd | edm |     | tls | tls | tls | tls | tls | tma | tpa | tpa | tpa | tpa | tpa | tpa | tpa | tpa | tpa | tpa | tre | tre | tto | tto | tun | tun | act | cha | ect | ed_ | e1s | e_7 | ati | tls | tls | tls | tls | tls | _25 | 10l | 30l | qpd | usc | 109 | pla | pla | sta | sta | ebt | ett | tal | fil | ite | rom |\n",
       "|     | tol | idb | 80A | xtm | onc | ons | ons | ons | ons | ons | las | las | las | clo | las | tar | las | ndb | t12 | pe_ | 51L | t12 | t3m | t6m | t_1 | t_1 | t_1 | t_1 | t_1 | t_1 | t_2 | t_3 | t_3 | t_4 | t_5 | t_8 | t_9 | con | _36 | las | t_7 | 322 | 22A | red | off | nst | npa | uet | nth |     | _65 | all | wit | wit | wit | tpa | id_ | ide | ide | ide | ide | ide | ide | ide | idl | idl | gul | gul | pay | pay | pai | pai | iva | nne | s9m | 647 | t_9 | 83L | onp | all | all | all | all | all |  4L | ast | ast | 30l | ont |  7A | cec | ces | ndt | ndt | _9A | led | las | lin | _86 | _10 |\n",
       "|     | era | efd |     | ont | nt_ | 30d | cnt | cnt | cnt | cnt | t24 | t3m | t24 | sur | t24 | t24 | t9m | ala | m_4 | 710 |     | m_3 | _37 | _37 | 00L | 022 | 071 | 130 | 36L | 57L | 57L | 04L | 60L | 93L | 33L | 87L | 46L | t9m | 589 | t6m | 70A |  L  |     | typ | er_ | al4 | id_ | ole | snu |     |  7L | pai | hdp | hdp | hou | idt | 449 | arl | arl | arl | arl | arl | arl | arl | ast | ate | arp | arp | gr_ | gre | dma | dma | ted | ldd | _85 |  L  | 25L |     | ost | pai | pai | pai | pai | pai |     | mon | mon | ast | dis |     | nt_ | cnt | ota | ota |     | _86 | t1m | g_6 |  4L | 69D |\n",
       "|     | nce | uel |     | h_5 | 361 | _65 | _10 | _46 | _62 | _86 | m_3 | _41 | m_4 | e24 | m_3 | m_4 | _37 | nce | 525 |  L  |     | 712 | 129 | 129 |     |  L  |  L  |  L  |     |     |     |     |     |     |     |     |     | _37 | 33L | _35 |     |     |     | era | 114 | 0dp | 354 | ran | m_1 |     |     | d_9 | d10 | d5_ | tdp | ear | 920 | y3d | y3d | y5d | y5d | y5d | y_3 | yes | con | 1d_ | aid | aid | 769 | st_ | x_3 | xes | _11 | _31 |  9L |     |     |     | pon | dea | dla | dla | dla | dla |     | th_ | th_ | mon | tri |     | 915 | _21 | l_3 | les |     |  3A | _45 | 08L |     |     |\n",
       "|     | _34 | 24m |     |  7A |  L  |  8L | 86L |  4L |  9L |  7L | 658 | 871 | 525 | _36 | 658 | 525 | 169 | l6m | 200 |     |     | 952 | 50L | 49L |     |     |     |     |     |     |     |     |     |     |     |     |     | 169 |     | 468 |     |     |     | nge |  4D | d_2 | 685 | ced | 66L |     |     | 34L | _72 | 418 | d_5 | ly2 |  8L | _35 | est | _10 | est | obd | 38L | t_4 | tr_ | 354 | _97 | est |  L  | 449 | 546 | t_4 | 43L |  8L |     |     |     |     | e_4 | rl3 | t10 | te1 | te4 | te6 |     | 333 | 397 | th_ | ct_ |     |  L  |  6L | 546 | t_4 |     |     | 251 |     |     |     |\n",
       "|     |  4P | _41 |     |     |     |     |     |     |     |     | 932 | 20P | 197 | 589 | 937 | 187 | 43P | _41 |  A  |     |     |  L  |     |     |     |     |     |     |     |     |     |     |     |     |     |     |     | 44L |     | 45L |     |     |     | _82 |     | 47D |  4D | d_3 |     |     |     |     |  8L | 711 | 62L | d_4 |     | 468 | _44 | 87L | _44 | _44 |     | 493 | 432 | 685 |  3L | _44 |     | 321 | 851 | 493 |     |     |     |     |     |     | 187 | d_4 | d_8 | d_3 | d_3 | d_3 |     |  P  | 696 | 397 | 112 |     |     |     | 847 | 493 |     |     | 88A |     |     |     |\n",
       "|     |     | 871 |     |     |     |     |     |     |     |     |  P  |     |  P  | 38P |  A  |  A  |     | 871 |     |     |     |     |     |     |     |     |     |     |     |     |     |     |     |     |     |     |     |     |     |     |     |     |     |  8A |     |     |     | 976 |     |     |     |     |     |  6L |     | 499 |     | 50L | 932 |     | 932 | 992 |     | 214 | 508 |  2L |     | 932 |     |  3L |  L  | 212 |     |     |     |     |     |     | 118 | 27L | 39L | 546 | 546 | 546 |     |     |  0P | 696 |  M  |     |     |     |  A  | 215 |     |     |     |     |     |     |\n",
       "|     |     | 15A |     |     |     |     |     |     |     |     |     |     |     |     |     |     |     | 14A |     |     |     |     |     |     |     |     |     |     |     |     |     |     |     |     |     |     |     |     |     |     |     |     |     |     |     |     |     | 961 |     |     |     |     |     |     |     | 204 |     |     | 16L |     | 11L | 05L |     |  L  |  0L |     |     | 10L |     |     |     |  L  |     |     |     |     |     |     |  D  |     |     | 856 | 849 | 844 |     |     |     |  2P |     |     |     |     |     |  A  |     |     |     |     |     |     |\n",
       "|     |     |     |     |     |     |     |     |     |     |     |     |     |     |     |     |     |     |     |     |     |     |     |     |     |     |     |     |     |     |     |     |     |     |     |     |     |     |     |     |     |     |     |     |     |     |     |     |  L  |     |     |     |     |     |     |     |  L  |     |     |     |     |     |     |     |     |     |     |     |     |     |     |     |     |     |     |     |     |     |     |     |     |     |  L  |  L  |  L  |     |     |     |     |     |     |     |     |     |     |     |     |     |     |     |     |\n",
       "+=============================================================================================================================================================================================================================================================================================================================================================================================================================================================================================================================================================================================================================+\n",
       "| 406 | nul | nul | 197 | 0.0 | 0.0 | 0.0 | 0.0 | 1.0 | 0.0 | 0.0 | nul | nul | nul | nul | nul | nul | nul | nul | nul | nul | nul | 0.0 | 0.0 | 0.0 | 0.0 | 0.0 | 0.0 | 0.0 | nul | 0.0 | 0.0 | 0.0 | 0.0 | 0.0 | 0.0 | 0.0 | 0.0 | nul | nul | 0.0 | 360 | CAL | 0.0 | 0.0 | nul | nul | nul | nul | 0.0 | ... | 0.0 | nul | nul | nul | nul | nul | nul | nul | nul | nul | nul | nul | nul | nul | nul | nul | nul | nul | nul | nul | nul | nul | 0.0 | 0.0 | 0.0 | nul | OTH | OTH | nul | nul | nul | nul | nul | nul | 24. | 0.0 | 0.0 | nul | a55 | nul | 0.0 | 0.0 | nul | nul | 0.0 | 0.0 | nul |  FO |  AL | nul |\n",
       "|  26 |  l  |  l  | 6.2 |     |     |     |     |     |     |     |  l  |  l  |  l  |  l  |  l  |  l  |  l  |  l  |  l  |  l  |  l  |     |     |     |     |     |     |     |  l  |     |     |     |     |     |     |     |     |  l  |  l  |     | 00. |     |     |     |  l  |  l  |  l  |  l  |     |     |     |  l  |  l  |  l  |  l  |  l  |  l  |  l  |  l  |  l  |  l  |  l  |  l  |  l  |  l  |  l  |  l  |  l  |  l  |  l  |  l  |  l  |     |     |     |  l  |  ER |  ER |  l  |  l  |  l  |  l  |  l  |  l  |  0  |     |     |  l  | 475 |  l  |     |     |  l  |  l  |     |     |  l  |     |     |  l  |\n",
       "|     |     |     | 001 |     |     |     |     |     |     |     |     |     |     |     |     |     |     |     |     |     |     |     |     |     |     |     |     |     |     |     |     |     |     |     |     |     |     |     |     |     |  0  |     |     |     |     |     |     |     |     |     |     |     |     |     |     |     |     |     |     |     |     |     |     |     |     |     |     |     |     |     |     |     |     |     |     |     |     |     |     |     |     |     |     |     |     |     |     |     |  b1 |     |     |     |     |     |     |     |     |     |     |     |\n",
       "| 407 | nul | nul | 373 | 0.0 | 0.0 | 0.0 | 0.0 | 0.0 | 0.0 | 0.0 | nul | nul | nul | nul | nul | nul | nul | nul | nul | nul | nul | 0.0 | 0.0 | 0.0 | 0.0 | 0.0 | 0.0 | 0.0 | nul | 0.0 | 0.0 | 0.0 | 0.0 | 0.0 | 0.0 | 0.0 | 0.0 | nul | nul | 0.0 | 300 | CAL | 0.0 | 0.0 | nul | nul | nul | nul | 0.0 | ... | 0.0 | nul | nul | nul | nul | nul | nul | nul | nul | nul | nul | nul | nul | nul | nul | nul | nul | nul | nul | nul | nul | nul | 0.0 | 0.0 | 0.0 | fal | OTH | OTH | nul | nul | nul | nul | nul | nul | 12. | nul | nul | nul | a55 | nul | 0.0 | 0.0 | nul | nul | 0.0 | 0.0 | nul |  FO |  AL | nul |\n",
       "|  04 |  l  |  l  | 1.2 |     |     |     |     |     |     |     |  l  |  l  |  l  |  l  |  l  |  l  |  l  |  l  |  l  |  l  |  l  |     |     |     |     |     |     |     |  l  |     |     |     |     |     |     |     |     |  l  |  l  |     | 00. |     |     |     |  l  |  l  |  l  |  l  |     |     |     |  l  |  l  |  l  |  l  |  l  |  l  |  l  |  l  |  l  |  l  |  l  |  l  |  l  |  l  |  l  |  l  |  l  |  l  |  l  |  l  |  l  |     |     |     |  se |  ER |  ER |  l  |  l  |  l  |  l  |  l  |  l  |  0  |  l  |  l  |  l  | 475 |  l  |     |     |  l  |  l  |     |     |  l  |     |     |  l  |\n",
       "|     |     |     |     |     |     |     |     |     |     |     |     |     |     |     |     |     |     |     |     |     |     |     |     |     |     |     |     |     |     |     |     |     |     |     |     |     |     |     |     |     |  0  |     |     |     |     |     |     |     |     |     |     |     |     |     |     |     |     |     |     |     |     |     |     |     |     |     |     |     |     |     |     |     |     |     |     |     |     |     |     |     |     |     |     |     |     |     |     |     |  b1 |     |     |     |     |     |     |     |     |     |     |     |\n",
       "| 407 | nul | nul | 373 | 0.0 | 0.0 | 1.0 | 0.0 | 0.0 | 0.0 | 1.0 | nul | nul | nul | nul | nul | nul | nul | nul | nul | nul | nul | 0.0 | 0.0 | 0.0 | 0.0 | 0.0 | 0.0 | 0.0 | nul | 0.0 | 0.0 | 0.0 | 0.0 | 0.0 | 1.0 | 0.0 | 0.0 | nul | nul | 0.0 | 300 | CAL | 0.0 | 0.0 | nul | nul | nul | nul | 0.0 | ... | 0.0 | nul | nul | nul | nul | nul | nul | nul | nul | nul | nul | nul | nul | nul | nul | nul | nul | nul | nul | nul | nul | nul | 0.0 | 0.0 | 1.0 | fal | OTH | OTH | nul | nul | nul | nul | nul | nul | 12. | 0.0 | 0.0 | nul | a55 | nul | 1.0 | 1.0 | nul | nul | 0.0 | 0.0 | nul |  FO |  AL | nul |\n",
       "|  34 |  l  |  l  | 1.2 |     |     |     |     |     |     |     |  l  |  l  |  l  |  l  |  l  |  l  |  l  |  l  |  l  |  l  |  l  |     |     |     |     |     |     |     |  l  |     |     |     |     |     |     |     |     |  l  |  l  |     | 00. |     |     |     |  l  |  l  |  l  |  l  |     |     |     |  l  |  l  |  l  |  l  |  l  |  l  |  l  |  l  |  l  |  l  |  l  |  l  |  l  |  l  |  l  |  l  |  l  |  l  |  l  |  l  |  l  |     |     |     |  se |  ER |  ER |  l  |  l  |  l  |  l  |  l  |  l  |  0  |     |     |  l  | 475 |  l  |     |     |  l  |  l  |     |     |  l  |     |     |  l  |\n",
       "|     |     |     |     |     |     |     |     |     |     |     |     |     |     |     |     |     |     |     |     |     |     |     |     |     |     |     |     |     |     |     |     |     |     |     |     |     |     |     |     |     |  0  |     |     |     |     |     |     |     |     |     |     |     |     |     |     |     |     |     |     |     |     |     |     |     |     |     |     |     |     |     |     |     |     |     |     |     |     |     |     |     |     |     |     |     |     |     |     |     |  b1 |     |     |     |     |     |     |     |     |     |     |     |\n",
       "+-----+-----+-----+-----+-----+-----+-----+-----+-----+-----+-----+-----+-----+-----+-----+-----+-----+-----+-----+-----+-----+-----+-----+-----+-----+-----+-----+-----+-----+-----+-----+-----+-----+-----+-----+-----+-----+-----+-----+-----+-----+-----+-----+-----+-----+-----+-----+-----+-----+-----+-----+-----+-----+-----+-----+-----+-----+-----+-----+-----+-----+-----+-----+-----+-----+-----+-----+-----+-----+-----+-----+-----+-----+-----+-----+-----+-----+-----+-----+-----+-----+-----+-----+-----+-----+-----+-----+-----+-----+-----+-----+-----+-----+-----+-----+-----+-----+-----+-----+-----+-----+"
      ]
     },
     "metadata": {},
     "output_type": "display_data"
    },
    {
     "data": {
      "text/html": [
       "<div><style>\n",
       ".dataframe > thead > tr,\n",
       ".dataframe > tbody > tr {\n",
       "  text-align: right;\n",
       "  white-space: pre-wrap;\n",
       "}\n",
       "</style>\n",
       "<table border=\"1\" class=\"dataframe\"><thead><tr><th>case_id</th><th>assignmentdate_238D</th><th>assignmentdate_4527235D</th><th>assignmentdate_4955616D</th><th>birthdate_574D</th><th>contractssum_5085716L</th><th>dateofbirth_337D</th><th>dateofbirth_342D</th><th>days120_123L</th><th>days180_256L</th><th>days30_165L</th><th>days360_512L</th><th>days90_310L</th><th>description_5085714M</th><th>education_1103M</th><th>education_88M</th><th>firstquarter_103L</th><th>for3years_128L</th><th>for3years_504L</th><th>for3years_584L</th><th>formonth_118L</th><th>formonth_206L</th><th>formonth_535L</th><th>forquarter_1017L</th><th>forquarter_462L</th><th>forquarter_634L</th><th>fortoday_1092L</th><th>forweek_1077L</th><th>forweek_528L</th><th>forweek_601L</th><th>foryear_618L</th><th>foryear_818L</th><th>foryear_850L</th><th>fourthquarter_440L</th><th>maritalst_385M</th><th>maritalst_893M</th><th>numberofqueries_373L</th><th>pmtaverage_3A</th><th>pmtaverage_4527227A</th><th>pmtaverage_4955615A</th><th>pmtcount_4527229L</th><th>pmtcount_4955617L</th><th>pmtcount_693L</th><th>pmtscount_423L</th><th>pmtssum_45A</th><th>requesttype_4525192L</th><th>responsedate_1012D</th><th>responsedate_4527233D</th><th>responsedate_4917613D</th><th>riskassesment_302T</th><th>riskassesment_940T</th><th>secondquarter_766L</th><th>thirdquarter_1082L</th></tr></thead><tbody><tr><td>357</td><td>null</td><td>null</td><td>null</td><td>&quot;1988-04-01&quot;</td><td>null</td><td>null</td><td>null</td><td>null</td><td>null</td><td>null</td><td>null</td><td>null</td><td>&quot;a55475b1&quot;</td><td>&quot;a55475b1&quot;</td><td>&quot;a55475b1&quot;</td><td>null</td><td>null</td><td>null</td><td>null</td><td>null</td><td>null</td><td>null</td><td>null</td><td>null</td><td>null</td><td>null</td><td>null</td><td>null</td><td>null</td><td>null</td><td>null</td><td>null</td><td>null</td><td>&quot;a55475b1&quot;</td><td>&quot;a55475b1&quot;</td><td>null</td><td>null</td><td>null</td><td>null</td><td>null</td><td>null</td><td>null</td><td>6.0</td><td>6301.4</td><td>null</td><td>&quot;2019-01-25&quot;</td><td>null</td><td>null</td><td>null</td><td>null</td><td>null</td><td>null</td></tr><tr><td>381</td><td>null</td><td>null</td><td>null</td><td>&quot;1973-11-01&quot;</td><td>null</td><td>null</td><td>null</td><td>null</td><td>null</td><td>null</td><td>null</td><td>null</td><td>&quot;a55475b1&quot;</td><td>&quot;a55475b1&quot;</td><td>&quot;a55475b1&quot;</td><td>null</td><td>null</td><td>null</td><td>null</td><td>null</td><td>null</td><td>null</td><td>null</td><td>null</td><td>null</td><td>null</td><td>null</td><td>null</td><td>null</td><td>null</td><td>null</td><td>null</td><td>null</td><td>&quot;a55475b1&quot;</td><td>&quot;a55475b1&quot;</td><td>null</td><td>null</td><td>null</td><td>null</td><td>null</td><td>null</td><td>null</td><td>6.0</td><td>4019.6</td><td>null</td><td>&quot;2019-01-25&quot;</td><td>null</td><td>null</td><td>null</td><td>null</td><td>null</td><td>null</td></tr><tr><td>388</td><td>null</td><td>null</td><td>null</td><td>&quot;1989-04-01&quot;</td><td>null</td><td>&quot;1989-04-01&quot;</td><td>null</td><td>6.0</td><td>8.0</td><td>2.0</td><td>10.0</td><td>4.0</td><td>&quot;a55475b1&quot;</td><td>&quot;a55475b1&quot;</td><td>&quot;a55475b1&quot;</td><td>2.0</td><td>null</td><td>null</td><td>null</td><td>null</td><td>null</td><td>null</td><td>null</td><td>null</td><td>null</td><td>null</td><td>null</td><td>null</td><td>null</td><td>null</td><td>null</td><td>null</td><td>6.0</td><td>&quot;a55475b1&quot;</td><td>&quot;a55475b1&quot;</td><td>10.0</td><td>null</td><td>null</td><td>null</td><td>null</td><td>null</td><td>null</td><td>6.0</td><td>14548.0</td><td>null</td><td>&quot;2019-01-28&quot;</td><td>null</td><td>null</td><td>null</td><td>null</td><td>3.0</td><td>5.0</td></tr></tbody></table></div>"
      ],
      "text/plain": [
       "+-----+-----+-----+-----+-----+-----+-----+-----+-----+-----+-----+-----+-----+-----+-----+-----+-----+-----+-----+-----+-----+-----+-----+-----+-----+-----+-----+-----+-----+-----+-----+-----+-----+-----+-----+-----+-----+-----+-----+-----+-----+-----+-----+-----+-----+-----+-----+-----+-----+-----+-----+-----+-----+\n",
       "| cas | ass | ass | ass | bir | con | dat | dat | day | day | day | day | day | des | edu | edu | fir | for | for | for | for | for | for | for | for | for | for | for | for | for | for | for | for | fou | mar | mar | num | pmt | pmt | pmt | pmt | pmt | pmt | pmt | pmt | req | res | res | res | ris | ris | sec | thi |\n",
       "| e_i | ign | ign | ign | thd | tra | eof | eof | s12 | s18 | s30 | s36 | s90 | cri | cat | cat | stq | 3ye | 3ye | 3ye | mon | mon | mon | qua | qua | qua | tod | wee | wee | wee | yea | yea | yea | rth | ita | ita | ber | ave | ave | ave | cou | cou | cou | sco | ssu | ues | pon | pon | pon | kas | kas | ond | rdq |\n",
       "|  d  | men | men | men | ate | cts | bir | bir | 0_1 | 0_2 | _16 | 0_5 | _31 | pti | ion | ion | uar | ars | ars | ars | th_ | th_ | th_ | rte | rte | rte | ay_ | k_1 | k_5 | k_6 | r_6 | r_8 | r_8 | qua | lst | lst | ofq | rag | rag | rag | nt_ | nt_ | nt_ | unt | m_4 | tty | sed | sed | sed | ses | ses | qua | uar |\n",
       "|     | tda | tda | tda | _57 | sum | th_ | th_ | 23L | 56L |  5L | 12L |  0L | on_ | _11 | _88 | ter | _12 | _50 | _58 | 118 | 206 | 535 | r_1 | r_4 | r_6 | 109 | 077 | 28L | 01L | 18L | 18L | 50L | rte | _38 | _89 | uer | e_3 | e_4 | e_4 | 452 | 495 | 693 | _42 |  5A | pe_ | ate | ate | ate | men | men | rte | ter |\n",
       "|     | te_ | te_ | te_ |  4D | _50 | 337 | 342 |     |     |     |     |     | 508 | 03M |  M  | _10 |  8L |  4L |  4L |  L  |  L  |  L  | 017 | 62L | 34L |  2L |  L  |     |     |     |     |     | r_4 |  5M |  3M | ies |  A  | 527 | 955 | 722 | 561 |  L  |  3L |     | 452 | _10 | _45 | _49 | t_3 | t_9 | r_7 | _10 |\n",
       "|     | 238 | 452 | 495 |     | 857 |  D  |  D  |     |     |     |     |     | 571 |     |     |  3L |     |     |     |     |     |     |  L  |     |     |     |     |     |     |     |     |     | 40L |     |     | _37 |     | 227 | 615 |  9L |  7L |     |     |     | 519 | 12D | 272 | 176 | 02T | 40T | 66L | 82L |\n",
       "|     |  D  | 723 | 561 |     | 16L |     |     |     |     |     |     |     |  4M |     |     |     |     |     |     |     |     |     |     |     |     |     |     |     |     |     |     |     |     |     |     |  3L |     |  A  |  A  |     |     |     |     |     |  2L |     | 33D | 13D |     |     |     |     |\n",
       "|     |     |  5D |  6D |     |     |     |     |     |     |     |     |     |     |     |     |     |     |     |     |     |     |     |     |     |     |     |     |     |     |     |     |     |     |     |     |     |     |     |     |     |     |     |     |     |     |     |     |     |     |     |     |     |\n",
       "+=============================================================================================================================================================================================================================================================================================================================+\n",
       "| 357 | nul | nul | nul | 198 | nul | nul | nul | nul | nul | nul | nul | nul | a55 | a55 | a55 | nul | nul | nul | nul | nul | nul | nul | nul | nul | nul | nul | nul | nul | nul | nul | nul | nul | nul | a55 | a55 | nul | nul | nul | nul | nul | nul | nul | 6.0 | 630 | nul | 201 | nul | nul | nul | nul | nul | nul |\n",
       "|     |  l  |  l  |  l  | 8-0 |  l  |  l  |  l  |  l  |  l  |  l  |  l  |  l  | 475 | 475 | 475 |  l  |  l  |  l  |  l  |  l  |  l  |  l  |  l  |  l  |  l  |  l  |  l  |  l  |  l  |  l  |  l  |  l  |  l  | 475 | 475 |  l  |  l  |  l  |  l  |  l  |  l  |  l  |     | 1.4 |  l  | 9-0 |  l  |  l  |  l  |  l  |  l  |  l  |\n",
       "|     |     |     |     | 4-0 |     |     |     |     |     |     |     |     |  b1 |  b1 |  b1 |     |     |     |     |     |     |     |     |     |     |     |     |     |     |     |     |     |     |  b1 |  b1 |     |     |     |     |     |     |     |     |     |     | 1-2 |     |     |     |     |     |     |\n",
       "|     |     |     |     |  1  |     |     |     |     |     |     |     |     |     |     |     |     |     |     |     |     |     |     |     |     |     |     |     |     |     |     |     |     |     |     |     |     |     |     |     |     |     |     |     |     |     |  5  |     |     |     |     |     |     |\n",
       "| 381 | nul | nul | nul | 197 | nul | nul | nul | nul | nul | nul | nul | nul | a55 | a55 | a55 | nul | nul | nul | nul | nul | nul | nul | nul | nul | nul | nul | nul | nul | nul | nul | nul | nul | nul | a55 | a55 | nul | nul | nul | nul | nul | nul | nul | 6.0 | 401 | nul | 201 | nul | nul | nul | nul | nul | nul |\n",
       "|     |  l  |  l  |  l  | 3-1 |  l  |  l  |  l  |  l  |  l  |  l  |  l  |  l  | 475 | 475 | 475 |  l  |  l  |  l  |  l  |  l  |  l  |  l  |  l  |  l  |  l  |  l  |  l  |  l  |  l  |  l  |  l  |  l  |  l  | 475 | 475 |  l  |  l  |  l  |  l  |  l  |  l  |  l  |     | 9.6 |  l  | 9-0 |  l  |  l  |  l  |  l  |  l  |  l  |\n",
       "|     |     |     |     | 1-0 |     |     |     |     |     |     |     |     |  b1 |  b1 |  b1 |     |     |     |     |     |     |     |     |     |     |     |     |     |     |     |     |     |     |  b1 |  b1 |     |     |     |     |     |     |     |     |     |     | 1-2 |     |     |     |     |     |     |\n",
       "|     |     |     |     |  1  |     |     |     |     |     |     |     |     |     |     |     |     |     |     |     |     |     |     |     |     |     |     |     |     |     |     |     |     |     |     |     |     |     |     |     |     |     |     |     |     |     |  5  |     |     |     |     |     |     |\n",
       "| 388 | nul | nul | nul | 198 | nul | 198 | nul | 6.0 | 8.0 | 2.0 | 10. | 4.0 | a55 | a55 | a55 | 2.0 | nul | nul | nul | nul | nul | nul | nul | nul | nul | nul | nul | nul | nul | nul | nul | nul | 6.0 | a55 | a55 | 10. | nul | nul | nul | nul | nul | nul | 6.0 | 145 | nul | 201 | nul | nul | nul | nul | 3.0 | 5.0 |\n",
       "|     |  l  |  l  |  l  | 9-0 |  l  | 9-0 |  l  |     |     |     |  0  |     | 475 | 475 | 475 |     |  l  |  l  |  l  |  l  |  l  |  l  |  l  |  l  |  l  |  l  |  l  |  l  |  l  |  l  |  l  |  l  |     | 475 | 475 |  0  |  l  |  l  |  l  |  l  |  l  |  l  |     | 48. |  l  | 9-0 |  l  |  l  |  l  |  l  |     |     |\n",
       "|     |     |     |     | 4-0 |     | 4-0 |     |     |     |     |     |     |  b1 |  b1 |  b1 |     |     |     |     |     |     |     |     |     |     |     |     |     |     |     |     |     |     |  b1 |  b1 |     |     |     |     |     |     |     |     |  0  |     | 1-2 |     |     |     |     |     |     |\n",
       "|     |     |     |     |  1  |     |  1  |     |     |     |     |     |     |     |     |     |     |     |     |     |     |     |     |     |     |     |     |     |     |     |     |     |     |     |     |     |     |     |     |     |     |     |     |     |     |     |  8  |     |     |     |     |     |     |\n",
       "+-----+-----+-----+-----+-----+-----+-----+-----+-----+-----+-----+-----+-----+-----+-----+-----+-----+-----+-----+-----+-----+-----+-----+-----+-----+-----+-----+-----+-----+-----+-----+-----+-----+-----+-----+-----+-----+-----+-----+-----+-----+-----+-----+-----+-----+-----+-----+-----+-----+-----+-----+-----+-----+"
      ]
     },
     "metadata": {},
     "output_type": "display_data"
    },
    {
     "data": {
      "text/html": [
       "<div><style>\n",
       ".dataframe > thead > tr,\n",
       ".dataframe > tbody > tr {\n",
       "  text-align: right;\n",
       "  white-space: pre-wrap;\n",
       "}\n",
       "</style>\n",
       "<table border=\"1\" class=\"dataframe\"><thead><tr><th>case_id</th><th>amount_4527230A</th><th>name_4527232M</th><th>num_group1</th><th>recorddate_4527225D</th></tr></thead><tbody><tr><td>28631</td><td>711.0</td><td>&quot;f980a1ea&quot;</td><td>3</td><td>&quot;2019-09-13&quot;</td></tr><tr><td>28631</td><td>1946.0</td><td>&quot;f980a1ea&quot;</td><td>2</td><td>&quot;2019-09-13&quot;</td></tr><tr><td>28631</td><td>2600.0</td><td>&quot;f980a1ea&quot;</td><td>1</td><td>&quot;2019-09-13&quot;</td></tr></tbody></table></div>"
      ],
      "text/plain": [
       "+---------+-----------------+---------------+------------+---------------------+\n",
       "| case_id | amount_4527230A | name_4527232M | num_group1 | recorddate_4527225D |\n",
       "+==============================================================================+\n",
       "|  28631  |      711.0      |    f980a1ea   |      3     |      2019-09-13     |\n",
       "|  28631  |      1946.0     |    f980a1ea   |      2     |      2019-09-13     |\n",
       "|  28631  |      2600.0     |    f980a1ea   |      1     |      2019-09-13     |\n",
       "+---------+-----------------+---------------+------------+---------------------+"
      ]
     },
     "metadata": {},
     "output_type": "display_data"
    },
    {
     "data": {
      "text/html": [
       "<div><style>\n",
       ".dataframe > thead > tr,\n",
       ".dataframe > tbody > tr {\n",
       "  text-align: right;\n",
       "  white-space: pre-wrap;\n",
       "}\n",
       "</style>\n",
       "<table border=\"1\" class=\"dataframe\"><thead><tr><th>case_id</th><th>amount_4917619A</th><th>deductiondate_4917603D</th><th>name_4917606M</th><th>num_group1</th></tr></thead><tbody><tr><td>49435</td><td>6885.0</td><td>&quot;2019-10-16&quot;</td><td>&quot;6b730375&quot;</td><td>0</td></tr><tr><td>49435</td><td>6885.0</td><td>&quot;2019-10-16&quot;</td><td>&quot;6b730375&quot;</td><td>1</td></tr><tr><td>49435</td><td>6885.0</td><td>&quot;2019-10-16&quot;</td><td>&quot;6b730375&quot;</td><td>2</td></tr></tbody></table></div>"
      ],
      "text/plain": [
       "+---------+-----------------+------------------------+---------------+------------+\n",
       "| case_id | amount_4917619A | deductiondate_4917603D | name_4917606M | num_group1 |\n",
       "+=================================================================================+\n",
       "|  49435  |      6885.0     |       2019-10-16       |    6b730375   |      0     |\n",
       "|  49435  |      6885.0     |       2019-10-16       |    6b730375   |      1     |\n",
       "|  49435  |      6885.0     |       2019-10-16       |    6b730375   |      2     |\n",
       "+---------+-----------------+------------------------+---------------+------------+"
      ]
     },
     "metadata": {},
     "output_type": "display_data"
    },
    {
     "data": {
      "text/html": [
       "<div><style>\n",
       ".dataframe > thead > tr,\n",
       ".dataframe > tbody > tr {\n",
       "  text-align: right;\n",
       "  white-space: pre-wrap;\n",
       "}\n",
       "</style>\n",
       "<table border=\"1\" class=\"dataframe\"><thead><tr><th>case_id</th><th>employername_160M</th><th>num_group1</th><th>pmtamount_36A</th><th>processingdate_168D</th></tr></thead><tbody><tr><td>357</td><td>&quot;c91b12ff&quot;</td><td>0</td><td>1200.0</td><td>&quot;2019-01-04&quot;</td></tr><tr><td>357</td><td>&quot;c91b12ff&quot;</td><td>1</td><td>1200.0</td><td>&quot;2018-11-28&quot;</td></tr><tr><td>357</td><td>&quot;c91b12ff&quot;</td><td>2</td><td>972.8</td><td>&quot;2018-11-01&quot;</td></tr></tbody></table></div>"
      ],
      "text/plain": [
       "+---------+-------------------+------------+---------------+---------------------+\n",
       "| case_id | employername_160M | num_group1 | pmtamount_36A | processingdate_168D |\n",
       "+================================================================================+\n",
       "|   357   |      c91b12ff     |      0     |     1200.0    |      2019-01-04     |\n",
       "|   357   |      c91b12ff     |      1     |     1200.0    |      2018-11-28     |\n",
       "|   357   |      c91b12ff     |      2     |     972.8     |      2018-11-01     |\n",
       "+---------+-------------------+------------+---------------+---------------------+"
      ]
     },
     "metadata": {},
     "output_type": "display_data"
    }
   ],
   "source": [
    "parquets = list(Path(\"../data/parquet_files\").glob(\"*.parquet\"))\n",
    "print(\"Arquivos disponíveis:\", [p.name for p in parquets])\n",
    "\n",
    "\n",
    "records = []\n",
    "for p in parquets:\n",
    "    df = pl.read_parquet(p)\n",
    "\n",
    "    display(df.head(3))\n",
    "\n",
    "    table_name = p.stem\n",
    "    total_rows, _ = df.shape\n",
    "\n",
    "\n",
    "    for col in df.columns:\n",
    "        null_count = df[col].is_null().sum()\n",
    "        if total_rows > 0:\n",
    "            null_ratio = round(null_count / total_rows, 4)\n",
    "        else:\n",
    "            null_ratio = None\n",
    "\n",
    "        records.append({\n",
    "            \"table\":      table_name,\n",
    "            \"column\":     col,\n",
    "            \"dtype\":      str(df.schema[col]),\n",
    "            \"null_count\": int(null_count),\n",
    "            \"null_ratio\": null_ratio\n",
    "        })"
   ]
  },
  {
   "cell_type": "code",
   "execution_count": null,
   "id": "f494eb79",
   "metadata": {},
   "outputs": [
    {
     "data": {
      "text/html": [
       "<div>\n",
       "<style scoped>\n",
       "    .dataframe tbody tr th:only-of-type {\n",
       "        vertical-align: middle;\n",
       "    }\n",
       "\n",
       "    .dataframe tbody tr th {\n",
       "        vertical-align: top;\n",
       "    }\n",
       "\n",
       "    .dataframe thead th {\n",
       "        text-align: right;\n",
       "    }\n",
       "</style>\n",
       "<table border=\"1\" class=\"dataframe\">\n",
       "  <thead>\n",
       "    <tr style=\"text-align: right;\">\n",
       "      <th></th>\n",
       "      <th>table</th>\n",
       "      <th>null_count</th>\n",
       "      <th>null_ratio</th>\n",
       "    </tr>\n",
       "  </thead>\n",
       "  <tbody>\n",
       "    <tr>\n",
       "      <th>0</th>\n",
       "      <td>train_credit_bureau_a_1_0</td>\n",
       "      <td>244050042</td>\n",
       "      <td>59.4046</td>\n",
       "    </tr>\n",
       "    <tr>\n",
       "      <th>1</th>\n",
       "      <td>train_static_0_0</td>\n",
       "      <td>55521200</td>\n",
       "      <td>55.3125</td>\n",
       "    </tr>\n",
       "    <tr>\n",
       "      <th>2</th>\n",
       "      <td>train_credit_bureau_a_1_1</td>\n",
       "      <td>308479374</td>\n",
       "      <td>51.3346</td>\n",
       "    </tr>\n",
       "    <tr>\n",
       "      <th>3</th>\n",
       "      <td>test_credit_bureau_a_1_4</td>\n",
       "      <td>512</td>\n",
       "      <td>51.2000</td>\n",
       "    </tr>\n",
       "    <tr>\n",
       "      <th>4</th>\n",
       "      <td>train_credit_bureau_a_1_2</td>\n",
       "      <td>187095066</td>\n",
       "      <td>49.9746</td>\n",
       "    </tr>\n",
       "    <tr>\n",
       "      <th>...</th>\n",
       "      <td>...</td>\n",
       "      <td>...</td>\n",
       "      <td>...</td>\n",
       "    </tr>\n",
       "    <tr>\n",
       "      <th>63</th>\n",
       "      <td>train_base</td>\n",
       "      <td>0</td>\n",
       "      <td>0.0000</td>\n",
       "    </tr>\n",
       "    <tr>\n",
       "      <th>64</th>\n",
       "      <td>train_other_1</td>\n",
       "      <td>0</td>\n",
       "      <td>0.0000</td>\n",
       "    </tr>\n",
       "    <tr>\n",
       "      <th>65</th>\n",
       "      <td>train_tax_registry_a_1</td>\n",
       "      <td>0</td>\n",
       "      <td>0.0000</td>\n",
       "    </tr>\n",
       "    <tr>\n",
       "      <th>66</th>\n",
       "      <td>train_tax_registry_b_1</td>\n",
       "      <td>0</td>\n",
       "      <td>0.0000</td>\n",
       "    </tr>\n",
       "    <tr>\n",
       "      <th>67</th>\n",
       "      <td>train_tax_registry_c_1</td>\n",
       "      <td>0</td>\n",
       "      <td>0.0000</td>\n",
       "    </tr>\n",
       "  </tbody>\n",
       "</table>\n",
       "<p>68 rows × 3 columns</p>\n",
       "</div>"
      ],
      "text/plain": [
       "                        table  null_count  null_ratio\n",
       "0   train_credit_bureau_a_1_0   244050042     59.4046\n",
       "1            train_static_0_0    55521200     55.3125\n",
       "2   train_credit_bureau_a_1_1   308479374     51.3346\n",
       "3    test_credit_bureau_a_1_4         512     51.2000\n",
       "4   train_credit_bureau_a_1_2   187095066     49.9746\n",
       "..                        ...         ...         ...\n",
       "63                 train_base           0      0.0000\n",
       "64              train_other_1           0      0.0000\n",
       "65     train_tax_registry_a_1           0      0.0000\n",
       "66     train_tax_registry_b_1           0      0.0000\n",
       "67     train_tax_registry_c_1           0      0.0000\n",
       "\n",
       "[68 rows x 3 columns]"
      ]
     },
     "execution_count": 30,
     "metadata": {},
     "output_type": "execute_result"
    }
   ],
   "source": [
    "pl.Config.set_tbl_rows(100_000)\n",
    "\n",
    "missing_df = pd.DataFrame(records)\n",
    "\n",
    "grouped_missing_count_per_table = missing_df.groupby('table')[['null_count', 'null_ratio']].sum()\n",
    "\n",
    "grouped_missing_count_per_table.sort_values('null_ratio',ascending=False).reset_index()"
   ]
  },
  {
   "cell_type": "markdown",
   "id": "ab928a0a",
   "metadata": {},
   "source": []
  },
  {
   "cell_type": "markdown",
   "id": "9beeeba5",
   "metadata": {},
   "source": [
    "Mesmo que o dataset não possua valores faltantes, é crucial que durante a fase de pré-procesamento algum tipo de estratégia de imputing seja realizada, dessa forma, ao fazer a Pipeline de pré-processamento, incluiremos funções responsáveis por lidar com tais valores.\n",
    "\n",
    "A seguida, vamos definir como trataremos as demais tabelas do dataset. Portanto, para que o processo de leitura e EDA da tabela seja bem sucedido e de maneira eficaz, iremos aplicar algumas transformações nos dados. Para isso, seguiremos algumas premissas:\n",
    "\n",
    "- Tabelas com depth > 1 (que representam medidas retiradas dos dados estáticos) serão agregadas (utilizando \"case_id\") a partir de alguns critérios, são eles:\n",
    "\n",
    "    - Disclaimer: As colunas das tabelas com profundidade possuem identificadores em seus nomes, indicando qual tipo de transformações foram aplicadas nestas tabelas, são elas:\n",
    "        1. **P** (Days over due - Dias em atraso): Medidas que envolvem datas de atrasos, proporções de datas e etc.\n",
    "        2. **M** (Masking categorias - Categorias com máscaras): Categorias como genêro, status e outros dados categóricos\n",
    "        3. **A** (Tranform Ammount - Transformações de quantidade): Quantidades numéricas que foram transformadas ou processadas seguindo alguma lógica\n",
    "        4. **D** (Transform Date - Transformações de datas): Colunas que dizem a respeito sobre datas que foram adicionadas como informações relevantes \n",
    "        5. **T** e **L** (Unespecified Transform - Transformações não inespecificadas): Valores que não se encaixam em nenhuma das outras categorias e não possuem \"tracking\" de informações, entretanto, podem sinalizar informações relevantes ao modelo.\n",
    "\n",
    "    - **Para colunas terminadas em P e A (dados numéricos)**: Será aplicado um casting de tipo e agregações por -> Valor máximo, último valor e média\n",
    "    - **Para colunas terminadas em D**: Será aplicado casting para date e agregações por -> Valor máximo, última data e média\n",
    "    - **Para colunas terminadas em M (Strings)**: Será aplicado um casting para \"category\" e posteriormente agregadas por -> Valor máximo (lexicograficamente o último) e o último valor\n",
    "    - **Para outras colunas**: Definiremos agregações por -> Máximo e último valor \n",
    "\n",
    "Portanto para estes processos ocorrerem de forma harmoniosa e automatizada utilizaremos as classes definidas no pacote funcs.aux_utils.py com o intuito de aplicar tais transformações e ao final juntar todas as tabelas baseado no \"case_id\"."
   ]
  }
 ],
 "metadata": {
  "kernelspec": {
   "display_name": "venv",
   "language": "python",
   "name": "python3"
  },
  "language_info": {
   "codemirror_mode": {
    "name": "ipython",
    "version": 3
   },
   "file_extension": ".py",
   "mimetype": "text/x-python",
   "name": "python",
   "nbconvert_exporter": "python",
   "pygments_lexer": "ipython3",
   "version": "3.13.3"
  }
 },
 "nbformat": 4,
 "nbformat_minor": 5
}
