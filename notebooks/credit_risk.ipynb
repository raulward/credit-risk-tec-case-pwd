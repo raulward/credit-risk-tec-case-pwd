{
 "cells": [
  {
   "cell_type": "markdown",
   "id": "a9a73972",
   "metadata": {},
   "source": [
    "O primeiro passo é importar os dados que foram disponibilizados no Kaggle (Home Credit Stability Model Competition), por isso, utilizando a API do Kaggle, importaremos apenas os dados parquet (pois são mais leves)."
   ]
  },
  {
   "cell_type": "code",
   "execution_count": 2,
   "id": "28e836b3",
   "metadata": {},
   "outputs": [],
   "source": [
    "#!kaggle competitions download -c home-credit-credit-risk-model-stability -p ../data/"
   ]
  },
  {
   "cell_type": "code",
   "execution_count": 3,
   "id": "2db147c9",
   "metadata": {},
   "outputs": [],
   "source": [
    "# pega o diretório pai (projeto) e adiciona ao path\n",
    "import sys, os\n",
    "proj_root = os.path.abspath(os.path.join(os.getcwd(), os.pardir))\n",
    "if proj_root not in sys.path:\n",
    "    sys.path.insert(0, proj_root)\n",
    "\n",
    "import funcs.aux_utils as f_aux\n",
    "import importlib\n",
    "importlib.reload(f_aux)\n",
    "from pathlib import Path\n",
    "\n",
    "ZIP_PATH = Path(\"../data/home-credit-credit-risk-model-stability.zip\")\n",
    "DEST_DIR = Path(\"../data/parquet_files\")\n",
    "EXTENSION = \".parquet\""
   ]
  },
  {
   "cell_type": "code",
   "execution_count": 4,
   "id": "128ce59d",
   "metadata": {},
   "outputs": [
    {
     "name": "stdout",
     "output_type": "stream",
     "text": [
      "Extraídos 32 arquivos '.parquet' em 'C:\\Users\\raulw\\Documents\\projetos\\entregas\\credit-risk-tec-case-pwd\\data\\parquet_files'\n"
     ]
    }
   ],
   "source": [
    "handler = f_aux.HandleData()\n",
    "handler.unzip_files(\n",
    "    zip_path = ZIP_PATH,\n",
    "    extension = EXTENSION,\n",
    "    dest_dir  =  DEST_DIR# opcional\n",
    ")"
   ]
  },
  {
   "cell_type": "code",
   "execution_count": 5,
   "id": "8f871ca6",
   "metadata": {},
   "outputs": [],
   "source": [
    "import pandas as pd\n",
    "import numpy as np\n",
    "import polars as pl\n",
    "\n",
    "\n",
    "import seaborn as sns\n",
    "import matplotlib.pyplot as plt\n",
    "\n",
    "from warnings import filterwarnings\n",
    "\n",
    "filterwarnings('ignore')\n",
    "\n",
    "pd.set_option('display.max_columns', None)\n",
    "pd.set_option('display.max_rows', None)\n",
    "\n",
    "\n",
    "pl.Config(\n",
    "    **dict(\n",
    "        tbl_formatting=\"ASCII_FULL_CONDENSED\",\n",
    "        tbl_hide_column_data_types=True,\n",
    "        tbl_hide_dataframe_shape=True,\n",
    "        fmt_float=\"mixed\",\n",
    "        tbl_cell_alignment=\"CENTER\",\n",
    "        tbl_hide_dtype_separator=True,\n",
    "        tbl_cols=100,\n",
    "        tbl_rows=None,\n",
    "        fmt_str_lengths=100,\n",
    "    )\n",
    ")\n",
    "os.environ[\"POLARS_MAX_THREADS\"] = \"4\""
   ]
  },
  {
   "cell_type": "markdown",
   "id": "c79de7ef",
   "metadata": {},
   "source": [
    "# Sobre os dados\n",
    "\n",
    "Em decorrência da quantidade de tabelas e de colunas, será necessário a construção de um Pipeline e de uma classe auxiliar para lidar com esta quantidade massiva de dados.\n",
    "\n",
    "O primeiro ponto da análise dos dados é verificar a distribuição da variável alvo e quantidade de missings das tabelas de treino(target). \n",
    "\n",
    "Por isso, primeiro verificarei a distribuição do target. Após isso realizar a separação do conjunto de validação e de teste estratificado com base na distribuição do variável alvo."
   ]
  },
  {
   "cell_type": "code",
   "execution_count": 6,
   "id": "07734eeb",
   "metadata": {},
   "outputs": [
    {
     "name": "stdout",
     "output_type": "stream",
     "text": [
      "1526659\n"
     ]
    },
    {
     "data": {
      "text/html": [
       "<div><style>\n",
       ".dataframe > thead > tr,\n",
       ".dataframe > tbody > tr {\n",
       "  text-align: right;\n",
       "  white-space: pre-wrap;\n",
       "}\n",
       "</style>\n",
       "<table border=\"1\" class=\"dataframe\"><thead><tr><th>case_id</th><th>date_decision</th><th>MONTH</th><th>WEEK_NUM</th><th>target</th></tr></thead><tbody><tr><td>0</td><td>&quot;2019-01-03&quot;</td><td>201901</td><td>0</td><td>0</td></tr><tr><td>1</td><td>&quot;2019-01-03&quot;</td><td>201901</td><td>0</td><td>0</td></tr><tr><td>2</td><td>&quot;2019-01-04&quot;</td><td>201901</td><td>0</td><td>0</td></tr><tr><td>3</td><td>&quot;2019-01-03&quot;</td><td>201901</td><td>0</td><td>0</td></tr><tr><td>4</td><td>&quot;2019-01-04&quot;</td><td>201901</td><td>0</td><td>1</td></tr></tbody></table></div>"
      ],
      "text/plain": [
       "+---------+---------------+--------+----------+--------+\n",
       "| case_id | date_decision |  MONTH | WEEK_NUM | target |\n",
       "+======================================================+\n",
       "|    0    |   2019-01-03  | 201901 |     0    |    0   |\n",
       "|    1    |   2019-01-03  | 201901 |     0    |    0   |\n",
       "|    2    |   2019-01-04  | 201901 |     0    |    0   |\n",
       "|    3    |   2019-01-03  | 201901 |     0    |    0   |\n",
       "|    4    |   2019-01-04  | 201901 |     0    |    1   |\n",
       "+---------+---------------+--------+----------+--------+"
      ]
     },
     "execution_count": 6,
     "metadata": {},
     "output_type": "execute_result"
    }
   ],
   "source": [
    "data = pl.read_parquet(f'{DEST_DIR}/train_base.parquet')\n",
    "\n",
    "\n",
    "print(data.n_unique())\n",
    "data.head()"
   ]
  },
  {
   "cell_type": "code",
   "execution_count": 7,
   "id": "26bbb378",
   "metadata": {},
   "outputs": [
    {
     "data": {
      "image/png": "[encoded data removed]",
      "text/plain": [
       "<Figure size 600x600 with 1 Axes>"
      ]
     },
     "metadata": {},
     "output_type": "display_data"
    },
    {
     "name": "stdout",
     "output_type": "stream",
     "text": [
      "Proporção do target\n",
      "Clientes não inadimplentes (em %): 96.86\n",
      "Clientes não inadimplentes (em %): 3.14\n"
     ]
    }
   ],
   "source": [
    "chart_maker = f_aux.ChartMaker(figure_size=(6, 6))\n",
    "\n",
    "count_target = data['target'].value_counts(normalize=True)\n",
    "count_target = count_target.with_columns([\n",
    "    (pl.col('proportion') * 100).round(2).alias('proportion')\n",
    "])\n",
    "\n",
    "chart_maker.plot_bar_chart(X=count_target['target'], y=count_target['proportion'])\n",
    "\n",
    "print('Proporção do target')\n",
    "print(f'Clientes não inadimplentes (em %): {count_target['proportion'][0]}')\n",
    "print(f'Clientes não inadimplentes (em %): {count_target['proportion'][1]}')\n",
    "\n",
    "del chart_maker"
   ]
  },
  {
   "cell_type": "markdown",
   "id": "9e7041f6",
   "metadata": {},
   "source": [
    "Podemos ver que a classe alvo é bastante desbalanceada, tendo cerca de apenas 3,1% dos clientes inadimplementes. Denota-se então a necessidade da aplicação e cuidado de técnicas de modo a não enviesar o modelo e causar um overfit a respeito do conjunto de treinamento. Dessa forma, para garantir que o processo de EDA e de criação do modelo esteja seguro de vazamento de dados, separaremos o conjunto de dados em: \n",
    "\n",
    "    1. Treino\n",
    "    2. Validação\n",
    "    3. Teste\n",
    "\n",
    "Utilizaremos a função train_test_split do scikit-learn com o parâmetro \"stratify\" aplicado em virtude do desbalanceamento do target."
   ]
  },
  {
   "cell_type": "code",
   "execution_count": 8,
   "id": "5668f338",
   "metadata": {},
   "outputs": [
    {
     "name": "stdout",
     "output_type": "stream",
     "text": [
      "Shape do conjunto de variáveis preditoras de treinamento: (915995, 2) | proporção: 60.00\n",
      "Shape do conjunto de variáveis preditoras de validação: (305332, 2) | proporção: 20.00 \n",
      "Shape do conjunto de variáveis preditoras de teste: (305332, 2) | proporção: 20.00 \n",
      "Shape da variável alvo de treinamento: (915995,) | proporção: 60.00 \n",
      "Shape da variável alvo de validação: (305332,) | proporção: 20.00 \n",
      "Shape da variável alvo de test: (305332,) | proporção: 20.00 \n"
     ]
    }
   ],
   "source": [
    "from sklearn.model_selection import train_test_split\n",
    "\n",
    "X = data.drop(['target', 'WEEK_NUM', 'MONTH'])\n",
    "y = data['target']\n",
    "\n",
    "X_temp, X_test, y_temp, y_test = train_test_split(X, y, stratify=y, test_size=0.2, random_state=42)\n",
    "\n",
    "X_train, X_val, y_train, y_val = train_test_split(X_temp, y_temp, stratify=y_temp, test_size=0.25, random_state=42)\n",
    "\n",
    "print(f'Shape do conjunto de variáveis preditoras de treinamento: {X_train.shape} | proporção: {X_train.shape[0] / data.shape[0] * 100:.2f}')\n",
    "print(f'Shape do conjunto de variáveis preditoras de validação: {X_val.shape} | proporção: {X_val.shape[0] / data.shape[0] * 100:.2f} ')\n",
    "print(f'Shape do conjunto de variáveis preditoras de teste: {X_test.shape} | proporção: {X_test.shape[0] / data.shape[0] * 100:.2f} ')\n",
    "print(f'Shape da variável alvo de treinamento: {y_train.shape} | proporção: {y_train.shape[0] / data.shape[0] * 100:.2f} ')\n",
    "print(f'Shape da variável alvo de validação: {y_val.shape} | proporção: {y_val.shape[0] / data.shape[0] * 100:.2f} ')\n",
    "print(f'Shape da variável alvo de test: {y_test.shape} | proporção: {y_test.shape[0] / data.shape[0] * 100:.2f} ')\n",
    "\n",
    "train = X_train.with_columns(y_train)\n",
    "val = X_val.with_columns(y_val)\n",
    "test = X_test.with_columns(y_test)"
   ]
  },
  {
   "cell_type": "code",
   "execution_count": 9,
   "id": "75cf5503",
   "metadata": {},
   "outputs": [],
   "source": [
    "train_ids = train['case_id'].to_list()\n",
    "val_ids   = val['case_id'].to_list()\n",
    "test_ids  = test['case_id'].to_list()"
   ]
  },
  {
   "cell_type": "markdown",
   "id": "19ead8c1",
   "metadata": {},
   "source": [
    "Separados em seus respectivos conjuntos, vamos avaliar quantos valores missing o conjunto de treino possui. Além disso, vamos verificar as tabelas que temos e quais seus respectivos shapes e quantidade de missings também.\n",
    "\n",
    "Outro ponto importante é que várias tabelas compartilham a mesma estrutura (provavelmente foram apenas particionadas para organização). Para simplificar o pipeline de pré-processamento, utilizaremos a classe DataCatalog (em aux_utils.py) para concatenar automaticamente essas partições com base em regras de nome (prefixos/sufixos), garantindo que todas as features repetidas apareçam apenas uma vez e permitindo um tratamento uniforme das colunas."
   ]
  },
  {
   "cell_type": "code",
   "execution_count": 10,
   "id": "9fe84f4e",
   "metadata": {},
   "outputs": [],
   "source": [
    "def filter_tables_by_ids(tables, ids):\n",
    "    return {\n",
    "        name: df.filter(pl.col(\"case_id\").is_in(ids))\n",
    "        for name, df in tables.items()\n",
    "    }"
   ]
  },
  {
   "cell_type": "code",
   "execution_count": 11,
   "id": "108ecc9f",
   "metadata": {},
   "outputs": [
    {
     "data": {
      "text/html": [
       "<div><style>\n",
       ".dataframe > thead > tr,\n",
       ".dataframe > tbody > tr {\n",
       "  text-align: right;\n",
       "  white-space: pre-wrap;\n",
       "}\n",
       "</style>\n",
       "<table border=\"1\" class=\"dataframe\"><thead><tr><th>case_id</th><th>date_decision</th><th>target</th></tr></thead><tbody><tr><td>0</td><td>0</td><td>0</td></tr></tbody></table></div>"
      ],
      "text/plain": [
       "+---------+---------------+--------+\n",
       "| case_id | date_decision | target |\n",
       "+==================================+\n",
       "|    0    |       0       |    0   |\n",
       "+---------+---------------+--------+"
      ]
     },
     "execution_count": 11,
     "metadata": {},
     "output_type": "execute_result"
    }
   ],
   "source": [
    "missings = train.null_count()\n",
    "\n",
    "missings"
   ]
  },
  {
   "cell_type": "code",
   "execution_count": 17,
   "id": "dea48b30",
   "metadata": {},
   "outputs": [],
   "source": [
    "# concatene cada grupo em seu próprio DataFrame\n",
    "base_prefixes = [\n",
    "    \"train_credit_bureau_a_1\",\n",
    "    \"train_credit_bureau_a_2\",\n",
    "    \"train_static_0\",\n",
    "    \"train_applprev_1\",\n",
    "]\n",
    "\n",
    "optimized_train = f_aux.HandleData.load_and_optimize_all(DEST_DIR, train_ids)\n",
    "optimized_val   = f_aux.HandleData.load_and_optimize_all(DEST_DIR, val_ids)\n",
    "optimized_test  = f_aux.HandleData.load_and_optimize_all(DEST_DIR, test_ids)\n",
    "\n",
    "# 3) Concatene cada grupo via concatenate_files(dict, prefix)\n",
    "concatenated = {\n",
    "    pref: f_aux.HandleData.concatenate_files(\n",
    "        source=optimized_train,\n",
    "        prefix=pref\n",
    "    )\n",
    "    for pref in base_prefixes\n",
    "}\n"
   ]
  },
  {
   "cell_type": "code",
   "execution_count": 18,
   "id": "1c2e8c0d",
   "metadata": {},
   "outputs": [],
   "source": [
    "used_stems = {\n",
    "    stem\n",
    "    for pref in base_prefixes\n",
    "    for stem in optimized_train\n",
    "    if stem.startswith(pref)\n",
    "}\n",
    "\n",
    "other_stems = [stem for stem in optimized_train if stem not in used_stems]\n",
    "\n",
    "all_train_tables = {}\n",
    "all_train_tables.update(concatenated)\n",
    "all_train_tables.update({stem: optimized_train[stem] for stem in other_stems})"
   ]
  },
  {
   "cell_type": "code",
   "execution_count": 19,
   "id": "0add931f",
   "metadata": {},
   "outputs": [
    {
     "name": "stdout",
     "output_type": "stream",
     "text": [
      "\n",
      "===== train_credit_bureau_a_1 =====\n",
      "(9566645, 79)\n"
     ]
    },
    {
     "data": {
      "text/html": [
       "<div><style>\n",
       ".dataframe > thead > tr,\n",
       ".dataframe > tbody > tr {\n",
       "  text-align: right;\n",
       "  white-space: pre-wrap;\n",
       "}\n",
       "</style>\n",
       "<table border=\"1\" class=\"dataframe\"><thead><tr><th>case_id</th><th>annualeffectiverate_199L</th><th>annualeffectiverate_63L</th><th>classificationofcontr_13M</th><th>classificationofcontr_400M</th><th>contractst_545M</th><th>contractst_964M</th><th>contractsum_5085717L</th><th>credlmt_230A</th><th>credlmt_935A</th><th>dateofcredend_289D</th><th>dateofcredend_353D</th><th>dateofcredstart_181D</th><th>dateofcredstart_739D</th><th>dateofrealrepmt_138D</th><th>debtoutstand_525A</th><th>debtoverdue_47A</th><th>description_351M</th><th>dpdmax_139P</th><th>dpdmax_757P</th><th>dpdmaxdatemonth_442T</th><th>dpdmaxdatemonth_89T</th><th>dpdmaxdateyear_596T</th><th>dpdmaxdateyear_896T</th><th>financialinstitution_382M</th><th>financialinstitution_591M</th><th>instlamount_768A</th><th>instlamount_852A</th><th>interestrate_508L</th><th>lastupdate_1112D</th><th>lastupdate_388D</th><th>monthlyinstlamount_332A</th><th>monthlyinstlamount_674A</th><th>nominalrate_281L</th><th>nominalrate_498L</th><th>num_group1</th><th>numberofcontrsvalue_258L</th><th>numberofcontrsvalue_358L</th><th>numberofinstls_229L</th><th>numberofinstls_320L</th><th>numberofoutstandinstls_520L</th><th>numberofoutstandinstls_59L</th><th>numberofoverdueinstlmax_1039L</th><th>numberofoverdueinstlmax_1151L</th><th>numberofoverdueinstlmaxdat_148D</th><th>numberofoverdueinstlmaxdat_641D</th><th>numberofoverdueinstls_725L</th><th>numberofoverdueinstls_834L</th><th>outstandingamount_354A</th><th>outstandingamount_362A</th><th>overdueamount_31A</th><th>overdueamount_659A</th><th>overdueamountmax2_14A</th><th>overdueamountmax2_398A</th><th>overdueamountmax2date_1002D</th><th>overdueamountmax2date_1142D</th><th>overdueamountmax_155A</th><th>overdueamountmax_35A</th><th>overdueamountmaxdatemonth_284T</th><th>overdueamountmaxdatemonth_365T</th><th>overdueamountmaxdateyear_2T</th><th>overdueamountmaxdateyear_994T</th><th>periodicityofpmts_1102L</th><th>periodicityofpmts_837L</th><th>prolongationcount_1120L</th><th>prolongationcount_599L</th><th>purposeofcred_426M</th><th>purposeofcred_874M</th><th>refreshdate_3813885D</th><th>residualamount_488A</th><th>residualamount_856A</th><th>subjectrole_182M</th><th>subjectrole_93M</th><th>totalamount_6A</th><th>totalamount_996A</th><th>totaldebtoverduevalue_178A</th><th>totaldebtoverduevalue_718A</th><th>totaloutstanddebtvalue_39A</th><th>totaloutstanddebtvalue_668A</th></tr></thead><tbody><tr><td>388</td><td>null</td><td>null</td><td>&quot;ea6782cc&quot;</td><td>&quot;a55475b1&quot;</td><td>&quot;7241344e&quot;</td><td>&quot;a55475b1&quot;</td><td>null</td><td>null</td><td>135806.0</td><td>&quot;2020-08-06&quot;</td><td>null</td><td>null</td><td>&quot;2018-08-06&quot;</td><td>null</td><td>null</td><td>null</td><td>&quot;a55475b1&quot;</td><td>0.0</td><td>null</td><td>null</td><td>8.0</td><td>2018.0</td><td>null</td><td>&quot;a55475b1&quot;</td><td>&quot;P204_66_73&quot;</td><td>8742.799805</td><td>null</td><td>null</td><td>&quot;2019-01-11&quot;</td><td>null</td><td>8742.799805</td><td>null</td><td>null</td><td>null</td><td>1</td><td>null</td><td>null</td><td>null</td><td>null</td><td>null</td><td>null</td><td>0.0</td><td>null</td><td>null</td><td>null</td><td>0.0</td><td>null</td><td>null</td><td>null</td><td>null</td><td>0.0</td><td>0.0</td><td>null</td><td>null</td><td>null</td><td>0.0</td><td>null</td><td>null</td><td>8.0</td><td>2018.0</td><td>null</td><td>null</td><td>null</td><td>null</td><td>null</td><td>&quot;60c73645&quot;</td><td>&quot;a55475b1&quot;</td><td>null</td><td>null</td><td>114325.804688</td><td>&quot;a55475b1&quot;</td><td>&quot;a55475b1&quot;</td><td>null</td><td>null</td><td>null</td><td>null</td><td>null</td><td>null</td></tr><tr><td>388</td><td>null</td><td>null</td><td>&quot;4408ff0f&quot;</td><td>&quot;a55475b1&quot;</td><td>&quot;7241344e&quot;</td><td>&quot;a55475b1&quot;</td><td>null</td><td>null</td><td>null</td><td>&quot;2023-06-20&quot;</td><td>null</td><td>null</td><td>&quot;2018-06-20&quot;</td><td>null</td><td>374419.5</td><td>0.0</td><td>&quot;a55475b1&quot;</td><td>0.0</td><td>null</td><td>null</td><td>7.0</td><td>2018.0</td><td>null</td><td>&quot;a55475b1&quot;</td><td>&quot;55b002a9&quot;</td><td>null</td><td>null</td><td>null</td><td>&quot;2019-01-24&quot;</td><td>null</td><td>7811.446289</td><td>null</td><td>null</td><td>null</td><td>0</td><td>2.0</td><td>1.0</td><td>null</td><td>60.0</td><td>null</td><td>54.0</td><td>0.0</td><td>null</td><td>null</td><td>null</td><td>0.0</td><td>null</td><td>null</td><td>260093.703125</td><td>null</td><td>0.0</td><td>0.0</td><td>null</td><td>null</td><td>null</td><td>0.0</td><td>null</td><td>null</td><td>7.0</td><td>2018.0</td><td>null</td><td>null</td><td>30.0</td><td>null</td><td>null</td><td>&quot;96a8fdfe&quot;</td><td>&quot;a55475b1&quot;</td><td>null</td><td>null</td><td>null</td><td>&quot;ab3c25cf&quot;</td><td>&quot;ab3c25cf&quot;</td><td>null</td><td>268897.625</td><td>0.0</td><td>0.0</td><td>374419.5</td><td>0.0</td></tr><tr><td>388</td><td>null</td><td>null</td><td>&quot;a55475b1&quot;</td><td>&quot;a55475b1&quot;</td><td>&quot;a55475b1&quot;</td><td>&quot;a55475b1&quot;</td><td>null</td><td>null</td><td>null</td><td>null</td><td>null</td><td>null</td><td>null</td><td>null</td><td>null</td><td>null</td><td>&quot;a55475b1&quot;</td><td>null</td><td>null</td><td>null</td><td>null</td><td>null</td><td>null</td><td>&quot;a55475b1&quot;</td><td>&quot;a55475b1&quot;</td><td>null</td><td>null</td><td>null</td><td>null</td><td>null</td><td>null</td><td>null</td><td>null</td><td>null</td><td>2</td><td>null</td><td>null</td><td>null</td><td>null</td><td>null</td><td>null</td><td>null</td><td>null</td><td>null</td><td>null</td><td>null</td><td>null</td><td>null</td><td>null</td><td>null</td><td>null</td><td>null</td><td>null</td><td>null</td><td>null</td><td>null</td><td>null</td><td>null</td><td>null</td><td>null</td><td>null</td><td>null</td><td>null</td><td>null</td><td>null</td><td>&quot;a55475b1&quot;</td><td>&quot;a55475b1&quot;</td><td>&quot;2019-01-28&quot;</td><td>null</td><td>null</td><td>&quot;a55475b1&quot;</td><td>&quot;a55475b1&quot;</td><td>null</td><td>null</td><td>null</td><td>null</td><td>null</td><td>null</td></tr></tbody></table></div>"
      ],
      "text/plain": [
       "+-----+-----+-----+-----+-----+-----+-----+-----+-----+-----+-----+-----+-----+-----+-----+-----+-----+-----+-----+-----+-----+-----+-----+-----+-----+-----+-----+-----+-----+-----+-----+-----+-----+-----+-----+-----+-----+-----+-----+-----+-----+-----+-----+-----+-----+-----+-----+-----+-----+-----+-----+-----+-----+-----+-----+-----+-----+-----+-----+-----+-----+-----+-----+-----+-----+-----+-----+-----+-----+-----+-----+-----+-----+-----+-----+-----+-----+-----+-----+\n",
       "| cas | ann | ann | cla | cla | con | con | con | cre | cre | dat | dat | dat | dat | dat | deb | deb | des | dpd | dpd | dpd | dpd | dpd | dpd | fin | fin | ins | ins | int | las | las | mon | mon | nom | nom | num | num | num | num | num | num | num | num | num | num | num | num | num | out | out | ove | ove | ove | ove | ove | ove | ove | ove | ove | ove | ove | ove | per | per | pro | pro | pur | pur | ref | res | res | sub | sub | tot | tot | tot | tot | tot | tot |\n",
       "| e_i | ual | ual | ssi | ssi | tra | tra | tra | dlm | dlm | eof | eof | eof | eof | eof | tou | tov | cri | max | max | max | max | max | max | anc | anc | tla | tla | ere | tup | tup | thl | thl | ina | ina | _gr | ber | ber | ber | ber | ber | ber | ber | ber | ber | ber | ber | ber | sta | sta | rdu | rdu | rdu | rdu | rdu | rdu | rdu | rdu | rdu | rdu | rdu | rdu | iod | iod | lon | lon | pos | pos | res | idu | idu | jec | jec | ala | ala | ald | ald | alo | alo |\n",
       "|  d  | eff | eff | fic | fic | cts | cts | cts | t_2 | t_9 | cre | cre | cre | cre | rea | tst | erd | pti | _13 | _75 | dat | dat | dat | dat | ial | ial | mou | mou | str | dat | dat | yin | yin | lra | lra | oup | ofc | ofc | ofi | ofi | ofo | ofo | ofo | ofo | ofo | ofo | ofo | ofo | ndi | ndi | eam | eam | eam | eam | eam | eam | eam | eam | eam | eam | eam | eam | ici | ici | gat | gat | eof | eof | hda | ala | ala | tro | tro | mou | mou | ebt | ebt | uts | uts |\n",
       "|     | ect | ect | ati | ati | t_5 | t_9 | um_ | 30A | 35A | den | den | dst | dst | lre | and | ue_ | on_ |  9P |  7P | emo | emo | eye | eye | ins | ins | nt_ | nt_ | ate | e_1 | e_3 | stl | stl | te_ | te_ |  1  | ont | ont | nst | nst | uts | uts | ver | ver | ver | ver | ver | ver | nga | nga | oun | oun | oun | oun | oun | oun | oun | oun | oun | oun | oun | oun | tyo | tyo | ion | ion | cre | cre | te_ | mou | mou | le_ | le_ | nt_ | nt_ | ove | ove | tan | tan |\n",
       "|     | ive | ive | ono | ono | 45M | 64M | 508 |     |     | d_2 | d_3 | art | art | pmt | _52 | 47A | 351 |     |     | nth | nth | ar_ | ar_ | tit | tit | 768 | 852 | _50 | 112 | 88D | amo | amo | 281 | 498 |     | rsv | rsv | ls_ | ls_ | tan | tan | due | due | due | due | due | due | mou | mou | t_3 | t_6 | tma | tma | tma | tma | tma | tma | tma | tma | tma | tma | fpm | fpm | cou | cou | d_4 | d_8 | 381 | nt_ | nt_ | 182 | 93M |  6A | 996 | rdu | rdu | dde | dde |\n",
       "|     | rat | rat | fco | fco |     |     | 571 |     |     | 89D | 53D | _18 | _73 | _13 |  5A |     |  M  |     |     | _44 | _89 | 596 | 896 | uti | uti |  A  |  A  |  8L |  D  |     | unt | unt |  L  |  L  |     | alu | alu | 229 | 320 | din | din | ins | ins | ins | ins | ins | ins | nt_ | nt_ |  1A | 59A | x2_ | x2_ | x2d | x2d | x_1 | x_3 | xda | xda | xda | xda | ts_ | ts_ | nt_ | nt_ | 26M | 74M | 388 | 488 | 856 |  M  |     |     |  A  | eva | eva | btv | btv |\n",
       "|     | e_1 | e_6 | ntr | ntr |     |     |  7L |     |     |     |     |  1D |  9D |  8D |     |     |     |     |     |  2T |  T  |  T  |  T  | on_ | on_ |     |     |     |     |     | _33 | _67 |     |     |     | e_2 | e_3 |  L  |  L  | stl | stl | tlm | tlm | tlm | tlm | tls | tls | 354 | 362 |     |     | 14A | 398 | ate | ate | 55A |  5A | tem | tem | tey | tey | 110 | 837 | 112 | 599 |     |     |  5D |  A  |  A  |     |     |     |     | lue | lue | alu | alu |\n",
       "|     | 99L |  3L | _13 | _40 |     |     |     |     |     |     |     |     |     |     |     |     |     |     |     |     |     |     |     | 382 | 591 |     |     |     |     |     |  2A |  4A |     |     |     | 58L | 58L |     |     | s_5 | s_5 | ax_ | ax_ | axd | axd | _72 | _83 |  A  |  A  |     |     |     |  A  | _10 | _11 |     |     | ont | ont | ear | ear |  2L |  L  |  0L |  L  |     |     |     |     |     |     |     |     |     | _17 | _71 | e_3 | e_6 |\n",
       "|     |     |     |  M  |  0M |     |     |     |     |     |     |     |     |     |     |     |     |     |     |     |     |     |     |     |  M  |  M  |     |     |     |     |     |     |     |     |     |     |     |     |     |     | 20L |  9L | 103 | 115 | at_ | at_ |  5L |  4L |     |     |     |     |     |     | 02D | 42D |     |     | h_2 | h_3 | _2T | _99 |     |     |     |     |     |     |     |     |     |     |     |     |     |  8A |  8A |  9A | 68A |\n",
       "|     |     |     |     |     |     |     |     |     |     |     |     |     |     |     |     |     |     |     |     |     |     |     |     |     |     |     |     |     |     |     |     |     |     |     |     |     |     |     |     |     |     |  9L |  1L | 148 | 641 |     |     |     |     |     |     |     |     |     |     |     |     | 84T | 65T |     |  4T |     |     |     |     |     |     |     |     |     |     |     |     |     |     |     |     |     |\n",
       "|     |     |     |     |     |     |     |     |     |     |     |     |     |     |     |     |     |     |     |     |     |     |     |     |     |     |     |     |     |     |     |     |     |     |     |     |     |     |     |     |     |     |     |     |  D  |  D  |     |     |     |     |     |     |     |     |     |     |     |     |     |     |     |     |     |     |     |     |     |     |     |     |     |     |     |     |     |     |     |     |     |\n",
       "+=========================================================================================================================================================================================================================================================================================================================================================================================================================================================================================+\n",
       "| 388 | nul | nul | ea6 | a55 | 724 | a55 | nul | nul | 135 | 202 | nul | nul | 201 | nul | nul | nul | a55 | 0.0 | nul | nul | 8.0 | 201 | nul | a55 | P20 | 874 | nul | nul | 201 | nul | 874 | nul | nul | nul |  1  | nul | nul | nul | nul | nul | nul | 0.0 | nul | nul | nul | 0.0 | nul | nul | nul | nul | 0.0 | 0.0 | nul | nul | nul | 0.0 | nul | nul | 8.0 | 201 | nul | nul | nul | nul | nul | 60c | a55 | nul | nul | 114 | a55 | a55 | nul | nul | nul | nul | nul | nul |\n",
       "|     |  l  |  l  | 782 | 475 | 134 | 475 |  l  |  l  | 806 | 0-0 |  l  |  l  | 8-0 |  l  |  l  |  l  | 475 |     |  l  |  l  |     | 8.0 |  l  | 475 | 4_6 | 2.7 |  l  |  l  | 9-0 |  l  | 2.7 |  l  |  l  |  l  |     |  l  |  l  |  l  |  l  |  l  |  l  |     |  l  |  l  |  l  |     |  l  |  l  |  l  |  l  |     |     |  l  |  l  |  l  |     |  l  |  l  |     | 8.0 |  l  |  l  |  l  |  l  |  l  | 736 | 475 |  l  |  l  | 325 | 475 | 475 |  l  |  l  |  l  |  l  |  l  |  l  |\n",
       "|     |     |     |  cc |  b1 |  4e |  b1 |     |     |  .0 | 8-0 |     |     | 8-0 |     |     |     |  b1 |     |     |     |     |     |     |  b1 | 6_7 | 998 |     |     | 1-1 |     | 998 |     |     |     |     |     |     |     |     |     |     |     |     |     |     |     |     |     |     |     |     |     |     |     |     |     |     |     |     |     |     |     |     |     |     |  45 |  b1 |     |     | .80 |  b1 |  b1 |     |     |     |     |     |     |\n",
       "|     |     |     |     |     |     |     |     |     |     |  6  |     |     |  6  |     |     |     |     |     |     |     |     |     |     |     |  3  |  05 |     |     |  1  |     |  05 |     |     |     |     |     |     |     |     |     |     |     |     |     |     |     |     |     |     |     |     |     |     |     |     |     |     |     |     |     |     |     |     |     |     |     |     |     |     | 468 |     |     |     |     |     |     |     |     |\n",
       "|     |     |     |     |     |     |     |     |     |     |     |     |     |     |     |     |     |     |     |     |     |     |     |     |     |     |     |     |     |     |     |     |     |     |     |     |     |     |     |     |     |     |     |     |     |     |     |     |     |     |     |     |     |     |     |     |     |     |     |     |     |     |     |     |     |     |     |     |     |     |  8  |     |     |     |     |     |     |     |     |\n",
       "| 388 | nul | nul | 440 | a55 | 724 | a55 | nul | nul | nul | 202 | nul | nul | 201 | nul | 374 | 0.0 | a55 | 0.0 | nul | nul | 7.0 | 201 | nul | a55 | 55b | nul | nul | nul | 201 | nul | 781 | nul | nul | nul |  0  | 2.0 | 1.0 | nul | 60. | nul | 54. | 0.0 | nul | nul | nul | 0.0 | nul | nul | 260 | nul | 0.0 | 0.0 | nul | nul | nul | 0.0 | nul | nul | 7.0 | 201 | nul | nul | 30. | nul | nul | 96a | a55 | nul | nul | nul | ab3 | ab3 | nul | 268 | 0.0 | 0.0 | 374 | 0.0 |\n",
       "|     |  l  |  l  | 8ff | 475 | 134 | 475 |  l  |  l  |  l  | 3-0 |  l  |  l  | 8-0 |  l  | 419 |     | 475 |     |  l  |  l  |     | 8.0 |  l  | 475 | 002 |  l  |  l  |  l  | 9-0 |  l  | 1.4 |  l  |  l  |  l  |     |     |     |  l  |  0  |  l  |  0  |     |  l  |  l  |  l  |     |  l  |  l  | 093 |  l  |     |     |  l  |  l  |  l  |     |  l  |  l  |     | 8.0 |  l  |  l  |  0  |  l  |  l  | 8fd | 475 |  l  |  l  |  l  | c25 | c25 |  l  | 897 |     |     | 419 |     |\n",
       "|     |     |     |  0f |  b1 |  4e |  b1 |     |     |     | 6-2 |     |     | 6-2 |     |  .5 |     |  b1 |     |     |     |     |     |     |  b1 |  a9 |     |     |     | 1-2 |     | 462 |     |     |     |     |     |     |     |     |     |     |     |     |     |     |     |     |     | .70 |     |     |     |     |     |     |     |     |     |     |     |     |     |     |     |     |  fe |  b1 |     |     |     |  cf |  cf |     | .62 |     |     |  .5 |     |\n",
       "|     |     |     |     |     |     |     |     |     |     |  0  |     |     |  0  |     |     |     |     |     |     |     |     |     |     |     |     |     |     |     |  4  |     |  89 |     |     |     |     |     |     |     |     |     |     |     |     |     |     |     |     |     | 312 |     |     |     |     |     |     |     |     |     |     |     |     |     |     |     |     |     |     |     |     |     |     |     |     |  5  |     |     |     |     |\n",
       "|     |     |     |     |     |     |     |     |     |     |     |     |     |     |     |     |     |     |     |     |     |     |     |     |     |     |     |     |     |     |     |     |     |     |     |     |     |     |     |     |     |     |     |     |     |     |     |     |     |  5  |     |     |     |     |     |     |     |     |     |     |     |     |     |     |     |     |     |     |     |     |     |     |     |     |     |     |     |     |     |\n",
       "| 388 | nul | nul | a55 | a55 | a55 | a55 | nul | nul | nul | nul | nul | nul | nul | nul | nul | nul | a55 | nul | nul | nul | nul | nul | nul | a55 | a55 | nul | nul | nul | nul | nul | nul | nul | nul | nul |  2  | nul | nul | nul | nul | nul | nul | nul | nul | nul | nul | nul | nul | nul | nul | nul | nul | nul | nul | nul | nul | nul | nul | nul | nul | nul | nul | nul | nul | nul | nul | a55 | a55 | 201 | nul | nul | a55 | a55 | nul | nul | nul | nul | nul | nul |\n",
       "|     |  l  |  l  | 475 | 475 | 475 | 475 |  l  |  l  |  l  |  l  |  l  |  l  |  l  |  l  |  l  |  l  | 475 |  l  |  l  |  l  |  l  |  l  |  l  | 475 | 475 |  l  |  l  |  l  |  l  |  l  |  l  |  l  |  l  |  l  |     |  l  |  l  |  l  |  l  |  l  |  l  |  l  |  l  |  l  |  l  |  l  |  l  |  l  |  l  |  l  |  l  |  l  |  l  |  l  |  l  |  l  |  l  |  l  |  l  |  l  |  l  |  l  |  l  |  l  |  l  | 475 | 475 | 9-0 |  l  |  l  | 475 | 475 |  l  |  l  |  l  |  l  |  l  |  l  |\n",
       "|     |     |     |  b1 |  b1 |  b1 |  b1 |     |     |     |     |     |     |     |     |     |     |  b1 |     |     |     |     |     |     |  b1 |  b1 |     |     |     |     |     |     |     |     |     |     |     |     |     |     |     |     |     |     |     |     |     |     |     |     |     |     |     |     |     |     |     |     |     |     |     |     |     |     |     |     |  b1 |  b1 | 1-2 |     |     |  b1 |  b1 |     |     |     |     |     |     |\n",
       "|     |     |     |     |     |     |     |     |     |     |     |     |     |     |     |     |     |     |     |     |     |     |     |     |     |     |     |     |     |     |     |     |     |     |     |     |     |     |     |     |     |     |     |     |     |     |     |     |     |     |     |     |     |     |     |     |     |     |     |     |     |     |     |     |     |     |     |     |  8  |     |     |     |     |     |     |     |     |     |     |\n",
       "+-----+-----+-----+-----+-----+-----+-----+-----+-----+-----+-----+-----+-----+-----+-----+-----+-----+-----+-----+-----+-----+-----+-----+-----+-----+-----+-----+-----+-----+-----+-----+-----+-----+-----+-----+-----+-----+-----+-----+-----+-----+-----+-----+-----+-----+-----+-----+-----+-----+-----+-----+-----+-----+-----+-----+-----+-----+-----+-----+-----+-----+-----+-----+-----+-----+-----+-----+-----+-----+-----+-----+-----+-----+-----+-----+-----+-----+-----+-----+"
      ]
     },
     "metadata": {},
     "output_type": "display_data"
    },
    {
     "name": "stdout",
     "output_type": "stream",
     "text": [
      "\n",
      "===== train_credit_bureau_a_2 =====\n",
      "(113111704, 19)\n"
     ]
    },
    {
     "data": {
      "text/html": [
       "<div><style>\n",
       ".dataframe > thead > tr,\n",
       ".dataframe > tbody > tr {\n",
       "  text-align: right;\n",
       "  white-space: pre-wrap;\n",
       "}\n",
       "</style>\n",
       "<table border=\"1\" class=\"dataframe\"><thead><tr><th>case_id</th><th>collater_typofvalofguarant_298M</th><th>collater_typofvalofguarant_407M</th><th>collater_valueofguarantee_1124L</th><th>collater_valueofguarantee_876L</th><th>collaterals_typeofguarante_359M</th><th>collaterals_typeofguarante_669M</th><th>num_group1</th><th>num_group2</th><th>pmts_dpd_1073P</th><th>pmts_dpd_303P</th><th>pmts_month_158T</th><th>pmts_month_706T</th><th>pmts_overdue_1140A</th><th>pmts_overdue_1152A</th><th>pmts_year_1139T</th><th>pmts_year_507T</th><th>subjectroles_name_541M</th><th>subjectroles_name_838M</th></tr></thead><tbody><tr><td>388</td><td>&quot;8fd95e4b&quot;</td><td>&quot;a55475b1&quot;</td><td>0.0</td><td>null</td><td>&quot;a55475b1&quot;</td><td>&quot;c7a5ad39&quot;</td><td>0</td><td>0</td><td>null</td><td>null</td><td>2.0</td><td>null</td><td>null</td><td>null</td><td>2018.0</td><td>null</td><td>&quot;a55475b1&quot;</td><td>&quot;ab3c25cf&quot;</td></tr><tr><td>388</td><td>&quot;9a0c095e&quot;</td><td>&quot;a55475b1&quot;</td><td>0.0</td><td>null</td><td>&quot;a55475b1&quot;</td><td>&quot;c7a5ad39&quot;</td><td>1</td><td>0</td><td>null</td><td>null</td><td>2.0</td><td>null</td><td>null</td><td>null</td><td>2018.0</td><td>null</td><td>&quot;a55475b1&quot;</td><td>&quot;ab3c25cf&quot;</td></tr><tr><td>388</td><td>&quot;a55475b1&quot;</td><td>&quot;a55475b1&quot;</td><td>null</td><td>null</td><td>&quot;a55475b1&quot;</td><td>&quot;a55475b1&quot;</td><td>0</td><td>1</td><td>null</td><td>null</td><td>3.0</td><td>null</td><td>null</td><td>null</td><td>2018.0</td><td>null</td><td>&quot;a55475b1&quot;</td><td>&quot;a55475b1&quot;</td></tr></tbody></table></div>"
      ],
      "text/plain": [
       "+-----+-----+-----+-----+-----+-----+-----+-----+-----+-----+-----+-----+-----+-----+-----+-----+-----+-----+-----+\n",
       "| cas | col | col | col | col | col | col | num | num | pmt | pmt | pmt | pmt | pmt | pmt | pmt | pmt | sub | sub |\n",
       "| e_i | lat | lat | lat | lat | lat | lat | _gr | _gr | s_d | s_d | s_m | s_m | s_o | s_o | s_y | s_y | jec | jec |\n",
       "|  d  | er_ | er_ | er_ | er_ | era | era | oup | oup | pd_ | pd_ | ont | ont | ver | ver | ear | ear | tro | tro |\n",
       "|     | typ | typ | val | val | ls_ | ls_ |  1  |  2  | 107 | 303 | h_1 | h_7 | due | due | _11 | _50 | les | les |\n",
       "|     | ofv | ofv | ueo | ueo | typ | typ |     |     |  3P |  P  | 58T | 06T | _11 | _11 | 39T |  7T | _na | _na |\n",
       "|     | alo | alo | fgu | fgu | eof | eof |     |     |     |     |     |     | 40A | 52A |     |     | me_ | me_ |\n",
       "|     | fgu | fgu | ara | ara | gua | gua |     |     |     |     |     |     |     |     |     |     | 541 | 838 |\n",
       "|     | ara | ara | nte | nte | ran | ran |     |     |     |     |     |     |     |     |     |     |  M  |  M  |\n",
       "|     | nt_ | nt_ | e_1 | e_8 | te_ | te_ |     |     |     |     |     |     |     |     |     |     |     |     |\n",
       "|     | 298 | 407 | 124 | 76L | 359 | 669 |     |     |     |     |     |     |     |     |     |     |     |     |\n",
       "|     |  M  |  M  |  L  |     |  M  |  M  |     |     |     |     |     |     |     |     |     |     |     |     |\n",
       "+=================================================================================================================+\n",
       "| 388 | 8fd | a55 | 0.0 | nul | a55 | c7a |  0  |  0  | nul | nul | 2.0 | nul | nul | nul | 201 | nul | a55 | ab3 |\n",
       "|     | 95e | 475 |     |  l  | 475 | 5ad |     |     |  l  |  l  |     |  l  |  l  |  l  | 8.0 |  l  | 475 | c25 |\n",
       "|     |  4b |  b1 |     |     |  b1 |  39 |     |     |     |     |     |     |     |     |     |     |  b1 |  cf |\n",
       "| 388 | 9a0 | a55 | 0.0 | nul | a55 | c7a |  1  |  0  | nul | nul | 2.0 | nul | nul | nul | 201 | nul | a55 | ab3 |\n",
       "|     | c09 | 475 |     |  l  | 475 | 5ad |     |     |  l  |  l  |     |  l  |  l  |  l  | 8.0 |  l  | 475 | c25 |\n",
       "|     |  5e |  b1 |     |     |  b1 |  39 |     |     |     |     |     |     |     |     |     |     |  b1 |  cf |\n",
       "| 388 | a55 | a55 | nul | nul | a55 | a55 |  0  |  1  | nul | nul | 3.0 | nul | nul | nul | 201 | nul | a55 | a55 |\n",
       "|     | 475 | 475 |  l  |  l  | 475 | 475 |     |     |  l  |  l  |     |  l  |  l  |  l  | 8.0 |  l  | 475 | 475 |\n",
       "|     |  b1 |  b1 |     |     |  b1 |  b1 |     |     |     |     |     |     |     |     |     |     |  b1 |  b1 |\n",
       "+-----+-----+-----+-----+-----+-----+-----+-----+-----+-----+-----+-----+-----+-----+-----+-----+-----+-----+-----+"
      ]
     },
     "metadata": {},
     "output_type": "display_data"
    },
    {
     "name": "stdout",
     "output_type": "stream",
     "text": [
      "\n",
      "===== train_static_0 =====\n",
      "(915995, 168)\n"
     ]
    },
    {
     "data": {
      "text/html": [
       "<div><style>\n",
       ".dataframe > thead > tr,\n",
       ".dataframe > tbody > tr {\n",
       "  text-align: right;\n",
       "  white-space: pre-wrap;\n",
       "}\n",
       "</style>\n",
       "<table border=\"1\" class=\"dataframe\"><thead><tr><th>case_id</th><th>actualdpdtolerance_344P</th><th>amtinstpaidbefduel24m_4187115A</th><th>annuity_780A</th><th>annuitynextmonth_57A</th><th>applicationcnt_361L</th><th>applications30d_658L</th><th>applicationscnt_1086L</th><th>applicationscnt_464L</th><th>applicationscnt_629L</th><th>applicationscnt_867L</th><th>avgdbddpdlast24m_3658932P</th><th>avgdbddpdlast3m_4187120P</th><th>avgdbdtollast24m_4525197P</th><th>avgdpdtolclosure24_3658938P</th><th>avginstallast24m_3658937A</th><th>avglnamtstart24m_4525187A</th><th>avgmaxdpdlast9m_3716943P</th><th>avgoutstandbalancel6m_4187114A</th><th>avgpmtlast12m_4525200A</th><th>bankacctype_710L</th><th>cardtype_51L</th><th>clientscnt12m_3712952L</th><th>clientscnt3m_3712950L</th><th>clientscnt6m_3712949L</th><th>clientscnt_100L</th><th>clientscnt_1022L</th><th>clientscnt_1071L</th><th>clientscnt_1130L</th><th>clientscnt_136L</th><th>clientscnt_157L</th><th>clientscnt_257L</th><th>clientscnt_304L</th><th>clientscnt_360L</th><th>clientscnt_493L</th><th>clientscnt_533L</th><th>clientscnt_887L</th><th>clientscnt_946L</th><th>cntincpaycont9m_3716944L</th><th>cntpmts24_3658933L</th><th>commnoinclast6m_3546845L</th><th>credamount_770A</th><th>credtype_322L</th><th>currdebt_22A</th><th>currdebtcredtyperange_828A</th><th>datefirstoffer_1144D</th><th>datelastinstal40dpd_247D</th><th>datelastunpaid_3546854D</th><th>daysoverduetolerancedd_3976961L</th><th>deferredmnthsnum_166L</th><th>&hellip;</th><th>numinstls_657L</th><th>numinstlsallpaid_934L</th><th>numinstlswithdpd10_728L</th><th>numinstlswithdpd5_4187116L</th><th>numinstlswithoutdpd_562L</th><th>numinstmatpaidtearly2d_4499204L</th><th>numinstpaid_4499208L</th><th>numinstpaidearly3d_3546850L</th><th>numinstpaidearly3dest_4493216L</th><th>numinstpaidearly5d_1087L</th><th>numinstpaidearly5dest_4493211L</th><th>numinstpaidearly5dobd_4499205L</th><th>numinstpaidearly_338L</th><th>numinstpaidearlyest_4493214L</th><th>numinstpaidlastcontr_4325080L</th><th>numinstpaidlate1d_3546852L</th><th>numinstregularpaid_973L</th><th>numinstregularpaidest_4493210L</th><th>numinsttopaygr_769L</th><th>numinsttopaygrest_4493213L</th><th>numinstunpaidmax_3546851L</th><th>numinstunpaidmaxest_4493212L</th><th>numnotactivated_1143L</th><th>numpmtchanneldd_318L</th><th>numrejects9m_859L</th><th>opencred_647L</th><th>paytype1st_925L</th><th>paytype_783L</th><th>payvacationpostpone_4187118D</th><th>pctinstlsallpaidearl3d_427L</th><th>pctinstlsallpaidlat10d_839L</th><th>pctinstlsallpaidlate1d_3546856L</th><th>pctinstlsallpaidlate4d_3546849L</th><th>pctinstlsallpaidlate6d_3546844L</th><th>pmtnum_254L</th><th>posfpd10lastmonth_333P</th><th>posfpd30lastmonth_3976960P</th><th>posfstqpd30lastmonth_3976962P</th><th>previouscontdistrict_112M</th><th>price_1097A</th><th>sellerplacecnt_915L</th><th>sellerplacescnt_216L</th><th>sumoutstandtotal_3546847A</th><th>sumoutstandtotalest_4493215A</th><th>totaldebt_9A</th><th>totalsettled_863A</th><th>totinstallast1m_4525188A</th><th>twobodfilling_608L</th><th>typesuite_864L</th><th>validfrom_1069D</th></tr></thead><tbody><tr><td>0</td><td>null</td><td>null</td><td>1917.599976</td><td>0.0</td><td>0.0</td><td>0.0</td><td>0.0</td><td>0.0</td><td>0.0</td><td>0.0</td><td>null</td><td>null</td><td>null</td><td>null</td><td>null</td><td>null</td><td>null</td><td>null</td><td>null</td><td>null</td><td>null</td><td>0.0</td><td>0.0</td><td>0.0</td><td>0.0</td><td>0.0</td><td>0.0</td><td>0.0</td><td>null</td><td>0.0</td><td>0.0</td><td>0.0</td><td>0.0</td><td>0.0</td><td>0.0</td><td>0.0</td><td>0.0</td><td>null</td><td>null</td><td>0.0</td><td>30000.0</td><td>&quot;CAL&quot;</td><td>0.0</td><td>0.0</td><td>null</td><td>null</td><td>null</td><td>null</td><td>0.0</td><td>&hellip;</td><td>0.0</td><td>null</td><td>null</td><td>null</td><td>null</td><td>null</td><td>null</td><td>null</td><td>null</td><td>null</td><td>null</td><td>null</td><td>null</td><td>null</td><td>null</td><td>null</td><td>null</td><td>null</td><td>null</td><td>null</td><td>null</td><td>null</td><td>0.0</td><td>0.0</td><td>0.0</td><td>null</td><td>&quot;OTHER&quot;</td><td>&quot;OTHER&quot;</td><td>null</td><td>null</td><td>null</td><td>null</td><td>null</td><td>null</td><td>24.0</td><td>0.0</td><td>0.0</td><td>null</td><td>&quot;a55475b1&quot;</td><td>null</td><td>0.0</td><td>0.0</td><td>null</td><td>null</td><td>0.0</td><td>0.0</td><td>null</td><td>&quot;BO&quot;</td><td>null</td><td>null</td></tr><tr><td>1</td><td>null</td><td>null</td><td>3134.0</td><td>0.0</td><td>0.0</td><td>0.0</td><td>0.0</td><td>0.0</td><td>0.0</td><td>0.0</td><td>null</td><td>null</td><td>null</td><td>null</td><td>null</td><td>null</td><td>null</td><td>null</td><td>null</td><td>null</td><td>null</td><td>0.0</td><td>0.0</td><td>0.0</td><td>0.0</td><td>0.0</td><td>0.0</td><td>0.0</td><td>0.0</td><td>3.0</td><td>0.0</td><td>0.0</td><td>0.0</td><td>0.0</td><td>0.0</td><td>0.0</td><td>0.0</td><td>null</td><td>null</td><td>0.0</td><td>19999.800781</td><td>&quot;CAL&quot;</td><td>0.0</td><td>0.0</td><td>null</td><td>null</td><td>null</td><td>null</td><td>0.0</td><td>&hellip;</td><td>0.0</td><td>null</td><td>null</td><td>null</td><td>null</td><td>null</td><td>null</td><td>null</td><td>null</td><td>null</td><td>null</td><td>null</td><td>null</td><td>null</td><td>null</td><td>null</td><td>null</td><td>null</td><td>null</td><td>null</td><td>null</td><td>null</td><td>0.0</td><td>0.0</td><td>0.0</td><td>null</td><td>&quot;OTHER&quot;</td><td>&quot;OTHER&quot;</td><td>null</td><td>null</td><td>null</td><td>null</td><td>null</td><td>null</td><td>18.0</td><td>0.0</td><td>0.0</td><td>null</td><td>&quot;a55475b1&quot;</td><td>null</td><td>0.0</td><td>0.0</td><td>null</td><td>null</td><td>0.0</td><td>0.0</td><td>null</td><td>&quot;BO&quot;</td><td>null</td><td>null</td></tr><tr><td>2</td><td>null</td><td>null</td><td>4937.0</td><td>0.0</td><td>0.0</td><td>0.0</td><td>0.0</td><td>0.0</td><td>0.0</td><td>0.0</td><td>null</td><td>null</td><td>null</td><td>null</td><td>null</td><td>null</td><td>null</td><td>null</td><td>null</td><td>null</td><td>null</td><td>0.0</td><td>0.0</td><td>0.0</td><td>0.0</td><td>0.0</td><td>0.0</td><td>0.0</td><td>null</td><td>0.0</td><td>0.0</td><td>0.0</td><td>0.0</td><td>0.0</td><td>0.0</td><td>0.0</td><td>0.0</td><td>null</td><td>null</td><td>null</td><td>78000.0</td><td>&quot;CAL&quot;</td><td>0.0</td><td>0.0</td><td>null</td><td>null</td><td>null</td><td>null</td><td>0.0</td><td>&hellip;</td><td>0.0</td><td>null</td><td>null</td><td>null</td><td>null</td><td>null</td><td>null</td><td>null</td><td>null</td><td>null</td><td>null</td><td>null</td><td>null</td><td>null</td><td>null</td><td>null</td><td>null</td><td>null</td><td>null</td><td>null</td><td>null</td><td>null</td><td>0.0</td><td>0.0</td><td>0.0</td><td>false</td><td>&quot;OTHER&quot;</td><td>&quot;OTHER&quot;</td><td>null</td><td>null</td><td>null</td><td>null</td><td>null</td><td>null</td><td>36.0</td><td>0.0</td><td>0.0</td><td>null</td><td>&quot;a55475b1&quot;</td><td>null</td><td>0.0</td><td>0.0</td><td>null</td><td>null</td><td>0.0</td><td>0.0</td><td>null</td><td>&quot;BO&quot;</td><td>&quot;AL&quot;</td><td>null</td></tr></tbody></table></div>"
      ],
      "text/plain": [
       "+-----+-----+-----+-----+-----+-----+-----+-----+-----+-----+-----+-----+-----+-----+-----+-----+-----+-----+-----+-----+-----+-----+-----+-----+-----+-----+-----+-----+-----+-----+-----+-----+-----+-----+-----+-----+-----+-----+-----+-----+-----+-----+-----+-----+-----+-----+-----+-----+-----+-----+-----+-----+-----+-----+-----+-----+-----+-----+-----+-----+-----+-----+-----+-----+-----+-----+-----+-----+-----+-----+-----+-----+-----+-----+-----+-----+-----+-----+-----+-----+-----+-----+-----+-----+-----+-----+-----+-----+-----+-----+-----+-----+-----+-----+-----+-----+-----+-----+-----+-----+-----+\n",
       "| cas | act | amt | ann | ann | app | app | app | app | app | app | avg | avg | avg | avg | avg | avg | avg | avg | avg | ban | car | cli | cli | cli | cli | cli | cli | cli | cli | cli | cli | cli | cli | cli | cli | cli | cli | cnt | cnt | com | cre | cre | cur | cur | dat | dat | dat | day | def | ... | num | num | num | num | num | num | num | num | num | num | num | num | num | num | num | num | num | num | num | num | num | num | num | num | num | ope | pay | pay | pay | pct | pct | pct | pct | pct | pmt | pos | pos | pos | pre | pri | sel | sel | sum | sum | tot | tot | tot | two | typ | val |\n",
       "| e_i | ual | ins | uit | uit | lic | lic | lic | lic | lic | lic | dbd | dbd | dbd | dpd | ins | lna | max | out | pmt | kac | dty | ent | ent | ent | ent | ent | ent | ent | ent | ent | ent | ent | ent | ent | ent | ent | ent | inc | pmt | mno | dam | dty | rde | rde | efi | ela | ela | sov | err |     | ins | ins | ins | ins | ins | ins | ins | ins | ins | ins | ins | ins | ins | ins | ins | ins | ins | ins | ins | ins | ins | ins | not | pmt | rej | ncr | typ | typ | vac | ins | ins | ins | ins | ins | num | fpd | fpd | fst | vio | ce_ | ler | ler | out | out | ald | als | ins | bod | esu | idf |\n",
       "|  d  | dpd | tpa | y_7 | yne | ati | ati | ati | ati | ati | ati | dpd | dpd | tol | tol | tal | mts | dpd | sta | las | cty | pe_ | scn | scn | scn | scn | scn | scn | scn | scn | scn | scn | scn | scn | scn | scn | scn | scn | pay | s24 | inc | oun | pe_ | bt_ | btc | rst | sti | stu | erd | edm |     | tls | tls | tls | tls | tls | tma | tpa | tpa | tpa | tpa | tpa | tpa | tpa | tpa | tpa | tpa | tre | tre | tto | tto | tun | tun | act | cha | ect | ed_ | e1s | e_7 | ati | tls | tls | tls | tls | tls | _25 | 10l | 30l | qpd | usc | 109 | pla | pla | sta | sta | ebt | ett | tal | fil | ite | rom |\n",
       "|     | tol | idb | 80A | xtm | onc | ons | ons | ons | ons | ons | las | las | las | clo | las | tar | las | ndb | t12 | pe_ | 51L | t12 | t3m | t6m | t_1 | t_1 | t_1 | t_1 | t_1 | t_1 | t_2 | t_3 | t_3 | t_4 | t_5 | t_8 | t_9 | con | _36 | las | t_7 | 322 | 22A | red | off | nst | npa | uet | nth |     | _65 | all | wit | wit | wit | tpa | id_ | ide | ide | ide | ide | ide | ide | ide | idl | idl | gul | gul | pay | pay | pai | pai | iva | nne | s9m | 647 | t_9 | 83L | onp | all | all | all | all | all |  4L | ast | ast | 30l | ont |  7A | cec | ces | ndt | ndt | _9A | led | las | lin | _86 | _10 |\n",
       "|     | era | efd |     | ont | nt_ | 30d | cnt | cnt | cnt | cnt | t24 | t3m | t24 | sur | t24 | t24 | t9m | ala | m_4 | 710 |     | m_3 | _37 | _37 | 00L | 022 | 071 | 130 | 36L | 57L | 57L | 04L | 60L | 93L | 33L | 87L | 46L | t9m | 589 | t6m | 70A |  L  |     | typ | er_ | al4 | id_ | ole | snu |     |  7L | pai | hdp | hdp | hou | idt | 449 | arl | arl | arl | arl | arl | arl | arl | ast | ate | arp | arp | gr_ | gre | dma | dma | ted | ldd | _85 |  L  | 25L |     | ost | pai | pai | pai | pai | pai |     | mon | mon | ast | dis |     | nt_ | cnt | ota | ota |     | _86 | t1m | g_6 |  4L | 69D |\n",
       "|     | nce | uel |     | h_5 | 361 | _65 | _10 | _46 | _62 | _86 | m_3 | _41 | m_4 | e24 | m_3 | m_4 | _37 | nce | 525 |  L  |     | 712 | 129 | 129 |     |  L  |  L  |  L  |     |     |     |     |     |     |     |     |     | _37 | 33L | _35 |     |     |     | era | 114 | 0dp | 354 | ran | m_1 |     |     | d_9 | d10 | d5_ | tdp | ear | 920 | y3d | y3d | y5d | y5d | y5d | y_3 | yes | con | 1d_ | aid | aid | 769 | st_ | x_3 | xes | _11 | _31 |  9L |     |     |     | pon | dea | dla | dla | dla | dla |     | th_ | th_ | mon | tri |     | 915 | _21 | l_3 | les |     |  3A | _45 | 08L |     |     |\n",
       "|     | _34 | 24m |     |  7A |  L  |  8L | 86L |  4L |  9L |  7L | 658 | 871 | 525 | _36 | 658 | 525 | 169 | l6m | 200 |     |     | 952 | 50L | 49L |     |     |     |     |     |     |     |     |     |     |     |     |     | 169 |     | 468 |     |     |     | nge |  4D | d_2 | 685 | ced | 66L |     |     | 34L | _72 | 418 | d_5 | ly2 |  8L | _35 | est | _10 | est | obd | 38L | t_4 | tr_ | 354 | _97 | est |  L  | 449 | 546 | t_4 | 43L |  8L |     |     |     |     | e_4 | rl3 | t10 | te1 | te4 | te6 |     | 333 | 397 | th_ | ct_ |     |  L  |  6L | 546 | t_4 |     |     | 251 |     |     |     |\n",
       "|     |  4P | _41 |     |     |     |     |     |     |     |     | 932 | 20P | 197 | 589 | 937 | 187 | 43P | _41 |  A  |     |     |  L  |     |     |     |     |     |     |     |     |     |     |     |     |     |     |     | 44L |     | 45L |     |     |     | _82 |     | 47D |  4D | d_3 |     |     |     |     |  8L | 711 | 62L | d_4 |     | 468 | _44 | 87L | _44 | _44 |     | 493 | 432 | 685 |  3L | _44 |     | 321 | 851 | 493 |     |     |     |     |     |     | 187 | d_4 | d_8 | d_3 | d_3 | d_3 |     |  P  | 696 | 397 | 112 |     |     |     | 847 | 493 |     |     | 88A |     |     |     |\n",
       "|     |     | 871 |     |     |     |     |     |     |     |     |  P  |     |  P  | 38P |  A  |  A  |     | 871 |     |     |     |     |     |     |     |     |     |     |     |     |     |     |     |     |     |     |     |     |     |     |     |     |     |  8A |     |     |     | 976 |     |     |     |     |     |  6L |     | 499 |     | 50L | 932 |     | 932 | 992 |     | 214 | 508 |  2L |     | 932 |     |  3L |  L  | 212 |     |     |     |     |     |     | 118 | 27L | 39L | 546 | 546 | 546 |     |     |  0P | 696 |  M  |     |     |     |  A  | 215 |     |     |     |     |     |     |\n",
       "|     |     | 15A |     |     |     |     |     |     |     |     |     |     |     |     |     |     |     | 14A |     |     |     |     |     |     |     |     |     |     |     |     |     |     |     |     |     |     |     |     |     |     |     |     |     |     |     |     |     | 961 |     |     |     |     |     |     |     | 204 |     |     | 16L |     | 11L | 05L |     |  L  |  0L |     |     | 10L |     |     |     |  L  |     |     |     |     |     |     |  D  |     |     | 856 | 849 | 844 |     |     |     |  2P |     |     |     |     |     |  A  |     |     |     |     |     |     |\n",
       "|     |     |     |     |     |     |     |     |     |     |     |     |     |     |     |     |     |     |     |     |     |     |     |     |     |     |     |     |     |     |     |     |     |     |     |     |     |     |     |     |     |     |     |     |     |     |     |     |  L  |     |     |     |     |     |     |     |  L  |     |     |     |     |     |     |     |     |     |     |     |     |     |     |     |     |     |     |     |     |     |     |     |     |     |  L  |  L  |  L  |     |     |     |     |     |     |     |     |     |     |     |     |     |     |     |     |\n",
       "+=============================================================================================================================================================================================================================================================================================================================================================================================================================================================================================================================================================================================================================+\n",
       "|  0  | nul | nul | 191 | 0.0 | 0.0 | 0.0 | 0.0 | 0.0 | 0.0 | 0.0 | nul | nul | nul | nul | nul | nul | nul | nul | nul | nul | nul | 0.0 | 0.0 | 0.0 | 0.0 | 0.0 | 0.0 | 0.0 | nul | 0.0 | 0.0 | 0.0 | 0.0 | 0.0 | 0.0 | 0.0 | 0.0 | nul | nul | 0.0 | 300 | CAL | 0.0 | 0.0 | nul | nul | nul | nul | 0.0 | ... | 0.0 | nul | nul | nul | nul | nul | nul | nul | nul | nul | nul | nul | nul | nul | nul | nul | nul | nul | nul | nul | nul | nul | 0.0 | 0.0 | 0.0 | nul | OTH | OTH | nul | nul | nul | nul | nul | nul | 24. | 0.0 | 0.0 | nul | a55 | nul | 0.0 | 0.0 | nul | nul | 0.0 | 0.0 | nul |  BO | nul | nul |\n",
       "|     |  l  |  l  | 7.5 |     |     |     |     |     |     |     |  l  |  l  |  l  |  l  |  l  |  l  |  l  |  l  |  l  |  l  |  l  |     |     |     |     |     |     |     |  l  |     |     |     |     |     |     |     |     |  l  |  l  |     | 00. |     |     |     |  l  |  l  |  l  |  l  |     |     |     |  l  |  l  |  l  |  l  |  l  |  l  |  l  |  l  |  l  |  l  |  l  |  l  |  l  |  l  |  l  |  l  |  l  |  l  |  l  |  l  |  l  |     |     |     |  l  |  ER |  ER |  l  |  l  |  l  |  l  |  l  |  l  |  0  |     |     |  l  | 475 |  l  |     |     |  l  |  l  |     |     |  l  |     |  l  |  l  |\n",
       "|     |     |     | 999 |     |     |     |     |     |     |     |     |     |     |     |     |     |     |     |     |     |     |     |     |     |     |     |     |     |     |     |     |     |     |     |     |     |     |     |     |     |  0  |     |     |     |     |     |     |     |     |     |     |     |     |     |     |     |     |     |     |     |     |     |     |     |     |     |     |     |     |     |     |     |     |     |     |     |     |     |     |     |     |     |     |     |     |     |     |     |  b1 |     |     |     |     |     |     |     |     |     |     |     |\n",
       "|     |     |     |  76 |     |     |     |     |     |     |     |     |     |     |     |     |     |     |     |     |     |     |     |     |     |     |     |     |     |     |     |     |     |     |     |     |     |     |     |     |     |     |     |     |     |     |     |     |     |     |     |     |     |     |     |     |     |     |     |     |     |     |     |     |     |     |     |     |     |     |     |     |     |     |     |     |     |     |     |     |     |     |     |     |     |     |     |     |     |     |     |     |     |     |     |     |     |     |     |     |     |\n",
       "|  1  | nul | nul | 313 | 0.0 | 0.0 | 0.0 | 0.0 | 0.0 | 0.0 | 0.0 | nul | nul | nul | nul | nul | nul | nul | nul | nul | nul | nul | 0.0 | 0.0 | 0.0 | 0.0 | 0.0 | 0.0 | 0.0 | 0.0 | 3.0 | 0.0 | 0.0 | 0.0 | 0.0 | 0.0 | 0.0 | 0.0 | nul | nul | 0.0 | 199 | CAL | 0.0 | 0.0 | nul | nul | nul | nul | 0.0 | ... | 0.0 | nul | nul | nul | nul | nul | nul | nul | nul | nul | nul | nul | nul | nul | nul | nul | nul | nul | nul | nul | nul | nul | 0.0 | 0.0 | 0.0 | nul | OTH | OTH | nul | nul | nul | nul | nul | nul | 18. | 0.0 | 0.0 | nul | a55 | nul | 0.0 | 0.0 | nul | nul | 0.0 | 0.0 | nul |  BO | nul | nul |\n",
       "|     |  l  |  l  | 4.0 |     |     |     |     |     |     |     |  l  |  l  |  l  |  l  |  l  |  l  |  l  |  l  |  l  |  l  |  l  |     |     |     |     |     |     |     |     |     |     |     |     |     |     |     |     |  l  |  l  |     | 99. |     |     |     |  l  |  l  |  l  |  l  |     |     |     |  l  |  l  |  l  |  l  |  l  |  l  |  l  |  l  |  l  |  l  |  l  |  l  |  l  |  l  |  l  |  l  |  l  |  l  |  l  |  l  |  l  |     |     |     |  l  |  ER |  ER |  l  |  l  |  l  |  l  |  l  |  l  |  0  |     |     |  l  | 475 |  l  |     |     |  l  |  l  |     |     |  l  |     |  l  |  l  |\n",
       "|     |     |     |     |     |     |     |     |     |     |     |     |     |     |     |     |     |     |     |     |     |     |     |     |     |     |     |     |     |     |     |     |     |     |     |     |     |     |     |     |     | 800 |     |     |     |     |     |     |     |     |     |     |     |     |     |     |     |     |     |     |     |     |     |     |     |     |     |     |     |     |     |     |     |     |     |     |     |     |     |     |     |     |     |     |     |     |     |     |     |  b1 |     |     |     |     |     |     |     |     |     |     |     |\n",
       "|     |     |     |     |     |     |     |     |     |     |     |     |     |     |     |     |     |     |     |     |     |     |     |     |     |     |     |     |     |     |     |     |     |     |     |     |     |     |     |     |     | 781 |     |     |     |     |     |     |     |     |     |     |     |     |     |     |     |     |     |     |     |     |     |     |     |     |     |     |     |     |     |     |     |     |     |     |     |     |     |     |     |     |     |     |     |     |     |     |     |     |     |     |     |     |     |     |     |     |     |     |     |\n",
       "|  2  | nul | nul | 493 | 0.0 | 0.0 | 0.0 | 0.0 | 0.0 | 0.0 | 0.0 | nul | nul | nul | nul | nul | nul | nul | nul | nul | nul | nul | 0.0 | 0.0 | 0.0 | 0.0 | 0.0 | 0.0 | 0.0 | nul | 0.0 | 0.0 | 0.0 | 0.0 | 0.0 | 0.0 | 0.0 | 0.0 | nul | nul | nul | 780 | CAL | 0.0 | 0.0 | nul | nul | nul | nul | 0.0 | ... | 0.0 | nul | nul | nul | nul | nul | nul | nul | nul | nul | nul | nul | nul | nul | nul | nul | nul | nul | nul | nul | nul | nul | 0.0 | 0.0 | 0.0 | fal | OTH | OTH | nul | nul | nul | nul | nul | nul | 36. | 0.0 | 0.0 | nul | a55 | nul | 0.0 | 0.0 | nul | nul | 0.0 | 0.0 | nul |  BO |  AL | nul |\n",
       "|     |  l  |  l  | 7.0 |     |     |     |     |     |     |     |  l  |  l  |  l  |  l  |  l  |  l  |  l  |  l  |  l  |  l  |  l  |     |     |     |     |     |     |     |  l  |     |     |     |     |     |     |     |     |  l  |  l  |  l  | 00. |     |     |     |  l  |  l  |  l  |  l  |     |     |     |  l  |  l  |  l  |  l  |  l  |  l  |  l  |  l  |  l  |  l  |  l  |  l  |  l  |  l  |  l  |  l  |  l  |  l  |  l  |  l  |  l  |     |     |     |  se |  ER |  ER |  l  |  l  |  l  |  l  |  l  |  l  |  0  |     |     |  l  | 475 |  l  |     |     |  l  |  l  |     |     |  l  |     |     |  l  |\n",
       "|     |     |     |     |     |     |     |     |     |     |     |     |     |     |     |     |     |     |     |     |     |     |     |     |     |     |     |     |     |     |     |     |     |     |     |     |     |     |     |     |     |  0  |     |     |     |     |     |     |     |     |     |     |     |     |     |     |     |     |     |     |     |     |     |     |     |     |     |     |     |     |     |     |     |     |     |     |     |     |     |     |     |     |     |     |     |     |     |     |     |  b1 |     |     |     |     |     |     |     |     |     |     |     |\n",
       "+-----+-----+-----+-----+-----+-----+-----+-----+-----+-----+-----+-----+-----+-----+-----+-----+-----+-----+-----+-----+-----+-----+-----+-----+-----+-----+-----+-----+-----+-----+-----+-----+-----+-----+-----+-----+-----+-----+-----+-----+-----+-----+-----+-----+-----+-----+-----+-----+-----+-----+-----+-----+-----+-----+-----+-----+-----+-----+-----+-----+-----+-----+-----+-----+-----+-----+-----+-----+-----+-----+-----+-----+-----+-----+-----+-----+-----+-----+-----+-----+-----+-----+-----+-----+-----+-----+-----+-----+-----+-----+-----+-----+-----+-----+-----+-----+-----+-----+-----+-----+-----+"
      ]
     },
     "metadata": {},
     "output_type": "display_data"
    },
    {
     "name": "stdout",
     "output_type": "stream",
     "text": [
      "\n",
      "===== train_applprev_1 =====\n",
      "(3914993, 41)\n"
     ]
    },
    {
     "data": {
      "text/html": [
       "<div><style>\n",
       ".dataframe > thead > tr,\n",
       ".dataframe > tbody > tr {\n",
       "  text-align: right;\n",
       "  white-space: pre-wrap;\n",
       "}\n",
       "</style>\n",
       "<table border=\"1\" class=\"dataframe\"><thead><tr><th>case_id</th><th>actualdpd_943P</th><th>annuity_853A</th><th>approvaldate_319D</th><th>byoccupationinc_3656910L</th><th>cancelreason_3545846M</th><th>childnum_21L</th><th>creationdate_885D</th><th>credacc_actualbalance_314A</th><th>credacc_credlmt_575A</th><th>credacc_maxhisbal_375A</th><th>credacc_minhisbal_90A</th><th>credacc_status_367L</th><th>credacc_transactions_402L</th><th>credamount_590A</th><th>credtype_587L</th><th>currdebt_94A</th><th>dateactivated_425D</th><th>district_544M</th><th>downpmt_134A</th><th>dtlastpmt_581D</th><th>dtlastpmtallstes_3545839D</th><th>education_1138M</th><th>employedfrom_700D</th><th>familystate_726L</th><th>firstnonzeroinstldate_307D</th><th>inittransactioncode_279L</th><th>isbidproduct_390L</th><th>isdebitcard_527L</th><th>mainoccupationinc_437A</th><th>maxdpdtolerance_577P</th><th>num_group1</th><th>outstandingdebt_522A</th><th>pmtnum_8L</th><th>postype_4733339M</th><th>profession_152M</th><th>rejectreason_755M</th><th>rejectreasonclient_4145042M</th><th>revolvingaccount_394A</th><th>status_219L</th><th>tenor_203L</th></tr></thead><tbody><tr><td>2</td><td>0.0</td><td>640.200012</td><td>null</td><td>null</td><td>&quot;a55475b1&quot;</td><td>0.0</td><td>&quot;2013-04-03&quot;</td><td>null</td><td>0.0</td><td>null</td><td>null</td><td>null</td><td>null</td><td>10000.0</td><td>&quot;CAL&quot;</td><td>null</td><td>null</td><td>&quot;P136_108_173&quot;</td><td>0.0</td><td>null</td><td>null</td><td>&quot;P97_36_170&quot;</td><td>&quot;2010-02-15&quot;</td><td>&quot;SINGLE&quot;</td><td>&quot;2013-05-04&quot;</td><td>&quot;CASH&quot;</td><td>false</td><td>null</td><td>8200.0</td><td>null</td><td>0</td><td>null</td><td>24.0</td><td>&quot;a55475b1&quot;</td><td>&quot;a55475b1&quot;</td><td>&quot;a55475b1&quot;</td><td>&quot;a55475b1&quot;</td><td>null</td><td>&quot;D&quot;</td><td>24.0</td></tr><tr><td>2</td><td>0.0</td><td>1682.400024</td><td>null</td><td>null</td><td>&quot;a55475b1&quot;</td><td>0.0</td><td>&quot;2013-04-03&quot;</td><td>null</td><td>0.0</td><td>null</td><td>null</td><td>null</td><td>null</td><td>16000.0</td><td>&quot;CAL&quot;</td><td>null</td><td>null</td><td>&quot;P136_108_173&quot;</td><td>0.0</td><td>null</td><td>null</td><td>&quot;P97_36_170&quot;</td><td>&quot;2010-02-15&quot;</td><td>&quot;SINGLE&quot;</td><td>&quot;2013-05-04&quot;</td><td>&quot;CASH&quot;</td><td>false</td><td>null</td><td>8200.0</td><td>null</td><td>1</td><td>null</td><td>12.0</td><td>&quot;a55475b1&quot;</td><td>&quot;a55475b1&quot;</td><td>&quot;a55475b1&quot;</td><td>&quot;a55475b1&quot;</td><td>null</td><td>&quot;D&quot;</td><td>12.0</td></tr><tr><td>3</td><td>0.0</td><td>6140.0</td><td>null</td><td>null</td><td>&quot;P94_109_143&quot;</td><td>null</td><td>&quot;2019-01-07&quot;</td><td>null</td><td>0.0</td><td>null</td><td>null</td><td>null</td><td>null</td><td>59999.800781</td><td>&quot;CAL&quot;</td><td>null</td><td>null</td><td>&quot;P131_33_167&quot;</td><td>0.0</td><td>null</td><td>null</td><td>&quot;P97_36_170&quot;</td><td>&quot;2018-05-15&quot;</td><td>&quot;MARRIED&quot;</td><td>&quot;2019-02-07&quot;</td><td>&quot;CASH&quot;</td><td>false</td><td>null</td><td>11000.0</td><td>null</td><td>0</td><td>null</td><td>12.0</td><td>&quot;a55475b1&quot;</td><td>&quot;a55475b1&quot;</td><td>&quot;P94_109_143&quot;</td><td>&quot;a55475b1&quot;</td><td>null</td><td>&quot;D&quot;</td><td>12.0</td></tr></tbody></table></div>"
      ],
      "text/plain": [
       "+-----+-----+-----+-----+-----+-----+-----+-----+-----+-----+-----+-----+-----+-----+-----+-----+-----+-----+-----+-----+-----+-----+-----+-----+-----+-----+-----+-----+-----+-----+-----+-----+-----+-----+-----+-----+-----+-----+-----+-----+-----+\n",
       "| cas | act | ann | app | byo | can | chi | cre | cre | cre | cre | cre | cre | cre | cre | cre | cur | dat | dis | dow | dtl | dtl | edu | emp | fam | fir | ini | isb | isd | mai | max | num | out | pmt | pos | pro | rej | rej | rev | sta | ten |\n",
       "| e_i | ual | uit | rov | ccu | cel | ldn | ati | dac | dac | dac | dac | dac | dac | dam | dty | rde | eac | tri | npm | ast | ast | cat | loy | ily | stn | ttr | idp | ebi | noc | dpd | _gr | sta | num | typ | fes | ect | ect | olv | tus | or_ |\n",
       "|  d  | dpd | y_8 | ald | pat | rea | um_ | ond | c_a | c_c | c_m | c_m | c_s | c_t | oun | pe_ | bt_ | tiv | ct_ | t_1 | pmt | pmt | ion | edf | sta | onz | ans | rod | tca | cup | tol | oup | ndi | _8L | e_4 | sio | rea | rea | ing | _21 | 203 |\n",
       "|     | _94 | 53A | ate | ion | son | 21L | ate | ctu | red | axh | inh | tat | ran | t_5 | 587 | 94A | ate | 544 | 34A | _58 | all | _11 | rom | te_ | ero | act | uct | rd_ | ati | era |  1  | ngd |     | 733 | n_1 | son | son | acc |  9L |  L  |\n",
       "|     |  3P |     | _31 | inc | _35 |     | _88 | alb | lmt | isb | isb | us_ | sac | 90A |  L  |     | d_4 |  M  |     |  1D | ste | 38M | _70 | 726 | ins | ion | _39 | 527 | oni | nce |     | ebt |     | 339 | 52M | _75 | cli | oun |     |     |\n",
       "|     |     |     |  9D | _36 | 458 |     |  5D | ala | _57 | al_ | al_ | 367 | tio |     |     |     | 25D |     |     |     | s_3 |     |  0D |  L  | tld | cod |  0L |  L  | nc_ | _57 |     | _52 |     |  M  |     |  5M | ent | t_3 |     |     |\n",
       "|     |     |     |     | 569 | 46M |     |     | nce |  5A | 375 | 90A |  L  | ns_ |     |     |     |     |     |     |     | 545 |     |     |     | ate | e_2 |     |     | 437 |  7P |     |  2A |     |     |     |     | _41 | 94A |     |     |\n",
       "|     |     |     |     | 10L |     |     |     | _31 |     |  A  |     |     | 402 |     |     |     |     |     |     |     | 839 |     |     |     | _30 | 79L |     |     |  A  |     |     |     |     |     |     |     | 450 |     |     |     |\n",
       "|     |     |     |     |     |     |     |     |  4A |     |     |     |     |  L  |     |     |     |     |     |     |     |  D  |     |     |     |  7D |     |     |     |     |     |     |     |     |     |     |     | 42M |     |     |     |\n",
       "+=====================================================================================================================================================================================================================================================+\n",
       "|  2  | 0.0 | 640 | nul | nul | a55 | 0.0 | 201 | nul | 0.0 | nul | nul | nul | nul | 100 | CAL | nul | nul | P13 | 0.0 | nul | nul | P97 | 201 | SIN | 201 | CAS | fal | nul | 820 | nul |  0  | nul | 24. | a55 | a55 | a55 | a55 | nul |  D  | 24. |\n",
       "|     |     | .20 |  l  |  l  | 475 |     | 3-0 |  l  |     |  l  |  l  |  l  |  l  | 00. |     |  l  |  l  | 6_1 |     |  l  |  l  | _36 | 0-0 | GLE | 3-0 |  H  |  se |  l  | 0.0 |  l  |     |  l  |  0  | 475 | 475 | 475 | 475 |  l  |     |  0  |\n",
       "|     |     | 001 |     |     |  b1 |     | 4-0 |     |     |     |     |     |     |  0  |     |     |     | 08_ |     |     |     | _17 | 2-1 |     | 5-0 |     |     |     |     |     |     |     |     |  b1 |  b1 |  b1 |  b1 |     |     |     |\n",
       "|     |     |  2  |     |     |     |     |  3  |     |     |     |     |     |     |     |     |     |     | 173 |     |     |     |  0  |  5  |     |  4  |     |     |     |     |     |     |     |     |     |     |     |     |     |     |     |\n",
       "|  2  | 0.0 | 168 | nul | nul | a55 | 0.0 | 201 | nul | 0.0 | nul | nul | nul | nul | 160 | CAL | nul | nul | P13 | 0.0 | nul | nul | P97 | 201 | SIN | 201 | CAS | fal | nul | 820 | nul |  1  | nul | 12. | a55 | a55 | a55 | a55 | nul |  D  | 12. |\n",
       "|     |     | 2.4 |  l  |  l  | 475 |     | 3-0 |  l  |     |  l  |  l  |  l  |  l  | 00. |     |  l  |  l  | 6_1 |     |  l  |  l  | _36 | 0-0 | GLE | 3-0 |  H  |  se |  l  | 0.0 |  l  |     |  l  |  0  | 475 | 475 | 475 | 475 |  l  |     |  0  |\n",
       "|     |     | 000 |     |     |  b1 |     | 4-0 |     |     |     |     |     |     |  0  |     |     |     | 08_ |     |     |     | _17 | 2-1 |     | 5-0 |     |     |     |     |     |     |     |     |  b1 |  b1 |  b1 |  b1 |     |     |     |\n",
       "|     |     |  24 |     |     |     |     |  3  |     |     |     |     |     |     |     |     |     |     | 173 |     |     |     |  0  |  5  |     |  4  |     |     |     |     |     |     |     |     |     |     |     |     |     |     |     |\n",
       "|  3  | 0.0 | 614 | nul | nul | P94 | nul | 201 | nul | 0.0 | nul | nul | nul | nul | 599 | CAL | nul | nul | P13 | 0.0 | nul | nul | P97 | 201 | MAR | 201 | CAS | fal | nul | 110 | nul |  0  | nul | 12. | a55 | a55 | P94 | a55 | nul |  D  | 12. |\n",
       "|     |     | 0.0 |  l  |  l  | _10 |  l  | 9-0 |  l  |     |  l  |  l  |  l  |  l  | 99. |     |  l  |  l  | 1_3 |     |  l  |  l  | _36 | 8-0 | RIE | 9-0 |  H  |  se |  l  | 00. |  l  |     |  l  |  0  | 475 | 475 | _10 | 475 |  l  |     |  0  |\n",
       "|     |     |     |     |     | 9_1 |     | 1-0 |     |     |     |     |     |     | 800 |     |     |     | 3_1 |     |     |     | _17 | 5-1 |  D  | 2-0 |     |     |     |  0  |     |     |     |     |  b1 |  b1 | 9_1 |  b1 |     |     |     |\n",
       "|     |     |     |     |     |  43 |     |  7  |     |     |     |     |     |     | 781 |     |     |     |  67 |     |     |     |  0  |  5  |     |  7  |     |     |     |     |     |     |     |     |     |     |  43 |     |     |     |     |\n",
       "+-----+-----+-----+-----+-----+-----+-----+-----+-----+-----+-----+-----+-----+-----+-----+-----+-----+-----+-----+-----+-----+-----+-----+-----+-----+-----+-----+-----+-----+-----+-----+-----+-----+-----+-----+-----+-----+-----+-----+-----+-----+"
      ]
     },
     "metadata": {},
     "output_type": "display_data"
    },
    {
     "name": "stdout",
     "output_type": "stream",
     "text": [
      "\n",
      "===== train_applprev_2 =====\n",
      "(8442581, 6)\n"
     ]
    },
    {
     "data": {
      "text/html": [
       "<div><style>\n",
       ".dataframe > thead > tr,\n",
       ".dataframe > tbody > tr {\n",
       "  text-align: right;\n",
       "  white-space: pre-wrap;\n",
       "}\n",
       "</style>\n",
       "<table border=\"1\" class=\"dataframe\"><thead><tr><th>case_id</th><th>cacccardblochreas_147M</th><th>conts_type_509L</th><th>credacc_cards_status_52L</th><th>num_group1</th><th>num_group2</th></tr></thead><tbody><tr><td>2</td><td>null</td><td>&quot;PRIMARY_MOBILE&quot;</td><td>null</td><td>0</td><td>0</td></tr><tr><td>2</td><td>null</td><td>&quot;EMPLOYMENT_PHONE&quot;</td><td>null</td><td>0</td><td>1</td></tr><tr><td>2</td><td>null</td><td>&quot;PRIMARY_MOBILE&quot;</td><td>null</td><td>1</td><td>0</td></tr></tbody></table></div>"
      ],
      "text/plain": [
       "+---------+---------------------+------------------+---------------------+------------+------------+\n",
       "| case_id | cacccardblochreas_1 |  conts_type_509L | credacc_cards_statu | num_group1 | num_group2 |\n",
       "|         |         47M         |                  |        s_52L        |            |            |\n",
       "+==================================================================================================+\n",
       "|    2    |         null        |  PRIMARY_MOBILE  |         null        |      0     |      0     |\n",
       "|    2    |         null        | EMPLOYMENT_PHONE |         null        |      0     |      1     |\n",
       "|    2    |         null        |  PRIMARY_MOBILE  |         null        |      1     |      0     |\n",
       "+---------+---------------------+------------------+---------------------+------------+------------+"
      ]
     },
     "metadata": {},
     "output_type": "display_data"
    },
    {
     "name": "stdout",
     "output_type": "stream",
     "text": [
      "\n",
      "===== train_base =====\n",
      "(915995, 5)\n"
     ]
    },
    {
     "data": {
      "text/html": [
       "<div><style>\n",
       ".dataframe > thead > tr,\n",
       ".dataframe > tbody > tr {\n",
       "  text-align: right;\n",
       "  white-space: pre-wrap;\n",
       "}\n",
       "</style>\n",
       "<table border=\"1\" class=\"dataframe\"><thead><tr><th>case_id</th><th>date_decision</th><th>MONTH</th><th>WEEK_NUM</th><th>target</th></tr></thead><tbody><tr><td>0</td><td>&quot;2019-01-03&quot;</td><td>201901</td><td>0</td><td>0</td></tr><tr><td>1</td><td>&quot;2019-01-03&quot;</td><td>201901</td><td>0</td><td>0</td></tr><tr><td>2</td><td>&quot;2019-01-04&quot;</td><td>201901</td><td>0</td><td>0</td></tr></tbody></table></div>"
      ],
      "text/plain": [
       "+---------+---------------+--------+----------+--------+\n",
       "| case_id | date_decision |  MONTH | WEEK_NUM | target |\n",
       "+======================================================+\n",
       "|    0    |   2019-01-03  | 201901 |     0    |    0   |\n",
       "|    1    |   2019-01-03  | 201901 |     0    |    0   |\n",
       "|    2    |   2019-01-04  | 201901 |     0    |    0   |\n",
       "+---------+---------------+--------+----------+--------+"
      ]
     },
     "metadata": {},
     "output_type": "display_data"
    },
    {
     "name": "stdout",
     "output_type": "stream",
     "text": [
      "\n",
      "===== train_credit_bureau_b_1 =====\n",
      "(51509, 45)\n"
     ]
    },
    {
     "data": {
      "text/html": [
       "<div><style>\n",
       ".dataframe > thead > tr,\n",
       ".dataframe > tbody > tr {\n",
       "  text-align: right;\n",
       "  white-space: pre-wrap;\n",
       "}\n",
       "</style>\n",
       "<table border=\"1\" class=\"dataframe\"><thead><tr><th>case_id</th><th>amount_1115A</th><th>classificationofcontr_1114M</th><th>contractdate_551D</th><th>contractmaturitydate_151D</th><th>contractst_516M</th><th>contracttype_653M</th><th>credlmt_1052A</th><th>credlmt_228A</th><th>credlmt_3940954A</th><th>credor_3940957M</th><th>credquantity_1099L</th><th>credquantity_984L</th><th>debtpastduevalue_732A</th><th>debtvalue_227A</th><th>dpd_550P</th><th>dpd_733P</th><th>dpdmax_851P</th><th>dpdmaxdatemonth_804T</th><th>dpdmaxdateyear_742T</th><th>installmentamount_644A</th><th>installmentamount_833A</th><th>instlamount_892A</th><th>interesteffectiverate_369L</th><th>interestrateyearly_538L</th><th>lastupdate_260D</th><th>maxdebtpduevalodued_3940955A</th><th>num_group1</th><th>numberofinstls_810L</th><th>overdueamountmax_950A</th><th>overdueamountmaxdatemonth_494T</th><th>overdueamountmaxdateyear_432T</th><th>periodicityofpmts_997L</th><th>periodicityofpmts_997M</th><th>pmtdaysoverdue_1135P</th><th>pmtmethod_731M</th><th>pmtnumpending_403L</th><th>purposeofcred_722M</th><th>residualamount_1093A</th><th>residualamount_127A</th><th>residualamount_3940956A</th><th>subjectrole_326M</th><th>subjectrole_43M</th><th>totalamount_503A</th><th>totalamount_881A</th></tr></thead><tbody><tr><td>467</td><td>78000.0</td><td>&quot;ea6782cc&quot;</td><td>&quot;2016-10-25&quot;</td><td>&quot;2019-10-25&quot;</td><td>&quot;7241344e&quot;</td><td>&quot;4257cbed&quot;</td><td>null</td><td>null</td><td>null</td><td>&quot;c5a72b57&quot;</td><td>null</td><td>null</td><td>0.0</td><td>26571.96875</td><td>null</td><td>null</td><td>0.0</td><td>11.0</td><td>2016.0</td><td>null</td><td>null</td><td>2898.76001</td><td>null</td><td>null</td><td>&quot;2019-01-10&quot;</td><td>0.0</td><td>2</td><td>36.0</td><td>0.0</td><td>11.0</td><td>2016.0</td><td>null</td><td>&quot;a0b598e4&quot;</td><td>0.0</td><td>&quot;e914c86c&quot;</td><td>10.0</td><td>&quot;96a8fdfe&quot;</td><td>null</td><td>null</td><td>null</td><td>&quot;a55475b1&quot;</td><td>&quot;a55475b1&quot;</td><td>null</td><td>null</td></tr><tr><td>467</td><td>null</td><td>&quot;ea6782cc&quot;</td><td>&quot;2011-06-15&quot;</td><td>&quot;2031-06-13&quot;</td><td>&quot;7241344e&quot;</td><td>&quot;724be82a&quot;</td><td>3e6</td><td>10000.0</td><td>3e6</td><td>&quot;P164_34_168&quot;</td><td>2.0</td><td>1.0</td><td>null</td><td>null</td><td>0.0</td><td>0.0</td><td>null</td><td>null</td><td>null</td><td>0.0</td><td>0.0</td><td>null</td><td>null</td><td>null</td><td>&quot;2019-01-20&quot;</td><td>null</td><td>0</td><td>null</td><td>null</td><td>null</td><td>null</td><td>null</td><td>&quot;a55475b1&quot;</td><td>null</td><td>&quot;a55475b1&quot;</td><td>null</td><td>&quot;96a8fdfe&quot;</td><td>0.0</td><td>0.0</td><td>null</td><td>&quot;fa4f56f1&quot;</td><td>&quot;ab3c25cf&quot;</td><td>3e6</td><td>10000.0</td></tr><tr><td>467</td><td>null</td><td>&quot;ea6782cc&quot;</td><td>&quot;2019-01-04&quot;</td><td>&quot;2021-08-04&quot;</td><td>&quot;7241344e&quot;</td><td>&quot;724be82a&quot;</td><td>null</td><td>null</td><td>130365.0</td><td>&quot;P164_34_168&quot;</td><td>1.0</td><td>2.0</td><td>null</td><td>null</td><td>0.0</td><td>0.0</td><td>null</td><td>null</td><td>null</td><td>0.0</td><td>26571.96875</td><td>null</td><td>null</td><td>null</td><td>&quot;2019-01-20&quot;</td><td>null</td><td>1</td><td>null</td><td>null</td><td>null</td><td>null</td><td>null</td><td>&quot;a55475b1&quot;</td><td>null</td><td>&quot;a55475b1&quot;</td><td>null</td><td>&quot;96a8fdfe&quot;</td><td>null</td><td>null</td><td>null</td><td>&quot;ab3c25cf&quot;</td><td>&quot;ab3c25cf&quot;</td><td>78000.0</td><td>960000.0</td></tr></tbody></table></div>"
      ],
      "text/plain": [
       "+-----+-----+-----+-----+-----+-----+-----+-----+-----+-----+-----+-----+-----+-----+-----+-----+-----+-----+-----+-----+-----+-----+-----+-----+-----+-----+-----+-----+-----+-----+-----+-----+-----+-----+-----+-----+-----+-----+-----+-----+-----+-----+-----+-----+-----+\n",
       "| cas | amo | cla | con | con | con | con | cre | cre | cre | cre | cre | cre | deb | deb | dpd | dpd | dpd | dpd | dpd | ins | ins | ins | int | int | las | max | num | num | ove | ove | ove | per | per | pmt | pmt | pmt | pur | res | res | res | sub | sub | tot | tot |\n",
       "| e_i | unt | ssi | tra | tra | tra | tra | dlm | dlm | dlm | dor | dqu | dqu | tpa | tva | _55 | _73 | max | max | max | tal | tal | tla | ere | ere | tup | deb | _gr | ber | rdu | rdu | rdu | iod | iod | day | met | num | pos | idu | idu | idu | jec | jec | ala | ala |\n",
       "|  d  | _11 | fic | ctd | ctm | cts | ctt | t_1 | t_2 | t_3 | _39 | ant | ant | std | lue |  0P |  3P | _85 | dat | dat | lme | lme | mou | ste | str | dat | tpd | oup | ofi | eam | eam | eam | ici | ici | sov | hod | pen | eof | ala | ala | ala | tro | tro | mou | mou |\n",
       "|     | 15A | ati | ate | atu | t_5 | ype | 052 | 28A | 940 | 409 | ity | ity | uev | _22 |     |     |  1P | emo | eye | nta | nta | nt_ | ffe | ate | e_2 | uev |  1  | nst | oun | oun | oun | tyo | tyo | erd | _73 | din | cre | mou | mou | mou | le_ | le_ | nt_ | nt_ |\n",
       "|     |     | ono | _55 | rit | 16M | _65 |  A  |     | 954 | 57M | _10 | _98 | alu |  7A |     |     |     | nth | ar_ | mou | mou | 892 | cti | yea | 60D | alo |     | ls_ | tma | tma | tma | fpm | fpm | ue_ |  1M | g_4 | d_7 | nt_ | nt_ | nt_ | 326 | 43M | 503 | 881 |\n",
       "|     |     | fco |  1D | yda |     |  3M |     |     |  A  |     | 99L |  4L | e_7 |     |     |     |     | _80 | 742 | nt_ | nt_ |  A  | ver | rly |     | due |     | 810 | x_9 | xda | xda | ts_ | ts_ | 113 |     | 03L | 22M | 109 | 127 | 394 |  M  |     |  A  |  A  |\n",
       "|     |     | ntr |     | te_ |     |     |     |     |     |     |     |     | 32A |     |     |     |     |  4T |  T  | 644 | 833 |     | ate | _53 |     | d_3 |     |  L  | 50A | tem | tey | 997 | 997 |  5P |     |     |     |  3A |  A  | 095 |     |     |     |     |\n",
       "|     |     | _11 |     | 151 |     |     |     |     |     |     |     |     |     |     |     |     |     |     |     |  A  |  A  |     | _36 |  8L |     | 940 |     |     |     | ont | ear |  L  |  M  |     |     |     |     |     |     |  6A |     |     |     |     |\n",
       "|     |     | 14M |     |  D  |     |     |     |     |     |     |     |     |     |     |     |     |     |     |     |     |     |     |  9L |     |     | 955 |     |     |     | h_4 | _43 |     |     |     |     |     |     |     |     |     |     |     |     |     |\n",
       "|     |     |     |     |     |     |     |     |     |     |     |     |     |     |     |     |     |     |     |     |     |     |     |     |     |     |  A  |     |     |     | 94T |  2T |     |     |     |     |     |     |     |     |     |     |     |     |     |\n",
       "+=============================================================================================================================================================================================================================================================================+\n",
       "| 467 | 780 | ea6 | 201 | 201 | 724 | 425 | nul | nul | nul | c5a | nul | nul | 0.0 | 265 | nul | nul | 0.0 | 11. | 201 | nul | nul | 289 | nul | nul | 201 | 0.0 |  2  | 36. | 0.0 | 11. | 201 | nul | a0b | 0.0 | e91 | 10. | 96a | nul | nul | nul | a55 | a55 | nul | nul |\n",
       "|     | 00. | 782 | 6-1 | 9-1 | 134 | 7cb |  l  |  l  |  l  | 72b |  l  |  l  |     | 71. |  l  |  l  |     |  0  | 6.0 |  l  |  l  | 8.7 |  l  |  l  | 9-0 |     |     |  0  |     |  0  | 6.0 |  l  | 598 |     | 4c8 |  0  | 8fd |  l  |  l  |  l  | 475 | 475 |  l  |  l  |\n",
       "|     |  0  |  cc | 0-2 | 0-2 |  4e |  ed |     |     |     |  57 |     |     |     | 968 |     |     |     |     |     |     |     | 600 |     |     | 1-1 |     |     |     |     |     |     |     |  e4 |     |  6c |     |  fe |     |     |     |  b1 |  b1 |     |     |\n",
       "|     |     |     |  5  |  5  |     |     |     |     |     |     |     |     |     |  75 |     |     |     |     |     |     |     |  1  |     |     |  0  |     |     |     |     |     |     |     |     |     |     |     |     |     |     |     |     |     |     |     |\n",
       "| 467 | nul | ea6 | 201 | 203 | 724 | 724 | 3e6 | 100 | 3e6 | P16 | 2.0 | 1.0 | nul | nul | 0.0 | 0.0 | nul | nul | nul | 0.0 | 0.0 | nul | nul | nul | 201 | nul |  0  | nul | nul | nul | nul | nul | a55 | nul | a55 | nul | 96a | 0.0 | 0.0 | nul | fa4 | ab3 | 3e6 | 100 |\n",
       "|     |  l  | 782 | 1-0 | 1-0 | 134 | be8 |     | 00. |     | 4_3 |     |     |  l  |  l  |     |     |  l  |  l  |  l  |     |     |  l  |  l  |  l  | 9-0 |  l  |     |  l  |  l  |  l  |  l  |  l  | 475 |  l  | 475 |  l  | 8fd |     |     |  l  | f56 | c25 |     | 00. |\n",
       "|     |     |  cc | 6-1 | 6-1 |  4e |  2a |     |  0  |     | 4_1 |     |     |     |     |     |     |     |     |     |     |     |     |     |     | 1-2 |     |     |     |     |     |     |     |  b1 |     |  b1 |     |  fe |     |     |     |  f1 |  cf |     |  0  |\n",
       "|     |     |     |  5  |  3  |     |     |     |     |     |  68 |     |     |     |     |     |     |     |     |     |     |     |     |     |     |  0  |     |     |     |     |     |     |     |     |     |     |     |     |     |     |     |     |     |     |     |\n",
       "| 467 | nul | ea6 | 201 | 202 | 724 | 724 | nul | nul | 130 | P16 | 1.0 | 2.0 | nul | nul | 0.0 | 0.0 | nul | nul | nul | 0.0 | 265 | nul | nul | nul | 201 | nul |  1  | nul | nul | nul | nul | nul | a55 | nul | a55 | nul | 96a | nul | nul | nul | ab3 | ab3 | 780 | 960 |\n",
       "|     |  l  | 782 | 9-0 | 1-0 | 134 | be8 |  l  |  l  | 365 | 4_3 |     |     |  l  |  l  |     |     |  l  |  l  |  l  |     | 71. |  l  |  l  |  l  | 9-0 |  l  |     |  l  |  l  |  l  |  l  |  l  | 475 |  l  | 475 |  l  | 8fd |  l  |  l  |  l  | c25 | c25 | 00. | 000 |\n",
       "|     |     |  cc | 1-0 | 8-0 |  4e |  2a |     |     |  .0 | 4_1 |     |     |     |     |     |     |     |     |     |     | 968 |     |     |     | 1-2 |     |     |     |     |     |     |     |  b1 |     |  b1 |     |  fe |     |     |     |  cf |  cf |  0  |  .0 |\n",
       "|     |     |     |  4  |  4  |     |     |     |     |     |  68 |     |     |     |     |     |     |     |     |     |     |  75 |     |     |     |  0  |     |     |     |     |     |     |     |     |     |     |     |     |     |     |     |     |     |     |     |\n",
       "+-----+-----+-----+-----+-----+-----+-----+-----+-----+-----+-----+-----+-----+-----+-----+-----+-----+-----+-----+-----+-----+-----+-----+-----+-----+-----+-----+-----+-----+-----+-----+-----+-----+-----+-----+-----+-----+-----+-----+-----+-----+-----+-----+-----+-----+"
      ]
     },
     "metadata": {},
     "output_type": "display_data"
    },
    {
     "name": "stdout",
     "output_type": "stream",
     "text": [
      "\n",
      "===== train_credit_bureau_b_2 =====\n",
      "(770498, 6)\n"
     ]
    },
    {
     "data": {
      "text/html": [
       "<div><style>\n",
       ".dataframe > thead > tr,\n",
       ".dataframe > tbody > tr {\n",
       "  text-align: right;\n",
       "  white-space: pre-wrap;\n",
       "}\n",
       "</style>\n",
       "<table border=\"1\" class=\"dataframe\"><thead><tr><th>case_id</th><th>num_group1</th><th>num_group2</th><th>pmts_date_1107D</th><th>pmts_dpdvalue_108P</th><th>pmts_pmtsoverdue_635A</th></tr></thead><tbody><tr><td>467</td><td>0</td><td>0</td><td>&quot;2018-11-15&quot;</td><td>null</td><td>null</td></tr><tr><td>467</td><td>0</td><td>1</td><td>&quot;2018-12-15&quot;</td><td>null</td><td>null</td></tr><tr><td>467</td><td>1</td><td>0</td><td>&quot;2018-12-15&quot;</td><td>null</td><td>null</td></tr></tbody></table></div>"
      ],
      "text/plain": [
       "+---------+------------+------------+-----------------+--------------------+-----------------------+\n",
       "| case_id | num_group1 | num_group2 | pmts_date_1107D | pmts_dpdvalue_108P | pmts_pmtsoverdue_635A |\n",
       "+==================================================================================================+\n",
       "|   467   |      0     |      0     |    2018-11-15   |        null        |          null         |\n",
       "|   467   |      0     |      1     |    2018-12-15   |        null        |          null         |\n",
       "|   467   |      1     |      0     |    2018-12-15   |        null        |          null         |\n",
       "+---------+------------+------------+-----------------+--------------------+-----------------------+"
      ]
     },
     "metadata": {},
     "output_type": "display_data"
    },
    {
     "name": "stdout",
     "output_type": "stream",
     "text": [
      "\n",
      "===== train_debitcard_1 =====\n",
      "(94499, 6)\n"
     ]
    },
    {
     "data": {
      "text/html": [
       "<div><style>\n",
       ".dataframe > thead > tr,\n",
       ".dataframe > tbody > tr {\n",
       "  text-align: right;\n",
       "  white-space: pre-wrap;\n",
       "}\n",
       "</style>\n",
       "<table border=\"1\" class=\"dataframe\"><thead><tr><th>case_id</th><th>last180dayaveragebalance_704A</th><th>last180dayturnover_1134A</th><th>last30dayturnover_651A</th><th>num_group1</th><th>openingdate_857D</th></tr></thead><tbody><tr><td>331</td><td>null</td><td>null</td><td>null</td><td>0</td><td>&quot;2015-03-19&quot;</td></tr><tr><td>390</td><td>null</td><td>null</td><td>null</td><td>0</td><td>&quot;2014-07-23&quot;</td></tr><tr><td>390</td><td>null</td><td>null</td><td>null</td><td>1</td><td>&quot;2015-10-01&quot;</td></tr></tbody></table></div>"
      ],
      "text/plain": [
       "+---------+------------------+------------------+------------------+------------+------------------+\n",
       "| case_id | last180dayaverag | last180dayturnov | last30dayturnove | num_group1 | openingdate_857D |\n",
       "|         |   ebalance_704A  |     er_1134A     |      r_651A      |            |                  |\n",
       "+==================================================================================================+\n",
       "|   331   |       null       |       null       |       null       |      0     |    2015-03-19    |\n",
       "|   390   |       null       |       null       |       null       |      0     |    2014-07-23    |\n",
       "|   390   |       null       |       null       |       null       |      1     |    2015-10-01    |\n",
       "+---------+------------------+------------------+------------------+------------+------------------+"
      ]
     },
     "metadata": {},
     "output_type": "display_data"
    },
    {
     "name": "stdout",
     "output_type": "stream",
     "text": [
      "\n",
      "===== train_deposit_1 =====\n",
      "(87110, 5)\n"
     ]
    },
    {
     "data": {
      "text/html": [
       "<div><style>\n",
       ".dataframe > thead > tr,\n",
       ".dataframe > tbody > tr {\n",
       "  text-align: right;\n",
       "  white-space: pre-wrap;\n",
       "}\n",
       "</style>\n",
       "<table border=\"1\" class=\"dataframe\"><thead><tr><th>case_id</th><th>amount_416A</th><th>contractenddate_991D</th><th>num_group1</th><th>openingdate_313D</th></tr></thead><tbody><tr><td>331</td><td>260.373993</td><td>&quot;2018-03-18&quot;</td><td>0</td><td>&quot;2015-03-19&quot;</td></tr><tr><td>390</td><td>203.602005</td><td>&quot;2017-09-30&quot;</td><td>1</td><td>&quot;2015-10-01&quot;</td></tr><tr><td>390</td><td>223.680008</td><td>null</td><td>2</td><td>&quot;2016-06-08&quot;</td></tr></tbody></table></div>"
      ],
      "text/plain": [
       "+---------+-------------+----------------------+------------+------------------+\n",
       "| case_id | amount_416A | contractenddate_991D | num_group1 | openingdate_313D |\n",
       "+==============================================================================+\n",
       "|   331   |  260.373993 |      2018-03-18      |      0     |    2015-03-19    |\n",
       "|   390   |  203.602005 |      2017-09-30      |      1     |    2015-10-01    |\n",
       "|   390   |  223.680008 |         null         |      2     |    2016-06-08    |\n",
       "+---------+-------------+----------------------+------------+------------------+"
      ]
     },
     "metadata": {},
     "output_type": "display_data"
    },
    {
     "name": "stdout",
     "output_type": "stream",
     "text": [
      "\n",
      "===== train_other_1 =====\n",
      "(30746, 7)\n"
     ]
    },
    {
     "data": {
      "text/html": [
       "<div><style>\n",
       ".dataframe > thead > tr,\n",
       ".dataframe > tbody > tr {\n",
       "  text-align: right;\n",
       "  white-space: pre-wrap;\n",
       "}\n",
       "</style>\n",
       "<table border=\"1\" class=\"dataframe\"><thead><tr><th>case_id</th><th>amtdebitincoming_4809443A</th><th>amtdebitoutgoing_4809440A</th><th>amtdepositbalance_4809441A</th><th>amtdepositincoming_4809444A</th><th>amtdepositoutgoing_4809442A</th><th>num_group1</th></tr></thead><tbody><tr><td>43801</td><td>12466.600586</td><td>12291.200195</td><td>914.200012</td><td>0.0</td><td>304.800018</td><td>0</td></tr><tr><td>43991</td><td>3333.400146</td><td>3273.400146</td><td>0.0</td><td>0.0</td><td>0.0</td><td>0</td></tr><tr><td>44130</td><td>63.799999</td><td>60.799999</td><td>0.0</td><td>0.0</td><td>0.0</td><td>0</td></tr></tbody></table></div>"
      ],
      "text/plain": [
       "+---------+---------------+--------------+--------------+--------------+--------------+------------+\n",
       "| case_id | amtdebitincom | amtdebitoutg | amtdepositba | amtdepositin | amtdepositou | num_group1 |\n",
       "|         |  ing_4809443A | oing_4809440 | lance_480944 | coming_48094 | tgoing_48094 |            |\n",
       "|         |               |       A      |      1A      |      44A     |      42A     |            |\n",
       "+==================================================================================================+\n",
       "|  43801  |  12466.600586 | 12291.200195 |  914.200012  |      0.0     |  304.800018  |      0     |\n",
       "|  43991  |  3333.400146  |  3273.400146 |      0.0     |      0.0     |      0.0     |      0     |\n",
       "|  44130  |   63.799999   |   60.799999  |      0.0     |      0.0     |      0.0     |      0     |\n",
       "+---------+---------------+--------------+--------------+--------------+--------------+------------+"
      ]
     },
     "metadata": {},
     "output_type": "display_data"
    },
    {
     "name": "stdout",
     "output_type": "stream",
     "text": [
      "\n",
      "===== train_person_1 =====\n",
      "(1784148, 37)\n"
     ]
    },
    {
     "data": {
      "text/html": [
       "<div><style>\n",
       ".dataframe > thead > tr,\n",
       ".dataframe > tbody > tr {\n",
       "  text-align: right;\n",
       "  white-space: pre-wrap;\n",
       "}\n",
       "</style>\n",
       "<table border=\"1\" class=\"dataframe\"><thead><tr><th>case_id</th><th>birth_259D</th><th>birthdate_87D</th><th>childnum_185L</th><th>contaddr_district_15M</th><th>contaddr_matchlist_1032L</th><th>contaddr_smempladdr_334L</th><th>contaddr_zipcode_807M</th><th>education_927M</th><th>empl_employedfrom_271D</th><th>empl_employedtotal_800L</th><th>empl_industry_691L</th><th>empladdr_district_926M</th><th>empladdr_zipcode_114M</th><th>familystate_447L</th><th>gender_992L</th><th>housetype_905L</th><th>housingtype_772L</th><th>incometype_1044T</th><th>isreference_387L</th><th>language1_981M</th><th>mainoccupationinc_384A</th><th>maritalst_703L</th><th>num_group1</th><th>personindex_1023L</th><th>persontype_1072L</th><th>persontype_792L</th><th>registaddr_district_1083M</th><th>registaddr_zipcode_184M</th><th>relationshiptoclient_415T</th><th>relationshiptoclient_642T</th><th>remitter_829L</th><th>role_1084L</th><th>role_993L</th><th>safeguarantyflag_411L</th><th>sex_738L</th><th>type_25L</th></tr></thead><tbody><tr><td>0</td><td>&quot;1986-07-01&quot;</td><td>null</td><td>null</td><td>&quot;P88_18_84&quot;</td><td>false</td><td>false</td><td>&quot;P167_100_165&quot;</td><td>&quot;P97_36_170&quot;</td><td>&quot;2017-09-15&quot;</td><td>&quot;MORE_FIVE&quot;</td><td>&quot;OTHER&quot;</td><td>&quot;P142_57_166&quot;</td><td>&quot;P167_100_165&quot;</td><td>&quot;MARRIED&quot;</td><td>null</td><td>null</td><td>null</td><td>&quot;SALARIED_GOVT&quot;</td><td>null</td><td>&quot;P10_39_147&quot;</td><td>10800.0</td><td>null</td><td>0</td><td>0.0</td><td>1.0</td><td>1.0</td><td>&quot;P88_18_84&quot;</td><td>&quot;P167_100_165&quot;</td><td>null</td><td>null</td><td>null</td><td>&quot;CL&quot;</td><td>null</td><td>true</td><td>&quot;F&quot;</td><td>&quot;PRIMARY_MOBILE&quot;</td></tr><tr><td>0</td><td>null</td><td>null</td><td>null</td><td>&quot;a55475b1&quot;</td><td>null</td><td>null</td><td>&quot;a55475b1&quot;</td><td>&quot;a55475b1&quot;</td><td>null</td><td>null</td><td>null</td><td>&quot;a55475b1&quot;</td><td>&quot;a55475b1&quot;</td><td>null</td><td>null</td><td>null</td><td>null</td><td>null</td><td>null</td><td>&quot;a55475b1&quot;</td><td>null</td><td>null</td><td>1</td><td>1.0</td><td>1.0</td><td>4.0</td><td>&quot;a55475b1&quot;</td><td>&quot;a55475b1&quot;</td><td>&quot;SPOUSE&quot;</td><td>null</td><td>false</td><td>&quot;EM&quot;</td><td>null</td><td>null</td><td>null</td><td>&quot;PHONE&quot;</td></tr><tr><td>0</td><td>null</td><td>null</td><td>null</td><td>&quot;a55475b1&quot;</td><td>null</td><td>null</td><td>&quot;a55475b1&quot;</td><td>&quot;a55475b1&quot;</td><td>null</td><td>null</td><td>null</td><td>&quot;a55475b1&quot;</td><td>&quot;a55475b1&quot;</td><td>null</td><td>null</td><td>null</td><td>null</td><td>null</td><td>null</td><td>&quot;a55475b1&quot;</td><td>null</td><td>null</td><td>2</td><td>2.0</td><td>4.0</td><td>5.0</td><td>&quot;a55475b1&quot;</td><td>&quot;a55475b1&quot;</td><td>&quot;COLLEAGUE&quot;</td><td>&quot;SPOUSE&quot;</td><td>false</td><td>&quot;PE&quot;</td><td>null</td><td>null</td><td>null</td><td>&quot;PHONE&quot;</td></tr></tbody></table></div>"
      ],
      "text/plain": [
       "+-----+-----+-----+-----+-----+-----+-----+-----+-----+-----+-----+-----+-----+-----+-----+-----+-----+-----+-----+-----+-----+-----+-----+-----+-----+-----+-----+-----+-----+-----+-----+-----+-----+-----+-----+-----+-----+\n",
       "| cas | bir | bir | chi | con | con | con | con | edu | emp | emp | emp | emp | emp | fam | gen | hou | hou | inc | isr | lan | mai | mar | num | per | per | per | reg | reg | rel | rel | rem | rol | rol | saf | sex | typ |\n",
       "| e_i | th_ | thd | ldn | tad | tad | tad | tad | cat | l_e | l_e | l_i | lad | lad | ily | der | set | sin | ome | efe | gua | noc | ita | _gr | son | son | son | ist | ist | ati | ati | itt | e_1 | e_9 | egu | _73 | e_2 |\n",
       "|  d  | 259 | ate | um_ | dr_ | dr_ | dr_ | dr_ | ion | mpl | mpl | ndu | dr_ | dr_ | sta | _99 | ype | gty | typ | ren | ge1 | cup | lst | oup | ind | typ | typ | add | add | ons | ons | er_ | 084 | 93L | ara |  8L |  5L |\n",
       "|     |  D  | _87 | 185 | dis | mat | sme | zip | _92 | oye | oye | str | dis | zip | te_ |  2L | _90 | pe_ | e_1 | ce_ | _98 | ati | _70 |  1  | ex_ | e_1 | e_7 | r_d | r_z | hip | hip | 829 |  L  |     | nty |     |     |\n",
       "|     |     |  D  |  L  | tri | chl | mpl | cod |  7M | dfr | dto | y_6 | tri | cod | 447 |     |  5L | 772 | 044 | 387 |  1M | oni |  3L |     | 102 | 072 | 92L | ist | ipc | toc | toc |  L  |     |     | fla |     |     |\n",
       "|     |     |     |     | ct_ | ist | add | e_8 |     | om_ | tal | 91L | ct_ | e_1 |  L  |     |     |  L  |  T  |  L  |     | nc_ |     |     |  3L |  L  |     | ric | ode | lie | lie |     |     |     | g_4 |     |     |\n",
       "|     |     |     |     | 15M | _10 | r_3 | 07M |     | 271 | _80 |     | 926 | 14M |     |     |     |     |     |     |     | 384 |     |     |     |     |     | t_1 | _18 | nt_ | nt_ |     |     |     | 11L |     |     |\n",
       "|     |     |     |     |     | 32L | 34L |     |     |  D  |  0L |     |  M  |     |     |     |     |     |     |     |     |  A  |     |     |     |     |     | 083 |  4M | 415 | 642 |     |     |     |     |     |     |\n",
       "|     |     |     |     |     |     |     |     |     |     |     |     |     |     |     |     |     |     |     |     |     |     |     |     |     |     |     |  M  |     |  T  |  T  |     |     |     |     |     |     |\n",
       "+=============================================================================================================================================================================================================================+\n",
       "|  0  | 198 | nul | nul | P88 | fal | fal | P16 | P97 | 201 | MOR | OTH | P14 | P16 | MAR | nul | nul | nul | SAL | nul | P10 | 108 | nul |  0  | 0.0 | 1.0 | 1.0 | P88 | P16 | nul | nul | nul |  CL | nul | tru |  F  | PRI |\n",
       "|     | 6-0 |  l  |  l  | _18 |  se |  se | 7_1 | _36 | 7-0 | E_F |  ER | 2_5 | 7_1 | RIE |  l  |  l  |  l  | ARI |  l  | _39 | 00. |  l  |     |     |     |     | _18 | 7_1 |  l  |  l  |  l  |     |  l  |  e  |     | MAR |\n",
       "|     | 7-0 |     |     | _84 |     |     | 00_ | _17 | 9-1 | IVE |     | 7_1 | 00_ |  D  |     |     |     | ED_ |     | _14 |  0  |     |     |     |     |     | _84 | 00_ |     |     |     |     |     |     |     | Y_M |\n",
       "|     |  1  |     |     |     |     |     | 165 |  0  |  5  |     |     |  66 | 165 |     |     |     |     | GOV |     |  7  |     |     |     |     |     |     |     | 165 |     |     |     |     |     |     |     | OBI |\n",
       "|     |     |     |     |     |     |     |     |     |     |     |     |     |     |     |     |     |     |  T  |     |     |     |     |     |     |     |     |     |     |     |     |     |     |     |     |     |  LE |\n",
       "|  0  | nul | nul | nul | a55 | nul | nul | a55 | a55 | nul | nul | nul | a55 | a55 | nul | nul | nul | nul | nul | nul | a55 | nul | nul |  1  | 1.0 | 1.0 | 4.0 | a55 | a55 | SPO | nul | fal |  EM | nul | nul | nul | PHO |\n",
       "|     |  l  |  l  |  l  | 475 |  l  |  l  | 475 | 475 |  l  |  l  |  l  | 475 | 475 |  l  |  l  |  l  |  l  |  l  |  l  | 475 |  l  |  l  |     |     |     |     | 475 | 475 | USE |  l  |  se |     |  l  |  l  |  l  |  NE |\n",
       "|     |     |     |     |  b1 |     |     |  b1 |  b1 |     |     |     |  b1 |  b1 |     |     |     |     |     |     |  b1 |     |     |     |     |     |     |  b1 |  b1 |     |     |     |     |     |     |     |     |\n",
       "|  0  | nul | nul | nul | a55 | nul | nul | a55 | a55 | nul | nul | nul | a55 | a55 | nul | nul | nul | nul | nul | nul | a55 | nul | nul |  2  | 2.0 | 4.0 | 5.0 | a55 | a55 | COL | SPO | fal |  PE | nul | nul | nul | PHO |\n",
       "|     |  l  |  l  |  l  | 475 |  l  |  l  | 475 | 475 |  l  |  l  |  l  | 475 | 475 |  l  |  l  |  l  |  l  |  l  |  l  | 475 |  l  |  l  |     |     |     |     | 475 | 475 | LEA | USE |  se |     |  l  |  l  |  l  |  NE |\n",
       "|     |     |     |     |  b1 |     |     |  b1 |  b1 |     |     |     |  b1 |  b1 |     |     |     |     |     |     |  b1 |     |     |     |     |     |     |  b1 |  b1 | GUE |     |     |     |     |     |     |     |\n",
       "+-----+-----+-----+-----+-----+-----+-----+-----+-----+-----+-----+-----+-----+-----+-----+-----+-----+-----+-----+-----+-----+-----+-----+-----+-----+-----+-----+-----+-----+-----+-----+-----+-----+-----+-----+-----+-----+"
      ]
     },
     "metadata": {},
     "output_type": "display_data"
    },
    {
     "name": "stdout",
     "output_type": "stream",
     "text": [
      "\n",
      "===== train_person_2 =====\n",
      "(985471, 11)\n"
     ]
    },
    {
     "data": {
      "text/html": [
       "<div><style>\n",
       ".dataframe > thead > tr,\n",
       ".dataframe > tbody > tr {\n",
       "  text-align: right;\n",
       "  white-space: pre-wrap;\n",
       "}\n",
       "</style>\n",
       "<table border=\"1\" class=\"dataframe\"><thead><tr><th>case_id</th><th>addres_district_368M</th><th>addres_role_871L</th><th>addres_zip_823M</th><th>conts_role_79M</th><th>empls_economicalst_849M</th><th>empls_employedfrom_796D</th><th>empls_employer_name_740M</th><th>num_group1</th><th>num_group2</th><th>relatedpersons_role_762T</th></tr></thead><tbody><tr><td>6</td><td>&quot;P55_110_32&quot;</td><td>&quot;CONTACT&quot;</td><td>&quot;P10_68_40&quot;</td><td>&quot;P38_92_157&quot;</td><td>&quot;P164_110_33&quot;</td><td>null</td><td>&quot;a55475b1&quot;</td><td>0</td><td>0</td><td>null</td></tr><tr><td>6</td><td>&quot;P55_110_32&quot;</td><td>&quot;PERMANENT&quot;</td><td>&quot;P10_68_40&quot;</td><td>&quot;a55475b1&quot;</td><td>&quot;a55475b1&quot;</td><td>null</td><td>&quot;a55475b1&quot;</td><td>0</td><td>1</td><td>null</td></tr><tr><td>6</td><td>&quot;P204_92_178&quot;</td><td>&quot;CONTACT&quot;</td><td>&quot;P65_136_169&quot;</td><td>&quot;P38_92_157&quot;</td><td>&quot;P164_110_33&quot;</td><td>null</td><td>&quot;a55475b1&quot;</td><td>1</td><td>0</td><td>&quot;OTHER_RELATIVE&quot;</td></tr></tbody></table></div>"
      ],
      "text/plain": [
       "+--------+--------+--------+--------+--------+--------+--------+--------+--------+--------+--------+\n",
       "| case_i | addres | addres | addres | conts_ | empls_ | empls_ | empls_ | num_gr | num_gr | relate |\n",
       "|    d   | _distr | _role_ | _zip_8 | role_7 | econom | employ | employ |  oup1  |  oup2  | dperso |\n",
       "|        | ict_36 |  871L  |   23M  |   9M   | icalst | edfrom | er_nam |        |        | ns_rol |\n",
       "|        |   8M   |        |        |        |  _849M |  _796D | e_740M |        |        | e_762T |\n",
       "+==================================================================================================+\n",
       "|    6   | P55_11 | CONTAC | P10_68 | P38_92 | P164_1 |  null  | a55475 |    0   |    0   |  null  |\n",
       "|        |  0_32  |    T   |   _40  |  _157  |  10_33 |        |   b1   |        |        |        |\n",
       "|    6   | P55_11 | PERMAN | P10_68 | a55475 | a55475 |  null  | a55475 |    0   |    1   |  null  |\n",
       "|        |  0_32  |   ENT  |   _40  |   b1   |   b1   |        |   b1   |        |        |        |\n",
       "|    6   | P204_9 | CONTAC | P65_13 | P38_92 | P164_1 |  null  | a55475 |    1   |    0   | OTHER_ |\n",
       "|        |  2_178 |    T   |  6_169 |  _157  |  10_33 |        |   b1   |        |        | RELATI |\n",
       "|        |        |        |        |        |        |        |        |        |        |   VE   |\n",
       "+--------+--------+--------+--------+--------+--------+--------+--------+--------+--------+--------+"
      ]
     },
     "metadata": {},
     "output_type": "display_data"
    },
    {
     "name": "stdout",
     "output_type": "stream",
     "text": [
      "\n",
      "===== train_static_cb_0 =====\n",
      "(900348, 53)\n"
     ]
    },
    {
     "data": {
      "text/html": [
       "<div><style>\n",
       ".dataframe > thead > tr,\n",
       ".dataframe > tbody > tr {\n",
       "  text-align: right;\n",
       "  white-space: pre-wrap;\n",
       "}\n",
       "</style>\n",
       "<table border=\"1\" class=\"dataframe\"><thead><tr><th>case_id</th><th>assignmentdate_238D</th><th>assignmentdate_4527235D</th><th>assignmentdate_4955616D</th><th>birthdate_574D</th><th>contractssum_5085716L</th><th>dateofbirth_337D</th><th>dateofbirth_342D</th><th>days120_123L</th><th>days180_256L</th><th>days30_165L</th><th>days360_512L</th><th>days90_310L</th><th>description_5085714M</th><th>education_1103M</th><th>education_88M</th><th>firstquarter_103L</th><th>for3years_128L</th><th>for3years_504L</th><th>for3years_584L</th><th>formonth_118L</th><th>formonth_206L</th><th>formonth_535L</th><th>forquarter_1017L</th><th>forquarter_462L</th><th>forquarter_634L</th><th>fortoday_1092L</th><th>forweek_1077L</th><th>forweek_528L</th><th>forweek_601L</th><th>foryear_618L</th><th>foryear_818L</th><th>foryear_850L</th><th>fourthquarter_440L</th><th>maritalst_385M</th><th>maritalst_893M</th><th>numberofqueries_373L</th><th>pmtaverage_3A</th><th>pmtaverage_4527227A</th><th>pmtaverage_4955615A</th><th>pmtcount_4527229L</th><th>pmtcount_4955617L</th><th>pmtcount_693L</th><th>pmtscount_423L</th><th>pmtssum_45A</th><th>requesttype_4525192L</th><th>responsedate_1012D</th><th>responsedate_4527233D</th><th>responsedate_4917613D</th><th>riskassesment_302T</th><th>riskassesment_940T</th><th>secondquarter_766L</th><th>thirdquarter_1082L</th></tr></thead><tbody><tr><td>357</td><td>null</td><td>null</td><td>null</td><td>&quot;1988-04-01&quot;</td><td>null</td><td>null</td><td>null</td><td>null</td><td>null</td><td>null</td><td>null</td><td>null</td><td>&quot;a55475b1&quot;</td><td>&quot;a55475b1&quot;</td><td>&quot;a55475b1&quot;</td><td>null</td><td>null</td><td>null</td><td>null</td><td>null</td><td>null</td><td>null</td><td>null</td><td>null</td><td>null</td><td>null</td><td>null</td><td>null</td><td>null</td><td>null</td><td>null</td><td>null</td><td>null</td><td>&quot;a55475b1&quot;</td><td>&quot;a55475b1&quot;</td><td>null</td><td>null</td><td>null</td><td>null</td><td>null</td><td>null</td><td>null</td><td>6.0</td><td>6301.399902</td><td>null</td><td>&quot;2019-01-25&quot;</td><td>null</td><td>null</td><td>null</td><td>null</td><td>null</td><td>null</td></tr><tr><td>388</td><td>null</td><td>null</td><td>null</td><td>&quot;1989-04-01&quot;</td><td>null</td><td>&quot;1989-04-01&quot;</td><td>null</td><td>6.0</td><td>8.0</td><td>2.0</td><td>10.0</td><td>4.0</td><td>&quot;a55475b1&quot;</td><td>&quot;a55475b1&quot;</td><td>&quot;a55475b1&quot;</td><td>2.0</td><td>null</td><td>null</td><td>null</td><td>null</td><td>null</td><td>null</td><td>null</td><td>null</td><td>null</td><td>null</td><td>null</td><td>null</td><td>null</td><td>null</td><td>null</td><td>null</td><td>6.0</td><td>&quot;a55475b1&quot;</td><td>&quot;a55475b1&quot;</td><td>10.0</td><td>null</td><td>null</td><td>null</td><td>null</td><td>null</td><td>null</td><td>6.0</td><td>14548.0</td><td>null</td><td>&quot;2019-01-28&quot;</td><td>null</td><td>null</td><td>null</td><td>null</td><td>3.0</td><td>5.0</td></tr><tr><td>405</td><td>null</td><td>null</td><td>null</td><td>&quot;1974-03-01&quot;</td><td>null</td><td>&quot;1974-03-01&quot;</td><td>null</td><td>0.0</td><td>0.0</td><td>0.0</td><td>1.0</td><td>0.0</td><td>&quot;a55475b1&quot;</td><td>&quot;a55475b1&quot;</td><td>&quot;a55475b1&quot;</td><td>0.0</td><td>null</td><td>null</td><td>null</td><td>null</td><td>null</td><td>null</td><td>null</td><td>null</td><td>null</td><td>null</td><td>null</td><td>null</td><td>null</td><td>null</td><td>null</td><td>null</td><td>4.0</td><td>&quot;a55475b1&quot;</td><td>&quot;a55475b1&quot;</td><td>1.0</td><td>null</td><td>null</td><td>null</td><td>null</td><td>null</td><td>null</td><td>6.0</td><td>10498.240234</td><td>null</td><td>&quot;2019-01-21&quot;</td><td>null</td><td>null</td><td>null</td><td>null</td><td>2.0</td><td>0.0</td></tr></tbody></table></div>"
      ],
      "text/plain": [
       "+-----+-----+-----+-----+-----+-----+-----+-----+-----+-----+-----+-----+-----+-----+-----+-----+-----+-----+-----+-----+-----+-----+-----+-----+-----+-----+-----+-----+-----+-----+-----+-----+-----+-----+-----+-----+-----+-----+-----+-----+-----+-----+-----+-----+-----+-----+-----+-----+-----+-----+-----+-----+-----+\n",
       "| cas | ass | ass | ass | bir | con | dat | dat | day | day | day | day | day | des | edu | edu | fir | for | for | for | for | for | for | for | for | for | for | for | for | for | for | for | for | fou | mar | mar | num | pmt | pmt | pmt | pmt | pmt | pmt | pmt | pmt | req | res | res | res | ris | ris | sec | thi |\n",
       "| e_i | ign | ign | ign | thd | tra | eof | eof | s12 | s18 | s30 | s36 | s90 | cri | cat | cat | stq | 3ye | 3ye | 3ye | mon | mon | mon | qua | qua | qua | tod | wee | wee | wee | yea | yea | yea | rth | ita | ita | ber | ave | ave | ave | cou | cou | cou | sco | ssu | ues | pon | pon | pon | kas | kas | ond | rdq |\n",
       "|  d  | men | men | men | ate | cts | bir | bir | 0_1 | 0_2 | _16 | 0_5 | _31 | pti | ion | ion | uar | ars | ars | ars | th_ | th_ | th_ | rte | rte | rte | ay_ | k_1 | k_5 | k_6 | r_6 | r_8 | r_8 | qua | lst | lst | ofq | rag | rag | rag | nt_ | nt_ | nt_ | unt | m_4 | tty | sed | sed | sed | ses | ses | qua | uar |\n",
       "|     | tda | tda | tda | _57 | sum | th_ | th_ | 23L | 56L |  5L | 12L |  0L | on_ | _11 | _88 | ter | _12 | _50 | _58 | 118 | 206 | 535 | r_1 | r_4 | r_6 | 109 | 077 | 28L | 01L | 18L | 18L | 50L | rte | _38 | _89 | uer | e_3 | e_4 | e_4 | 452 | 495 | 693 | _42 |  5A | pe_ | ate | ate | ate | men | men | rte | ter |\n",
       "|     | te_ | te_ | te_ |  4D | _50 | 337 | 342 |     |     |     |     |     | 508 | 03M |  M  | _10 |  8L |  4L |  4L |  L  |  L  |  L  | 017 | 62L | 34L |  2L |  L  |     |     |     |     |     | r_4 |  5M |  3M | ies |  A  | 527 | 955 | 722 | 561 |  L  |  3L |     | 452 | _10 | _45 | _49 | t_3 | t_9 | r_7 | _10 |\n",
       "|     | 238 | 452 | 495 |     | 857 |  D  |  D  |     |     |     |     |     | 571 |     |     |  3L |     |     |     |     |     |     |  L  |     |     |     |     |     |     |     |     |     | 40L |     |     | _37 |     | 227 | 615 |  9L |  7L |     |     |     | 519 | 12D | 272 | 176 | 02T | 40T | 66L | 82L |\n",
       "|     |  D  | 723 | 561 |     | 16L |     |     |     |     |     |     |     |  4M |     |     |     |     |     |     |     |     |     |     |     |     |     |     |     |     |     |     |     |     |     |     |  3L |     |  A  |  A  |     |     |     |     |     |  2L |     | 33D | 13D |     |     |     |     |\n",
       "|     |     |  5D |  6D |     |     |     |     |     |     |     |     |     |     |     |     |     |     |     |     |     |     |     |     |     |     |     |     |     |     |     |     |     |     |     |     |     |     |     |     |     |     |     |     |     |     |     |     |     |     |     |     |     |\n",
       "+=============================================================================================================================================================================================================================================================================================================================+\n",
       "| 357 | nul | nul | nul | 198 | nul | nul | nul | nul | nul | nul | nul | nul | a55 | a55 | a55 | nul | nul | nul | nul | nul | nul | nul | nul | nul | nul | nul | nul | nul | nul | nul | nul | nul | nul | a55 | a55 | nul | nul | nul | nul | nul | nul | nul | 6.0 | 630 | nul | 201 | nul | nul | nul | nul | nul | nul |\n",
       "|     |  l  |  l  |  l  | 8-0 |  l  |  l  |  l  |  l  |  l  |  l  |  l  |  l  | 475 | 475 | 475 |  l  |  l  |  l  |  l  |  l  |  l  |  l  |  l  |  l  |  l  |  l  |  l  |  l  |  l  |  l  |  l  |  l  |  l  | 475 | 475 |  l  |  l  |  l  |  l  |  l  |  l  |  l  |     | 1.3 |  l  | 9-0 |  l  |  l  |  l  |  l  |  l  |  l  |\n",
       "|     |     |     |     | 4-0 |     |     |     |     |     |     |     |     |  b1 |  b1 |  b1 |     |     |     |     |     |     |     |     |     |     |     |     |     |     |     |     |     |     |  b1 |  b1 |     |     |     |     |     |     |     |     | 999 |     | 1-2 |     |     |     |     |     |     |\n",
       "|     |     |     |     |  1  |     |     |     |     |     |     |     |     |     |     |     |     |     |     |     |     |     |     |     |     |     |     |     |     |     |     |     |     |     |     |     |     |     |     |     |     |     |     |     |  02 |     |  5  |     |     |     |     |     |     |\n",
       "| 388 | nul | nul | nul | 198 | nul | 198 | nul | 6.0 | 8.0 | 2.0 | 10. | 4.0 | a55 | a55 | a55 | 2.0 | nul | nul | nul | nul | nul | nul | nul | nul | nul | nul | nul | nul | nul | nul | nul | nul | 6.0 | a55 | a55 | 10. | nul | nul | nul | nul | nul | nul | 6.0 | 145 | nul | 201 | nul | nul | nul | nul | 3.0 | 5.0 |\n",
       "|     |  l  |  l  |  l  | 9-0 |  l  | 9-0 |  l  |     |     |     |  0  |     | 475 | 475 | 475 |     |  l  |  l  |  l  |  l  |  l  |  l  |  l  |  l  |  l  |  l  |  l  |  l  |  l  |  l  |  l  |  l  |     | 475 | 475 |  0  |  l  |  l  |  l  |  l  |  l  |  l  |     | 48. |  l  | 9-0 |  l  |  l  |  l  |  l  |     |     |\n",
       "|     |     |     |     | 4-0 |     | 4-0 |     |     |     |     |     |     |  b1 |  b1 |  b1 |     |     |     |     |     |     |     |     |     |     |     |     |     |     |     |     |     |     |  b1 |  b1 |     |     |     |     |     |     |     |     |  0  |     | 1-2 |     |     |     |     |     |     |\n",
       "|     |     |     |     |  1  |     |  1  |     |     |     |     |     |     |     |     |     |     |     |     |     |     |     |     |     |     |     |     |     |     |     |     |     |     |     |     |     |     |     |     |     |     |     |     |     |     |     |  8  |     |     |     |     |     |     |\n",
       "| 405 | nul | nul | nul | 197 | nul | 197 | nul | 0.0 | 0.0 | 0.0 | 1.0 | 0.0 | a55 | a55 | a55 | 0.0 | nul | nul | nul | nul | nul | nul | nul | nul | nul | nul | nul | nul | nul | nul | nul | nul | 4.0 | a55 | a55 | 1.0 | nul | nul | nul | nul | nul | nul | 6.0 | 104 | nul | 201 | nul | nul | nul | nul | 2.0 | 0.0 |\n",
       "|     |  l  |  l  |  l  | 4-0 |  l  | 4-0 |  l  |     |     |     |     |     | 475 | 475 | 475 |     |  l  |  l  |  l  |  l  |  l  |  l  |  l  |  l  |  l  |  l  |  l  |  l  |  l  |  l  |  l  |  l  |     | 475 | 475 |     |  l  |  l  |  l  |  l  |  l  |  l  |     | 98. |  l  | 9-0 |  l  |  l  |  l  |  l  |     |     |\n",
       "|     |     |     |     | 3-0 |     | 3-0 |     |     |     |     |     |     |  b1 |  b1 |  b1 |     |     |     |     |     |     |     |     |     |     |     |     |     |     |     |     |     |     |  b1 |  b1 |     |     |     |     |     |     |     |     | 240 |     | 1-2 |     |     |     |     |     |     |\n",
       "|     |     |     |     |  1  |     |  1  |     |     |     |     |     |     |     |     |     |     |     |     |     |     |     |     |     |     |     |     |     |     |     |     |     |     |     |     |     |     |     |     |     |     |     |     |     | 234 |     |  1  |     |     |     |     |     |     |\n",
       "+-----+-----+-----+-----+-----+-----+-----+-----+-----+-----+-----+-----+-----+-----+-----+-----+-----+-----+-----+-----+-----+-----+-----+-----+-----+-----+-----+-----+-----+-----+-----+-----+-----+-----+-----+-----+-----+-----+-----+-----+-----+-----+-----+-----+-----+-----+-----+-----+-----+-----+-----+-----+-----+"
      ]
     },
     "metadata": {},
     "output_type": "display_data"
    },
    {
     "name": "stdout",
     "output_type": "stream",
     "text": [
      "\n",
      "===== train_tax_registry_a_1 =====\n",
      "(1968114, 5)\n"
     ]
    },
    {
     "data": {
      "text/html": [
       "<div><style>\n",
       ".dataframe > thead > tr,\n",
       ".dataframe > tbody > tr {\n",
       "  text-align: right;\n",
       "  white-space: pre-wrap;\n",
       "}\n",
       "</style>\n",
       "<table border=\"1\" class=\"dataframe\"><thead><tr><th>case_id</th><th>amount_4527230A</th><th>name_4527232M</th><th>num_group1</th><th>recorddate_4527225D</th></tr></thead><tbody><tr><td>28631</td><td>711.0</td><td>&quot;f980a1ea&quot;</td><td>3</td><td>&quot;2019-09-13&quot;</td></tr><tr><td>28631</td><td>1946.0</td><td>&quot;f980a1ea&quot;</td><td>2</td><td>&quot;2019-09-13&quot;</td></tr><tr><td>28631</td><td>2600.0</td><td>&quot;f980a1ea&quot;</td><td>1</td><td>&quot;2019-09-13&quot;</td></tr></tbody></table></div>"
      ],
      "text/plain": [
       "+---------+-----------------+---------------+------------+---------------------+\n",
       "| case_id | amount_4527230A | name_4527232M | num_group1 | recorddate_4527225D |\n",
       "+==============================================================================+\n",
       "|  28631  |      711.0      |    f980a1ea   |      3     |      2019-09-13     |\n",
       "|  28631  |      1946.0     |    f980a1ea   |      2     |      2019-09-13     |\n",
       "|  28631  |      2600.0     |    f980a1ea   |      1     |      2019-09-13     |\n",
       "+---------+-----------------+---------------+------------+---------------------+"
      ]
     },
     "metadata": {},
     "output_type": "display_data"
    },
    {
     "name": "stdout",
     "output_type": "stream",
     "text": [
      "\n",
      "===== train_tax_registry_b_1 =====\n",
      "(665083, 5)\n"
     ]
    },
    {
     "data": {
      "text/html": [
       "<div><style>\n",
       ".dataframe > thead > tr,\n",
       ".dataframe > tbody > tr {\n",
       "  text-align: right;\n",
       "  white-space: pre-wrap;\n",
       "}\n",
       "</style>\n",
       "<table border=\"1\" class=\"dataframe\"><thead><tr><th>case_id</th><th>amount_4917619A</th><th>deductiondate_4917603D</th><th>name_4917606M</th><th>num_group1</th></tr></thead><tbody><tr><td>49435</td><td>6885.0</td><td>&quot;2019-10-16&quot;</td><td>&quot;6b730375&quot;</td><td>0</td></tr><tr><td>49435</td><td>6885.0</td><td>&quot;2019-10-16&quot;</td><td>&quot;6b730375&quot;</td><td>1</td></tr><tr><td>49435</td><td>6885.0</td><td>&quot;2019-10-16&quot;</td><td>&quot;6b730375&quot;</td><td>2</td></tr></tbody></table></div>"
      ],
      "text/plain": [
       "+---------+-----------------+------------------------+---------------+------------+\n",
       "| case_id | amount_4917619A | deductiondate_4917603D | name_4917606M | num_group1 |\n",
       "+=================================================================================+\n",
       "|  49435  |      6885.0     |       2019-10-16       |    6b730375   |      0     |\n",
       "|  49435  |      6885.0     |       2019-10-16       |    6b730375   |      1     |\n",
       "|  49435  |      6885.0     |       2019-10-16       |    6b730375   |      2     |\n",
       "+---------+-----------------+------------------------+---------------+------------+"
      ]
     },
     "metadata": {},
     "output_type": "display_data"
    },
    {
     "name": "stdout",
     "output_type": "stream",
     "text": [
      "\n",
      "===== train_tax_registry_c_1 =====\n",
      "(2004412, 5)\n"
     ]
    },
    {
     "data": {
      "text/html": [
       "<div><style>\n",
       ".dataframe > thead > tr,\n",
       ".dataframe > tbody > tr {\n",
       "  text-align: right;\n",
       "  white-space: pre-wrap;\n",
       "}\n",
       "</style>\n",
       "<table border=\"1\" class=\"dataframe\"><thead><tr><th>case_id</th><th>employername_160M</th><th>num_group1</th><th>pmtamount_36A</th><th>processingdate_168D</th></tr></thead><tbody><tr><td>357</td><td>&quot;c91b12ff&quot;</td><td>0</td><td>1200.0</td><td>&quot;2019-01-04&quot;</td></tr><tr><td>357</td><td>&quot;c91b12ff&quot;</td><td>1</td><td>1200.0</td><td>&quot;2018-11-28&quot;</td></tr><tr><td>357</td><td>&quot;c91b12ff&quot;</td><td>2</td><td>972.799988</td><td>&quot;2018-11-01&quot;</td></tr></tbody></table></div>"
      ],
      "text/plain": [
       "+---------+-------------------+------------+---------------+---------------------+\n",
       "| case_id | employername_160M | num_group1 | pmtamount_36A | processingdate_168D |\n",
       "+================================================================================+\n",
       "|   357   |      c91b12ff     |      0     |     1200.0    |      2019-01-04     |\n",
       "|   357   |      c91b12ff     |      1     |     1200.0    |      2018-11-28     |\n",
       "|   357   |      c91b12ff     |      2     |   972.799988  |      2018-11-01     |\n",
       "+---------+-------------------+------------+---------------+---------------------+"
      ]
     },
     "metadata": {},
     "output_type": "display_data"
    }
   ],
   "source": [
    "def report_missing(df: pl.DataFrame) -> dict[str,int]:\n",
    "    return {\n",
    "        col: cnt\n",
    "        for col, cnt in df.null_count().to_dicts()[0].items()\n",
    "        if cnt > 0\n",
    "    }\n",
    "\n",
    "for name, df in all_train_tables.items():\n",
    "    print(f\"\\n===== {name} =====\")\n",
    "    print(df.shape)\n",
    "    display(df.head(3))"
   ]
  },
  {
   "cell_type": "code",
   "execution_count": 20,
   "id": "9fb439cf",
   "metadata": {},
   "outputs": [
    {
     "data": {
      "text/html": [
       "<div><style>\n",
       ".dataframe > thead > tr,\n",
       ".dataframe > tbody > tr {\n",
       "  text-align: right;\n",
       "  white-space: pre-wrap;\n",
       "}\n",
       "</style>\n",
       "<table border=\"1\" class=\"dataframe\"><thead><tr><th>table</th><th>total_cells</th><th>null_count</th><th>null_ratio</th></tr></thead><tbody><tr><td>&quot;train_credit_bureau_a_1_0&quot;</td><td>194546348</td><td>146266044</td><td>75.18</td></tr><tr><td>&quot;train_credit_bureau_a_1_1&quot;</td><td>284743887</td><td>184999060</td><td>64.97</td></tr><tr><td>&quot;train_credit_bureau_a_1_2&quot;</td><td>177946631</td><td>112570395</td><td>63.26</td></tr><tr><td>&quot;train_static_cb_0&quot;</td><td>47718444</td><td>29629873</td><td>62.09</td></tr><tr><td>&quot;train_credit_bureau_a_1_3&quot;</td><td>98528089</td><td>61082052</td><td>61.99</td></tr><tr><td>&hellip;</td><td>&hellip;</td><td>&hellip;</td><td>&hellip;</td></tr><tr><td>&quot;train_base&quot;</td><td>4579975</td><td>0</td><td>0.0</td></tr><tr><td>&quot;train_other_1&quot;</td><td>215222</td><td>0</td><td>0.0</td></tr><tr><td>&quot;train_tax_registry_a_1&quot;</td><td>9840570</td><td>0</td><td>0.0</td></tr><tr><td>&quot;train_tax_registry_b_1&quot;</td><td>3325415</td><td>0</td><td>0.0</td></tr><tr><td>&quot;train_tax_registry_c_1&quot;</td><td>10022060</td><td>0</td><td>0.0</td></tr></tbody></table></div>"
      ],
      "text/plain": [
       "+---------------------------+-------------+------------+------------+\n",
       "|           table           | total_cells | null_count | null_ratio |\n",
       "+===================================================================+\n",
       "| train_credit_bureau_a_1_0 |  194546348  |  146266044 |    75.18   |\n",
       "| train_credit_bureau_a_1_1 |  284743887  |  184999060 |    64.97   |\n",
       "| train_credit_bureau_a_1_2 |  177946631  |  112570395 |    63.26   |\n",
       "|     train_static_cb_0     |   47718444  |  29629873  |    62.09   |\n",
       "| train_credit_bureau_a_1_3 |   98528089  |  61082052  |    61.99   |\n",
       "|            ...            |     ...     |     ...    |     ...    |\n",
       "|         train_base        |   4579975   |      0     |     0.0    |\n",
       "|       train_other_1       |    215222   |      0     |     0.0    |\n",
       "|   train_tax_registry_a_1  |   9840570   |      0     |     0.0    |\n",
       "|   train_tax_registry_b_1  |   3325415   |      0     |     0.0    |\n",
       "|   train_tax_registry_c_1  |   10022060  |      0     |     0.0    |\n",
       "+---------------------------+-------------+------------+------------+"
      ]
     },
     "metadata": {},
     "output_type": "display_data"
    },
    {
     "name": "stdout",
     "output_type": "stream",
     "text": [
      "Tabelas com > 30% de missings: 21\n"
     ]
    }
   ],
   "source": [
    "records = []\n",
    "for name, df in optimized_train.items():\n",
    "    n_rows, n_cols = df.shape\n",
    "    total_cells = n_rows * n_cols\n",
    "\n",
    "\n",
    "    nulls_melted = (\n",
    "        df\n",
    "        .null_count()          # DataFrame: cada coluna tem count de nulls\n",
    "        .melt()                # DataFrame com col | value\n",
    "    )\n",
    "\n",
    "    total_missing = int(\n",
    "        nulls_melted\n",
    "        .select(pl.col(\"value\").sum())  # DataFrame com uma única célula\n",
    "        .item()                          # extrai o número puro\n",
    "    )\n",
    "\n",
    "    null_ratio = round(total_missing / total_cells * 100, 2) if total_cells else 0.0\n",
    "\n",
    "    records.append({\n",
    "        \"table\":       name,\n",
    "        \"total_cells\": total_cells,\n",
    "        \"null_count\":  total_missing,\n",
    "        \"null_ratio\":  null_ratio,\n",
    "    })\n",
    "\n",
    "\n",
    "summary = (\n",
    "    pl.DataFrame(records)\n",
    "      .sort(\"null_ratio\", descending=True)\n",
    ")\n",
    "display(summary)\n",
    "\n",
    "qtd = summary.filter(pl.col(\"null_ratio\") > 30).height\n",
    "print(f\"Tabelas com > 30% de missings: {qtd}\")"
   ]
  },
  {
   "cell_type": "markdown",
   "id": "9beeeba5",
   "metadata": {},
   "source": [
    "Mesmo que o dataset principal não apresente valores faltantes, é fundamental que, na fase de pré-processamento, adotemos uma estratégia de imputação para o caso de surgirem gaps em futuras bases ou durante junções. Observamos também que cerca de mais da metade das tabelas auxiliares possui mais de 30 % de valores faltantes, um volume bastante elevado. Para mitigar isso, removeremos automaticamente qualquer coluna que apresente mais de 80 % de dados ausentes e, nas demais, aplicaremos técnicas de imputação adequadas a cada tipo de variável (média/mediana para numéricas, moda ou “missing” explícito para categóricas etc.)."
   ]
  },
  {
   "cell_type": "markdown",
   "id": "ab928a0a",
   "metadata": {},
   "source": [
    "A seguida, vamos definir como trataremos as demais tabelas do dataset. Portanto, para que o processo de leitura e EDA da tabela seja bem sucedido e de maneira eficaz, iremos aplicar algumas transformações nos dados. Para isso, seguiremos algumas premissas:\n",
    "\n",
    "- Tabelas com depth > 1 (que representam medidas retiradas dos dados estáticos) serão agregadas (utilizando \"case_id\") a partir de alguns critérios, são eles:\n",
    "\n",
    "    - Disclaimer: As colunas das tabelas com profundidade possuem identificadores em seus nomes, indicando qual tipo de transformações foram aplicadas nestas tabelas, são elas:\n",
    "        1. **P** (Days over due - Dias em atraso): Medidas que envolvem datas de atrasos, proporções de datas e etc.\n",
    "        2. **M** (Masking categorias - Categorias com máscaras): Categorias como genêro, status e outros dados categóricos\n",
    "        3. **A** (Tranform Ammount - Transformações de quantidade): Quantidades numéricas que foram transformadas ou processadas seguindo alguma lógica\n",
    "        4. **D** (Transform Date - Transformações de datas): Colunas que dizem a respeito sobre datas que foram adicionadas como informações relevantes \n",
    "        5. **T** e **L** (Unespecified Transform - Transformações não inespecificadas): Valores que não se encaixam em nenhuma das outras categorias e não possuem \"tracking\" de informações, entretanto, podem sinalizar informações relevantes ao modelo.\n",
    "\n",
    "    - **Para colunas terminadas em P e A (dados numéricos)**: Será aplicado um casting de tipo e agregações por -> Valor máximo, último valor e média\n",
    "    - **Para colunas terminadas em D**: Será aplicado casting para date e agregações por -> Valor máximo, última data e média\n",
    "    - **Para colunas terminadas em M (Strings)**: Será aplicado um casting para \"category\" e posteriormente agregadas por -> Valor máximo (lexicograficamente o último) e o último valor\n",
    "    - **Para outras colunas**: Definiremos agregações por -> Máximo e último valor \n",
    "\n",
    "Portanto para estes processos ocorrerem de forma harmoniosa e automatizada utilizaremos as classes definidas no pacote funcs.aux_utils.py com o intuito de aplicar tais transformações e ao final juntar todas as tabelas baseado no \"case_id\"."
   ]
  },
  {
   "cell_type": "code",
   "execution_count": 31,
   "id": "c2ea6eeb",
   "metadata": {},
   "outputs": [
    {
     "data": {
      "text/plain": [
       "<module 'funcs.aux_utils' from 'c:\\\\Users\\\\raulw\\\\Documents\\\\projetos\\\\entregas\\\\credit-risk-tec-case-pwd\\\\funcs\\\\aux_utils.py'>"
      ]
     },
     "execution_count": 31,
     "metadata": {},
     "output_type": "execute_result"
    }
   ],
   "source": [
    "import importlib\n",
    "import funcs.aux_utils as f_aux\n",
    "importlib.reload(f_aux)"
   ]
  },
  {
   "cell_type": "code",
   "execution_count": 32,
   "id": "5932f30b",
   "metadata": {},
   "outputs": [
    {
     "ename": "TypeError",
     "evalue": "ExprStringNameSpace.strptime() got an unexpected keyword argument 'fmt'",
     "output_type": "error",
     "traceback": [
      "\u001b[31m---------------------------------------------------------------------------\u001b[39m",
      "\u001b[31mTypeError\u001b[39m                                 Traceback (most recent call last)",
      "\u001b[36mCell\u001b[39m\u001b[36m \u001b[39m\u001b[32mIn[32]\u001b[39m\u001b[32m, line 2\u001b[39m\n\u001b[32m      1\u001b[39m \u001b[38;5;66;03m# depois de carregar e agregar...\u001b[39;00m\n\u001b[32m----> \u001b[39m\u001b[32m2\u001b[39m aggregated = \u001b[43mf_aux\u001b[49m\u001b[43m.\u001b[49m\u001b[43mAggregator\u001b[49m\u001b[43m.\u001b[49m\u001b[43maggregate_depth_tables\u001b[49m\u001b[43m(\u001b[49m\n\u001b[32m      3\u001b[39m \u001b[43m    \u001b[49m\u001b[43mtables\u001b[49m\u001b[43m     \u001b[49m\u001b[43m=\u001b[49m\u001b[43m \u001b[49m\u001b[43moptimized_train\u001b[49m\u001b[43m,\u001b[49m\n\u001b[32m      4\u001b[39m \u001b[43m    \u001b[49m\u001b[43mstatic_key\u001b[49m\u001b[43m \u001b[49m\u001b[43m=\u001b[49m\u001b[43m \u001b[49m\u001b[33;43m\"\u001b[39;49m\u001b[33;43mtrain_base\u001b[39;49m\u001b[33;43m\"\u001b[39;49m\n\u001b[32m      5\u001b[39m \u001b[43m)\u001b[49m\n\u001b[32m      7\u001b[39m \u001b[38;5;66;03m# 3) Una com a sua tabela base\u001b[39;00m\n\u001b[32m      8\u001b[39m df_train = f_aux.Aggregator.merge_all(\n\u001b[32m      9\u001b[39m     tables     = optimized_train,\n\u001b[32m     10\u001b[39m     aggregated = aggregated,\n\u001b[32m     11\u001b[39m     static_key = \u001b[33m\"\u001b[39m\u001b[33mtrain_base\u001b[39m\u001b[33m\"\u001b[39m\n\u001b[32m     12\u001b[39m )\n",
      "\u001b[36mFile \u001b[39m\u001b[32mc:\\Users\\raulw\\Documents\\projetos\\entregas\\credit-risk-tec-case-pwd\\funcs\\aux_utils.py:270\u001b[39m, in \u001b[36mAggregator.aggregate_depth_tables\u001b[39m\u001b[34m(tables, static_key)\u001b[39m\n\u001b[32m    259\u001b[39m     aggs += [\n\u001b[32m    260\u001b[39m         pl.col(c).max().alias(\u001b[33mf\u001b[39m\u001b[33m\"\u001b[39m\u001b[38;5;132;01m{\u001b[39;00mc\u001b[38;5;132;01m}\u001b[39;00m\u001b[33m_max\u001b[39m\u001b[33m\"\u001b[39m),\n\u001b[32m    261\u001b[39m         pl.col(c).last().alias(\u001b[33mf\u001b[39m\u001b[33m\"\u001b[39m\u001b[38;5;132;01m{\u001b[39;00mc\u001b[38;5;132;01m}\u001b[39;00m\u001b[33m_last\u001b[39m\u001b[33m\"\u001b[39m),\n\u001b[32m    262\u001b[39m         pl.col(c).mean().alias(\u001b[33mf\u001b[39m\u001b[33m\"\u001b[39m\u001b[38;5;132;01m{\u001b[39;00mc\u001b[38;5;132;01m}\u001b[39;00m\u001b[33m_mean\u001b[39m\u001b[33m\"\u001b[39m),\n\u001b[32m    263\u001b[39m     ]\n\u001b[32m    265\u001b[39m \u001b[38;5;28;01melif\u001b[39;00m c.endswith(\u001b[33m\"\u001b[39m\u001b[33mD\u001b[39m\u001b[33m\"\u001b[39m):\n\u001b[32m    266\u001b[39m     \u001b[38;5;66;03m# primeiro garante que a coluna seja string\u001b[39;00m\n\u001b[32m    267\u001b[39m     df_norm = df_norm.with_columns(\n\u001b[32m    268\u001b[39m         \u001b[43mpl\u001b[49m\u001b[43m.\u001b[49m\u001b[43mcol\u001b[49m\u001b[43m(\u001b[49m\u001b[43mc\u001b[49m\u001b[43m)\u001b[49m\n\u001b[32m    269\u001b[39m \u001b[43m          \u001b[49m\u001b[43m.\u001b[49m\u001b[43mcast\u001b[49m\u001b[43m(\u001b[49m\u001b[43mpl\u001b[49m\u001b[43m.\u001b[49m\u001b[43mUtf8\u001b[49m\u001b[43m)\u001b[49m\n\u001b[32m--> \u001b[39m\u001b[32m270\u001b[39m \u001b[43m          \u001b[49m\u001b[43m.\u001b[49m\u001b[43mstr\u001b[49m\u001b[43m.\u001b[49m\u001b[43mstrptime\u001b[49m\u001b[43m(\u001b[49m\u001b[43mpl\u001b[49m\u001b[43m.\u001b[49m\u001b[43mDate\u001b[49m\u001b[43m,\u001b[49m\u001b[43m \u001b[49m\u001b[43mfmt\u001b[49m\u001b[43m=\u001b[49m\u001b[33;43m\"\u001b[39;49m\u001b[33;43m%\u001b[39;49m\u001b[33;43mY-\u001b[39;49m\u001b[33;43m%\u001b[39;49m\u001b[33;43mm-\u001b[39;49m\u001b[38;5;132;43;01m%d\u001b[39;49;00m\u001b[33;43m\"\u001b[39;49m\u001b[43m)\u001b[49m\n\u001b[32m    271\u001b[39m           .alias(c)\n\u001b[32m    272\u001b[39m     )\n\u001b[32m    273\u001b[39m     aggs += [\n\u001b[32m    274\u001b[39m         pl.col(c).max().alias(\u001b[33mf\u001b[39m\u001b[33m\"\u001b[39m\u001b[38;5;132;01m{\u001b[39;00mc\u001b[38;5;132;01m}\u001b[39;00m\u001b[33m_max\u001b[39m\u001b[33m\"\u001b[39m),\n\u001b[32m    275\u001b[39m         pl.col(c).last().alias(\u001b[33mf\u001b[39m\u001b[33m\"\u001b[39m\u001b[38;5;132;01m{\u001b[39;00mc\u001b[38;5;132;01m}\u001b[39;00m\u001b[33m_last\u001b[39m\u001b[33m\"\u001b[39m),\n\u001b[32m    276\u001b[39m         pl.col(c).mean().alias(\u001b[33mf\u001b[39m\u001b[33m\"\u001b[39m\u001b[38;5;132;01m{\u001b[39;00mc\u001b[38;5;132;01m}\u001b[39;00m\u001b[33m_mean\u001b[39m\u001b[33m\"\u001b[39m),\n\u001b[32m    277\u001b[39m     ]\n\u001b[32m    279\u001b[39m \u001b[38;5;28;01melif\u001b[39;00m c.endswith(\u001b[33m\"\u001b[39m\u001b[33mM\u001b[39m\u001b[33m\"\u001b[39m):\n",
      "\u001b[31mTypeError\u001b[39m: ExprStringNameSpace.strptime() got an unexpected keyword argument 'fmt'"
     ]
    }
   ],
   "source": [
    "# depois de carregar e agregar...\n",
    "aggregated = f_aux.Aggregator.aggregate_depth_tables(\n",
    "    tables     = optimized_train,\n",
    "    static_key = \"train_base\"\n",
    ")\n",
    "\n",
    "# 3) Una com a sua tabela base\n",
    "df_train = f_aux.Aggregator.merge_all(\n",
    "    tables     = optimized_train,\n",
    "    aggregated = aggregated,\n",
    "    static_key = \"train_base\"\n",
    ")\n"
   ]
  }
 ],
 "metadata": {
  "kernelspec": {
   "display_name": "venv",
   "language": "python",
   "name": "python3"
  },
  "language_info": {
   "codemirror_mode": {
    "name": "ipython",
    "version": 3
   },
   "file_extension": ".py",
   "mimetype": "text/x-python",
   "name": "python",
   "nbconvert_exporter": "python",
   "pygments_lexer": "ipython3",
   "version": "3.13.3"
  }
 },
 "nbformat": 4,
 "nbformat_minor": 5
}
